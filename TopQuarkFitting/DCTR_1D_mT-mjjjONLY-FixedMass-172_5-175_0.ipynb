{
 "cells": [
  {
   "cell_type": "markdown",
   "metadata": {},
   "source": [
    "# Top Mass DCTR 1D - $m_{jjj}$"
   ]
  },
  {
   "cell_type": "markdown",
   "metadata": {},
   "source": [
    "This notebook attempts to train and validate a DCTR model that reweights __only__ $m_T = 172.5 \\rightarrow 175.0$ using only reconstructed hadronic mass $m_{jjj}$ for each event"
   ]
  },
  {
   "cell_type": "code",
   "execution_count": 1,
   "metadata": {
    "ExecuteTime": {
     "end_time": "2020-06-09T19:22:26.409038Z",
     "start_time": "2020-06-09T19:22:26.405542Z"
    }
   },
   "outputs": [],
   "source": [
    "import os\n",
    "os.environ[\"CUDA_DEVICE_ORDER\"]=\"PCI_BUS_ID\"\n",
    "os.environ[\"CUDA_VISIBLE_DEVICES\"]=\"3\""
   ]
  },
  {
   "cell_type": "code",
   "execution_count": 2,
   "metadata": {
    "ExecuteTime": {
     "end_time": "2020-06-09T19:22:28.329199Z",
     "start_time": "2020-06-09T19:22:26.411360Z"
    }
   },
   "outputs": [
    {
     "name": "stderr",
     "output_type": "stream",
     "text": [
      "Using TensorFlow backend.\n"
     ]
    }
   ],
   "source": [
    "# standard library imports\n",
    "from __future__ import absolute_import, division, print_function\n",
    "\n",
    "import tensorflow as tf\n",
    "import numpy as np\n",
    "from matplotlib import pyplot as plt\n",
    "from sklearn.utils import shuffle\n",
    "from sklearn.model_selection import train_test_split\n",
    "from keras.utils import to_categorical\n",
    "from keras import Sequential\n",
    "from keras.layers import Lambda, Dense, Input, Layer, Dropout\n",
    "from keras.models import Model\n",
    "from keras.utils import to_categorical\n",
    "from keras.callbacks import LambdaCallback, EarlyStopping\n",
    "import keras.backend as K\n",
    "import keras\n",
    "\n",
    "\n",
    "import inspect\n",
    "\n",
    "# standard numerical library imports\n",
    "import numpy as np\n",
    "import scipy as sp\n",
    "\n",
    "# energyflow imports\n",
    "import energyflow as ef\n",
    "from energyflow.archs import PFN\n",
    "from energyflow.utils import data_split, remap_pids, to_categorical\n",
    "\n",
    "import matplotlib.pyplot as plt"
   ]
  },
  {
   "cell_type": "markdown",
   "metadata": {},
   "source": [
    "## Process Data"
   ]
  },
  {
   "cell_type": "code",
   "execution_count": 3,
   "metadata": {
    "ExecuteTime": {
     "end_time": "2020-06-09T19:22:28.334239Z",
     "start_time": "2020-06-09T19:22:28.331394Z"
    }
   },
   "outputs": [],
   "source": [
    "# Path to downloaded data from Zenodo\n",
    "data_dir0 = '/data1/users/aandreassen/DCTRFitting/'\n",
    "data_dir1 = '/data1/users/asuresh/DCTRFitting/'"
   ]
  },
  {
   "cell_type": "code",
   "execution_count": 4,
   "metadata": {
    "ExecuteTime": {
     "end_time": "2020-06-09T19:22:28.358508Z",
     "start_time": "2020-06-09T19:22:28.336069Z"
    }
   },
   "outputs": [
    {
     "name": "stdout",
     "output_type": "stream",
     "text": [
      "(287065, 1)\n",
      "(294294, 1)\n"
     ]
    }
   ],
   "source": [
    "# fetch m_jjj vals from default dataset\n",
    "train_dataset_0_mjjj = np.load(data_dir0 + 'part_172_5_6j_obs.npy')[:, :1]\n",
    "train_dataset_0_mjjj_x4 = np.load(data_dir1 +\n",
    "                                  'part_172_5_6j_obs_x4.npy')[:, :1]\n",
    "# combine orignal and x4 samples\n",
    "train_dataset_0_mjjj = np.concatenate(\n",
    "    (train_dataset_0_mjjj, train_dataset_0_mjjj_x4))\n",
    "\n",
    "print(np.shape(train_dataset_0_mjjj))\n",
    "\n",
    "# fetch m_jjj vals from varied dataset\n",
    "train_dataset_1_mjjj = np.load(data_dir0 + 'part_175_0_6j_obs.npy')[:, :1]\n",
    "train_dataset_1_mjjj_x4 = np.load(data_dir1 +\n",
    "                                  'part_175_0_6j_obs_x4.npy')[:, :1]\n",
    "# combine orignal and x4 samples\n",
    "train_dataset_1_mjjj = np.concatenate(\n",
    "    (train_dataset_1_mjjj,\n",
    "     train_dataset_1_mjjj_x4))  #[:len(train_dataset_0_mjjj)]\n",
    "\n",
    "print(np.shape(train_dataset_1_mjjj))"
   ]
  },
  {
   "cell_type": "markdown",
   "metadata": {},
   "source": [
    "The model will see an unequal number of events from the uniformly sampled mass data and the fixed mass data. We will have to correct this with a liklihood ratio factor when reweighting."
   ]
  },
  {
   "cell_type": "code",
   "execution_count": 5,
   "metadata": {
    "ExecuteTime": {
     "end_time": "2020-06-09T19:22:28.363704Z",
     "start_time": "2020-06-09T19:22:28.360226Z"
    }
   },
   "outputs": [
    {
     "name": "stdout",
     "output_type": "stream",
     "text": [
      "1.0251824499677773\n"
     ]
    }
   ],
   "source": [
    "X0 = train_dataset_0_mjjj\n",
    "X1 = train_dataset_1_mjjj\n",
    "\n",
    "print(len(X1)/len(X0)) # different sizes if != 1"
   ]
  },
  {
   "cell_type": "code",
   "execution_count": 6,
   "metadata": {
    "ExecuteTime": {
     "end_time": "2020-06-09T19:22:28.373286Z",
     "start_time": "2020-06-09T19:22:28.365134Z"
    }
   },
   "outputs": [],
   "source": [
    "Y0 = np.zeros_like(X0[:,0])\n",
    "Y1 = np.ones_like(X1[:,0])"
   ]
  },
  {
   "cell_type": "code",
   "execution_count": 7,
   "metadata": {
    "ExecuteTime": {
     "end_time": "2020-06-09T19:22:28.396746Z",
     "start_time": "2020-06-09T19:22:28.377130Z"
    }
   },
   "outputs": [],
   "source": [
    "X = np.concatenate((X0, X1), axis = 0)\n",
    "X /= 100.\n",
    "\n",
    "Y = np.concatenate((Y0, Y1), axis = 0)\n",
    "Y = to_categorical(Y, num_classes=2)"
   ]
  },
  {
   "cell_type": "code",
   "execution_count": 8,
   "metadata": {
    "ExecuteTime": {
     "end_time": "2020-06-09T19:22:28.441945Z",
     "start_time": "2020-06-09T19:22:28.399189Z"
    }
   },
   "outputs": [],
   "source": [
    "X_train, X_val, Y_train, Y_val = data_split(X, Y, test=0.2, shuffle=True)"
   ]
  },
  {
   "cell_type": "code",
   "execution_count": 9,
   "metadata": {
    "ExecuteTime": {
     "end_time": "2020-06-09T19:22:28.447433Z",
     "start_time": "2020-06-09T19:22:28.443674Z"
    }
   },
   "outputs": [
    {
     "name": "stdout",
     "output_type": "stream",
     "text": [
      "(465088, 1)\n",
      "(465088, 2)\n",
      "(116271, 1)\n",
      "(116271, 2)\n"
     ]
    }
   ],
   "source": [
    "print(X_train.shape)\n",
    "print(Y_train.shape)\n",
    "\n",
    "print(X_val.shape)\n",
    "print(Y_val.shape)"
   ]
  },
  {
   "cell_type": "markdown",
   "metadata": {},
   "source": [
    "## Build Model"
   ]
  },
  {
   "cell_type": "code",
   "execution_count": 10,
   "metadata": {
    "ExecuteTime": {
     "end_time": "2020-06-09T19:22:28.535341Z",
     "start_time": "2020-06-09T19:22:28.449015Z"
    }
   },
   "outputs": [
    {
     "name": "stdout",
     "output_type": "stream",
     "text": [
      "WARNING:tensorflow:From /home/asuresh/.local/lib/python3.5/site-packages/keras/backend/tensorflow_backend.py:74: The name tf.get_default_graph is deprecated. Please use tf.compat.v1.get_default_graph instead.\n",
      "\n",
      "WARNING:tensorflow:From /home/asuresh/.local/lib/python3.5/site-packages/keras/backend/tensorflow_backend.py:517: The name tf.placeholder is deprecated. Please use tf.compat.v1.placeholder instead.\n",
      "\n",
      "WARNING:tensorflow:From /home/asuresh/.local/lib/python3.5/site-packages/keras/backend/tensorflow_backend.py:4138: The name tf.random_uniform is deprecated. Please use tf.random.uniform instead.\n",
      "\n",
      "WARNING:tensorflow:From /home/asuresh/.local/lib/python3.5/site-packages/keras/optimizers.py:790: The name tf.train.Optimizer is deprecated. Please use tf.compat.v1.train.Optimizer instead.\n",
      "\n",
      "WARNING:tensorflow:From /home/asuresh/.local/lib/python3.5/site-packages/keras/backend/tensorflow_backend.py:3295: The name tf.log is deprecated. Please use tf.math.log instead.\n",
      "\n"
     ]
    }
   ],
   "source": [
    "inputs = Input((1,))\n",
    "hidden_layer_1 = Dense(50, activation='relu')(inputs)\n",
    "hidden_layer_2 = Dense(50, activation='relu')(hidden_layer_1)\n",
    "hidden_layer_3 = Dense(50, activation='relu')(hidden_layer_2)\n",
    "\n",
    "outputs = Dense(2, activation='softmax')(hidden_layer_3)\n",
    "\n",
    "dctr = Model(inputs = inputs, outputs = outputs)\n",
    "dctr.compile(loss='categorical_crossentropy', optimizer='Adam')"
   ]
  },
  {
   "cell_type": "markdown",
   "metadata": {},
   "source": [
    "## Train model"
   ]
  },
  {
   "cell_type": "markdown",
   "metadata": {},
   "source": [
    "Model has a tendency to initialize at trivial minima of the loss function (loss ~ 8 or loss ~7); the mode's outputs are all [1, 0] or all [0, 1] respecively in these cases. We do 100 iterations of initializations to explore the fraction of initiziations that succeed in being able to train a non-trivial model(loss after first epoch ~1), and keep the weights from such a model to complete the rest of training."
   ]
  },
  {
   "cell_type": "code",
   "execution_count": 11,
   "metadata": {
    "ExecuteTime": {
     "end_time": "2020-06-09T19:27:21.110803Z",
     "start_time": "2020-06-09T19:22:28.536824Z"
    }
   },
   "outputs": [
    {
     "name": "stdout",
     "output_type": "stream",
     "text": [
      "Iteration:  0\n",
      "WARNING:tensorflow:From /home/asuresh/.local/lib/python3.5/site-packages/keras/backend/tensorflow_backend.py:95: The name tf.reset_default_graph is deprecated. Please use tf.compat.v1.reset_default_graph instead.\n",
      "\n",
      "WARNING:tensorflow:From /home/asuresh/.local/lib/python3.5/site-packages/keras/backend/tensorflow_backend.py:98: The name tf.placeholder_with_default is deprecated. Please use tf.compat.v1.placeholder_with_default instead.\n",
      "\n",
      "WARNING:tensorflow:From /home/asuresh/.local/lib/python3.5/site-packages/tensorflow_core/python/ops/math_grad.py:1424: where (from tensorflow.python.ops.array_ops) is deprecated and will be removed in a future version.\n",
      "Instructions for updating:\n",
      "Use tf.where in 2.0, which has the same broadcast rule as np.where\n",
      "WARNING:tensorflow:From /home/asuresh/.local/lib/python3.5/site-packages/keras/backend/tensorflow_backend.py:986: The name tf.assign_add is deprecated. Please use tf.compat.v1.assign_add instead.\n",
      "\n",
      "WARNING:tensorflow:From /home/asuresh/.local/lib/python3.5/site-packages/keras/backend/tensorflow_backend.py:973: The name tf.assign is deprecated. Please use tf.compat.v1.assign instead.\n",
      "\n",
      "WARNING:tensorflow:From /home/asuresh/.local/lib/python3.5/site-packages/keras/backend/tensorflow_backend.py:2741: The name tf.Session is deprecated. Please use tf.compat.v1.Session instead.\n",
      "\n",
      "Train on 465088 samples, validate on 116271 samples\n",
      "Epoch 1/1\n",
      "WARNING:tensorflow:From /home/asuresh/.local/lib/python3.5/site-packages/keras/backend/tensorflow_backend.py:174: The name tf.get_default_session is deprecated. Please use tf.compat.v1.get_default_session instead.\n",
      "\n",
      "WARNING:tensorflow:From /home/asuresh/.local/lib/python3.5/site-packages/keras/backend/tensorflow_backend.py:181: The name tf.ConfigProto is deprecated. Please use tf.compat.v1.ConfigProto instead.\n",
      "\n",
      "WARNING:tensorflow:From /home/asuresh/.local/lib/python3.5/site-packages/keras/backend/tensorflow_backend.py:190: The name tf.global_variables is deprecated. Please use tf.compat.v1.global_variables instead.\n",
      "\n",
      "WARNING:tensorflow:From /home/asuresh/.local/lib/python3.5/site-packages/keras/backend/tensorflow_backend.py:199: The name tf.is_variable_initialized is deprecated. Please use tf.compat.v1.is_variable_initialized instead.\n",
      "\n",
      "WARNING:tensorflow:From /home/asuresh/.local/lib/python3.5/site-packages/keras/backend/tensorflow_backend.py:206: The name tf.variables_initializer is deprecated. Please use tf.compat.v1.variables_initializer instead.\n",
      "\n",
      " - 3s - loss: 0.6931 - acc: 0.5050 - val_loss: 0.6932 - val_acc: 0.4962\n",
      "Success\n",
      "Iteration:  1\n",
      "Train on 465088 samples, validate on 116271 samples\n",
      "Epoch 1/1\n",
      " - 2s - loss: 0.6932 - acc: 0.5041 - val_loss: 0.6930 - val_acc: 0.5052\n",
      "Success\n",
      "Iteration:  2\n",
      "Train on 465088 samples, validate on 116271 samples\n",
      "Epoch 1/1\n",
      " - 2s - loss: 0.6932 - acc: 0.5039 - val_loss: 0.6931 - val_acc: 0.5006\n",
      "Success\n",
      "Iteration:  3\n",
      "Train on 465088 samples, validate on 116271 samples\n",
      "Epoch 1/1\n",
      " - 2s - loss: 0.6931 - acc: 0.5048 - val_loss: 0.6931 - val_acc: 0.5054\n",
      "Success\n",
      "Iteration:  4\n",
      "Train on 465088 samples, validate on 116271 samples\n",
      "Epoch 1/1\n",
      " - 2s - loss: 0.6934 - acc: 0.5045 - val_loss: 0.6936 - val_acc: 0.4946\n",
      "Success\n",
      "Iteration:  5\n",
      "Train on 465088 samples, validate on 116271 samples\n",
      "Epoch 1/1\n",
      " - 2s - loss: 0.6933 - acc: 0.5034 - val_loss: 0.6937 - val_acc: 0.5054\n",
      "Success\n",
      "Iteration:  6\n",
      "Train on 465088 samples, validate on 116271 samples\n",
      "Epoch 1/1\n",
      " - 2s - loss: 0.6933 - acc: 0.5036 - val_loss: 0.6931 - val_acc: 0.5081\n",
      "Success\n",
      "Iteration:  7\n",
      "Train on 465088 samples, validate on 116271 samples\n",
      "Epoch 1/1\n",
      " - 2s - loss: 0.6932 - acc: 0.5038 - val_loss: 0.6931 - val_acc: 0.5054\n",
      "Success\n",
      "Iteration:  8\n",
      "Train on 465088 samples, validate on 116271 samples\n",
      "Epoch 1/1\n",
      " - 2s - loss: 0.6932 - acc: 0.5044 - val_loss: 0.6930 - val_acc: 0.5053\n",
      "Success\n",
      "Iteration:  9\n",
      "Train on 465088 samples, validate on 116271 samples\n",
      "Epoch 1/1\n",
      " - 2s - loss: 0.6933 - acc: 0.5035 - val_loss: 0.6934 - val_acc: 0.4946\n",
      "Success\n",
      "Iteration:  10\n",
      "Train on 465088 samples, validate on 116271 samples\n",
      "Epoch 1/1\n",
      " - 2s - loss: 0.6931 - acc: 0.5041 - val_loss: 0.6932 - val_acc: 0.5054\n",
      "Success\n",
      "Iteration:  11\n",
      "Train on 465088 samples, validate on 116271 samples\n",
      "Epoch 1/1\n",
      " - 2s - loss: 0.6937 - acc: 0.5047 - val_loss: 0.6937 - val_acc: 0.4946\n",
      "Success\n",
      "Iteration:  12\n",
      "Train on 465088 samples, validate on 116271 samples\n",
      "Epoch 1/1\n",
      " - 2s - loss: 0.6932 - acc: 0.5035 - val_loss: 0.6931 - val_acc: 0.5054\n",
      "Success\n",
      "Iteration:  13\n",
      "Train on 465088 samples, validate on 116271 samples\n",
      "Epoch 1/1\n",
      " - 2s - loss: 0.6932 - acc: 0.5036 - val_loss: 0.6931 - val_acc: 0.5054\n",
      "Success\n",
      "Iteration:  14\n",
      "Train on 465088 samples, validate on 116271 samples\n",
      "Epoch 1/1\n",
      " - 2s - loss: 0.6934 - acc: 0.5039 - val_loss: 0.6932 - val_acc: 0.5054\n",
      "Success\n",
      "Iteration:  15\n",
      "Train on 465088 samples, validate on 116271 samples\n",
      "Epoch 1/1\n",
      " - 2s - loss: 0.6932 - acc: 0.5043 - val_loss: 0.6930 - val_acc: 0.5052\n",
      "Success\n",
      "Iteration:  16\n",
      "Train on 465088 samples, validate on 116271 samples\n",
      "Epoch 1/1\n",
      " - 3s - loss: 0.6932 - acc: 0.5046 - val_loss: 0.6931 - val_acc: 0.5006\n",
      "Success\n",
      "Iteration:  17\n",
      "Train on 465088 samples, validate on 116271 samples\n",
      "Epoch 1/1\n",
      " - 2s - loss: 0.6932 - acc: 0.5039 - val_loss: 0.6931 - val_acc: 0.5054\n",
      "Success\n",
      "Iteration:  18\n",
      "Train on 465088 samples, validate on 116271 samples\n",
      "Epoch 1/1\n",
      " - 2s - loss: 0.6932 - acc: 0.5050 - val_loss: 0.6934 - val_acc: 0.4946\n",
      "Success\n",
      "Iteration:  19\n",
      "Train on 465088 samples, validate on 116271 samples\n",
      "Epoch 1/1\n",
      " - 2s - loss: 0.6933 - acc: 0.5022 - val_loss: 0.6930 - val_acc: 0.5051\n",
      "Success\n",
      "Iteration:  20\n",
      "Train on 465088 samples, validate on 116271 samples\n",
      "Epoch 1/1\n",
      " - 2s - loss: 0.6932 - acc: 0.5046 - val_loss: 0.6930 - val_acc: 0.5054\n",
      "Success\n",
      "Iteration:  21\n",
      "Train on 465088 samples, validate on 116271 samples\n",
      "Epoch 1/1\n",
      " - 2s - loss: 0.6932 - acc: 0.5038 - val_loss: 0.6930 - val_acc: 0.5194\n",
      "Success\n",
      "Iteration:  22\n",
      "Train on 465088 samples, validate on 116271 samples\n",
      "Epoch 1/1\n",
      " - 2s - loss: 0.6932 - acc: 0.5031 - val_loss: 0.6930 - val_acc: 0.5055\n",
      "Success\n",
      "Iteration:  23\n",
      "Train on 465088 samples, validate on 116271 samples\n",
      "Epoch 1/1\n",
      " - 2s - loss: 0.6932 - acc: 0.5044 - val_loss: 0.6930 - val_acc: 0.5054\n",
      "Success\n",
      "Iteration:  24\n",
      "Train on 465088 samples, validate on 116271 samples\n",
      "Epoch 1/1\n",
      " - 2s - loss: 0.6932 - acc: 0.5041 - val_loss: 0.6930 - val_acc: 0.5052\n",
      "Success\n",
      "Iteration:  25\n",
      "Train on 465088 samples, validate on 116271 samples\n",
      "Epoch 1/1\n",
      " - 2s - loss: 0.6932 - acc: 0.5056 - val_loss: 0.6932 - val_acc: 0.5054\n",
      "Success\n",
      "Iteration:  26\n",
      "Train on 465088 samples, validate on 116271 samples\n",
      "Epoch 1/1\n",
      " - 2s - loss: 0.6936 - acc: 0.5044 - val_loss: 0.6931 - val_acc: 0.5054\n",
      "Success\n",
      "Iteration:  27\n",
      "Train on 465088 samples, validate on 116271 samples\n",
      "Epoch 1/1\n",
      " - 2s - loss: 0.6933 - acc: 0.5034 - val_loss: 0.6930 - val_acc: 0.5061\n",
      "Success\n",
      "Iteration:  28\n",
      "Train on 465088 samples, validate on 116271 samples\n",
      "Epoch 1/1\n",
      " - 2s - loss: 0.6932 - acc: 0.5054 - val_loss: 0.6930 - val_acc: 0.5053\n",
      "Success\n",
      "Iteration:  29\n",
      "Train on 465088 samples, validate on 116271 samples\n",
      "Epoch 1/1\n",
      " - 2s - loss: 0.6932 - acc: 0.5038 - val_loss: 0.6930 - val_acc: 0.5118\n",
      "Success\n",
      "Iteration:  30\n",
      "Train on 465088 samples, validate on 116271 samples\n",
      "Epoch 1/1\n",
      " - 2s - loss: 0.6936 - acc: 0.5030 - val_loss: 0.6930 - val_acc: 0.5095\n",
      "Success\n",
      "Iteration:  31\n",
      "Train on 465088 samples, validate on 116271 samples\n",
      "Epoch 1/1\n",
      " - 2s - loss: 0.6932 - acc: 0.5046 - val_loss: 0.6931 - val_acc: 0.5054\n",
      "Success\n",
      "Iteration:  32\n",
      "Train on 465088 samples, validate on 116271 samples\n",
      "Epoch 1/1\n",
      " - 2s - loss: 0.6932 - acc: 0.5047 - val_loss: 0.6931 - val_acc: 0.5054\n",
      "Success\n",
      "Iteration:  33\n",
      "Train on 465088 samples, validate on 116271 samples\n",
      "Epoch 1/1\n",
      " - 2s - loss: 0.6933 - acc: 0.5042 - val_loss: 0.6930 - val_acc: 0.5054\n",
      "Success\n",
      "Iteration:  34\n",
      "Train on 465088 samples, validate on 116271 samples\n",
      "Epoch 1/1\n",
      " - 2s - loss: 0.6932 - acc: 0.5033 - val_loss: 0.6932 - val_acc: 0.5054\n",
      "Success\n",
      "Iteration:  35\n",
      "Train on 465088 samples, validate on 116271 samples\n",
      "Epoch 1/1\n",
      " - 2s - loss: 0.6932 - acc: 0.5038 - val_loss: 0.6930 - val_acc: 0.5054\n",
      "Success\n",
      "Iteration:  36\n",
      "Train on 465088 samples, validate on 116271 samples\n",
      "Epoch 1/1\n",
      " - 2s - loss: 0.6935 - acc: 0.5030 - val_loss: 0.6931 - val_acc: 0.5054\n",
      "Success\n",
      "Iteration:  37\n"
     ]
    },
    {
     "name": "stdout",
     "output_type": "stream",
     "text": [
      "Train on 465088 samples, validate on 116271 samples\n",
      "Epoch 1/1\n",
      " - 2s - loss: 0.6932 - acc: 0.5045 - val_loss: 0.6933 - val_acc: 0.4948\n",
      "Success\n",
      "Iteration:  38\n",
      "Train on 465088 samples, validate on 116271 samples\n",
      "Epoch 1/1\n",
      " - 2s - loss: 0.6934 - acc: 0.5040 - val_loss: 0.6931 - val_acc: 0.5054\n",
      "Success\n",
      "Iteration:  39\n",
      "Train on 465088 samples, validate on 116271 samples\n",
      "Epoch 1/1\n",
      " - 2s - loss: 0.6932 - acc: 0.5043 - val_loss: 0.6931 - val_acc: 0.5054\n",
      "Success\n",
      "Iteration:  40\n",
      "Train on 465088 samples, validate on 116271 samples\n",
      "Epoch 1/1\n",
      " - 2s - loss: 0.6933 - acc: 0.5041 - val_loss: 0.6930 - val_acc: 0.5054\n",
      "Success\n",
      "Iteration:  41\n",
      "Train on 465088 samples, validate on 116271 samples\n",
      "Epoch 1/1\n",
      " - 3s - loss: 0.6932 - acc: 0.5040 - val_loss: 0.6930 - val_acc: 0.5167\n",
      "Success\n",
      "Iteration:  42\n",
      "Train on 465088 samples, validate on 116271 samples\n",
      "Epoch 1/1\n",
      " - 2s - loss: 0.6933 - acc: 0.5036 - val_loss: 0.6932 - val_acc: 0.4989\n",
      "Success\n",
      "Iteration:  43\n",
      "Train on 465088 samples, validate on 116271 samples\n",
      "Epoch 1/1\n",
      " - 2s - loss: 0.6932 - acc: 0.5036 - val_loss: 0.6931 - val_acc: 0.5054\n",
      "Success\n",
      "Iteration:  44\n",
      "Train on 465088 samples, validate on 116271 samples\n",
      "Epoch 1/1\n",
      " - 2s - loss: 0.6933 - acc: 0.5039 - val_loss: 0.6930 - val_acc: 0.5054\n",
      "Success\n",
      "Iteration:  45\n",
      "Train on 465088 samples, validate on 116271 samples\n",
      "Epoch 1/1\n",
      " - 2s - loss: 0.6934 - acc: 0.5034 - val_loss: 0.6940 - val_acc: 0.5054\n",
      "Success\n",
      "Iteration:  46\n",
      "Train on 465088 samples, validate on 116271 samples\n",
      "Epoch 1/1\n",
      " - 2s - loss: 0.6932 - acc: 0.5039 - val_loss: 0.6930 - val_acc: 0.5049\n",
      "Success\n",
      "Iteration:  47\n",
      "Train on 465088 samples, validate on 116271 samples\n",
      "Epoch 1/1\n",
      " - 2s - loss: 0.6931 - acc: 0.5047 - val_loss: 0.6930 - val_acc: 0.5054\n",
      "Success\n",
      "Iteration:  48\n",
      "Train on 465088 samples, validate on 116271 samples\n",
      "Epoch 1/1\n",
      " - 2s - loss: 0.6932 - acc: 0.5046 - val_loss: 0.6930 - val_acc: 0.5054\n",
      "Success\n",
      "Iteration:  49\n",
      "Train on 465088 samples, validate on 116271 samples\n",
      "Epoch 1/1\n",
      " - 2s - loss: 0.6932 - acc: 0.5039 - val_loss: 0.6932 - val_acc: 0.4961\n",
      "Success\n",
      "Iteration:  50\n",
      "Train on 465088 samples, validate on 116271 samples\n",
      "Epoch 1/1\n",
      " - 2s - loss: 0.6934 - acc: 0.5052 - val_loss: 0.6930 - val_acc: 0.5054\n",
      "Success\n",
      "Iteration:  51\n",
      "Train on 465088 samples, validate on 116271 samples\n",
      "Epoch 1/1\n",
      " - 2s - loss: 0.6932 - acc: 0.5049 - val_loss: 0.6930 - val_acc: 0.5054\n",
      "Success\n",
      "Iteration:  52\n",
      "Train on 465088 samples, validate on 116271 samples\n",
      "Epoch 1/1\n",
      " - 2s - loss: 0.6934 - acc: 0.5037 - val_loss: 0.6935 - val_acc: 0.5054\n",
      "Success\n",
      "Iteration:  53\n",
      "Train on 465088 samples, validate on 116271 samples\n",
      "Epoch 1/1\n",
      " - 2s - loss: 0.6932 - acc: 0.5045 - val_loss: 0.6931 - val_acc: 0.5054\n",
      "Success\n",
      "Iteration:  54\n",
      "Train on 465088 samples, validate on 116271 samples\n",
      "Epoch 1/1\n",
      " - 2s - loss: 0.6933 - acc: 0.5027 - val_loss: 0.6930 - val_acc: 0.5054\n",
      "Success\n",
      "Iteration:  55\n",
      "Train on 465088 samples, validate on 116271 samples\n",
      "Epoch 1/1\n",
      " - 2s - loss: 0.6933 - acc: 0.5032 - val_loss: 0.6931 - val_acc: 0.5019\n",
      "Success\n",
      "Iteration:  56\n",
      "Train on 465088 samples, validate on 116271 samples\n",
      "Epoch 1/1\n",
      " - 2s - loss: 0.6932 - acc: 0.5049 - val_loss: 0.6930 - val_acc: 0.5120\n",
      "Success\n",
      "Iteration:  57\n",
      "Train on 465088 samples, validate on 116271 samples\n",
      "Epoch 1/1\n",
      " - 2s - loss: 0.6932 - acc: 0.5041 - val_loss: 0.6930 - val_acc: 0.5054\n",
      "Success\n",
      "Iteration:  58\n",
      "Train on 465088 samples, validate on 116271 samples\n",
      "Epoch 1/1\n",
      " - 2s - loss: 0.6932 - acc: 0.5036 - val_loss: 0.6930 - val_acc: 0.5054\n",
      "Success\n",
      "Iteration:  59\n",
      "Train on 465088 samples, validate on 116271 samples\n",
      "Epoch 1/1\n",
      " - 2s - loss: 0.6932 - acc: 0.5036 - val_loss: 0.6931 - val_acc: 0.5054\n",
      "Success\n",
      "Iteration:  60\n",
      "Train on 465088 samples, validate on 116271 samples\n",
      "Epoch 1/1\n",
      " - 2s - loss: 0.6936 - acc: 0.5047 - val_loss: 0.6931 - val_acc: 0.5054\n",
      "Success\n",
      "Iteration:  61\n",
      "Train on 465088 samples, validate on 116271 samples\n",
      "Epoch 1/1\n",
      " - 2s - loss: 0.6932 - acc: 0.5036 - val_loss: 0.6930 - val_acc: 0.5059\n",
      "Success\n",
      "Iteration:  62\n",
      "Train on 465088 samples, validate on 116271 samples\n",
      "Epoch 1/1\n",
      " - 2s - loss: 0.6932 - acc: 0.5056 - val_loss: 0.6932 - val_acc: 0.4964\n",
      "Success\n",
      "Iteration:  63\n",
      "Train on 465088 samples, validate on 116271 samples\n",
      "Epoch 1/1\n",
      " - 2s - loss: 0.6932 - acc: 0.5051 - val_loss: 0.6930 - val_acc: 0.5054\n",
      "Success\n",
      "Iteration:  64\n",
      "Train on 465088 samples, validate on 116271 samples\n",
      "Epoch 1/1\n",
      " - 2s - loss: 0.6932 - acc: 0.5037 - val_loss: 0.6931 - val_acc: 0.5054\n",
      "Success\n",
      "Iteration:  65\n",
      "Train on 465088 samples, validate on 116271 samples\n",
      "Epoch 1/1\n",
      " - 2s - loss: 0.6932 - acc: 0.5040 - val_loss: 0.6930 - val_acc: 0.5054\n",
      "Success\n",
      "Iteration:  66\n",
      "Train on 465088 samples, validate on 116271 samples\n",
      "Epoch 1/1\n",
      " - 2s - loss: 0.6933 - acc: 0.5032 - val_loss: 0.6930 - val_acc: 0.5054\n",
      "Success\n",
      "Iteration:  67\n",
      "Train on 465088 samples, validate on 116271 samples\n",
      "Epoch 1/1\n",
      " - 2s - loss: 0.6931 - acc: 0.5044 - val_loss: 0.6931 - val_acc: 0.5054\n",
      "Success\n",
      "Iteration:  68\n",
      "Train on 465088 samples, validate on 116271 samples\n",
      "Epoch 1/1\n",
      " - 2s - loss: 0.6932 - acc: 0.5030 - val_loss: 0.6930 - val_acc: 0.5054\n",
      "Success\n",
      "Iteration:  69\n",
      "Train on 465088 samples, validate on 116271 samples\n",
      "Epoch 1/1\n",
      " - 2s - loss: 0.6931 - acc: 0.5055 - val_loss: 0.6931 - val_acc: 0.5054\n",
      "Success\n",
      "Iteration:  70\n",
      "Train on 465088 samples, validate on 116271 samples\n",
      "Epoch 1/1\n",
      " - 2s - loss: 0.6932 - acc: 0.5043 - val_loss: 0.6931 - val_acc: 0.5054\n",
      "Success\n",
      "Iteration:  71\n",
      "Train on 465088 samples, validate on 116271 samples\n",
      "Epoch 1/1\n",
      " - 2s - loss: 0.6933 - acc: 0.5027 - val_loss: 0.6941 - val_acc: 0.4946\n",
      "Success\n",
      "Iteration:  72\n",
      "Train on 465088 samples, validate on 116271 samples\n",
      "Epoch 1/1\n",
      " - 2s - loss: 0.6933 - acc: 0.5021 - val_loss: 0.6930 - val_acc: 0.5054\n",
      "Success\n",
      "Iteration:  73\n",
      "Train on 465088 samples, validate on 116271 samples\n",
      "Epoch 1/1\n",
      " - 2s - loss: 0.6933 - acc: 0.5030 - val_loss: 0.6930 - val_acc: 0.5112\n",
      "Success\n",
      "Iteration:  74\n",
      "Train on 465088 samples, validate on 116271 samples\n",
      "Epoch 1/1\n",
      " - 2s - loss: 0.6932 - acc: 0.5060 - val_loss: 0.6931 - val_acc: 0.5082\n",
      "Success\n",
      "Iteration:  75\n",
      "Train on 465088 samples, validate on 116271 samples\n",
      "Epoch 1/1\n",
      " - 2s - loss: 0.6932 - acc: 0.5027 - val_loss: 0.6930 - val_acc: 0.5081\n",
      "Success\n",
      "Iteration:  76\n",
      "Train on 465088 samples, validate on 116271 samples\n",
      "Epoch 1/1\n",
      " - 2s - loss: 0.6934 - acc: 0.5047 - val_loss: 0.6930 - val_acc: 0.5054\n",
      "Success\n",
      "Iteration:  77\n",
      "Train on 465088 samples, validate on 116271 samples\n",
      "Epoch 1/1\n",
      " - 2s - loss: 0.6933 - acc: 0.5041 - val_loss: 0.6930 - val_acc: 0.5054\n",
      "Success\n",
      "Iteration:  78\n",
      "Train on 465088 samples, validate on 116271 samples\n",
      "Epoch 1/1\n",
      " - 2s - loss: 0.6932 - acc: 0.5048 - val_loss: 0.6935 - val_acc: 0.4949\n",
      "Success\n",
      "Iteration:  79\n",
      "Train on 465088 samples, validate on 116271 samples\n",
      "Epoch 1/1\n",
      " - 2s - loss: 0.6932 - acc: 0.5042 - val_loss: 0.6930 - val_acc: 0.5054\n",
      "Success\n",
      "Iteration:  80\n",
      "Train on 465088 samples, validate on 116271 samples\n",
      "Epoch 1/1\n",
      " - 2s - loss: 0.6932 - acc: 0.5044 - val_loss: 0.6930 - val_acc: 0.5062\n",
      "Success\n",
      "Iteration:  81\n",
      "Train on 465088 samples, validate on 116271 samples\n",
      "Epoch 1/1\n",
      " - 2s - loss: 0.6931 - acc: 0.5034 - val_loss: 0.6932 - val_acc: 0.5054\n",
      "Success\n",
      "Iteration:  82\n",
      "Train on 465088 samples, validate on 116271 samples\n",
      "Epoch 1/1\n",
      " - 2s - loss: 0.6933 - acc: 0.5032 - val_loss: 0.6935 - val_acc: 0.4946\n",
      "Success\n",
      "Iteration:  83\n",
      "Train on 465088 samples, validate on 116271 samples\n",
      "Epoch 1/1\n",
      " - 2s - loss: 0.6934 - acc: 0.5047 - val_loss: 0.6930 - val_acc: 0.5054\n",
      "Success\n",
      "Iteration:  84\n",
      "Train on 465088 samples, validate on 116271 samples\n",
      "Epoch 1/1\n",
      " - 2s - loss: 0.6933 - acc: 0.5039 - val_loss: 0.6933 - val_acc: 0.5054\n",
      "Success\n",
      "Iteration:  85\n",
      "Train on 465088 samples, validate on 116271 samples\n",
      "Epoch 1/1\n",
      " - 2s - loss: 0.6932 - acc: 0.5039 - val_loss: 0.6930 - val_acc: 0.5054\n",
      "Success\n",
      "Iteration:  86\n",
      "Train on 465088 samples, validate on 116271 samples\n",
      "Epoch 1/1\n",
      " - 2s - loss: 0.6937 - acc: 0.5034 - val_loss: 0.6930 - val_acc: 0.5054\n",
      "Success\n",
      "Iteration:  87\n",
      "Train on 465088 samples, validate on 116271 samples\n",
      "Epoch 1/1\n",
      " - 2s - loss: 0.6932 - acc: 0.5035 - val_loss: 0.6930 - val_acc: 0.5054\n",
      "Success\n",
      "Iteration:  88\n",
      "Train on 465088 samples, validate on 116271 samples\n",
      "Epoch 1/1\n",
      " - 2s - loss: 0.6935 - acc: 0.5041 - val_loss: 0.6931 - val_acc: 0.5005\n",
      "Success\n",
      "Iteration:  89\n",
      "Train on 465088 samples, validate on 116271 samples\n",
      "Epoch 1/1\n"
     ]
    },
    {
     "name": "stdout",
     "output_type": "stream",
     "text": [
      " - 2s - loss: 0.6931 - acc: 0.5050 - val_loss: 0.6931 - val_acc: 0.5054\n",
      "Success\n",
      "Iteration:  90\n",
      "Train on 465088 samples, validate on 116271 samples\n",
      "Epoch 1/1\n",
      " - 2s - loss: 0.6932 - acc: 0.5031 - val_loss: 0.6930 - val_acc: 0.5054\n",
      "Success\n",
      "Iteration:  91\n",
      "Train on 465088 samples, validate on 116271 samples\n",
      "Epoch 1/1\n",
      " - 2s - loss: 0.6931 - acc: 0.5052 - val_loss: 0.6930 - val_acc: 0.5053\n",
      "Success\n",
      "Iteration:  92\n",
      "Train on 465088 samples, validate on 116271 samples\n",
      "Epoch 1/1\n",
      " - 2s - loss: 0.6933 - acc: 0.5037 - val_loss: 0.6931 - val_acc: 0.5054\n",
      "Success\n",
      "Iteration:  93\n",
      "Train on 465088 samples, validate on 116271 samples\n",
      "Epoch 1/1\n",
      " - 2s - loss: 0.6933 - acc: 0.5034 - val_loss: 0.6932 - val_acc: 0.5054\n",
      "Success\n",
      "Iteration:  94\n",
      "Train on 465088 samples, validate on 116271 samples\n",
      "Epoch 1/1\n",
      " - 2s - loss: 0.6934 - acc: 0.5040 - val_loss: 0.6930 - val_acc: 0.5054\n",
      "Success\n",
      "Iteration:  95\n",
      "Train on 465088 samples, validate on 116271 samples\n",
      "Epoch 1/1\n",
      " - 2s - loss: 0.6933 - acc: 0.5038 - val_loss: 0.6931 - val_acc: 0.5054\n",
      "Success\n",
      "Iteration:  96\n",
      "Train on 465088 samples, validate on 116271 samples\n",
      "Epoch 1/1\n",
      " - 2s - loss: 0.6934 - acc: 0.5042 - val_loss: 0.6931 - val_acc: 0.5054\n",
      "Success\n",
      "Iteration:  97\n",
      "Train on 465088 samples, validate on 116271 samples\n",
      "Epoch 1/1\n",
      " - 2s - loss: 0.6931 - acc: 0.5047 - val_loss: 0.6930 - val_acc: 0.5054\n",
      "Success\n",
      "Iteration:  98\n",
      "Train on 465088 samples, validate on 116271 samples\n",
      "Epoch 1/1\n",
      " - 2s - loss: 0.6932 - acc: 0.5035 - val_loss: 0.6931 - val_acc: 0.5054\n",
      "Success\n",
      "Iteration:  99\n",
      "Train on 465088 samples, validate on 116271 samples\n",
      "Epoch 1/1\n",
      " - 2s - loss: 0.6937 - acc: 0.5038 - val_loss: 0.6930 - val_acc: 0.5053\n",
      "Success\n"
     ]
    }
   ],
   "source": [
    "n_fail1 = 0\n",
    "n_fail2 = 0\n",
    "n_succ = 0\n",
    "iterations = 100\n",
    "\n",
    "dctr_weights = 0\n",
    "\n",
    "for i in range(iterations):\n",
    "    print(\"Iteration: \", i)\n",
    "\n",
    "    K.clear_session()\n",
    "    inputs = Input((1, ))\n",
    "    hidden_layer_1 = Dense(50, activation='relu')(inputs)\n",
    "    hidden_layer_2 = Dense(50, activation='relu')(hidden_layer_1)\n",
    "    hidden_layer_3 = Dense(50, activation='relu')(hidden_layer_2)\n",
    "\n",
    "    outputs = Dense(2, activation='softmax')(hidden_layer_3)\n",
    "\n",
    "    dctr = Model(inputs=inputs, outputs=outputs)\n",
    "    dctr.compile(loss='categorical_crossentropy',\n",
    "                 optimizer='Adam',\n",
    "                 metrics=['accuracy'])\n",
    "\n",
    "    history = dctr.fit(X_train,\n",
    "                       Y_train,\n",
    "                       epochs=1,\n",
    "                       batch_size=1000,\n",
    "                       validation_data=(X_val, Y_val),\n",
    "                       verbose=2)\n",
    "    if history.history['val_loss'][0] > 8:\n",
    "        # Fail case 1, model output [1, 0] for all preds\n",
    "        n_fail1 += 1\n",
    "        print(\"Fail (case 1)\")\n",
    "        pass\n",
    "    elif history.history['val_loss'][0] > 7:\n",
    "        # Fail case 2, , model output [0, 1] for all preds\n",
    "        n_fail2 += 1\n",
    "        print(\"Fail (case 2)\")\n",
    "        pass\n",
    "    else:  \n",
    "        # success\n",
    "        n_succ += 1\n",
    "        print(\"Success\")\n",
    "        # remember successful weights\n",
    "        dctr_weights = dctr.get_weights()\n",
    "        pass\n",
    "\n",
    "\n",
    "n_fail = n_fail1 + n_fail2"
   ]
  },
  {
   "cell_type": "code",
   "execution_count": 12,
   "metadata": {
    "ExecuteTime": {
     "end_time": "2020-06-09T19:27:21.120168Z",
     "start_time": "2020-06-09T19:27:21.113095Z"
    }
   },
   "outputs": [
    {
     "name": "stdout",
     "output_type": "stream",
     "text": [
      "Number of initializations failed:  0 / 100\n",
      "Percentage of initializations failed: 0.0 %\n",
      "Number of initializations succeeded:  100 / 100\n",
      "Percentage of initializations succeeded: 100.0 %\n"
     ]
    }
   ],
   "source": [
    "print(\"Number of initializations failed: \", n_fail, \"/\", iterations)\n",
    "print(\"Percentage of initializations failed:\", (100*n_fail/iterations), \"%\")\n",
    "\n",
    "print(\"Number of initializations succeeded: \", n_succ, \"/\", iterations)\n",
    "print(\"Percentage of initializations succeeded:\", (100*n_succ/iterations), \"%\")"
   ]
  },
  {
   "cell_type": "markdown",
   "metadata": {},
   "source": [
    "### Finish training"
   ]
  },
  {
   "cell_type": "code",
   "execution_count": 13,
   "metadata": {
    "ExecuteTime": {
     "end_time": "2020-06-09T19:29:42.353754Z",
     "start_time": "2020-06-09T19:27:21.122084Z"
    }
   },
   "outputs": [
    {
     "name": "stdout",
     "output_type": "stream",
     "text": [
      "Train on 465088 samples, validate on 116271 samples\n",
      "Epoch 1/200\n",
      "465088/465088 [==============================] - 2s 5us/step - loss: 0.6931 - acc: 0.5049 - val_loss: 0.6932 - val_acc: 0.5054\n",
      "Epoch 2/200\n",
      "465088/465088 [==============================] - 2s 5us/step - loss: 0.6931 - acc: 0.5049 - val_loss: 0.6933 - val_acc: 0.5054\n",
      "Epoch 3/200\n",
      "465088/465088 [==============================] - 2s 5us/step - loss: 0.6930 - acc: 0.5062 - val_loss: 0.6929 - val_acc: 0.5065\n",
      "Epoch 4/200\n",
      "465088/465088 [==============================] - 2s 5us/step - loss: 0.6930 - acc: 0.5083 - val_loss: 0.6931 - val_acc: 0.5133\n",
      "Epoch 5/200\n",
      "465088/465088 [==============================] - 2s 5us/step - loss: 0.6930 - acc: 0.5080 - val_loss: 0.6930 - val_acc: 0.5060\n",
      "Epoch 6/200\n",
      "465088/465088 [==============================] - 2s 5us/step - loss: 0.6929 - acc: 0.5100 - val_loss: 0.6929 - val_acc: 0.5056\n",
      "Epoch 7/200\n",
      "465088/465088 [==============================] - 2s 5us/step - loss: 0.6929 - acc: 0.5089 - val_loss: 0.6928 - val_acc: 0.5155\n",
      "Epoch 8/200\n",
      "465088/465088 [==============================] - 2s 5us/step - loss: 0.6929 - acc: 0.5105 - val_loss: 0.6928 - val_acc: 0.5151\n",
      "Epoch 9/200\n",
      "465088/465088 [==============================] - 2s 5us/step - loss: 0.6928 - acc: 0.5111 - val_loss: 0.6927 - val_acc: 0.5132\n",
      "Epoch 10/200\n",
      "465088/465088 [==============================] - 2s 5us/step - loss: 0.6928 - acc: 0.5111 - val_loss: 0.6927 - val_acc: 0.5122\n",
      "Epoch 11/200\n",
      "465088/465088 [==============================] - 2s 5us/step - loss: 0.6927 - acc: 0.5127 - val_loss: 0.6928 - val_acc: 0.5105\n",
      "Epoch 12/200\n",
      "465088/465088 [==============================] - 2s 5us/step - loss: 0.6927 - acc: 0.5125 - val_loss: 0.6925 - val_acc: 0.5138\n",
      "Epoch 13/200\n",
      "465088/465088 [==============================] - 2s 5us/step - loss: 0.6926 - acc: 0.5133 - val_loss: 0.6924 - val_acc: 0.5177\n",
      "Epoch 14/200\n",
      "465088/465088 [==============================] - 2s 5us/step - loss: 0.6926 - acc: 0.5136 - val_loss: 0.6925 - val_acc: 0.5178\n",
      "Epoch 15/200\n",
      "465088/465088 [==============================] - 2s 5us/step - loss: 0.6926 - acc: 0.5141 - val_loss: 0.6925 - val_acc: 0.5194\n",
      "Epoch 16/200\n",
      "465088/465088 [==============================] - 2s 5us/step - loss: 0.6926 - acc: 0.5126 - val_loss: 0.6924 - val_acc: 0.5210\n",
      "Epoch 17/200\n",
      "465088/465088 [==============================] - 2s 5us/step - loss: 0.6924 - acc: 0.5153 - val_loss: 0.6922 - val_acc: 0.5152\n",
      "Epoch 18/200\n",
      "465088/465088 [==============================] - 2s 5us/step - loss: 0.6924 - acc: 0.5158 - val_loss: 0.6920 - val_acc: 0.5187\n",
      "Epoch 19/200\n",
      "465088/465088 [==============================] - 2s 5us/step - loss: 0.6923 - acc: 0.5158 - val_loss: 0.6921 - val_acc: 0.5172\n",
      "Epoch 20/200\n",
      "465088/465088 [==============================] - 2s 5us/step - loss: 0.6924 - acc: 0.5152 - val_loss: 0.6921 - val_acc: 0.5184\n",
      "Epoch 21/200\n",
      "465088/465088 [==============================] - 2s 5us/step - loss: 0.6924 - acc: 0.5152 - val_loss: 0.6919 - val_acc: 0.5193\n",
      "Epoch 22/200\n",
      "465088/465088 [==============================] - 2s 5us/step - loss: 0.6922 - acc: 0.5161 - val_loss: 0.6921 - val_acc: 0.5209\n",
      "Epoch 23/200\n",
      "465088/465088 [==============================] - 2s 5us/step - loss: 0.6922 - acc: 0.5162 - val_loss: 0.6920 - val_acc: 0.5190\n",
      "Epoch 24/200\n",
      "465088/465088 [==============================] - 2s 5us/step - loss: 0.6921 - acc: 0.5162 - val_loss: 0.6919 - val_acc: 0.5180\n",
      "Epoch 25/200\n",
      "465088/465088 [==============================] - 2s 5us/step - loss: 0.6921 - acc: 0.5165 - val_loss: 0.6921 - val_acc: 0.5192\n",
      "Epoch 26/200\n",
      "465088/465088 [==============================] - 2s 5us/step - loss: 0.6921 - acc: 0.5177 - val_loss: 0.6921 - val_acc: 0.5200\n",
      "Epoch 27/200\n",
      "465088/465088 [==============================] - 2s 5us/step - loss: 0.6921 - acc: 0.5164 - val_loss: 0.6921 - val_acc: 0.5156\n",
      "Epoch 28/200\n",
      "465088/465088 [==============================] - 2s 5us/step - loss: 0.6921 - acc: 0.5168 - val_loss: 0.6925 - val_acc: 0.5136\n",
      "Epoch 29/200\n",
      "465088/465088 [==============================] - 2s 5us/step - loss: 0.6921 - acc: 0.5168 - val_loss: 0.6918 - val_acc: 0.5213\n",
      "Epoch 30/200\n",
      "465088/465088 [==============================] - 2s 5us/step - loss: 0.6920 - acc: 0.5169 - val_loss: 0.6919 - val_acc: 0.5209\n",
      "Epoch 31/200\n",
      "465088/465088 [==============================] - 2s 5us/step - loss: 0.6921 - acc: 0.5163 - val_loss: 0.6918 - val_acc: 0.5209\n",
      "Epoch 32/200\n",
      "465088/465088 [==============================] - 2s 5us/step - loss: 0.6920 - acc: 0.5175 - val_loss: 0.6918 - val_acc: 0.5185\n",
      "Epoch 33/200\n",
      "465088/465088 [==============================] - 2s 5us/step - loss: 0.6920 - acc: 0.5176 - val_loss: 0.6921 - val_acc: 0.5183\n",
      "Epoch 34/200\n",
      "465088/465088 [==============================] - 2s 5us/step - loss: 0.6920 - acc: 0.5171 - val_loss: 0.6917 - val_acc: 0.5203\n",
      "Epoch 35/200\n",
      "465088/465088 [==============================] - 2s 5us/step - loss: 0.6920 - acc: 0.5172 - val_loss: 0.6920 - val_acc: 0.5192\n",
      "Epoch 36/200\n",
      "465088/465088 [==============================] - 2s 5us/step - loss: 0.6920 - acc: 0.5179 - val_loss: 0.6918 - val_acc: 0.5194\n",
      "Epoch 37/200\n",
      "465088/465088 [==============================] - 2s 5us/step - loss: 0.6919 - acc: 0.5176 - val_loss: 0.6917 - val_acc: 0.5200\n",
      "Epoch 38/200\n",
      "465088/465088 [==============================] - 2s 5us/step - loss: 0.6920 - acc: 0.5166 - val_loss: 0.6916 - val_acc: 0.5201\n",
      "Epoch 39/200\n",
      "465088/465088 [==============================] - 2s 5us/step - loss: 0.6920 - acc: 0.5164 - val_loss: 0.6917 - val_acc: 0.5197\n",
      "Epoch 40/200\n",
      "465088/465088 [==============================] - 2s 5us/step - loss: 0.6919 - acc: 0.5180 - val_loss: 0.6917 - val_acc: 0.5202\n",
      "Epoch 41/200\n",
      "465088/465088 [==============================] - 2s 5us/step - loss: 0.6919 - acc: 0.5177 - val_loss: 0.6916 - val_acc: 0.5211\n",
      "Epoch 42/200\n",
      "465088/465088 [==============================] - 2s 5us/step - loss: 0.6919 - acc: 0.5173 - val_loss: 0.6917 - val_acc: 0.5192\n",
      "Epoch 43/200\n",
      "465088/465088 [==============================] - 2s 5us/step - loss: 0.6919 - acc: 0.5176 - val_loss: 0.6918 - val_acc: 0.5175\n",
      "Epoch 44/200\n",
      "465088/465088 [==============================] - 2s 5us/step - loss: 0.6922 - acc: 0.5152 - val_loss: 0.6935 - val_acc: 0.5027\n",
      "Epoch 45/200\n",
      "465088/465088 [==============================] - 2s 5us/step - loss: 0.6921 - acc: 0.5157 - val_loss: 0.6919 - val_acc: 0.5175\n",
      "Epoch 46/200\n",
      "465088/465088 [==============================] - 2s 5us/step - loss: 0.6920 - acc: 0.5169 - val_loss: 0.6916 - val_acc: 0.5204\n",
      "Epoch 47/200\n",
      "465088/465088 [==============================] - 2s 5us/step - loss: 0.6919 - acc: 0.5180 - val_loss: 0.6918 - val_acc: 0.5175\n",
      "Epoch 48/200\n",
      "465088/465088 [==============================] - 2s 5us/step - loss: 0.6919 - acc: 0.5182 - val_loss: 0.6924 - val_acc: 0.5181\n",
      "Epoch 49/200\n",
      "465088/465088 [==============================] - 2s 5us/step - loss: 0.6921 - acc: 0.5172 - val_loss: 0.6916 - val_acc: 0.5211\n",
      "Epoch 50/200\n",
      "465088/465088 [==============================] - 2s 5us/step - loss: 0.6920 - acc: 0.5175 - val_loss: 0.6921 - val_acc: 0.5185\n",
      "Epoch 51/200\n",
      "465088/465088 [==============================] - 2s 5us/step - loss: 0.6920 - acc: 0.5171 - val_loss: 0.6916 - val_acc: 0.5211\n",
      "Epoch 52/200\n",
      "465088/465088 [==============================] - 2s 5us/step - loss: 0.6920 - acc: 0.5172 - val_loss: 0.6918 - val_acc: 0.5205\n",
      "Epoch 53/200\n",
      "465088/465088 [==============================] - 2s 5us/step - loss: 0.6919 - acc: 0.5182 - val_loss: 0.6916 - val_acc: 0.5199\n",
      "Epoch 54/200\n",
      "465088/465088 [==============================] - 2s 5us/step - loss: 0.6919 - acc: 0.5179 - val_loss: 0.6919 - val_acc: 0.5199\n",
      "Epoch 55/200\n",
      "465088/465088 [==============================] - 2s 5us/step - loss: 0.6919 - acc: 0.5182 - val_loss: 0.6915 - val_acc: 0.5211\n",
      "Epoch 56/200\n",
      "465088/465088 [==============================] - 2s 5us/step - loss: 0.6919 - acc: 0.5175 - val_loss: 0.6916 - val_acc: 0.5202\n",
      "Epoch 57/200\n",
      "465088/465088 [==============================] - 2s 5us/step - loss: 0.6919 - acc: 0.5179 - val_loss: 0.6916 - val_acc: 0.5209\n",
      "Epoch 58/200\n",
      "465088/465088 [==============================] - 2s 5us/step - loss: 0.6919 - acc: 0.5179 - val_loss: 0.6916 - val_acc: 0.5213\n",
      "Epoch 59/200\n"
     ]
    },
    {
     "name": "stdout",
     "output_type": "stream",
     "text": [
      "465088/465088 [==============================] - 2s 5us/step - loss: 0.6920 - acc: 0.5174 - val_loss: 0.6917 - val_acc: 0.5202\n",
      "Epoch 60/200\n",
      "465088/465088 [==============================] - 2s 5us/step - loss: 0.6919 - acc: 0.5185 - val_loss: 0.6922 - val_acc: 0.5104\n",
      "Epoch 61/200\n",
      "465088/465088 [==============================] - 2s 5us/step - loss: 0.6919 - acc: 0.5175 - val_loss: 0.6916 - val_acc: 0.5205\n",
      "Epoch 62/200\n",
      "465088/465088 [==============================] - 2s 5us/step - loss: 0.6919 - acc: 0.5175 - val_loss: 0.6917 - val_acc: 0.5184\n",
      "Epoch 63/200\n",
      "465088/465088 [==============================] - 2s 5us/step - loss: 0.6919 - acc: 0.5174 - val_loss: 0.6917 - val_acc: 0.5209\n",
      "Epoch 64/200\n",
      "465088/465088 [==============================] - 2s 5us/step - loss: 0.6920 - acc: 0.5179 - val_loss: 0.6921 - val_acc: 0.5189\n",
      "Epoch 65/200\n",
      "465088/465088 [==============================] - 2s 5us/step - loss: 0.6919 - acc: 0.5179 - val_loss: 0.6917 - val_acc: 0.5214\n"
     ]
    }
   ],
   "source": [
    "earlystopping = EarlyStopping(patience=10, restore_best_weights=True)\n",
    "\n",
    "\n",
    "try:\n",
    "    dctr.set_weights(dctr_weights)\n",
    "    history = dctr.fit(X_train,\n",
    "                   Y_train,\n",
    "                   epochs=200,\n",
    "                   batch_size=1000,\n",
    "                   validation_data=(X_val, Y_val),\n",
    "                   callbacks=[earlystopping],\n",
    "                   verbose=1)\n",
    "except:\n",
    "    print(\n",
    "        \"Model did not have any successful initializations, will not continue training.\"\n",
    "    )"
   ]
  },
  {
   "cell_type": "markdown",
   "metadata": {},
   "source": [
    "# Plot History"
   ]
  },
  {
   "cell_type": "code",
   "execution_count": 14,
   "metadata": {
    "ExecuteTime": {
     "end_time": "2020-06-09T19:29:42.824414Z",
     "start_time": "2020-06-09T19:29:42.356710Z"
    }
   },
   "outputs": [
    {
     "data": {
      "image/png": "[encoded data removed]",
      "text/plain": [
       "<Figure size 432x288 with 1 Axes>"
      ]
     },
     "metadata": {
      "needs_background": "light"
     },
     "output_type": "display_data"
    }
   ],
   "source": [
    "plt.plot(history.history['loss'],     label = 'loss')\n",
    "plt.plot(history.history['val_loss'], label = 'val loss')\n",
    "plt.legend(loc=0)\n",
    "plt.ylabel('loss')\n",
    "plt.xlabel('Epochs')\n",
    "plt.show()"
   ]
  },
  {
   "cell_type": "markdown",
   "metadata": {},
   "source": [
    "## Validation"
   ]
  },
  {
   "cell_type": "markdown",
   "metadata": {},
   "source": [
    "### Load Datasets"
   ]
  },
  {
   "cell_type": "code",
   "execution_count": 15,
   "metadata": {
    "ExecuteTime": {
     "end_time": "2020-06-09T19:29:42.832625Z",
     "start_time": "2020-06-09T19:29:42.826485Z"
    }
   },
   "outputs": [
    {
     "name": "stdout",
     "output_type": "stream",
     "text": [
      "(57710, 1)\n",
      "(59119, 1)\n"
     ]
    }
   ],
   "source": [
    "test_dataset_0_mjjj = np.load(data_dir0 + 'part_172_5_6j_obs.npy')[:, :1]\n",
    "test_dataset_1_mjjj = np.load(data_dir0 + 'part_175_0_6j_obs.npy')[:, :1]\n",
    "\n",
    "print(np.shape(test_dataset_0_mjjj))\n",
    "print(np.shape(test_dataset_1_mjjj))"
   ]
  },
  {
   "cell_type": "code",
   "execution_count": 16,
   "metadata": {
    "ExecuteTime": {
     "end_time": "2020-06-09T19:29:42.839249Z",
     "start_time": "2020-06-09T19:29:42.834516Z"
    }
   },
   "outputs": [],
   "source": [
    "# Define labels for legends\n",
    "label_0 = r'$m_T=172.5$'\n",
    "\n",
    "label_1 = r'$m_T=175.0$'\n",
    "\n",
    "def make_legend():\n",
    "    ax = plt.gca()\n",
    "    leg = ax.legend(frameon=False)\n",
    "    leg._legend_box.align = \"left\"\n",
    "    plt.tight_layout()"
   ]
  },
  {
   "cell_type": "markdown",
   "metadata": {},
   "source": [
    "### Define reweighting function"
   ]
  },
  {
   "cell_type": "markdown",
   "metadata": {},
   "source": [
    "We must calculate two liklihood ratios during reweighting: the first because the training datasets were different sizes, and the second because the validation datasets are different sizes."
   ]
  },
  {
   "cell_type": "code",
   "execution_count": 17,
   "metadata": {
    "ExecuteTime": {
     "end_time": "2020-06-09T19:29:42.848347Z",
     "start_time": "2020-06-09T19:29:42.841034Z"
    }
   },
   "outputs": [],
   "source": [
    "# Get predicted probabilities\n",
    "def reweight(default_dataset_172_5):\n",
    "\n",
    "    data_input = default_dataset_172_5/100.\n",
    "\n",
    "    f = dctr.predict(data_input)\n",
    "    weights = f[:, 1] / f[:, 0]\n",
    "    return weights"
   ]
  },
  {
   "cell_type": "markdown",
   "metadata": {},
   "source": [
    "### Get weights"
   ]
  },
  {
   "cell_type": "code",
   "execution_count": 18,
   "metadata": {
    "ExecuteTime": {
     "end_time": "2020-06-09T19:29:43.346244Z",
     "start_time": "2020-06-09T19:29:42.850507Z"
    }
   },
   "outputs": [],
   "source": [
    "weights = reweight(default_dataset_172_5=test_dataset_0_mjjj)"
   ]
  },
  {
   "cell_type": "markdown",
   "metadata": {},
   "source": [
    "### Analyze weights"
   ]
  },
  {
   "cell_type": "code",
   "execution_count": 19,
   "metadata": {
    "ExecuteTime": {
     "end_time": "2020-06-09T19:29:43.366256Z",
     "start_time": "2020-06-09T19:29:43.348331Z"
    }
   },
   "outputs": [
    {
     "name": "stdout",
     "output_type": "stream",
     "text": [
      "1.374267\n",
      "1.1101617\n"
     ]
    }
   ],
   "source": [
    "print(max(weights))\n",
    "print(max(1/weights))"
   ]
  },
  {
   "cell_type": "code",
   "execution_count": 23,
   "metadata": {
    "ExecuteTime": {
     "end_time": "2020-06-09T19:33:42.352876Z",
     "start_time": "2020-06-09T19:33:41.814032Z"
    }
   },
   "outputs": [
    {
     "data": {
      "image/png": "[encoded data removed]",
      "text/plain": [
       "<Figure size 432x288 with 1 Axes>"
      ]
     },
     "metadata": {
      "needs_background": "light"
     },
     "output_type": "display_data"
    }
   ],
   "source": [
    "clip_val = 3\n",
    "bins = np.linspace(0, clip_val, 101)\n",
    "plt.hist(np.clip(weights, 0, clip_val), bins = bins)\n",
    "plt.xlabel(\"Weight\")\n",
    "plt.ylabel('Jets per bin (normalized)')\n",
    "plt.title(\"Weights \" + label_0 + r'$\\rightarrow$ ' + label_1, fontsize = 20)\n",
    "#plt.savefig(\"Weights: Top Reweighting (fixed mass DCTR): m_{jjj} only.png\")\n",
    "plt.show()"
   ]
  },
  {
   "cell_type": "markdown",
   "metadata": {},
   "source": [
    "### Validating Reweighting"
   ]
  },
  {
   "cell_type": "code",
   "execution_count": 24,
   "metadata": {
    "ExecuteTime": {
     "end_time": "2020-06-09T19:33:43.330556Z",
     "start_time": "2020-06-09T19:33:43.325484Z"
    }
   },
   "outputs": [],
   "source": [
    "# Define default plot styles\n",
    "plot_style_0 = {'histtype':'step', 'color':'black', 'linewidth':2, 'linestyle':'--', 'density':True}\n",
    "plot_style_1 = {'alpha':0.5, 'density':True}"
   ]
  },
  {
   "cell_type": "code",
   "execution_count": 25,
   "metadata": {
    "ExecuteTime": {
     "end_time": "2020-06-09T19:33:44.563035Z",
     "start_time": "2020-06-09T19:33:43.733184Z"
    }
   },
   "outputs": [
    {
     "data": {
      "image/png": "[encoded data removed]",
      "text/plain": [
       "<Figure size 432x360 with 1 Axes>"
      ]
     },
     "metadata": {
      "needs_background": "light"
     },
     "output_type": "display_data"
    }
   ],
   "source": [
    "plt.figure(figsize=(6,5))\n",
    "plt.title(\"Top Reweighting (fixed mass DCTR): $m_{jjj}$ only\")\n",
    "bins = np.linspace(80,400,41)\n",
    "hist0 = plt.hist(test_dataset_0_mjjj, bins = bins, label = label_0, **plot_style_1)\n",
    "hist1 = plt.hist(test_dataset_1_mjjj, bins = bins, label = label_1, **plot_style_0)\n",
    "hist2 = plt.hist(test_dataset_0_mjjj, bins = bins, label = label_0 + ' wgt.', weights=weights, **plot_style_1)\n",
    "\n",
    "plt.xlabel('mjj')\n",
    "plt.ylabel('Jets per bin (normalized)')\n",
    "plt.xlim([80,400])\n",
    "make_legend()\n",
    "#plt.savefig(\"Top Reweighting (fixed mass DCTR): m_{jjj} only.png\")\n",
    "plt.show()"
   ]
  },
  {
   "cell_type": "code",
   "execution_count": null,
   "metadata": {},
   "outputs": [],
   "source": []
  }
 ],
 "metadata": {
  "kernelspec": {
   "display_name": "Python 3",
   "language": "python",
   "name": "python3"
  },
  "language_info": {
   "codemirror_mode": {
    "name": "ipython",
    "version": 3
   },
   "file_extension": ".py",
   "mimetype": "text/x-python",
   "name": "python",
   "nbconvert_exporter": "python",
   "pygments_lexer": "ipython3",
   "version": "3.5.2"
  },
  "toc": {
   "base_numbering": 1,
   "nav_menu": {},
   "number_sections": false,
   "sideBar": true,
   "skip_h1_title": false,
   "title_cell": "Table of Contents",
   "title_sidebar": "Contents",
   "toc_cell": false,
   "toc_position": {},
   "toc_section_display": true,
   "toc_window_display": false
  }
 },
 "nbformat": 4,
 "nbformat_minor": 2
}
