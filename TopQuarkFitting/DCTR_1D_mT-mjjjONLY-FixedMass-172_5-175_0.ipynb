{
 "cells": [
  {
   "cell_type": "markdown",
   "metadata": {},
   "source": [
    "# Top Mass DCTR 1D - $m_{jjj}$"
   ]
  },
  {
   "cell_type": "markdown",
   "metadata": {},
   "source": [
    "This notebook attempts to train and validate a DCTR model that reweights __only__ $m_T = 172.5 \\rightarrow 175.0$ using only reconstructed hadronic mass $m_{jjj}$ for each event"
   ]
  },
  {
   "cell_type": "code",
   "execution_count": 1,
   "metadata": {
    "ExecuteTime": {
     "end_time": "2020-06-04T16:44:07.447267Z",
     "start_time": "2020-06-04T16:44:07.443200Z"
    }
   },
   "outputs": [],
   "source": [
    "import os\n",
    "os.environ[\"CUDA_DEVICE_ORDER\"]=\"PCI_BUS_ID\"\n",
    "os.environ[\"CUDA_VISIBLE_DEVICES\"]=\"3\""
   ]
  },
  {
   "cell_type": "code",
   "execution_count": 2,
   "metadata": {
    "ExecuteTime": {
     "end_time": "2020-06-04T16:44:10.453358Z",
     "start_time": "2020-06-04T16:44:07.450685Z"
    }
   },
   "outputs": [
    {
     "name": "stderr",
     "output_type": "stream",
     "text": [
      "Using TensorFlow backend.\n"
     ]
    }
   ],
   "source": [
    "# standard library imports\n",
    "from __future__ import absolute_import, division, print_function\n",
    "\n",
    "import tensorflow as tf\n",
    "import numpy as np\n",
    "from matplotlib import pyplot as plt\n",
    "from sklearn.utils import shuffle\n",
    "from sklearn.model_selection import train_test_split\n",
    "from keras.utils import to_categorical\n",
    "from keras import Sequential\n",
    "from keras.layers import Lambda, Dense, Input, Layer, Dropout\n",
    "from keras.models import Model\n",
    "from keras.utils import to_categorical\n",
    "from keras.callbacks import LambdaCallback, EarlyStopping\n",
    "import keras.backend as K\n",
    "import keras\n",
    "\n",
    "\n",
    "import inspect\n",
    "\n",
    "# standard numerical library imports\n",
    "import numpy as np\n",
    "import scipy as sp\n",
    "\n",
    "# energyflow imports\n",
    "import energyflow as ef\n",
    "from energyflow.archs import PFN\n",
    "from energyflow.utils import data_split, remap_pids, to_categorical\n",
    "\n",
    "import matplotlib.pyplot as plt"
   ]
  },
  {
   "cell_type": "markdown",
   "metadata": {},
   "source": [
    "## Process Data"
   ]
  },
  {
   "cell_type": "code",
   "execution_count": 3,
   "metadata": {
    "ExecuteTime": {
     "end_time": "2020-06-04T16:44:10.460957Z",
     "start_time": "2020-06-04T16:44:10.456694Z"
    }
   },
   "outputs": [],
   "source": [
    "# Path to downloaded data from Zenodo\n",
    "data_dir0 = '/data1/users/aandreassen/DCTRFitting/'\n",
    "data_dir1 = '/data1/users/asuresh/DCTRFitting/'"
   ]
  },
  {
   "cell_type": "code",
   "execution_count": 4,
   "metadata": {
    "ExecuteTime": {
     "end_time": "2020-06-04T16:44:10.487280Z",
     "start_time": "2020-06-04T16:44:10.463542Z"
    }
   },
   "outputs": [
    {
     "name": "stdout",
     "output_type": "stream",
     "text": [
      "(287065, 1)\n",
      "(294294, 1)\n"
     ]
    }
   ],
   "source": [
    "# fetch m_jjj vals from default dataset\n",
    "train_dataset_0_mjjj = np.load(data_dir0 + 'part_172_5_6j_obs.npy')[:, :1]\n",
    "train_dataset_0_mjjj_x4 = np.load(data_dir1 +\n",
    "                                  'part_172_5_6j_obs_x4.npy')[:, :1]\n",
    "# combine orignal and x4 samples\n",
    "train_dataset_0_mjjj = np.concatenate(\n",
    "    (train_dataset_0_mjjj, train_dataset_0_mjjj_x4))\n",
    "\n",
    "print(np.shape(train_dataset_0_mjjj))\n",
    "\n",
    "# fetch m_jjj vals from varied dataset\n",
    "train_dataset_1_mjjj = np.load(data_dir0 + 'part_175_0_6j_obs.npy')[:, :1]\n",
    "train_dataset_1_mjjj_x4 = np.load(data_dir1 +\n",
    "                                  'part_175_0_6j_obs_x4.npy')[:, :1]\n",
    "# combine orignal and x4 samples\n",
    "train_dataset_1_mjjj = np.concatenate(\n",
    "    (train_dataset_1_mjjj,\n",
    "     train_dataset_1_mjjj_x4))  #[:len(train_dataset_0_mjjj)]\n",
    "\n",
    "print(np.shape(train_dataset_1_mjjj))"
   ]
  },
  {
   "cell_type": "markdown",
   "metadata": {},
   "source": [
    "The model will see an unequal number of events from the uniformly sampled mass data and the fixed mass data. We will have to correct this with a liklihood ratio factor when reweighting."
   ]
  },
  {
   "cell_type": "code",
   "execution_count": 5,
   "metadata": {
    "ExecuteTime": {
     "end_time": "2020-06-04T16:44:10.496437Z",
     "start_time": "2020-06-04T16:44:10.490637Z"
    }
   },
   "outputs": [
    {
     "name": "stdout",
     "output_type": "stream",
     "text": [
      "1.0251824499677773\n"
     ]
    }
   ],
   "source": [
    "X0 = train_dataset_0_mjjj\n",
    "X1 = train_dataset_1_mjjj\n",
    "\n",
    "print(len(X1)/len(X0)) # different sizes if != 1"
   ]
  },
  {
   "cell_type": "code",
   "execution_count": 6,
   "metadata": {
    "ExecuteTime": {
     "end_time": "2020-06-04T16:44:10.505988Z",
     "start_time": "2020-06-04T16:44:10.499446Z"
    }
   },
   "outputs": [],
   "source": [
    "Y0 = np.zeros_like(X0[:,0])\n",
    "Y1 = np.ones_like(X1[:,0])"
   ]
  },
  {
   "cell_type": "code",
   "execution_count": 7,
   "metadata": {
    "ExecuteTime": {
     "end_time": "2020-06-04T16:44:10.534329Z",
     "start_time": "2020-06-04T16:44:10.509213Z"
    }
   },
   "outputs": [],
   "source": [
    "X = np.concatenate((X0, X1), axis = 0)\n",
    "\n",
    "Y = np.concatenate((Y0, Y1), axis = 0)\n",
    "Y = to_categorical(Y, num_classes=2)"
   ]
  },
  {
   "cell_type": "code",
   "execution_count": 8,
   "metadata": {
    "ExecuteTime": {
     "end_time": "2020-06-04T16:44:10.624240Z",
     "start_time": "2020-06-04T16:44:10.537039Z"
    }
   },
   "outputs": [],
   "source": [
    "X_train, X_val, Y_train, Y_val = data_split(X, Y, test=0.2, shuffle=True)"
   ]
  },
  {
   "cell_type": "code",
   "execution_count": 9,
   "metadata": {
    "ExecuteTime": {
     "end_time": "2020-06-04T16:44:10.633053Z",
     "start_time": "2020-06-04T16:44:10.627716Z"
    }
   },
   "outputs": [
    {
     "name": "stdout",
     "output_type": "stream",
     "text": [
      "(465088, 1)\n",
      "(465088, 2)\n",
      "(116271, 1)\n",
      "(116271, 2)\n"
     ]
    }
   ],
   "source": [
    "print(X_train.shape)\n",
    "print(Y_train.shape)\n",
    "\n",
    "print(X_val.shape)\n",
    "print(Y_val.shape)"
   ]
  },
  {
   "cell_type": "markdown",
   "metadata": {},
   "source": [
    "## Build Model"
   ]
  },
  {
   "cell_type": "code",
   "execution_count": 10,
   "metadata": {
    "ExecuteTime": {
     "end_time": "2020-06-04T16:44:10.763815Z",
     "start_time": "2020-06-04T16:44:10.635626Z"
    }
   },
   "outputs": [
    {
     "name": "stdout",
     "output_type": "stream",
     "text": [
      "WARNING:tensorflow:From /home/asuresh/.local/lib/python3.5/site-packages/keras/backend/tensorflow_backend.py:74: The name tf.get_default_graph is deprecated. Please use tf.compat.v1.get_default_graph instead.\n",
      "\n",
      "WARNING:tensorflow:From /home/asuresh/.local/lib/python3.5/site-packages/keras/backend/tensorflow_backend.py:517: The name tf.placeholder is deprecated. Please use tf.compat.v1.placeholder instead.\n",
      "\n",
      "WARNING:tensorflow:From /home/asuresh/.local/lib/python3.5/site-packages/keras/backend/tensorflow_backend.py:4138: The name tf.random_uniform is deprecated. Please use tf.random.uniform instead.\n",
      "\n",
      "WARNING:tensorflow:From /home/asuresh/.local/lib/python3.5/site-packages/keras/optimizers.py:790: The name tf.train.Optimizer is deprecated. Please use tf.compat.v1.train.Optimizer instead.\n",
      "\n",
      "WARNING:tensorflow:From /home/asuresh/.local/lib/python3.5/site-packages/keras/backend/tensorflow_backend.py:3295: The name tf.log is deprecated. Please use tf.math.log instead.\n",
      "\n"
     ]
    }
   ],
   "source": [
    "inputs = Input((1,))\n",
    "hidden_layer_1 = Dense(50, activation='relu')(inputs)\n",
    "hidden_layer_2 = Dense(50, activation='relu')(hidden_layer_1)\n",
    "hidden_layer_3 = Dense(50, activation='relu')(hidden_layer_2)\n",
    "\n",
    "outputs = Dense(2, activation='softmax')(hidden_layer_3)\n",
    "\n",
    "dctr = Model(inputs = inputs, outputs = outputs)\n",
    "dctr.compile(loss='categorical_crossentropy', optimizer='Adam')"
   ]
  },
  {
   "cell_type": "markdown",
   "metadata": {},
   "source": [
    "## Train model"
   ]
  },
  {
   "cell_type": "markdown",
   "metadata": {},
   "source": [
    "Model has a tendency to initialize at trivial minima of the loss function (loss ~ 8 or loss ~7); the mode's outputs are all [1, 0] or all [0, 1] respecively in these cases. We do 100 iterations of initializations to explore the fraction of initiziations that succeed in being able to train a non-trivial model(loss after first epoch ~1), and keep the weights from such a model to complete the rest of training."
   ]
  },
  {
   "cell_type": "code",
   "execution_count": 11,
   "metadata": {
    "ExecuteTime": {
     "end_time": "2020-06-04T16:49:19.785457Z",
     "start_time": "2020-06-04T16:44:10.766492Z"
    }
   },
   "outputs": [
    {
     "name": "stdout",
     "output_type": "stream",
     "text": [
      "Iteration:  0\n",
      "WARNING:tensorflow:From /home/asuresh/.local/lib/python3.5/site-packages/keras/backend/tensorflow_backend.py:95: The name tf.reset_default_graph is deprecated. Please use tf.compat.v1.reset_default_graph instead.\n",
      "\n",
      "WARNING:tensorflow:From /home/asuresh/.local/lib/python3.5/site-packages/keras/backend/tensorflow_backend.py:98: The name tf.placeholder_with_default is deprecated. Please use tf.compat.v1.placeholder_with_default instead.\n",
      "\n",
      "WARNING:tensorflow:From /home/asuresh/.local/lib/python3.5/site-packages/tensorflow_core/python/ops/math_grad.py:1424: where (from tensorflow.python.ops.array_ops) is deprecated and will be removed in a future version.\n",
      "Instructions for updating:\n",
      "Use tf.where in 2.0, which has the same broadcast rule as np.where\n",
      "WARNING:tensorflow:From /home/asuresh/.local/lib/python3.5/site-packages/keras/backend/tensorflow_backend.py:986: The name tf.assign_add is deprecated. Please use tf.compat.v1.assign_add instead.\n",
      "\n",
      "WARNING:tensorflow:From /home/asuresh/.local/lib/python3.5/site-packages/keras/backend/tensorflow_backend.py:973: The name tf.assign is deprecated. Please use tf.compat.v1.assign instead.\n",
      "\n",
      "WARNING:tensorflow:From /home/asuresh/.local/lib/python3.5/site-packages/keras/backend/tensorflow_backend.py:2741: The name tf.Session is deprecated. Please use tf.compat.v1.Session instead.\n",
      "\n",
      "Train on 465088 samples, validate on 116271 samples\n",
      "Epoch 1/1\n",
      "WARNING:tensorflow:From /home/asuresh/.local/lib/python3.5/site-packages/keras/backend/tensorflow_backend.py:174: The name tf.get_default_session is deprecated. Please use tf.compat.v1.get_default_session instead.\n",
      "\n",
      "WARNING:tensorflow:From /home/asuresh/.local/lib/python3.5/site-packages/keras/backend/tensorflow_backend.py:181: The name tf.ConfigProto is deprecated. Please use tf.compat.v1.ConfigProto instead.\n",
      "\n",
      "WARNING:tensorflow:From /home/asuresh/.local/lib/python3.5/site-packages/keras/backend/tensorflow_backend.py:190: The name tf.global_variables is deprecated. Please use tf.compat.v1.global_variables instead.\n",
      "\n",
      "WARNING:tensorflow:From /home/asuresh/.local/lib/python3.5/site-packages/keras/backend/tensorflow_backend.py:199: The name tf.is_variable_initialized is deprecated. Please use tf.compat.v1.is_variable_initialized instead.\n",
      "\n",
      "WARNING:tensorflow:From /home/asuresh/.local/lib/python3.5/site-packages/keras/backend/tensorflow_backend.py:206: The name tf.variables_initializer is deprecated. Please use tf.compat.v1.variables_initializer instead.\n",
      "\n",
      " - 4s - loss: 0.7386 - acc: 0.5006 - val_loss: 0.7271 - val_acc: 0.5064\n",
      "Success\n",
      "Iteration:  1\n",
      "Train on 465088 samples, validate on 116271 samples\n",
      "Epoch 1/1\n",
      " - 2s - loss: 0.7366 - acc: 0.4997 - val_loss: 0.7254 - val_acc: 0.5064\n",
      "Success\n",
      "Iteration:  2\n",
      "Train on 465088 samples, validate on 116271 samples\n",
      "Epoch 1/1\n",
      " - 2s - loss: 0.7557 - acc: 0.5008 - val_loss: 0.7746 - val_acc: 0.4936\n",
      "Success\n",
      "Iteration:  3\n",
      "Train on 465088 samples, validate on 116271 samples\n",
      "Epoch 1/1\n",
      " - 2s - loss: 0.7676 - acc: 0.5011 - val_loss: 0.7298 - val_acc: 0.5064\n",
      "Success\n",
      "Iteration:  4\n",
      "Train on 465088 samples, validate on 116271 samples\n",
      "Epoch 1/1\n",
      " - 2s - loss: 0.7184 - acc: 0.5001 - val_loss: 0.6946 - val_acc: 0.4936\n",
      "Success\n",
      "Iteration:  5\n",
      "Train on 465088 samples, validate on 116271 samples\n",
      "Epoch 1/1\n",
      " - 2s - loss: 0.7786 - acc: 0.5000 - val_loss: 0.7001 - val_acc: 0.5064\n",
      "Success\n",
      "Iteration:  6\n",
      "Train on 465088 samples, validate on 116271 samples\n",
      "Epoch 1/1\n",
      " - 2s - loss: 0.7904 - acc: 0.5005 - val_loss: 0.7286 - val_acc: 0.5064\n",
      "Success\n",
      "Iteration:  7\n",
      "Train on 465088 samples, validate on 116271 samples\n",
      "Epoch 1/1\n",
      " - 2s - loss: 0.7165 - acc: 0.5005 - val_loss: 0.6950 - val_acc: 0.4936\n",
      "Success\n",
      "Iteration:  8\n",
      "Train on 465088 samples, validate on 116271 samples\n",
      "Epoch 1/1\n",
      " - 2s - loss: 0.7367 - acc: 0.5017 - val_loss: 0.6993 - val_acc: 0.4936\n",
      "Success\n",
      "Iteration:  9\n",
      "Train on 465088 samples, validate on 116271 samples\n",
      "Epoch 1/1\n",
      " - 2s - loss: 0.7614 - acc: 0.5009 - val_loss: 0.7044 - val_acc: 0.5064\n",
      "Success\n",
      "Iteration:  10\n",
      "Train on 465088 samples, validate on 116271 samples\n",
      "Epoch 1/1\n",
      " - 2s - loss: 0.7744 - acc: 0.5003 - val_loss: 0.7514 - val_acc: 0.4936\n",
      "Success\n",
      "Iteration:  11\n",
      "Train on 465088 samples, validate on 116271 samples\n",
      "Epoch 1/1\n",
      " - 2s - loss: 0.7144 - acc: 0.5008 - val_loss: 0.7023 - val_acc: 0.4936\n",
      "Success\n",
      "Iteration:  12\n",
      "Train on 465088 samples, validate on 116271 samples\n",
      "Epoch 1/1\n",
      " - 2s - loss: 0.7975 - acc: 0.5012 - val_loss: 0.6979 - val_acc: 0.5064\n",
      "Success\n",
      "Iteration:  13\n",
      "Train on 465088 samples, validate on 116271 samples\n",
      "Epoch 1/1\n",
      " - 2s - loss: 0.7518 - acc: 0.5013 - val_loss: 0.6931 - val_acc: 0.5066\n",
      "Success\n",
      "Iteration:  14\n",
      "Train on 465088 samples, validate on 116271 samples\n",
      "Epoch 1/1\n",
      " - 2s - loss: 0.7292 - acc: 0.5010 - val_loss: 0.6948 - val_acc: 0.4936\n",
      "Success\n",
      "Iteration:  15\n",
      "Train on 465088 samples, validate on 116271 samples\n",
      "Epoch 1/1\n",
      " - 2s - loss: 0.7211 - acc: 0.5022 - val_loss: 0.6956 - val_acc: 0.4936\n",
      "Success\n",
      "Iteration:  16\n",
      "Train on 465088 samples, validate on 116271 samples\n",
      "Epoch 1/1\n",
      " - 3s - loss: 0.7670 - acc: 0.5008 - val_loss: 0.6932 - val_acc: 0.4947\n",
      "Success\n",
      "Iteration:  17\n",
      "Train on 465088 samples, validate on 116271 samples\n",
      "Epoch 1/1\n",
      " - 2s - loss: 8.1584 - acc: 0.4938 - val_loss: 8.1625 - val_acc: 0.4936\n",
      "Fail (case 1)\n",
      "Iteration:  18\n",
      "Train on 465088 samples, validate on 116271 samples\n",
      "Epoch 1/1\n",
      " - 2s - loss: 0.7418 - acc: 0.5021 - val_loss: 0.7524 - val_acc: 0.4936\n",
      "Success\n",
      "Iteration:  19\n",
      "Train on 465088 samples, validate on 116271 samples\n",
      "Epoch 1/1\n",
      " - 2s - loss: 0.7111 - acc: 0.5006 - val_loss: 0.6933 - val_acc: 0.4940\n",
      "Success\n",
      "Iteration:  20\n",
      "Train on 465088 samples, validate on 116271 samples\n",
      "Epoch 1/1\n",
      " - 2s - loss: 0.7214 - acc: 0.5023 - val_loss: 0.7003 - val_acc: 0.5064\n",
      "Success\n",
      "Iteration:  21\n",
      "Train on 465088 samples, validate on 116271 samples\n",
      "Epoch 1/1\n",
      " - 2s - loss: 0.7199 - acc: 0.5016 - val_loss: 0.7284 - val_acc: 0.5064\n",
      "Success\n",
      "Iteration:  22\n",
      "Train on 465088 samples, validate on 116271 samples\n",
      "Epoch 1/1\n",
      " - 2s - loss: 7.9597 - acc: 0.5062 - val_loss: 7.9556 - val_acc: 0.5064\n",
      "Fail (case 1)\n",
      "Iteration:  23\n",
      "Train on 465088 samples, validate on 116271 samples\n",
      "Epoch 1/1\n",
      " - 2s - loss: 0.7801 - acc: 0.5013 - val_loss: 0.6992 - val_acc: 0.4936\n",
      "Success\n",
      "Iteration:  24\n",
      "Train on 465088 samples, validate on 116271 samples\n",
      "Epoch 1/1\n",
      " - 2s - loss: 0.7573 - acc: 0.5008 - val_loss: 0.7270 - val_acc: 0.5064\n",
      "Success\n",
      "Iteration:  25\n",
      "Train on 465088 samples, validate on 116271 samples\n",
      "Epoch 1/1\n",
      " - 2s - loss: 0.7840 - acc: 0.5012 - val_loss: 0.7253 - val_acc: 0.5064\n",
      "Success\n",
      "Iteration:  26\n",
      "Train on 465088 samples, validate on 116271 samples\n",
      "Epoch 1/1\n",
      " - 2s - loss: 0.7893 - acc: 0.4998 - val_loss: 0.6934 - val_acc: 0.5064\n",
      "Success\n",
      "Iteration:  27\n",
      "Train on 465088 samples, validate on 116271 samples\n",
      "Epoch 1/1\n",
      " - 2s - loss: 0.7567 - acc: 0.5004 - val_loss: 0.7376 - val_acc: 0.5064\n",
      "Success\n",
      "Iteration:  28\n",
      "Train on 465088 samples, validate on 116271 samples\n",
      "Epoch 1/1\n",
      " - 2s - loss: 0.7472 - acc: 0.5005 - val_loss: 0.6931 - val_acc: 0.4998\n",
      "Success\n",
      "Iteration:  29\n",
      "Train on 465088 samples, validate on 116271 samples\n",
      "Epoch 1/1\n",
      " - 2s - loss: 0.7310 - acc: 0.5010 - val_loss: 0.6931 - val_acc: 0.5064\n",
      "Success\n",
      "Iteration:  30\n",
      "Train on 465088 samples, validate on 116271 samples\n",
      "Epoch 1/1\n",
      " - 2s - loss: 0.7843 - acc: 0.5006 - val_loss: 0.7146 - val_acc: 0.4936\n",
      "Success\n",
      "Iteration:  31\n",
      "Train on 465088 samples, validate on 116271 samples\n",
      "Epoch 1/1\n",
      " - 2s - loss: 0.8048 - acc: 0.5000 - val_loss: 0.6945 - val_acc: 0.5064\n",
      "Success\n",
      "Iteration:  32\n",
      "Train on 465088 samples, validate on 116271 samples\n",
      "Epoch 1/1\n",
      " - 2s - loss: 0.7124 - acc: 0.5000 - val_loss: 0.7828 - val_acc: 0.4936\n",
      "Success\n",
      "Iteration:  33\n",
      "Train on 465088 samples, validate on 116271 samples\n",
      "Epoch 1/1\n",
      " - 2s - loss: 0.7308 - acc: 0.5011 - val_loss: 0.7081 - val_acc: 0.5064\n",
      "Success\n",
      "Iteration:  34\n",
      "Train on 465088 samples, validate on 116271 samples\n",
      "Epoch 1/1\n",
      " - 2s - loss: 0.7811 - acc: 0.5010 - val_loss: 0.6995 - val_acc: 0.4936\n",
      "Success\n",
      "Iteration:  35\n",
      "Train on 465088 samples, validate on 116271 samples\n",
      "Epoch 1/1\n",
      " - 2s - loss: 0.7846 - acc: 0.5012 - val_loss: 0.7077 - val_acc: 0.5064\n",
      "Success\n",
      "Iteration:  36\n",
      "Train on 465088 samples, validate on 116271 samples\n",
      "Epoch 1/1\n",
      " - 2s - loss: 8.1584 - acc: 0.4938 - val_loss: 8.1625 - val_acc: 0.4936\n"
     ]
    },
    {
     "name": "stdout",
     "output_type": "stream",
     "text": [
      "Fail (case 1)\n",
      "Iteration:  37\n",
      "Train on 465088 samples, validate on 116271 samples\n",
      "Epoch 1/1\n",
      " - 2s - loss: 7.9597 - acc: 0.5062 - val_loss: 7.9556 - val_acc: 0.5064\n",
      "Fail (case 1)\n",
      "Iteration:  38\n",
      "Train on 465088 samples, validate on 116271 samples\n",
      "Epoch 1/1\n",
      " - 2s - loss: 0.7452 - acc: 0.5008 - val_loss: 0.7194 - val_acc: 0.4936\n",
      "Success\n",
      "Iteration:  39\n",
      "Train on 465088 samples, validate on 116271 samples\n",
      "Epoch 1/1\n",
      " - 2s - loss: 8.1584 - acc: 0.4938 - val_loss: 8.1625 - val_acc: 0.4936\n",
      "Fail (case 1)\n",
      "Iteration:  40\n",
      "Train on 465088 samples, validate on 116271 samples\n",
      "Epoch 1/1\n",
      " - 2s - loss: 8.1584 - acc: 0.4938 - val_loss: 8.1625 - val_acc: 0.4936\n",
      "Fail (case 1)\n",
      "Iteration:  41\n",
      "Train on 465088 samples, validate on 116271 samples\n",
      "Epoch 1/1\n",
      " - 2s - loss: 7.9597 - acc: 0.5062 - val_loss: 7.9556 - val_acc: 0.5064\n",
      "Fail (case 1)\n",
      "Iteration:  42\n",
      "Train on 465088 samples, validate on 116271 samples\n",
      "Epoch 1/1\n",
      " - 2s - loss: 0.7751 - acc: 0.5027 - val_loss: 0.6951 - val_acc: 0.4936\n",
      "Success\n",
      "Iteration:  43\n",
      "Train on 465088 samples, validate on 116271 samples\n",
      "Epoch 1/1\n",
      " - 2s - loss: 0.7134 - acc: 0.5005 - val_loss: 0.7606 - val_acc: 0.5064\n",
      "Success\n",
      "Iteration:  44\n",
      "Train on 465088 samples, validate on 116271 samples\n",
      "Epoch 1/1\n",
      " - 2s - loss: 0.7561 - acc: 0.5011 - val_loss: 0.7045 - val_acc: 0.5064\n",
      "Success\n",
      "Iteration:  45\n",
      "Train on 465088 samples, validate on 116271 samples\n",
      "Epoch 1/1\n",
      " - 2s - loss: 0.7169 - acc: 0.5006 - val_loss: 0.7043 - val_acc: 0.5064\n",
      "Success\n",
      "Iteration:  46\n",
      "Train on 465088 samples, validate on 116271 samples\n",
      "Epoch 1/1\n",
      " - 2s - loss: 8.1584 - acc: 0.4938 - val_loss: 8.1625 - val_acc: 0.4936\n",
      "Fail (case 1)\n",
      "Iteration:  47\n",
      "Train on 465088 samples, validate on 116271 samples\n",
      "Epoch 1/1\n",
      " - 2s - loss: 0.7269 - acc: 0.5008 - val_loss: 0.6980 - val_acc: 0.4936\n",
      "Success\n",
      "Iteration:  48\n",
      "Train on 465088 samples, validate on 116271 samples\n",
      "Epoch 1/1\n",
      " - 2s - loss: 0.7241 - acc: 0.4997 - val_loss: 0.7513 - val_acc: 0.4936\n",
      "Success\n",
      "Iteration:  49\n",
      "Train on 465088 samples, validate on 116271 samples\n",
      "Epoch 1/1\n",
      " - 2s - loss: 0.7402 - acc: 0.5016 - val_loss: 0.7011 - val_acc: 0.4936\n",
      "Success\n",
      "Iteration:  50\n",
      "Train on 465088 samples, validate on 116271 samples\n",
      "Epoch 1/1\n",
      " - 2s - loss: 8.1584 - acc: 0.4938 - val_loss: 8.1625 - val_acc: 0.4936\n",
      "Fail (case 1)\n",
      "Iteration:  51\n",
      "Train on 465088 samples, validate on 116271 samples\n",
      "Epoch 1/1\n",
      " - 2s - loss: 8.1584 - acc: 0.4938 - val_loss: 8.1625 - val_acc: 0.4936\n",
      "Fail (case 1)\n",
      "Iteration:  52\n",
      "Train on 465088 samples, validate on 116271 samples\n",
      "Epoch 1/1\n",
      " - 2s - loss: 0.7622 - acc: 0.5012 - val_loss: 0.7168 - val_acc: 0.4936\n",
      "Success\n",
      "Iteration:  53\n",
      "Train on 465088 samples, validate on 116271 samples\n",
      "Epoch 1/1\n",
      " - 2s - loss: 0.7683 - acc: 0.5018 - val_loss: 0.7160 - val_acc: 0.4936\n",
      "Success\n",
      "Iteration:  54\n",
      "Train on 465088 samples, validate on 116271 samples\n",
      "Epoch 1/1\n",
      " - 2s - loss: 0.7766 - acc: 0.5012 - val_loss: 0.7321 - val_acc: 0.4936\n",
      "Success\n",
      "Iteration:  55\n",
      "Train on 465088 samples, validate on 116271 samples\n",
      "Epoch 1/1\n",
      " - 2s - loss: 8.1584 - acc: 0.4938 - val_loss: 8.1625 - val_acc: 0.4936\n",
      "Fail (case 1)\n",
      "Iteration:  56\n",
      "Train on 465088 samples, validate on 116271 samples\n",
      "Epoch 1/1\n",
      " - 2s - loss: 0.7506 - acc: 0.5002 - val_loss: 0.7148 - val_acc: 0.4936\n",
      "Success\n",
      "Iteration:  57\n",
      "Train on 465088 samples, validate on 116271 samples\n",
      "Epoch 1/1\n",
      " - 2s - loss: 0.7426 - acc: 0.5004 - val_loss: 0.6979 - val_acc: 0.4936\n",
      "Success\n",
      "Iteration:  58\n",
      "Train on 465088 samples, validate on 116271 samples\n",
      "Epoch 1/1\n",
      " - 2s - loss: 0.7259 - acc: 0.5015 - val_loss: 0.6947 - val_acc: 0.4936\n",
      "Success\n",
      "Iteration:  59\n",
      "Train on 465088 samples, validate on 116271 samples\n",
      "Epoch 1/1\n",
      " - 2s - loss: 0.7099 - acc: 0.4989 - val_loss: 0.7188 - val_acc: 0.5064\n",
      "Success\n",
      "Iteration:  60\n",
      "Train on 465088 samples, validate on 116271 samples\n",
      "Epoch 1/1\n",
      " - 2s - loss: 8.1584 - acc: 0.4938 - val_loss: 8.1625 - val_acc: 0.4936\n",
      "Fail (case 1)\n",
      "Iteration:  61\n",
      "Train on 465088 samples, validate on 116271 samples\n",
      "Epoch 1/1\n",
      " - 2s - loss: 0.7391 - acc: 0.4996 - val_loss: 0.7234 - val_acc: 0.4936\n",
      "Success\n",
      "Iteration:  62\n",
      "Train on 465088 samples, validate on 116271 samples\n",
      "Epoch 1/1\n",
      " - 3s - loss: 8.1584 - acc: 0.4938 - val_loss: 8.1625 - val_acc: 0.4936\n",
      "Fail (case 1)\n",
      "Iteration:  63\n",
      "Train on 465088 samples, validate on 116271 samples\n",
      "Epoch 1/1\n",
      " - 2s - loss: 8.1584 - acc: 0.4938 - val_loss: 8.1625 - val_acc: 0.4936\n",
      "Fail (case 1)\n",
      "Iteration:  64\n",
      "Train on 465088 samples, validate on 116271 samples\n",
      "Epoch 1/1\n",
      " - 2s - loss: 1.6355 - acc: 0.5016 - val_loss: 0.7050 - val_acc: 0.5064\n",
      "Success\n",
      "Iteration:  65\n",
      "Train on 465088 samples, validate on 116271 samples\n",
      "Epoch 1/1\n",
      " - 3s - loss: 0.7222 - acc: 0.5010 - val_loss: 0.7084 - val_acc: 0.5064\n",
      "Success\n",
      "Iteration:  66\n",
      "Train on 465088 samples, validate on 116271 samples\n",
      "Epoch 1/1\n",
      " - 2s - loss: 0.7029 - acc: 0.5001 - val_loss: 0.6942 - val_acc: 0.4936\n",
      "Success\n",
      "Iteration:  67\n",
      "Train on 465088 samples, validate on 116271 samples\n",
      "Epoch 1/1\n",
      " - 2s - loss: 0.7163 - acc: 0.5015 - val_loss: 0.7027 - val_acc: 0.4936\n",
      "Success\n",
      "Iteration:  68\n",
      "Train on 465088 samples, validate on 116271 samples\n",
      "Epoch 1/1\n",
      " - 2s - loss: 0.7487 - acc: 0.5015 - val_loss: 0.6980 - val_acc: 0.5064\n",
      "Success\n",
      "Iteration:  69\n",
      "Train on 465088 samples, validate on 116271 samples\n",
      "Epoch 1/1\n",
      " - 3s - loss: 0.7183 - acc: 0.5012 - val_loss: 0.7061 - val_acc: 0.4936\n",
      "Success\n",
      "Iteration:  70\n",
      "Train on 465088 samples, validate on 116271 samples\n",
      "Epoch 1/1\n",
      " - 2s - loss: 0.8020 - acc: 0.5015 - val_loss: 0.6930 - val_acc: 0.5062\n",
      "Success\n",
      "Iteration:  71\n",
      "Train on 465088 samples, validate on 116271 samples\n",
      "Epoch 1/1\n",
      " - 3s - loss: 0.7653 - acc: 0.5015 - val_loss: 0.7141 - val_acc: 0.5064\n",
      "Success\n",
      "Iteration:  72\n",
      "Train on 465088 samples, validate on 116271 samples\n",
      "Epoch 1/1\n",
      " - 2s - loss: 0.7111 - acc: 0.5006 - val_loss: 0.6931 - val_acc: 0.5067\n",
      "Success\n",
      "Iteration:  73\n",
      "Train on 465088 samples, validate on 116271 samples\n",
      "Epoch 1/1\n",
      " - 2s - loss: 0.7426 - acc: 0.5010 - val_loss: 0.6944 - val_acc: 0.5064\n",
      "Success\n",
      "Iteration:  74\n",
      "Train on 465088 samples, validate on 116271 samples\n",
      "Epoch 1/1\n",
      " - 2s - loss: 0.7897 - acc: 0.5011 - val_loss: 0.6999 - val_acc: 0.5064\n",
      "Success\n",
      "Iteration:  75\n",
      "Train on 465088 samples, validate on 116271 samples\n",
      "Epoch 1/1\n",
      " - 2s - loss: 7.9597 - acc: 0.5062 - val_loss: 7.9556 - val_acc: 0.5064\n",
      "Fail (case 1)\n",
      "Iteration:  76\n",
      "Train on 465088 samples, validate on 116271 samples\n",
      "Epoch 1/1\n",
      " - 2s - loss: 0.7295 - acc: 0.4993 - val_loss: 0.6973 - val_acc: 0.4936\n",
      "Success\n",
      "Iteration:  77\n",
      "Train on 465088 samples, validate on 116271 samples\n",
      "Epoch 1/1\n",
      " - 2s - loss: 0.7147 - acc: 0.4996 - val_loss: 0.7707 - val_acc: 0.4936\n",
      "Success\n",
      "Iteration:  78\n",
      "Train on 465088 samples, validate on 116271 samples\n",
      "Epoch 1/1\n",
      " - 2s - loss: 0.7562 - acc: 0.4999 - val_loss: 0.7045 - val_acc: 0.5064\n",
      "Success\n",
      "Iteration:  79\n",
      "Train on 465088 samples, validate on 116271 samples\n",
      "Epoch 1/1\n",
      " - 2s - loss: 0.7735 - acc: 0.5013 - val_loss: 0.6938 - val_acc: 0.5064\n",
      "Success\n",
      "Iteration:  80\n",
      "Train on 465088 samples, validate on 116271 samples\n",
      "Epoch 1/1\n",
      " - 2s - loss: 8.1584 - acc: 0.4938 - val_loss: 8.1625 - val_acc: 0.4936\n",
      "Fail (case 1)\n",
      "Iteration:  81\n",
      "Train on 465088 samples, validate on 116271 samples\n",
      "Epoch 1/1\n",
      " - 2s - loss: 0.9313 - acc: 0.5014 - val_loss: 0.7269 - val_acc: 0.5064\n",
      "Success\n",
      "Iteration:  82\n",
      "Train on 465088 samples, validate on 116271 samples\n",
      "Epoch 1/1\n",
      " - 3s - loss: 0.7382 - acc: 0.5015 - val_loss: 0.6974 - val_acc: 0.5064\n",
      "Success\n",
      "Iteration:  83\n",
      "Train on 465088 samples, validate on 116271 samples\n",
      "Epoch 1/1\n",
      " - 2s - loss: 0.7298 - acc: 0.5010 - val_loss: 0.6972 - val_acc: 0.5064\n",
      "Success\n",
      "Iteration:  84\n",
      "Train on 465088 samples, validate on 116271 samples\n",
      "Epoch 1/1\n",
      " - 2s - loss: 0.7217 - acc: 0.5005 - val_loss: 0.7204 - val_acc: 0.4936\n",
      "Success\n",
      "Iteration:  85\n",
      "Train on 465088 samples, validate on 116271 samples\n",
      "Epoch 1/1\n",
      " - 2s - loss: 0.7371 - acc: 0.5012 - val_loss: 0.6979 - val_acc: 0.5064\n",
      "Success\n",
      "Iteration:  86\n",
      "Train on 465088 samples, validate on 116271 samples\n",
      "Epoch 1/1\n",
      " - 2s - loss: 0.7403 - acc: 0.5008 - val_loss: 0.7168 - val_acc: 0.5064\n",
      "Success\n",
      "Iteration:  87\n",
      "Train on 465088 samples, validate on 116271 samples\n",
      "Epoch 1/1\n",
      " - 2s - loss: 0.7184 - acc: 0.4999 - val_loss: 0.6976 - val_acc: 0.4936\n",
      "Success\n",
      "Iteration:  88\n",
      "Train on 465088 samples, validate on 116271 samples\n",
      "Epoch 1/1\n",
      " - 2s - loss: 0.7125 - acc: 0.4997 - val_loss: 0.6932 - val_acc: 0.5064\n"
     ]
    },
    {
     "name": "stdout",
     "output_type": "stream",
     "text": [
      "Success\n",
      "Iteration:  89\n",
      "Train on 465088 samples, validate on 116271 samples\n",
      "Epoch 1/1\n",
      " - 2s - loss: 0.7779 - acc: 0.5021 - val_loss: 0.6970 - val_acc: 0.5064\n",
      "Success\n",
      "Iteration:  90\n",
      "Train on 465088 samples, validate on 116271 samples\n",
      "Epoch 1/1\n",
      " - 2s - loss: 0.8005 - acc: 0.5001 - val_loss: 0.6996 - val_acc: 0.4936\n",
      "Success\n",
      "Iteration:  91\n",
      "Train on 465088 samples, validate on 116271 samples\n",
      "Epoch 1/1\n",
      " - 2s - loss: 0.7932 - acc: 0.5017 - val_loss: 0.6947 - val_acc: 0.4936\n",
      "Success\n",
      "Iteration:  92\n",
      "Train on 465088 samples, validate on 116271 samples\n",
      "Epoch 1/1\n",
      " - 2s - loss: 0.8019 - acc: 0.5017 - val_loss: 0.6951 - val_acc: 0.4936\n",
      "Success\n",
      "Iteration:  93\n",
      "Train on 465088 samples, validate on 116271 samples\n",
      "Epoch 1/1\n",
      " - 2s - loss: 0.7202 - acc: 0.5016 - val_loss: 0.7180 - val_acc: 0.5064\n",
      "Success\n",
      "Iteration:  94\n",
      "Train on 465088 samples, validate on 116271 samples\n",
      "Epoch 1/1\n",
      " - 2s - loss: 0.7093 - acc: 0.5006 - val_loss: 0.7058 - val_acc: 0.4936\n",
      "Success\n",
      "Iteration:  95\n",
      "Train on 465088 samples, validate on 116271 samples\n",
      "Epoch 1/1\n",
      " - 2s - loss: 0.7509 - acc: 0.4997 - val_loss: 0.6948 - val_acc: 0.4936\n",
      "Success\n",
      "Iteration:  96\n",
      "Train on 465088 samples, validate on 116271 samples\n",
      "Epoch 1/1\n",
      " - 2s - loss: 0.7586 - acc: 0.5005 - val_loss: 0.6987 - val_acc: 0.5064\n",
      "Success\n",
      "Iteration:  97\n",
      "Train on 465088 samples, validate on 116271 samples\n",
      "Epoch 1/1\n",
      " - 2s - loss: 0.7432 - acc: 0.5018 - val_loss: 0.6931 - val_acc: 0.5002\n",
      "Success\n",
      "Iteration:  98\n",
      "Train on 465088 samples, validate on 116271 samples\n",
      "Epoch 1/1\n",
      " - 2s - loss: 0.7881 - acc: 0.5000 - val_loss: 0.7043 - val_acc: 0.5064\n",
      "Success\n",
      "Iteration:  99\n",
      "Train on 465088 samples, validate on 116271 samples\n",
      "Epoch 1/1\n",
      " - 2s - loss: 0.7706 - acc: 0.5004 - val_loss: 0.6931 - val_acc: 0.5064\n",
      "Success\n"
     ]
    }
   ],
   "source": [
    "n_fail1 = 0\n",
    "n_fail2 = 0\n",
    "n_succ = 0\n",
    "iterations = 100\n",
    "\n",
    "dctr_weights = 0\n",
    "\n",
    "for i in range(iterations):\n",
    "    print(\"Iteration: \", i)\n",
    "\n",
    "    K.clear_session()\n",
    "    inputs = Input((1, ))\n",
    "    hidden_layer_1 = Dense(50, activation='relu')(inputs)\n",
    "    hidden_layer_2 = Dense(50, activation='relu')(hidden_layer_1)\n",
    "    hidden_layer_3 = Dense(50, activation='relu')(hidden_layer_2)\n",
    "\n",
    "    outputs = Dense(2, activation='softmax')(hidden_layer_3)\n",
    "\n",
    "    dctr = Model(inputs=inputs, outputs=outputs)\n",
    "    dctr.compile(loss='categorical_crossentropy',\n",
    "                 optimizer='Adam',\n",
    "                 metrics=['accuracy'])\n",
    "\n",
    "    history = dctr.fit(X_train,\n",
    "                       Y_train,\n",
    "                       epochs=1,\n",
    "                       batch_size=1000,\n",
    "                       validation_data=(X_val, Y_val),\n",
    "                       verbose=2)\n",
    "    if history.history['val_loss'][0] > 8:\n",
    "        # Fail case 1, model output [1, 0] for all preds\n",
    "        n_fail1 += 1\n",
    "        print(\"Fail (case 1)\")\n",
    "        pass\n",
    "    elif history.history['val_loss'][0] > 7:\n",
    "        # Fail case 2, , model output [0, 1] for all preds\n",
    "        n_fail2 += 1\n",
    "        print(\"Fail (case 2)\")\n",
    "        pass\n",
    "    else:  \n",
    "        # success\n",
    "        n_succ += 1\n",
    "        print(\"Success\")\n",
    "        # remember successful weights\n",
    "        dctr_weights = dctr.get_weights()\n",
    "        pass\n",
    "\n",
    "\n",
    "n_fail = n_fail1 + n_fail2"
   ]
  },
  {
   "cell_type": "code",
   "execution_count": 12,
   "metadata": {
    "ExecuteTime": {
     "end_time": "2020-06-04T16:49:19.795359Z",
     "start_time": "2020-06-04T16:49:19.787744Z"
    }
   },
   "outputs": [
    {
     "name": "stdout",
     "output_type": "stream",
     "text": [
      "Number of initializations failed:  16 / 100\n",
      "Percentage of initializations failed: 16.0 %\n",
      "Number of initializations succeeded:  84 / 100\n",
      "Percentage of initializations succeeded: 84.0 %\n"
     ]
    }
   ],
   "source": [
    "print(\"Number of initializations failed: \", n_fail, \"/\", iterations)\n",
    "print(\"Percentage of initializations failed:\", (100*n_fail/iterations), \"%\")\n",
    "\n",
    "print(\"Number of initializations succeeded: \", n_succ, \"/\", iterations)\n",
    "print(\"Percentage of initializations succeeded:\", (100*n_succ/iterations), \"%\")"
   ]
  },
  {
   "cell_type": "markdown",
   "metadata": {},
   "source": [
    "### Finish training"
   ]
  },
  {
   "cell_type": "code",
   "execution_count": 13,
   "metadata": {
    "ExecuteTime": {
     "end_time": "2020-06-04T16:50:00.028273Z",
     "start_time": "2020-06-04T16:49:19.797494Z"
    }
   },
   "outputs": [
    {
     "name": "stdout",
     "output_type": "stream",
     "text": [
      "Train on 465088 samples, validate on 116271 samples\n",
      "Epoch 1/200\n",
      "465088/465088 [==============================] - 2s 4us/step - loss: 0.6974 - acc: 0.5013 - val_loss: 0.6968 - val_acc: 0.4936\n",
      "Epoch 2/200\n",
      "465088/465088 [==============================] - 2s 5us/step - loss: 0.6987 - acc: 0.5007 - val_loss: 0.6939 - val_acc: 0.5064\n",
      "Epoch 3/200\n",
      "465088/465088 [==============================] - 2s 4us/step - loss: 0.6989 - acc: 0.5005 - val_loss: 0.7030 - val_acc: 0.4936\n",
      "Epoch 4/200\n",
      "465088/465088 [==============================] - 2s 4us/step - loss: 0.6997 - acc: 0.5000 - val_loss: 0.7425 - val_acc: 0.5064\n",
      "Epoch 5/200\n",
      "465088/465088 [==============================] - 2s 4us/step - loss: 0.6958 - acc: 0.5010 - val_loss: 0.7009 - val_acc: 0.4936\n",
      "Epoch 6/200\n",
      "465088/465088 [==============================] - 2s 4us/step - loss: 0.6969 - acc: 0.5030 - val_loss: 0.6931 - val_acc: 0.4996\n",
      "Epoch 7/200\n",
      "465088/465088 [==============================] - 2s 4us/step - loss: 0.6975 - acc: 0.5012 - val_loss: 0.7101 - val_acc: 0.5064\n",
      "Epoch 8/200\n",
      "465088/465088 [==============================] - 2s 4us/step - loss: 0.6957 - acc: 0.5019 - val_loss: 0.6933 - val_acc: 0.5064\n",
      "Epoch 9/200\n",
      "465088/465088 [==============================] - 2s 4us/step - loss: 0.6968 - acc: 0.5012 - val_loss: 0.6974 - val_acc: 0.5064\n",
      "Epoch 10/200\n",
      "465088/465088 [==============================] - 2s 4us/step - loss: 0.6958 - acc: 0.5013 - val_loss: 0.6930 - val_acc: 0.5065\n",
      "Epoch 11/200\n",
      "465088/465088 [==============================] - 2s 4us/step - loss: 0.6955 - acc: 0.5013 - val_loss: 0.6954 - val_acc: 0.4936\n",
      "Epoch 12/200\n",
      "465088/465088 [==============================] - 2s 4us/step - loss: 0.6948 - acc: 0.5011 - val_loss: 0.6941 - val_acc: 0.5064\n",
      "Epoch 13/200\n",
      "465088/465088 [==============================] - 2s 4us/step - loss: 0.6955 - acc: 0.5000 - val_loss: 0.6938 - val_acc: 0.4936\n",
      "Epoch 14/200\n",
      "465088/465088 [==============================] - 2s 4us/step - loss: 0.6948 - acc: 0.5008 - val_loss: 0.6945 - val_acc: 0.4936\n",
      "Epoch 15/200\n",
      "465088/465088 [==============================] - 2s 4us/step - loss: 0.6946 - acc: 0.5007 - val_loss: 0.6936 - val_acc: 0.4936\n",
      "Epoch 16/200\n",
      "465088/465088 [==============================] - 2s 4us/step - loss: 0.6941 - acc: 0.5022 - val_loss: 0.6932 - val_acc: 0.4969\n",
      "Epoch 17/200\n",
      "465088/465088 [==============================] - 2s 4us/step - loss: 0.6940 - acc: 0.5024 - val_loss: 0.6977 - val_acc: 0.5064\n",
      "Epoch 18/200\n",
      "465088/465088 [==============================] - 2s 4us/step - loss: 0.6935 - acc: 0.5033 - val_loss: 0.6932 - val_acc: 0.4948\n",
      "Epoch 19/200\n",
      "465088/465088 [==============================] - 2s 4us/step - loss: 0.6935 - acc: 0.5017 - val_loss: 0.6936 - val_acc: 0.5064\n",
      "Epoch 20/200\n",
      "465088/465088 [==============================] - 2s 4us/step - loss: 0.6934 - acc: 0.5033 - val_loss: 0.6931 - val_acc: 0.5064\n"
     ]
    }
   ],
   "source": [
    "earlystopping = EarlyStopping(patience=10, restore_best_weights=True)\n",
    "\n",
    "\n",
    "try:\n",
    "    dctr.set_weights(dctr_weights)\n",
    "    history = dctr.fit(X_train,\n",
    "                   Y_train,\n",
    "                   epochs=200,\n",
    "                   batch_size=1000,\n",
    "                   validation_data=(X_val, Y_val),\n",
    "                   callbacks=[earlystopping],\n",
    "                   verbose=1)\n",
    "except:\n",
    "    print(\n",
    "        \"Model did not have any successful initializations, will not continue training.\"\n",
    "    )"
   ]
  },
  {
   "cell_type": "markdown",
   "metadata": {},
   "source": [
    "# Plot History"
   ]
  },
  {
   "cell_type": "code",
   "execution_count": 14,
   "metadata": {
    "ExecuteTime": {
     "end_time": "2020-06-04T16:50:00.395045Z",
     "start_time": "2020-06-04T16:50:00.031111Z"
    }
   },
   "outputs": [
    {
     "data": {
      "image/png": "[encoded data removed]",
      "text/plain": [
       "<Figure size 432x288 with 1 Axes>"
      ]
     },
     "metadata": {
      "needs_background": "light"
     },
     "output_type": "display_data"
    }
   ],
   "source": [
    "plt.plot(history.history['loss'],     label = 'loss')\n",
    "plt.plot(history.history['val_loss'], label = 'val loss')\n",
    "plt.legend(loc=0)\n",
    "plt.ylabel('loss')\n",
    "plt.xlabel('Epochs')\n",
    "plt.show()"
   ]
  },
  {
   "cell_type": "markdown",
   "metadata": {},
   "source": [
    "## Validation"
   ]
  },
  {
   "cell_type": "markdown",
   "metadata": {},
   "source": [
    "### Load Datasets"
   ]
  },
  {
   "cell_type": "code",
   "execution_count": 15,
   "metadata": {
    "ExecuteTime": {
     "end_time": "2020-06-04T16:50:00.407577Z",
     "start_time": "2020-06-04T16:50:00.397716Z"
    }
   },
   "outputs": [
    {
     "name": "stdout",
     "output_type": "stream",
     "text": [
      "(57710, 1)\n",
      "(59119, 1)\n"
     ]
    }
   ],
   "source": [
    "test_dataset_0_mjjj = np.load(data_dir0 + 'part_172_5_6j_obs.npy')[:, :1]\n",
    "test_dataset_1_mjjj = np.load(data_dir0 + 'part_175_0_6j_obs.npy')[:, :1]\n",
    "\n",
    "print(np.shape(test_dataset_0_mjjj))\n",
    "print(np.shape(test_dataset_1_mjjj))"
   ]
  },
  {
   "cell_type": "code",
   "execution_count": 16,
   "metadata": {
    "ExecuteTime": {
     "end_time": "2020-06-04T16:50:00.418909Z",
     "start_time": "2020-06-04T16:50:00.410722Z"
    }
   },
   "outputs": [],
   "source": [
    "# Define labels for legends\n",
    "label_0 = r'$m_T=172.5$'\n",
    "\n",
    "label_1 = r'$m_T=175.0$'\n",
    "\n",
    "def make_legend():\n",
    "    ax = plt.gca()\n",
    "    leg = ax.legend(frameon=False)\n",
    "    leg._legend_box.align = \"left\"\n",
    "    plt.tight_layout()"
   ]
  },
  {
   "cell_type": "markdown",
   "metadata": {},
   "source": [
    "### Define reweighting function"
   ]
  },
  {
   "cell_type": "markdown",
   "metadata": {},
   "source": [
    "We must calculate two liklihood ratios during reweighting: the first because the training datasets were different sizes, and the second because the validation datasets are different sizes."
   ]
  },
  {
   "cell_type": "code",
   "execution_count": 20,
   "metadata": {
    "ExecuteTime": {
     "end_time": "2020-06-04T16:52:11.283073Z",
     "start_time": "2020-06-04T16:52:11.277223Z"
    }
   },
   "outputs": [],
   "source": [
    "# Get predicted probabilities\n",
    "def reweight(default_dataset_172_5, default_dataset_175_0):\n",
    "    liklihood_ratio_train = len(X0) / len(X1)\n",
    "    liklihood_ratio_val = len(default_dataset_175_0) / len(\n",
    "        default_dataset_172_5)\n",
    "\n",
    "    liklihood_ratio = liklihood_ratio_train * liklihood_ratio_val\n",
    "\n",
    "    data_input = default_dataset_172_5\n",
    "\n",
    "    f = dctr.predict(data_input)\n",
    "    weights = liklihood_ratio * (f[:, 1] / f[:, 0])\n",
    "    return weights"
   ]
  },
  {
   "cell_type": "markdown",
   "metadata": {},
   "source": [
    "### Get weights"
   ]
  },
  {
   "cell_type": "code",
   "execution_count": 21,
   "metadata": {
    "ExecuteTime": {
     "end_time": "2020-06-04T16:52:12.136071Z",
     "start_time": "2020-06-04T16:52:11.286103Z"
    }
   },
   "outputs": [],
   "source": [
    "weights = reweight(default_dataset_172_5=test_dataset_0_mjjj,\n",
    "                     default_dataset_175_0=test_dataset_1_mjjj)"
   ]
  },
  {
   "cell_type": "markdown",
   "metadata": {},
   "source": [
    "### Analyze weights"
   ]
  },
  {
   "cell_type": "code",
   "execution_count": 22,
   "metadata": {
    "ExecuteTime": {
     "end_time": "2020-06-04T16:52:12.184597Z",
     "start_time": "2020-06-04T16:52:12.139911Z"
    }
   },
   "outputs": [
    {
     "name": "stdout",
     "output_type": "stream",
     "text": [
      "1.325309\n",
      "1.0018778\n"
     ]
    }
   ],
   "source": [
    "print(max(weights))\n",
    "print(max(1/weights))"
   ]
  },
  {
   "cell_type": "code",
   "execution_count": 23,
   "metadata": {
    "ExecuteTime": {
     "end_time": "2020-06-04T16:52:13.294791Z",
     "start_time": "2020-06-04T16:52:12.187175Z"
    }
   },
   "outputs": [
    {
     "data": {
      "image/png": "[encoded data removed]",
      "text/plain": [
       "<Figure size 432x288 with 1 Axes>"
      ]
     },
     "metadata": {
      "needs_background": "light"
     },
     "output_type": "display_data"
    }
   ],
   "source": [
    "clip_val = 3\n",
    "bins = np.linspace(0, clip_val, 101)\n",
    "plt.hist(np.clip(weights, 0, clip_val), bins = bins)\n",
    "plt.xlabel(\"Weight\")\n",
    "plt.ylabel('Jets per bin (normalized)')\n",
    "plt.title(\"Weights \" + label_0 + r'$\\rightarrow$ ' + label_1, fontsize = 20)\n",
    "plt.show()"
   ]
  },
  {
   "cell_type": "markdown",
   "metadata": {},
   "source": [
    "### Validating Reweighting"
   ]
  },
  {
   "cell_type": "code",
   "execution_count": 24,
   "metadata": {
    "ExecuteTime": {
     "end_time": "2020-06-04T16:52:13.301040Z",
     "start_time": "2020-06-04T16:52:13.297128Z"
    }
   },
   "outputs": [],
   "source": [
    "# Define default plot styles\n",
    "plot_style_0 = {'histtype':'step', 'color':'black', 'linewidth':2, 'linestyle':'--', 'density':True}\n",
    "plot_style_1 = {'alpha':0.5, 'density':True}"
   ]
  },
  {
   "cell_type": "code",
   "execution_count": 25,
   "metadata": {
    "ExecuteTime": {
     "end_time": "2020-06-04T16:52:14.427731Z",
     "start_time": "2020-06-04T16:52:13.303559Z"
    }
   },
   "outputs": [
    {
     "data": {
      "image/png": "[encoded data removed]",
      "text/plain": [
       "<Figure size 432x360 with 1 Axes>"
      ]
     },
     "metadata": {
      "needs_background": "light"
     },
     "output_type": "display_data"
    }
   ],
   "source": [
    "plt.figure(figsize=(6,5))\n",
    "plt.title(\"Top Reweighting (fixed mass DCTR): $m_{jjj}$ only\")\n",
    "bins = np.linspace(80,400,41)\n",
    "hist0 = plt.hist(test_dataset_0_mjjj, bins = bins, label = label_0, **plot_style_1)\n",
    "hist1 = plt.hist(test_dataset_1_mjjj, bins = bins, label = label_1, **plot_style_0)\n",
    "hist2 = plt.hist(test_dataset_0_mjjj, bins = bins, label = label_0 + ' wgt.', weights=weights, **plot_style_1)\n",
    "\n",
    "plt.xlabel('mjj')\n",
    "plt.ylabel('Jets per bin (normalized)')\n",
    "plt.xlim([80,400])\n",
    "make_legend()\n",
    "plt.savefig(\"Top Reweighting (fixed mass DCTR): $m_{jjj} only.png\")\n",
    "plt.show()"
   ]
  },
  {
   "cell_type": "markdown",
   "metadata": {},
   "source": [
    "Reweighting not successful enough"
   ]
  },
  {
   "cell_type": "code",
   "execution_count": null,
   "metadata": {},
   "outputs": [],
   "source": []
  }
 ],
 "metadata": {
  "kernelspec": {
   "display_name": "Python 3",
   "language": "python",
   "name": "python3"
  },
  "language_info": {
   "codemirror_mode": {
    "name": "ipython",
    "version": 3
   },
   "file_extension": ".py",
   "mimetype": "text/x-python",
   "name": "python",
   "nbconvert_exporter": "python",
   "pygments_lexer": "ipython3",
   "version": "3.5.2"
  },
  "toc": {
   "base_numbering": 1,
   "nav_menu": {},
   "number_sections": false,
   "sideBar": true,
   "skip_h1_title": false,
   "title_cell": "Table of Contents",
   "title_sidebar": "Contents",
   "toc_cell": false,
   "toc_position": {},
   "toc_section_display": true,
   "toc_window_display": false
  }
 },
 "nbformat": 4,
 "nbformat_minor": 2
}
