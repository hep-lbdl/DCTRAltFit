{
 "cells": [
  {
   "cell_type": "markdown",
   "metadata": {},
   "source": [
    "## This notebook attempts to train and validate a DCTR model paramterized by the top mass"
   ]
  },
  {
   "cell_type": "code",
   "execution_count": 1,
   "metadata": {
    "ExecuteTime": {
     "end_time": "2020-06-04T05:55:56.895470Z",
     "start_time": "2020-06-04T05:55:56.891355Z"
    }
   },
   "outputs": [],
   "source": [
    "import os\n",
    "os.environ[\"CUDA_DEVICE_ORDER\"]=\"PCI_BUS_ID\"\n",
    "os.environ[\"CUDA_VISIBLE_DEVICES\"]=\"3\""
   ]
  },
  {
   "cell_type": "code",
   "execution_count": 2,
   "metadata": {
    "ExecuteTime": {
     "end_time": "2020-06-04T05:55:59.615556Z",
     "start_time": "2020-06-04T05:55:56.898916Z"
    }
   },
   "outputs": [
    {
     "name": "stderr",
     "output_type": "stream",
     "text": [
      "Using TensorFlow backend.\n"
     ]
    }
   ],
   "source": [
    "# standard library imports\n",
    "from __future__ import absolute_import, division, print_function\n",
    "\n",
    "import keras\n",
    "import keras.backend as K\n",
    "\n",
    "# standard numerical library imports\n",
    "import numpy as np\n",
    "import scipy as sp\n",
    "\n",
    "# energyflow imports\n",
    "import energyflow as ef\n",
    "from energyflow.archs import PFN\n",
    "from energyflow.utils import data_split, remap_pids, to_categorical\n",
    "\n",
    "import matplotlib.pyplot as plt"
   ]
  },
  {
   "cell_type": "code",
   "execution_count": 3,
   "metadata": {
    "ExecuteTime": {
     "end_time": "2020-06-04T05:55:59.622746Z",
     "start_time": "2020-06-04T05:55:59.618654Z"
    }
   },
   "outputs": [
    {
     "name": "stdout",
     "output_type": "stream",
     "text": [
      "2.2.4\n"
     ]
    }
   ],
   "source": [
    "# Check versions\n",
    "print(keras.__version__) #2.2.4"
   ]
  },
  {
   "cell_type": "markdown",
   "metadata": {},
   "source": [
    "# Load Data"
   ]
  },
  {
   "cell_type": "markdown",
   "metadata": {},
   "source": [
    "## Utilities"
   ]
  },
  {
   "cell_type": "code",
   "execution_count": 4,
   "metadata": {
    "ExecuteTime": {
     "end_time": "2020-06-04T05:55:59.632572Z",
     "start_time": "2020-06-04T05:55:59.625193Z"
    }
   },
   "outputs": [],
   "source": [
    "# normalize pT and center (y, phi)\n",
    "def normalize(x):\n",
    "    mask = x[:,0] > 0\n",
    "    yphi_avg = np.average(x[mask,1:3], weights=x[mask,0], axis=0)\n",
    "    x[mask,1:3] -= yphi_avg\n",
    "    x[mask,0] /= x[:,0].sum()"
   ]
  },
  {
   "cell_type": "code",
   "execution_count": 5,
   "metadata": {
    "ExecuteTime": {
     "end_time": "2020-06-04T05:55:59.645990Z",
     "start_time": "2020-06-04T05:55:59.635017Z"
    }
   },
   "outputs": [],
   "source": [
    "def preprocess_data(X):\n",
    "    # for x in X: \n",
    "        # normalize(x)\n",
    "    \n",
    "    # Remap PIDs to unique values in range [0,1]\n",
    "    remap_pids(X, pid_i=4)\n",
    "    return X"
   ]
  },
  {
   "cell_type": "markdown",
   "metadata": {},
   "source": [
    "## Process Data"
   ]
  },
  {
   "cell_type": "code",
   "execution_count": 6,
   "metadata": {
    "ExecuteTime": {
     "end_time": "2020-06-04T05:55:59.653216Z",
     "start_time": "2020-06-04T05:55:59.650192Z"
    }
   },
   "outputs": [],
   "source": [
    "# Path to downloaded data from Zenodo\n",
    "data_dir0 = '/data1/users/aandreassen/DCTRFitting/'\n",
    "data_dir1 = '/data1/users/asuresh/DCTRFitting/'"
   ]
  },
  {
   "cell_type": "code",
   "execution_count": 7,
   "metadata": {
    "ExecuteTime": {
     "end_time": "2020-06-04T05:55:59.780273Z",
     "start_time": "2020-06-04T05:55:59.657156Z"
    }
   },
   "outputs": [],
   "source": [
    "train_dataset_0_x4 = np.load(data_dir1 + 'part_172_5_6j_x4.npy')\n",
    "train_dataset_1_x4 = np.load(data_dir1 + 'part_varmass_6j_x4.npy')\n",
    "\n",
    "train_dataset_0 = np.load(data_dir0 + 'part_172_5_6j.npy')\n",
    "train_dataset_1 = np.load(data_dir0 + 'part_varmass_6j.npy')"
   ]
  },
  {
   "cell_type": "code",
   "execution_count": 8,
   "metadata": {
    "ExecuteTime": {
     "end_time": "2020-06-04T05:55:59.887846Z",
     "start_time": "2020-06-04T05:55:59.782423Z"
    }
   },
   "outputs": [
    {
     "name": "stdout",
     "output_type": "stream",
     "text": [
      "(287065, 6, 5)\n",
      "(1179284, 6, 5)\n",
      "0.8042314619507361\n"
     ]
    }
   ],
   "source": [
    "X0 = np.concatenate([train_dataset_0, train_dataset_0_x4])\n",
    "# shorten X1 to same length as X0   \n",
    "# s.t. network sees an equal number \n",
    "# of examples from X0 and X1        \n",
    "\n",
    "X1 = np.concatenate([train_dataset_1, train_dataset_1_x4])#[0:len(X0)]\n",
    "\n",
    "print(np.shape(X0))\n",
    "print(np.shape(X1))\n",
    "print(len(X1)/(len(X0)+len(X1))) # X1 percentage of training data "
   ]
  },
  {
   "cell_type": "code",
   "execution_count": 9,
   "metadata": {
    "ExecuteTime": {
     "end_time": "2020-06-04T05:55:59.893838Z",
     "start_time": "2020-06-04T05:55:59.890560Z"
    }
   },
   "outputs": [],
   "source": [
    "# Zip uniformally sampled top mass in part_varmass_6j\n",
    "# with part_172_5_6j\n",
    "\n",
    "\n",
    "# for i in range(len(X1)):\n",
    "#     for j in range(6):\n",
    "#         X0[i, j, 4] = X1[i, j, 4]\n",
    "\n",
    "# X0 already zipped with mT uniformally sampled"
   ]
  },
  {
   "cell_type": "code",
   "execution_count": 10,
   "metadata": {
    "ExecuteTime": {
     "end_time": "2020-06-04T05:55:59.908682Z",
     "start_time": "2020-06-04T05:55:59.896126Z"
    }
   },
   "outputs": [],
   "source": [
    "Y0 = np.zeros_like(X0[:,0,0])\n",
    "Y1 = np.ones_like(X1[:,0,0])"
   ]
  },
  {
   "cell_type": "code",
   "execution_count": 11,
   "metadata": {
    "ExecuteTime": {
     "end_time": "2020-06-04T05:56:00.057913Z",
     "start_time": "2020-06-04T05:55:59.911342Z"
    }
   },
   "outputs": [],
   "source": [
    "X = np.concatenate((X0, X1), axis = 0)\n",
    "\n",
    "Y = np.concatenate((Y0, Y1), axis = 0)\n",
    "Y = to_categorical(Y, num_classes=2)"
   ]
  },
  {
   "cell_type": "code",
   "execution_count": 12,
   "metadata": {
    "ExecuteTime": {
     "end_time": "2020-06-04T05:56:00.424080Z",
     "start_time": "2020-06-04T05:56:00.060000Z"
    }
   },
   "outputs": [],
   "source": [
    "X_train, X_val, Y_train, Y_val = data_split(X, Y, test=0.1, shuffle=True)"
   ]
  },
  {
   "cell_type": "code",
   "execution_count": 13,
   "metadata": {
    "ExecuteTime": {
     "end_time": "2020-06-04T05:56:00.432926Z",
     "start_time": "2020-06-04T05:56:00.426999Z"
    }
   },
   "outputs": [
    {
     "name": "stdout",
     "output_type": "stream",
     "text": [
      "(1319715, 6, 5)\n",
      "(1319715, 2)\n",
      "(146634, 6, 5)\n",
      "(146634, 2)\n"
     ]
    }
   ],
   "source": [
    "print(X_train.shape)\n",
    "print(Y_train.shape)\n",
    "\n",
    "print(X_val.shape)\n",
    "print(Y_val.shape)"
   ]
  },
  {
   "cell_type": "markdown",
   "metadata": {},
   "source": [
    "# Build Model"
   ]
  },
  {
   "cell_type": "code",
   "execution_count": 14,
   "metadata": {
    "ExecuteTime": {
     "end_time": "2020-06-04T05:56:00.658548Z",
     "start_time": "2020-06-04T05:56:00.435340Z"
    }
   },
   "outputs": [
    {
     "name": "stdout",
     "output_type": "stream",
     "text": [
      "WARNING:tensorflow:From /home/asuresh/.local/lib/python3.5/site-packages/keras/backend/tensorflow_backend.py:517: The name tf.placeholder is deprecated. Please use tf.compat.v1.placeholder instead.\n",
      "\n",
      "WARNING:tensorflow:From /home/asuresh/.local/lib/python3.5/site-packages/keras/backend/tensorflow_backend.py:74: The name tf.get_default_graph is deprecated. Please use tf.compat.v1.get_default_graph instead.\n",
      "\n",
      "WARNING:tensorflow:From /home/asuresh/.local/lib/python3.5/site-packages/keras/backend/tensorflow_backend.py:4138: The name tf.random_uniform is deprecated. Please use tf.random.uniform instead.\n",
      "\n",
      "WARNING:tensorflow:From /home/asuresh/.local/lib/python3.5/site-packages/keras/optimizers.py:790: The name tf.train.Optimizer is deprecated. Please use tf.compat.v1.train.Optimizer instead.\n",
      "\n",
      "WARNING:tensorflow:From /home/asuresh/.local/lib/python3.5/site-packages/keras/backend/tensorflow_backend.py:3295: The name tf.log is deprecated. Please use tf.math.log instead.\n",
      "\n"
     ]
    }
   ],
   "source": [
    "# network architecture parameters\n",
    "Phi_sizes = (200,200, 256)\n",
    "F_sizes = (200,200, 200)\n",
    "\n",
    "dctr = PFN(input_dim=5, \n",
    "           Phi_sizes=Phi_sizes, F_sizes=F_sizes,\n",
    "           summary=False)\n",
    "\n"
   ]
  },
  {
   "cell_type": "markdown",
   "metadata": {},
   "source": [
    "# Train model"
   ]
  },
  {
   "cell_type": "code",
   "execution_count": 15,
   "metadata": {
    "ExecuteTime": {
     "end_time": "2020-06-04T05:56:00.666740Z",
     "start_time": "2020-06-04T05:56:00.660965Z"
    }
   },
   "outputs": [],
   "source": [
    "save_label = 'TOP_DCTR'\n",
    "\n",
    "checkpoint = keras.callbacks.ModelCheckpoint('./saved_models/' + save_label + '.h5', \n",
    "                                                monitor='val_loss', \n",
    "                                                verbose=2, \n",
    "                                                save_best_only=True, \n",
    "                                                mode='min')\n",
    "\n",
    "EarlyStopping = keras.callbacks.EarlyStopping(monitor='val_loss', \n",
    "                                              min_delta=0, \n",
    "                                              patience=10, \n",
    "                                              verbose=1, \n",
    "                                              restore_best_weights=True)\n",
    "\n",
    "callbacks = [checkpoint, EarlyStopping]"
   ]
  },
  {
   "cell_type": "code",
   "execution_count": 16,
   "metadata": {
    "ExecuteTime": {
     "end_time": "2020-06-04T07:00:35.515533Z",
     "start_time": "2020-06-04T05:56:00.669073Z"
    },
    "scrolled": true
   },
   "outputs": [
    {
     "name": "stdout",
     "output_type": "stream",
     "text": [
      "Iteration:  0\n",
      "WARNING:tensorflow:From /home/asuresh/.local/lib/python3.5/site-packages/keras/backend/tensorflow_backend.py:95: The name tf.reset_default_graph is deprecated. Please use tf.compat.v1.reset_default_graph instead.\n",
      "\n",
      "WARNING:tensorflow:From /home/asuresh/.local/lib/python3.5/site-packages/keras/backend/tensorflow_backend.py:98: The name tf.placeholder_with_default is deprecated. Please use tf.compat.v1.placeholder_with_default instead.\n",
      "\n",
      "WARNING:tensorflow:From /home/asuresh/.local/lib/python3.5/site-packages/tensorflow_core/python/ops/math_grad.py:1424: where (from tensorflow.python.ops.array_ops) is deprecated and will be removed in a future version.\n",
      "Instructions for updating:\n",
      "Use tf.where in 2.0, which has the same broadcast rule as np.where\n",
      "WARNING:tensorflow:From /home/asuresh/.local/lib/python3.5/site-packages/keras/backend/tensorflow_backend.py:986: The name tf.assign_add is deprecated. Please use tf.compat.v1.assign_add instead.\n",
      "\n",
      "WARNING:tensorflow:From /home/asuresh/.local/lib/python3.5/site-packages/keras/backend/tensorflow_backend.py:973: The name tf.assign is deprecated. Please use tf.compat.v1.assign instead.\n",
      "\n",
      "WARNING:tensorflow:From /home/asuresh/.local/lib/python3.5/site-packages/keras/backend/tensorflow_backend.py:2741: The name tf.Session is deprecated. Please use tf.compat.v1.Session instead.\n",
      "\n",
      "Train on 1319715 samples, validate on 146634 samples\n",
      "Epoch 1/1\n",
      "WARNING:tensorflow:From /home/asuresh/.local/lib/python3.5/site-packages/keras/backend/tensorflow_backend.py:174: The name tf.get_default_session is deprecated. Please use tf.compat.v1.get_default_session instead.\n",
      "\n",
      "WARNING:tensorflow:From /home/asuresh/.local/lib/python3.5/site-packages/keras/backend/tensorflow_backend.py:181: The name tf.ConfigProto is deprecated. Please use tf.compat.v1.ConfigProto instead.\n",
      "\n",
      "WARNING:tensorflow:From /home/asuresh/.local/lib/python3.5/site-packages/keras/backend/tensorflow_backend.py:190: The name tf.global_variables is deprecated. Please use tf.compat.v1.global_variables instead.\n",
      "\n",
      "WARNING:tensorflow:From /home/asuresh/.local/lib/python3.5/site-packages/keras/backend/tensorflow_backend.py:199: The name tf.is_variable_initialized is deprecated. Please use tf.compat.v1.is_variable_initialized instead.\n",
      "\n",
      "WARNING:tensorflow:From /home/asuresh/.local/lib/python3.5/site-packages/keras/backend/tensorflow_backend.py:206: The name tf.variables_initializer is deprecated. Please use tf.compat.v1.variables_initializer instead.\n",
      "\n",
      "1319715/1319715 [==============================] - 33s 25us/step - loss: 3.1598 - acc: 0.8040 - val_loss: 3.1158 - val_acc: 0.8067\n",
      "Iteration:  1\n",
      "Train on 1319715 samples, validate on 146634 samples\n",
      "Epoch 1/1\n",
      "1319715/1319715 [==============================] - 32s 24us/step - loss: 3.1598 - acc: 0.8040 - val_loss: 3.1158 - val_acc: 0.8067\n",
      "Iteration:  2\n",
      "Train on 1319715 samples, validate on 146634 samples\n",
      "Epoch 1/1\n",
      "1319715/1319715 [==============================] - 35s 27us/step - loss: 3.1598 - acc: 0.8040 - val_loss: 3.1158 - val_acc: 0.8067\n",
      "Iteration:  3\n",
      "Train on 1319715 samples, validate on 146634 samples\n",
      "Epoch 1/1\n",
      "1319715/1319715 [==============================] - 36s 27us/step - loss: 12.9583 - acc: 0.1960 - val_loss: 13.0023 - val_acc: 0.1933\n",
      "Iteration:  4\n",
      "Train on 1319715 samples, validate on 146634 samples\n",
      "Epoch 1/1\n",
      "1319715/1319715 [==============================] - 36s 27us/step - loss: 12.9583 - acc: 0.1960 - val_loss: 13.0023 - val_acc: 0.1933\n",
      "Iteration:  5\n",
      "Train on 1319715 samples, validate on 146634 samples\n",
      "Epoch 1/1\n",
      "1319715/1319715 [==============================] - 35s 26us/step - loss: 12.9583 - acc: 0.1960 - val_loss: 13.0023 - val_acc: 0.1933\n",
      "Iteration:  6\n",
      "Train on 1319715 samples, validate on 146634 samples\n",
      "Epoch 1/1\n",
      "1319715/1319715 [==============================] - 35s 26us/step - loss: 3.1598 - acc: 0.8040 - val_loss: 3.1158 - val_acc: 0.8067\n",
      "Iteration:  7\n",
      "Train on 1319715 samples, validate on 146634 samples\n",
      "Epoch 1/1\n",
      "1319715/1319715 [==============================] - 36s 27us/step - loss: 3.1598 - acc: 0.8040 - val_loss: 3.1158 - val_acc: 0.8067\n",
      "Iteration:  8\n",
      "Train on 1319715 samples, validate on 146634 samples\n",
      "Epoch 1/1\n",
      "1319715/1319715 [==============================] - 36s 27us/step - loss: 3.1598 - acc: 0.8040 - val_loss: 3.1158 - val_acc: 0.8067\n",
      "Iteration:  9\n",
      "Train on 1319715 samples, validate on 146634 samples\n",
      "Epoch 1/1\n",
      "1319715/1319715 [==============================] - 35s 27us/step - loss: 3.1598 - acc: 0.8040 - val_loss: 3.1158 - val_acc: 0.8067\n",
      "Iteration:  10\n",
      "Train on 1319715 samples, validate on 146634 samples\n",
      "Epoch 1/1\n",
      "1319715/1319715 [==============================] - 36s 27us/step - loss: 3.1598 - acc: 0.8040 - val_loss: 3.1158 - val_acc: 0.8067\n",
      "Iteration:  11\n",
      "Train on 1319715 samples, validate on 146634 samples\n",
      "Epoch 1/1\n",
      "1319715/1319715 [==============================] - 36s 27us/step - loss: 3.1638 - acc: 0.8037 - val_loss: 3.1158 - val_acc: 0.8067\n",
      "Iteration:  12\n",
      "Train on 1319715 samples, validate on 146634 samples\n",
      "Epoch 1/1\n",
      "1319715/1319715 [==============================] - 36s 27us/step - loss: 3.1598 - acc: 0.8040 - val_loss: 3.1158 - val_acc: 0.8067\n",
      "Iteration:  13\n",
      "Train on 1319715 samples, validate on 146634 samples\n",
      "Epoch 1/1\n",
      "1319715/1319715 [==============================] - 35s 26us/step - loss: 3.1598 - acc: 0.8040 - val_loss: 3.1158 - val_acc: 0.8067\n",
      "Iteration:  14\n",
      "Train on 1319715 samples, validate on 146634 samples\n",
      "Epoch 1/1\n",
      "1319715/1319715 [==============================] - 36s 27us/step - loss: 3.1598 - acc: 0.8040 - val_loss: 3.1158 - val_acc: 0.8067\n",
      "Iteration:  15\n",
      "Train on 1319715 samples, validate on 146634 samples\n",
      "Epoch 1/1\n",
      "1319715/1319715 [==============================] - 36s 27us/step - loss: 12.9583 - acc: 0.1960 - val_loss: 13.0023 - val_acc: 0.1933\n",
      "Iteration:  16\n",
      "Train on 1319715 samples, validate on 146634 samples\n",
      "Epoch 1/1\n",
      "1319715/1319715 [==============================] - 35s 27us/step - loss: 12.9583 - acc: 0.1960 - val_loss: 13.0023 - val_acc: 0.1933\n",
      "Iteration:  17\n",
      "Train on 1319715 samples, validate on 146634 samples\n",
      "Epoch 1/1\n",
      "1319715/1319715 [==============================] - 35s 27us/step - loss: 3.1598 - acc: 0.8040 - val_loss: 3.1158 - val_acc: 0.8067\n",
      "Iteration:  18\n",
      "Train on 1319715 samples, validate on 146634 samples\n",
      "Epoch 1/1\n",
      "1319715/1319715 [==============================] - 36s 27us/step - loss: 12.9583 - acc: 0.1960 - val_loss: 13.0023 - val_acc: 0.1933\n",
      "Iteration:  19\n",
      "Train on 1319715 samples, validate on 146634 samples\n",
      "Epoch 1/1\n",
      "1319715/1319715 [==============================] - 36s 27us/step - loss: 3.1598 - acc: 0.8040 - val_loss: 3.1158 - val_acc: 0.8067\n",
      "Iteration:  20\n",
      "Train on 1319715 samples, validate on 146634 samples\n",
      "Epoch 1/1\n",
      "1319715/1319715 [==============================] - 35s 27us/step - loss: 12.9583 - acc: 0.1960 - val_loss: 13.0023 - val_acc: 0.1933\n",
      "Iteration:  21\n",
      "Train on 1319715 samples, validate on 146634 samples\n",
      "Epoch 1/1\n",
      "1319715/1319715 [==============================] - 35s 27us/step - loss: 12.9583 - acc: 0.1960 - val_loss: 13.0023 - val_acc: 0.1933\n",
      "Iteration:  22\n",
      "Train on 1319715 samples, validate on 146634 samples\n",
      "Epoch 1/1\n",
      "1319715/1319715 [==============================] - 36s 27us/step - loss: 12.9583 - acc: 0.1960 - val_loss: 13.0023 - val_acc: 0.1933\n",
      "Iteration:  23\n",
      "Train on 1319715 samples, validate on 146634 samples\n",
      "Epoch 1/1\n",
      "1319715/1319715 [==============================] - 36s 27us/step - loss: 12.9583 - acc: 0.1960 - val_loss: 13.0023 - val_acc: 0.1933\n",
      "Iteration:  24\n",
      "Train on 1319715 samples, validate on 146634 samples\n",
      "Epoch 1/1\n",
      "1319715/1319715 [==============================] - 35s 26us/step - loss: 3.1598 - acc: 0.8040 - val_loss: 3.1158 - val_acc: 0.8067\n",
      "Iteration:  25\n",
      "Train on 1319715 samples, validate on 146634 samples\n",
      "Epoch 1/1\n",
      "1319715/1319715 [==============================] - 36s 27us/step - loss: 3.1598 - acc: 0.8040 - val_loss: 3.1158 - val_acc: 0.8067\n",
      "Iteration:  26\n",
      "Train on 1319715 samples, validate on 146634 samples\n",
      "Epoch 1/1\n",
      "1319715/1319715 [==============================] - 36s 27us/step - loss: 12.9583 - acc: 0.1960 - val_loss: 13.0023 - val_acc: 0.1933\n",
      "Iteration:  27\n",
      "Train on 1319715 samples, validate on 146634 samples\n",
      "Epoch 1/1\n",
      "1319715/1319715 [==============================] - 36s 27us/step - loss: 12.9583 - acc: 0.1960 - val_loss: 13.0023 - val_acc: 0.1933\n",
      "Iteration:  28\n",
      "Train on 1319715 samples, validate on 146634 samples\n",
      "Epoch 1/1\n",
      "1319715/1319715 [==============================] - 35s 26us/step - loss: 12.9583 - acc: 0.1960 - val_loss: 13.0023 - val_acc: 0.1933\n",
      "Iteration:  29\n",
      "Train on 1319715 samples, validate on 146634 samples\n",
      "Epoch 1/1\n",
      "1319715/1319715 [==============================] - 36s 27us/step - loss: 3.1599 - acc: 0.8040 - val_loss: 3.1158 - val_acc: 0.8067\n",
      "Iteration:  30\n",
      "Train on 1319715 samples, validate on 146634 samples\n",
      "Epoch 1/1\n",
      "1319715/1319715 [==============================] - 36s 27us/step - loss: 3.1598 - acc: 0.8040 - val_loss: 3.1158 - val_acc: 0.8067\n",
      "Iteration:  31\n",
      "Train on 1319715 samples, validate on 146634 samples\n",
      "Epoch 1/1\n",
      "1319715/1319715 [==============================] - 35s 27us/step - loss: 3.1598 - acc: 0.8040 - val_loss: 3.1158 - val_acc: 0.8067\n",
      "Iteration:  32\n",
      "Train on 1319715 samples, validate on 146634 samples\n",
      "Epoch 1/1\n",
      "1319715/1319715 [==============================] - 35s 27us/step - loss: 3.1598 - acc: 0.8040 - val_loss: 3.1158 - val_acc: 0.8067\n",
      "Iteration:  33\n",
      "Train on 1319715 samples, validate on 146634 samples\n",
      "Epoch 1/1\n",
      "1319715/1319715 [==============================] - 36s 27us/step - loss: 3.3006 - acc: 0.7952 - val_loss: 3.1158 - val_acc: 0.8067\n",
      "Iteration:  34\n",
      "Train on 1319715 samples, validate on 146634 samples\n",
      "Epoch 1/1\n",
      "1319715/1319715 [==============================] - 36s 27us/step - loss: 3.1598 - acc: 0.8040 - val_loss: 3.1158 - val_acc: 0.8067\n",
      "Iteration:  35\n",
      "Train on 1319715 samples, validate on 146634 samples\n",
      "Epoch 1/1\n",
      "1319715/1319715 [==============================] - 35s 27us/step - loss: 12.9583 - acc: 0.1960 - val_loss: 13.0023 - val_acc: 0.1933\n",
      "Iteration:  36\n",
      "Train on 1319715 samples, validate on 146634 samples\n",
      "Epoch 1/1\n",
      "1319715/1319715 [==============================] - 35s 27us/step - loss: 3.1598 - acc: 0.8040 - val_loss: 3.1158 - val_acc: 0.8067\n",
      "Iteration:  37\n",
      "Train on 1319715 samples, validate on 146634 samples\n",
      "Epoch 1/1\n",
      "1319715/1319715 [==============================] - 36s 27us/step - loss: 3.1598 - acc: 0.8040 - val_loss: 3.1158 - val_acc: 0.8067\n",
      "Iteration:  38\n",
      "Train on 1319715 samples, validate on 146634 samples\n",
      "Epoch 1/1\n",
      "1319715/1319715 [==============================] - 36s 27us/step - loss: 12.9583 - acc: 0.1960 - val_loss: 13.0023 - val_acc: 0.1933\n",
      "Iteration:  39\n",
      "Train on 1319715 samples, validate on 146634 samples\n",
      "Epoch 1/1\n",
      "1319715/1319715 [==============================] - 35s 26us/step - loss: 12.9583 - acc: 0.1960 - val_loss: 13.0023 - val_acc: 0.1933\n",
      "Iteration:  40\n",
      "Train on 1319715 samples, validate on 146634 samples\n",
      "Epoch 1/1\n",
      "1319715/1319715 [==============================] - 36s 27us/step - loss: 3.1666 - acc: 0.8035 - val_loss: 3.1158 - val_acc: 0.8067\n",
      "Iteration:  41\n",
      "Train on 1319715 samples, validate on 146634 samples\n",
      "Epoch 1/1\n",
      "1319715/1319715 [==============================] - 36s 27us/step - loss: 12.9583 - acc: 0.1960 - val_loss: 13.0023 - val_acc: 0.1933\n",
      "Iteration:  42\n",
      "Train on 1319715 samples, validate on 146634 samples\n",
      "Epoch 1/1\n",
      "1319715/1319715 [==============================] - 37s 28us/step - loss: 3.1598 - acc: 0.8039 - val_loss: 3.1158 - val_acc: 0.8067\n",
      "Iteration:  43\n",
      "Train on 1319715 samples, validate on 146634 samples\n",
      "Epoch 1/1\n",
      "1319715/1319715 [==============================] - 38s 29us/step - loss: 8.1871 - acc: 0.4921 - val_loss: 3.1158 - val_acc: 0.8067\n",
      "Iteration:  44\n",
      "Train on 1319715 samples, validate on 146634 samples\n",
      "Epoch 1/1\n",
      "1319715/1319715 [==============================] - 41s 31us/step - loss: 12.9583 - acc: 0.1960 - val_loss: 13.0023 - val_acc: 0.1933\n",
      "Iteration:  45\n",
      "Train on 1319715 samples, validate on 146634 samples\n",
      "Epoch 1/1\n",
      "1319715/1319715 [==============================] - 41s 31us/step - loss: 3.1598 - acc: 0.8040 - val_loss: 3.1158 - val_acc: 0.8067\n",
      "Iteration:  46\n",
      "Train on 1319715 samples, validate on 146634 samples\n",
      "Epoch 1/1\n",
      "1319715/1319715 [==============================] - 40s 30us/step - loss: 12.9583 - acc: 0.1960 - val_loss: 13.0023 - val_acc: 0.1933\n",
      "Iteration:  47\n",
      "Train on 1319715 samples, validate on 146634 samples\n",
      "Epoch 1/1\n",
      "1319715/1319715 [==============================] - 40s 30us/step - loss: 3.1598 - acc: 0.8040 - val_loss: 3.1158 - val_acc: 0.8067\n",
      "Iteration:  48\n",
      "Train on 1319715 samples, validate on 146634 samples\n",
      "Epoch 1/1\n",
      "1319715/1319715 [==============================] - 41s 31us/step - loss: 12.9583 - acc: 0.1960 - val_loss: 13.0023 - val_acc: 0.1933\n",
      "Iteration:  49\n",
      "Train on 1319715 samples, validate on 146634 samples\n",
      "Epoch 1/1\n",
      "1319715/1319715 [==============================] - 41s 31us/step - loss: 3.1598 - acc: 0.8040 - val_loss: 3.1158 - val_acc: 0.8067\n",
      "Iteration:  50\n",
      "Train on 1319715 samples, validate on 146634 samples\n",
      "Epoch 1/1\n",
      "1319715/1319715 [==============================] - 39s 30us/step - loss: 3.1598 - acc: 0.8040 - val_loss: 3.1158 - val_acc: 0.8067\n",
      "Iteration:  51\n",
      "Train on 1319715 samples, validate on 146634 samples\n",
      "Epoch 1/1\n",
      "1319715/1319715 [==============================] - 41s 31us/step - loss: 3.1669 - acc: 0.8035 - val_loss: 3.1158 - val_acc: 0.8067\n",
      "Iteration:  52\n",
      "Train on 1319715 samples, validate on 146634 samples\n",
      "Epoch 1/1\n",
      "1319715/1319715 [==============================] - 41s 31us/step - loss: 3.1598 - acc: 0.8040 - val_loss: 3.1158 - val_acc: 0.8067\n",
      "Iteration:  53\n",
      "Train on 1319715 samples, validate on 146634 samples\n",
      "Epoch 1/1\n",
      "1319715/1319715 [==============================] - 40s 30us/step - loss: 12.9583 - acc: 0.1960 - val_loss: 13.0023 - val_acc: 0.1933\n",
      "Iteration:  54\n",
      "Train on 1319715 samples, validate on 146634 samples\n",
      "Epoch 1/1\n",
      "1319715/1319715 [==============================] - 40s 30us/step - loss: 3.1598 - acc: 0.8040 - val_loss: 3.1158 - val_acc: 0.8067\n",
      "Iteration:  55\n",
      "Train on 1319715 samples, validate on 146634 samples\n",
      "Epoch 1/1\n",
      "1319715/1319715 [==============================] - 41s 31us/step - loss: 3.1598 - acc: 0.8040 - val_loss: 3.1158 - val_acc: 0.8067\n",
      "Iteration:  56\n",
      "Train on 1319715 samples, validate on 146634 samples\n",
      "Epoch 1/1\n",
      "1319715/1319715 [==============================] - 41s 31us/step - loss: 3.1599 - acc: 0.8040 - val_loss: 3.1158 - val_acc: 0.8067\n",
      "Iteration:  57\n",
      "Train on 1319715 samples, validate on 146634 samples\n",
      "Epoch 1/1\n",
      "1319715/1319715 [==============================] - 39s 30us/step - loss: 12.9583 - acc: 0.1960 - val_loss: 13.0023 - val_acc: 0.1933\n",
      "Iteration:  58\n",
      "Train on 1319715 samples, validate on 146634 samples\n",
      "Epoch 1/1\n",
      "1319715/1319715 [==============================] - 41s 31us/step - loss: 3.1598 - acc: 0.8040 - val_loss: 3.1158 - val_acc: 0.8067\n",
      "Iteration:  59\n",
      "Train on 1319715 samples, validate on 146634 samples\n",
      "Epoch 1/1\n",
      "1319715/1319715 [==============================] - 41s 31us/step - loss: 3.1598 - acc: 0.8040 - val_loss: 3.1158 - val_acc: 0.8067\n",
      "Iteration:  60\n",
      "Train on 1319715 samples, validate on 146634 samples\n",
      "Epoch 1/1\n",
      "1319715/1319715 [==============================] - 40s 30us/step - loss: 12.9583 - acc: 0.1960 - val_loss: 13.0023 - val_acc: 0.1933\n",
      "Iteration:  61\n",
      "Train on 1319715 samples, validate on 146634 samples\n",
      "Epoch 1/1\n",
      "1319715/1319715 [==============================] - 40s 30us/step - loss: 3.1598 - acc: 0.8040 - val_loss: 3.1158 - val_acc: 0.8067\n",
      "Iteration:  62\n",
      "Train on 1319715 samples, validate on 146634 samples\n",
      "Epoch 1/1\n",
      "1319715/1319715 [==============================] - 41s 31us/step - loss: 12.9503 - acc: 0.1965 - val_loss: 13.0023 - val_acc: 0.1933\n",
      "Iteration:  63\n",
      "Train on 1319715 samples, validate on 146634 samples\n",
      "Epoch 1/1\n",
      "1319715/1319715 [==============================] - 41s 31us/step - loss: 3.1599 - acc: 0.8039 - val_loss: 3.1158 - val_acc: 0.8067\n",
      "Iteration:  64\n",
      "Train on 1319715 samples, validate on 146634 samples\n",
      "Epoch 1/1\n",
      "1319715/1319715 [==============================] - 36s 27us/step - loss: 3.1598 - acc: 0.8040 - val_loss: 3.1158 - val_acc: 0.8067\n",
      "Iteration:  65\n",
      "Train on 1319715 samples, validate on 146634 samples\n",
      "Epoch 1/1\n",
      "1319715/1319715 [==============================] - 36s 27us/step - loss: 3.1664 - acc: 0.8035 - val_loss: 3.1158 - val_acc: 0.8067\n",
      "Iteration:  66\n",
      "Train on 1319715 samples, validate on 146634 samples\n",
      "Epoch 1/1\n"
     ]
    },
    {
     "name": "stdout",
     "output_type": "stream",
     "text": [
      "1319715/1319715 [==============================] - 36s 27us/step - loss: 10.0048 - acc: 0.3793 - val_loss: 3.1158 - val_acc: 0.8067\n",
      "Iteration:  67\n",
      "Train on 1319715 samples, validate on 146634 samples\n",
      "Epoch 1/1\n",
      "1319715/1319715 [==============================] - 40s 30us/step - loss: 12.9583 - acc: 0.1960 - val_loss: 13.0023 - val_acc: 0.1933\n",
      "Iteration:  68\n",
      "Train on 1319715 samples, validate on 146634 samples\n",
      "Epoch 1/1\n",
      "1319715/1319715 [==============================] - 39s 30us/step - loss: 3.1598 - acc: 0.8040 - val_loss: 3.1158 - val_acc: 0.8067\n",
      "Iteration:  69\n",
      "Train on 1319715 samples, validate on 146634 samples\n",
      "Epoch 1/1\n",
      "1319715/1319715 [==============================] - 41s 31us/step - loss: 12.9583 - acc: 0.1960 - val_loss: 13.0023 - val_acc: 0.1933\n",
      "Iteration:  70\n",
      "Train on 1319715 samples, validate on 146634 samples\n",
      "Epoch 1/1\n",
      "1319715/1319715 [==============================] - 41s 31us/step - loss: 3.1598 - acc: 0.8040 - val_loss: 3.1158 - val_acc: 0.8067\n",
      "Iteration:  71\n",
      "Train on 1319715 samples, validate on 146634 samples\n",
      "Epoch 1/1\n",
      "1319715/1319715 [==============================] - 39s 30us/step - loss: 3.1598 - acc: 0.8040 - val_loss: 3.1158 - val_acc: 0.8067\n",
      "Iteration:  72\n",
      "Train on 1319715 samples, validate on 146634 samples\n",
      "Epoch 1/1\n",
      "1319715/1319715 [==============================] - 40s 30us/step - loss: 12.9583 - acc: 0.1960 - val_loss: 13.0023 - val_acc: 0.1933\n",
      "Iteration:  73\n",
      "Train on 1319715 samples, validate on 146634 samples\n",
      "Epoch 1/1\n",
      "1319715/1319715 [==============================] - 41s 31us/step - loss: 12.0777 - acc: 0.2507 - val_loss: 13.0023 - val_acc: 0.1933\n",
      "Iteration:  74\n",
      "Train on 1319715 samples, validate on 146634 samples\n",
      "Epoch 1/1\n",
      "1319715/1319715 [==============================] - 41s 31us/step - loss: 3.1598 - acc: 0.8040 - val_loss: 3.1158 - val_acc: 0.8067\n",
      "Iteration:  75\n",
      "Train on 1319715 samples, validate on 146634 samples\n",
      "Epoch 1/1\n",
      "1319715/1319715 [==============================] - 39s 30us/step - loss: 3.1672 - acc: 0.8035 - val_loss: 3.1158 - val_acc: 0.8067\n",
      "Iteration:  76\n",
      "Train on 1319715 samples, validate on 146634 samples\n",
      "Epoch 1/1\n",
      "1319715/1319715 [==============================] - 41s 31us/step - loss: 3.1598 - acc: 0.8040 - val_loss: 3.1158 - val_acc: 0.8067\n",
      "Iteration:  77\n",
      "Train on 1319715 samples, validate on 146634 samples\n",
      "Epoch 1/1\n",
      "1319715/1319715 [==============================] - 41s 31us/step - loss: 3.1628 - acc: 0.8038 - val_loss: 3.1158 - val_acc: 0.8067\n",
      "Iteration:  78\n",
      "Train on 1319715 samples, validate on 146634 samples\n",
      "Epoch 1/1\n",
      "1319715/1319715 [==============================] - 40s 30us/step - loss: 3.1598 - acc: 0.8040 - val_loss: 3.1158 - val_acc: 0.8067\n",
      "Iteration:  79\n",
      "Train on 1319715 samples, validate on 146634 samples\n",
      "Epoch 1/1\n",
      "1319715/1319715 [==============================] - 40s 30us/step - loss: 8.4372 - acc: 0.4765 - val_loss: 3.1158 - val_acc: 0.8067\n",
      "Iteration:  80\n",
      "Train on 1319715 samples, validate on 146634 samples\n",
      "Epoch 1/1\n",
      "1319715/1319715 [==============================] - 41s 31us/step - loss: 3.1598 - acc: 0.8040 - val_loss: 3.1158 - val_acc: 0.8067\n",
      "Iteration:  81\n",
      "Train on 1319715 samples, validate on 146634 samples\n",
      "Epoch 1/1\n",
      "1319715/1319715 [==============================] - 41s 31us/step - loss: 3.1598 - acc: 0.8040 - val_loss: 3.1158 - val_acc: 0.8067\n",
      "Iteration:  82\n",
      "Train on 1319715 samples, validate on 146634 samples\n",
      "Epoch 1/1\n",
      "1319715/1319715 [==============================] - 39s 30us/step - loss: 3.1636 - acc: 0.8037 - val_loss: 3.1158 - val_acc: 0.8067\n",
      "Iteration:  83\n",
      "Train on 1319715 samples, validate on 146634 samples\n",
      "Epoch 1/1\n",
      "1319715/1319715 [==============================] - 40s 31us/step - loss: 12.9583 - acc: 0.1960 - val_loss: 13.0023 - val_acc: 0.1933\n",
      "Iteration:  84\n",
      "Train on 1319715 samples, validate on 146634 samples\n",
      "Epoch 1/1\n",
      "1319715/1319715 [==============================] - 41s 31us/step - loss: 12.9583 - acc: 0.1960 - val_loss: 13.0023 - val_acc: 0.1933\n",
      "Iteration:  85\n",
      "Train on 1319715 samples, validate on 146634 samples\n",
      "Epoch 1/1\n",
      "1319715/1319715 [==============================] - 40s 30us/step - loss: 3.1603 - acc: 0.8039 - val_loss: 3.1158 - val_acc: 0.8067\n",
      "Iteration:  86\n",
      "Train on 1319715 samples, validate on 146634 samples\n",
      "Epoch 1/1\n",
      "1319715/1319715 [==============================] - 40s 30us/step - loss: 12.9583 - acc: 0.1960 - val_loss: 13.0023 - val_acc: 0.1933\n",
      "Iteration:  87\n",
      "Train on 1319715 samples, validate on 146634 samples\n",
      "Epoch 1/1\n",
      "1319715/1319715 [==============================] - 41s 31us/step - loss: 3.1598 - acc: 0.8040 - val_loss: 3.1158 - val_acc: 0.8067\n",
      "Iteration:  88\n",
      "Train on 1319715 samples, validate on 146634 samples\n",
      "Epoch 1/1\n",
      "1319715/1319715 [==============================] - 41s 31us/step - loss: 3.2565 - acc: 0.7980 - val_loss: 3.1158 - val_acc: 0.8067\n",
      "Iteration:  89\n",
      "Train on 1319715 samples, validate on 146634 samples\n",
      "Epoch 1/1\n",
      "1319715/1319715 [==============================] - 39s 30us/step - loss: 12.9583 - acc: 0.1960 - val_loss: 13.0023 - val_acc: 0.1933\n",
      "Iteration:  90\n",
      "Train on 1319715 samples, validate on 146634 samples\n",
      "Epoch 1/1\n",
      "1319715/1319715 [==============================] - 41s 31us/step - loss: 3.1598 - acc: 0.8040 - val_loss: 3.1158 - val_acc: 0.8067\n",
      "Iteration:  91\n",
      "Train on 1319715 samples, validate on 146634 samples\n",
      "Epoch 1/1\n",
      "1319715/1319715 [==============================] - 41s 31us/step - loss: 12.9583 - acc: 0.1960 - val_loss: 13.0023 - val_acc: 0.1933\n",
      "Iteration:  92\n",
      "Train on 1319715 samples, validate on 146634 samples\n",
      "Epoch 1/1\n",
      "1319715/1319715 [==============================] - 36s 28us/step - loss: 12.9583 - acc: 0.1960 - val_loss: 13.0023 - val_acc: 0.1933\n",
      "Iteration:  93\n",
      "Train on 1319715 samples, validate on 146634 samples\n",
      "Epoch 1/1\n",
      "1319715/1319715 [==============================] - 35s 27us/step - loss: 12.9583 - acc: 0.1960 - val_loss: 13.0023 - val_acc: 0.1933\n",
      "Iteration:  94\n",
      "Train on 1319715 samples, validate on 146634 samples\n",
      "Epoch 1/1\n",
      "1319715/1319715 [==============================] - 36s 27us/step - loss: 3.1598 - acc: 0.8040 - val_loss: 3.1158 - val_acc: 0.8067\n",
      "Iteration:  95\n",
      "Train on 1319715 samples, validate on 146634 samples\n",
      "Epoch 1/1\n",
      "1319715/1319715 [==============================] - 36s 27us/step - loss: 3.1598 - acc: 0.8040 - val_loss: 3.1158 - val_acc: 0.8067\n",
      "Iteration:  96\n",
      "Train on 1319715 samples, validate on 146634 samples\n",
      "Epoch 1/1\n",
      "1319715/1319715 [==============================] - 35s 26us/step - loss: 12.9583 - acc: 0.1960 - val_loss: 13.0023 - val_acc: 0.1933\n",
      "Iteration:  97\n",
      "Train on 1319715 samples, validate on 146634 samples\n",
      "Epoch 1/1\n",
      "1319715/1319715 [==============================] - 36s 27us/step - loss: 3.1598 - acc: 0.8040 - val_loss: 3.1158 - val_acc: 0.8067\n",
      "Iteration:  98\n",
      "Train on 1319715 samples, validate on 146634 samples\n",
      "Epoch 1/1\n",
      "1319715/1319715 [==============================] - 36s 27us/step - loss: 3.1666 - acc: 0.8035 - val_loss: 3.1158 - val_acc: 0.8067\n",
      "Iteration:  99\n",
      "Train on 1319715 samples, validate on 146634 samples\n",
      "Epoch 1/1\n",
      "1319715/1319715 [==============================] - 36s 27us/step - loss: 12.9583 - acc: 0.1960 - val_loss: 13.0023 - val_acc: 0.1933\n"
     ]
    }
   ],
   "source": [
    "n_fail1 = 0\n",
    "n_fail2 = 0\n",
    "n_succ = 0\n",
    "iterations = 100\n",
    "for i in range(iterations):\n",
    "    print(\"Iteration: \", i)\n",
    "    \n",
    "    K.clear_session()\n",
    "    dctr = PFN(input_dim=5, \n",
    "           Phi_sizes=Phi_sizes, F_sizes=F_sizes,\n",
    "           summary=False)\n",
    "    history = dctr.fit(X_train, Y_train,\n",
    "                        epochs = 1,\n",
    "                        batch_size = 1000,\n",
    "                        validation_data = (X_val, Y_val),\n",
    "                        verbose = 1)\n",
    "    \n",
    "    if history.history['val_loss'][0] > 2: # Fail case 1\n",
    "        n_fail1 += 1\n",
    "    elif history.history['val_loss'][0] < 0.1: # Fail case 2\n",
    "        n_fail2 += 1\n",
    "    else: # success\n",
    "        n_succ += 1\n",
    "        # serialize weights to HDF5\n",
    "        dctr.save_weights(\"TOP_DCTR.h5\")\n",
    "        print(\"Saved model to disk\")\n",
    "            \n",
    "n_fail = n_fail1 + n_fail2"
   ]
  },
  {
   "cell_type": "code",
   "execution_count": 19,
   "metadata": {
    "ExecuteTime": {
     "end_time": "2020-06-04T07:03:35.010913Z",
     "start_time": "2020-06-04T07:03:35.002370Z"
    }
   },
   "outputs": [
    {
     "name": "stdout",
     "output_type": "stream",
     "text": [
      "Number of initializations failed:  100 / 100\n",
      "Percentage of initializations failed: 100.0 %\n",
      "Number of initializations succeeded:  0 / 100\n",
      "Percentage of initializations succeeded: 0.0 %\n"
     ]
    }
   ],
   "source": [
    "n_fail = n_fail1 + n_fail2\n",
    "\n",
    "print(\"Number of initializations failed: \", n_fail, \"/\", iterations)\n",
    "print(\"Percentage of initializations failed:\", (100*n_fail/iterations), \"%\")\n",
    "\n",
    "print(\"Number of initializations succeeded: \", n_succ, \"/\", iterations)\n",
    "print(\"Percentage of initializations succeeded:\", (100*n_succ/iterations), \"%\")"
   ]
  },
  {
   "cell_type": "markdown",
   "metadata": {},
   "source": [
    "Finish training"
   ]
  },
  {
   "cell_type": "code",
   "execution_count": 20,
   "metadata": {
    "ExecuteTime": {
     "end_time": "2020-06-04T07:03:35.021352Z",
     "start_time": "2020-06-04T07:03:35.014717Z"
    }
   },
   "outputs": [
    {
     "name": "stdout",
     "output_type": "stream",
     "text": [
      "Model had 0 successful initializations, will not finish training\n"
     ]
    }
   ],
   "source": [
    "try:\n",
    "    dctr_model.load_weights(\"TOP_DCTR.h5\")\n",
    "    history = dctr.fit(X_train, Y_train,\n",
    "                    epochs = 100,\n",
    "                    batch_size = 1000,\n",
    "                    validation_data = (X_val, Y_val),\n",
    "                    verbose = 1, \n",
    "                    callbacks = callbacks)\n",
    "except:\n",
    "    print(\"Model had 0 successful initializations, will not finish training\")"
   ]
  },
  {
   "cell_type": "markdown",
   "metadata": {},
   "source": [
    "# Plot History"
   ]
  },
  {
   "cell_type": "code",
   "execution_count": 21,
   "metadata": {
    "ExecuteTime": {
     "end_time": "2020-06-04T07:03:35.332383Z",
     "start_time": "2020-06-04T07:03:35.025050Z"
    }
   },
   "outputs": [
    {
     "data": {
      "image/png": "[encoded data removed]",
      "text/plain": [
       "<Figure size 432x288 with 1 Axes>"
      ]
     },
     "metadata": {
      "needs_background": "light"
     },
     "output_type": "display_data"
    }
   ],
   "source": [
    "plt.plot(history.history['loss'],     label = 'loss')\n",
    "plt.plot(history.history['val_loss'], label = 'val loss')\n",
    "plt.legend(loc=0)\n",
    "plt.ylabel('loss')\n",
    "plt.xlabel('Epochs')\n",
    "plt.show()"
   ]
  },
  {
   "cell_type": "markdown",
   "metadata": {},
   "source": [
    "## Load Datasets"
   ]
  },
  {
   "cell_type": "code",
   "execution_count": 23,
   "metadata": {
    "ExecuteTime": {
     "end_time": "2020-06-04T07:04:00.161041Z",
     "start_time": "2020-06-04T07:04:00.121968Z"
    }
   },
   "outputs": [],
   "source": [
    "test_dataset_0 = np.load(data_dir0+'part_172_5_6j.npy')\n",
    "test_dataset_1 = np.load(data_dir0+'part_175_0_6j.npy')"
   ]
  },
  {
   "cell_type": "code",
   "execution_count": 24,
   "metadata": {
    "ExecuteTime": {
     "end_time": "2020-06-04T07:04:01.832481Z",
     "start_time": "2020-06-04T07:04:01.826458Z"
    }
   },
   "outputs": [],
   "source": [
    "# Define labels for legends\n",
    "label_0 = r'$m_T=172.5$'\n",
    "\n",
    "label_1 = r'$m_T=175.0$'\n",
    "\n",
    "def make_legend():\n",
    "    ax = plt.gca()\n",
    "    leg = ax.legend(frameon=False)\n",
    "    leg._legend_box.align = \"left\"\n",
    "    plt.tight_layout()"
   ]
  },
  {
   "cell_type": "markdown",
   "metadata": {},
   "source": [
    "## Get predictions"
   ]
  },
  {
   "cell_type": "code",
   "execution_count": 27,
   "metadata": {
    "ExecuteTime": {
     "end_time": "2020-06-04T07:04:29.487733Z",
     "start_time": "2020-06-04T07:04:29.483970Z"
    }
   },
   "outputs": [],
   "source": [
    "# Load test datasets\n",
    "X0_test = test_dataset_0 # preprocess_data(test_dataset_0)\n",
    "X1_test = test_dataset_1 # preprocess_data(test_dataset_1)\n",
    "\n"
   ]
  },
  {
   "cell_type": "code",
   "execution_count": 28,
   "metadata": {
    "ExecuteTime": {
     "end_time": "2020-06-04T07:04:30.567727Z",
     "start_time": "2020-06-04T07:04:29.490352Z"
    }
   },
   "outputs": [],
   "source": [
    "# Get predicted probabilities\n",
    "preds_0 = dctr.predict(X0_test, batch_size=1000)\n",
    "preds_1 = dctr.predict(X1_test, batch_size=1000)"
   ]
  },
  {
   "cell_type": "code",
   "execution_count": 29,
   "metadata": {
    "ExecuteTime": {
     "end_time": "2020-06-04T07:04:33.415580Z",
     "start_time": "2020-06-04T07:04:33.409424Z"
    }
   },
   "outputs": [
    {
     "name": "stdout",
     "output_type": "stream",
     "text": [
      "[[1. 0.]\n",
      " [1. 0.]\n",
      " [1. 0.]\n",
      " [1. 0.]\n",
      " [1. 0.]\n",
      " [1. 0.]\n",
      " [1. 0.]\n",
      " [1. 0.]\n",
      " [1. 0.]\n",
      " [1. 0.]\n",
      " [1. 0.]\n",
      " [1. 0.]\n",
      " [1. 0.]\n",
      " [1. 0.]\n",
      " [1. 0.]\n",
      " [1. 0.]\n",
      " [1. 0.]\n",
      " [1. 0.]\n",
      " [1. 0.]\n",
      " [1. 0.]]\n"
     ]
    }
   ],
   "source": [
    "print(preds_0[0:20]) # Network hasn't trained "
   ]
  },
  {
   "cell_type": "markdown",
   "metadata": {},
   "source": [
    "## Get weights"
   ]
  },
  {
   "cell_type": "code",
   "execution_count": 30,
   "metadata": {
    "ExecuteTime": {
     "end_time": "2020-06-04T07:04:46.598330Z",
     "start_time": "2020-06-04T07:04:46.593143Z"
    }
   },
   "outputs": [],
   "source": [
    "weights_0 = preds_0[:,1]/preds_0[:,0]\n",
    "weights_1 = preds_1[:,1]/preds_1[:,0]"
   ]
  },
  {
   "cell_type": "markdown",
   "metadata": {},
   "source": [
    "## Analyze weights"
   ]
  },
  {
   "cell_type": "code",
   "execution_count": 31,
   "metadata": {
    "ExecuteTime": {
     "end_time": "2020-06-04T07:04:47.899815Z",
     "start_time": "2020-06-04T07:04:47.838516Z"
    }
   },
   "outputs": [
    {
     "name": "stdout",
     "output_type": "stream",
     "text": [
      "0.0\n",
      "inf\n",
      "0.0\n",
      "inf\n"
     ]
    },
    {
     "name": "stderr",
     "output_type": "stream",
     "text": [
      "/home/asuresh/.local/lib/python3.5/site-packages/ipykernel_launcher.py:2: RuntimeWarning: divide by zero encountered in true_divide\n",
      "  \n",
      "/home/asuresh/.local/lib/python3.5/site-packages/ipykernel_launcher.py:4: RuntimeWarning: divide by zero encountered in true_divide\n",
      "  after removing the cwd from sys.path.\n"
     ]
    }
   ],
   "source": [
    "print(max(weights_0))\n",
    "print(max(1/weights_0))\n",
    "print(max(weights_1))\n",
    "print(max(1/weights_1))"
   ]
  },
  {
   "cell_type": "code",
   "execution_count": 32,
   "metadata": {
    "ExecuteTime": {
     "end_time": "2020-06-04T07:04:49.915493Z",
     "start_time": "2020-06-04T07:04:48.981396Z"
    }
   },
   "outputs": [
    {
     "data": {
      "image/png": "[encoded data removed]",
      "text/plain": [
       "<Figure size 432x288 with 1 Axes>"
      ]
     },
     "metadata": {
      "needs_background": "light"
     },
     "output_type": "display_data"
    }
   ],
   "source": [
    "clip_val = 3\n",
    "bins = np.linspace(0, clip_val, 101)\n",
    "plt.hist(np.clip(weights_0, 0, clip_val), bins = bins)\n",
    "plt.xlabel(\"Weight\")\n",
    "plt.ylabel('Jets per bin (normalized)')\n",
    "plt.title(\"Weights \" + label_0 + r'$\\rightarrow$ ' + label_0, fontsize = 20)\n",
    "plt.show()"
   ]
  },
  {
   "cell_type": "code",
   "execution_count": 33,
   "metadata": {
    "ExecuteTime": {
     "end_time": "2020-06-04T07:04:51.709345Z",
     "start_time": "2020-06-04T07:04:51.053393Z"
    }
   },
   "outputs": [
    {
     "data": {
      "image/png": "[encoded data removed]",
      "text/plain": [
       "<Figure size 432x288 with 1 Axes>"
      ]
     },
     "metadata": {
      "needs_background": "light"
     },
     "output_type": "display_data"
    }
   ],
   "source": [
    "clip_val = 3\n",
    "bins = np.linspace(0, clip_val, 101)\n",
    "plt.hist(np.clip(weights_1, 0, clip_val), bins = bins)\n",
    "plt.xlabel(\"Weight\")\n",
    "plt.ylabel('Jets per bin (normalized)')\n",
    "plt.title(\"Weights \" + label_0 + r'$\\rightarrow$ ' + label_1, fontsize = 20)\n",
    "plt.show()"
   ]
  },
  {
   "cell_type": "code",
   "execution_count": null,
   "metadata": {},
   "outputs": [],
   "source": []
  },
  {
   "cell_type": "code",
   "execution_count": null,
   "metadata": {},
   "outputs": [],
   "source": []
  }
 ],
 "metadata": {
  "kernelspec": {
   "display_name": "Python 3",
   "language": "python",
   "name": "python3"
  },
  "language_info": {
   "codemirror_mode": {
    "name": "ipython",
    "version": 3
   },
   "file_extension": ".py",
   "mimetype": "text/x-python",
   "name": "python",
   "nbconvert_exporter": "python",
   "pygments_lexer": "ipython3",
   "version": "3.5.2"
  },
  "toc": {
   "base_numbering": 1,
   "nav_menu": {},
   "number_sections": false,
   "sideBar": true,
   "skip_h1_title": false,
   "title_cell": "Table of Contents",
   "title_sidebar": "Contents",
   "toc_cell": false,
   "toc_position": {},
   "toc_section_display": true,
   "toc_window_display": false
  }
 },
 "nbformat": 4,
 "nbformat_minor": 2
}
