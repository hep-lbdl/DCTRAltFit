{
 "cells": [
  {
   "cell_type": "markdown",
   "metadata": {},
   "source": [
    "# Top Mass DCTR 1D - $m_{jjj}$"
   ]
  },
  {
   "cell_type": "markdown",
   "metadata": {},
   "source": [
    "This notebook attempts to train and validate a DCTR model paramterized by the top mass only using reconstructed hadronic mass $m_{jjj}$ for each event"
   ]
  },
  {
   "cell_type": "code",
   "execution_count": 1,
   "metadata": {
    "ExecuteTime": {
     "end_time": "2020-06-09T07:58:54.239751Z",
     "start_time": "2020-06-09T07:58:54.235399Z"
    }
   },
   "outputs": [],
   "source": [
    "import os\n",
    "os.environ[\"CUDA_DEVICE_ORDER\"]=\"PCI_BUS_ID\"\n",
    "os.environ[\"CUDA_VISIBLE_DEVICES\"]=\"3\""
   ]
  },
  {
   "cell_type": "code",
   "execution_count": 2,
   "metadata": {
    "ExecuteTime": {
     "end_time": "2020-06-09T07:58:57.196556Z",
     "start_time": "2020-06-09T07:58:54.242375Z"
    }
   },
   "outputs": [
    {
     "name": "stderr",
     "output_type": "stream",
     "text": [
      "Using TensorFlow backend.\n"
     ]
    }
   ],
   "source": [
    "# standard library imports\n",
    "from __future__ import absolute_import, division, print_function\n",
    "\n",
    "import tensorflow as tf\n",
    "import numpy as np\n",
    "from matplotlib import pyplot as plt\n",
    "from sklearn.utils import shuffle\n",
    "from sklearn.model_selection import train_test_split\n",
    "from keras.utils import to_categorical\n",
    "from keras import Sequential\n",
    "from keras.layers import Lambda, Dense, Input, Layer, Dropout\n",
    "from keras.models import Model\n",
    "from keras.utils import to_categorical\n",
    "from keras.callbacks import LambdaCallback, EarlyStopping\n",
    "import keras.backend as K\n",
    "import keras\n",
    "\n",
    "\n",
    "import inspect\n",
    "\n",
    "# standard numerical library imports\n",
    "import numpy as np\n",
    "import scipy as sp\n",
    "\n",
    "# energyflow imports\n",
    "import energyflow as ef\n",
    "from energyflow.archs import PFN\n",
    "from energyflow.utils import data_split, remap_pids, to_categorical\n",
    "\n",
    "import matplotlib.pyplot as plt"
   ]
  },
  {
   "cell_type": "markdown",
   "metadata": {},
   "source": [
    "## Process Data"
   ]
  },
  {
   "cell_type": "code",
   "execution_count": 3,
   "metadata": {
    "ExecuteTime": {
     "end_time": "2020-06-09T07:58:57.202983Z",
     "start_time": "2020-06-09T07:58:57.199308Z"
    }
   },
   "outputs": [],
   "source": [
    "# Path to downloaded data from Zenodo\n",
    "data_dir0 = '/data1/users/aandreassen/DCTRFitting/'\n",
    "data_dir1 = '/data1/users/asuresh/DCTRFitting/'"
   ]
  },
  {
   "cell_type": "code",
   "execution_count": 4,
   "metadata": {
    "ExecuteTime": {
     "end_time": "2020-06-09T07:58:57.381279Z",
     "start_time": "2020-06-09T07:58:57.205321Z"
    }
   },
   "outputs": [
    {
     "name": "stdout",
     "output_type": "stream",
     "text": [
      "(287065, 1)\n",
      "(287065, 1)\n",
      "(1179284, 1)\n",
      "(1179284, 1)\n"
     ]
    }
   ],
   "source": [
    "# fetch m_T vals from default dataset\n",
    "train_dataset_0_mT = np.load(data_dir0 + 'part_172_5_6j.npy')[:, :1, 4]\n",
    "train_dataset_0_mT_x4 = np.load(data_dir1 + 'part_172_5_6j_x4.npy')[:, :1, 4]\n",
    "# combine orignal and x4 samples\n",
    "train_dataset_0_mT = np.concatenate(\n",
    "    (train_dataset_0_mT, train_dataset_0_mT_x4))\n",
    "\n",
    "print(np.shape(train_dataset_0_mT))\n",
    "\n",
    "# fetch m_jjj vals from default dataset\n",
    "train_dataset_0_mjjj = np.load(data_dir0 + 'part_172_5_6j_obs.npy')[:, :1]\n",
    "train_dataset_0_mjjj_x4 = np.load(data_dir1 +\n",
    "                                  'part_172_5_6j_obs_x4.npy')[:, :1]\n",
    "# combine orignal and x4 samples\n",
    "train_dataset_0_mjjj = np.concatenate(\n",
    "    (train_dataset_0_mjjj, train_dataset_0_mjjj_x4))\n",
    "\n",
    "print(np.shape(train_dataset_0_mjjj))\n",
    "\n",
    "# fetch m_T vals from varied dataset\n",
    "train_dataset_1_mT = np.load(data_dir0 + 'part_varmass_6j.npy')[:, :1, 4]\n",
    "train_dataset_1_mT_x4 = np.load(data_dir1 + 'part_varmass_6j_x4.npy')[:, :1, 4]\n",
    "# combine orignal and x4 samples\n",
    "train_dataset_1_mT = np.concatenate(\n",
    "    (train_dataset_1_mT, train_dataset_1_mT_x4))#[:len(train_dataset_0_mT)]\n",
    "\n",
    "print(np.shape(train_dataset_1_mT))\n",
    "\n",
    "# fetch m_jjj vals from varied dataset\n",
    "train_dataset_1_mjjj = np.load(data_dir0 + 'part_varmass_6j_obs.npy')[:, :1]\n",
    "train_dataset_1_mjjj_x4 = np.load(data_dir1 + 'part_varmass_6j_obs_x4.npy')[:, :1]\n",
    "# combine orignal and x4 samples\n",
    "train_dataset_1_mjjj = np.concatenate(\n",
    "    (train_dataset_1_mjjj, train_dataset_1_mjjj_x4))#[:len(train_dataset_0_mjjj)]\n",
    "\n",
    "print(np.shape(train_dataset_1_mjjj))"
   ]
  },
  {
   "cell_type": "markdown",
   "metadata": {},
   "source": [
    "The model will see an unequal number of events from the uniformly sampled mass data and the fixed mass data. We will have to correct this with a liklihood ratio factor when reweighting."
   ]
  },
  {
   "cell_type": "code",
   "execution_count": 5,
   "metadata": {
    "ExecuteTime": {
     "end_time": "2020-06-09T07:58:57.400903Z",
     "start_time": "2020-06-09T07:58:57.385155Z"
    }
   },
   "outputs": [
    {
     "name": "stdout",
     "output_type": "stream",
     "text": [
      "4.108073084493059\n"
     ]
    }
   ],
   "source": [
    "X0 = np.concatenate((train_dataset_0_mjjj, train_dataset_0_mT), axis = 1)\n",
    "X1 = np.concatenate((train_dataset_1_mjjj, train_dataset_1_mT), axis = 1)\n",
    "\n",
    "print(len(X1)/len(X0)) # different sizes if != 1"
   ]
  },
  {
   "cell_type": "code",
   "execution_count": 6,
   "metadata": {
    "ExecuteTime": {
     "end_time": "2020-06-09T07:58:57.409938Z",
     "start_time": "2020-06-09T07:58:57.403699Z"
    }
   },
   "outputs": [],
   "source": [
    "Y0 = np.zeros_like(X0[:,0])\n",
    "Y1 = np.ones_like(X1[:,0])"
   ]
  },
  {
   "cell_type": "code",
   "execution_count": 7,
   "metadata": {
    "ExecuteTime": {
     "end_time": "2020-06-09T07:58:57.478379Z",
     "start_time": "2020-06-09T07:58:57.412687Z"
    }
   },
   "outputs": [],
   "source": [
    "X = np.concatenate((X0, X1), axis = 0)\n",
    "X /= 100.\n",
    "Y = np.concatenate((Y0, Y1), axis = 0)\n",
    "Y = to_categorical(Y, num_classes=2)"
   ]
  },
  {
   "cell_type": "code",
   "execution_count": 8,
   "metadata": {
    "ExecuteTime": {
     "end_time": "2020-06-09T07:58:57.798258Z",
     "start_time": "2020-06-09T07:58:57.481049Z"
    }
   },
   "outputs": [],
   "source": [
    "X_train, X_val, Y_train, Y_val = data_split(X, Y, test=0.2, shuffle=True)"
   ]
  },
  {
   "cell_type": "code",
   "execution_count": 9,
   "metadata": {
    "ExecuteTime": {
     "end_time": "2020-06-09T07:58:57.805960Z",
     "start_time": "2020-06-09T07:58:57.800249Z"
    }
   },
   "outputs": [
    {
     "name": "stdout",
     "output_type": "stream",
     "text": [
      "(1173080, 2)\n",
      "(1173080, 2)\n",
      "(293269, 2)\n",
      "(293269, 2)\n"
     ]
    }
   ],
   "source": [
    "print(X_train.shape)\n",
    "print(Y_train.shape)\n",
    "\n",
    "print(X_val.shape)\n",
    "print(Y_val.shape)"
   ]
  },
  {
   "cell_type": "markdown",
   "metadata": {},
   "source": [
    "## Build Model"
   ]
  },
  {
   "cell_type": "code",
   "execution_count": 10,
   "metadata": {
    "ExecuteTime": {
     "end_time": "2020-06-09T07:58:57.965275Z",
     "start_time": "2020-06-09T07:58:57.809376Z"
    }
   },
   "outputs": [
    {
     "name": "stdout",
     "output_type": "stream",
     "text": [
      "WARNING:tensorflow:From /home/asuresh/.local/lib/python3.5/site-packages/keras/backend/tensorflow_backend.py:74: The name tf.get_default_graph is deprecated. Please use tf.compat.v1.get_default_graph instead.\n",
      "\n",
      "WARNING:tensorflow:From /home/asuresh/.local/lib/python3.5/site-packages/keras/backend/tensorflow_backend.py:517: The name tf.placeholder is deprecated. Please use tf.compat.v1.placeholder instead.\n",
      "\n",
      "WARNING:tensorflow:From /home/asuresh/.local/lib/python3.5/site-packages/keras/backend/tensorflow_backend.py:4138: The name tf.random_uniform is deprecated. Please use tf.random.uniform instead.\n",
      "\n",
      "WARNING:tensorflow:From /home/asuresh/.local/lib/python3.5/site-packages/keras/optimizers.py:790: The name tf.train.Optimizer is deprecated. Please use tf.compat.v1.train.Optimizer instead.\n",
      "\n",
      "WARNING:tensorflow:From /home/asuresh/.local/lib/python3.5/site-packages/keras/backend/tensorflow_backend.py:3295: The name tf.log is deprecated. Please use tf.math.log instead.\n",
      "\n"
     ]
    }
   ],
   "source": [
    "inputs = Input((2,))\n",
    "hidden_layer_1 = Dense(50, activation='relu')(inputs)\n",
    "hidden_layer_2 = Dense(50, activation='relu')(hidden_layer_1)\n",
    "hidden_layer_3 = Dense(50, activation='relu')(hidden_layer_2)\n",
    "\n",
    "outputs = Dense(2, activation='softmax')(hidden_layer_3)\n",
    "\n",
    "dctr = Model(inputs = inputs, outputs = outputs)\n",
    "dctr.compile(loss='categorical_crossentropy', optimizer='Adam')"
   ]
  },
  {
   "cell_type": "markdown",
   "metadata": {},
   "source": [
    "## Train model"
   ]
  },
  {
   "cell_type": "markdown",
   "metadata": {},
   "source": [
    "Model has a tendency to initialize at trivial minima of the loss function (loss ~ 12 or loss ~4); the mode's outputs are all [1, 0] or all [0, 1] respecively in these cases. We do 100 iterations of initializations to explore the fraction of initiziations that succeed in being able to train a non-trivial model(loss after first epoch ~1), and keep the weights from such a model to complete the rest of training."
   ]
  },
  {
   "cell_type": "code",
   "execution_count": 11,
   "metadata": {
    "ExecuteTime": {
     "end_time": "2020-06-09T08:11:56.301466Z",
     "start_time": "2020-06-09T07:58:57.968010Z"
    }
   },
   "outputs": [
    {
     "name": "stdout",
     "output_type": "stream",
     "text": [
      "Iteration:  0\n",
      "WARNING:tensorflow:From /home/asuresh/.local/lib/python3.5/site-packages/keras/backend/tensorflow_backend.py:95: The name tf.reset_default_graph is deprecated. Please use tf.compat.v1.reset_default_graph instead.\n",
      "\n",
      "WARNING:tensorflow:From /home/asuresh/.local/lib/python3.5/site-packages/keras/backend/tensorflow_backend.py:98: The name tf.placeholder_with_default is deprecated. Please use tf.compat.v1.placeholder_with_default instead.\n",
      "\n",
      "WARNING:tensorflow:From /home/asuresh/.local/lib/python3.5/site-packages/tensorflow_core/python/ops/math_grad.py:1424: where (from tensorflow.python.ops.array_ops) is deprecated and will be removed in a future version.\n",
      "Instructions for updating:\n",
      "Use tf.where in 2.0, which has the same broadcast rule as np.where\n",
      "WARNING:tensorflow:From /home/asuresh/.local/lib/python3.5/site-packages/keras/backend/tensorflow_backend.py:986: The name tf.assign_add is deprecated. Please use tf.compat.v1.assign_add instead.\n",
      "\n",
      "WARNING:tensorflow:From /home/asuresh/.local/lib/python3.5/site-packages/keras/backend/tensorflow_backend.py:973: The name tf.assign is deprecated. Please use tf.compat.v1.assign instead.\n",
      "\n",
      "WARNING:tensorflow:From /home/asuresh/.local/lib/python3.5/site-packages/keras/backend/tensorflow_backend.py:2741: The name tf.Session is deprecated. Please use tf.compat.v1.Session instead.\n",
      "\n",
      "Train on 1173080 samples, validate on 293269 samples\n",
      "Epoch 1/1\n",
      "WARNING:tensorflow:From /home/asuresh/.local/lib/python3.5/site-packages/keras/backend/tensorflow_backend.py:174: The name tf.get_default_session is deprecated. Please use tf.compat.v1.get_default_session instead.\n",
      "\n",
      "WARNING:tensorflow:From /home/asuresh/.local/lib/python3.5/site-packages/keras/backend/tensorflow_backend.py:181: The name tf.ConfigProto is deprecated. Please use tf.compat.v1.ConfigProto instead.\n",
      "\n",
      "WARNING:tensorflow:From /home/asuresh/.local/lib/python3.5/site-packages/keras/backend/tensorflow_backend.py:190: The name tf.global_variables is deprecated. Please use tf.compat.v1.global_variables instead.\n",
      "\n",
      "WARNING:tensorflow:From /home/asuresh/.local/lib/python3.5/site-packages/keras/backend/tensorflow_backend.py:199: The name tf.is_variable_initialized is deprecated. Please use tf.compat.v1.is_variable_initialized instead.\n",
      "\n",
      "WARNING:tensorflow:From /home/asuresh/.local/lib/python3.5/site-packages/keras/backend/tensorflow_backend.py:206: The name tf.variables_initializer is deprecated. Please use tf.compat.v1.variables_initializer instead.\n",
      "\n",
      " - 6s - loss: 0.4961 - acc: 0.8022 - val_loss: 0.4962 - val_acc: 0.8031\n",
      "Success\n",
      "Iteration:  1\n",
      "Train on 1173080 samples, validate on 293269 samples\n",
      "Epoch 1/1\n",
      " - 6s - loss: 0.4954 - acc: 0.8036 - val_loss: 0.4962 - val_acc: 0.8031\n",
      "Success\n",
      "Iteration:  2\n",
      "Train on 1173080 samples, validate on 293269 samples\n",
      "Epoch 1/1\n",
      " - 6s - loss: 0.4946 - acc: 0.8045 - val_loss: 0.4964 - val_acc: 0.8031\n",
      "Success\n",
      "Iteration:  3\n",
      "Train on 1173080 samples, validate on 293269 samples\n",
      "Epoch 1/1\n",
      " - 6s - loss: 0.4946 - acc: 0.8045 - val_loss: 0.4959 - val_acc: 0.8031\n",
      "Success\n",
      "Iteration:  4\n",
      "Train on 1173080 samples, validate on 293269 samples\n",
      "Epoch 1/1\n",
      " - 6s - loss: 0.4958 - acc: 0.8033 - val_loss: 0.4959 - val_acc: 0.8031\n",
      "Success\n",
      "Iteration:  5\n",
      "Train on 1173080 samples, validate on 293269 samples\n",
      "Epoch 1/1\n",
      " - 7s - loss: 0.4962 - acc: 0.8021 - val_loss: 0.4959 - val_acc: 0.8031\n",
      "Success\n",
      "Iteration:  6\n",
      "Train on 1173080 samples, validate on 293269 samples\n",
      "Epoch 1/1\n",
      " - 7s - loss: 0.4952 - acc: 0.8042 - val_loss: 0.4964 - val_acc: 0.8031\n",
      "Success\n",
      "Iteration:  7\n",
      "Train on 1173080 samples, validate on 293269 samples\n",
      "Epoch 1/1\n",
      " - 7s - loss: 0.4957 - acc: 0.8032 - val_loss: 0.4959 - val_acc: 0.8031\n",
      "Success\n",
      "Iteration:  8\n",
      "Train on 1173080 samples, validate on 293269 samples\n",
      "Epoch 1/1\n",
      " - 7s - loss: 0.4958 - acc: 0.8027 - val_loss: 0.4961 - val_acc: 0.8031\n",
      "Success\n",
      "Iteration:  9\n",
      "Train on 1173080 samples, validate on 293269 samples\n",
      "Epoch 1/1\n",
      " - 7s - loss: 0.4945 - acc: 0.8045 - val_loss: 0.4959 - val_acc: 0.8031\n",
      "Success\n",
      "Iteration:  10\n",
      "Train on 1173080 samples, validate on 293269 samples\n",
      "Epoch 1/1\n",
      " - 7s - loss: 0.4961 - acc: 0.8022 - val_loss: 0.4961 - val_acc: 0.8031\n",
      "Success\n",
      "Iteration:  11\n",
      "Train on 1173080 samples, validate on 293269 samples\n",
      "Epoch 1/1\n",
      " - 7s - loss: 0.4957 - acc: 0.8030 - val_loss: 0.4981 - val_acc: 0.8031\n",
      "Success\n",
      "Iteration:  12\n",
      "Train on 1173080 samples, validate on 293269 samples\n",
      "Epoch 1/1\n",
      " - 7s - loss: 0.4945 - acc: 0.8045 - val_loss: 0.4961 - val_acc: 0.8031\n",
      "Success\n",
      "Iteration:  13\n",
      "Train on 1173080 samples, validate on 293269 samples\n",
      "Epoch 1/1\n",
      " - 7s - loss: 0.4958 - acc: 0.8026 - val_loss: 0.4961 - val_acc: 0.8031\n",
      "Success\n",
      "Iteration:  14\n",
      "Train on 1173080 samples, validate on 293269 samples\n",
      "Epoch 1/1\n",
      " - 7s - loss: 0.4949 - acc: 0.8045 - val_loss: 0.4963 - val_acc: 0.8031\n",
      "Success\n",
      "Iteration:  15\n",
      "Train on 1173080 samples, validate on 293269 samples\n",
      "Epoch 1/1\n",
      " - 7s - loss: 0.4956 - acc: 0.8030 - val_loss: 0.4959 - val_acc: 0.8031\n",
      "Success\n",
      "Iteration:  16\n",
      "Train on 1173080 samples, validate on 293269 samples\n",
      "Epoch 1/1\n",
      " - 7s - loss: 0.4954 - acc: 0.8037 - val_loss: 0.4959 - val_acc: 0.8031\n",
      "Success\n",
      "Iteration:  17\n",
      "Train on 1173080 samples, validate on 293269 samples\n",
      "Epoch 1/1\n",
      " - 7s - loss: 0.4962 - acc: 0.8026 - val_loss: 0.4959 - val_acc: 0.8031\n",
      "Success\n",
      "Iteration:  18\n",
      "Train on 1173080 samples, validate on 293269 samples\n",
      "Epoch 1/1\n",
      " - 7s - loss: 0.4947 - acc: 0.8045 - val_loss: 0.4961 - val_acc: 0.8031\n",
      "Success\n",
      "Iteration:  19\n",
      "Train on 1173080 samples, validate on 293269 samples\n",
      "Epoch 1/1\n",
      " - 7s - loss: 0.4965 - acc: 0.8019 - val_loss: 0.4961 - val_acc: 0.8031\n",
      "Success\n",
      "Iteration:  20\n",
      "Train on 1173080 samples, validate on 293269 samples\n",
      "Epoch 1/1\n",
      " - 7s - loss: 0.4969 - acc: 0.8018 - val_loss: 0.4962 - val_acc: 0.8031\n",
      "Success\n",
      "Iteration:  21\n",
      "Train on 1173080 samples, validate on 293269 samples\n",
      "Epoch 1/1\n",
      " - 7s - loss: 0.4953 - acc: 0.8040 - val_loss: 0.4959 - val_acc: 0.8031\n",
      "Success\n",
      "Iteration:  22\n",
      "Train on 1173080 samples, validate on 293269 samples\n",
      "Epoch 1/1\n",
      " - 7s - loss: 0.4946 - acc: 0.8045 - val_loss: 0.4959 - val_acc: 0.8031\n",
      "Success\n",
      "Iteration:  23\n",
      "Train on 1173080 samples, validate on 293269 samples\n",
      "Epoch 1/1\n",
      " - 7s - loss: 0.4956 - acc: 0.8039 - val_loss: 0.4961 - val_acc: 0.8031\n",
      "Success\n",
      "Iteration:  24\n",
      "Train on 1173080 samples, validate on 293269 samples\n",
      "Epoch 1/1\n",
      " - 8s - loss: 0.4948 - acc: 0.8045 - val_loss: 0.4972 - val_acc: 0.8031\n",
      "Success\n",
      "Iteration:  25\n",
      "Train on 1173080 samples, validate on 293269 samples\n",
      "Epoch 1/1\n",
      " - 7s - loss: 0.4953 - acc: 0.8036 - val_loss: 0.4967 - val_acc: 0.8031\n",
      "Success\n",
      "Iteration:  26\n",
      "Train on 1173080 samples, validate on 293269 samples\n",
      "Epoch 1/1\n",
      " - 7s - loss: 0.4948 - acc: 0.8045 - val_loss: 0.4971 - val_acc: 0.8031\n",
      "Success\n",
      "Iteration:  27\n",
      "Train on 1173080 samples, validate on 293269 samples\n",
      "Epoch 1/1\n",
      " - 7s - loss: 0.4947 - acc: 0.8045 - val_loss: 0.4961 - val_acc: 0.8031\n",
      "Success\n",
      "Iteration:  28\n",
      "Train on 1173080 samples, validate on 293269 samples\n",
      "Epoch 1/1\n",
      " - 7s - loss: 0.4949 - acc: 0.8045 - val_loss: 0.4960 - val_acc: 0.8031\n",
      "Success\n",
      "Iteration:  29\n",
      "Train on 1173080 samples, validate on 293269 samples\n",
      "Epoch 1/1\n",
      " - 7s - loss: 0.4960 - acc: 0.8028 - val_loss: 0.4959 - val_acc: 0.8031\n",
      "Success\n",
      "Iteration:  30\n",
      "Train on 1173080 samples, validate on 293269 samples\n",
      "Epoch 1/1\n",
      " - 7s - loss: 0.4950 - acc: 0.8045 - val_loss: 0.4959 - val_acc: 0.8031\n",
      "Success\n",
      "Iteration:  31\n",
      "Train on 1173080 samples, validate on 293269 samples\n",
      "Epoch 1/1\n",
      " - 7s - loss: 0.4954 - acc: 0.8030 - val_loss: 0.4961 - val_acc: 0.8031\n",
      "Success\n",
      "Iteration:  32\n",
      "Train on 1173080 samples, validate on 293269 samples\n",
      "Epoch 1/1\n",
      " - 7s - loss: 0.4947 - acc: 0.8045 - val_loss: 0.4963 - val_acc: 0.8031\n",
      "Success\n",
      "Iteration:  33\n",
      "Train on 1173080 samples, validate on 293269 samples\n",
      "Epoch 1/1\n",
      " - 7s - loss: 0.4959 - acc: 0.8027 - val_loss: 0.4961 - val_acc: 0.8031\n",
      "Success\n",
      "Iteration:  34\n",
      "Train on 1173080 samples, validate on 293269 samples\n",
      "Epoch 1/1\n",
      " - 7s - loss: 0.4954 - acc: 0.8039 - val_loss: 0.4959 - val_acc: 0.8031\n",
      "Success\n",
      "Iteration:  35\n",
      "Train on 1173080 samples, validate on 293269 samples\n",
      "Epoch 1/1\n",
      " - 7s - loss: 0.4946 - acc: 0.8045 - val_loss: 0.4962 - val_acc: 0.8031\n",
      "Success\n",
      "Iteration:  36\n",
      "Train on 1173080 samples, validate on 293269 samples\n",
      "Epoch 1/1\n",
      " - 7s - loss: 0.4945 - acc: 0.8045 - val_loss: 0.4963 - val_acc: 0.8031\n"
     ]
    },
    {
     "name": "stdout",
     "output_type": "stream",
     "text": [
      "Success\n",
      "Iteration:  37\n",
      "Train on 1173080 samples, validate on 293269 samples\n",
      "Epoch 1/1\n",
      " - 7s - loss: 0.4947 - acc: 0.8045 - val_loss: 0.4960 - val_acc: 0.8031\n",
      "Success\n",
      "Iteration:  38\n",
      "Train on 1173080 samples, validate on 293269 samples\n",
      "Epoch 1/1\n",
      " - 7s - loss: 0.4943 - acc: 0.8045 - val_loss: 0.4959 - val_acc: 0.8031\n",
      "Success\n",
      "Iteration:  39\n",
      "Train on 1173080 samples, validate on 293269 samples\n",
      "Epoch 1/1\n",
      " - 7s - loss: 0.4948 - acc: 0.8045 - val_loss: 0.4959 - val_acc: 0.8031\n",
      "Success\n",
      "Iteration:  40\n",
      "Train on 1173080 samples, validate on 293269 samples\n",
      "Epoch 1/1\n",
      " - 7s - loss: 0.4946 - acc: 0.8045 - val_loss: 0.4962 - val_acc: 0.8031\n",
      "Success\n",
      "Iteration:  41\n",
      "Train on 1173080 samples, validate on 293269 samples\n",
      "Epoch 1/1\n",
      " - 7s - loss: 0.4950 - acc: 0.8044 - val_loss: 0.4959 - val_acc: 0.8031\n",
      "Success\n",
      "Iteration:  42\n",
      "Train on 1173080 samples, validate on 293269 samples\n",
      "Epoch 1/1\n",
      " - 7s - loss: 0.4965 - acc: 0.8018 - val_loss: 0.4960 - val_acc: 0.8031\n",
      "Success\n",
      "Iteration:  43\n",
      "Train on 1173080 samples, validate on 293269 samples\n",
      "Epoch 1/1\n",
      " - 7s - loss: 0.4952 - acc: 0.8038 - val_loss: 0.4959 - val_acc: 0.8031\n",
      "Success\n",
      "Iteration:  44\n",
      "Train on 1173080 samples, validate on 293269 samples\n",
      "Epoch 1/1\n",
      " - 7s - loss: 0.4953 - acc: 0.8034 - val_loss: 0.4959 - val_acc: 0.8031\n",
      "Success\n",
      "Iteration:  45\n",
      "Train on 1173080 samples, validate on 293269 samples\n",
      "Epoch 1/1\n",
      " - 7s - loss: 0.4948 - acc: 0.8045 - val_loss: 0.4963 - val_acc: 0.8031\n",
      "Success\n",
      "Iteration:  46\n",
      "Train on 1173080 samples, validate on 293269 samples\n",
      "Epoch 1/1\n",
      " - 7s - loss: 0.4950 - acc: 0.8045 - val_loss: 0.4959 - val_acc: 0.8031\n",
      "Success\n",
      "Iteration:  47\n",
      "Train on 1173080 samples, validate on 293269 samples\n",
      "Epoch 1/1\n",
      " - 7s - loss: 0.4956 - acc: 0.8035 - val_loss: 0.4963 - val_acc: 0.8031\n",
      "Success\n",
      "Iteration:  48\n",
      "Train on 1173080 samples, validate on 293269 samples\n",
      "Epoch 1/1\n",
      " - 7s - loss: 0.4957 - acc: 0.8039 - val_loss: 0.4959 - val_acc: 0.8031\n",
      "Success\n",
      "Iteration:  49\n",
      "Train on 1173080 samples, validate on 293269 samples\n",
      "Epoch 1/1\n",
      " - 7s - loss: 0.4957 - acc: 0.8035 - val_loss: 0.4959 - val_acc: 0.8031\n",
      "Success\n",
      "Iteration:  50\n",
      "Train on 1173080 samples, validate on 293269 samples\n",
      "Epoch 1/1\n",
      " - 7s - loss: 0.4943 - acc: 0.8045 - val_loss: 0.4963 - val_acc: 0.8031\n",
      "Success\n",
      "Iteration:  51\n",
      "Train on 1173080 samples, validate on 293269 samples\n",
      "Epoch 1/1\n",
      " - 7s - loss: 0.4952 - acc: 0.8045 - val_loss: 0.4959 - val_acc: 0.8031\n",
      "Success\n",
      "Iteration:  52\n",
      "Train on 1173080 samples, validate on 293269 samples\n",
      "Epoch 1/1\n",
      " - 7s - loss: 0.4954 - acc: 0.8035 - val_loss: 0.4959 - val_acc: 0.8031\n",
      "Success\n",
      "Iteration:  53\n",
      "Train on 1173080 samples, validate on 293269 samples\n",
      "Epoch 1/1\n",
      " - 7s - loss: 0.4952 - acc: 0.8037 - val_loss: 0.4959 - val_acc: 0.8031\n",
      "Success\n",
      "Iteration:  54\n",
      "Train on 1173080 samples, validate on 293269 samples\n",
      "Epoch 1/1\n",
      " - 7s - loss: 0.4947 - acc: 0.8045 - val_loss: 0.4971 - val_acc: 0.8031\n",
      "Success\n",
      "Iteration:  55\n",
      "Train on 1173080 samples, validate on 293269 samples\n",
      "Epoch 1/1\n",
      " - 7s - loss: 0.4957 - acc: 0.8028 - val_loss: 0.4960 - val_acc: 0.8031\n",
      "Success\n",
      "Iteration:  56\n",
      "Train on 1173080 samples, validate on 293269 samples\n",
      "Epoch 1/1\n",
      " - 7s - loss: 0.4950 - acc: 0.8044 - val_loss: 0.4962 - val_acc: 0.8031\n",
      "Success\n",
      "Iteration:  57\n",
      "Train on 1173080 samples, validate on 293269 samples\n",
      "Epoch 1/1\n",
      " - 7s - loss: 0.4976 - acc: 0.8007 - val_loss: 0.4959 - val_acc: 0.8031\n",
      "Success\n",
      "Iteration:  58\n",
      "Train on 1173080 samples, validate on 293269 samples\n",
      "Epoch 1/1\n",
      " - 7s - loss: 0.4952 - acc: 0.8045 - val_loss: 0.4959 - val_acc: 0.8031\n",
      "Success\n",
      "Iteration:  59\n",
      "Train on 1173080 samples, validate on 293269 samples\n",
      "Epoch 1/1\n",
      " - 7s - loss: 0.4960 - acc: 0.8024 - val_loss: 0.4958 - val_acc: 0.8031\n",
      "Success\n",
      "Iteration:  60\n",
      "Train on 1173080 samples, validate on 293269 samples\n",
      "Epoch 1/1\n",
      " - 7s - loss: 0.4950 - acc: 0.8045 - val_loss: 0.4959 - val_acc: 0.8031\n",
      "Success\n",
      "Iteration:  61\n",
      "Train on 1173080 samples, validate on 293269 samples\n",
      "Epoch 1/1\n",
      " - 7s - loss: 0.4950 - acc: 0.8045 - val_loss: 0.4962 - val_acc: 0.8031\n",
      "Success\n",
      "Iteration:  62\n",
      "Train on 1173080 samples, validate on 293269 samples\n",
      "Epoch 1/1\n",
      " - 7s - loss: 0.4959 - acc: 0.8023 - val_loss: 0.4958 - val_acc: 0.8031\n",
      "Success\n",
      "Iteration:  63\n",
      "Train on 1173080 samples, validate on 293269 samples\n",
      "Epoch 1/1\n",
      " - 7s - loss: 0.4958 - acc: 0.8029 - val_loss: 0.4959 - val_acc: 0.8031\n",
      "Success\n",
      "Iteration:  64\n",
      "Train on 1173080 samples, validate on 293269 samples\n",
      "Epoch 1/1\n",
      " - 7s - loss: 0.4944 - acc: 0.8045 - val_loss: 0.4959 - val_acc: 0.8031\n",
      "Success\n",
      "Iteration:  65\n",
      "Train on 1173080 samples, validate on 293269 samples\n",
      "Epoch 1/1\n",
      " - 7s - loss: 0.4951 - acc: 0.8039 - val_loss: 0.4960 - val_acc: 0.8031\n",
      "Success\n",
      "Iteration:  66\n",
      "Train on 1173080 samples, validate on 293269 samples\n",
      "Epoch 1/1\n",
      " - 7s - loss: 0.4949 - acc: 0.8045 - val_loss: 0.4961 - val_acc: 0.8031\n",
      "Success\n",
      "Iteration:  67\n",
      "Train on 1173080 samples, validate on 293269 samples\n",
      "Epoch 1/1\n",
      " - 7s - loss: 0.4958 - acc: 0.8026 - val_loss: 0.4959 - val_acc: 0.8031\n",
      "Success\n",
      "Iteration:  68\n",
      "Train on 1173080 samples, validate on 293269 samples\n",
      "Epoch 1/1\n",
      " - 7s - loss: 0.4958 - acc: 0.8035 - val_loss: 0.4970 - val_acc: 0.8031\n",
      "Success\n",
      "Iteration:  69\n",
      "Train on 1173080 samples, validate on 293269 samples\n",
      "Epoch 1/1\n",
      " - 7s - loss: 0.4945 - acc: 0.8045 - val_loss: 0.4962 - val_acc: 0.8031\n",
      "Success\n",
      "Iteration:  70\n",
      "Train on 1173080 samples, validate on 293269 samples\n",
      "Epoch 1/1\n",
      " - 7s - loss: 0.4961 - acc: 0.8024 - val_loss: 0.4960 - val_acc: 0.8031\n",
      "Success\n",
      "Iteration:  71\n",
      "Train on 1173080 samples, validate on 293269 samples\n",
      "Epoch 1/1\n",
      " - 7s - loss: 0.4952 - acc: 0.8039 - val_loss: 0.4960 - val_acc: 0.8031\n",
      "Success\n",
      "Iteration:  72\n",
      "Train on 1173080 samples, validate on 293269 samples\n",
      "Epoch 1/1\n",
      " - 7s - loss: 0.4948 - acc: 0.8045 - val_loss: 0.4959 - val_acc: 0.8031\n",
      "Success\n",
      "Iteration:  73\n",
      "Train on 1173080 samples, validate on 293269 samples\n",
      "Epoch 1/1\n",
      " - 7s - loss: 0.4952 - acc: 0.8044 - val_loss: 0.4962 - val_acc: 0.8031\n",
      "Success\n",
      "Iteration:  74\n",
      "Train on 1173080 samples, validate on 293269 samples\n",
      "Epoch 1/1\n",
      " - 7s - loss: 0.4946 - acc: 0.8045 - val_loss: 0.4962 - val_acc: 0.8031\n",
      "Success\n",
      "Iteration:  75\n",
      "Train on 1173080 samples, validate on 293269 samples\n",
      "Epoch 1/1\n",
      " - 7s - loss: 0.4956 - acc: 0.8030 - val_loss: 0.4963 - val_acc: 0.8031\n",
      "Success\n",
      "Iteration:  76\n",
      "Train on 1173080 samples, validate on 293269 samples\n",
      "Epoch 1/1\n",
      " - 7s - loss: 0.4949 - acc: 0.8045 - val_loss: 0.4961 - val_acc: 0.8031\n",
      "Success\n",
      "Iteration:  77\n",
      "Train on 1173080 samples, validate on 293269 samples\n",
      "Epoch 1/1\n",
      " - 7s - loss: 0.4957 - acc: 0.8031 - val_loss: 0.4960 - val_acc: 0.8031\n",
      "Success\n",
      "Iteration:  78\n",
      "Train on 1173080 samples, validate on 293269 samples\n",
      "Epoch 1/1\n",
      " - 7s - loss: 0.4954 - acc: 0.8043 - val_loss: 0.4962 - val_acc: 0.8031\n",
      "Success\n",
      "Iteration:  79\n",
      "Train on 1173080 samples, validate on 293269 samples\n",
      "Epoch 1/1\n",
      " - 7s - loss: 0.4949 - acc: 0.8045 - val_loss: 0.4962 - val_acc: 0.8031\n",
      "Success\n",
      "Iteration:  80\n",
      "Train on 1173080 samples, validate on 293269 samples\n",
      "Epoch 1/1\n",
      " - 7s - loss: 0.4960 - acc: 0.8031 - val_loss: 0.4959 - val_acc: 0.8031\n",
      "Success\n",
      "Iteration:  81\n",
      "Train on 1173080 samples, validate on 293269 samples\n",
      "Epoch 1/1\n",
      " - 7s - loss: 0.4948 - acc: 0.8045 - val_loss: 0.4973 - val_acc: 0.8031\n",
      "Success\n",
      "Iteration:  82\n",
      "Train on 1173080 samples, validate on 293269 samples\n",
      "Epoch 1/1\n",
      " - 7s - loss: 0.4945 - acc: 0.8045 - val_loss: 0.4960 - val_acc: 0.8031\n",
      "Success\n",
      "Iteration:  83\n",
      "Train on 1173080 samples, validate on 293269 samples\n",
      "Epoch 1/1\n",
      " - 7s - loss: 0.4957 - acc: 0.8030 - val_loss: 0.4959 - val_acc: 0.8031\n",
      "Success\n",
      "Iteration:  84\n",
      "Train on 1173080 samples, validate on 293269 samples\n",
      "Epoch 1/1\n",
      " - 7s - loss: 0.4949 - acc: 0.8045 - val_loss: 0.4962 - val_acc: 0.8031\n",
      "Success\n",
      "Iteration:  85\n",
      "Train on 1173080 samples, validate on 293269 samples\n",
      "Epoch 1/1\n",
      " - 7s - loss: 0.4957 - acc: 0.8031 - val_loss: 0.4961 - val_acc: 0.8031\n",
      "Success\n",
      "Iteration:  86\n",
      "Train on 1173080 samples, validate on 293269 samples\n",
      "Epoch 1/1\n",
      " - 7s - loss: 0.4989 - acc: 0.7993 - val_loss: 0.4959 - val_acc: 0.8031\n",
      "Success\n",
      "Iteration:  87\n",
      "Train on 1173080 samples, validate on 293269 samples\n",
      "Epoch 1/1\n",
      " - 7s - loss: 0.4961 - acc: 0.8025 - val_loss: 0.4961 - val_acc: 0.8031\n",
      "Success\n",
      "Iteration:  88\n",
      "Train on 1173080 samples, validate on 293269 samples\n",
      "Epoch 1/1\n",
      " - 7s - loss: 0.4953 - acc: 0.8037 - val_loss: 0.4958 - val_acc: 0.8031\n"
     ]
    },
    {
     "name": "stdout",
     "output_type": "stream",
     "text": [
      "Success\n",
      "Iteration:  89\n",
      "Train on 1173080 samples, validate on 293269 samples\n",
      "Epoch 1/1\n",
      " - 7s - loss: 0.4951 - acc: 0.8039 - val_loss: 0.4959 - val_acc: 0.8031\n",
      "Success\n",
      "Iteration:  90\n",
      "Train on 1173080 samples, validate on 293269 samples\n",
      "Epoch 1/1\n",
      " - 7s - loss: 0.4955 - acc: 0.8043 - val_loss: 0.4964 - val_acc: 0.8031\n",
      "Success\n",
      "Iteration:  91\n",
      "Train on 1173080 samples, validate on 293269 samples\n",
      "Epoch 1/1\n",
      " - 7s - loss: 0.4960 - acc: 0.8025 - val_loss: 0.4960 - val_acc: 0.8031\n",
      "Success\n",
      "Iteration:  92\n",
      "Train on 1173080 samples, validate on 293269 samples\n",
      "Epoch 1/1\n",
      " - 7s - loss: 0.4955 - acc: 0.8032 - val_loss: 0.4961 - val_acc: 0.8031\n",
      "Success\n",
      "Iteration:  93\n",
      "Train on 1173080 samples, validate on 293269 samples\n",
      "Epoch 1/1\n",
      " - 7s - loss: 0.4954 - acc: 0.8037 - val_loss: 0.4963 - val_acc: 0.8031\n",
      "Success\n",
      "Iteration:  94\n",
      "Train on 1173080 samples, validate on 293269 samples\n",
      "Epoch 1/1\n",
      " - 7s - loss: 0.4949 - acc: 0.8045 - val_loss: 0.4961 - val_acc: 0.8031\n",
      "Success\n",
      "Iteration:  95\n",
      "Train on 1173080 samples, validate on 293269 samples\n",
      "Epoch 1/1\n",
      " - 7s - loss: 0.4945 - acc: 0.8045 - val_loss: 0.4962 - val_acc: 0.8031\n",
      "Success\n",
      "Iteration:  96\n",
      "Train on 1173080 samples, validate on 293269 samples\n",
      "Epoch 1/1\n",
      " - 7s - loss: 0.4962 - acc: 0.8019 - val_loss: 0.4965 - val_acc: 0.8031\n",
      "Success\n",
      "Iteration:  97\n",
      "Train on 1173080 samples, validate on 293269 samples\n",
      "Epoch 1/1\n",
      " - 7s - loss: 0.4948 - acc: 0.8045 - val_loss: 0.4960 - val_acc: 0.8031\n",
      "Success\n",
      "Iteration:  98\n",
      "Train on 1173080 samples, validate on 293269 samples\n",
      "Epoch 1/1\n",
      " - 7s - loss: 0.4951 - acc: 0.8045 - val_loss: 0.4960 - val_acc: 0.8031\n",
      "Success\n",
      "Iteration:  99\n",
      "Train on 1173080 samples, validate on 293269 samples\n",
      "Epoch 1/1\n",
      " - 7s - loss: 0.4942 - acc: 0.8045 - val_loss: 0.4997 - val_acc: 0.8031\n",
      "Success\n"
     ]
    }
   ],
   "source": [
    "n_fail1 = 0\n",
    "n_fail2 = 0\n",
    "n_succ = 0\n",
    "iterations = 100\n",
    "\n",
    "dctr_weights = 0\n",
    "\n",
    "for i in range(iterations):\n",
    "    print(\"Iteration: \", i)\n",
    "\n",
    "    K.clear_session()\n",
    "    inputs = Input((2, ))\n",
    "    hidden_layer_1 = Dense(50, activation='relu')(inputs)\n",
    "    hidden_layer_2 = Dense(50, activation='relu')(hidden_layer_1)\n",
    "    hidden_layer_3 = Dense(50, activation='relu')(hidden_layer_2)\n",
    "\n",
    "    outputs = Dense(2, activation='softmax')(hidden_layer_3)\n",
    "\n",
    "    dctr = Model(inputs=inputs, outputs=outputs)\n",
    "    dctr.compile(loss='categorical_crossentropy',\n",
    "                 optimizer='Adam',\n",
    "                 metrics=['accuracy'])\n",
    "\n",
    "    history = dctr.fit(X_train,\n",
    "                       Y_train,\n",
    "                       epochs=1,\n",
    "                       batch_size=1000,\n",
    "                       validation_data=(X_val, Y_val),\n",
    "                       verbose=2)\n",
    "    if history.history['val_loss'][0] > 10:\n",
    "        # Fail case 1, model output [1, 0] for all preds\n",
    "        n_fail1 += 1\n",
    "        print(\"Fail (case 1)\")\n",
    "        pass\n",
    "    elif history.history['val_loss'][0] > 3:\n",
    "        # Fail case 2, , model output [0, 1] for all preds\n",
    "        n_fail2 += 1\n",
    "        print(\"Fail (case 2)\")\n",
    "        pass\n",
    "    else:  \n",
    "        # success\n",
    "        n_succ += 1\n",
    "        print(\"Success\")\n",
    "        # remember successful weights\n",
    "        dctr_weights = dctr.get_weights()\n",
    "        pass\n",
    "\n",
    "\n",
    "n_fail = n_fail1 + n_fail2"
   ]
  },
  {
   "cell_type": "code",
   "execution_count": 12,
   "metadata": {
    "ExecuteTime": {
     "end_time": "2020-06-09T08:11:56.313920Z",
     "start_time": "2020-06-09T08:11:56.304505Z"
    }
   },
   "outputs": [
    {
     "name": "stdout",
     "output_type": "stream",
     "text": [
      "Number of initializations failed:  0 / 100\n",
      "Percentage of initializations failed: 0.0 %\n",
      "Number of initializations succeeded:  100 / 100\n",
      "Percentage of initializations succeeded: 100.0 %\n"
     ]
    }
   ],
   "source": [
    "print(\"Number of initializations failed: \", n_fail, \"/\", iterations)\n",
    "print(\"Percentage of initializations failed:\", (100*n_fail/iterations), \"%\")\n",
    "\n",
    "print(\"Number of initializations succeeded: \", n_succ, \"/\", iterations)\n",
    "print(\"Percentage of initializations succeeded:\", (100*n_succ/iterations), \"%\")"
   ]
  },
  {
   "cell_type": "markdown",
   "metadata": {},
   "source": [
    "### Finish training"
   ]
  },
  {
   "cell_type": "code",
   "execution_count": 13,
   "metadata": {
    "ExecuteTime": {
     "end_time": "2020-06-09T08:17:35.671172Z",
     "start_time": "2020-06-09T08:11:56.319147Z"
    }
   },
   "outputs": [
    {
     "name": "stdout",
     "output_type": "stream",
     "text": [
      "Train on 1173080 samples, validate on 293269 samples\n",
      "Epoch 1/200\n",
      "1173080/1173080 [==============================] - 7s 6us/step - loss: 0.4941 - acc: 0.8045 - val_loss: 0.4958 - val_acc: 0.8031\n",
      "Epoch 2/200\n",
      "1173080/1173080 [==============================] - 7s 6us/step - loss: 0.4940 - acc: 0.8045 - val_loss: 0.4958 - val_acc: 0.8031\n",
      "Epoch 3/200\n",
      "1173080/1173080 [==============================] - 7s 6us/step - loss: 0.4939 - acc: 0.8045 - val_loss: 0.4957 - val_acc: 0.8031\n",
      "Epoch 4/200\n",
      "1173080/1173080 [==============================] - 7s 6us/step - loss: 0.4938 - acc: 0.8045 - val_loss: 0.4957 - val_acc: 0.8031\n",
      "Epoch 5/200\n",
      "1173080/1173080 [==============================] - 7s 6us/step - loss: 0.4938 - acc: 0.8045 - val_loss: 0.4961 - val_acc: 0.8031\n",
      "Epoch 6/200\n",
      "1173080/1173080 [==============================] - 7s 6us/step - loss: 0.4937 - acc: 0.8045 - val_loss: 0.4958 - val_acc: 0.8031\n",
      "Epoch 7/200\n",
      "1173080/1173080 [==============================] - 7s 6us/step - loss: 0.4937 - acc: 0.8045 - val_loss: 0.4954 - val_acc: 0.8031\n",
      "Epoch 8/200\n",
      "1173080/1173080 [==============================] - 7s 6us/step - loss: 0.4935 - acc: 0.8045 - val_loss: 0.4955 - val_acc: 0.8031\n",
      "Epoch 9/200\n",
      "1173080/1173080 [==============================] - 7s 6us/step - loss: 0.4935 - acc: 0.8045 - val_loss: 0.4961 - val_acc: 0.8031\n",
      "Epoch 10/200\n",
      "1173080/1173080 [==============================] - 7s 6us/step - loss: 0.4936 - acc: 0.8045 - val_loss: 0.4952 - val_acc: 0.8031\n",
      "Epoch 11/200\n",
      "1173080/1173080 [==============================] - 7s 6us/step - loss: 0.4935 - acc: 0.8045 - val_loss: 0.4952 - val_acc: 0.8031\n",
      "Epoch 12/200\n",
      "1173080/1173080 [==============================] - 6s 6us/step - loss: 0.4934 - acc: 0.8045 - val_loss: 0.4956 - val_acc: 0.8031\n",
      "Epoch 13/200\n",
      "1173080/1173080 [==============================] - 6s 5us/step - loss: 0.4934 - acc: 0.8045 - val_loss: 0.4953 - val_acc: 0.8031\n",
      "Epoch 14/200\n",
      "1173080/1173080 [==============================] - 7s 6us/step - loss: 0.4933 - acc: 0.8045 - val_loss: 0.4950 - val_acc: 0.8031\n",
      "Epoch 15/200\n",
      "1173080/1173080 [==============================] - 7s 6us/step - loss: 0.4933 - acc: 0.8045 - val_loss: 0.4953 - val_acc: 0.8031\n",
      "Epoch 16/200\n",
      "1173080/1173080 [==============================] - 7s 6us/step - loss: 0.4933 - acc: 0.8045 - val_loss: 0.4950 - val_acc: 0.8031\n",
      "Epoch 17/200\n",
      "1173080/1173080 [==============================] - 7s 6us/step - loss: 0.4932 - acc: 0.8045 - val_loss: 0.4948 - val_acc: 0.8031\n",
      "Epoch 18/200\n",
      "1173080/1173080 [==============================] - 7s 6us/step - loss: 0.4932 - acc: 0.8045 - val_loss: 0.4952 - val_acc: 0.8031\n",
      "Epoch 19/200\n",
      "1173080/1173080 [==============================] - 7s 6us/step - loss: 0.4932 - acc: 0.8045 - val_loss: 0.4948 - val_acc: 0.8031\n",
      "Epoch 20/200\n",
      "1173080/1173080 [==============================] - 7s 6us/step - loss: 0.4932 - acc: 0.8045 - val_loss: 0.4948 - val_acc: 0.8031\n",
      "Epoch 21/200\n",
      "1173080/1173080 [==============================] - 7s 6us/step - loss: 0.4931 - acc: 0.8045 - val_loss: 0.4958 - val_acc: 0.8031\n",
      "Epoch 22/200\n",
      "1173080/1173080 [==============================] - 7s 6us/step - loss: 0.4930 - acc: 0.8045 - val_loss: 0.4951 - val_acc: 0.8031\n",
      "Epoch 23/200\n",
      "1173080/1173080 [==============================] - 7s 6us/step - loss: 0.4930 - acc: 0.8045 - val_loss: 0.4949 - val_acc: 0.8031\n",
      "Epoch 24/200\n",
      "1173080/1173080 [==============================] - 7s 6us/step - loss: 0.4931 - acc: 0.8045 - val_loss: 0.4960 - val_acc: 0.8031\n",
      "Epoch 25/200\n",
      "1173080/1173080 [==============================] - 7s 6us/step - loss: 0.4929 - acc: 0.8045 - val_loss: 0.4958 - val_acc: 0.8031\n",
      "Epoch 26/200\n",
      "1173080/1173080 [==============================] - 7s 6us/step - loss: 0.4930 - acc: 0.8045 - val_loss: 0.4949 - val_acc: 0.8031\n",
      "Epoch 27/200\n",
      "1173080/1173080 [==============================] - 7s 6us/step - loss: 0.4929 - acc: 0.8045 - val_loss: 0.4947 - val_acc: 0.8031\n",
      "Epoch 28/200\n",
      "1173080/1173080 [==============================] - 7s 6us/step - loss: 0.4929 - acc: 0.8045 - val_loss: 0.4950 - val_acc: 0.8031\n",
      "Epoch 29/200\n",
      "1173080/1173080 [==============================] - 7s 6us/step - loss: 0.4929 - acc: 0.8045 - val_loss: 0.4952 - val_acc: 0.8031\n",
      "Epoch 30/200\n",
      "1173080/1173080 [==============================] - 7s 6us/step - loss: 0.4928 - acc: 0.8045 - val_loss: 0.4949 - val_acc: 0.8031\n",
      "Epoch 31/200\n",
      "1173080/1173080 [==============================] - 6s 6us/step - loss: 0.4927 - acc: 0.8045 - val_loss: 0.4946 - val_acc: 0.8031\n",
      "Epoch 32/200\n",
      "1173080/1173080 [==============================] - 7s 6us/step - loss: 0.4928 - acc: 0.8045 - val_loss: 0.4944 - val_acc: 0.8031\n",
      "Epoch 33/200\n",
      "1173080/1173080 [==============================] - 7s 6us/step - loss: 0.4928 - acc: 0.8045 - val_loss: 0.4947 - val_acc: 0.8031\n",
      "Epoch 34/200\n",
      "1173080/1173080 [==============================] - 7s 6us/step - loss: 0.4928 - acc: 0.8045 - val_loss: 0.4947 - val_acc: 0.8031\n",
      "Epoch 35/200\n",
      "1173080/1173080 [==============================] - 7s 6us/step - loss: 0.4927 - acc: 0.8045 - val_loss: 0.4947 - val_acc: 0.8031\n",
      "Epoch 36/200\n",
      "1173080/1173080 [==============================] - 7s 6us/step - loss: 0.4928 - acc: 0.8045 - val_loss: 0.4945 - val_acc: 0.8031\n",
      "Epoch 37/200\n",
      "1173080/1173080 [==============================] - 7s 6us/step - loss: 0.4927 - acc: 0.8045 - val_loss: 0.4945 - val_acc: 0.8031\n",
      "Epoch 38/200\n",
      "1173080/1173080 [==============================] - 7s 6us/step - loss: 0.4927 - acc: 0.8045 - val_loss: 0.4944 - val_acc: 0.8031\n",
      "Epoch 39/200\n",
      "1173080/1173080 [==============================] - 7s 6us/step - loss: 0.4929 - acc: 0.8045 - val_loss: 0.4953 - val_acc: 0.8031\n",
      "Epoch 40/200\n",
      "1173080/1173080 [==============================] - 7s 6us/step - loss: 0.4927 - acc: 0.8045 - val_loss: 0.4944 - val_acc: 0.8031\n",
      "Epoch 41/200\n",
      "1173080/1173080 [==============================] - 6s 6us/step - loss: 0.4927 - acc: 0.8045 - val_loss: 0.4946 - val_acc: 0.8031\n",
      "Epoch 42/200\n",
      "1173080/1173080 [==============================] - 7s 6us/step - loss: 0.4927 - acc: 0.8045 - val_loss: 0.4945 - val_acc: 0.8031\n",
      "Epoch 43/200\n",
      "1173080/1173080 [==============================] - 7s 6us/step - loss: 0.4927 - acc: 0.8045 - val_loss: 0.4944 - val_acc: 0.8031\n",
      "Epoch 44/200\n",
      "1173080/1173080 [==============================] - 7s 6us/step - loss: 0.4927 - acc: 0.8045 - val_loss: 0.4949 - val_acc: 0.8031\n",
      "Epoch 45/200\n",
      "1173080/1173080 [==============================] - 7s 6us/step - loss: 0.4927 - acc: 0.8045 - val_loss: 0.4949 - val_acc: 0.8031\n",
      "Epoch 46/200\n",
      "1173080/1173080 [==============================] - 7s 6us/step - loss: 0.4927 - acc: 0.8045 - val_loss: 0.4961 - val_acc: 0.8031\n",
      "Epoch 47/200\n",
      "1173080/1173080 [==============================] - 7s 6us/step - loss: 0.4927 - acc: 0.8045 - val_loss: 0.4945 - val_acc: 0.8031\n",
      "Epoch 48/200\n",
      "1173080/1173080 [==============================] - 7s 6us/step - loss: 0.4926 - acc: 0.8045 - val_loss: 0.4949 - val_acc: 0.8031\n",
      "Epoch 49/200\n",
      "1173080/1173080 [==============================] - 7s 6us/step - loss: 0.4927 - acc: 0.8045 - val_loss: 0.4946 - val_acc: 0.8031\n",
      "Epoch 50/200\n",
      "1173080/1173080 [==============================] - 6s 6us/step - loss: 0.4927 - acc: 0.8045 - val_loss: 0.4949 - val_acc: 0.8031\n"
     ]
    }
   ],
   "source": [
    "earlystopping = EarlyStopping(patience=10, restore_best_weights=True)\n",
    "\n",
    "\n",
    "try:\n",
    "    dctr.set_weights(dctr_weights)\n",
    "    history = dctr.fit(X_train,\n",
    "                   Y_train,\n",
    "                   epochs=200,\n",
    "                   batch_size=1000,\n",
    "                   validation_data=(X_val, Y_val),\n",
    "                   callbacks=[earlystopping],\n",
    "                   verbose=1)\n",
    "except:\n",
    "    print(\n",
    "        \"Model did not have any successful initializations, will not continue training.\"\n",
    "    )"
   ]
  },
  {
   "cell_type": "markdown",
   "metadata": {},
   "source": [
    "# Plot History"
   ]
  },
  {
   "cell_type": "code",
   "execution_count": 14,
   "metadata": {
    "ExecuteTime": {
     "end_time": "2020-06-09T08:17:36.034624Z",
     "start_time": "2020-06-09T08:17:35.674802Z"
    }
   },
   "outputs": [
    {
     "data": {
      "image/png": "[encoded data removed]",
      "text/plain": [
       "<Figure size 432x288 with 1 Axes>"
      ]
     },
     "metadata": {
      "needs_background": "light"
     },
     "output_type": "display_data"
    }
   ],
   "source": [
    "plt.plot(history.history['loss'],     label = 'loss')\n",
    "plt.plot(history.history['val_loss'], label = 'val loss')\n",
    "plt.legend(loc=0)\n",
    "plt.ylabel('loss')\n",
    "plt.xlabel('Epochs')\n",
    "plt.show()"
   ]
  },
  {
   "cell_type": "markdown",
   "metadata": {},
   "source": [
    "## Validation"
   ]
  },
  {
   "cell_type": "markdown",
   "metadata": {},
   "source": [
    "### Load Datasets"
   ]
  },
  {
   "cell_type": "code",
   "execution_count": 32,
   "metadata": {
    "ExecuteTime": {
     "end_time": "2020-06-09T15:34:15.427683Z",
     "start_time": "2020-06-09T15:34:15.412879Z"
    }
   },
   "outputs": [
    {
     "name": "stdout",
     "output_type": "stream",
     "text": [
      "(57710, 1)\n",
      "(59119, 1)\n"
     ]
    }
   ],
   "source": [
    "test_dataset_0_mjjj = np.load(data_dir0 + 'part_172_5_6j_obs.npy')[:,:1]\n",
    "test_dataset_1_mjjj = np.load(data_dir0 + 'part_175_0_6j_obs.npy')[:,:1]\n",
    "\n",
    "print(np.shape(test_dataset_0_mjjj))\n",
    "print(np.shape(test_dataset_1_mjjj))\n",
    "\n",
    "X0_test = np.concatenate((test_dataset_0_mjjj, 172.5*np.ones_like(test_dataset_0_mjjj)), axis = 1)\n",
    "X1_test = np.concatenate((test_dataset_0_mjjj, 175.0*np.ones_like(test_dataset_0_mjjj)), axis = 1)"
   ]
  },
  {
   "cell_type": "code",
   "execution_count": 33,
   "metadata": {
    "ExecuteTime": {
     "end_time": "2020-06-09T15:34:15.914692Z",
     "start_time": "2020-06-09T15:34:15.907844Z"
    }
   },
   "outputs": [],
   "source": [
    "# Define labels for legends\n",
    "label_0 = r'$m_T=172.5$'\n",
    "\n",
    "label_1 = r'$m_T=175.0$'\n",
    "\n",
    "def make_legend():\n",
    "    ax = plt.gca()\n",
    "    leg = ax.legend(frameon=False)\n",
    "    leg._legend_box.align = \"left\"\n",
    "    plt.tight_layout()"
   ]
  },
  {
   "cell_type": "markdown",
   "metadata": {},
   "source": [
    "### Define reweighting function"
   ]
  },
  {
   "cell_type": "markdown",
   "metadata": {},
   "source": [
    "We must calculate two liklihood ratios during reweighting: the first because the training datasets were different sizes, and the second because the validation datasets are different sizes."
   ]
  },
  {
   "cell_type": "code",
   "execution_count": 34,
   "metadata": {
    "ExecuteTime": {
     "end_time": "2020-06-09T15:34:17.176949Z",
     "start_time": "2020-06-09T15:34:17.169150Z"
    }
   },
   "outputs": [],
   "source": [
    "# Get predicted probabilities\n",
    "def reweight(default_dataset, mT):\n",
    "\n",
    "    data_input = np.concatenate(\n",
    "        (default_dataset, mT * np.ones_like(default_dataset)), axis=1)\n",
    "    \n",
    "    data_input /= 100.\n",
    "\n",
    "    f = dctr.predict(data_input)\n",
    "    weights = (f[:, 1] / f[:, 0])\n",
    "    return weights\n"
   ]
  },
  {
   "cell_type": "markdown",
   "metadata": {},
   "source": [
    "### Get weights"
   ]
  },
  {
   "cell_type": "code",
   "execution_count": 35,
   "metadata": {
    "ExecuteTime": {
     "end_time": "2020-06-09T15:34:19.683430Z",
     "start_time": "2020-06-09T15:34:18.380780Z"
    }
   },
   "outputs": [],
   "source": [
    "weights_0 = reweight(default_dataset=test_dataset_0_mjjj,\n",
    "                     mT=172.5)\n",
    "\n",
    "weights_1 = reweight(default_dataset=test_dataset_0_mjjj,\n",
    "                     mT=175.0)"
   ]
  },
  {
   "cell_type": "markdown",
   "metadata": {},
   "source": [
    "### Analyze weights"
   ]
  },
  {
   "cell_type": "code",
   "execution_count": 36,
   "metadata": {
    "ExecuteTime": {
     "end_time": "2020-06-09T15:34:20.641412Z",
     "start_time": "2020-06-09T15:34:20.595039Z"
    }
   },
   "outputs": [
    {
     "name": "stdout",
     "output_type": "stream",
     "text": [
      "4.6610737\n",
      "0.2604363\n",
      "5.950238\n",
      "0.2730961\n"
     ]
    }
   ],
   "source": [
    "print(max(weights_0))\n",
    "print(max(1/weights_0))\n",
    "print(max(weights_1))\n",
    "print(max(1/weights_1))"
   ]
  },
  {
   "cell_type": "code",
   "execution_count": 37,
   "metadata": {
    "ExecuteTime": {
     "end_time": "2020-06-09T15:34:22.053180Z",
     "start_time": "2020-06-09T15:34:21.512433Z"
    }
   },
   "outputs": [
    {
     "data": {
      "image/png": "[encoded data removed]",
      "text/plain": [
       "<Figure size 432x288 with 1 Axes>"
      ]
     },
     "metadata": {
      "needs_background": "light"
     },
     "output_type": "display_data"
    }
   ],
   "source": [
    "clip_val = 6\n",
    "bins = np.linspace(0, clip_val, 101)\n",
    "plt.hist(np.clip(weights_0, 0, clip_val), bins = bins)\n",
    "plt.xlabel(\"Weight\")\n",
    "plt.ylabel('Jets per bin (normalized)')\n",
    "plt.title(\"Weights \" + label_0 + r'$\\rightarrow$ ' + label_0, fontsize = 20)\n",
    "plt.show()"
   ]
  },
  {
   "cell_type": "code",
   "execution_count": 38,
   "metadata": {
    "ExecuteTime": {
     "end_time": "2020-06-09T15:34:23.225147Z",
     "start_time": "2020-06-09T15:34:22.690444Z"
    }
   },
   "outputs": [
    {
     "data": {
      "image/png": "[encoded data removed]",
      "text/plain": [
       "<Figure size 432x288 with 1 Axes>"
      ]
     },
     "metadata": {
      "needs_background": "light"
     },
     "output_type": "display_data"
    }
   ],
   "source": [
    "clip_val = 6\n",
    "bins = np.linspace(0, clip_val, 101)\n",
    "plt.hist(np.clip(weights_1, 0, clip_val), bins = bins)\n",
    "plt.xlabel(\"Weight\")\n",
    "plt.ylabel('Jets per bin (normalized)')\n",
    "plt.title(\"Weights \" + label_0 + r'$\\rightarrow$ ' + label_1, fontsize = 20)\n",
    "plt.show()"
   ]
  },
  {
   "cell_type": "markdown",
   "metadata": {},
   "source": [
    "### Validating Reweighting"
   ]
  },
  {
   "cell_type": "code",
   "execution_count": 39,
   "metadata": {
    "ExecuteTime": {
     "end_time": "2020-06-09T15:34:25.702901Z",
     "start_time": "2020-06-09T15:34:25.696528Z"
    }
   },
   "outputs": [],
   "source": [
    "# Define default plot styles\n",
    "plot_style_0 = {'histtype':'step', 'color':'black', 'linewidth':2, 'linestyle':'--', 'density':True}\n",
    "plot_style_1 = {'alpha':0.5, 'density':True}"
   ]
  },
  {
   "cell_type": "code",
   "execution_count": 40,
   "metadata": {
    "ExecuteTime": {
     "end_time": "2020-06-09T15:34:27.608622Z",
     "start_time": "2020-06-09T15:34:26.551499Z"
    },
    "scrolled": false
   },
   "outputs": [
    {
     "data": {
      "image/png": "[encoded data removed]",
      "text/plain": [
       "<Figure size 432x360 with 1 Axes>"
      ]
     },
     "metadata": {
      "needs_background": "light"
     },
     "output_type": "display_data"
    }
   ],
   "source": [
    "plt.figure(figsize=(6,5))\n",
    "plt.title(\"Top Reweighting: $m_{jjj}$ only\")\n",
    "bins = np.linspace(80,400,41)\n",
    "hist0 = plt.hist(test_dataset_0_mjjj, bins = bins, label = label_0, **plot_style_1)\n",
    "hist1 = plt.hist(test_dataset_1_mjjj, bins = bins, label = label_1, **plot_style_0)\n",
    "hist2 = plt.hist(test_dataset_0_mjjj, bins = bins, label = label_0 + ' wgt.', weights=weights_1, **plot_style_1)\n",
    "\n",
    "plt.xlabel('$m_{jjj}$')\n",
    "plt.ylabel('Jets per bin (normalized)')\n",
    "plt.xlim([80,400])\n",
    "make_legend()\n",
    "plt.savefig(\"Top Reweighting: m_{jjj} only.png\")\n",
    "plt.show()"
   ]
  },
  {
   "cell_type": "markdown",
   "metadata": {},
   "source": [
    "Reweighting not successful enough"
   ]
  },
  {
   "cell_type": "code",
   "execution_count": null,
   "metadata": {},
   "outputs": [],
   "source": []
  }
 ],
 "metadata": {
  "kernelspec": {
   "display_name": "Python 3",
   "language": "python",
   "name": "python3"
  },
  "language_info": {
   "codemirror_mode": {
    "name": "ipython",
    "version": 3
   },
   "file_extension": ".py",
   "mimetype": "text/x-python",
   "name": "python",
   "nbconvert_exporter": "python",
   "pygments_lexer": "ipython3",
   "version": "3.5.2"
  },
  "toc": {
   "base_numbering": 1,
   "nav_menu": {},
   "number_sections": false,
   "sideBar": true,
   "skip_h1_title": false,
   "title_cell": "Table of Contents",
   "title_sidebar": "Contents",
   "toc_cell": false,
   "toc_position": {},
   "toc_section_display": true,
   "toc_window_display": false
  }
 },
 "nbformat": 4,
 "nbformat_minor": 2
}
