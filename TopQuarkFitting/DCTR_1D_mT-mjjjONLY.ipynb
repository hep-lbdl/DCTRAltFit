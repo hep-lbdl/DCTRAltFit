{
 "cells": [
  {
   "cell_type": "markdown",
   "metadata": {},
   "source": [
    "## This notebook attempts to train and validate a DCTR model paramterized by the top mass only using reconstructed hadronic mass $m_{jjj}$ for each event"
   ]
  },
  {
   "cell_type": "code",
   "execution_count": 1,
   "metadata": {},
   "outputs": [],
   "source": [
    "import os\n",
    "os.environ[\"CUDA_DEVICE_ORDER\"]=\"PCI_BUS_ID\"\n",
    "os.environ[\"CUDA_VISIBLE_DEVICES\"]=\"3\""
   ]
  },
  {
   "cell_type": "code",
   "execution_count": 2,
   "metadata": {},
   "outputs": [
    {
     "name": "stderr",
     "output_type": "stream",
     "text": [
      "Using TensorFlow backend.\n"
     ]
    }
   ],
   "source": [
    "# standard library imports\n",
    "from __future__ import absolute_import, division, print_function\n",
    "\n",
    "import tensorflow as tf\n",
    "import numpy as np\n",
    "from matplotlib import pyplot as plt\n",
    "from sklearn.utils import shuffle\n",
    "from sklearn.model_selection import train_test_split\n",
    "from keras.utils import to_categorical\n",
    "from keras import Sequential\n",
    "from keras.layers import Lambda, Dense, Input, Layer, Dropout\n",
    "from keras.models import Model\n",
    "from keras.utils import to_categorical\n",
    "from keras.callbacks import LambdaCallback, EarlyStopping\n",
    "import keras.backend as K\n",
    "import keras\n",
    "\n",
    "\n",
    "import inspect\n",
    "\n",
    "# standard numerical library imports\n",
    "import numpy as np\n",
    "import scipy as sp\n",
    "\n",
    "# energyflow imports\n",
    "import energyflow as ef\n",
    "from energyflow.archs import PFN\n",
    "from energyflow.utils import data_split, remap_pids, to_categorical\n",
    "\n",
    "import matplotlib.pyplot as plt"
   ]
  },
  {
   "cell_type": "markdown",
   "metadata": {},
   "source": [
    "## Process Data"
   ]
  },
  {
   "cell_type": "code",
   "execution_count": 3,
   "metadata": {},
   "outputs": [],
   "source": [
    "# Path to downloaded data from Zenodo\n",
    "data_dir = '/data1/users/aandreassen/DCTRFitting/'"
   ]
  },
  {
   "cell_type": "code",
   "execution_count": 4,
   "metadata": {},
   "outputs": [],
   "source": [
    "# fetch m_T vals from default dataset\n",
    "train_dataset_0_mT = np.load(data_dir + 'part_172_5_6j.npy')[:,:1,4] \n",
    "\n",
    "# fetch m_jjj vals from default dataset\n",
    "train_dataset_0_mjjj = np.load(data_dir + 'part_172_5_6j_obs.npy')[:,0:1]\n",
    "\n",
    "# fetch m_T vals from varied dataset\n",
    "train_dataset_1_mT = np.load(data_dir + 'part_varmass_6j.npy')[:len(train_dataset_0_mT),:1,4]\n",
    "\n",
    "# fetch m_jjj vals from varied dataset\n",
    "train_dataset_1_mjjj = np.load(data_dir + 'part_varmass_6j_obs.npy')[:len(train_dataset_0_mjjj),0:1]"
   ]
  },
  {
   "cell_type": "markdown",
   "metadata": {},
   "source": [
    "#### For each value of $m_T$ uniformally sampled, the model will see one event (one value of $m_{jjj}$) from varied $m_T$ and one from $m_T = 172.5$ (the defualt value)."
   ]
  },
  {
   "cell_type": "code",
   "execution_count": 5,
   "metadata": {},
   "outputs": [],
   "source": [
    "X0 = np.concatenate((train_dataset_0_mjjj, train_dataset_1_mT), axis = 1)\n",
    "X1 = np.concatenate((train_dataset_1_mjjj, train_dataset_1_mT), axis = 1)"
   ]
  },
  {
   "cell_type": "code",
   "execution_count": null,
   "metadata": {},
   "outputs": [],
   "source": []
  },
  {
   "cell_type": "code",
   "execution_count": 6,
   "metadata": {},
   "outputs": [],
   "source": [
    "Y0 = np.zeros_like(X0[:,0])\n",
    "Y1 = np.ones_like(X1[:,0])"
   ]
  },
  {
   "cell_type": "code",
   "execution_count": 7,
   "metadata": {},
   "outputs": [],
   "source": [
    "X = np.concatenate((X0, X1), axis = 0)\n",
    "\n",
    "Y = np.concatenate((Y0, Y1), axis = 0)\n",
    "Y = to_categorical(Y, num_classes=2)"
   ]
  },
  {
   "cell_type": "code",
   "execution_count": 8,
   "metadata": {},
   "outputs": [],
   "source": [
    "X_train, X_val, Y_train, Y_val = data_split(X, Y, test=0.1, shuffle=True)"
   ]
  },
  {
   "cell_type": "code",
   "execution_count": 9,
   "metadata": {},
   "outputs": [
    {
     "name": "stdout",
     "output_type": "stream",
     "text": [
      "(103878, 2)\n",
      "(103878, 2)\n",
      "(11542, 2)\n",
      "(11542, 2)\n"
     ]
    }
   ],
   "source": [
    "print(X_train.shape)\n",
    "print(Y_train.shape)\n",
    "\n",
    "print(X_val.shape)\n",
    "print(Y_val.shape)\n"
   ]
  },
  {
   "cell_type": "markdown",
   "metadata": {},
   "source": [
    "# Build Model"
   ]
  },
  {
   "cell_type": "code",
   "execution_count": 10,
   "metadata": {},
   "outputs": [
    {
     "name": "stdout",
     "output_type": "stream",
     "text": [
      "WARNING:tensorflow:From /home/asuresh/.local/lib/python2.7/site-packages/keras/backend/tensorflow_backend.py:74: The name tf.get_default_graph is deprecated. Please use tf.compat.v1.get_default_graph instead.\n",
      "\n",
      "WARNING:tensorflow:From /home/asuresh/.local/lib/python2.7/site-packages/keras/backend/tensorflow_backend.py:517: The name tf.placeholder is deprecated. Please use tf.compat.v1.placeholder instead.\n",
      "\n",
      "WARNING:tensorflow:From /home/asuresh/.local/lib/python2.7/site-packages/keras/backend/tensorflow_backend.py:4138: The name tf.random_uniform is deprecated. Please use tf.random.uniform instead.\n",
      "\n",
      "WARNING:tensorflow:From /home/asuresh/.local/lib/python2.7/site-packages/keras/optimizers.py:790: The name tf.train.Optimizer is deprecated. Please use tf.compat.v1.train.Optimizer instead.\n",
      "\n",
      "WARNING:tensorflow:From /home/asuresh/.local/lib/python2.7/site-packages/keras/backend/tensorflow_backend.py:3295: The name tf.log is deprecated. Please use tf.math.log instead.\n",
      "\n"
     ]
    }
   ],
   "source": [
    "inputs = Input((2,))\n",
    "hidden_layer_1 = Dense(50, activation='relu')(inputs)\n",
    "hidden_layer_2 = Dense(50, activation='relu')(hidden_layer_1)\n",
    "hidden_layer_3 = Dense(50, activation='relu')(hidden_layer_2)\n",
    "\n",
    "outputs = Dense(2, activation='softmax')(hidden_layer_3)\n",
    "\n",
    "dctr = Model(inputs = inputs, outputs = outputs)\n",
    "dctr.compile(loss='categorical_crossentropy', optimizer='Adam')"
   ]
  },
  {
   "cell_type": "markdown",
   "metadata": {},
   "source": [
    "# Train model"
   ]
  },
  {
   "cell_type": "markdown",
   "metadata": {},
   "source": [
    "Model has a tendency to initialize at trivial minima of the loss function (loss ~ 8 or loss ~0). We do ~100 iterations of initializations to explore the fraction of initiziations that succeed in being able to train a non-trivial model(loss after first epoch ~1), and keep the weights from such a model to complete the rest of training."
   ]
  },
  {
   "cell_type": "code",
   "execution_count": 11,
   "metadata": {},
   "outputs": [
    {
     "name": "stdout",
     "output_type": "stream",
     "text": [
      "Iteration:  1\n",
      "WARNING:tensorflow:From /home/asuresh/.local/lib/python2.7/site-packages/tensorflow_core/python/ops/math_grad.py:1424: where (from tensorflow.python.ops.array_ops) is deprecated and will be removed in a future version.\n",
      "Instructions for updating:\n",
      "Use tf.where in 2.0, which has the same broadcast rule as np.where\n",
      "WARNING:tensorflow:From /home/asuresh/.local/lib/python2.7/site-packages/keras/backend/tensorflow_backend.py:986: The name tf.assign_add is deprecated. Please use tf.compat.v1.assign_add instead.\n",
      "\n",
      "WARNING:tensorflow:From /home/asuresh/.local/lib/python2.7/site-packages/keras/backend/tensorflow_backend.py:973: The name tf.assign is deprecated. Please use tf.compat.v1.assign instead.\n",
      "\n",
      "WARNING:tensorflow:From /home/asuresh/.local/lib/python2.7/site-packages/keras/backend/tensorflow_backend.py:2741: The name tf.Session is deprecated. Please use tf.compat.v1.Session instead.\n",
      "\n",
      "Train on 103878 samples, validate on 11542 samples\n",
      "Epoch 1/1\n",
      "WARNING:tensorflow:From /home/asuresh/.local/lib/python2.7/site-packages/keras/backend/tensorflow_backend.py:174: The name tf.get_default_session is deprecated. Please use tf.compat.v1.get_default_session instead.\n",
      "\n",
      "WARNING:tensorflow:From /home/asuresh/.local/lib/python2.7/site-packages/keras/backend/tensorflow_backend.py:181: The name tf.ConfigProto is deprecated. Please use tf.compat.v1.ConfigProto instead.\n",
      "\n",
      "WARNING:tensorflow:From /home/asuresh/.local/lib/python2.7/site-packages/keras/backend/tensorflow_backend.py:190: The name tf.global_variables is deprecated. Please use tf.compat.v1.global_variables instead.\n",
      "\n",
      "WARNING:tensorflow:From /home/asuresh/.local/lib/python2.7/site-packages/keras/backend/tensorflow_backend.py:199: The name tf.is_variable_initialized is deprecated. Please use tf.compat.v1.is_variable_initialized instead.\n",
      "\n",
      "WARNING:tensorflow:From /home/asuresh/.local/lib/python2.7/site-packages/keras/backend/tensorflow_backend.py:206: The name tf.variables_initializer is deprecated. Please use tf.compat.v1.variables_initializer instead.\n",
      "\n",
      "103878/103878 [==============================] - 1s 11us/step - loss: 8.0468 - val_loss: 8.1694\n",
      "Iteration:  2\n",
      "Train on 103878 samples, validate on 11542 samples\n",
      "Epoch 1/1\n",
      "103878/103878 [==============================] - 1s 8us/step - loss: 8.0713 - val_loss: 7.9487\n",
      "Iteration:  3\n",
      "Train on 103878 samples, validate on 11542 samples\n",
      "Epoch 1/1\n",
      "103878/103878 [==============================] - 1s 9us/step - loss: 8.0713 - val_loss: 7.9487\n",
      "Iteration:  4\n",
      "Train on 103878 samples, validate on 11542 samples\n",
      "Epoch 1/1\n",
      "103878/103878 [==============================] - 1s 10us/step - loss: 8.0468 - val_loss: 8.1694\n",
      "Iteration:  5\n",
      "Train on 103878 samples, validate on 11542 samples\n",
      "Epoch 1/1\n",
      "103878/103878 [==============================] - 1s 10us/step - loss: 0.8474 - val_loss: 0.6946\n",
      "Iteration:  6\n",
      "Train on 103878 samples, validate on 11542 samples\n",
      "Epoch 1/1\n",
      "103878/103878 [==============================] - 1s 11us/step - loss: 8.0468 - val_loss: 8.1694\n",
      "Iteration:  7\n",
      "Train on 103878 samples, validate on 11542 samples\n",
      "Epoch 1/1\n",
      "103878/103878 [==============================] - 1s 12us/step - loss: 8.0468 - val_loss: 8.1694\n",
      "Iteration:  8\n",
      "Train on 103878 samples, validate on 11542 samples\n",
      "Epoch 1/1\n",
      "103878/103878 [==============================] - 1s 12us/step - loss: 1.1707 - val_loss: 0.6949\n",
      "Iteration:  9\n",
      "Train on 103878 samples, validate on 11542 samples\n",
      "Epoch 1/1\n",
      "103878/103878 [==============================] - 1s 13us/step - loss: 8.0713 - val_loss: 7.9487\n",
      "Iteration:  10\n",
      "Train on 103878 samples, validate on 11542 samples\n",
      "Epoch 1/1\n",
      "103878/103878 [==============================] - 2s 15us/step - loss: 8.0713 - val_loss: 7.9487\n",
      "Iteration:  11\n",
      "Train on 103878 samples, validate on 11542 samples\n",
      "Epoch 1/1\n",
      "103878/103878 [==============================] - 2s 15us/step - loss: 1.0025 - val_loss: 0.6959\n",
      "Iteration:  12\n",
      "Train on 103878 samples, validate on 11542 samples\n",
      "Epoch 1/1\n",
      "103878/103878 [==============================] - 2s 17us/step - loss: 0.7766 - val_loss: 0.6954\n",
      "Iteration:  13\n",
      "Train on 103878 samples, validate on 11542 samples\n",
      "Epoch 1/1\n",
      "103878/103878 [==============================] - 2s 17us/step - loss: 0.8524 - val_loss: 0.7036\n",
      "Iteration:  14\n",
      "Train on 103878 samples, validate on 11542 samples\n",
      "Epoch 1/1\n",
      "103878/103878 [==============================] - 2s 18us/step - loss: 1.0824 - val_loss: 0.7038\n",
      "Iteration:  15\n",
      "Train on 103878 samples, validate on 11542 samples\n",
      "Epoch 1/1\n",
      "103878/103878 [==============================] - 2s 19us/step - loss: 8.0468 - val_loss: 8.1694\n",
      "Iteration:  16\n",
      "Train on 103878 samples, validate on 11542 samples\n",
      "Epoch 1/1\n",
      "103878/103878 [==============================] - 2s 20us/step - loss: 0.8828 - val_loss: 0.6958\n",
      "Iteration:  17\n",
      "Train on 103878 samples, validate on 11542 samples\n",
      "Epoch 1/1\n",
      "103878/103878 [==============================] - 2s 21us/step - loss: 1.0041 - val_loss: 0.7077\n",
      "Iteration:  18\n",
      "Train on 103878 samples, validate on 11542 samples\n",
      "Epoch 1/1\n",
      "103878/103878 [==============================] - 2s 22us/step - loss: 0.8878 - val_loss: 0.6965\n",
      "Iteration:  19\n",
      "Train on 103878 samples, validate on 11542 samples\n",
      "Epoch 1/1\n",
      "103878/103878 [==============================] - 2s 23us/step - loss: 0.9511 - val_loss: 0.6941\n",
      "Iteration:  20\n",
      "Train on 103878 samples, validate on 11542 samples\n",
      "Epoch 1/1\n",
      "103878/103878 [==============================] - 2s 23us/step - loss: 0.9634 - val_loss: 0.6948\n",
      "Iteration:  21\n",
      "Train on 103878 samples, validate on 11542 samples\n",
      "Epoch 1/1\n",
      "103878/103878 [==============================] - 2s 24us/step - loss: 8.0468 - val_loss: 8.1694\n",
      "Iteration:  22\n",
      "Train on 103878 samples, validate on 11542 samples\n",
      "Epoch 1/1\n",
      "103878/103878 [==============================] - 3s 25us/step - loss: 8.0468 - val_loss: 8.1694\n",
      "Iteration:  23\n",
      "Train on 103878 samples, validate on 11542 samples\n",
      "Epoch 1/1\n",
      "103878/103878 [==============================] - 3s 26us/step - loss: 1.0332 - val_loss: 0.7482\n",
      "Iteration:  24\n",
      "Train on 103878 samples, validate on 11542 samples\n",
      "Epoch 1/1\n",
      "103878/103878 [==============================] - 3s 27us/step - loss: 8.0468 - val_loss: 8.1694\n",
      "Iteration:  25\n",
      "Train on 103878 samples, validate on 11542 samples\n",
      "Epoch 1/1\n",
      "103878/103878 [==============================] - 3s 28us/step - loss: 8.0713 - val_loss: 7.9487\n",
      "Iteration:  26\n",
      "Train on 103878 samples, validate on 11542 samples\n",
      "Epoch 1/1\n",
      "103878/103878 [==============================] - 3s 29us/step - loss: 0.9250 - val_loss: 0.6932\n",
      "Iteration:  27\n",
      "Train on 103878 samples, validate on 11542 samples\n",
      "Epoch 1/1\n",
      "103878/103878 [==============================] - 3s 30us/step - loss: 0.9489 - val_loss: 0.6993\n",
      "Iteration:  28\n",
      "Train on 103878 samples, validate on 11542 samples\n",
      "Epoch 1/1\n",
      "103878/103878 [==============================] - 3s 31us/step - loss: 1.1184 - val_loss: 0.7015\n",
      "Iteration:  29\n",
      "Train on 103878 samples, validate on 11542 samples\n",
      "Epoch 1/1\n",
      "103878/103878 [==============================] - 3s 32us/step - loss: 0.8127 - val_loss: 0.7003\n",
      "Iteration:  30\n",
      "Train on 103878 samples, validate on 11542 samples\n",
      "Epoch 1/1\n",
      "103878/103878 [==============================] - 3s 33us/step - loss: 0.9589 - val_loss: 0.7444\n",
      "Iteration:  31\n",
      "Train on 103878 samples, validate on 11542 samples\n",
      "Epoch 1/1\n",
      "103878/103878 [==============================] - 3s 33us/step - loss: 0.8049 - val_loss: 0.7057\n",
      "Iteration:  32\n",
      "Train on 103878 samples, validate on 11542 samples\n",
      "Epoch 1/1\n",
      "103878/103878 [==============================] - 4s 34us/step - loss: 8.0468 - val_loss: 8.1694\n",
      "Iteration:  33\n",
      "Train on 103878 samples, validate on 11542 samples\n",
      "Epoch 1/1\n",
      "103878/103878 [==============================] - 4s 35us/step - loss: 0.9748 - val_loss: 0.6930\n",
      "Iteration:  34\n",
      "Train on 103878 samples, validate on 11542 samples\n",
      "Epoch 1/1\n",
      "103878/103878 [==============================] - 4s 36us/step - loss: 8.0468 - val_loss: 8.1694\n",
      "Iteration:  35\n",
      "Train on 103878 samples, validate on 11542 samples\n",
      "Epoch 1/1\n",
      "103878/103878 [==============================] - 4s 37us/step - loss: 1.0764 - val_loss: 0.7189\n",
      "Iteration:  36\n",
      "Train on 103878 samples, validate on 11542 samples\n",
      "Epoch 1/1\n",
      "103878/103878 [==============================] - 4s 38us/step - loss: 0.8634 - val_loss: 0.6950\n",
      "Iteration:  37\n",
      "Train on 103878 samples, validate on 11542 samples\n",
      "Epoch 1/1\n"
     ]
    },
    {
     "name": "stdout",
     "output_type": "stream",
     "text": [
      "103878/103878 [==============================] - 4s 39us/step - loss: 8.0468 - val_loss: 8.1694\n",
      "Iteration:  38\n",
      "Train on 103878 samples, validate on 11542 samples\n",
      "Epoch 1/1\n",
      "103878/103878 [==============================] - 4s 40us/step - loss: 1.2889 - val_loss: 0.6999\n",
      "Iteration:  39\n",
      "Train on 103878 samples, validate on 11542 samples\n",
      "Epoch 1/1\n",
      "103878/103878 [==============================] - 4s 41us/step - loss: 8.0468 - val_loss: 8.1694\n",
      "Iteration:  40\n",
      "Train on 103878 samples, validate on 11542 samples\n",
      "Epoch 1/1\n",
      "103878/103878 [==============================] - 4s 42us/step - loss: 8.0713 - val_loss: 7.9487\n",
      "Iteration:  41\n",
      "Train on 103878 samples, validate on 11542 samples\n",
      "Epoch 1/1\n",
      "103878/103878 [==============================] - 4s 43us/step - loss: 1.0111 - val_loss: 0.7047\n",
      "Iteration:  42\n",
      "Train on 103878 samples, validate on 11542 samples\n",
      "Epoch 1/1\n",
      "103878/103878 [==============================] - 5s 43us/step - loss: 8.0468 - val_loss: 8.1694\n",
      "Iteration:  43\n",
      "Train on 103878 samples, validate on 11542 samples\n",
      "Epoch 1/1\n",
      "103878/103878 [==============================] - 5s 44us/step - loss: 8.0713 - val_loss: 7.9487\n",
      "Iteration:  44\n",
      "Train on 103878 samples, validate on 11542 samples\n",
      "Epoch 1/1\n",
      "103878/103878 [==============================] - 5s 46us/step - loss: 1.0708 - val_loss: 0.6957\n",
      "Iteration:  45\n",
      "Train on 103878 samples, validate on 11542 samples\n",
      "Epoch 1/1\n",
      "103878/103878 [==============================] - 5s 47us/step - loss: 0.7679 - val_loss: 0.6997\n",
      "Iteration:  46\n",
      "Train on 103878 samples, validate on 11542 samples\n",
      "Epoch 1/1\n",
      "103878/103878 [==============================] - 5s 47us/step - loss: 1.0783 - val_loss: 0.6943\n",
      "Iteration:  47\n",
      "Train on 103878 samples, validate on 11542 samples\n",
      "Epoch 1/1\n",
      "103878/103878 [==============================] - 5s 49us/step - loss: 0.9450 - val_loss: 0.6943\n",
      "Iteration:  48\n",
      "Train on 103878 samples, validate on 11542 samples\n",
      "Epoch 1/1\n",
      "103878/103878 [==============================] - 5s 49us/step - loss: 1.1306 - val_loss: 0.6936\n",
      "Iteration:  49\n",
      "Train on 103878 samples, validate on 11542 samples\n",
      "Epoch 1/1\n",
      "103878/103878 [==============================] - 5s 51us/step - loss: 0.8796 - val_loss: 0.6938\n",
      "Iteration:  50\n",
      "Train on 103878 samples, validate on 11542 samples\n",
      "Epoch 1/1\n",
      "103878/103878 [==============================] - 5s 52us/step - loss: 0.9061 - val_loss: 0.6939\n",
      "Iteration:  51\n",
      "Train on 103878 samples, validate on 11542 samples\n",
      "Epoch 1/1\n",
      "103878/103878 [==============================] - 5s 52us/step - loss: 0.7616 - val_loss: 0.6960\n",
      "Iteration:  52\n",
      "Train on 103878 samples, validate on 11542 samples\n",
      "Epoch 1/1\n",
      "103878/103878 [==============================] - 6s 54us/step - loss: 0.7845 - val_loss: 0.7116\n",
      "Iteration:  53\n",
      "Train on 103878 samples, validate on 11542 samples\n",
      "Epoch 1/1\n",
      "103878/103878 [==============================] - 6s 55us/step - loss: 8.0468 - val_loss: 8.1694\n",
      "Iteration:  54\n",
      "Train on 103878 samples, validate on 11542 samples\n",
      "Epoch 1/1\n",
      "103878/103878 [==============================] - 6s 56us/step - loss: 8.0713 - val_loss: 7.9487\n",
      "Iteration:  55\n",
      "Train on 103878 samples, validate on 11542 samples\n",
      "Epoch 1/1\n",
      "103878/103878 [==============================] - 6s 56us/step - loss: 8.0713 - val_loss: 7.9487\n",
      "Iteration:  56\n",
      "Train on 103878 samples, validate on 11542 samples\n",
      "Epoch 1/1\n",
      "103878/103878 [==============================] - 6s 56us/step - loss: 8.0713 - val_loss: 7.9487\n",
      "Iteration:  57\n",
      "Train on 103878 samples, validate on 11542 samples\n",
      "Epoch 1/1\n",
      "103878/103878 [==============================] - 6s 58us/step - loss: 0.8411 - val_loss: 0.6947\n",
      "Iteration:  58\n",
      "Train on 103878 samples, validate on 11542 samples\n",
      "Epoch 1/1\n",
      "103878/103878 [==============================] - 6s 59us/step - loss: 0.9727 - val_loss: 0.7055\n",
      "Iteration:  59\n",
      "Train on 103878 samples, validate on 11542 samples\n",
      "Epoch 1/1\n",
      "103878/103878 [==============================] - 6s 60us/step - loss: 8.0468 - val_loss: 8.1694\n",
      "Iteration:  60\n",
      "Train on 103878 samples, validate on 11542 samples\n",
      "Epoch 1/1\n",
      "103878/103878 [==============================] - 6s 61us/step - loss: 8.0713 - val_loss: 7.9487\n",
      "Iteration:  61\n",
      "Train on 103878 samples, validate on 11542 samples\n",
      "Epoch 1/1\n",
      "103878/103878 [==============================] - 6s 61us/step - loss: 0.8372 - val_loss: 0.6952\n",
      "Iteration:  62\n",
      "Train on 103878 samples, validate on 11542 samples\n",
      "Epoch 1/1\n",
      "103878/103878 [==============================] - 6s 63us/step - loss: 1.1268 - val_loss: 0.7003\n",
      "Iteration:  63\n",
      "Train on 103878 samples, validate on 11542 samples\n",
      "Epoch 1/1\n",
      "103878/103878 [==============================] - 7s 64us/step - loss: 8.0468 - val_loss: 8.1694\n",
      "Iteration:  64\n",
      "Train on 103878 samples, validate on 11542 samples\n",
      "Epoch 1/1\n",
      "103878/103878 [==============================] - 7s 64us/step - loss: 8.0468 - val_loss: 8.1694\n",
      "Iteration:  65\n",
      "Train on 103878 samples, validate on 11542 samples\n",
      "Epoch 1/1\n",
      "103878/103878 [==============================] - 7s 65us/step - loss: 8.0713 - val_loss: 7.9487\n",
      "Iteration:  66\n",
      "Train on 103878 samples, validate on 11542 samples\n",
      "Epoch 1/1\n",
      "103878/103878 [==============================] - 7s 67us/step - loss: 0.9300 - val_loss: 0.7405\n",
      "Iteration:  67\n",
      "Train on 103878 samples, validate on 11542 samples\n",
      "Epoch 1/1\n",
      "103878/103878 [==============================] - 7s 68us/step - loss: 8.0713 - val_loss: 7.9487\n",
      "Iteration:  68\n",
      "Train on 103878 samples, validate on 11542 samples\n",
      "Epoch 1/1\n",
      "103878/103878 [==============================] - 7s 69us/step - loss: 8.0468 - val_loss: 8.1694\n",
      "Iteration:  69\n",
      "Train on 103878 samples, validate on 11542 samples\n",
      "Epoch 1/1\n",
      "103878/103878 [==============================] - 7s 69us/step - loss: 8.0713 - val_loss: 7.9487\n",
      "Iteration:  70\n",
      "Train on 103878 samples, validate on 11542 samples\n",
      "Epoch 1/1\n",
      "103878/103878 [==============================] - 7s 70us/step - loss: 8.0468 - val_loss: 8.1694\n",
      "Iteration:  71\n",
      "Train on 103878 samples, validate on 11542 samples\n",
      "Epoch 1/1\n",
      "103878/103878 [==============================] - 7s 71us/step - loss: 8.0713 - val_loss: 7.9487\n",
      "Iteration:  72\n",
      "Train on 103878 samples, validate on 11542 samples\n",
      "Epoch 1/1\n",
      "103878/103878 [==============================] - 7s 71us/step - loss: 8.0468 - val_loss: 8.1694\n",
      "Iteration:  73\n",
      "Train on 103878 samples, validate on 11542 samples\n",
      "Epoch 1/1\n",
      "103878/103878 [==============================] - 8s 73us/step - loss: 8.0713 - val_loss: 7.9487\n",
      "Iteration:  74\n",
      "Train on 103878 samples, validate on 11542 samples\n",
      "Epoch 1/1\n",
      "103878/103878 [==============================] - 8s 73us/step - loss: 0.8757 - val_loss: 0.6946\n",
      "Iteration:  75\n",
      "Train on 103878 samples, validate on 11542 samples\n",
      "Epoch 1/1\n",
      "103878/103878 [==============================] - 8s 76us/step - loss: 8.0468 - val_loss: 8.1694\n",
      "Iteration:  76\n",
      "Train on 103878 samples, validate on 11542 samples\n",
      "Epoch 1/1\n",
      "103878/103878 [==============================] - 8s 76us/step - loss: 0.7653 - val_loss: 0.6954\n",
      "Iteration:  77\n",
      "Train on 103878 samples, validate on 11542 samples\n",
      "Epoch 1/1\n",
      "103878/103878 [==============================] - 8s 76us/step - loss: 8.0713 - val_loss: 7.9487\n",
      "Iteration:  78\n",
      "Train on 103878 samples, validate on 11542 samples\n",
      "Epoch 1/1\n",
      "103878/103878 [==============================] - 8s 77us/step - loss: 0.9110 - val_loss: 0.6973\n",
      "Iteration:  79\n",
      "Train on 103878 samples, validate on 11542 samples\n",
      "Epoch 1/1\n",
      "103878/103878 [==============================] - 8s 78us/step - loss: 8.0713 - val_loss: 7.9487\n",
      "Iteration:  80\n",
      "Train on 103878 samples, validate on 11542 samples\n",
      "Epoch 1/1\n",
      "103878/103878 [==============================] - 8s 81us/step - loss: 0.8520 - val_loss: 0.6973\n",
      "Iteration:  81\n",
      "Train on 103878 samples, validate on 11542 samples\n",
      "Epoch 1/1\n",
      "103878/103878 [==============================] - 8s 82us/step - loss: 1.0944 - val_loss: 0.6985\n",
      "Iteration:  82\n",
      "Train on 103878 samples, validate on 11542 samples\n",
      "Epoch 1/1\n",
      "103878/103878 [==============================] - 9s 83us/step - loss: 8.0713 - val_loss: 7.9487\n",
      "Iteration:  83\n",
      "Train on 103878 samples, validate on 11542 samples\n",
      "Epoch 1/1\n",
      "103878/103878 [==============================] - 9s 83us/step - loss: 0.9246 - val_loss: 0.6999\n",
      "Iteration:  84\n",
      "Train on 103878 samples, validate on 11542 samples\n",
      "Epoch 1/1\n",
      "103878/103878 [==============================] - 9s 84us/step - loss: 1.1370 - val_loss: 0.6984\n",
      "Iteration:  85\n"
     ]
    },
    {
     "name": "stdout",
     "output_type": "stream",
     "text": [
      "Train on 103878 samples, validate on 11542 samples\n",
      "Epoch 1/1\n",
      "103878/103878 [==============================] - 9s 85us/step - loss: 0.9569 - val_loss: 0.6937\n",
      "Iteration:  86\n",
      "Train on 103878 samples, validate on 11542 samples\n",
      "Epoch 1/1\n",
      "103878/103878 [==============================] - 9s 85us/step - loss: 0.7858 - val_loss: 0.6956\n",
      "Iteration:  87\n",
      "Train on 103878 samples, validate on 11542 samples\n",
      "Epoch 1/1\n",
      "103878/103878 [==============================] - 9s 89us/step - loss: 0.9194 - val_loss: 0.6937\n",
      "Iteration:  88\n",
      "Train on 103878 samples, validate on 11542 samples\n",
      "Epoch 1/1\n",
      "103878/103878 [==============================] - 9s 89us/step - loss: 0.8302 - val_loss: 0.6926\n",
      "Iteration:  89\n",
      "Train on 103878 samples, validate on 11542 samples\n",
      "Epoch 1/1\n",
      "103878/103878 [==============================] - 9s 89us/step - loss: 0.9826 - val_loss: 0.7306\n",
      "Iteration:  90\n",
      "Train on 103878 samples, validate on 11542 samples\n",
      "Epoch 1/1\n",
      "103878/103878 [==============================] - 10s 92us/step - loss: 8.0468 - val_loss: 8.1694\n",
      "Iteration:  91\n",
      "Train on 103878 samples, validate on 11542 samples\n",
      "Epoch 1/1\n",
      "103878/103878 [==============================] - 10s 92us/step - loss: 8.0468 - val_loss: 8.1694\n",
      "Iteration:  92\n",
      "Train on 103878 samples, validate on 11542 samples\n",
      "Epoch 1/1\n",
      "103878/103878 [==============================] - 10s 93us/step - loss: 8.0713 - val_loss: 7.9487\n",
      "Iteration:  93\n",
      "Train on 103878 samples, validate on 11542 samples\n",
      "Epoch 1/1\n",
      "103878/103878 [==============================] - 10s 94us/step - loss: 0.8012 - val_loss: 0.6936\n",
      "Iteration:  94\n",
      "Train on 103878 samples, validate on 11542 samples\n",
      "Epoch 1/1\n",
      "103878/103878 [==============================] - 10s 95us/step - loss: 8.0713 - val_loss: 7.9487\n",
      "Iteration:  95\n",
      "Train on 103878 samples, validate on 11542 samples\n",
      "Epoch 1/1\n",
      "103878/103878 [==============================] - 10s 95us/step - loss: 8.0713 - val_loss: 7.9487\n",
      "Iteration:  96\n",
      "Train on 103878 samples, validate on 11542 samples\n",
      "Epoch 1/1\n",
      "103878/103878 [==============================] - 10s 96us/step - loss: 8.0468 - val_loss: 8.1694\n",
      "Iteration:  97\n",
      "Train on 103878 samples, validate on 11542 samples\n",
      "Epoch 1/1\n",
      "103878/103878 [==============================] - 10s 98us/step - loss: 1.1389 - val_loss: 0.7007\n",
      "Iteration:  98\n",
      "Train on 103878 samples, validate on 11542 samples\n",
      "Epoch 1/1\n",
      "103878/103878 [==============================] - 10s 98us/step - loss: 1.0060 - val_loss: 0.6971\n",
      "Iteration:  99\n",
      "Train on 103878 samples, validate on 11542 samples\n",
      "Epoch 1/1\n",
      "103878/103878 [==============================] - 10s 98us/step - loss: 1.0872 - val_loss: 0.6993\n",
      "Iteration:  100\n",
      "Train on 103878 samples, validate on 11542 samples\n",
      "Epoch 1/1\n",
      "103878/103878 [==============================] - 10s 100us/step - loss: 8.0468 - val_loss: 8.1694\n",
      "Iteration:  101\n",
      "Train on 103878 samples, validate on 11542 samples\n",
      "Epoch 1/1\n",
      "103878/103878 [==============================] - 11s 102us/step - loss: 0.9437 - val_loss: 0.7284\n"
     ]
    }
   ],
   "source": [
    "earlystopping = EarlyStopping(patience = 10,\n",
    "                              restore_best_weights=True)\n",
    "\n",
    "count = 0\n",
    "n_fail1 = 0\n",
    "n_fail2 = 0\n",
    "n_succ = 0\n",
    "\n",
    "while True:\n",
    "    count += 1\n",
    "    print(\"Iteration: \", count)\n",
    "    \n",
    "    inputs = Input((2,))\n",
    "    hidden_layer_1 = Dense(50, activation='relu')(inputs)\n",
    "    hidden_layer_2 = Dense(50, activation='relu')(hidden_layer_1)\n",
    "    hidden_layer_3 = Dense(50, activation='relu')(hidden_layer_2)\n",
    "\n",
    "    outputs = Dense(2, activation='softmax')(hidden_layer_3)\n",
    "    \n",
    "    dctr = Model(inputs = inputs, outputs = outputs)\n",
    "    dctr.compile(loss='categorical_crossentropy', optimizer='Adam')\n",
    "    \n",
    "    history = dctr.fit(X_train, Y_train, \n",
    "              epochs=1, \n",
    "              batch_size = 1000,\n",
    "              validation_data = (X_val, Y_val),\n",
    "              callbacks = [earlystopping],\n",
    "                            verbose = 1)\n",
    "    if history.history['val_loss'][0] > 6: # Fail case 1\n",
    "        n_fail1 += 1\n",
    "    elif history.history['val_loss'][0] < 0.1: # Fail case 2\n",
    "        n_fail2 += 1\n",
    "    else: # success\n",
    "        n_succ += 1\n",
    "        if count > 99:\n",
    "            break\n",
    "\n",
    "n_fail = n_fail1 + n_fail2"
   ]
  },
  {
   "cell_type": "code",
   "execution_count": 12,
   "metadata": {},
   "outputs": [
    {
     "name": "stdout",
     "output_type": "stream",
     "text": [
      "Number of initializations failed:  47 / 101\n",
      "Percentage of initializations failed: 46.5346534653 %\n",
      "Number of initializations succeeded:  54 / 101\n",
      "Percentage of initializations succeeded: 53.4653465347 %\n"
     ]
    }
   ],
   "source": [
    "print(\"Number of initializations failed: \", n_fail, \"/\", count)\n",
    "print(\"Percentage of initializations failed:\", (100*n_fail/count), \"%\")\n",
    "\n",
    "print(\"Number of initializations succeeded: \", n_succ, \"/\", count)\n",
    "print(\"Percentage of initializations succeeded:\", (100*n_succ/count), \"%\")"
   ]
  },
  {
   "cell_type": "markdown",
   "metadata": {},
   "source": [
    "### Finish training"
   ]
  },
  {
   "cell_type": "code",
   "execution_count": 13,
   "metadata": {},
   "outputs": [
    {
     "name": "stdout",
     "output_type": "stream",
     "text": [
      "Train on 103878 samples, validate on 11542 samples\n",
      "Epoch 1/200\n",
      "103878/103878 [==============================] - 1s 8us/step - loss: 0.7090 - val_loss: 0.7046\n",
      "Epoch 2/200\n",
      "103878/103878 [==============================] - 1s 8us/step - loss: 0.7169 - val_loss: 0.6942\n",
      "Epoch 3/200\n",
      "103878/103878 [==============================] - 1s 8us/step - loss: 0.7140 - val_loss: 0.6968\n",
      "Epoch 4/200\n",
      "103878/103878 [==============================] - 1s 7us/step - loss: 0.7124 - val_loss: 0.6962\n",
      "Epoch 5/200\n",
      "103878/103878 [==============================] - 1s 8us/step - loss: 0.7104 - val_loss: 0.7243\n",
      "Epoch 6/200\n",
      "103878/103878 [==============================] - 1s 8us/step - loss: 0.7153 - val_loss: 0.7036\n",
      "Epoch 7/200\n",
      "103878/103878 [==============================] - 1s 8us/step - loss: 0.7086 - val_loss: 0.7223\n",
      "Epoch 8/200\n",
      "103878/103878 [==============================] - 1s 8us/step - loss: 0.7101 - val_loss: 0.7193\n",
      "Epoch 9/200\n",
      "103878/103878 [==============================] - 1s 8us/step - loss: 0.7047 - val_loss: 0.7094\n",
      "Epoch 10/200\n",
      "103878/103878 [==============================] - 1s 8us/step - loss: 0.7168 - val_loss: 0.7206\n",
      "Epoch 11/200\n",
      "103878/103878 [==============================] - 1s 8us/step - loss: 0.7164 - val_loss: 0.7143\n",
      "Epoch 12/200\n",
      "103878/103878 [==============================] - 1s 8us/step - loss: 0.7092 - val_loss: 0.7173\n"
     ]
    }
   ],
   "source": [
    "history = dctr.fit(X_train, Y_train, \n",
    "          epochs=200, \n",
    "          batch_size = 1000,\n",
    "          validation_data = (X_val, Y_val),\n",
    "          callbacks = [earlystopping],\n",
    "                        verbose = 1)"
   ]
  },
  {
   "cell_type": "markdown",
   "metadata": {},
   "source": [
    "# Plot History"
   ]
  },
  {
   "cell_type": "code",
   "execution_count": 14,
   "metadata": {},
   "outputs": [
    {
     "data": {
      "image/png": "[encoded data removed]",
      "text/plain": [
       "<Figure size 432x288 with 1 Axes>"
      ]
     },
     "metadata": {},
     "output_type": "display_data"
    }
   ],
   "source": [
    "plt.plot(history.history['loss'],     label = 'loss')\n",
    "plt.plot(history.history['val_loss'], label = 'val loss')\n",
    "plt.legend(loc=0)\n",
    "plt.ylabel('loss')\n",
    "plt.xlabel('Epochs')\n",
    "plt.show()"
   ]
  },
  {
   "cell_type": "markdown",
   "metadata": {},
   "source": [
    "The network trained non-trivially, but still not the best."
   ]
  },
  {
   "cell_type": "markdown",
   "metadata": {},
   "source": [
    "## Load Datasets"
   ]
  },
  {
   "cell_type": "code",
   "execution_count": 15,
   "metadata": {},
   "outputs": [],
   "source": [
    "test_dataset_0_mjjj = np.load(data_dir + 'part_172_5_6j_obs.npy')[:,:1]\n",
    "test_dataset_1_mjjj = np.load(data_dir + 'part_175_0_6j_obs.npy')[:,:1]\n",
    "\n",
    "X0_test = np.concatenate((test_dataset_0_mjjj, 172.5*np.ones_like(test_dataset_0_mjjj)), axis = 1)\n",
    "X1_test = np.concatenate((test_dataset_0_mjjj, 175.0*np.ones_like(test_dataset_0_mjjj)), axis = 1)"
   ]
  },
  {
   "cell_type": "code",
   "execution_count": 16,
   "metadata": {},
   "outputs": [],
   "source": [
    "# Define labels for legends\n",
    "label_0 = r'$m_T=172.5$'\n",
    "\n",
    "label_1 = r'$m_T=175.0$'\n",
    "\n",
    "def make_legend():\n",
    "    ax = plt.gca()\n",
    "    leg = ax.legend(frameon=False)\n",
    "    leg._legend_box.align = \"left\"\n",
    "    plt.tight_layout()"
   ]
  },
  {
   "cell_type": "markdown",
   "metadata": {},
   "source": [
    "## Get predictions"
   ]
  },
  {
   "cell_type": "code",
   "execution_count": 17,
   "metadata": {},
   "outputs": [],
   "source": [
    "# Get predicted probabilities\n",
    "preds_0 = dctr.predict(X0_test, batch_size=1000)\n",
    "preds_1 = dctr.predict(X1_test, batch_size=1000)"
   ]
  },
  {
   "cell_type": "code",
   "execution_count": 18,
   "metadata": {},
   "outputs": [
    {
     "name": "stdout",
     "output_type": "stream",
     "text": [
      "[[0.4971329  0.50286704]\n",
      " [0.5446043  0.4553956 ]\n",
      " [0.5025249  0.49747515]\n",
      " [0.4704579  0.5295421 ]\n",
      " [0.57284665 0.42715332]\n",
      " [0.47686836 0.52313167]\n",
      " [0.5073462  0.4926538 ]\n",
      " [0.45339146 0.5466085 ]\n",
      " [0.40380514 0.59619486]\n",
      " [0.5194878  0.48051223]\n",
      " [0.43860158 0.56139845]\n",
      " [0.47848344 0.52151656]\n",
      " [0.5362478  0.46375218]\n",
      " [0.5317689  0.4682311 ]\n",
      " [0.54160076 0.45839924]\n",
      " [0.4311025  0.5688974 ]\n",
      " [0.48023373 0.5197663 ]\n",
      " [0.492969   0.50703096]\n",
      " [0.49745217 0.50254786]\n",
      " [0.44318253 0.5568175 ]]\n"
     ]
    }
   ],
   "source": [
    "print(preds_0[0:20]) # Network hasn't trained \n",
    "# outputs are all [1, 0] or all [0, 1] depending on random initialization"
   ]
  },
  {
   "cell_type": "markdown",
   "metadata": {},
   "source": [
    "## Get weights"
   ]
  },
  {
   "cell_type": "code",
   "execution_count": 19,
   "metadata": {},
   "outputs": [
    {
     "name": "stdout",
     "output_type": "stream",
     "text": [
      "1.02441517935\n"
     ]
    }
   ],
   "source": [
    "# calculate liklihood ratio as datasets are different lengths\n",
    "liklihood_ratio = len(test_dataset_1_mjjj) / len(test_dataset_0_mjjj)\n",
    "print(liklihood_ratio)\n",
    "\n",
    "weights_0 = liklihood_ratio*preds_0[:,0]/preds_0[:,1]\n",
    "weights_1 = liklihood_ratio*preds_1[:,0]/preds_1[:,1]"
   ]
  },
  {
   "cell_type": "markdown",
   "metadata": {},
   "source": [
    "## Analyze weights"
   ]
  },
  {
   "cell_type": "code",
   "execution_count": 20,
   "metadata": {},
   "outputs": [
    {
     "name": "stdout",
     "output_type": "stream",
     "text": [
      "56.269733\n",
      "2.3994298\n",
      "45.09652\n",
      "2.5845342\n"
     ]
    }
   ],
   "source": [
    "print(max(weights_0))\n",
    "print(max(1/weights_0))\n",
    "print(max(weights_1))\n",
    "print(max(1/weights_1))"
   ]
  },
  {
   "cell_type": "code",
   "execution_count": 21,
   "metadata": {},
   "outputs": [
    {
     "data": {
      "image/png": "[encoded data removed]",
      "text/plain": [
       "<Figure size 432x288 with 1 Axes>"
      ]
     },
     "metadata": {},
     "output_type": "display_data"
    }
   ],
   "source": [
    "clip_val = 3\n",
    "bins = np.linspace(0, clip_val, 101)\n",
    "plt.hist(np.clip(weights_0, 0, clip_val), bins = bins)\n",
    "plt.xlabel(\"Weight\")\n",
    "plt.ylabel('Jets per bin (normalized)')\n",
    "plt.title(\"Weights \" + label_0 + r'$\\rightarrow$ ' + label_0, fontsize = 20)\n",
    "plt.show()"
   ]
  },
  {
   "cell_type": "code",
   "execution_count": 22,
   "metadata": {},
   "outputs": [
    {
     "data": {
      "image/png": "[encoded data removed]",
      "text/plain": [
       "<Figure size 432x288 with 1 Axes>"
      ]
     },
     "metadata": {},
     "output_type": "display_data"
    }
   ],
   "source": [
    "clip_val = 3\n",
    "bins = np.linspace(0, clip_val, 101)\n",
    "plt.hist(np.clip(weights_1, 0, clip_val), bins = bins)\n",
    "plt.xlabel(\"Weight\")\n",
    "plt.ylabel('Jets per bin (normalized)')\n",
    "plt.title(\"Weights \" + label_0 + r'$\\rightarrow$ ' + label_1, fontsize = 20)\n",
    "plt.show()"
   ]
  },
  {
   "cell_type": "code",
   "execution_count": 23,
   "metadata": {},
   "outputs": [],
   "source": [
    "# Define default plot styles\n",
    "plot_style_0 = {'histtype':'step', 'color':'black', 'linewidth':2, 'linestyle':'--', 'density':True}\n",
    "plot_style_1 = {'alpha':0.5, 'density':True}"
   ]
  },
  {
   "cell_type": "code",
   "execution_count": 24,
   "metadata": {},
   "outputs": [
    {
     "data": {
      "image/png": "[encoded data removed]",
      "text/plain": [
       "<Figure size 432x360 with 1 Axes>"
      ]
     },
     "metadata": {},
     "output_type": "display_data"
    }
   ],
   "source": [
    "plt.figure(figsize=(6,5))\n",
    "bins = np.linspace(80,400,21)\n",
    "hist0 = plt.hist(test_dataset_0_mjjj, bins = bins, label = label_0, **plot_style_1)\n",
    "hist1 = plt.hist(test_dataset_1_mjjj, bins = bins, label = label_1, **plot_style_0)\n",
    "hist2 = plt.hist(test_dataset_0_mjjj, bins = bins, label = label_0 + ' wgt.', weights=weights_1, **plot_style_1)\n",
    "\n",
    "plt.xlabel('mjj')\n",
    "plt.ylabel('Jets per bin (normalized)')\n",
    "plt.xlim([80,400])\n",
    "make_legend()\n",
    "plt.show()"
   ]
  },
  {
   "cell_type": "markdown",
   "metadata": {},
   "source": [
    "Reweighting not successful enough"
   ]
  },
  {
   "cell_type": "code",
   "execution_count": null,
   "metadata": {},
   "outputs": [],
   "source": []
  }
 ],
 "metadata": {
  "kernelspec": {
   "display_name": "Python 2",
   "language": "python",
   "name": "python2"
  },
  "language_info": {
   "codemirror_mode": {
    "name": "ipython",
    "version": 2
   },
   "file_extension": ".py",
   "mimetype": "text/x-python",
   "name": "python",
   "nbconvert_exporter": "python",
   "pygments_lexer": "ipython2",
   "version": "2.7.12"
  }
 },
 "nbformat": 4,
 "nbformat_minor": 2
}
