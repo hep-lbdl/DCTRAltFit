{
 "cells": [
  {
   "cell_type": "markdown",
   "metadata": {},
   "source": [
    "# Introduction"
   ]
  },
  {
   "cell_type": "markdown",
   "metadata": {},
   "source": [
    "This notebook illustrates how DCTR works on a simple 1D Gaussian example with __different sized training and reweighting validation datasets (liklihood ratios).__\n",
    "\n",
    "It will cover how to:\n",
    "\n",
    "- train a classifier between two samples drawn from a Gaussian distribution, $\\mathcal{N}(\\mu, 1)$, with different mean $\\mu$\n",
    "\n",
    "- parametrize the classifier to reweight from $\\mathcal{N}(0, 1)$ to $\\mathcal{N}(\\mu, 1)$ for any $\\mu$. \n",
    "\n",
    "- use a parametried classifier to infer what $\\mu$ a sample was created with. "
   ]
  },
  {
   "cell_type": "markdown",
   "metadata": {},
   "source": [
    "## Imports"
   ]
  },
  {
   "cell_type": "code",
   "execution_count": 1,
   "metadata": {
    "ExecuteTime": {
     "end_time": "2020-06-04T08:36:38.455376Z",
     "start_time": "2020-06-04T08:36:35.563384Z"
    }
   },
   "outputs": [],
   "source": [
    "# standard library imports\n",
    "from __future__ import absolute_import, division, print_function\n",
    "\n",
    "import tensorflow as tf\n",
    "from tensorflow.keras.layers import Lambda, Dense, Input, Layer, Dropout\n",
    "from tensorflow.keras.models import Model\n",
    "from sklearn.model_selection import train_test_split\n",
    "from tensorflow.keras.utils import to_categorical\n",
    "from tensorflow.keras.callbacks import EarlyStopping, LambdaCallback\n",
    "from tensorflow.keras.initializers import Constant\n",
    "from tensorflow.keras.backend import concatenate\n",
    "\n",
    "# standard numerical library imports\n",
    "import numpy as np\n",
    "import scipy as sp\n",
    "\n",
    "import matplotlib.pyplot as plt"
   ]
  },
  {
   "cell_type": "code",
   "execution_count": 2,
   "metadata": {
    "ExecuteTime": {
     "end_time": "2020-06-04T08:36:38.464921Z",
     "start_time": "2020-06-04T08:36:38.458664Z"
    }
   },
   "outputs": [],
   "source": [
    "# Global plot settings\n",
    "from matplotlib import rc\n",
    "import matplotlib.font_manager\n",
    "rc('font', family='serif')\n",
    "rc('text', usetex=True)\n",
    "rc('font', size=22) \n",
    "rc('xtick', labelsize=15) \n",
    "rc('ytick', labelsize=15) \n",
    "rc('legend', fontsize=15)"
   ]
  },
  {
   "cell_type": "markdown",
   "metadata": {},
   "source": [
    "The reweighted $\\mu=0$ dataset matches the $\\mu=1$!"
   ]
  },
  {
   "cell_type": "markdown",
   "metadata": {},
   "source": [
    "# Reweighting $\\mathcal{N}(0, 1)$ to $\\mathcal{N}(\\mu, 1)$ with one model for any $\\mu$"
   ]
  },
  {
   "cell_type": "markdown",
   "metadata": {},
   "source": [
    "We will now parametrize our network by giving it a $\\mu$ value in addition to $X_i\\sim\\mathcal{N}(\\mu, 1)$.\n",
    "\n",
    "First we uniformly sample $\\mu$ values in some range"
   ]
  },
  {
   "cell_type": "code",
   "execution_count": 3,
   "metadata": {
    "ExecuteTime": {
     "end_time": "2020-06-04T08:36:38.569162Z",
     "start_time": "2020-06-04T08:36:38.467988Z"
    }
   },
   "outputs": [],
   "source": [
    "n_data_points = 10**6\n",
    "mu_min = -2\n",
    "mu_max = 2\n",
    "mu_values1 = np.random.uniform(mu_min, mu_max, n_data_points) \n",
    "mu_values2 = np.random.uniform(mu_min, mu_max, 4*n_data_points) # Note 4*"
   ]
  },
  {
   "cell_type": "markdown",
   "metadata": {},
   "source": [
    "We then sample from normal distributions with this $\\mu$ value"
   ]
  },
  {
   "cell_type": "code",
   "execution_count": 4,
   "metadata": {
    "ExecuteTime": {
     "end_time": "2020-06-04T08:37:08.746317Z",
     "start_time": "2020-06-04T08:36:38.571782Z"
    }
   },
   "outputs": [],
   "source": [
    "X0 = [(np.random.normal(0, 1), mu) for mu in mu_values1] # Note the zero in normal(0, 1) \n",
    "X1 = [(np.random.normal(mu, 1), mu) for mu in mu_values2] #X1 will be x4 the size of X0"
   ]
  },
  {
   "cell_type": "markdown",
   "metadata": {},
   "source": [
    "Please note that the samples in X0 are not paired with $\\mu=0$ as this would make the task trivial. \n",
    "\n",
    "Instead it is paired with the $\\mu$ values uniformly sampled in the specified range [mu_min, mu_max].\n",
    "\n",
    "For every value of $\\mu$ in mu_values, the network sees one event drawn from $\\mathcal{N}(0,1)$ and $\\mathcal{N}(\\mu,1)$, and it learns to classify them. \n",
    "\n",
    "I.e. we have one network that's parametrized by $\\mu$ that classifies between events from $\\mathcal{N}(0,1)$ and $\\mathcal{N}(\\mu,1)$, and a trained network will give us the likelihood ratio to reweight from one to another. "
   ]
  },
  {
   "cell_type": "code",
   "execution_count": 5,
   "metadata": {
    "ExecuteTime": {
     "end_time": "2020-06-04T08:37:12.895863Z",
     "start_time": "2020-06-04T08:37:08.749343Z"
    }
   },
   "outputs": [
    {
     "name": "stdout",
     "output_type": "stream",
     "text": [
      "(4000000, 2)\n",
      "(1000000, 2)\n",
      "(4000000, 2)\n",
      "(1000000, 2)\n"
     ]
    }
   ],
   "source": [
    "Y0 = to_categorical(np.zeros(n_data_points), num_classes=2)\n",
    "Y1 = to_categorical(np.ones(4*n_data_points), num_classes=2)\n",
    "\n",
    "X = np.concatenate((X0, X1))\n",
    "Y = np.concatenate((Y0, Y1))\n",
    "\n",
    "X_train, X_test, Y_train, Y_test = train_test_split(X, Y, test_size=0.2)\n",
    "print(np.shape(X_train))\n",
    "print(np.shape(X_test))\n",
    "print(np.shape(Y_train))\n",
    "print(np.shape(Y_test))"
   ]
  },
  {
   "cell_type": "markdown",
   "metadata": {},
   "source": [
    "## Build Model"
   ]
  },
  {
   "cell_type": "code",
   "execution_count": 6,
   "metadata": {
    "ExecuteTime": {
     "end_time": "2020-06-04T08:37:13.112797Z",
     "start_time": "2020-06-04T08:37:12.898284Z"
    }
   },
   "outputs": [
    {
     "name": "stdout",
     "output_type": "stream",
     "text": [
      "WARNING:tensorflow:From /home/asuresh/.local/lib/python3.5/site-packages/tensorflow_core/python/ops/resource_variable_ops.py:1630: calling BaseResourceVariable.__init__ (from tensorflow.python.ops.resource_variable_ops) with constraint is deprecated and will be removed in a future version.\n",
      "Instructions for updating:\n",
      "If using Keras pass *_constraint arguments to layers.\n"
     ]
    }
   ],
   "source": [
    "inputs = Input((2,))\n",
    "hidden_layer_1 = Dense(50, activation='relu')(inputs)\n",
    "hidden_layer_2 = Dense(50, activation='relu')(hidden_layer_1)\n",
    "hidden_layer_3 = Dense(50, activation='relu')(hidden_layer_2)\n",
    "\n",
    "outputs = Dense(2, activation='softmax')(hidden_layer_3)\n",
    "\n",
    "dctr_model = Model(inputs = inputs, outputs = outputs)\n",
    "dctr_model.compile(loss='categorical_crossentropy', optimizer='Adam', metrics =['accuracy'])"
   ]
  },
  {
   "cell_type": "markdown",
   "metadata": {},
   "source": [
    "## Train DCTR model"
   ]
  },
  {
   "cell_type": "code",
   "execution_count": 7,
   "metadata": {
    "ExecuteTime": {
     "end_time": "2020-06-04T08:42:11.301981Z",
     "start_time": "2020-06-04T08:37:13.116059Z"
    },
    "scrolled": false
   },
   "outputs": [
    {
     "name": "stdout",
     "output_type": "stream",
     "text": [
      "Train on 4000000 samples, validate on 1000000 samples\n",
      "Epoch 1/200\n",
      "4000000/4000000 [==============================] - 6s 2us/sample - loss: 0.4261 - acc: 0.8207 - val_loss: 0.4128 - val_acc: 0.8255\n",
      "Epoch 2/200\n",
      "4000000/4000000 [==============================] - 6s 2us/sample - loss: 0.4130 - acc: 0.8256 - val_loss: 0.4123 - val_acc: 0.8258\n",
      "Epoch 3/200\n",
      "4000000/4000000 [==============================] - 6s 2us/sample - loss: 0.4128 - acc: 0.8256 - val_loss: 0.4121 - val_acc: 0.8260\n",
      "Epoch 4/200\n",
      "4000000/4000000 [==============================] - 6s 2us/sample - loss: 0.4127 - acc: 0.8256 - val_loss: 0.4120 - val_acc: 0.8260\n",
      "Epoch 5/200\n",
      "4000000/4000000 [==============================] - 6s 2us/sample - loss: 0.4127 - acc: 0.8255 - val_loss: 0.4122 - val_acc: 0.8259\n",
      "Epoch 6/200\n",
      "4000000/4000000 [==============================] - 6s 1us/sample - loss: 0.4127 - acc: 0.8256 - val_loss: 0.4121 - val_acc: 0.8258\n",
      "Epoch 7/200\n",
      "4000000/4000000 [==============================] - 6s 2us/sample - loss: 0.4127 - acc: 0.8256 - val_loss: 0.4120 - val_acc: 0.8258\n",
      "Epoch 8/200\n",
      "4000000/4000000 [==============================] - 6s 2us/sample - loss: 0.4127 - acc: 0.8256 - val_loss: 0.4120 - val_acc: 0.8259\n",
      "Epoch 9/200\n",
      "4000000/4000000 [==============================] - 6s 2us/sample - loss: 0.4126 - acc: 0.8255 - val_loss: 0.4120 - val_acc: 0.8260\n",
      "Epoch 10/200\n",
      "4000000/4000000 [==============================] - 6s 2us/sample - loss: 0.4127 - acc: 0.8256 - val_loss: 0.4120 - val_acc: 0.8260\n",
      "Epoch 11/200\n",
      "4000000/4000000 [==============================] - 6s 2us/sample - loss: 0.4127 - acc: 0.8256 - val_loss: 0.4120 - val_acc: 0.8259\n",
      "Epoch 12/200\n",
      "4000000/4000000 [==============================] - 6s 2us/sample - loss: 0.4127 - acc: 0.8255 - val_loss: 0.4120 - val_acc: 0.8260\n",
      "Epoch 13/200\n",
      "4000000/4000000 [==============================] - 6s 2us/sample - loss: 0.4126 - acc: 0.8255 - val_loss: 0.4120 - val_acc: 0.8259\n",
      "Epoch 14/200\n",
      "4000000/4000000 [==============================] - 6s 2us/sample - loss: 0.4126 - acc: 0.8256 - val_loss: 0.4124 - val_acc: 0.8257\n",
      "Epoch 15/200\n",
      "4000000/4000000 [==============================] - 6s 2us/sample - loss: 0.4126 - acc: 0.8256 - val_loss: 0.4121 - val_acc: 0.8259\n",
      "Epoch 16/200\n",
      "4000000/4000000 [==============================] - 6s 1us/sample - loss: 0.4126 - acc: 0.8256 - val_loss: 0.4121 - val_acc: 0.8260\n",
      "Epoch 17/200\n",
      "4000000/4000000 [==============================] - 6s 2us/sample - loss: 0.4126 - acc: 0.8256 - val_loss: 0.4120 - val_acc: 0.8259\n",
      "Epoch 18/200\n",
      "4000000/4000000 [==============================] - 6s 2us/sample - loss: 0.4126 - acc: 0.8256 - val_loss: 0.4120 - val_acc: 0.8259\n",
      "Epoch 19/200\n",
      "4000000/4000000 [==============================] - 6s 2us/sample - loss: 0.4126 - acc: 0.8256 - val_loss: 0.4120 - val_acc: 0.8260\n",
      "Epoch 20/200\n",
      "4000000/4000000 [==============================] - 6s 2us/sample - loss: 0.4126 - acc: 0.8256 - val_loss: 0.4119 - val_acc: 0.8260\n",
      "Epoch 21/200\n",
      "4000000/4000000 [==============================] - 6s 2us/sample - loss: 0.4126 - acc: 0.8256 - val_loss: 0.4120 - val_acc: 0.8259\n",
      "Epoch 22/200\n",
      "4000000/4000000 [==============================] - 6s 1us/sample - loss: 0.4126 - acc: 0.8256 - val_loss: 0.4120 - val_acc: 0.8259\n",
      "Epoch 23/200\n",
      "4000000/4000000 [==============================] - 6s 2us/sample - loss: 0.4126 - acc: 0.8256 - val_loss: 0.4120 - val_acc: 0.8259\n",
      "Epoch 24/200\n",
      "4000000/4000000 [==============================] - 6s 2us/sample - loss: 0.4126 - acc: 0.8256 - val_loss: 0.4121 - val_acc: 0.8259\n",
      "Epoch 25/200\n",
      "4000000/4000000 [==============================] - 6s 2us/sample - loss: 0.4126 - acc: 0.8256 - val_loss: 0.4120 - val_acc: 0.8259\n",
      "Epoch 26/200\n",
      "4000000/4000000 [==============================] - 6s 2us/sample - loss: 0.4126 - acc: 0.8256 - val_loss: 0.4120 - val_acc: 0.8259\n",
      "Epoch 27/200\n",
      "4000000/4000000 [==============================] - 6s 2us/sample - loss: 0.4126 - acc: 0.8256 - val_loss: 0.4120 - val_acc: 0.8259\n",
      "Epoch 28/200\n",
      "4000000/4000000 [==============================] - 6s 2us/sample - loss: 0.4126 - acc: 0.8256 - val_loss: 0.4120 - val_acc: 0.8259\n",
      "Epoch 29/200\n",
      "4000000/4000000 [==============================] - 6s 2us/sample - loss: 0.4126 - acc: 0.8256 - val_loss: 0.4120 - val_acc: 0.8259\n",
      "Epoch 30/200\n",
      "4000000/4000000 [==============================] - 6s 2us/sample - loss: 0.4126 - acc: 0.8256 - val_loss: 0.4119 - val_acc: 0.8259\n",
      "Epoch 31/200\n",
      "4000000/4000000 [==============================] - 6s 2us/sample - loss: 0.4126 - acc: 0.8256 - val_loss: 0.4120 - val_acc: 0.8258\n",
      "Epoch 32/200\n",
      "4000000/4000000 [==============================] - 6s 1us/sample - loss: 0.4126 - acc: 0.8256 - val_loss: 0.4121 - val_acc: 0.8258\n",
      "Epoch 33/200\n",
      "4000000/4000000 [==============================] - 6s 2us/sample - loss: 0.4126 - acc: 0.8256 - val_loss: 0.4120 - val_acc: 0.8260\n",
      "Epoch 34/200\n",
      "4000000/4000000 [==============================] - 6s 2us/sample - loss: 0.4126 - acc: 0.8256 - val_loss: 0.4120 - val_acc: 0.8259\n",
      "Epoch 35/200\n",
      "4000000/4000000 [==============================] - 6s 2us/sample - loss: 0.4126 - acc: 0.8256 - val_loss: 0.4120 - val_acc: 0.8259\n",
      "Epoch 36/200\n",
      "4000000/4000000 [==============================] - 6s 2us/sample - loss: 0.4126 - acc: 0.8256 - val_loss: 0.4120 - val_acc: 0.8259\n",
      "Epoch 37/200\n",
      "4000000/4000000 [==============================] - 6s 2us/sample - loss: 0.4126 - acc: 0.8256 - val_loss: 0.4120 - val_acc: 0.8259\n",
      "Epoch 38/200\n",
      "4000000/4000000 [==============================] - 6s 1us/sample - loss: 0.4126 - acc: 0.8257 - val_loss: 0.4120 - val_acc: 0.8260\n",
      "Epoch 39/200\n",
      "4000000/4000000 [==============================] - 6s 1us/sample - loss: 0.4126 - acc: 0.8256 - val_loss: 0.4119 - val_acc: 0.8260\n",
      "Epoch 40/200\n",
      "4000000/4000000 [==============================] - 6s 2us/sample - loss: 0.4126 - acc: 0.8256 - val_loss: 0.4120 - val_acc: 0.8259\n",
      "Epoch 41/200\n",
      "4000000/4000000 [==============================] - 6s 2us/sample - loss: 0.4126 - acc: 0.8256 - val_loss: 0.4120 - val_acc: 0.8259\n",
      "Epoch 42/200\n",
      "4000000/4000000 [==============================] - 6s 2us/sample - loss: 0.4126 - acc: 0.8256 - val_loss: 0.4123 - val_acc: 0.8258\n",
      "Epoch 43/200\n",
      "4000000/4000000 [==============================] - 6s 2us/sample - loss: 0.4126 - acc: 0.8256 - val_loss: 0.4120 - val_acc: 0.8260\n",
      "Epoch 44/200\n",
      "4000000/4000000 [==============================] - 6s 2us/sample - loss: 0.4126 - acc: 0.8256 - val_loss: 0.4120 - val_acc: 0.8259\n",
      "Epoch 45/200\n",
      "4000000/4000000 [==============================] - 6s 2us/sample - loss: 0.4126 - acc: 0.8256 - val_loss: 0.4122 - val_acc: 0.8258\n",
      "Epoch 46/200\n",
      "4000000/4000000 [==============================] - 6s 2us/sample - loss: 0.4126 - acc: 0.8256 - val_loss: 0.4119 - val_acc: 0.8259\n",
      "Epoch 47/200\n",
      "4000000/4000000 [==============================] - 6s 2us/sample - loss: 0.4126 - acc: 0.8256 - val_loss: 0.4119 - val_acc: 0.8260\n",
      "Epoch 48/200\n",
      "4000000/4000000 [==============================] - 6s 1us/sample - loss: 0.4126 - acc: 0.8256 - val_loss: 0.4119 - val_acc: 0.8259\n",
      "Epoch 49/200\n",
      "4000000/4000000 [==============================] - 6s 1us/sample - loss: 0.4126 - acc: 0.8256 - val_loss: 0.4120 - val_acc: 0.8259\n"
     ]
    },
    {
     "data": {
      "text/plain": [
       "<tensorflow.python.keras.callbacks.History at 0x7f3017281ba8>"
      ]
     },
     "execution_count": 7,
     "metadata": {},
     "output_type": "execute_result"
    }
   ],
   "source": [
    "earlystopping = EarlyStopping(patience = 10,\n",
    "                              restore_best_weights=True)\n",
    "dctr_model.fit(X_train, Y_train, \n",
    "          epochs=200, \n",
    "          batch_size = 10000,\n",
    "          validation_data = (X_test, Y_test),\n",
    "          callbacks = [earlystopping])"
   ]
  },
  {
   "cell_type": "markdown",
   "metadata": {},
   "source": [
    "## Validate DCTR for any $\\mu$"
   ]
  },
  {
   "cell_type": "code",
   "execution_count": 8,
   "metadata": {
    "ExecuteTime": {
     "end_time": "2020-06-04T08:42:11.543035Z",
     "start_time": "2020-06-04T08:42:11.305421Z"
    }
   },
   "outputs": [],
   "source": [
    "mu1 = -1.5\n",
    "assert mu1>=mu_min and mu1<=mu_max # choose mu1 in valid range\n",
    "\n",
    "X0_val = np.random.normal(0, 1, 3*n_data_points) # X0_val will be 3x the size of X1_val\n",
    "X1_val = np.random.normal(mu1, 1, n_data_points)"
   ]
  },
  {
   "cell_type": "code",
   "execution_count": 9,
   "metadata": {
    "ExecuteTime": {
     "end_time": "2020-06-04T08:42:14.893205Z",
     "start_time": "2020-06-04T08:42:11.545572Z"
    }
   },
   "outputs": [],
   "source": [
    "X_input = np.array([(x, mu1) for x in X0_val])"
   ]
  },
  {
   "cell_type": "code",
   "execution_count": 10,
   "metadata": {
    "ExecuteTime": {
     "end_time": "2020-06-04T08:43:11.101729Z",
     "start_time": "2020-06-04T08:42:14.895857Z"
    }
   },
   "outputs": [
    {
     "name": "stdout",
     "output_type": "stream",
     "text": [
      "0.08333333333333333\n"
     ]
    }
   ],
   "source": [
    "preds = dctr_model.predict(X_input)\n",
    "\n",
    "liklihood_raio_train = len(X0) / len(X1)\n",
    "liklihood_raio_val = len(X1_val) / len(X0_val)\n",
    "liklihood_ratio = liklihood_raio_train * liklihood_raio_val\n",
    "print(liklihood_ratio)\n",
    "\n",
    "weights = liklihood_ratio * (preds[:, 1] / preds[:, 0])"
   ]
  },
  {
   "cell_type": "code",
   "execution_count": 13,
   "metadata": {
    "ExecuteTime": {
     "end_time": "2020-06-04T08:43:21.028485Z",
     "start_time": "2020-06-04T08:43:19.770716Z"
    }
   },
   "outputs": [
    {
     "data": {
      "image/png": "[encoded data removed]",
      "text/plain": [
       "<Figure size 432x288 with 1 Axes>"
      ]
     },
     "metadata": {
      "needs_background": "light"
     },
     "output_type": "display_data"
    }
   ],
   "source": [
    "clip_val = 3\n",
    "bins = np.linspace(0, clip_val, 101)\n",
    "plt.hist(np.clip(weights, 0, clip_val), bins = bins)\n",
    "plt.xlabel(\"Weight\")\n",
    "plt.ylabel('Count')\n",
    "plt.title(r\"Weights $\\mu = 0 \\rightarrow \\mu = -1.5$\", fontsize = 20)\n",
    "plt.show()"
   ]
  },
  {
   "cell_type": "code",
   "execution_count": 12,
   "metadata": {
    "ExecuteTime": {
     "end_time": "2020-06-04T08:43:14.214721Z",
     "start_time": "2020-06-04T08:43:12.825913Z"
    }
   },
   "outputs": [
    {
     "data": {
      "image/png": "[encoded data removed]",
      "text/plain": [
       "<Figure size 432x288 with 1 Axes>"
      ]
     },
     "metadata": {
      "needs_background": "light"
     },
     "output_type": "display_data"
    }
   ],
   "source": [
    "bins = np.linspace(-6,5,31)\n",
    "plt.hist(X0_val, bins = bins, alpha = 0.5, label = r'$\\mu=0$')\n",
    "plt.hist(X0_val, bins = bins, label = r'$\\mu=0$ wgt.', weights=weights, histtype='step', color='k')\n",
    "plt.hist(X1_val, bins = bins, alpha = 0.5, label = r'$\\mu={}$'.format(mu1))\n",
    "plt.legend()\n",
    "plt.show()"
   ]
  },
  {
   "cell_type": "code",
   "execution_count": null,
   "metadata": {},
   "outputs": [],
   "source": []
  }
 ],
 "metadata": {
  "kernelspec": {
   "display_name": "Python 3",
   "language": "python",
   "name": "python3"
  },
  "language_info": {
   "codemirror_mode": {
    "name": "ipython",
    "version": 3
   },
   "file_extension": ".py",
   "mimetype": "text/x-python",
   "name": "python",
   "nbconvert_exporter": "python",
   "pygments_lexer": "ipython3",
   "version": "3.5.2"
  },
  "toc": {
   "base_numbering": 1,
   "nav_menu": {},
   "number_sections": false,
   "sideBar": true,
   "skip_h1_title": false,
   "title_cell": "Table of Contents",
   "title_sidebar": "Contents",
   "toc_cell": false,
   "toc_position": {},
   "toc_section_display": true,
   "toc_window_display": false
  }
 },
 "nbformat": 4,
 "nbformat_minor": 2
}
