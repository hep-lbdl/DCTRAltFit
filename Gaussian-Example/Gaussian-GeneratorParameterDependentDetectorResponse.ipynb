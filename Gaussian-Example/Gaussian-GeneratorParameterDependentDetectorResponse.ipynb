{
 "cells": [
  {
   "cell_type": "code",
   "execution_count": 1,
   "metadata": {
    "ExecuteTime": {
     "end_time": "2020-10-06T16:27:21.804459Z",
     "start_time": "2020-10-06T16:27:21.799920Z"
    }
   },
   "outputs": [],
   "source": [
    "import os\n",
    "os.environ[\"CUDA_DEVICE_ORDER\"] = \"PCI_BUS_ID\"\n",
    "os.environ[\"CUDA_VISIBLE_DEVICES\"] = \"0\""
   ]
  },
  {
   "cell_type": "code",
   "execution_count": 2,
   "metadata": {
    "ExecuteTime": {
     "end_time": "2020-10-06T16:27:24.414938Z",
     "start_time": "2020-10-06T16:27:21.812622Z"
    }
   },
   "outputs": [
    {
     "name": "stderr",
     "output_type": "stream",
     "text": [
      "Using TensorFlow backend.\n"
     ]
    }
   ],
   "source": [
    "# standard library imports\n",
    "from __future__ import absolute_import, division, print_function\n",
    "\n",
    "import numpy as np\n",
    "from matplotlib import pyplot as plt\n",
    "from matplotlib.patches import Patch\n",
    "\n",
    "from sklearn.model_selection import train_test_split\n",
    "\n",
    "import tensorflow as tf\n",
    "from keras.layers import Dense, Input\n",
    "from keras.models import Model\n",
    "from keras.utils import to_categorical\n",
    "from keras.callbacks import EarlyStopping\n",
    "import keras"
   ]
  },
  {
   "cell_type": "code",
   "execution_count": 3,
   "metadata": {
    "ExecuteTime": {
     "end_time": "2020-10-06T16:27:24.422602Z",
     "start_time": "2020-10-06T16:27:24.417460Z"
    }
   },
   "outputs": [],
   "source": [
    "# Global plot settings\n",
    "from matplotlib import rc\n",
    "import matplotlib.font_manager\n",
    "from matplotlib.font_manager import FontProperties\n",
    "\n",
    "rc('font', family='serif')\n",
    "rc('text', usetex=True)\n",
    "rc('font', size=22)\n",
    "rc('xtick', labelsize=15)\n",
    "rc('ytick', labelsize=15)\n",
    "rc('legend', fontsize=15)"
   ]
  },
  {
   "cell_type": "code",
   "execution_count": 4,
   "metadata": {
    "ExecuteTime": {
     "end_time": "2020-10-06T16:27:24.435657Z",
     "start_time": "2020-10-06T16:27:24.425345Z"
    },
    "scrolled": true
   },
   "outputs": [
    {
     "name": "stdout",
     "output_type": "stream",
     "text": [
      "1.15.0\n",
      "2.2.4\n"
     ]
    }
   ],
   "source": [
    "# Check Versions\n",
    "print(tf.__version__)  # 1.15.0\n",
    "print(keras.__version__)  # 2.2.4"
   ]
  },
  {
   "cell_type": "markdown",
   "metadata": {},
   "source": [
    "# The SRGN fitting algorithm\n",
    "\n",
    "The DCTR paper ([arXiv:1907.08209](https://arxiv.org/abs/1907.08209)) shows how a continuously parameterized NN used for reweighting:\n",
    "\n",
    "$f(x,\\theta)=\\text{argmax}_{f'}(\\sum_{i\\in\\bf{\\theta}_0}\\log f'(x_i,\\theta)+\\sum_{i\\in\\bf{\\theta}}\\log (1-f'(x_i,\\theta)))$\n",
    "\n",
    "can also be used for fitting:\n",
    "\n",
    "$\\theta^*=\\text{argmax}_{\\theta'}(\\sum_{i\\in\\bf{\\theta}_0}\\log f(x_i,\\theta')+\\sum_{i\\in\\bf{\\theta}}\\log (1-f(x_i,\\theta')))$\n",
    "\n",
    "This works well when the reweighting and fitting happen on the same 'level'.  However, if the reweighting happens at generator-level (before detector simulation) while the fit happens in simulation (after the effects of the detector), this procedure will not work.  It works only if the reweighting and fitting both happen at simulation-level or both happen at generator-level.  This notebook illustrates the alternative SRGN procedure from [arXiv:2010.03569](https://arxiv.org/abs/2010.03569):\n",
    "\n",
    "Let $x$ and $y$ denote the generator- and simulation-level events respectively. Suppose that $g$ is a neural network defined as follows:\n",
    "\n",
    "$g_{\\theta'}(y)=\\text{argmax}_{g}\\sum_{y_i\\in\\boldsymbol{\\theta_?}}\\log(g_{\\theta'}(y_i))+\n",
    "    \\sum_{(x_i,y_i)\\in\\boldsymbol{\\theta_0}}w_{\\theta_0}(x_i,\\theta')\\log(1-g_{\\theta'}(y_i))$\n",
    "\n",
    "where $w_{\\theta_0}(x,\\theta') = f(x,\\theta')/(1-f(x,\\theta'))$ is a reweighting function learned at generator level (and $\\theta_0$ denotes the nominal value of the parameter).  \n",
    "\n",
    "Then, \n",
    "\n",
    "$\\theta_{\\text{SRGN}}^*\\equiv\\text{argmin}_{\\theta'}\\left[\\Pr(g_{\\theta_?}(y)>g_{\\theta'}(y))\\right]$\n",
    "\n",
    "where the quantity in $[\\cdot]$ is typically called the area under the receiver operating characteristic curve or AUC. We calculate the AUC between $g$’s predictions on events from the unknown sample and  $g$’s predictions on reweighted events from the synthetic sample; effectively, if we reweight events from the synthetic sample $\\boldsymbol{\\theta_0}$ to events from $\\boldsymbol{\\theta’}$, then we calculate the AUC between $g$’s predictions on  $\\boldsymbol{\\theta_?} $and $g$’s predictions on $\\boldsymbol{\\theta’}$.\n",
    "\n",
    "\n",
    "The intuition of the above equation is that the classifier $g$ is trying to distinguish events from the unknown sample $\\boldsymbol{\\theta_?}$ and events from $\\boldsymbol{\\theta'}$ and we try to find a $\\theta'$ that makes $g$'s task maximally hard.  If $g$ can't tell apart the two samples (i.e. the AUC is minimized), then the reweighting has worked! Asympotitically, the SRGN method learns the same result as the one in the body of the DCTR paper: $\\theta^*=\\theta_?$."
   ]
  },
  {
   "cell_type": "markdown",
   "metadata": {},
   "source": [
    "The above SRGN result achieves $\\theta_{\\text{SRGN}}^* = \\theta_?$ when the features $x$ include the full phase space; specifically, this is needed for the reweighting step at simulation-level in the case where multiple features affect the detector response. In this notebook, we examine how reweighting fails unless the full phase space is taken into account."
   ]
  },
  {
   "cell_type": "markdown",
   "metadata": {},
   "source": [
    "The goal of SRGN is to use simulated features with reweighting based on generator-level. In order to show that the features need not be the same at generator-level and simulation-level, $X_G$ is two-dimensional. Then, we construct the detector response such that the simulation-level observable $X_S$ depends explicitly on the primary generator-level feature, but its detector smearing depends on the secondary generator-level feature. That is, detector effects are non-uniform, and are dependent on the generator-level parameter(s).\n",
    "In particular, we choose the primary generator-level feature $X_{G,0}\\sim\\mathcal{N}(\\mu,1)$ and the secondary generator-level observable $X_{G,1}\\sim\\mathcal{N}(0,\\nu^2)$, where  $\\nu=(\\omega_0 + \\omega_1\\mu)^2$ for two constants $\\omega_0$ and $\\omega_1$. (Specifically, we choose $\\omega_0=0.7$ and $\\omega_1=0.2$ for this example.) \n",
    "Then, on a per-event basis, detector effects are emulated by $X_S=X_{G,0}+Z$, where $Z\\sim\\mathcal{N}(4\\lvert x_{G,1}\\rvert,(x_{G,1})^4)$, and $4\\lvert x_{G,1}\\rvert$ represents a net shift bias and $(x_{G,1})^2$ represents a smearing bias. Importantly, the resolution depends on the secondary generator-level feature."
   ]
  },
  {
   "cell_type": "markdown",
   "metadata": {},
   "source": [
    "# Training a DCTR Model\n",
    "First, we need to train a DCTR model to provide us with a reweighting function."
   ]
  },
  {
   "cell_type": "markdown",
   "metadata": {},
   "source": [
    "We will now parametrize our network by giving it a $\\mu$ value in addition to $X_{G,0}\\sim\\mathcal{N}(\\mu, 1)$ and $X_{G,1}\\sim\\mathcal{N}(0, \\nu^2)$.\n",
    "\n",
    "First we uniformly sample $\\mu$ values in some range.\n",
    "We then sample from normal distributions with this $\\mu$ and its respective $\\nu$ value.\n",
    "\n",
    "Please note that the samples in `X0` are not paired with $\\mu=0$ as this would make the task trivial. Instead it is paired with the $\\mu$ values uniformly sampled in the specified range `[mu_min, mu_max]`.\n",
    "\n",
    "For every value of $\\mu$ in mu_values, the network sees one event drawn from $(\\mathcal{N}(0,1),\\mathcal{N}(0,\\nu_{0}^2))$ and $(\\mathcal{N}(\\mu,1),\\mathcal{N}(0,\\nu_{\\mu}^2))$, and it learns to classify them. (i.e. we have one network that's parametrized by $\\mu$ that classifies between events from $(\\mathcal{N}(0,1),\\mathcal{N}(0,\\nu_{0}^2))$ and $(\\mathcal{N}(\\mu,1),\\mathcal{N}(0,\\nu_{\\mu}^2))$, and a trained network will give us the likelihood ratio to reweight from one to another)."
   ]
  },
  {
   "cell_type": "markdown",
   "metadata": {},
   "source": [
    "## Build and Train DCTR model"
   ]
  },
  {
   "cell_type": "code",
   "execution_count": 5,
   "metadata": {
    "ExecuteTime": {
     "end_time": "2020-10-06T16:27:24.443974Z",
     "start_time": "2020-10-06T16:27:24.438882Z"
    }
   },
   "outputs": [],
   "source": [
    "mu0 = 0\n",
    "mu_min, mu_max = -2, 2\n",
    "def nu(theta, omega_0=0.7, omega_1=0.2):\n",
    "    return (omega_0 + omega_1 * theta)**2"
   ]
  },
  {
   "cell_type": "code",
   "execution_count": 6,
   "metadata": {
    "ExecuteTime": {
     "end_time": "2020-10-06T16:27:24.555531Z",
     "start_time": "2020-10-06T16:27:24.446081Z"
    }
   },
   "outputs": [],
   "source": [
    "# GPDDR = Generator parameter dependent detector response\n",
    "\n",
    "def get_dctr(n_data_points=10**7, mu_min=mu_min, mu_max=mu_max, mu0=mu0, GPDDR=True):\n",
    "\n",
    "    # Generate training & validation data\n",
    "    mu_values = np.random.uniform(mu_min, mu_max, n_data_points)\n",
    "    if GPDDR == True:\n",
    "        X0 = [(np.random.normal(mu0, 1), np.random.normal(0, nu(0)), mu)\n",
    "              for mu in mu_values]\n",
    "\n",
    "        X1 = [(np.random.normal(mu, 1), np.random.normal(0, nu(mu)), mu)\n",
    "              for mu in mu_values]\n",
    "    else:\n",
    "        X0 = [(np.random.normal(mu0, 1), mu)\n",
    "              for mu in mu_values]\n",
    "\n",
    "        X1 = [(np.random.normal(mu, 1), mu) for mu in mu_values]\n",
    "\n",
    "    Y0 = to_categorical(np.zeros(n_data_points), num_classes=2)\n",
    "    Y1 = to_categorical(np.ones(n_data_points), num_classes=2)\n",
    "\n",
    "    X = np.concatenate((X0, X1))\n",
    "    Y = np.concatenate((Y0, Y1))\n",
    "\n",
    "    X_train, X_test, Y_train, Y_test = train_test_split(X,\n",
    "                                                        Y,\n",
    "                                                        test_size=0.5)\n",
    "\n",
    "    # Build Model\n",
    "    if GPDDR == True:\n",
    "        inputs = Input((3, ))\n",
    "    else:\n",
    "        inputs = Input((2, ))\n",
    "    hidden_layer_1 = Dense(50, activation='relu')(inputs)\n",
    "    hidden_layer_2 = Dense(50, activation='relu')(hidden_layer_1)\n",
    "    hidden_layer_3 = Dense(50, activation='relu')(hidden_layer_2)\n",
    "    outputs = Dense(2, activation='softmax')(hidden_layer_3)\n",
    "\n",
    "    dctr_model = Model(inputs=inputs, outputs=outputs)\n",
    "    dctr_model.compile(loss='categorical_crossentropy',\n",
    "                       optimizer='Adam',\n",
    "                       metrics=['accuracy'])\n",
    "\n",
    "    # Train Model\n",
    "    earlystopping = EarlyStopping(patience=10, verbose=1, restore_best_weights=True)\n",
    "    dctr_model.fit(X_train,\n",
    "                   Y_train,\n",
    "                   epochs=200,\n",
    "                   batch_size=10000,\n",
    "                   validation_data=(X_test, Y_test),\n",
    "                   callbacks=[earlystopping],\n",
    "                   verbose=1)\n",
    "\n",
    "    return dctr_model"
   ]
  },
  {
   "cell_type": "markdown",
   "metadata": {},
   "source": [
    "### Training Models"
   ]
  },
  {
   "cell_type": "code",
   "execution_count": 7,
   "metadata": {
    "ExecuteTime": {
     "end_time": "2020-10-06T16:40:32.587029Z",
     "start_time": "2020-10-06T16:27:24.558527Z"
    }
   },
   "outputs": [
    {
     "name": "stdout",
     "output_type": "stream",
     "text": [
      "WARNING:tensorflow:From /home/asuresh/.local/lib/python3.5/site-packages/keras/backend/tensorflow_backend.py:74: The name tf.get_default_graph is deprecated. Please use tf.compat.v1.get_default_graph instead.\n",
      "\n",
      "WARNING:tensorflow:From /home/asuresh/.local/lib/python3.5/site-packages/keras/backend/tensorflow_backend.py:517: The name tf.placeholder is deprecated. Please use tf.compat.v1.placeholder instead.\n",
      "\n",
      "WARNING:tensorflow:From /home/asuresh/.local/lib/python3.5/site-packages/keras/backend/tensorflow_backend.py:4138: The name tf.random_uniform is deprecated. Please use tf.random.uniform instead.\n",
      "\n",
      "WARNING:tensorflow:From /home/asuresh/.local/lib/python3.5/site-packages/keras/optimizers.py:790: The name tf.train.Optimizer is deprecated. Please use tf.compat.v1.train.Optimizer instead.\n",
      "\n",
      "WARNING:tensorflow:From /home/asuresh/.local/lib/python3.5/site-packages/keras/backend/tensorflow_backend.py:3295: The name tf.log is deprecated. Please use tf.math.log instead.\n",
      "\n",
      "WARNING:tensorflow:From /home/asuresh/.local/lib/python3.5/site-packages/tensorflow_core/python/ops/math_grad.py:1424: where (from tensorflow.python.ops.array_ops) is deprecated and will be removed in a future version.\n",
      "Instructions for updating:\n",
      "Use tf.where in 2.0, which has the same broadcast rule as np.where\n",
      "WARNING:tensorflow:From /home/asuresh/.local/lib/python3.5/site-packages/keras/backend/tensorflow_backend.py:986: The name tf.assign_add is deprecated. Please use tf.compat.v1.assign_add instead.\n",
      "\n",
      "WARNING:tensorflow:From /home/asuresh/.local/lib/python3.5/site-packages/keras/backend/tensorflow_backend.py:973: The name tf.assign is deprecated. Please use tf.compat.v1.assign instead.\n",
      "\n",
      "WARNING:tensorflow:From /home/asuresh/.local/lib/python3.5/site-packages/keras/backend/tensorflow_backend.py:2741: The name tf.Session is deprecated. Please use tf.compat.v1.Session instead.\n",
      "\n",
      "Train on 10000000 samples, validate on 10000000 samples\n",
      "Epoch 1/200\n",
      "WARNING:tensorflow:From /home/asuresh/.local/lib/python3.5/site-packages/keras/backend/tensorflow_backend.py:174: The name tf.get_default_session is deprecated. Please use tf.compat.v1.get_default_session instead.\n",
      "\n",
      "WARNING:tensorflow:From /home/asuresh/.local/lib/python3.5/site-packages/keras/backend/tensorflow_backend.py:181: The name tf.ConfigProto is deprecated. Please use tf.compat.v1.ConfigProto instead.\n",
      "\n",
      "WARNING:tensorflow:From /home/asuresh/.local/lib/python3.5/site-packages/keras/backend/tensorflow_backend.py:190: The name tf.global_variables is deprecated. Please use tf.compat.v1.global_variables instead.\n",
      "\n",
      "WARNING:tensorflow:From /home/asuresh/.local/lib/python3.5/site-packages/keras/backend/tensorflow_backend.py:199: The name tf.is_variable_initialized is deprecated. Please use tf.compat.v1.is_variable_initialized instead.\n",
      "\n",
      "WARNING:tensorflow:From /home/asuresh/.local/lib/python3.5/site-packages/keras/backend/tensorflow_backend.py:206: The name tf.variables_initializer is deprecated. Please use tf.compat.v1.variables_initializer instead.\n",
      "\n",
      "10000000/10000000 [==============================] - 24s 2us/step - loss: 0.5157 - acc: 0.7155 - val_loss: 0.5069 - val_acc: 0.7204\n",
      "Epoch 2/200\n",
      "10000000/10000000 [==============================] - 23s 2us/step - loss: 0.5069 - acc: 0.7200 - val_loss: 0.5068 - val_acc: 0.7204\n",
      "Epoch 3/200\n",
      "10000000/10000000 [==============================] - 23s 2us/step - loss: 0.5067 - acc: 0.7202 - val_loss: 0.5071 - val_acc: 0.7202\n",
      "Epoch 4/200\n",
      "10000000/10000000 [==============================] - 23s 2us/step - loss: 0.5067 - acc: 0.7202 - val_loss: 0.5066 - val_acc: 0.7205\n",
      "Epoch 5/200\n",
      "10000000/10000000 [==============================] - 23s 2us/step - loss: 0.5066 - acc: 0.7203 - val_loss: 0.5067 - val_acc: 0.7205\n",
      "Epoch 6/200\n",
      "10000000/10000000 [==============================] - 23s 2us/step - loss: 0.5066 - acc: 0.7203 - val_loss: 0.5065 - val_acc: 0.7206\n",
      "Epoch 7/200\n",
      "10000000/10000000 [==============================] - 23s 2us/step - loss: 0.5066 - acc: 0.7203 - val_loss: 0.5067 - val_acc: 0.7204\n",
      "Epoch 8/200\n",
      "10000000/10000000 [==============================] - 23s 2us/step - loss: 0.5065 - acc: 0.7203 - val_loss: 0.5065 - val_acc: 0.7204\n",
      "Epoch 9/200\n",
      "10000000/10000000 [==============================] - 23s 2us/step - loss: 0.5065 - acc: 0.7203 - val_loss: 0.5067 - val_acc: 0.7205\n",
      "Epoch 10/200\n",
      "10000000/10000000 [==============================] - 23s 2us/step - loss: 0.5065 - acc: 0.7204 - val_loss: 0.5064 - val_acc: 0.7207\n",
      "Epoch 11/200\n",
      "10000000/10000000 [==============================] - 23s 2us/step - loss: 0.5065 - acc: 0.7205 - val_loss: 0.5066 - val_acc: 0.7206\n",
      "Epoch 12/200\n",
      "10000000/10000000 [==============================] - 23s 2us/step - loss: 0.5065 - acc: 0.7205 - val_loss: 0.5066 - val_acc: 0.7207\n",
      "Epoch 13/200\n",
      "10000000/10000000 [==============================] - 23s 2us/step - loss: 0.5065 - acc: 0.7204 - val_loss: 0.5065 - val_acc: 0.7207\n",
      "Epoch 14/200\n",
      "10000000/10000000 [==============================] - 23s 2us/step - loss: 0.5065 - acc: 0.7205 - val_loss: 0.5067 - val_acc: 0.7202\n",
      "Epoch 15/200\n",
      "10000000/10000000 [==============================] - 23s 2us/step - loss: 0.5065 - acc: 0.7205 - val_loss: 0.5064 - val_acc: 0.7207\n",
      "Epoch 16/200\n",
      "10000000/10000000 [==============================] - 23s 2us/step - loss: 0.5065 - acc: 0.7204 - val_loss: 0.5066 - val_acc: 0.7203\n",
      "Epoch 17/200\n",
      "10000000/10000000 [==============================] - 23s 2us/step - loss: 0.5065 - acc: 0.7206 - val_loss: 0.5067 - val_acc: 0.7206\n",
      "Epoch 18/200\n",
      "10000000/10000000 [==============================] - 23s 2us/step - loss: 0.5064 - acc: 0.7205 - val_loss: 0.5067 - val_acc: 0.7206\n",
      "Epoch 19/200\n",
      "10000000/10000000 [==============================] - 23s 2us/step - loss: 0.5064 - acc: 0.7205 - val_loss: 0.5066 - val_acc: 0.7206\n",
      "Epoch 20/200\n",
      "10000000/10000000 [==============================] - 23s 2us/step - loss: 0.5064 - acc: 0.7205 - val_loss: 0.5065 - val_acc: 0.7206\n",
      "Epoch 21/200\n",
      "10000000/10000000 [==============================] - 23s 2us/step - loss: 0.5064 - acc: 0.7205 - val_loss: 0.5064 - val_acc: 0.7208\n",
      "Epoch 22/200\n",
      "10000000/10000000 [==============================] - 23s 2us/step - loss: 0.5064 - acc: 0.7206 - val_loss: 0.5064 - val_acc: 0.7207\n",
      "Epoch 23/200\n",
      "10000000/10000000 [==============================] - 23s 2us/step - loss: 0.5064 - acc: 0.7205 - val_loss: 0.5064 - val_acc: 0.7206\n",
      "Epoch 24/200\n",
      "10000000/10000000 [==============================] - 23s 2us/step - loss: 0.5064 - acc: 0.7206 - val_loss: 0.5066 - val_acc: 0.7206\n",
      "Epoch 25/200\n",
      "10000000/10000000 [==============================] - 23s 2us/step - loss: 0.5064 - acc: 0.7205 - val_loss: 0.5065 - val_acc: 0.7206\n",
      "Restoring model weights from the end of the best epoch\n",
      "Epoch 00025: early stopping\n"
     ]
    }
   ],
   "source": [
    "dctr_model = get_dctr()"
   ]
  },
  {
   "cell_type": "code",
   "execution_count": 8,
   "metadata": {
    "ExecuteTime": {
     "end_time": "2020-10-06T16:48:53.501425Z",
     "start_time": "2020-10-06T16:40:32.589616Z"
    },
    "scrolled": true
   },
   "outputs": [
    {
     "name": "stdout",
     "output_type": "stream",
     "text": [
      "Train on 10000000 samples, validate on 10000000 samples\n",
      "Epoch 1/200\n",
      "10000000/10000000 [==============================] - 24s 2us/step - loss: 0.5659 - acc: 0.6831 - val_loss: 0.5632 - val_acc: 0.6836\n",
      "Epoch 2/200\n",
      "10000000/10000000 [==============================] - 23s 2us/step - loss: 0.5630 - acc: 0.6842 - val_loss: 0.5629 - val_acc: 0.6840\n",
      "Epoch 3/200\n",
      "10000000/10000000 [==============================] - 23s 2us/step - loss: 0.5629 - acc: 0.6843 - val_loss: 0.5629 - val_acc: 0.6840\n",
      "Epoch 4/200\n",
      "10000000/10000000 [==============================] - 23s 2us/step - loss: 0.5629 - acc: 0.6843 - val_loss: 0.5628 - val_acc: 0.6840\n",
      "Epoch 5/200\n",
      "10000000/10000000 [==============================] - 23s 2us/step - loss: 0.5629 - acc: 0.6844 - val_loss: 0.5628 - val_acc: 0.6840\n",
      "Epoch 6/200\n",
      "10000000/10000000 [==============================] - 23s 2us/step - loss: 0.5629 - acc: 0.6843 - val_loss: 0.5628 - val_acc: 0.6840\n",
      "Epoch 7/200\n",
      "10000000/10000000 [==============================] - 23s 2us/step - loss: 0.5629 - acc: 0.6843 - val_loss: 0.5627 - val_acc: 0.6841\n",
      "Epoch 8/200\n",
      "10000000/10000000 [==============================] - 23s 2us/step - loss: 0.5629 - acc: 0.6843 - val_loss: 0.5628 - val_acc: 0.6839\n",
      "Epoch 9/200\n",
      "10000000/10000000 [==============================] - 23s 2us/step - loss: 0.5629 - acc: 0.6843 - val_loss: 0.5628 - val_acc: 0.6840\n",
      "Epoch 10/200\n",
      "10000000/10000000 [==============================] - 23s 2us/step - loss: 0.5628 - acc: 0.6843 - val_loss: 0.5630 - val_acc: 0.6839\n",
      "Epoch 11/200\n",
      "10000000/10000000 [==============================] - 23s 2us/step - loss: 0.5628 - acc: 0.6844 - val_loss: 0.5629 - val_acc: 0.6840\n",
      "Epoch 12/200\n",
      "10000000/10000000 [==============================] - 23s 2us/step - loss: 0.5628 - acc: 0.6843 - val_loss: 0.5630 - val_acc: 0.6838\n",
      "Epoch 13/200\n",
      "10000000/10000000 [==============================] - 23s 2us/step - loss: 0.5628 - acc: 0.6844 - val_loss: 0.5627 - val_acc: 0.6841\n",
      "Epoch 14/200\n",
      "10000000/10000000 [==============================] - 23s 2us/step - loss: 0.5628 - acc: 0.6843 - val_loss: 0.5628 - val_acc: 0.6839\n",
      "Epoch 15/200\n",
      "10000000/10000000 [==============================] - 23s 2us/step - loss: 0.5628 - acc: 0.6843 - val_loss: 0.5629 - val_acc: 0.6840\n",
      "Epoch 16/200\n",
      "10000000/10000000 [==============================] - 23s 2us/step - loss: 0.5628 - acc: 0.6843 - val_loss: 0.5628 - val_acc: 0.6841\n",
      "Epoch 17/200\n",
      "10000000/10000000 [==============================] - 23s 2us/step - loss: 0.5628 - acc: 0.6844 - val_loss: 0.5628 - val_acc: 0.6841\n",
      "Restoring model weights from the end of the best epoch\n",
      "Epoch 00017: early stopping\n"
     ]
    }
   ],
   "source": [
    "dctr_original_model = get_dctr(GPDDR=False)"
   ]
  },
  {
   "cell_type": "markdown",
   "metadata": {},
   "source": [
    "### Defining reweighting function\n",
    "\n",
    "$w_{\\theta_0}(x_{G,i},\\theta)=\\frac{f(x_{G,i}\\theta)}{1-f(x_{G,i},\\theta)}$, where $f$  is a fully trained DCTR model.\n",
    "\n",
    "Takes generator-level event $x_{G,i}$ from the synthetic sample $\\boldsymbol{\\theta_0}$ and weights it to an event from $\\boldsymbol{\\theta}$."
   ]
  },
  {
   "cell_type": "code",
   "execution_count": 9,
   "metadata": {
    "ExecuteTime": {
     "end_time": "2020-10-06T16:48:53.511746Z",
     "start_time": "2020-10-06T16:48:53.504695Z"
    }
   },
   "outputs": [],
   "source": [
    "# from NN (DCTR)\n",
    "def reweight(events, param):\n",
    "    # creating array with same length as inputs, with theta_prime in every entry\n",
    "    concat_input_and_params = np.ones(shape=(events.shape[0], 1)) * param\n",
    "    # combining and reshaping into correct format:\n",
    "    model_inputs = np.concatenate((events, concat_input_and_params), axis=-1)\n",
    "    \n",
    "    f = dctr_model.predict(model_inputs, batch_size=1000)\n",
    "    weights = (f[:, 1]) / (f[:, 0])\n",
    "    \n",
    "    return weights"
   ]
  },
  {
   "cell_type": "code",
   "execution_count": 10,
   "metadata": {
    "ExecuteTime": {
     "end_time": "2020-10-06T16:48:53.522769Z",
     "start_time": "2020-10-06T16:48:53.515438Z"
    }
   },
   "outputs": [],
   "source": [
    "# from NN (DCTR)\n",
    "def reweight_original(events, param):\n",
    "    # creating tensor with same length as inputs, with theta_prime in every entry\n",
    "    concat_input_and_params = np.ones(shape=(events.shape[0], 1)) * param\n",
    "    # combining and reshaping into correct format:\n",
    "    model_inputs = np.concatenate((events, concat_input_and_params), axis=-1)\n",
    "    \n",
    "    f = dctr_original_model.predict(model_inputs, batch_size=1000)\n",
    "    weights = (f[:, 1]) / (f[:, 0])\n",
    "\n",
    "    return weights"
   ]
  },
  {
   "cell_type": "markdown",
   "metadata": {},
   "source": [
    "## Validate DCTR for any $\\mu$"
   ]
  },
  {
   "cell_type": "code",
   "execution_count": 11,
   "metadata": {
    "ExecuteTime": {
     "end_time": "2020-10-06T16:48:53.532657Z",
     "start_time": "2020-10-06T16:48:53.525939Z"
    }
   },
   "outputs": [],
   "source": [
    "# Define default plot styles\n",
    "plot_style_0 = {\n",
    "    'histtype': 'step',\n",
    "    'color': 'black',\n",
    "    'linewidth': 2,\n",
    "    'linestyle': '--',\n",
    "    'density': True\n",
    "}\n",
    "\n",
    "plot_style_1 = {\n",
    "    'histtype': 'step',\n",
    "    'color': 'black',\n",
    "    'linewidth': 2,\n",
    "    'density': True\n",
    "}\n",
    "\n",
    "plot_style_2 = {'alpha': 0.5, 'density': True}"
   ]
  },
  {
   "cell_type": "markdown",
   "metadata": {},
   "source": [
    "### Validate for Generator Level"
   ]
  },
  {
   "cell_type": "code",
   "execution_count": 12,
   "metadata": {
    "ExecuteTime": {
     "end_time": "2020-10-06T16:48:56.079134Z",
     "start_time": "2020-10-06T16:48:53.535031Z"
    }
   },
   "outputs": [],
   "source": [
    "mu1 = 1.5\n",
    "assert mu1 >= mu_min and mu1 <= mu_max  # choose mu1 in valid range\n",
    "X0_val_G_0 = np.random.normal(0, 1, 10**7)\n",
    "X0_val_G_1 = np.random.normal(0, nu(0), 10**7)\n",
    "X0_val_G = np.stack((X0_val_G_0, X0_val_G_1), axis=-1)\n",
    "\n",
    "X1_val_G_0 = np.random.normal(mu1, 1, 10**7)\n",
    "X1_val_G_1 = np.random.normal(0, nu(mu1), 10**7)\n",
    "X1_val_G = np.stack((X1_val_G_0, X1_val_G_1), axis=-1)"
   ]
  },
  {
   "cell_type": "code",
   "execution_count": 13,
   "metadata": {
    "ExecuteTime": {
     "end_time": "2020-10-06T16:49:22.012436Z",
     "start_time": "2020-10-06T16:48:56.081309Z"
    }
   },
   "outputs": [],
   "source": [
    "weights = reweight(X0_val_G, mu1)\n",
    "weights_original = reweight_original(X0_val_G[:,:1], mu1)"
   ]
  },
  {
   "cell_type": "code",
   "execution_count": 14,
   "metadata": {
    "ExecuteTime": {
     "end_time": "2020-10-06T16:49:31.415136Z",
     "start_time": "2020-10-06T16:49:22.015419Z"
    }
   },
   "outputs": [
    {
     "data": {
      "image/png": "[encoded data removed]",
      "text/plain": [
       "<Figure size 1008x360 with 2 Axes>"
      ]
     },
     "metadata": {
      "needs_background": "light"
     },
     "output_type": "display_data"
    }
   ],
   "source": [
    "fig, ax = plt.subplots(1, 2, figsize=(14, 5))\n",
    "\n",
    "bins = np.linspace(-6, 6, 31)\n",
    "ax[0].hist(X0_val_G[:, 0], bins=bins, label=r'$\\mu={}$'.format(mu0), **plot_style_2)\n",
    "ax[0].hist(X0_val_G[:, 0],\n",
    "         bins=bins,\n",
    "           label='$\\mu={}$\\n'.format(mu0) + r'$\\textnormal{DCTR}_{\\Omega}$ wgt.',\n",
    "         weights=weights, **plot_style_0)\n",
    "ax[0].hist(X0_val_G[:, 0],\n",
    "         bins=bins,\n",
    "           label='$\\mu={}$\\n'.format(mu0) + r'$\\textnormal{DCTR}_{\\Omega\\mkern-10mu/}$ wgt.',\n",
    "         weights=weights_original, **plot_style_1)\n",
    "ax[0].hist(X1_val_G[:, 0], bins=bins, label=r'$\\mu={}$'.format(mu1), **plot_style_2)\n",
    "ax[0].set_xlabel(r'$x_{G,0}$')\n",
    "ax[0].set_ylabel(\"Events per bin (normalized)\")\n",
    "ax[0].legend(frameon=False, loc='upper left')\n",
    "\n",
    "ax[1].hist(X0_val_G[:, 1], bins=bins, label=r'$\\mu={}$'.format(mu0), **plot_style_2)\n",
    "ax[1].hist(X0_val_G[:, 1],\n",
    "         bins=bins,\n",
    "           label='$\\mu={}$\\n'.format(mu0) + r'$\\textnormal{DCTR}_{\\Omega}$ wgt.',\n",
    "         weights=weights, **plot_style_0)\n",
    "ax[1].hist(X1_val_G[:, 1], bins=bins, label=r'$\\mu={}$'.format(mu1), **plot_style_2)\n",
    "ax[1].set_xlabel(r'$x_{G,1}$')\n",
    "ax[1].set_ylabel(\"Events per bin (normalized)\")\n",
    "ax[1].legend(frameon=False, loc='upper left')\n",
    "\n",
    "fig.show()"
   ]
  },
  {
   "cell_type": "markdown",
   "metadata": {},
   "source": [
    "### Validate for simulation-level"
   ]
  },
  {
   "cell_type": "markdown",
   "metadata": {},
   "source": [
    "Detector effects are emulated by $X_S=X_{G,0}+Z$, where $Z\\sim\\mathcal{N}(4\\lvert X_{G,1}\\rvert,(X_{G,1})^4)$, and $4\\lvert X_{G,1}\\rvert$ represents some net shifting bias and $(X_{G,1})^2$ represents a smearing bias. Importantly, the resolution depends on the secondary generator-level feature."
   ]
  },
  {
   "cell_type": "code",
   "execution_count": 15,
   "metadata": {
    "ExecuteTime": {
     "end_time": "2020-10-06T16:51:39.591024Z",
     "start_time": "2020-10-06T16:49:31.417684Z"
    }
   },
   "outputs": [],
   "source": [
    "# Generate simulation-level by smearing generator-level\n",
    "\n",
    "X0_val_S = np.array([(x[0] + np.random.normal(4*abs(x[1]), x[1]**2))\n",
    "                         for x in X0_val_G])  # Detector smearing\n",
    "X1_val_S = np.array([(x[0] + np.random.normal(4*abs(x[1]), x[1]**2))\n",
    "                         for x in X1_val_G])  # Detector smearing"
   ]
  },
  {
   "cell_type": "code",
   "execution_count": 16,
   "metadata": {
    "ExecuteTime": {
     "end_time": "2020-10-06T16:51:45.441258Z",
     "start_time": "2020-10-06T16:51:39.592959Z"
    }
   },
   "outputs": [
    {
     "name": "stderr",
     "output_type": "stream",
     "text": [
      "No handles with labels found to put in legend.\n",
      "No handles with labels found to put in legend.\n"
     ]
    },
    {
     "data": {
      "image/png": "[encoded data removed]",
      "text/plain": [
       "<Figure size 864x360 with 2 Axes>"
      ]
     },
     "metadata": {
      "needs_background": "light"
     },
     "output_type": "display_data"
    }
   ],
   "source": [
    "fig, ax = plt.subplots(1,\n",
    "                       2,\n",
    "                       figsize=(12, 5),\n",
    "                       constrained_layout=True,\n",
    "                       sharey=True)\n",
    "\n",
    "bins = np.linspace(-4, 16, 51)\n",
    "\n",
    "ax[0].set_xlabel(\"$x$\")\n",
    "ax[0].set_ylabel('Events per bin (normalized)')\n",
    "ax[0].hist(X0_val_G[:, 0], bins=bins, **plot_style_2)\n",
    "ax[0].hist(X0_val_S, bins=bins, **plot_style_2)\n",
    "ax[0].legend(title=r'$\\mu={}$'.format(mu0), loc='upper left', frameon=False)\n",
    "\n",
    "ax[1].set_xlabel(\"$x$\")\n",
    "ax[1].hist(X1_val_G[:, 0], bins=bins, **plot_style_2)\n",
    "ax[1].hist(X1_val_S, bins=bins, **plot_style_2)\n",
    "ax[1].legend(title=r'$\\mu={}$'.format(mu1), loc='upper left', frameon=False)\n",
    "\n",
    "handles = [Patch(facecolor='C0', alpha=0.5), Patch(facecolor='C1', alpha=0.5)]\n",
    "labels = ['Generator', 'Simulation']\n",
    "fig.legend(handles, labels, ncol=2, bbox_to_anchor=(0.66, 1.1))\n",
    "\n",
    "fig.show()"
   ]
  },
  {
   "cell_type": "code",
   "execution_count": 17,
   "metadata": {
    "ExecuteTime": {
     "end_time": "2020-10-06T16:51:50.552256Z",
     "start_time": "2020-10-06T16:51:45.443900Z"
    },
    "scrolled": true
   },
   "outputs": [
    {
     "data": {
      "image/png": "[encoded data removed]",
      "text/plain": [
       "<Figure size 432x360 with 1 Axes>"
      ]
     },
     "metadata": {
      "needs_background": "light"
     },
     "output_type": "display_data"
    }
   ],
   "source": [
    "bins = np.linspace(-4, 16, 51)\n",
    "plt.figure(figsize=(6,5))\n",
    "plt.hist(X0_val_S, bins=bins, label=r'$\\mu=0$', **plot_style_2)\n",
    "plt.hist(X0_val_S,\n",
    "         bins=bins,\n",
    "         label='$\\mu={}$\\n'.format(mu0) + r'$\\textnormal{DCTR}_{\\Omega}$ wgt.',\n",
    "         weights=weights, **plot_style_0)\n",
    "\n",
    "plt.hist(X0_val_S,\n",
    "         bins=bins,\n",
    "         label='$\\mu={}$\\n'.format(mu0) + r'$\\textnormal{DCTR}_{\\Omega\\mkern-10mu/}$ wgt.',\n",
    "         weights=weights_original, **plot_style_1)\n",
    "\n",
    "plt.hist(X1_val_S, bins=bins, label=r'$\\mu={}$'.format(mu1), **plot_style_2)\n",
    "\n",
    "plt.legend(frameon=False)\n",
    "plt.xlabel(r\"$x_S$\")\n",
    "plt.ylabel(\"Events per bin (normalized)\")\n",
    "plt.show()"
   ]
  },
  {
   "cell_type": "markdown",
   "metadata": {},
   "source": [
    "We have shown demonstration of reweighting derived at generator-level  for  the  primary  generator-level  feature (cell `[14]`),  the  secondary generator-level feature (cell `[14]`), and simulation-level (cell `[17]`).  In cell `[17]`, an unsuccessful reweighting using only the primary  generator  feature  is  also  shown  (labeled  $\\text{DCTR}_{\\Omega\\mkern-10mu/}$), illustrating we indeed need the full phase space $\\Omega$ for successful reweighting."
   ]
  }
 ],
 "metadata": {
  "kernelspec": {
   "display_name": "Python 3",
   "language": "python",
   "name": "python3"
  },
  "language_info": {
   "codemirror_mode": {
    "name": "ipython",
    "version": 3
   },
   "file_extension": ".py",
   "mimetype": "text/x-python",
   "name": "python",
   "nbconvert_exporter": "python",
   "pygments_lexer": "ipython3",
   "version": "3.5.2"
  },
  "notify_time": "0",
  "toc": {
   "base_numbering": 1,
   "nav_menu": {},
   "number_sections": false,
   "sideBar": true,
   "skip_h1_title": false,
   "title_cell": "Table of Contents",
   "title_sidebar": "Contents",
   "toc_cell": false,
   "toc_position": {
    "height": "calc(100% - 180px)",
    "left": "10px",
    "top": "150px",
    "width": "288px"
   },
   "toc_section_display": true,
   "toc_window_display": false
  }
 },
 "nbformat": 4,
 "nbformat_minor": 2
}
