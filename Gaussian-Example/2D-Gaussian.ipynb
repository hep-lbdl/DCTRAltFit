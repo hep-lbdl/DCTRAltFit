{
 "cells": [
  {
   "cell_type": "code",
   "execution_count": 1,
   "metadata": {
    "ExecuteTime": {
     "end_time": "2020-10-04T01:32:07.764817Z",
     "start_time": "2020-10-04T01:32:07.759940Z"
    }
   },
   "outputs": [],
   "source": [
    "import os\n",
    "os.environ[\"CUDA_DEVICE_ORDER\"] = \"PCI_BUS_ID\"\n",
    "os.environ[\"CUDA_VISIBLE_DEVICES\"] = \"1\""
   ]
  },
  {
   "cell_type": "code",
   "execution_count": 2,
   "metadata": {
    "ExecuteTime": {
     "end_time": "2020-10-04T01:32:10.362661Z",
     "start_time": "2020-10-04T01:32:07.767719Z"
    }
   },
   "outputs": [
    {
     "name": "stderr",
     "output_type": "stream",
     "text": [
      "\n",
      "Bad key \"text.kerning_factor\" on line 4 in\n",
      "/home/asuresh/programs/anaconda3/envs/DCTR/lib/python3.7/site-packages/matplotlib/mpl-data/stylelib/_classic_test_patch.mplstyle.\n",
      "You probably need to get an updated matplotlibrc file from\n",
      "http://github.com/matplotlib/matplotlib/blob/master/matplotlibrc.template\n",
      "or from the matplotlib source distribution\n",
      "Using TensorFlow backend.\n"
     ]
    }
   ],
   "source": [
    "# standard library imports\n",
    "from __future__ import absolute_import, division, print_function\n",
    "\n",
    "import numpy as np\n",
    "from matplotlib import pyplot as plt\n",
    "from matplotlib.patches import Patch\n",
    "import scipy as sp\n",
    "from scipy.optimize import minimize, Bounds\n",
    "\n",
    "from sklearn.model_selection import train_test_split\n",
    "from sklearn.metrics import roc_auc_score\n",
    "\n",
    "import tensorflow as tf\n",
    "import keras\n",
    "from keras.layers import Dense, Input\n",
    "from keras.models import Model\n",
    "from keras.utils import to_categorical\n",
    "from keras.callbacks import EarlyStopping"
   ]
  },
  {
   "cell_type": "code",
   "execution_count": 3,
   "metadata": {
    "ExecuteTime": {
     "end_time": "2020-10-04T01:32:10.372815Z",
     "start_time": "2020-10-04T01:32:10.365820Z"
    }
   },
   "outputs": [],
   "source": [
    "# Global plot settings\n",
    "from matplotlib import rc\n",
    "import matplotlib.font_manager\n",
    "from matplotlib.font_manager import FontProperties\n",
    "\n",
    "rc('font', family='serif')\n",
    "rc('text', usetex=True)\n",
    "rc('font', size=22)\n",
    "rc('xtick', labelsize=15)\n",
    "rc('ytick', labelsize=15)\n",
    "rc('legend', fontsize=15)\n",
    "\n",
    "fontP = FontProperties()\n",
    "fontP.set_size(10)"
   ]
  },
  {
   "cell_type": "code",
   "execution_count": 4,
   "metadata": {
    "ExecuteTime": {
     "end_time": "2020-10-04T01:32:10.387161Z",
     "start_time": "2020-10-04T01:32:10.375505Z"
    },
    "scrolled": true
   },
   "outputs": [
    {
     "name": "stdout",
     "output_type": "stream",
     "text": [
      "1.15.0\n",
      "2.2.4\n",
      "1.5.2\n"
     ]
    }
   ],
   "source": [
    "# Check Versions\n",
    "print(tf.__version__)  # 1.15.0\n",
    "print(keras.__version__)  # 2.2.4\n",
    "print(sp.__version__)  # 1.5.2"
   ]
  },
  {
   "cell_type": "markdown",
   "metadata": {},
   "source": [
    "# The SRGN fitting algorithm\n",
    "\n",
    "The DCTR paper ([arXiv:1907.08209](https://arxiv.org/abs/1907.08209)) shows how a continuously parameterized NN used for reweighting:\n",
    "\n",
    "$f(x,\\theta)=\\text{argmax}_{f'}(\\sum_{i\\in\\bf{\\theta}_0}\\log f'(x_i,\\theta)+\\sum_{i\\in\\bf{\\theta}}\\log (1-f'(x_i,\\theta)))$\n",
    "\n",
    "can also be used for fitting:\n",
    "\n",
    "$\\theta^*=\\text{argmax}_{\\theta'}(\\sum_{i\\in\\bf{\\theta}_0}\\log f(x_i,\\theta')+\\sum_{i\\in\\bf{\\theta}}\\log (1-f(x_i,\\theta')))$\n",
    "\n",
    "This works well when the reweighting and fitting happen on the same 'level'.  However, if the reweighting happens at generator-level (before detector simulation) while the fit happens in simulation (after the effects of the detector), this procedure will not work.  It works only if the reweighting and fitting both happen at simulation-level or both happen at generator-level.  This notebook illustrates the alternative SRGN procedure from [arXiv:2010.03569](https://arxiv.org/abs/2010.03569):\n",
    "\n",
    "Let $x$ and $y$ denote the generator- and simulation-level events respectively. Suppose that $g$ is a neural network defined as follows:\n",
    "\n",
    "$g_{\\theta'}(y)=\\text{argmax}_{g}\\sum_{y_i\\in\\boldsymbol{\\theta_?}}\\log(g_{\\theta'}(y_i))+\n",
    "    \\sum_{(x_i,y_i)\\in\\boldsymbol{\\theta_0}}w_{\\theta_0}(x_i,\\theta')\\log(1-g_{\\theta'}(y_i))$\n",
    "\n",
    "where $w_{\\theta_0}(x,\\theta') = f(x,\\theta')/(1-f(x,\\theta'))$ is a reweighting function learned at generator level (and $\\theta_0$ denotes the nominal value of the parameter).  \n",
    "\n",
    "Then, \n",
    "\n",
    "$\\theta_{\\text{SRGN}}^*\\equiv\\text{argmin}_{\\theta'}\\left[\\Pr(g_{\\theta_?}(y)>g_{\\theta'}(y))\\right]$\n",
    "\n",
    "where the quantity in $[\\cdot]$ is typically called the area under the receiver operating characteristic curve or AUC. We calculate the AUC between $g$’s predictions on events from the unknown sample and  $g$’s predictions on reweighted events from the synthetic sample; effectively, if we reweight events from the synthetic sample $\\boldsymbol{\\theta_0}$ to events from $\\boldsymbol{\\theta’}$, then we calculate the AUC between $g$’s predictions on  $\\boldsymbol{\\theta_?} $and $g$’s predictions on $\\boldsymbol{\\theta’}$.\n",
    "\n",
    "\n",
    "The intuition of the above equation is that the classifier $g$ is trying to distinguish events from the unknown sample $\\boldsymbol{\\theta_?}$ and events from $\\boldsymbol{\\theta'}$ and we try to find a $\\theta'$ that makes $g$'s task maximally hard.  If $g$ can't tell apart the two samples (i.e. the AUC is minimized), then the reweighting has worked! Asympotitically, the SRGN method learns the same result as the one in the body of the DCTR paper: $\\theta^*=\\theta_?$."
   ]
  },
  {
   "cell_type": "markdown",
   "metadata": {},
   "source": [
    "# Two-dimensional Gaussian Example \n",
    "In this notebook, we apply the SRGN fitting algorithm to a simple two-dimensional example: fitting the mean $\\mu$ and the standard deviation $\\sigma$ of a Gaussian distribution. "
   ]
  },
  {
   "cell_type": "markdown",
   "metadata": {},
   "source": [
    "## Training a DCTR Model"
   ]
  },
  {
   "cell_type": "markdown",
   "metadata": {},
   "source": [
    "First, we need to train a DCTR model parameterized by $\\mu$ and $\\sigma$ to provide us with a reweighting function to be used during fitting."
   ]
  },
  {
   "cell_type": "code",
   "execution_count": 5,
   "metadata": {
    "ExecuteTime": {
     "end_time": "2020-10-04T01:32:10.394735Z",
     "start_time": "2020-10-04T01:32:10.389688Z"
    }
   },
   "outputs": [],
   "source": [
    "n_data_points = 10**7\n",
    "\n",
    "mu_min, mu_max = -2, 2\n",
    "sigma_min, sigma_max = 0.25, 4."
   ]
  },
  {
   "cell_type": "markdown",
   "metadata": {},
   "source": [
    "### Generate training & validation data"
   ]
  },
  {
   "cell_type": "code",
   "execution_count": 6,
   "metadata": {
    "ExecuteTime": {
     "end_time": "2020-10-04T01:34:43.639765Z",
     "start_time": "2020-10-04T01:32:10.397212Z"
    }
   },
   "outputs": [],
   "source": [
    "mu0, sigma0 = 0, 1  # nominal values for mu and sigma\n",
    "\n",
    "mu_values = np.random.uniform(mu_min, mu_max, n_data_points)\n",
    "sigma_values = np.random.uniform(sigma_min, sigma_max, n_data_points)\n",
    "\n",
    "X0 = [(np.random.normal(0, 1), mu_values[i], sigma_values[i])\n",
    "      for i in range(n_data_points)]\n",
    "X1 = [(np.random.normal(mu_values[i],\n",
    "                        sigma_values[i]), mu_values[i], sigma_values[i])\n",
    "      for i in range(n_data_points)]\n",
    "\n",
    "Y0 = to_categorical(np.zeros(n_data_points), num_classes=2)\n",
    "Y1 = to_categorical(np.ones(n_data_points), num_classes=2)\n",
    "\n",
    "X = np.concatenate((X0, X1))\n",
    "Y = np.concatenate((Y0, Y1))\n",
    "\n",
    "X_train, X_test, Y_train, Y_test = train_test_split(X, Y, test_size=0.5)"
   ]
  },
  {
   "cell_type": "markdown",
   "metadata": {},
   "source": [
    "### Build Model"
   ]
  },
  {
   "cell_type": "code",
   "execution_count": 7,
   "metadata": {
    "ExecuteTime": {
     "end_time": "2020-10-04T01:34:43.772456Z",
     "start_time": "2020-10-04T01:34:43.641923Z"
    }
   },
   "outputs": [
    {
     "name": "stdout",
     "output_type": "stream",
     "text": [
      "WARNING:tensorflow:From /home/asuresh/programs/anaconda3/envs/DCTR/lib/python3.7/site-packages/keras/backend/tensorflow_backend.py:74: The name tf.get_default_graph is deprecated. Please use tf.compat.v1.get_default_graph instead.\n",
      "\n",
      "WARNING:tensorflow:From /home/asuresh/programs/anaconda3/envs/DCTR/lib/python3.7/site-packages/keras/backend/tensorflow_backend.py:517: The name tf.placeholder is deprecated. Please use tf.compat.v1.placeholder instead.\n",
      "\n",
      "WARNING:tensorflow:From /home/asuresh/programs/anaconda3/envs/DCTR/lib/python3.7/site-packages/keras/backend/tensorflow_backend.py:4138: The name tf.random_uniform is deprecated. Please use tf.random.uniform instead.\n",
      "\n",
      "WARNING:tensorflow:From /home/asuresh/programs/anaconda3/envs/DCTR/lib/python3.7/site-packages/keras/optimizers.py:790: The name tf.train.Optimizer is deprecated. Please use tf.compat.v1.train.Optimizer instead.\n",
      "\n",
      "WARNING:tensorflow:From /home/asuresh/programs/anaconda3/envs/DCTR/lib/python3.7/site-packages/keras/backend/tensorflow_backend.py:3295: The name tf.log is deprecated. Please use tf.math.log instead.\n",
      "\n"
     ]
    }
   ],
   "source": [
    "inputs = Input((3, ))\n",
    "hidden_layer_1 = Dense(50, activation='relu')(inputs)\n",
    "hidden_layer_2 = Dense(50, activation='relu')(hidden_layer_1)\n",
    "hidden_layer_3 = Dense(50, activation='relu')(hidden_layer_2)\n",
    "outputs = Dense(2, activation='softmax')(hidden_layer_3)\n",
    "\n",
    "dctr_model = Model(inputs=inputs, outputs=outputs)\n",
    "dctr_model.compile(loss='categorical_crossentropy',\n",
    "                   optimizer='Adam',\n",
    "                   metrics=['accuracy'])"
   ]
  },
  {
   "cell_type": "markdown",
   "metadata": {},
   "source": [
    "### Train Model"
   ]
  },
  {
   "cell_type": "code",
   "execution_count": 8,
   "metadata": {
    "ExecuteTime": {
     "end_time": "2020-10-04T01:45:36.352633Z",
     "start_time": "2020-10-04T01:34:43.776689Z"
    }
   },
   "outputs": [
    {
     "name": "stdout",
     "output_type": "stream",
     "text": [
      "WARNING:tensorflow:From /home/asuresh/programs/anaconda3/envs/DCTR/lib/python3.7/site-packages/tensorflow_core/python/ops/math_grad.py:1424: where (from tensorflow.python.ops.array_ops) is deprecated and will be removed in a future version.\n",
      "Instructions for updating:\n",
      "Use tf.where in 2.0, which has the same broadcast rule as np.where\n",
      "WARNING:tensorflow:From /home/asuresh/programs/anaconda3/envs/DCTR/lib/python3.7/site-packages/keras/backend/tensorflow_backend.py:986: The name tf.assign_add is deprecated. Please use tf.compat.v1.assign_add instead.\n",
      "\n",
      "WARNING:tensorflow:From /home/asuresh/programs/anaconda3/envs/DCTR/lib/python3.7/site-packages/keras/backend/tensorflow_backend.py:973: The name tf.assign is deprecated. Please use tf.compat.v1.assign instead.\n",
      "\n",
      "WARNING:tensorflow:From /home/asuresh/programs/anaconda3/envs/DCTR/lib/python3.7/site-packages/keras/backend/tensorflow_backend.py:2741: The name tf.Session is deprecated. Please use tf.compat.v1.Session instead.\n",
      "\n",
      "Train on 10000000 samples, validate on 10000000 samples\n",
      "Epoch 1/200\n",
      "WARNING:tensorflow:From /home/asuresh/programs/anaconda3/envs/DCTR/lib/python3.7/site-packages/keras/backend/tensorflow_backend.py:174: The name tf.get_default_session is deprecated. Please use tf.compat.v1.get_default_session instead.\n",
      "\n",
      "WARNING:tensorflow:From /home/asuresh/programs/anaconda3/envs/DCTR/lib/python3.7/site-packages/keras/backend/tensorflow_backend.py:181: The name tf.ConfigProto is deprecated. Please use tf.compat.v1.ConfigProto instead.\n",
      "\n",
      "WARNING:tensorflow:From /home/asuresh/programs/anaconda3/envs/DCTR/lib/python3.7/site-packages/keras/backend/tensorflow_backend.py:190: The name tf.global_variables is deprecated. Please use tf.compat.v1.global_variables instead.\n",
      "\n",
      "WARNING:tensorflow:From /home/asuresh/programs/anaconda3/envs/DCTR/lib/python3.7/site-packages/keras/backend/tensorflow_backend.py:199: The name tf.is_variable_initialized is deprecated. Please use tf.compat.v1.is_variable_initialized instead.\n",
      "\n",
      "WARNING:tensorflow:From /home/asuresh/programs/anaconda3/envs/DCTR/lib/python3.7/site-packages/keras/backend/tensorflow_backend.py:206: The name tf.variables_initializer is deprecated. Please use tf.compat.v1.variables_initializer instead.\n",
      "\n",
      "10000000/10000000 [==============================] - 42s 4us/step - loss: 0.5158 - acc: 0.7308 - val_loss: 0.5086 - val_acc: 0.7356\n",
      "Epoch 2/200\n",
      "10000000/10000000 [==============================] - 41s 4us/step - loss: 0.5088 - acc: 0.7354 - val_loss: 0.5086 - val_acc: 0.7356\n",
      "Epoch 3/200\n",
      "10000000/10000000 [==============================] - 40s 4us/step - loss: 0.5087 - acc: 0.7355 - val_loss: 0.5087 - val_acc: 0.7355\n",
      "Epoch 4/200\n",
      "10000000/10000000 [==============================] - 41s 4us/step - loss: 0.5086 - acc: 0.7355 - val_loss: 0.5084 - val_acc: 0.7357\n",
      "Epoch 5/200\n",
      "10000000/10000000 [==============================] - 40s 4us/step - loss: 0.5086 - acc: 0.7355 - val_loss: 0.5085 - val_acc: 0.7357\n",
      "Epoch 6/200\n",
      "10000000/10000000 [==============================] - 41s 4us/step - loss: 0.5086 - acc: 0.7355 - val_loss: 0.5083 - val_acc: 0.7357\n",
      "Epoch 7/200\n",
      "10000000/10000000 [==============================] - 41s 4us/step - loss: 0.5086 - acc: 0.7355 - val_loss: 0.5087 - val_acc: 0.7355\n",
      "Epoch 8/200\n",
      "10000000/10000000 [==============================] - 40s 4us/step - loss: 0.5085 - acc: 0.7355 - val_loss: 0.5087 - val_acc: 0.7355\n",
      "Epoch 9/200\n",
      "10000000/10000000 [==============================] - 40s 4us/step - loss: 0.5086 - acc: 0.7355 - val_loss: 0.5085 - val_acc: 0.7356\n",
      "Epoch 10/200\n",
      "10000000/10000000 [==============================] - 41s 4us/step - loss: 0.5085 - acc: 0.7355 - val_loss: 0.5084 - val_acc: 0.7357\n",
      "Epoch 11/200\n",
      "10000000/10000000 [==============================] - 41s 4us/step - loss: 0.5085 - acc: 0.7355 - val_loss: 0.5084 - val_acc: 0.7357\n",
      "Epoch 12/200\n",
      "10000000/10000000 [==============================] - 41s 4us/step - loss: 0.5085 - acc: 0.7355 - val_loss: 0.5085 - val_acc: 0.7356\n",
      "Epoch 13/200\n",
      "10000000/10000000 [==============================] - 40s 4us/step - loss: 0.5085 - acc: 0.7356 - val_loss: 0.5087 - val_acc: 0.7355\n",
      "Epoch 14/200\n",
      "10000000/10000000 [==============================] - 41s 4us/step - loss: 0.5085 - acc: 0.7356 - val_loss: 0.5084 - val_acc: 0.7357\n",
      "Epoch 15/200\n",
      "10000000/10000000 [==============================] - 41s 4us/step - loss: 0.5085 - acc: 0.7356 - val_loss: 0.5086 - val_acc: 0.7356\n",
      "Epoch 16/200\n",
      "10000000/10000000 [==============================] - 41s 4us/step - loss: 0.5085 - acc: 0.7355 - val_loss: 0.5083 - val_acc: 0.7357\n",
      "Restoring model weights from the end of the best epoch\n",
      "Epoch 00016: early stopping\n"
     ]
    },
    {
     "data": {
      "text/plain": [
       "<keras.callbacks.History at 0x7fe1d509a890>"
      ]
     },
     "execution_count": 8,
     "metadata": {},
     "output_type": "execute_result"
    }
   ],
   "source": [
    "earlystopping = EarlyStopping(patience=10,\n",
    "                              verbose=1,\n",
    "                              restore_best_weights=True)\n",
    "dctr_model.fit(X_train,\n",
    "               Y_train,\n",
    "               epochs=200,\n",
    "               batch_size=10000,\n",
    "               validation_data=(X_test, Y_test),\n",
    "               callbacks=[earlystopping],\n",
    "               verbose=1)"
   ]
  },
  {
   "cell_type": "markdown",
   "metadata": {},
   "source": [
    "### Defining reweighting functions\n",
    "\n",
    "$w_{\\theta_0}(x_{G,i},\\theta)=\\frac{f(x_{G,i}\\theta)}{1-f(x_{G,i},\\theta)}$, where $f$  is a fully trained DCTR model.\n",
    "\n",
    "Takes generator-level event $x_{G,i}$ from the synthetic sample $\\boldsymbol{\\theta_0}$ and weights it to an event from $\\boldsymbol{\\theta}$.\n",
    "\n",
    "The expression for the analytical reweighting function for the Gaussian distribution is:\n",
    "\n",
    "$w_{(\\mu_0, \\sigma_0)}(x_{G,i}, (\\mu, \\sigma)) = \\frac{\\sigma_0}{\\sigma}\\exp{(\\frac{1}{2}((\\frac{x_{G,i}-\\mu_0}{\\sigma_0})^2-(\\frac{x_{G,i}-\\mu}{\\sigma})^2))}$."
   ]
  },
  {
   "cell_type": "code",
   "execution_count": null,
   "metadata": {
    "ExecuteTime": {
     "start_time": "2020-10-15T05:38:14.763Z"
    }
   },
   "outputs": [],
   "source": [
    "def reweight(events, param):\n",
    "    # creating array with same length as inputs, with theta_prime in every entry\n",
    "    concat_input_and_params = np.ones(shape=(events.shape[0], 2)) * param\n",
    "    # combining and reshaping into correct format:\n",
    "    model_inputs = np.concatenate(\n",
    "        (np.expand_dims(events, axis=-1), concat_input_and_params), axis=-1)\n",
    "    f = dctr_model.predict(model_inputs, batch_size=10000)\n",
    "    weights = (f[:, 1]) / (f[:, 0])\n",
    "    return weights\n",
    "\n",
    "\n",
    "# from analytical formula for normal distributions\n",
    "def analytical_reweight(events, param, param0=(mu0, sigma0)):\n",
    "    weights = (param0[1] / param[1]) * np.exp(0.5 * (\n",
    "        ((events - param0[0]) / param0[1])**2 -\n",
    "        ((events - param[0]) / param[1])**2))\n",
    "    return weights"
   ]
  },
  {
   "cell_type": "markdown",
   "metadata": {},
   "source": [
    "## Validate DCTR for any $\\mu$ and $\\sigma$"
   ]
  },
  {
   "cell_type": "code",
   "execution_count": 10,
   "metadata": {
    "ExecuteTime": {
     "end_time": "2020-10-04T01:45:36.376420Z",
     "start_time": "2020-10-04T01:45:36.362463Z"
    }
   },
   "outputs": [],
   "source": [
    "# Define default plot styles\n",
    "plot_style_0 = {\n",
    "    'histtype': 'step',\n",
    "    'color': 'black',\n",
    "    'linewidth': 2,\n",
    "    'linestyle': '--',\n",
    "    'density': True\n",
    "}\n",
    "\n",
    "plot_style_1 = {\n",
    "    'histtype': 'step',\n",
    "    'color': 'black',\n",
    "    'linewidth': 2,\n",
    "    'density': True\n",
    "}\n",
    "\n",
    "plot_style_2 = {'alpha': 0.5, 'density': True}"
   ]
  },
  {
   "cell_type": "markdown",
   "metadata": {},
   "source": [
    "### Validate for Generator-level"
   ]
  },
  {
   "cell_type": "code",
   "execution_count": 11,
   "metadata": {
    "ExecuteTime": {
     "end_time": "2020-10-04T01:45:36.483885Z",
     "start_time": "2020-10-04T01:45:36.378135Z"
    }
   },
   "outputs": [],
   "source": [
    "mu1 = 1\n",
    "sigma1 = 1.25\n",
    "assert mu1 >= mu_min and mu1 <= mu_max  # choose mu1 in valid range\n",
    "assert sigma1 >= sigma_min and sigma1 <= sigma_max  # choose sigma1 in valid range\n",
    "X0_val_G = np.random.normal(0, 1, 10**6)\n",
    "X1_val_G = np.random.normal(mu1, sigma1, 10**6)"
   ]
  },
  {
   "cell_type": "code",
   "execution_count": 12,
   "metadata": {
    "ExecuteTime": {
     "end_time": "2020-10-04T01:45:37.690996Z",
     "start_time": "2020-10-04T01:45:36.489654Z"
    }
   },
   "outputs": [],
   "source": [
    "weights = reweight(X0_val_G, np.array([mu1, sigma1]))\n",
    "analytical_weights = analytical_reweight(X0_val_G, np.array([mu1, sigma1]))"
   ]
  },
  {
   "cell_type": "markdown",
   "metadata": {},
   "source": [
    "#### Generator-level Reweighting"
   ]
  },
  {
   "cell_type": "code",
   "execution_count": 13,
   "metadata": {
    "ExecuteTime": {
     "end_time": "2020-10-04T01:45:40.010066Z",
     "start_time": "2020-10-04T01:45:37.693125Z"
    }
   },
   "outputs": [
    {
     "data": {
      "image/png": "[encoded data removed]",
      "text/plain": [
       "<Figure size 432x360 with 1 Axes>"
      ]
     },
     "metadata": {
      "needs_background": "light"
     },
     "output_type": "display_data"
    }
   ],
   "source": [
    "bins = np.linspace(-7, 5, 31)\n",
    "plt.figure(figsize=(6, 5))\n",
    "hist0 = plt.hist(X0_val_G,\n",
    "                 bins=bins,\n",
    "                 label=r'$\\mu={}$, $\\sigma={}$'.format(mu0, sigma0),\n",
    "                 **plot_style_2)\n",
    "hist1 = plt.hist(X0_val_G,\n",
    "                 bins=bins,\n",
    "                 label=r'$\\mu={}$, $\\sigma={}$'.format(mu0, sigma0) +\n",
    "                 '\\nDCTR wgt.',\n",
    "                 weights=weights,\n",
    "                 **plot_style_0)\n",
    "hist2 = plt.hist(X0_val_G,\n",
    "                 bins=bins,\n",
    "                 label=r'$\\mu={}$, $\\sigma={}$'.format(mu0, sigma0) +\n",
    "                 '\\nanalytical wgt.',\n",
    "                 weights=analytical_weights,\n",
    "                 **plot_style_1)\n",
    "hist3 = plt.hist(X1_val_G,\n",
    "                 bins=bins,\n",
    "                 label=r'$\\mu={}$, $\\sigma={}$'.format(mu1, sigma1),\n",
    "                 **plot_style_2)\n",
    "plt.legend(frameon=False)\n",
    "plt.xlabel(r\"$x_G$\")\n",
    "plt.ylabel(\"Events per bin (normalized)\")\n",
    "plt.show()"
   ]
  },
  {
   "cell_type": "markdown",
   "metadata": {},
   "source": [
    "### Validate for Simulation-level"
   ]
  },
  {
   "cell_type": "markdown",
   "metadata": {},
   "source": [
    "#### Detector Smearing"
   ]
  },
  {
   "cell_type": "markdown",
   "metadata": {},
   "source": [
    "To apply detector effects, each generator-level event $x_{G,i}$in the sample is smeared by shifting by $Z_{i}\\sim\\mathcal{N}(0,\\epsilon^2)$,where $\\epsilon$ represents the smearing (i.e. the simulation-level event $x_{S,i} = x_{G,i} + Z_{i}$)"
   ]
  },
  {
   "cell_type": "code",
   "execution_count": 14,
   "metadata": {
    "ExecuteTime": {
     "end_time": "2020-10-04T01:45:47.907375Z",
     "start_time": "2020-10-04T01:45:40.012321Z"
    }
   },
   "outputs": [],
   "source": [
    "# Generate simulation-level by smearing truth\n",
    "\n",
    "epsilon_val = 0.5  # Smearing width\n",
    "\n",
    "X0_val_S = np.array([(x + np.random.normal(0, epsilon_val))\n",
    "                     for x in X0_val_G])  # Detector smearing\n",
    "X1_val_S = np.array([(x + np.random.normal(0, epsilon_val))\n",
    "                     for x in X1_val_G])  # Detector smearing"
   ]
  },
  {
   "cell_type": "code",
   "execution_count": 15,
   "metadata": {
    "ExecuteTime": {
     "end_time": "2020-10-04T01:45:49.283880Z",
     "start_time": "2020-10-04T01:45:47.909102Z"
    }
   },
   "outputs": [
    {
     "name": "stderr",
     "output_type": "stream",
     "text": [
      "No handles with labels found to put in legend.\n",
      "No handles with labels found to put in legend.\n"
     ]
    },
    {
     "data": {
      "image/png": "[encoded data removed]",
      "text/plain": [
       "<Figure size 864x360 with 2 Axes>"
      ]
     },
     "metadata": {
      "needs_background": "light"
     },
     "output_type": "display_data"
    }
   ],
   "source": [
    "fig, ax = plt.subplots(1,\n",
    "                       2,\n",
    "                       figsize=(12, 5),\n",
    "                       constrained_layout=True,\n",
    "                       sharey=True)\n",
    "\n",
    "bins = np.linspace(-6, 6, 31)\n",
    "\n",
    "ax[0].set_xlabel(\"$x$\")\n",
    "ax[0].set_ylabel('Events per bin (normalized)')\n",
    "ax[0].hist(X0_val_G, bins=bins, **plot_style_2)\n",
    "ax[0].hist(X0_val_S, bins=bins, **plot_style_2)\n",
    "ax[0].legend(title=r'$\\mu={}$, $\\sigma={}$'.format(mu0, sigma0),\n",
    "             loc='upper left',\n",
    "             frameon=False)\n",
    "\n",
    "ax[1].set_xlabel(\"$x$\")\n",
    "ax[1].hist(X1_val_G, bins=bins, **plot_style_2)\n",
    "ax[1].hist(X1_val_S, bins=bins, **plot_style_2)\n",
    "ax[1].legend(title='$\\mu={}$, $\\sigma={}$'.format(mu1, sigma1),\n",
    "             loc='upper left',\n",
    "             frameon=False)\n",
    "\n",
    "handles = [Patch(facecolor='C0', alpha=0.5), Patch(facecolor='C1', alpha=0.5)]\n",
    "labels = ['Generator', 'Simulation']\n",
    "fig.legend(handles, labels, ncol=2, bbox_to_anchor=(0.665, 1.1))\n",
    "\n",
    "fig.show()"
   ]
  },
  {
   "cell_type": "markdown",
   "metadata": {},
   "source": [
    "#### Simulation-level Reweighting"
   ]
  },
  {
   "cell_type": "code",
   "execution_count": 16,
   "metadata": {
    "ExecuteTime": {
     "end_time": "2020-10-04T01:45:50.126585Z",
     "start_time": "2020-10-04T01:45:49.285932Z"
    }
   },
   "outputs": [
    {
     "data": {
      "image/png": "[encoded data removed]",
      "text/plain": [
       "<Figure size 432x360 with 1 Axes>"
      ]
     },
     "metadata": {
      "needs_background": "light"
     },
     "output_type": "display_data"
    }
   ],
   "source": [
    "bins = np.linspace(-7, 5, 31)\n",
    "plt.figure(figsize=(6, 5))\n",
    "hist0 = plt.hist(X0_val_S,\n",
    "                 bins=bins,\n",
    "                 label=r'$\\mu={}$, $\\sigma={}$'.format(mu0, sigma0),\n",
    "                 **plot_style_2)\n",
    "hist1 = plt.hist(X0_val_S,\n",
    "                 bins=bins,\n",
    "                 label=r'$\\mu={}$, $\\sigma={}$'.format(mu0, sigma0) +\n",
    "                 '\\nDCTR wgt.',\n",
    "                 weights=weights,\n",
    "                 **plot_style_0)\n",
    "hist2 = plt.hist(X0_val_S,\n",
    "                 bins=bins,\n",
    "                 label=r'$\\mu={}$, $\\sigma={}$'.format(mu0, sigma0) +\n",
    "                 '\\nanalytical wgt.',\n",
    "                 weights=analytical_weights,\n",
    "                 **plot_style_1)\n",
    "hist3 = plt.hist(X1_val_S,\n",
    "                 bins=bins,\n",
    "                 label=r'$\\mu={}$, $\\sigma={}$'.format(mu1, sigma1),\n",
    "                 **plot_style_2)\n",
    "plt.legend(frameon=False)\n",
    "plt.xlabel(r\"$x_S$\")\n",
    "plt.ylabel(\"Events per bin (normalized)\")\n",
    "plt.show()"
   ]
  },
  {
   "cell_type": "markdown",
   "metadata": {},
   "source": [
    "# Fitting"
   ]
  },
  {
   "cell_type": "markdown",
   "metadata": {},
   "source": [
    "## Setup the dataset"
   ]
  },
  {
   "cell_type": "markdown",
   "metadata": {},
   "source": [
    "$\\boldsymbol{\\theta_0}$ denotes the synthetic sample used for reweighting, and we are trying to fit the parameter $\\theta$ (in this case $(\\mu, \\sigma)$) to the 'data' sample $\\boldsymbol{\\theta_?}$ (`theta_unknown`).\n",
    "\n",
    "Again, to apply detector effects, each generator-level event $x_{G,i}$in the samples is smeared by shifting by $Z_{i}\\sim\\mathcal{N}(0,\\epsilon^2)$,where $\\epsilon$ represents the smearing (i.e. the simulation-level event $x_{S,i} = x_{G,i} + Z_{i}$)"
   ]
  },
  {
   "cell_type": "code",
   "execution_count": 17,
   "metadata": {
    "ExecuteTime": {
     "end_time": "2020-10-04T01:45:58.145724Z",
     "start_time": "2020-10-04T01:45:50.132650Z"
    }
   },
   "outputs": [],
   "source": [
    "N = 10**6\n",
    "# param = (mu, sigma)\n",
    "theta0_param = (mu0, sigma0)\n",
    "# this is the data (the target)\n",
    "theta_unknown_param = (-1, 0.75)\n",
    "\n",
    "epsilon = theta0_param[1] / 2  # Smearing width\n",
    "# Generator-level synthetic sample\n",
    "theta0_G = np.random.normal(theta0_param[0], theta0_param[1], N)\n",
    "# Detector smearing for synthetic sample\n",
    "theta0_S = np.array([(x + np.random.normal(0, epsilon)) for x in theta0_G])\n",
    "\n",
    "theta0 = np.stack([theta0_G, theta0_S], axis=1)\n",
    "# Generator-level data\n",
    "theta_unknown_G = np.random.normal(theta_unknown_param[0],\n",
    "                                   theta_unknown_param[1], N)\n",
    "# Detector smearing for data\n",
    "theta_unknown_S = np.array([(x + np.random.normal(0, epsilon))\n",
    "                            for x in theta_unknown_G])\n",
    "\n",
    "theta_unknown = np.stack([theta_unknown_G, theta_unknown_S], axis=1)"
   ]
  },
  {
   "cell_type": "code",
   "execution_count": 18,
   "metadata": {
    "ExecuteTime": {
     "end_time": "2020-10-04T01:46:00.011951Z",
     "start_time": "2020-10-04T01:45:58.147710Z"
    }
   },
   "outputs": [
    {
     "name": "stderr",
     "output_type": "stream",
     "text": [
      "No handles with labels found to put in legend.\n",
      "No handles with labels found to put in legend.\n"
     ]
    },
    {
     "data": {
      "image/png": "[encoded data removed]",
      "text/plain": [
       "<Figure size 864x360 with 2 Axes>"
      ]
     },
     "metadata": {
      "needs_background": "light"
     },
     "output_type": "display_data"
    }
   ],
   "source": [
    "bins = np.linspace(-6, 6, 31)\n",
    "\n",
    "fig, ax = plt.subplots(1,\n",
    "                       2,\n",
    "                       figsize=(12, 5),\n",
    "                       constrained_layout=True,\n",
    "                       sharey=True)\n",
    "\n",
    "ax[0].set_xlabel('$x$')\n",
    "ax[0].set_ylabel('Events per bin (normalized)')\n",
    "ax[0].hist(theta0_G, bins=bins, **plot_style_2)\n",
    "ax[0].hist(theta0_S, bins=bins, **plot_style_2)\n",
    "legend = ax[0].legend(title='Synthetic\\n$\\mu={}$, $\\sigma={}$'.format(\n",
    "    theta0_param[0], theta0_param[1]),\n",
    "                      loc='upper right',\n",
    "                      frameon=False)\n",
    "plt.setp(legend.get_title(), multialignment='center')\n",
    "\n",
    "ax[1].set_xlabel('$x$')\n",
    "ax[1].hist(theta_unknown_G, bins=bins, **plot_style_2)\n",
    "ax[1].hist(theta_unknown_S, bins=bins, **plot_style_2)\n",
    "legend = ax[1].legend(title=\"Data\\n$\\mu$ = {}, $\\sigma$ = {}\".format(\n",
    "    theta_unknown_param[0], theta_unknown_param[1]),\n",
    "                      loc='upper right',\n",
    "                      frameon=False)\n",
    "plt.setp(legend.get_title(), multialignment='center')\n",
    "\n",
    "handles = [Patch(facecolor='C0', alpha=0.5), Patch(facecolor='C1', alpha=0.5)]\n",
    "labels = ['Generator', 'Simulation']\n",
    "fig.legend(handles, labels, ncol=2, bbox_to_anchor=(0.66, 1.1))\n",
    "\n",
    "fig.show()"
   ]
  },
  {
   "cell_type": "code",
   "execution_count": 19,
   "metadata": {
    "ExecuteTime": {
     "end_time": "2020-10-04T01:46:00.231948Z",
     "start_time": "2020-10-04T01:46:00.013818Z"
    }
   },
   "outputs": [],
   "source": [
    "labels0 = np.zeros(len(theta0))\n",
    "labels_unknown = np.ones(len(theta_unknown))\n",
    "\n",
    "xvals = np.concatenate([theta0, theta_unknown])\n",
    "yvals = np.concatenate([labels0, labels_unknown])\n",
    "\n",
    "X_train, X_test, Y_train, Y_test = train_test_split(xvals,\n",
    "                                                    yvals,\n",
    "                                                    test_size=0.5)\n",
    "\n",
    "X_train_G, Y_train_G = X_train[:, 0], Y_train\n",
    "X_test_G, Y_test_G = X_test[:, 0], Y_test\n",
    "\n",
    "X_train_S, Y_train_S = X_train[:, 1], Y_train\n",
    "X_test_S, Y_test_S = X_test[:, 1], Y_test"
   ]
  },
  {
   "cell_type": "markdown",
   "metadata": {},
   "source": [
    "## Fitting Model: Scan\n",
    "We'll start by showing that for fixed $\\theta$, the AUC is minimized when $\\theta=\\theta_?$."
   ]
  },
  {
   "cell_type": "markdown",
   "metadata": {},
   "source": [
    "### Creating Model"
   ]
  },
  {
   "cell_type": "code",
   "execution_count": 20,
   "metadata": {
    "ExecuteTime": {
     "end_time": "2020-10-04T01:46:00.283685Z",
     "start_time": "2020-10-04T01:46:00.234095Z"
    }
   },
   "outputs": [
    {
     "name": "stdout",
     "output_type": "stream",
     "text": [
      "_________________________________________________________________\n",
      "Layer (type)                 Output Shape              Param #   \n",
      "=================================================================\n",
      "input_2 (InputLayer)         (None, 1)                 0         \n",
      "_________________________________________________________________\n",
      "dense_5 (Dense)              (None, 128)               256       \n",
      "_________________________________________________________________\n",
      "dense_6 (Dense)              (None, 128)               16512     \n",
      "_________________________________________________________________\n",
      "dense_7 (Dense)              (None, 1)                 129       \n",
      "=================================================================\n",
      "Total params: 16,897\n",
      "Trainable params: 16,897\n",
      "Non-trainable params: 0\n",
      "_________________________________________________________________\n"
     ]
    }
   ],
   "source": [
    "myinputs = Input(shape=(1, ), dtype=tf.float32)\n",
    "x = Dense(128, activation='relu')(myinputs)\n",
    "x2 = Dense(128, activation='relu')(x)\n",
    "predictions = Dense(1, activation='sigmoid')(x2)\n",
    "\n",
    "model = Model(inputs=myinputs, outputs=predictions)\n",
    "model.summary()\n",
    "\n",
    "batch_size = 1000\n",
    "earlystopping = EarlyStopping(patience=5, restore_best_weights=True)\n",
    "\n",
    "# scanning range for theta\n",
    "thetas_mu = np.linspace(-2, 2, 9)\n",
    "thetas_sigma = np.linspace(4.25, 0.25, 9)\n",
    "MU, SIGMA = np.meshgrid(thetas_mu, thetas_sigma)  # grid of point"
   ]
  },
  {
   "cell_type": "markdown",
   "metadata": {
    "ExecuteTime": {
     "end_time": "2020-10-04T00:13:34.274067Z",
     "start_time": "2020-10-04T00:13:34.265540Z"
    }
   },
   "source": [
    "We will train this model with a weighted binary cross-entropy loss function:\n",
    "\n",
    "$\\text{loss}(g_{\\theta'}(x))=-\\sum_{x_i\\in\\boldsymbol{\\theta_?}}\\log(g_{\\theta'}(x_i))-\n",
    "    \\sum_{x_i\\in\\boldsymbol{\\theta_0}}w_{\\theta_0}(x_{G,i},\\theta')\\log(1-g_{\\theta'}(x_i))$\n",
    "    \n",
    "where $x_i=x_{G,i}$ when fitting on generator-level and $x_i=x_{S,i}$ when fitting on simulation-level. Note that reweighting always occurs on generator-level, as we always know the generator-level events for the synthetic sample (but not necessarily for the data)."
   ]
  },
  {
   "cell_type": "markdown",
   "metadata": {},
   "source": [
    "### Generator-level Scan\n",
    "Here, we actually know the generator-level events for both the synthetic sample and data."
   ]
  },
  {
   "cell_type": "code",
   "execution_count": 21,
   "metadata": {
    "ExecuteTime": {
     "end_time": "2020-10-04T01:46:00.296994Z",
     "start_time": "2020-10-04T01:46:00.285629Z"
    }
   },
   "outputs": [],
   "source": [
    "def run_classifier_G(theta, reweight_type='DCTR'):\n",
    "\n",
    "    weights_train = np.ones(len(X_train_G))\n",
    "    weights_test = np.ones(len(X_test_G))\n",
    "\n",
    "    # calculate weights for events in theta_0, but leave ones for events in theta_?\n",
    "    if reweight_type == 'DCTR':\n",
    "        weights_train[Y_train_G == 0] = reweight(X_train_G[Y_train_G == 0],\n",
    "                                                 theta)\n",
    "        weights_test[Y_test_G == 0] = reweight(X_test_G[Y_test_G == 0], theta)\n",
    "    elif reweight_type == 'analytical':\n",
    "        weights_train[Y_train_G == 0] = reweight_analytical(\n",
    "            X_train_G[Y_train_G == 0], theta)\n",
    "        weights_test[Y_test_G == 0] = reweight_analytical(\n",
    "            X_test_G[Y_test_G == 0], theta)\n",
    "\n",
    "    else:\n",
    "        raise ValueError(\"reweight_type must be set to 'DCTR' or 'analytical'\")\n",
    "\n",
    "    model.compile(optimizer='adam',\n",
    "                  loss='binary_crossentropy',\n",
    "                  metrics=['accuracy'])\n",
    "\n",
    "    # fit model on weighted binary cross-entropy\n",
    "    history = model.fit(X_train_G,\n",
    "                        Y_train_G,\n",
    "                        sample_weight=weights_train,\n",
    "                        epochs=200,\n",
    "                        batch_size=batch_size,\n",
    "                        validation_data=(X_test_G, Y_test_G, weights_test),\n",
    "                        verbose=0,\n",
    "                        callbacks=[earlystopping])\n",
    "\n",
    "    # after training, calculate AUC between unknown sample and reweighted synthetic sample\n",
    "    auc = roc_auc_score(np.concatenate((Y_train_G, Y_test_G)),\n",
    "                        model.predict(np.concatenate((X_train_G, X_test_G)),\n",
    "                                      batch_size=10000),\n",
    "                        sample_weight=np.concatenate(\n",
    "                            (weights_train, weights_test)))\n",
    "\n",
    "    return auc"
   ]
  },
  {
   "cell_type": "code",
   "execution_count": 22,
   "metadata": {
    "ExecuteTime": {
     "end_time": "2020-10-04T05:02:33.994278Z",
     "start_time": "2020-10-04T01:46:00.298577Z"
    }
   },
   "outputs": [
    {
     "name": "stdout",
     "output_type": "stream",
     "text": [
      "Testing theta = (-2.00, 4.25)\n",
      "AUC: 0.83\n",
      "\n",
      "\n",
      "Testing theta = (-1.50, 4.25)\n",
      "AUC: 0.83\n",
      "\n",
      "\n",
      "Testing theta = (-1.00, 4.25)\n",
      "AUC: 0.83\n",
      "\n",
      "\n",
      "Testing theta = (-0.50, 4.25)\n",
      "AUC: 0.84\n",
      "\n",
      "\n",
      "Testing theta = (0.00, 4.25)\n",
      "AUC: 0.85\n",
      "\n",
      "\n",
      "Testing theta = (0.50, 4.25)\n",
      "AUC: 0.85\n",
      "\n",
      "\n",
      "Testing theta = (1.00, 4.25)\n",
      "AUC: 0.85\n",
      "\n",
      "\n",
      "Testing theta = (1.50, 4.25)\n",
      "AUC: 0.86\n",
      "\n",
      "\n",
      "Testing theta = (2.00, 4.25)\n",
      "AUC: 0.86\n",
      "\n",
      "\n",
      "Testing theta = (-2.00, 3.75)\n",
      "AUC: 0.82\n",
      "\n",
      "\n",
      "Testing theta = (-1.50, 3.75)\n",
      "AUC: 0.82\n",
      "\n",
      "\n",
      "Testing theta = (-1.00, 3.75)\n",
      "AUC: 0.83\n",
      "\n",
      "\n",
      "Testing theta = (-0.50, 3.75)\n",
      "AUC: 0.84\n",
      "\n",
      "\n",
      "Testing theta = (0.00, 3.75)\n",
      "AUC: 0.85\n",
      "\n",
      "\n",
      "Testing theta = (0.50, 3.75)\n",
      "AUC: 0.85\n",
      "\n",
      "\n",
      "Testing theta = (1.00, 3.75)\n",
      "AUC: 0.85\n",
      "\n",
      "\n",
      "Testing theta = (1.50, 3.75)\n",
      "AUC: 0.86\n",
      "\n",
      "\n",
      "Testing theta = (2.00, 3.75)\n",
      "AUC: 0.86\n",
      "\n",
      "\n",
      "Testing theta = (-2.00, 3.25)\n",
      "AUC: 0.81\n",
      "\n",
      "\n",
      "Testing theta = (-1.50, 3.25)\n",
      "AUC: 0.82\n",
      "\n",
      "\n",
      "Testing theta = (-1.00, 3.25)\n",
      "AUC: 0.82\n",
      "\n",
      "\n",
      "Testing theta = (-0.50, 3.25)\n",
      "AUC: 0.83\n",
      "\n",
      "\n",
      "Testing theta = (0.00, 3.25)\n",
      "AUC: 0.84\n",
      "\n",
      "\n",
      "Testing theta = (0.50, 3.25)\n",
      "AUC: 0.85\n",
      "\n",
      "\n",
      "Testing theta = (1.00, 3.25)\n",
      "AUC: 0.85\n",
      "\n",
      "\n",
      "Testing theta = (1.50, 3.25)\n",
      "AUC: 0.86\n",
      "\n",
      "\n",
      "Testing theta = (2.00, 3.25)\n",
      "AUC: 0.87\n",
      "\n",
      "\n",
      "Testing theta = (-2.00, 2.75)\n",
      "AUC: 0.80\n",
      "\n",
      "\n",
      "Testing theta = (-1.50, 2.75)\n",
      "AUC: 0.80\n",
      "\n",
      "\n",
      "Testing theta = (-1.00, 2.75)\n",
      "AUC: 0.81\n",
      "\n",
      "\n",
      "Testing theta = (-0.50, 2.75)\n",
      "AUC: 0.81\n",
      "\n",
      "\n",
      "Testing theta = (0.00, 2.75)\n",
      "AUC: 0.82\n",
      "\n",
      "\n",
      "Testing theta = (0.50, 2.75)\n",
      "AUC: 0.84\n",
      "\n",
      "\n",
      "Testing theta = (1.00, 2.75)\n",
      "AUC: 0.85\n",
      "\n",
      "\n",
      "Testing theta = (1.50, 2.75)\n",
      "AUC: 0.87\n",
      "\n",
      "\n",
      "Testing theta = (2.00, 2.75)\n",
      "AUC: 0.88\n",
      "\n",
      "\n",
      "Testing theta = (-2.00, 2.25)\n",
      "AUC: 0.78\n",
      "\n",
      "\n",
      "Testing theta = (-1.50, 2.25)\n",
      "AUC: 0.78\n",
      "\n",
      "\n",
      "Testing theta = (-1.00, 2.25)\n",
      "AUC: 0.78\n",
      "\n",
      "\n",
      "Testing theta = (-0.50, 2.25)\n",
      "AUC: 0.79\n",
      "\n",
      "\n",
      "Testing theta = (0.00, 2.25)\n",
      "AUC: 0.81\n",
      "\n",
      "\n",
      "Testing theta = (0.50, 2.25)\n",
      "AUC: 0.83\n",
      "\n",
      "\n",
      "Testing theta = (1.00, 2.25)\n",
      "AUC: 0.85\n",
      "\n",
      "\n",
      "Testing theta = (1.50, 2.25)\n",
      "AUC: 0.88\n",
      "\n",
      "\n",
      "Testing theta = (2.00, 2.25)\n",
      "AUC: 0.90\n",
      "\n",
      "\n",
      "Testing theta = (-2.00, 1.75)\n",
      "AUC: 0.75\n",
      "\n",
      "\n",
      "Testing theta = (-1.50, 1.75)\n",
      "AUC: 0.74\n",
      "\n",
      "\n",
      "Testing theta = (-1.00, 1.75)\n",
      "AUC: 0.74\n",
      "\n",
      "\n",
      "Testing theta = (-0.50, 1.75)\n",
      "AUC: 0.75\n",
      "\n",
      "\n",
      "Testing theta = (0.00, 1.75)\n",
      "AUC: 0.78\n",
      "\n",
      "\n",
      "Testing theta = (0.50, 1.75)\n",
      "AUC: 0.82\n",
      "\n",
      "\n",
      "Testing theta = (1.00, 1.75)\n",
      "AUC: 0.87\n",
      "\n",
      "\n",
      "Testing theta = (1.50, 1.75)\n",
      "AUC: 0.91\n",
      "\n",
      "\n",
      "Testing theta = (2.00, 1.75)\n",
      "AUC: 0.94\n",
      "\n",
      "\n",
      "Testing theta = (-2.00, 1.25)\n",
      "AUC: 0.74\n",
      "\n",
      "\n",
      "Testing theta = (-1.50, 1.25)\n",
      "AUC: 0.68\n",
      "\n",
      "\n",
      "Testing theta = (-1.00, 1.25)\n",
      "AUC: 0.66\n",
      "\n",
      "\n",
      "Testing theta = (-0.50, 1.25)\n",
      "AUC: 0.69\n",
      "\n",
      "\n",
      "Testing theta = (0.00, 1.25)\n",
      "AUC: 0.77\n",
      "\n",
      "\n",
      "Testing theta = (0.50, 1.25)\n",
      "AUC: 0.85\n",
      "\n",
      "\n",
      "Testing theta = (1.00, 1.25)\n",
      "AUC: 0.91\n",
      "\n",
      "\n",
      "Testing theta = (1.50, 1.25)\n",
      "AUC: 0.96\n",
      "\n",
      "\n",
      "Testing theta = (2.00, 1.25)\n",
      "AUC: 0.98\n",
      "\n",
      "\n",
      "Testing theta = (-2.00, 0.75)\n",
      "AUC: 0.82\n",
      "\n",
      "\n",
      "Testing theta = (-1.50, 0.75)\n",
      "AUC: 0.68\n",
      "\n",
      "\n",
      "Testing theta = (-1.00, 0.75)\n",
      "AUC: 0.51\n",
      "\n",
      "\n",
      "Testing theta = (-0.50, 0.75)\n",
      "AUC: 0.68\n",
      "\n",
      "\n",
      "Testing theta = (0.00, 0.75)\n",
      "AUC: 0.83\n",
      "\n",
      "\n",
      "Testing theta = (0.50, 0.75)\n",
      "AUC: 0.92\n",
      "\n",
      "\n",
      "Testing theta = (1.00, 0.75)\n",
      "AUC: 0.97\n",
      "\n",
      "\n",
      "Testing theta = (1.50, 0.75)\n",
      "AUC: 0.99\n",
      "\n",
      "\n",
      "Testing theta = (2.00, 0.75)\n",
      "AUC: 1.00\n",
      "\n",
      "\n",
      "Testing theta = (-2.00, 0.25)\n",
      "AUC: 0.91\n",
      "\n",
      "\n",
      "Testing theta = (-1.50, 0.25)\n",
      "AUC: 0.83\n",
      "\n",
      "\n",
      "Testing theta = (-1.00, 0.25)\n",
      "AUC: 0.79\n",
      "\n",
      "\n",
      "Testing theta = (-0.50, 0.25)\n",
      "AUC: 0.84\n",
      "\n",
      "\n",
      "Testing theta = (0.00, 0.25)\n",
      "AUC: 0.92\n",
      "\n",
      "\n",
      "Testing theta = (0.50, 0.25)\n",
      "AUC: 0.97\n",
      "\n",
      "\n",
      "Testing theta = (1.00, 0.25)\n",
      "AUC: 0.99\n",
      "\n",
      "\n",
      "Testing theta = (1.50, 0.25)\n",
      "AUC: 1.00\n",
      "\n",
      "\n",
      "Testing theta = (2.00, 0.25)\n",
      "AUC: 1.00\n",
      "\n",
      "\n"
     ]
    }
   ],
   "source": [
    "AUC_G = np.zeros_like(MU)\n",
    "\n",
    "for i in range(AUC_G.shape[0]):\n",
    "    for j in range(AUC_G.shape[1]):\n",
    "        theta = (MU[i, j], SIGMA[i, j])\n",
    "        print(\"Testing theta = ({:.2f}, {:.2f})\".format(theta[0], theta[1]))\n",
    "\n",
    "        auc = run_classifier_G(theta)\n",
    "        AUC_G[i, j] = auc\n",
    "\n",
    "        print(\"AUC: {:.2f}\".format(auc))\n",
    "        print(\"\\n\")"
   ]
  },
  {
   "cell_type": "markdown",
   "metadata": {},
   "source": [
    "### Simulation-level Scan\n",
    "Here, we only know the generator-level events for the synthetic sample and the simulation-level events for both samples. Thus, we reweight on the generator-level events, but classify between the simulation-level events."
   ]
  },
  {
   "cell_type": "code",
   "execution_count": 23,
   "metadata": {
    "ExecuteTime": {
     "end_time": "2020-10-04T05:02:34.008960Z",
     "start_time": "2020-10-04T05:02:33.999606Z"
    }
   },
   "outputs": [],
   "source": [
    "def run_classifier_S(theta, reweight_type='DCTR'):\n",
    "\n",
    "    weights_train = np.ones(len(X_train_G))\n",
    "    weights_test = np.ones(len(X_test_G))\n",
    "\n",
    "    # calculate weights for events in theta_0, but leave ones for events in theta_?\n",
    "    if reweight_type == 'DCTR':\n",
    "        weights_train[Y_train_G == 0] = reweight(X_train_G[Y_train_G == 0],\n",
    "                                                 theta)\n",
    "        weights_test[Y_test_G == 0] = reweight(X_test_G[Y_test_G == 0], theta)\n",
    "    elif reweight_type == 'analytical':\n",
    "        weights_train[Y_train_G == 0] = reweight_analytical(\n",
    "            X_train_G[Y_train_G == 0], theta)\n",
    "        weights_test[Y_test_G == 0] = reweight_analytical(\n",
    "            X_test_G[Y_test_G == 0], theta)\n",
    "\n",
    "    else:\n",
    "        raise ValueError(\"reweight_type must be set to 'DCTR' or 'analytical'\")\n",
    "\n",
    "    model.compile(optimizer='adam',\n",
    "                  loss='binary_crossentropy',\n",
    "                  metrics=['accuracy'])\n",
    "\n",
    "    # fit model on weighted binary cross-entropy\n",
    "    history = model.fit(X_train_S,\n",
    "                        Y_train_S,\n",
    "                        sample_weight=weights_train,\n",
    "                        epochs=200,\n",
    "                        batch_size=batch_size,\n",
    "                        validation_data=(X_test_S, Y_test_S, weights_test),\n",
    "                        verbose=0,\n",
    "                        callbacks=[earlystopping])\n",
    "    # after training, calculate AUC between unknown sample and reweighted synthetic sample\n",
    "    auc = roc_auc_score(np.concatenate((Y_train_S, Y_test_S)),\n",
    "                        model.predict(np.concatenate((X_train_S, X_test_S)),\n",
    "                                      batch_size=10000),\n",
    "                        sample_weight=np.concatenate(\n",
    "                            (weights_train, weights_test)))\n",
    "\n",
    "    return auc"
   ]
  },
  {
   "cell_type": "code",
   "execution_count": 24,
   "metadata": {
    "ExecuteTime": {
     "end_time": "2020-10-04T09:08:04.259354Z",
     "start_time": "2020-10-04T05:02:34.010891Z"
    },
    "scrolled": true
   },
   "outputs": [
    {
     "name": "stdout",
     "output_type": "stream",
     "text": [
      "Testing theta = (-2.00, 4.25)\n",
      "AUC: 0.79\n",
      "\n",
      "\n",
      "Testing theta = (-1.50, 4.25)\n",
      "AUC: 0.80\n",
      "\n",
      "\n",
      "Testing theta = (-1.00, 4.25)\n",
      "AUC: 0.80\n",
      "\n",
      "\n",
      "Testing theta = (-0.50, 4.25)\n",
      "AUC: 0.81\n",
      "\n",
      "\n",
      "Testing theta = (0.00, 4.25)\n",
      "AUC: 0.82\n",
      "\n",
      "\n",
      "Testing theta = (0.50, 4.25)\n",
      "AUC: 0.82\n",
      "\n",
      "\n",
      "Testing theta = (1.00, 4.25)\n",
      "AUC: 0.83\n",
      "\n",
      "\n",
      "Testing theta = (1.50, 4.25)\n",
      "AUC: 0.83\n",
      "\n",
      "\n",
      "Testing theta = (2.00, 4.25)\n",
      "AUC: 0.84\n",
      "\n",
      "\n",
      "Testing theta = (-2.00, 3.75)\n",
      "AUC: 0.79\n",
      "\n",
      "\n",
      "Testing theta = (-1.50, 3.75)\n",
      "AUC: 0.79\n",
      "\n",
      "\n",
      "Testing theta = (-1.00, 3.75)\n",
      "AUC: 0.80\n",
      "\n",
      "\n",
      "Testing theta = (-0.50, 3.75)\n",
      "AUC: 0.81\n",
      "\n",
      "\n",
      "Testing theta = (0.00, 3.75)\n",
      "AUC: 0.82\n",
      "\n",
      "\n",
      "Testing theta = (0.50, 3.75)\n",
      "AUC: 0.82\n",
      "\n",
      "\n",
      "Testing theta = (1.00, 3.75)\n",
      "AUC: 0.83\n",
      "\n",
      "\n",
      "Testing theta = (1.50, 3.75)\n",
      "AUC: 0.84\n",
      "\n",
      "\n",
      "Testing theta = (2.00, 3.75)\n",
      "AUC: 0.84\n",
      "\n",
      "\n",
      "Testing theta = (-2.00, 3.25)\n",
      "AUC: 0.78\n",
      "\n",
      "\n",
      "Testing theta = (-1.50, 3.25)\n",
      "AUC: 0.78\n",
      "\n",
      "\n",
      "Testing theta = (-1.00, 3.25)\n",
      "AUC: 0.79\n",
      "\n",
      "\n",
      "Testing theta = (-0.50, 3.25)\n",
      "AUC: 0.80\n",
      "\n",
      "\n",
      "Testing theta = (0.00, 3.25)\n",
      "AUC: 0.81\n",
      "\n",
      "\n",
      "Testing theta = (0.50, 3.25)\n",
      "AUC: 0.82\n",
      "\n",
      "\n",
      "Testing theta = (1.00, 3.25)\n",
      "AUC: 0.83\n",
      "\n",
      "\n",
      "Testing theta = (1.50, 3.25)\n",
      "AUC: 0.84\n",
      "\n",
      "\n",
      "Testing theta = (2.00, 3.25)\n",
      "AUC: 0.84\n",
      "\n",
      "\n",
      "Testing theta = (-2.00, 2.75)\n",
      "AUC: 0.77\n",
      "\n",
      "\n",
      "Testing theta = (-1.50, 2.75)\n",
      "AUC: 0.77\n",
      "\n",
      "\n",
      "Testing theta = (-1.00, 2.75)\n",
      "AUC: 0.77\n",
      "\n",
      "\n",
      "Testing theta = (-0.50, 2.75)\n",
      "AUC: 0.78\n",
      "\n",
      "\n",
      "Testing theta = (0.00, 2.75)\n",
      "AUC: 0.79\n",
      "\n",
      "\n",
      "Testing theta = (0.50, 2.75)\n",
      "AUC: 0.81\n",
      "\n",
      "\n",
      "Testing theta = (1.00, 2.75)\n",
      "AUC: 0.83\n",
      "\n",
      "\n",
      "Testing theta = (1.50, 2.75)\n",
      "AUC: 0.84\n",
      "\n",
      "\n",
      "Testing theta = (2.00, 2.75)\n",
      "AUC: 0.86\n",
      "\n",
      "\n",
      "Testing theta = (-2.00, 2.25)\n",
      "AUC: 0.74\n",
      "\n",
      "\n",
      "Testing theta = (-1.50, 2.25)\n",
      "AUC: 0.75\n",
      "\n",
      "\n",
      "Testing theta = (-1.00, 2.25)\n",
      "AUC: 0.75\n",
      "\n",
      "\n",
      "Testing theta = (-0.50, 2.25)\n",
      "AUC: 0.76\n",
      "\n",
      "\n",
      "Testing theta = (0.00, 2.25)\n",
      "AUC: 0.78\n",
      "\n",
      "\n",
      "Testing theta = (0.50, 2.25)\n",
      "AUC: 0.80\n",
      "\n",
      "\n",
      "Testing theta = (1.00, 2.25)\n",
      "AUC: 0.83\n",
      "\n",
      "\n",
      "Testing theta = (1.50, 2.25)\n",
      "AUC: 0.86\n",
      "\n",
      "\n",
      "Testing theta = (2.00, 2.25)\n",
      "AUC: 0.88\n",
      "\n",
      "\n",
      "Testing theta = (-2.00, 1.75)\n",
      "AUC: 0.72\n",
      "\n",
      "\n",
      "Testing theta = (-1.50, 1.75)\n",
      "AUC: 0.71\n",
      "\n",
      "\n",
      "Testing theta = (-1.00, 1.75)\n",
      "AUC: 0.70\n",
      "\n",
      "\n",
      "Testing theta = (-0.50, 1.75)\n",
      "AUC: 0.72\n",
      "\n",
      "\n",
      "Testing theta = (0.00, 1.75)\n",
      "AUC: 0.75\n",
      "\n",
      "\n",
      "Testing theta = (0.50, 1.75)\n",
      "AUC: 0.80\n",
      "\n",
      "\n",
      "Testing theta = (1.00, 1.75)\n",
      "AUC: 0.85\n",
      "\n",
      "\n",
      "Testing theta = (1.50, 1.75)\n",
      "AUC: 0.89\n",
      "\n",
      "\n",
      "Testing theta = (2.00, 1.75)\n",
      "AUC: 0.92\n",
      "\n",
      "\n",
      "Testing theta = (-2.00, 1.25)\n",
      "AUC: 0.71\n",
      "\n",
      "\n",
      "Testing theta = (-1.50, 1.25)\n",
      "AUC: 0.65\n",
      "\n",
      "\n",
      "Testing theta = (-1.00, 1.25)\n",
      "AUC: 0.63\n",
      "\n",
      "\n",
      "Testing theta = (-0.50, 1.25)\n",
      "AUC: 0.66\n",
      "\n",
      "\n",
      "Testing theta = (0.00, 1.25)\n",
      "AUC: 0.74\n",
      "\n",
      "\n",
      "Testing theta = (0.50, 1.25)\n",
      "AUC: 0.82\n",
      "\n",
      "\n",
      "Testing theta = (1.00, 1.25)\n",
      "AUC: 0.89\n",
      "\n",
      "\n",
      "Testing theta = (1.50, 1.25)\n",
      "AUC: 0.94\n",
      "\n",
      "\n",
      "Testing theta = (2.00, 1.25)\n",
      "AUC: 0.97\n",
      "\n",
      "\n",
      "Testing theta = (-2.00, 0.75)\n",
      "AUC: 0.77\n",
      "\n",
      "\n",
      "Testing theta = (-1.50, 0.75)\n",
      "AUC: 0.65\n",
      "\n",
      "\n",
      "Testing theta = (-1.00, 0.75)\n",
      "AUC: 0.50\n",
      "\n",
      "\n",
      "Testing theta = (-0.50, 0.75)\n",
      "AUC: 0.66\n",
      "\n",
      "\n",
      "Testing theta = (0.00, 0.75)\n",
      "AUC: 0.78\n",
      "\n",
      "\n",
      "Testing theta = (0.50, 0.75)\n",
      "AUC: 0.88\n",
      "\n",
      "\n",
      "Testing theta = (1.00, 0.75)\n",
      "AUC: 0.94\n",
      "\n",
      "\n",
      "Testing theta = (1.50, 0.75)\n",
      "AUC: 0.97\n",
      "\n",
      "\n",
      "Testing theta = (2.00, 0.75)\n",
      "AUC: 0.99\n",
      "\n",
      "\n",
      "Testing theta = (-2.00, 0.25)\n",
      "AUC: 0.82\n",
      "\n",
      "\n",
      "Testing theta = (-1.50, 0.25)\n",
      "AUC: 0.71\n",
      "\n",
      "\n",
      "Testing theta = (-1.00, 0.25)\n",
      "AUC: 0.65\n",
      "\n",
      "\n",
      "Testing theta = (-0.50, 0.25)\n",
      "AUC: 0.71\n",
      "\n",
      "\n",
      "Testing theta = (0.00, 0.25)\n",
      "AUC: 0.83\n",
      "\n",
      "\n",
      "Testing theta = (0.50, 0.25)\n",
      "AUC: 0.92\n",
      "\n",
      "\n",
      "Testing theta = (1.00, 0.25)\n",
      "AUC: 0.97\n",
      "\n",
      "\n",
      "Testing theta = (1.50, 0.25)\n",
      "AUC: 0.99\n",
      "\n",
      "\n",
      "Testing theta = (2.00, 0.25)\n",
      "AUC: 1.00\n",
      "\n",
      "\n"
     ]
    }
   ],
   "source": [
    "AUC_S = np.zeros_like(MU)\n",
    "\n",
    "for i in range(AUC_S.shape[0]):\n",
    "    for j in range(AUC_S.shape[1]):\n",
    "        theta = (MU[i, j], SIGMA[i, j])\n",
    "        print(\"Testing theta = ({:.2f}, {:.2f})\".format(theta[0], theta[1]))\n",
    "\n",
    "        auc = run_classifier_S(theta)\n",
    "        AUC_S[i, j] = auc\n",
    "\n",
    "        print(\"AUC: {:.2f}\".format(auc))\n",
    "        print(\"\\n\")"
   ]
  },
  {
   "cell_type": "markdown",
   "metadata": {
    "ExecuteTime": {
     "end_time": "2020-09-28T03:09:32.254303Z",
     "start_time": "2020-09-28T03:09:31.934688Z"
    }
   },
   "source": [
    "### Scan results"
   ]
  },
  {
   "cell_type": "code",
   "execution_count": 25,
   "metadata": {
    "ExecuteTime": {
     "end_time": "2020-10-04T09:08:05.256619Z",
     "start_time": "2020-10-04T09:08:04.261531Z"
    }
   },
   "outputs": [
    {
     "name": "stderr",
     "output_type": "stream",
     "text": [
      "No handles with labels found to put in legend.\n",
      "No handles with labels found to put in legend.\n"
     ]
    },
    {
     "data": {
      "image/png": "[encoded data removed]",
      "text/plain": [
       "<Figure size 864x504 with 3 Axes>"
      ]
     },
     "metadata": {
      "needs_background": "light"
     },
     "output_type": "display_data"
    }
   ],
   "source": [
    "fig, ax = plt.subplots(1, 2, figsize=(12, 7), constrained_layout=True)\n",
    "\n",
    "ax[0].contourf(MU, SIGMA, AUC_G, 10, cmap='OrRd')\n",
    "\n",
    "ax[0].set_xlabel('$\\mu$')\n",
    "ax[0].set_ylabel('$\\sigma$')\n",
    "ax[0].set_yticks(np.arange(0.25, 4.75, 0.5))\n",
    "ax[0].legend(title='Generator-level')\n",
    "\n",
    "im = ax[1].contourf(MU, SIGMA, AUC_S, 10, cmap='OrRd')\n",
    "\n",
    "ax[1].set_xlabel('$\\mu$')\n",
    "ax[1].set_ylabel('$\\sigma$')\n",
    "ax[1].set_yticks(np.arange(0.25, 4.75, 0.5))\n",
    "ax[1].legend(title='Simulation-level')\n",
    "\n",
    "fig.colorbar(im,\n",
    "             ax=ax.ravel().tolist(),\n",
    "             label=r'$\\textnormal{AUC}$',\n",
    "             ticks=np.arange(0.5, 1.1, 0.1),\n",
    "             orientation='horizontal')\n",
    "fig.show()"
   ]
  },
  {
   "cell_type": "markdown",
   "metadata": {},
   "source": [
    "We've shown for fixed $\\theta$, the AUC is minimized $\\theta=\\theta_?$. Additionally, the rise in the AUC function away from the minimum is steeper at generator-level than simulation-level (indicated by the contours), as expected given the loss of statistical power from detector smearing."
   ]
  },
  {
   "cell_type": "markdown",
   "metadata": {},
   "source": [
    "## Fitting Model: Non-Gradient Fit\n",
    "Since the AUC is non-differentiable, let's use a non-gradient optimizer to minimize it."
   ]
  },
  {
   "cell_type": "code",
   "execution_count": 26,
   "metadata": {
    "ExecuteTime": {
     "end_time": "2020-10-04T09:08:05.263324Z",
     "start_time": "2020-10-04T09:08:05.258721Z"
    }
   },
   "outputs": [],
   "source": [
    "# restrict optimization to bounds of parameterization of the reweighting function\n",
    "mybounds = Bounds(np.array([mu_min, sigma_min]), np.array([mu_max, sigma_max]))\n",
    "\n",
    "theta0 = np.array([0., 1.])  # initialize"
   ]
  },
  {
   "cell_type": "markdown",
   "metadata": {},
   "source": [
    "### Generator-level Fit"
   ]
  },
  {
   "cell_type": "code",
   "execution_count": 27,
   "metadata": {
    "ExecuteTime": {
     "end_time": "2020-10-04T09:08:05.277993Z",
     "start_time": "2020-10-04T09:08:05.265145Z"
    }
   },
   "outputs": [],
   "source": [
    "def get_AUC_G(x):\n",
    "    theta_prime = x\n",
    "    AUC = run_classifier_G(theta_prime)\n",
    "    return AUC"
   ]
  },
  {
   "cell_type": "code",
   "execution_count": 28,
   "metadata": {
    "ExecuteTime": {
     "end_time": "2020-10-04T14:44:26.389292Z",
     "start_time": "2020-10-04T09:08:05.279932Z"
    }
   },
   "outputs": [
    {
     "name": "stdout",
     "output_type": "stream",
     "text": [
      "Optimization terminated successfully.\n",
      "         Current function value: 0.508135\n",
      "         Iterations: 2\n",
      "         Function evaluations: 80\n"
     ]
    }
   ],
   "source": [
    "res_G = minimize(get_AUC_G,\n",
    "                 theta0,\n",
    "                 method=\"Powell\",\n",
    "                 bounds=mybounds,\n",
    "                 options={\n",
    "                     'maxiter': 100,\n",
    "                     'disp': True\n",
    "                 })"
   ]
  },
  {
   "cell_type": "code",
   "execution_count": 29,
   "metadata": {
    "ExecuteTime": {
     "end_time": "2020-10-04T14:44:26.394705Z",
     "start_time": "2020-10-04T14:44:26.390924Z"
    }
   },
   "outputs": [
    {
     "name": "stdout",
     "output_type": "stream",
     "text": [
      "Optimizer fit value at generator-level: theta_SRGN = (-1.010,0.741).\n"
     ]
    }
   ],
   "source": [
    "print('Optimizer fit value at generator-level: theta_SRGN = ({:.3f},{:.3f}).'.\n",
    "      format(res_G['x'][0], res_G['x'][1]))"
   ]
  },
  {
   "cell_type": "markdown",
   "metadata": {},
   "source": [
    "### Simulation-level Fit"
   ]
  },
  {
   "cell_type": "code",
   "execution_count": 30,
   "metadata": {
    "ExecuteTime": {
     "end_time": "2020-10-04T14:44:26.404991Z",
     "start_time": "2020-10-04T14:44:26.396402Z"
    }
   },
   "outputs": [],
   "source": [
    "def get_AUC_S(x):\n",
    "    theta_prime = x\n",
    "    AUC = run_classifier_S(theta_prime)\n",
    "    return AUC"
   ]
  },
  {
   "cell_type": "code",
   "execution_count": 31,
   "metadata": {
    "ExecuteTime": {
     "end_time": "2020-10-04T19:00:16.368732Z",
     "start_time": "2020-10-04T14:44:26.406862Z"
    }
   },
   "outputs": [
    {
     "name": "stdout",
     "output_type": "stream",
     "text": [
      "Optimization terminated successfully.\n",
      "         Current function value: 0.500067\n",
      "         Iterations: 2\n",
      "         Function evaluations: 81\n"
     ]
    }
   ],
   "source": [
    "res_S = minimize(get_AUC_S,\n",
    "                 theta0,\n",
    "                 method=\"Powell\",\n",
    "                 bounds=mybounds,\n",
    "                 options={\n",
    "                     'maxiter': 100,\n",
    "                     'disp': True\n",
    "                 })"
   ]
  },
  {
   "cell_type": "code",
   "execution_count": 32,
   "metadata": {
    "ExecuteTime": {
     "end_time": "2020-10-04T19:00:16.375352Z",
     "start_time": "2020-10-04T19:00:16.371125Z"
    }
   },
   "outputs": [
    {
     "name": "stdout",
     "output_type": "stream",
     "text": [
      "Optimizer fit value at simulation-level: theta_SRGN = (-1.010,0.738).\n"
     ]
    }
   ],
   "source": [
    "print('Optimizer fit value at simulation-level: theta_SRGN = ({:.3f},{:.3f}).'.\n",
    "      format(res_S['x'][0], res_S['x'][1]))"
   ]
  }
 ],
 "metadata": {
  "kernelspec": {
   "display_name": "Python 3",
   "language": "python",
   "name": "python3"
  },
  "language_info": {
   "codemirror_mode": {
    "name": "ipython",
    "version": 3
   },
   "file_extension": ".py",
   "mimetype": "text/x-python",
   "name": "python",
   "nbconvert_exporter": "python",
   "pygments_lexer": "ipython3",
   "version": "3.5.2"
  },
  "notify_time": "0",
  "toc": {
   "base_numbering": 1,
   "nav_menu": {},
   "number_sections": false,
   "sideBar": true,
   "skip_h1_title": false,
   "title_cell": "Table of Contents",
   "title_sidebar": "Contents",
   "toc_cell": false,
   "toc_position": {
    "height": "682px",
    "left": "237px",
    "top": "140px",
    "width": "262px"
   },
   "toc_section_display": true,
   "toc_window_display": false
  },
  "varInspector": {
   "cols": {
    "lenName": 16,
    "lenType": 16,
    "lenVar": 40
   },
   "kernels_config": {
    "python": {
     "delete_cmd_postfix": "",
     "delete_cmd_prefix": "del ",
     "library": "var_list.py",
     "varRefreshCmd": "print(var_dic_list())"
    },
    "r": {
     "delete_cmd_postfix": ") ",
     "delete_cmd_prefix": "rm(",
     "library": "var_list.r",
     "varRefreshCmd": "cat(var_dic_list()) "
    }
   },
   "types_to_exclude": [
    "module",
    "function",
    "builtin_function_or_method",
    "instance",
    "_Feature"
   ],
   "window_display": false
  }
 },
 "nbformat": 4,
 "nbformat_minor": 2
}
