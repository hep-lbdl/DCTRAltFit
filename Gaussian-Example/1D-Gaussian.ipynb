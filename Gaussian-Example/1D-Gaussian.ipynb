{
 "cells": [
  {
   "cell_type": "code",
   "execution_count": 1,
   "metadata": {
    "ExecuteTime": {
     "end_time": "2020-10-04T01:27:00.951513Z",
     "start_time": "2020-10-04T01:27:00.946752Z"
    }
   },
   "outputs": [],
   "source": [
    "import os\n",
    "os.environ[\"CUDA_DEVICE_ORDER\"] = \"PCI_BUS_ID\"\n",
    "os.environ[\"CUDA_VISIBLE_DEVICES\"] = \"2\""
   ]
  },
  {
   "cell_type": "code",
   "execution_count": 2,
   "metadata": {
    "ExecuteTime": {
     "end_time": "2020-10-04T01:27:03.189987Z",
     "start_time": "2020-10-04T01:27:00.954241Z"
    }
   },
   "outputs": [
    {
     "name": "stderr",
     "output_type": "stream",
     "text": [
      "\n",
      "Bad key \"text.kerning_factor\" on line 4 in\n",
      "/home/asuresh/programs/anaconda3/envs/DCTR/lib/python3.7/site-packages/matplotlib/mpl-data/stylelib/_classic_test_patch.mplstyle.\n",
      "You probably need to get an updated matplotlibrc file from\n",
      "http://github.com/matplotlib/matplotlib/blob/master/matplotlibrc.template\n",
      "or from the matplotlib source distribution\n",
      "Using TensorFlow backend.\n"
     ]
    }
   ],
   "source": [
    "from __future__ import absolute_import, division, print_function\n",
    "\n",
    "import numpy as np\n",
    "from matplotlib import pyplot as plt\n",
    "from matplotlib.patches import Patch\n",
    "import scipy as sp\n",
    "from scipy.optimize import minimize, Bounds\n",
    "\n",
    "from sklearn.model_selection import train_test_split\n",
    "from sklearn.metrics import roc_auc_score\n",
    "\n",
    "import tensorflow as tf\n",
    "import keras\n",
    "from keras.layers import Dense, Input\n",
    "from keras.models import Model\n",
    "from keras.utils import to_categorical\n",
    "from keras.callbacks import EarlyStopping"
   ]
  },
  {
   "cell_type": "code",
   "execution_count": 3,
   "metadata": {
    "ExecuteTime": {
     "end_time": "2020-10-04T01:27:03.200095Z",
     "start_time": "2020-10-04T01:27:03.193137Z"
    }
   },
   "outputs": [],
   "source": [
    "# Global plot settings\n",
    "from matplotlib import rc\n",
    "import matplotlib.font_manager\n",
    "\n",
    "rc('font', family='serif')\n",
    "rc('text', usetex=True)\n",
    "rc('font', size=22)\n",
    "rc('xtick', labelsize=15)\n",
    "rc('ytick', labelsize=15)\n",
    "rc('legend', fontsize=15)"
   ]
  },
  {
   "cell_type": "code",
   "execution_count": 4,
   "metadata": {
    "ExecuteTime": {
     "end_time": "2020-10-04T01:27:03.214113Z",
     "start_time": "2020-10-04T01:27:03.202411Z"
    },
    "scrolled": true
   },
   "outputs": [
    {
     "name": "stdout",
     "output_type": "stream",
     "text": [
      "1.15.0\n",
      "2.2.4\n",
      "1.5.2\n"
     ]
    }
   ],
   "source": [
    "# Check Versions\n",
    "print(tf.__version__)  # 1.15.0\n",
    "print(keras.__version__)  # 2.2.4\n",
    "print(sp.__version__)  # 1.5.2"
   ]
  },
  {
   "cell_type": "markdown",
   "metadata": {},
   "source": [
    "# The SRGN fitting algorithm\n",
    "\n",
    "The DCTR paper ([arXiv:1907.08209](https://arxiv.org/abs/1907.08209)) shows how a continuously parameterized NN used for reweighting:\n",
    "\n",
    "$f(x,\\theta)=\\text{argmax}_{f'}(\\sum_{i\\in\\bf{\\theta}_0}\\log f'(x_i,\\theta)+\\sum_{i\\in\\bf{\\theta}}\\log (1-f'(x_i,\\theta)))$\n",
    "\n",
    "can also be used for fitting:\n",
    "\n",
    "$\\theta^*=\\text{argmax}_{\\theta'}(\\sum_{i\\in\\bf{\\theta}_0}\\log f(x_i,\\theta')+\\sum_{i\\in\\bf{\\theta}}\\log (1-f(x_i,\\theta')))$\n",
    "\n",
    "This works well when the reweighting and fitting happen on the same 'level'.  However, if the reweighting happens at generator-level (before detector simulation) while the fit happens in simulation (after the effects of the detector), this procedure will not work.  It works only if the reweighting and fitting both happen at simulation-level or both happen at generator-level.  This notebook illustrates the alternative SRGN procedure from [arXiv:2010.03569](https://arxiv.org/abs/2010.03569):\n",
    "\n",
    "Let $x$ and $y$ denote the generator- and simulation-level events respectively. Suppose that $g$ is a neural network defined as follows:\n",
    "\n",
    "$g_{\\theta'}(y)=\\text{argmax}_{g}\\sum_{y_i\\in\\boldsymbol{\\theta_?}}\\log(g_{\\theta'}(y_i))+\n",
    "    \\sum_{(x_i,y_i)\\in\\boldsymbol{\\theta_0}}w_{\\theta_0}(x_i,\\theta')\\log(1-g_{\\theta'}(y_i))$\n",
    "\n",
    "where $w_{\\theta_0}(x,\\theta') = f(x,\\theta')/(1-f(x,\\theta'))$ is a reweighting function learned at generator level (and $\\theta_0$ denotes the nominal value of the parameter).  \n",
    "\n",
    "Then, \n",
    "\n",
    "$\\theta_{\\text{SRGN}}^*\\equiv\\text{argmin}_{\\theta'}\\left[\\Pr(g_{\\theta_?}(y)>g_{\\theta'}(y))\\right]$\n",
    "\n",
    "where the quantity in $[\\cdot]$ is typically called the area under the receiver operating characteristic curve or AUC. We calculate the AUC between $g$’s predictions on events from the unknown sample and  $g$’s predictions on reweighted events from the synthetic sample; effectively, if we reweight events from the synthetic sample $\\boldsymbol{\\theta_0}$ to events from $\\boldsymbol{\\theta’}$, then we calculate the AUC between $g$’s predictions on  $\\boldsymbol{\\theta_?} $and $g$’s predictions on $\\boldsymbol{\\theta’}$.\n",
    "\n",
    "\n",
    "The intuition of the above equation is that the classifier $g$ is trying to distinguish events from the unknown sample $\\boldsymbol{\\theta_?}$ and events from $\\boldsymbol{\\theta'}$ and we try to find a $\\theta'$ that makes $g$'s task maximally hard.  If $g$ can't tell apart the two samples (i.e. the AUC is minimized), then the reweighting has worked! Asympotitically, the SRGN method learns the same result as the one in the body of the DCTR paper: $\\theta^*=\\theta_?$."
   ]
  },
  {
   "cell_type": "markdown",
   "metadata": {},
   "source": [
    "# One-dimensional Gaussian Example \n",
    "In this notebook, we apply the SRGN fitting algorithm to a simple one-dimensional example: fitting the mean $\\mu$ of a Gaussian distribution. "
   ]
  },
  {
   "cell_type": "markdown",
   "metadata": {},
   "source": [
    "## Training a DCTR Model\n",
    "First, we need to train a DCTR model parameterized by $\\mu$ to provide us with a reweighting function to be used during fitting."
   ]
  },
  {
   "cell_type": "code",
   "execution_count": 5,
   "metadata": {
    "ExecuteTime": {
     "end_time": "2020-10-04T01:27:03.223496Z",
     "start_time": "2020-10-04T01:27:03.216468Z"
    }
   },
   "outputs": [],
   "source": [
    "n_data_points = 10**7\n",
    "\n",
    "mu_min, mu_max = -2, 2"
   ]
  },
  {
   "cell_type": "markdown",
   "metadata": {
    "ExecuteTime": {
     "end_time": "2020-09-30T18:56:22.230538Z",
     "start_time": "2020-09-30T18:56:22.214191Z"
    }
   },
   "source": [
    "### Generate training & validation data"
   ]
  },
  {
   "cell_type": "code",
   "execution_count": 6,
   "metadata": {
    "ExecuteTime": {
     "end_time": "2020-10-04T01:28:57.510420Z",
     "start_time": "2020-10-04T01:27:03.225735Z"
    }
   },
   "outputs": [],
   "source": [
    "mu0, sigma0 = 0, 1  # nominal values for mu and sigma\n",
    "mu_values = np.random.uniform(mu_min, mu_max, n_data_points)\n",
    "\n",
    "X0 = [(np.random.normal(mu0, sigma0), mu) for mu in mu_values]\n",
    "X1 = [(np.random.normal(mu, sigma0), mu) for mu in mu_values]\n",
    "\n",
    "Y0 = to_categorical(np.zeros(n_data_points), num_classes=2)\n",
    "Y1 = to_categorical(np.ones(n_data_points), num_classes=2)\n",
    "\n",
    "X = np.concatenate((X0, X1))\n",
    "Y = np.concatenate((Y0, Y1))\n",
    "\n",
    "X_train, X_test, Y_train, Y_test = train_test_split(X, Y, test_size=0.5)"
   ]
  },
  {
   "cell_type": "markdown",
   "metadata": {},
   "source": [
    "### Build Model"
   ]
  },
  {
   "cell_type": "code",
   "execution_count": 7,
   "metadata": {
    "ExecuteTime": {
     "end_time": "2020-10-04T01:28:57.610182Z",
     "start_time": "2020-10-04T01:28:57.512842Z"
    }
   },
   "outputs": [
    {
     "name": "stdout",
     "output_type": "stream",
     "text": [
      "WARNING:tensorflow:From /home/asuresh/programs/anaconda3/envs/DCTR/lib/python3.7/site-packages/keras/backend/tensorflow_backend.py:74: The name tf.get_default_graph is deprecated. Please use tf.compat.v1.get_default_graph instead.\n",
      "\n",
      "WARNING:tensorflow:From /home/asuresh/programs/anaconda3/envs/DCTR/lib/python3.7/site-packages/keras/backend/tensorflow_backend.py:517: The name tf.placeholder is deprecated. Please use tf.compat.v1.placeholder instead.\n",
      "\n",
      "WARNING:tensorflow:From /home/asuresh/programs/anaconda3/envs/DCTR/lib/python3.7/site-packages/keras/backend/tensorflow_backend.py:4138: The name tf.random_uniform is deprecated. Please use tf.random.uniform instead.\n",
      "\n",
      "WARNING:tensorflow:From /home/asuresh/programs/anaconda3/envs/DCTR/lib/python3.7/site-packages/keras/optimizers.py:790: The name tf.train.Optimizer is deprecated. Please use tf.compat.v1.train.Optimizer instead.\n",
      "\n",
      "WARNING:tensorflow:From /home/asuresh/programs/anaconda3/envs/DCTR/lib/python3.7/site-packages/keras/backend/tensorflow_backend.py:3295: The name tf.log is deprecated. Please use tf.math.log instead.\n",
      "\n"
     ]
    }
   ],
   "source": [
    "inputs = Input((2, ))\n",
    "hidden_layer_1 = Dense(50, activation='relu')(inputs)\n",
    "hidden_layer_2 = Dense(50, activation='relu')(hidden_layer_1)\n",
    "hidden_layer_3 = Dense(50, activation='relu')(hidden_layer_2)\n",
    "outputs = Dense(2, activation='softmax')(hidden_layer_3)\n",
    "\n",
    "dctr_model = Model(inputs=inputs, outputs=outputs)\n",
    "dctr_model.compile(loss='categorical_crossentropy',\n",
    "                   optimizer='Adam',\n",
    "                   metrics=['accuracy'])"
   ]
  },
  {
   "cell_type": "markdown",
   "metadata": {},
   "source": [
    "### Train Model"
   ]
  },
  {
   "cell_type": "code",
   "execution_count": 8,
   "metadata": {
    "ExecuteTime": {
     "end_time": "2020-10-04T01:49:53.320155Z",
     "start_time": "2020-10-04T01:28:57.613557Z"
    }
   },
   "outputs": [
    {
     "name": "stdout",
     "output_type": "stream",
     "text": [
      "WARNING:tensorflow:From /home/asuresh/programs/anaconda3/envs/DCTR/lib/python3.7/site-packages/tensorflow_core/python/ops/math_grad.py:1424: where (from tensorflow.python.ops.array_ops) is deprecated and will be removed in a future version.\n",
      "Instructions for updating:\n",
      "Use tf.where in 2.0, which has the same broadcast rule as np.where\n",
      "WARNING:tensorflow:From /home/asuresh/programs/anaconda3/envs/DCTR/lib/python3.7/site-packages/keras/backend/tensorflow_backend.py:986: The name tf.assign_add is deprecated. Please use tf.compat.v1.assign_add instead.\n",
      "\n",
      "WARNING:tensorflow:From /home/asuresh/programs/anaconda3/envs/DCTR/lib/python3.7/site-packages/keras/backend/tensorflow_backend.py:973: The name tf.assign is deprecated. Please use tf.compat.v1.assign instead.\n",
      "\n",
      "WARNING:tensorflow:From /home/asuresh/programs/anaconda3/envs/DCTR/lib/python3.7/site-packages/keras/backend/tensorflow_backend.py:2741: The name tf.Session is deprecated. Please use tf.compat.v1.Session instead.\n",
      "\n",
      "Train on 10000000 samples, validate on 10000000 samples\n",
      "Epoch 1/200\n",
      "WARNING:tensorflow:From /home/asuresh/programs/anaconda3/envs/DCTR/lib/python3.7/site-packages/keras/backend/tensorflow_backend.py:174: The name tf.get_default_session is deprecated. Please use tf.compat.v1.get_default_session instead.\n",
      "\n",
      "WARNING:tensorflow:From /home/asuresh/programs/anaconda3/envs/DCTR/lib/python3.7/site-packages/keras/backend/tensorflow_backend.py:181: The name tf.ConfigProto is deprecated. Please use tf.compat.v1.ConfigProto instead.\n",
      "\n",
      "WARNING:tensorflow:From /home/asuresh/programs/anaconda3/envs/DCTR/lib/python3.7/site-packages/keras/backend/tensorflow_backend.py:190: The name tf.global_variables is deprecated. Please use tf.compat.v1.global_variables instead.\n",
      "\n",
      "WARNING:tensorflow:From /home/asuresh/programs/anaconda3/envs/DCTR/lib/python3.7/site-packages/keras/backend/tensorflow_backend.py:199: The name tf.is_variable_initialized is deprecated. Please use tf.compat.v1.is_variable_initialized instead.\n",
      "\n",
      "WARNING:tensorflow:From /home/asuresh/programs/anaconda3/envs/DCTR/lib/python3.7/site-packages/keras/backend/tensorflow_backend.py:206: The name tf.variables_initializer is deprecated. Please use tf.compat.v1.variables_initializer instead.\n",
      "\n",
      "10000000/10000000 [==============================] - 38s 4us/step - loss: 0.5662 - acc: 0.6826 - val_loss: 0.5628 - val_acc: 0.6843\n",
      "Epoch 2/200\n",
      "10000000/10000000 [==============================] - 36s 4us/step - loss: 0.5631 - acc: 0.6840 - val_loss: 0.5631 - val_acc: 0.6841\n",
      "Epoch 3/200\n",
      "10000000/10000000 [==============================] - 36s 4us/step - loss: 0.5630 - acc: 0.6839 - val_loss: 0.5627 - val_acc: 0.6843\n",
      "Epoch 4/200\n",
      "10000000/10000000 [==============================] - 37s 4us/step - loss: 0.5630 - acc: 0.6840 - val_loss: 0.5627 - val_acc: 0.6843\n",
      "Epoch 5/200\n",
      "10000000/10000000 [==============================] - 36s 4us/step - loss: 0.5630 - acc: 0.6841 - val_loss: 0.5627 - val_acc: 0.6844\n",
      "Epoch 6/200\n",
      "10000000/10000000 [==============================] - 70s 7us/step - loss: 0.5630 - acc: 0.6840 - val_loss: 0.5629 - val_acc: 0.6843\n",
      "Epoch 7/200\n",
      "10000000/10000000 [==============================] - 77s 8us/step - loss: 0.5630 - acc: 0.6840 - val_loss: 0.5627 - val_acc: 0.6844\n",
      "Epoch 8/200\n",
      "10000000/10000000 [==============================] - 52s 5us/step - loss: 0.5630 - acc: 0.6841 - val_loss: 0.5628 - val_acc: 0.6844\n",
      "Epoch 9/200\n",
      "10000000/10000000 [==============================] - 41s 4us/step - loss: 0.5630 - acc: 0.6841 - val_loss: 0.5627 - val_acc: 0.6844\n",
      "Epoch 10/200\n",
      "10000000/10000000 [==============================] - 41s 4us/step - loss: 0.5629 - acc: 0.6841 - val_loss: 0.5626 - val_acc: 0.6844\n",
      "Epoch 11/200\n",
      "10000000/10000000 [==============================] - 41s 4us/step - loss: 0.5630 - acc: 0.6842 - val_loss: 0.5627 - val_acc: 0.6844\n",
      "Epoch 12/200\n",
      "10000000/10000000 [==============================] - 41s 4us/step - loss: 0.5629 - acc: 0.6841 - val_loss: 0.5626 - val_acc: 0.6844\n",
      "Epoch 13/200\n",
      "10000000/10000000 [==============================] - 41s 4us/step - loss: 0.5629 - acc: 0.6841 - val_loss: 0.5627 - val_acc: 0.6843\n",
      "Epoch 14/200\n",
      "10000000/10000000 [==============================] - 41s 4us/step - loss: 0.5629 - acc: 0.6841 - val_loss: 0.5627 - val_acc: 0.6844\n",
      "Epoch 15/200\n",
      "10000000/10000000 [==============================] - 39s 4us/step - loss: 0.5629 - acc: 0.6841 - val_loss: 0.5627 - val_acc: 0.6843\n",
      "Epoch 16/200\n",
      "10000000/10000000 [==============================] - 41s 4us/step - loss: 0.5629 - acc: 0.6841 - val_loss: 0.5628 - val_acc: 0.6844\n",
      "Epoch 17/200\n",
      "10000000/10000000 [==============================] - 41s 4us/step - loss: 0.5629 - acc: 0.6841 - val_loss: 0.5626 - val_acc: 0.6844\n",
      "Epoch 18/200\n",
      "10000000/10000000 [==============================] - 41s 4us/step - loss: 0.5629 - acc: 0.6841 - val_loss: 0.5629 - val_acc: 0.6842\n",
      "Epoch 19/200\n",
      "10000000/10000000 [==============================] - 41s 4us/step - loss: 0.5629 - acc: 0.6842 - val_loss: 0.5626 - val_acc: 0.6844\n",
      "Epoch 20/200\n",
      "10000000/10000000 [==============================] - 41s 4us/step - loss: 0.5629 - acc: 0.6841 - val_loss: 0.5626 - val_acc: 0.6844\n",
      "Epoch 21/200\n",
      "10000000/10000000 [==============================] - 41s 4us/step - loss: 0.5629 - acc: 0.6842 - val_loss: 0.5627 - val_acc: 0.6844\n",
      "Epoch 22/200\n",
      "10000000/10000000 [==============================] - 41s 4us/step - loss: 0.5629 - acc: 0.6841 - val_loss: 0.5627 - val_acc: 0.6845\n",
      "Epoch 23/200\n",
      "10000000/10000000 [==============================] - 41s 4us/step - loss: 0.5629 - acc: 0.6841 - val_loss: 0.5626 - val_acc: 0.6844\n",
      "Epoch 24/200\n",
      "10000000/10000000 [==============================] - 46s 5us/step - loss: 0.5629 - acc: 0.6841 - val_loss: 0.5627 - val_acc: 0.6844\n",
      "Epoch 25/200\n",
      "10000000/10000000 [==============================] - 36s 4us/step - loss: 0.5629 - acc: 0.6841 - val_loss: 0.5626 - val_acc: 0.6844\n",
      "Epoch 26/200\n",
      "10000000/10000000 [==============================] - 36s 4us/step - loss: 0.5629 - acc: 0.6842 - val_loss: 0.5626 - val_acc: 0.6844\n",
      "Epoch 27/200\n",
      "10000000/10000000 [==============================] - 36s 4us/step - loss: 0.5629 - acc: 0.6842 - val_loss: 0.5628 - val_acc: 0.6844\n",
      "Epoch 28/200\n",
      "10000000/10000000 [==============================] - 35s 4us/step - loss: 0.5629 - acc: 0.6842 - val_loss: 0.5626 - val_acc: 0.6844\n",
      "Epoch 29/200\n",
      "10000000/10000000 [==============================] - 37s 4us/step - loss: 0.5629 - acc: 0.6841 - val_loss: 0.5627 - val_acc: 0.6844\n",
      "Epoch 30/200\n",
      "10000000/10000000 [==============================] - 36s 4us/step - loss: 0.5629 - acc: 0.6841 - val_loss: 0.5629 - val_acc: 0.6844\n",
      "Restoring model weights from the end of the best epoch\n",
      "Epoch 00030: early stopping\n"
     ]
    },
    {
     "data": {
      "text/plain": [
       "<keras.callbacks.History at 0x7f02b89d7f10>"
      ]
     },
     "execution_count": 8,
     "metadata": {},
     "output_type": "execute_result"
    }
   ],
   "source": [
    "earlystopping = EarlyStopping(patience=10,\n",
    "                              verbose=1,\n",
    "                              restore_best_weights=True)\n",
    "dctr_model.fit(X_train,\n",
    "               Y_train,\n",
    "               epochs=200,\n",
    "               batch_size=10000,\n",
    "               validation_data=(X_test, Y_test),\n",
    "               callbacks=[earlystopping],\n",
    "               verbose=1)"
   ]
  },
  {
   "cell_type": "markdown",
   "metadata": {},
   "source": [
    "### Defining reweighting functions\n",
    "\n",
    "$w_{\\theta_0}(x_{G,i},\\theta)=\\frac{f(x_{G,i}\\theta)}{1-f(x_{G,i},\\theta)}$, where $f$  is a fully trained DCTR model.\n",
    "\n",
    "Takes generator-level event $x_{G,i}$ from the synthetic sample $\\boldsymbol{\\theta_0}$ and weights it to an event from $\\boldsymbol{\\theta}$.\n",
    "\n",
    "The expression for the analytical reweighting function for the Gaussian distribution (at fixed $\\sigma=1$) is:\n",
    "\n",
    "$w_{\\mu_0}(x_{G,i}, \\mu) = \\exp{(\\frac{1}{2}((x_{G,i}-\\mu_0)^2-(x_{G,i}-\\mu)^2))}$."
   ]
  },
  {
   "cell_type": "code",
   "execution_count": 9,
   "metadata": {
    "ExecuteTime": {
     "end_time": "2020-10-04T01:49:53.327848Z",
     "start_time": "2020-10-04T01:49:53.322311Z"
    }
   },
   "outputs": [],
   "source": [
    "# from NN (DCTR)\n",
    "def reweight(events, param):\n",
    "    # creating array with same length as inputs, with theta_prime in every entry\n",
    "    concat_input_and_params = np.ones(shape=events.shape) * param\n",
    "    # combining and reshaping into correct format:\n",
    "    model_inputs = np.concatenate((events, concat_input_and_params), axis=-1)\n",
    "\n",
    "    f = dctr_model.predict(model_inputs, batch_size=10000)\n",
    "    weights = (f[:, 1]) / (f[:, 0])\n",
    "    return weights\n",
    "\n",
    "\n",
    "# from analytical formula for normal distributions\n",
    "def analytical_reweight(events, param, param0=mu0):\n",
    "    weights = np.exp(0.5 * ((events - param0)**2 - (events - param)**2))\n",
    "    return weights"
   ]
  },
  {
   "cell_type": "markdown",
   "metadata": {},
   "source": [
    "## Validate DCTR for any $\\mu$"
   ]
  },
  {
   "cell_type": "code",
   "execution_count": 10,
   "metadata": {
    "ExecuteTime": {
     "end_time": "2020-10-04T01:49:53.344185Z",
     "start_time": "2020-10-04T01:49:53.329632Z"
    }
   },
   "outputs": [],
   "source": [
    "# Define default plot styles\n",
    "plot_style_0 = {\n",
    "    'histtype': 'step',\n",
    "    'color': 'black',\n",
    "    'linewidth': 2,\n",
    "    'linestyle': '--',\n",
    "    'density': True\n",
    "}\n",
    "\n",
    "plot_style_1 = {\n",
    "    'histtype': 'step',\n",
    "    'color': 'black',\n",
    "    'linewidth': 2,\n",
    "    'density': True\n",
    "}\n",
    "\n",
    "plot_style_2 = {'alpha': 0.5, 'density': True}"
   ]
  },
  {
   "cell_type": "markdown",
   "metadata": {},
   "source": [
    "### Validate for Generator-level"
   ]
  },
  {
   "cell_type": "code",
   "execution_count": 11,
   "metadata": {
    "ExecuteTime": {
     "end_time": "2020-10-04T01:49:53.459894Z",
     "start_time": "2020-10-04T01:49:53.345633Z"
    }
   },
   "outputs": [],
   "source": [
    "mu1 = 1.5\n",
    "assert mu1 >= mu_min and mu1 <= mu_max  # choose mu1 in valid range\n",
    "X0_val_G = np.random.normal(mu0, 1, 10**6)\n",
    "X1_val_G = np.random.normal(mu1, 1, 10**6)"
   ]
  },
  {
   "cell_type": "code",
   "execution_count": 12,
   "metadata": {
    "ExecuteTime": {
     "end_time": "2020-10-04T01:49:54.297501Z",
     "start_time": "2020-10-04T01:49:53.462287Z"
    }
   },
   "outputs": [],
   "source": [
    "weights = reweight(np.expand_dims(X0_val_G, axis=-1), mu1)\n",
    "analytical_weights = analytical_reweight(X0_val_G, mu1)"
   ]
  },
  {
   "cell_type": "markdown",
   "metadata": {},
   "source": [
    "#### Generator-level Reweighting"
   ]
  },
  {
   "cell_type": "code",
   "execution_count": 13,
   "metadata": {
    "ExecuteTime": {
     "end_time": "2020-10-04T01:49:56.471961Z",
     "start_time": "2020-10-04T01:49:54.299732Z"
    }
   },
   "outputs": [
    {
     "data": {
      "image/png": "[encoded data removed]",
      "text/plain": [
       "<Figure size 432x360 with 1 Axes>"
      ]
     },
     "metadata": {
      "needs_background": "light"
     },
     "output_type": "display_data"
    }
   ],
   "source": [
    "bins = np.linspace(-7, 5, 31)\n",
    "plt.figure(figsize=(6, 5))\n",
    "hist0 = plt.hist(X0_val_G,\n",
    "                 bins=bins,\n",
    "                 label=r'$\\mu={}$'.format(mu0),\n",
    "                 **plot_style_2)\n",
    "hist1 = plt.hist(X0_val_G,\n",
    "                 bins=bins,\n",
    "                 label='$\\mu={}$\\nDCTR wgt.'.format(mu0),\n",
    "                 weights=weights,\n",
    "                 **plot_style_0)\n",
    "hist2 = plt.hist(X0_val_G,\n",
    "                 bins=bins,\n",
    "                 label='$\\mu={}$\\nanalytical wgt.'.format(mu0),\n",
    "                 weights=analytical_weights,\n",
    "                 **plot_style_1)\n",
    "hist3 = plt.hist(X1_val_G,\n",
    "                 bins=bins,\n",
    "                 label=r'$\\mu={}$'.format(mu1),\n",
    "                 **plot_style_2)\n",
    "plt.legend(frameon=False)\n",
    "plt.xlabel(r\"$x_G$\")\n",
    "plt.ylabel(\"Events per bin (normalized)\")\n",
    "plt.show()"
   ]
  },
  {
   "cell_type": "markdown",
   "metadata": {},
   "source": [
    "### Validate for Simulation-level"
   ]
  },
  {
   "cell_type": "markdown",
   "metadata": {},
   "source": [
    "#### Detector Smearing"
   ]
  },
  {
   "cell_type": "markdown",
   "metadata": {},
   "source": [
    "To apply detector effects, each generator-level event $x_{G,i}$in the sample is smeared by shifting by $Z_{i}\\sim\\mathcal{N}(0,\\epsilon^2)$,where $\\epsilon$ represents the smearing (i.e. the simulation-level event $x_{S,i} = x_{G,i} + Z_{i}$)"
   ]
  },
  {
   "cell_type": "code",
   "execution_count": 14,
   "metadata": {
    "ExecuteTime": {
     "end_time": "2020-10-04T01:50:05.064614Z",
     "start_time": "2020-10-04T01:49:56.474015Z"
    }
   },
   "outputs": [],
   "source": [
    "# Generate simulation-level by smearing truth\n",
    "\n",
    "epsilon_val = 0.5  # Smearing width\n",
    "\n",
    "X0_val_S = np.array([(x + np.random.normal(0, epsilon_val))\n",
    "                     for x in X0_val_G])  # Detector smearing\n",
    "X1_val_S = np.array([(x + np.random.normal(0, epsilon_val))\n",
    "                     for x in X1_val_G])  # Detector smearing"
   ]
  },
  {
   "cell_type": "code",
   "execution_count": 15,
   "metadata": {
    "ExecuteTime": {
     "end_time": "2020-10-04T01:50:06.600618Z",
     "start_time": "2020-10-04T01:50:05.067742Z"
    }
   },
   "outputs": [
    {
     "name": "stderr",
     "output_type": "stream",
     "text": [
      "No handles with labels found to put in legend.\n",
      "No handles with labels found to put in legend.\n"
     ]
    },
    {
     "data": {
      "image/png": "[encoded data removed]",
      "text/plain": [
       "<Figure size 864x360 with 2 Axes>"
      ]
     },
     "metadata": {
      "needs_background": "light"
     },
     "output_type": "display_data"
    }
   ],
   "source": [
    "fig, ax = plt.subplots(1,\n",
    "                       2,\n",
    "                       figsize=(12, 5),\n",
    "                       constrained_layout=True,\n",
    "                       sharey=True)\n",
    "\n",
    "bins = np.linspace(-6, 6, 31)\n",
    "\n",
    "ax[0].set_xlabel(\"$x$\")\n",
    "ax[0].set_ylabel('Events per bin (normalized)')\n",
    "ax[0].hist(X0_val_G, bins=bins, **plot_style_2)\n",
    "ax[0].hist(X0_val_S, bins=bins, **plot_style_2)\n",
    "ax[0].legend(title=r'$\\mu={}$'.format(mu0), loc='upper left', frameon=False)\n",
    "\n",
    "ax[1].set_xlabel(\"$x$\")\n",
    "ax[1].hist(X1_val_G, bins=bins, **plot_style_2)\n",
    "ax[1].hist(X1_val_S, bins=bins, **plot_style_2)\n",
    "ax[1].legend(title=r'$\\mu={}$'.format(mu1), loc='upper left', frameon=False)\n",
    "\n",
    "handles = [Patch(facecolor='C0', alpha=0.5), Patch(facecolor='C1', alpha=0.5)]\n",
    "labels = ['Generator', 'Simulation']\n",
    "fig.legend(handles, labels, ncol=2, bbox_to_anchor=(0.66, 1.1))\n",
    "\n",
    "fig.show()"
   ]
  },
  {
   "cell_type": "markdown",
   "metadata": {},
   "source": [
    "#### Simulation-level Reweighting"
   ]
  },
  {
   "cell_type": "code",
   "execution_count": 16,
   "metadata": {
    "ExecuteTime": {
     "end_time": "2020-10-04T01:50:07.500092Z",
     "start_time": "2020-10-04T01:50:06.602580Z"
    },
    "scrolled": true
   },
   "outputs": [
    {
     "data": {
      "image/png": "[encoded data removed]",
      "text/plain": [
       "<Figure size 432x360 with 1 Axes>"
      ]
     },
     "metadata": {
      "needs_background": "light"
     },
     "output_type": "display_data"
    }
   ],
   "source": [
    "bins = np.linspace(-7, 5, 31)\n",
    "plt.figure(figsize=(6, 5))\n",
    "hist0 = plt.hist(X0_val_S,\n",
    "                 bins=bins,\n",
    "                 label=r'$\\mu={}$'.format(mu0),\n",
    "                 **plot_style_2)\n",
    "hist1 = plt.hist(X0_val_S,\n",
    "                 bins=bins,\n",
    "                 label='$\\mu={}$\\nDCTR wgt.'.format(mu0),\n",
    "                 weights=weights,\n",
    "                 **plot_style_0)\n",
    "hist2 = plt.hist(X0_val_S,\n",
    "                 bins=bins,\n",
    "                 label='$\\mu={}$\\nanalytical wgt.'.format(mu0),\n",
    "                 weights=analytical_weights,\n",
    "                 **plot_style_1)\n",
    "hist3 = plt.hist(X1_val_S,\n",
    "                 bins=bins,\n",
    "                 label=r'$\\mu={}$'.format(mu1),\n",
    "                 **plot_style_2)\n",
    "plt.legend(frameon=False)\n",
    "plt.xlabel(r\"$x_S$\")\n",
    "plt.ylabel(\"Events per bin (normalized)\")\n",
    "plt.show()"
   ]
  },
  {
   "cell_type": "markdown",
   "metadata": {},
   "source": [
    "# Fitting"
   ]
  },
  {
   "cell_type": "markdown",
   "metadata": {},
   "source": [
    "## Setup the dataset"
   ]
  },
  {
   "cell_type": "markdown",
   "metadata": {},
   "source": [
    "$\\boldsymbol{\\theta_0}$ denotes the synthetic sample used for reweighting, and we are trying to fit the parameter $\\theta$ (in this case $\\mu$) to the 'data' sample $\\boldsymbol{\\theta_?}$ (`theta_unknown`).\n",
    "\n",
    "Again, to apply detector effects, each generator-level event $x_{G,i}$in the samples is smeared by shifting by $Z_{i}\\sim\\mathcal{N}(0,\\epsilon^2)$,where $\\epsilon$ represents the smearing (i.e. the simulation-level event $x_{S,i} = x_{G,i} + Z_{i}$)"
   ]
  },
  {
   "cell_type": "code",
   "execution_count": 17,
   "metadata": {
    "ExecuteTime": {
     "end_time": "2020-10-04T01:50:16.279366Z",
     "start_time": "2020-10-04T01:50:07.502737Z"
    }
   },
   "outputs": [],
   "source": [
    "N = 10**6\n",
    "theta0_param = mu0  # synthetic sample\n",
    "theta_unknown_param = 1  # this is the data (the target)\n",
    "sigma = sigma0  # standard Gaussian width\n",
    "epsilon = sigma / 2  # Smearing width\n",
    "\n",
    "theta0_G = np.random.normal(theta0_param, sigma,\n",
    "                            N)  # Generator-level synthetic sample\n",
    "theta0_S = np.array([(x + np.random.normal(0, epsilon)) for x in theta0_G\n",
    "                     ])  # Detector smearing for synthetic sample\n",
    "theta0 = np.stack([theta0_G, theta0_S], axis=1)\n",
    "\n",
    "theta_unknown_G = np.random.normal(theta_unknown_param, sigma, N)\n",
    "theta_unknown_S = np.array([(x + np.random.normal(0, epsilon))\n",
    "                            for x in theta_unknown_G])\n",
    "theta_unknown = np.stack([theta_unknown_G, theta_unknown_S], axis=1)"
   ]
  },
  {
   "cell_type": "code",
   "execution_count": 18,
   "metadata": {
    "ExecuteTime": {
     "end_time": "2020-10-04T01:50:18.161973Z",
     "start_time": "2020-10-04T01:50:16.282302Z"
    }
   },
   "outputs": [
    {
     "name": "stderr",
     "output_type": "stream",
     "text": [
      "No handles with labels found to put in legend.\n",
      "No handles with labels found to put in legend.\n"
     ]
    },
    {
     "data": {
      "image/png": "[encoded data removed]",
      "text/plain": [
       "<Figure size 864x360 with 2 Axes>"
      ]
     },
     "metadata": {
      "needs_background": "light"
     },
     "output_type": "display_data"
    }
   ],
   "source": [
    "bins = np.linspace(-6, 6, 31)\n",
    "\n",
    "fig, ax = plt.subplots(1,\n",
    "                       2,\n",
    "                       figsize=(12, 5),\n",
    "                       constrained_layout=True,\n",
    "                       sharey=True)\n",
    "\n",
    "ax[0].set_xlabel('$x$')\n",
    "ax[0].set_ylabel('Events per bin (normalized)')\n",
    "ax[0].hist(theta0_G, bins=bins, **plot_style_2)\n",
    "ax[0].hist(theta0_S, bins=bins, **plot_style_2)\n",
    "legend = ax[0].legend(title='Synthetic\\n$\\mu={}$'.format(theta0_param),\n",
    "                      loc='upper left',\n",
    "                      frameon=False)\n",
    "plt.setp(legend.get_title(), multialignment='center')\n",
    "\n",
    "ax[1].set_xlabel('$x$')\n",
    "ax[1].hist(theta_unknown_G, bins=bins, **plot_style_2)\n",
    "ax[1].hist(theta_unknown_S, bins=bins, **plot_style_2)\n",
    "legend = ax[1].legend(title='Data\\n$\\mu={}$'.format(theta_unknown_param),\n",
    "                      loc='upper left',\n",
    "                      frameon=False)\n",
    "plt.setp(legend.get_title(), multialignment='center')\n",
    "\n",
    "handles = [Patch(facecolor='C0', alpha=0.5), Patch(facecolor='C1', alpha=0.5)]\n",
    "labels = ['Generator', 'Simulation']\n",
    "fig.legend(handles, labels, ncol=2, bbox_to_anchor=(0.66, 1.1))\n",
    "\n",
    "fig.show()"
   ]
  },
  {
   "cell_type": "code",
   "execution_count": 19,
   "metadata": {
    "ExecuteTime": {
     "end_time": "2020-10-04T01:50:18.380743Z",
     "start_time": "2020-10-04T01:50:18.166609Z"
    }
   },
   "outputs": [],
   "source": [
    "labels0 = np.zeros(len(theta0))\n",
    "labels_unknown = np.ones(len(theta_unknown))\n",
    "\n",
    "xvals = np.concatenate([theta0, theta_unknown])\n",
    "yvals = np.concatenate([labels0, labels_unknown])\n",
    "\n",
    "X_train, X_test, Y_train, Y_test = train_test_split(xvals,\n",
    "                                                    yvals,\n",
    "                                                    test_size=0.5)\n",
    "\n",
    "X_train_G, Y_train_G = X_train[:, 0], Y_train\n",
    "X_test_G, Y_test_G = X_test[:, 0], Y_test\n",
    "\n",
    "X_train_S, Y_train_S = X_train[:, 1], Y_train\n",
    "X_test_S, Y_test_S = X_test[:, 1], Y_test"
   ]
  },
  {
   "cell_type": "markdown",
   "metadata": {},
   "source": [
    "## Fitting Model: Scan\n",
    "\n",
    "We'll start by showing that for fixed $\\theta$, the AUC is minimized when $\\theta=\\theta_?$."
   ]
  },
  {
   "cell_type": "markdown",
   "metadata": {},
   "source": [
    "### Creating Model"
   ]
  },
  {
   "cell_type": "code",
   "execution_count": 20,
   "metadata": {
    "ExecuteTime": {
     "end_time": "2020-10-04T01:50:18.428174Z",
     "start_time": "2020-10-04T01:50:18.384012Z"
    }
   },
   "outputs": [
    {
     "name": "stdout",
     "output_type": "stream",
     "text": [
      "_________________________________________________________________\n",
      "Layer (type)                 Output Shape              Param #   \n",
      "=================================================================\n",
      "input_2 (InputLayer)         (None, 1)                 0         \n",
      "_________________________________________________________________\n",
      "dense_5 (Dense)              (None, 128)               256       \n",
      "_________________________________________________________________\n",
      "dense_6 (Dense)              (None, 128)               16512     \n",
      "_________________________________________________________________\n",
      "dense_7 (Dense)              (None, 1)                 129       \n",
      "=================================================================\n",
      "Total params: 16,897\n",
      "Trainable params: 16,897\n",
      "Non-trainable params: 0\n",
      "_________________________________________________________________\n"
     ]
    }
   ],
   "source": [
    "myinputs = Input(shape=(1, ), dtype=tf.float32)\n",
    "x = Dense(128, activation='relu')(myinputs)\n",
    "x2 = Dense(128, activation='relu')(x)\n",
    "predictions = Dense(1, activation='sigmoid')(x2)\n",
    "\n",
    "model = Model(inputs=myinputs, outputs=predictions)\n",
    "model.summary()\n",
    "\n",
    "batch_size = 1000\n",
    "earlystopping = EarlyStopping(patience=5, restore_best_weights=True)\n",
    "\n",
    "# scanning range for theta\n",
    "thetas = np.linspace(mu_min, mu_max, 21)"
   ]
  },
  {
   "cell_type": "markdown",
   "metadata": {},
   "source": [
    "We will train this model with a weighted binary cross-entropy loss function:\n",
    "\n",
    "$\\text{loss}(g_{\\theta'}(x))=-\\sum_{x_i\\in\\boldsymbol{\\theta_?}}\\log(g_{\\theta'}(x_i))-\n",
    "    \\sum_{x_i\\in\\boldsymbol{\\theta_0}}w_{\\theta_0}(x_{G,i},\\theta')\\log(1-g_{\\theta'}(x_i))$\n",
    "    \n",
    "where $x_i=x_{G,i}$ when fitting on generator-level and $x_i=x_{S,i}$ when fitting on simulation-level. Note that reweighting always occurs on generator-level, as we always know the generator-level events for the synthetic sample (but not necessarily for the data)."
   ]
  },
  {
   "cell_type": "markdown",
   "metadata": {},
   "source": [
    "### Generator-level Scan\n",
    "\n",
    "Here, we actually know the generator-level events for both the synthetic sample and data."
   ]
  },
  {
   "cell_type": "code",
   "execution_count": 21,
   "metadata": {
    "ExecuteTime": {
     "end_time": "2020-10-04T01:50:18.437339Z",
     "start_time": "2020-10-04T01:50:18.430493Z"
    }
   },
   "outputs": [],
   "source": [
    "def run_classifier_G(theta, reweight_type='DCTR'):\n",
    "\n",
    "    weights_train = np.ones(len(X_train_G))\n",
    "    weights_test = np.ones(len(X_test_G))\n",
    "\n",
    "    # calculate weights for events in theta_0, but leave ones for events in theta_?\n",
    "    if reweight_type == 'DCTR':\n",
    "        weights_train[Y_train_G == 0] = reweight(\n",
    "            np.expand_dims(X_train_G[Y_train_G == 0], axis=-1), theta)\n",
    "        weights_test[Y_test_G == 0] = reweight(\n",
    "            np.expand_dims(X_test_G[Y_test_G == 0], axis=-1), theta)\n",
    "    elif reweight_type == 'analytical':\n",
    "        weights_train[Y_train_G == 0] = analytical_reweight(\n",
    "            X_train_G[Y_train_G == 0], theta)\n",
    "        weights_test[Y_test_G == 0] = analytical_reweight(\n",
    "            X_test_G[Y_test_G == 0], theta)\n",
    "    else:\n",
    "        raise ValueError(\"reweight_type must be set to 'DCTR' or 'analytical'\")\n",
    "\n",
    "    model.compile(optimizer='adam',\n",
    "                  loss='binary_crossentropy',\n",
    "                  metrics=['accuracy'])\n",
    "\n",
    "    # fit model on weighted binary cross-entropy\n",
    "    history = model.fit(X_train_G,\n",
    "                        Y_train_G,\n",
    "                        sample_weight=weights_train,\n",
    "                        epochs=200,\n",
    "                        batch_size=batch_size,\n",
    "                        validation_data=(X_test_G, Y_test_G, weights_test),\n",
    "                        verbose=0,\n",
    "                        callbacks=[earlystopping])\n",
    "\n",
    "    # after training, calculate AUC between unknown sample and reweighted synthetic sample\n",
    "    auc = roc_auc_score(np.concatenate((Y_train_G, Y_test_G)),\n",
    "                        model.predict(np.concatenate((X_train_G, X_test_G)),\n",
    "                                      batch_size=1000),\n",
    "                        sample_weight=np.concatenate(\n",
    "                            (weights_train, weights_test)))\n",
    "\n",
    "    return auc"
   ]
  },
  {
   "cell_type": "code",
   "execution_count": 22,
   "metadata": {
    "ExecuteTime": {
     "end_time": "2020-10-04T02:41:20.094772Z",
     "start_time": "2020-10-04T01:50:18.438901Z"
    },
    "scrolled": true
   },
   "outputs": [
    {
     "name": "stdout",
     "output_type": "stream",
     "text": [
      "Testing theta = -2.0\n",
      "AUC: 0.98\n",
      "\n",
      "\n",
      "Testing theta = -1.8\n",
      "AUC: 0.98\n",
      "\n",
      "\n",
      "Testing theta = -1.6\n",
      "AUC: 0.97\n",
      "\n",
      "\n",
      "Testing theta = -1.4\n",
      "AUC: 0.96\n",
      "\n",
      "\n",
      "Testing theta = -1.2\n",
      "AUC: 0.94\n",
      "\n",
      "\n",
      "Testing theta = -1.0\n",
      "AUC: 0.92\n",
      "\n",
      "\n",
      "Testing theta = -0.8\n",
      "AUC: 0.90\n",
      "\n",
      "\n",
      "Testing theta = -0.6\n",
      "AUC: 0.87\n",
      "\n",
      "\n",
      "Testing theta = -0.4\n",
      "AUC: 0.84\n",
      "\n",
      "\n",
      "Testing theta = -0.2\n",
      "AUC: 0.80\n",
      "\n",
      "\n",
      "Testing theta = 0.0\n",
      "AUC: 0.76\n",
      "\n",
      "\n",
      "Testing theta = 0.2\n",
      "AUC: 0.72\n",
      "\n",
      "\n",
      "Testing theta = 0.4\n",
      "AUC: 0.67\n",
      "\n",
      "\n",
      "Testing theta = 0.6\n",
      "AUC: 0.61\n",
      "\n",
      "\n",
      "Testing theta = 0.8\n",
      "AUC: 0.56\n",
      "\n",
      "\n",
      "Testing theta = 1.0\n",
      "AUC: 0.50\n",
      "\n",
      "\n",
      "Testing theta = 1.2\n",
      "AUC: 0.56\n",
      "\n",
      "\n",
      "Testing theta = 1.4\n",
      "AUC: 0.62\n",
      "\n",
      "\n",
      "Testing theta = 1.6\n",
      "AUC: 0.67\n",
      "\n",
      "\n",
      "Testing theta = 1.8\n",
      "AUC: 0.72\n",
      "\n",
      "\n",
      "Testing theta = 2.0\n",
      "AUC: 0.76\n",
      "\n",
      "\n"
     ]
    }
   ],
   "source": [
    "AUC_G = []\n",
    "\n",
    "for theta in thetas:\n",
    "    print(\"Testing theta = {:.1f}\".format(theta))\n",
    "\n",
    "    auc = run_classifier_G(theta)\n",
    "    AUC_G += [auc]\n",
    "\n",
    "    print(\"AUC: {:.2f}\".format(auc))\n",
    "    print(\"\\n\")\n",
    "    pass"
   ]
  },
  {
   "cell_type": "markdown",
   "metadata": {},
   "source": [
    "### Simulation-level Scan\n",
    "Here, we only know the generator-level events for the synthetic sample and the simulation-level events for both samples. Thus, we reweight on the generator-level events, but classify between the simulation-level events."
   ]
  },
  {
   "cell_type": "code",
   "execution_count": 23,
   "metadata": {
    "ExecuteTime": {
     "end_time": "2020-10-04T02:41:20.107749Z",
     "start_time": "2020-10-04T02:41:20.096542Z"
    }
   },
   "outputs": [],
   "source": [
    "def run_classifier_S(theta, reweight_type='DCTR'):\n",
    "\n",
    "    weights_train = np.ones(len(X_train_G))\n",
    "    weights_test = np.ones(len(X_test_G))\n",
    "\n",
    "    # calculate weights for events in theta_0, but leave ones for events in theta_?\n",
    "    if reweight_type == 'DCTR':\n",
    "        weights_train[Y_train_G == 0] = reweight(\n",
    "            np.expand_dims(X_train_G[Y_train_G == 0], axis=-1), theta)\n",
    "        weights_test[Y_test_G == 0] = reweight(\n",
    "            np.expand_dims(X_test_G[Y_test_G == 0], axis=-1), theta)\n",
    "    elif reweight_type == 'analytical':\n",
    "        weights_train[Y_train_G == 0] = analytical_reweight(\n",
    "            X_train_G[Y_train_G == 0], theta)\n",
    "        weights_test[Y_test_G == 0] = analytical_reweight(\n",
    "            X_test_G[Y_test_G == 0], theta)\n",
    "    else:\n",
    "        raise ValueError(\"reweight_type must be set to 'DCTR' or 'analytical'\")\n",
    "\n",
    "    model.compile(optimizer='adam',\n",
    "                  loss='binary_crossentropy',\n",
    "                  metrics=['accuracy'])\n",
    "\n",
    "    # fit model on weighted binary cross-entropy\n",
    "    history = model.fit(X_train_S,\n",
    "                        Y_train_S,\n",
    "                        sample_weight=weights_train,\n",
    "                        epochs=200,\n",
    "                        batch_size=batch_size,\n",
    "                        validation_data=(X_test_S, Y_test_S, weights_test),\n",
    "                        verbose=0,\n",
    "                        callbacks=[earlystopping])\n",
    "\n",
    "    # after training, calculate AUC between unknown sample and reweighted synthetic sample\n",
    "    auc = roc_auc_score(np.concatenate((Y_train_S, Y_test_S)),\n",
    "                        model.predict(np.concatenate((X_train_S, X_test_S)),\n",
    "                                      batch_size=10000),\n",
    "                        sample_weight=np.concatenate(\n",
    "                            (weights_train, weights_test)))\n",
    "\n",
    "    return auc"
   ]
  },
  {
   "cell_type": "code",
   "execution_count": 24,
   "metadata": {
    "ExecuteTime": {
     "end_time": "2020-10-04T03:29:23.689875Z",
     "start_time": "2020-10-04T02:41:20.109269Z"
    },
    "scrolled": true
   },
   "outputs": [
    {
     "name": "stdout",
     "output_type": "stream",
     "text": [
      "Testing theta = -2.0\n",
      "AUC: 0.97\n",
      "\n",
      "\n",
      "Testing theta = -1.8\n",
      "AUC: 0.96\n",
      "\n",
      "\n",
      "Testing theta = -1.6\n",
      "AUC: 0.95\n",
      "\n",
      "\n",
      "Testing theta = -1.4\n",
      "AUC: 0.94\n",
      "\n",
      "\n",
      "Testing theta = -1.2\n",
      "AUC: 0.92\n",
      "\n",
      "\n",
      "Testing theta = -1.0\n",
      "AUC: 0.90\n",
      "\n",
      "\n",
      "Testing theta = -0.8\n",
      "AUC: 0.87\n",
      "\n",
      "\n",
      "Testing theta = -0.6\n",
      "AUC: 0.84\n",
      "\n",
      "\n",
      "Testing theta = -0.4\n",
      "AUC: 0.81\n",
      "\n",
      "\n",
      "Testing theta = -0.2\n",
      "AUC: 0.78\n",
      "\n",
      "\n",
      "Testing theta = 0.0\n",
      "AUC: 0.74\n",
      "\n",
      "\n",
      "Testing theta = 0.2\n",
      "AUC: 0.70\n",
      "\n",
      "\n",
      "Testing theta = 0.4\n",
      "AUC: 0.65\n",
      "\n",
      "\n",
      "Testing theta = 0.6\n",
      "AUC: 0.60\n",
      "\n",
      "\n",
      "Testing theta = 0.8\n",
      "AUC: 0.55\n",
      "\n",
      "\n",
      "Testing theta = 1.0\n",
      "AUC: 0.50\n",
      "\n",
      "\n",
      "Testing theta = 1.2\n",
      "AUC: 0.55\n",
      "\n",
      "\n",
      "Testing theta = 1.4\n",
      "AUC: 0.61\n",
      "\n",
      "\n",
      "Testing theta = 1.6\n",
      "AUC: 0.65\n",
      "\n",
      "\n",
      "Testing theta = 1.8\n",
      "AUC: 0.70\n",
      "\n",
      "\n",
      "Testing theta = 2.0\n",
      "AUC: 0.74\n",
      "\n",
      "\n"
     ]
    }
   ],
   "source": [
    "AUC_S = []\n",
    "\n",
    "for theta in thetas:\n",
    "    print(\"Testing theta = {:.1f}\".format(theta))\n",
    "\n",
    "    auc = run_classifier_S(theta)\n",
    "    AUC_S += [auc]\n",
    "\n",
    "    print(\"AUC: {:.2f}\".format(auc))\n",
    "    print(\"\\n\")\n",
    "    pass"
   ]
  },
  {
   "cell_type": "markdown",
   "metadata": {},
   "source": [
    "### Scan results"
   ]
  },
  {
   "cell_type": "code",
   "execution_count": 25,
   "metadata": {
    "ExecuteTime": {
     "end_time": "2020-10-04T03:29:23.914065Z",
     "start_time": "2020-10-04T03:29:23.693320Z"
    }
   },
   "outputs": [
    {
     "data": {
      "image/png": "[encoded data removed]",
      "text/plain": [
       "<Figure size 432x360 with 1 Axes>"
      ]
     },
     "metadata": {
      "needs_background": "light"
     },
     "output_type": "display_data"
    }
   ],
   "source": [
    "plt.figure(figsize=(6, 5))\n",
    "plt.plot(thetas, AUC_G, label='Generator-level')\n",
    "plt.plot(thetas, AUC_S, label='Simulation-level')\n",
    "plt.xlabel(r'$\\mu$')\n",
    "plt.ylabel('AUC')\n",
    "plt.legend(loc='lower left', frameon=False)\n",
    "plt.show()"
   ]
  },
  {
   "cell_type": "markdown",
   "metadata": {},
   "source": [
    "We've shown for fixed $\\theta$, the AUC is minimized $\\theta=\\theta_?$. Additionally, the rise in the AUC function away from the minimum is steeper at generator-level than simulation-level, as expected given the loss of statistical power from detector smearing."
   ]
  },
  {
   "cell_type": "markdown",
   "metadata": {},
   "source": [
    "## Fitting Model: Non-Gradient Fit\n",
    "Since the AUC is non-differentiable, let's use a non-gradient optimizer to minimize it."
   ]
  },
  {
   "cell_type": "code",
   "execution_count": 26,
   "metadata": {
    "ExecuteTime": {
     "end_time": "2020-10-04T03:29:23.920462Z",
     "start_time": "2020-10-04T03:29:23.916654Z"
    }
   },
   "outputs": [],
   "source": [
    "# restrict optimization to bounds of parameterization of the reweighting function\n",
    "mybounds = Bounds(np.array([mu_min]), np.array([mu_max]))\n",
    "\n",
    "theta0 = np.array([0.])  # initialize"
   ]
  },
  {
   "cell_type": "markdown",
   "metadata": {},
   "source": [
    "### Generator-level Fit"
   ]
  },
  {
   "cell_type": "code",
   "execution_count": 27,
   "metadata": {
    "ExecuteTime": {
     "end_time": "2020-10-04T03:29:23.930841Z",
     "start_time": "2020-10-04T03:29:23.923046Z"
    }
   },
   "outputs": [],
   "source": [
    "def get_AUC_G(x):\n",
    "    theta_prime = x[0]\n",
    "    AUC_G = run_classifier_G(theta_prime)\n",
    "    return AUC_G"
   ]
  },
  {
   "cell_type": "code",
   "execution_count": 28,
   "metadata": {
    "ExecuteTime": {
     "end_time": "2020-10-04T08:06:07.982428Z",
     "start_time": "2020-10-04T03:29:23.933573Z"
    }
   },
   "outputs": [
    {
     "name": "stdout",
     "output_type": "stream",
     "text": [
      "Optimization terminated successfully.\n",
      "         Current function value: 0.499746\n",
      "         Iterations: 3\n",
      "         Function evaluations: 103\n"
     ]
    }
   ],
   "source": [
    "res_G = minimize(get_AUC_G,\n",
    "                 theta0,\n",
    "                 method=\"Powell\",\n",
    "                 bounds=mybounds,\n",
    "                 options={\n",
    "                     'maxiter': 100,\n",
    "                     'disp': True,\n",
    "                     'return_all': True\n",
    "                 })"
   ]
  },
  {
   "cell_type": "code",
   "execution_count": 29,
   "metadata": {
    "ExecuteTime": {
     "end_time": "2020-10-04T08:06:07.991095Z",
     "start_time": "2020-10-04T08:06:07.984226Z"
    }
   },
   "outputs": [
    {
     "name": "stdout",
     "output_type": "stream",
     "text": [
      "Optimizer fit value at generator-level: theta_SRGN = 1.000.\n"
     ]
    }
   ],
   "source": [
    "print('Optimizer fit value at generator-level: theta_SRGN = {:.3f}.'.format(\n",
    "    res_G['x'][0]))"
   ]
  },
  {
   "cell_type": "markdown",
   "metadata": {},
   "source": [
    "### Simulation-level Fit"
   ]
  },
  {
   "cell_type": "code",
   "execution_count": 30,
   "metadata": {
    "ExecuteTime": {
     "end_time": "2020-10-04T08:06:08.002850Z",
     "start_time": "2020-10-04T08:06:07.992647Z"
    }
   },
   "outputs": [],
   "source": [
    "def get_AUC_S(x):\n",
    "    theta_prime = x[0]\n",
    "    AUC_S = run_classifier_S(theta_prime)\n",
    "    return AUC_S"
   ]
  },
  {
   "cell_type": "code",
   "execution_count": 31,
   "metadata": {
    "ExecuteTime": {
     "end_time": "2020-10-04T13:34:10.735326Z",
     "start_time": "2020-10-04T08:06:08.005444Z"
    }
   },
   "outputs": [
    {
     "name": "stdout",
     "output_type": "stream",
     "text": [
      "Optimization terminated successfully.\n",
      "         Current function value: 0.499961\n",
      "         Iterations: 2\n",
      "         Function evaluations: 74\n"
     ]
    }
   ],
   "source": [
    "res_S = minimize(get_AUC_S,\n",
    "                 theta0,\n",
    "                 method=\"Powell\",\n",
    "                 bounds=mybounds,\n",
    "                 options={\n",
    "                     'maxiter': 100,\n",
    "                     'disp': True,\n",
    "                     'return_all': True\n",
    "                 })"
   ]
  },
  {
   "cell_type": "code",
   "execution_count": 32,
   "metadata": {
    "ExecuteTime": {
     "end_time": "2020-10-04T13:34:10.746030Z",
     "start_time": "2020-10-04T13:34:10.737325Z"
    }
   },
   "outputs": [
    {
     "name": "stdout",
     "output_type": "stream",
     "text": [
      "Optimizer fit value at simulation-level: theta_SRGN = 1.000.\n"
     ]
    }
   ],
   "source": [
    "print('Optimizer fit value at simulation-level: theta_SRGN = {:.3f}.'.format(\n",
    "    res_S['x'][0]))"
   ]
  }
 ],
 "metadata": {
  "kernelspec": {
   "display_name": "Python 3",
   "language": "python",
   "name": "python3"
  },
  "language_info": {
   "codemirror_mode": {
    "name": "ipython",
    "version": 3
   },
   "file_extension": ".py",
   "mimetype": "text/x-python",
   "name": "python",
   "nbconvert_exporter": "python",
   "pygments_lexer": "ipython3",
   "version": "3.5.2"
  },
  "notify_time": "0",
  "toc": {
   "base_numbering": 1,
   "nav_menu": {},
   "number_sections": false,
   "sideBar": true,
   "skip_h1_title": false,
   "title_cell": "Table of Contents",
   "title_sidebar": "Contents",
   "toc_cell": false,
   "toc_position": {
    "height": "calc(100% - 180px)",
    "left": "10px",
    "top": "150px",
    "width": "288px"
   },
   "toc_section_display": true,
   "toc_window_display": false
  },
  "varInspector": {
   "cols": {
    "lenName": 16,
    "lenType": 16,
    "lenVar": 40
   },
   "kernels_config": {
    "python": {
     "delete_cmd_postfix": "",
     "delete_cmd_prefix": "del ",
     "library": "var_list.py",
     "varRefreshCmd": "print(var_dic_list())"
    },
    "r": {
     "delete_cmd_postfix": ") ",
     "delete_cmd_prefix": "rm(",
     "library": "var_list.r",
     "varRefreshCmd": "cat(var_dic_list()) "
    }
   },
   "types_to_exclude": [
    "module",
    "function",
    "builtin_function_or_method",
    "instance",
    "_Feature"
   ],
   "window_display": false
  }
 },
 "nbformat": 4,
 "nbformat_minor": 2
}
