{
 "cells": [
  {
   "cell_type": "markdown",
   "metadata": {},
   "source": [
    "# DCTR Alternative Fitting Algorithm for aLund"
   ]
  },
  {
   "cell_type": "code",
   "execution_count": 1,
   "metadata": {
    "ExecuteTime": {
     "end_time": "2020-06-02T01:04:26.698048Z",
     "start_time": "2020-06-02T01:04:26.691728Z"
    }
   },
   "outputs": [],
   "source": [
    "import os\n",
    "os.environ[\"CUDA_DEVICE_ORDER\"]=\"PCI_BUS_ID\"\n",
    "os.environ[\"CUDA_VISIBLE_DEVICES\"]=\"3\""
   ]
  },
  {
   "cell_type": "code",
   "execution_count": 2,
   "metadata": {
    "ExecuteTime": {
     "end_time": "2020-06-02T01:04:29.090651Z",
     "start_time": "2020-06-02T01:04:27.596632Z"
    }
   },
   "outputs": [
    {
     "name": "stderr",
     "output_type": "stream",
     "text": [
      "Using TensorFlow backend.\n"
     ]
    }
   ],
   "source": [
    "# standard library imports\n",
    "from __future__ import absolute_import, division, print_function\n",
    "\n",
    "import tensorflow as tf\n",
    "import keras as keras\n",
    "import keras.backend as K\n",
    "from keras.callbacks import ModelCheckpoint, EarlyStopping, CSVLogger, LambdaCallback\n",
    "from keras.layers import Lambda\n",
    "from keras.models import Model\n",
    "# standard numerical library imports\n",
    "import numpy as np\n",
    "import scipy as sp\n",
    "\n",
    "# energyflow imports\n",
    "import energyflow as ef\n",
    "from energyflow.archs import PFN\n",
    "from energyflow.utils import data_split, remap_pids, to_categorical\n",
    "\n",
    "import matplotlib.pyplot as plt\n",
    "\n",
    "import inspect"
   ]
  },
  {
   "cell_type": "code",
   "execution_count": 3,
   "metadata": {
    "ExecuteTime": {
     "end_time": "2020-06-02T01:04:29.270679Z",
     "start_time": "2020-06-02T01:04:29.263876Z"
    }
   },
   "outputs": [
    {
     "name": "stdout",
     "output_type": "stream",
     "text": [
      "2.2.4\n",
      "1.15.0\n"
     ]
    }
   ],
   "source": [
    "print(keras.__version__) #2.2.4\n",
    "print(tf.__version__) #1.15.0"
   ]
  },
  {
   "cell_type": "markdown",
   "metadata": {},
   "source": [
    "# Load Data"
   ]
  },
  {
   "cell_type": "markdown",
   "metadata": {},
   "source": [
    "## Utilities"
   ]
  },
  {
   "cell_type": "code",
   "execution_count": 4,
   "metadata": {
    "ExecuteTime": {
     "end_time": "2020-06-02T01:04:36.696497Z",
     "start_time": "2020-06-02T01:04:36.687419Z"
    }
   },
   "outputs": [],
   "source": [
    "# normalize pT and center (y, phi)\n",
    "def normalize(x):\n",
    "    mask = x[:,0] > 0\n",
    "    yphi_avg = np.average(x[mask,1:3], weights=x[mask,0], axis=0)\n",
    "    x[mask,1:3] -= yphi_avg\n",
    "    x[mask,0] /= x[:,0].sum()"
   ]
  },
  {
   "cell_type": "code",
   "execution_count": 5,
   "metadata": {
    "ExecuteTime": {
     "end_time": "2020-06-02T01:04:39.463379Z",
     "start_time": "2020-06-02T01:04:39.455442Z"
    }
   },
   "outputs": [],
   "source": [
    "def preprocess_data(X):\n",
    "    for x in X:\n",
    "        normalize(x)\n",
    "    \n",
    "    # Remap PIDs to unique values in range [0,1]\n",
    "    remap_pids(X, pid_i=3)\n",
    "    return X"
   ]
  },
  {
   "cell_type": "markdown",
   "metadata": {},
   "source": [
    "## Process data"
   ]
  },
  {
   "cell_type": "code",
   "execution_count": 6,
   "metadata": {
    "ExecuteTime": {
     "end_time": "2020-06-02T01:04:46.954294Z",
     "start_time": "2020-06-02T01:04:46.948977Z"
    }
   },
   "outputs": [],
   "source": [
    "# Path to downloaded data from Zenodo\n",
    "data_dir = './data/'"
   ]
  },
  {
   "cell_type": "code",
   "execution_count": 7,
   "metadata": {
    "ExecuteTime": {
     "end_time": "2020-06-02T01:04:48.653700Z",
     "start_time": "2020-06-02T01:04:48.645252Z"
    }
   },
   "outputs": [],
   "source": [
    "default_dataset = np.load(data_dir + 'test1D_default.npz')\n",
    "unknown_dataset = np.load(data_dir + 'test1D_probStoUD.npz')"
   ]
  },
  {
   "cell_type": "code",
   "execution_count": 8,
   "metadata": {
    "ExecuteTime": {
     "end_time": "2020-06-02T01:07:18.283339Z",
     "start_time": "2020-06-02T01:04:49.588352Z"
    }
   },
   "outputs": [],
   "source": [
    "X_default = preprocess_data(default_dataset['jet'][:,:,:4])\n",
    "X_unknown = preprocess_data(unknown_dataset['jet'][:,:,:4])\n",
    "\n",
    "Y_default = np.zeros_like(X_unknown[:,0,0])\n",
    "Y_unknown = np.ones_like(X_unknown[:,0,0])"
   ]
  },
  {
   "cell_type": "code",
   "execution_count": 9,
   "metadata": {
    "ExecuteTime": {
     "end_time": "2020-06-02T01:07:19.319811Z",
     "start_time": "2020-06-02T01:07:18.286371Z"
    }
   },
   "outputs": [],
   "source": [
    "X_fit = np.concatenate((X_default, X_unknown), axis = 0)\n",
    "\n",
    "Y_fit = np.concatenate((Y_default, Y_unknown), axis = 0)"
   ]
  },
  {
   "cell_type": "code",
   "execution_count": 10,
   "metadata": {
    "ExecuteTime": {
     "end_time": "2020-06-02T01:07:20.171164Z",
     "start_time": "2020-06-02T01:07:19.324059Z"
    }
   },
   "outputs": [],
   "source": [
    "X_train, X_test, Y_train, Y_test = data_split(X_fit, Y_fit, test=0.5, shuffle=True)"
   ]
  },
  {
   "cell_type": "markdown",
   "metadata": {},
   "source": [
    "# Load Model"
   ]
  },
  {
   "cell_type": "code",
   "execution_count": 11,
   "metadata": {
    "ExecuteTime": {
     "end_time": "2020-06-02T01:07:21.353359Z",
     "start_time": "2020-06-02T01:07:20.175392Z"
    },
    "scrolled": true
   },
   "outputs": [
    {
     "name": "stdout",
     "output_type": "stream",
     "text": [
      "WARNING:tensorflow:From /home/asuresh/.local/lib/python2.7/site-packages/keras/backend/tensorflow_backend.py:517: The name tf.placeholder is deprecated. Please use tf.compat.v1.placeholder instead.\n",
      "\n",
      "WARNING:tensorflow:From /home/asuresh/.local/lib/python2.7/site-packages/keras/backend/tensorflow_backend.py:74: The name tf.get_default_graph is deprecated. Please use tf.compat.v1.get_default_graph instead.\n",
      "\n",
      "WARNING:tensorflow:From /home/asuresh/.local/lib/python2.7/site-packages/keras/backend/tensorflow_backend.py:4138: The name tf.random_uniform is deprecated. Please use tf.random.uniform instead.\n",
      "\n",
      "WARNING:tensorflow:From /home/asuresh/.local/lib/python2.7/site-packages/keras/optimizers.py:790: The name tf.train.Optimizer is deprecated. Please use tf.compat.v1.train.Optimizer instead.\n",
      "\n",
      "WARNING:tensorflow:From /home/asuresh/.local/lib/python2.7/site-packages/keras/backend/tensorflow_backend.py:3295: The name tf.log is deprecated. Please use tf.math.log instead.\n",
      "\n",
      "WARNING:tensorflow:From /home/asuresh/.local/lib/python2.7/site-packages/keras/backend/tensorflow_backend.py:174: The name tf.get_default_session is deprecated. Please use tf.compat.v1.get_default_session instead.\n",
      "\n",
      "WARNING:tensorflow:From /home/asuresh/.local/lib/python2.7/site-packages/keras/backend/tensorflow_backend.py:181: The name tf.ConfigProto is deprecated. Please use tf.compat.v1.ConfigProto instead.\n",
      "\n",
      "WARNING:tensorflow:From /home/asuresh/.local/lib/python2.7/site-packages/keras/backend/tensorflow_backend.py:186: The name tf.Session is deprecated. Please use tf.compat.v1.Session instead.\n",
      "\n",
      "WARNING:tensorflow:From /home/asuresh/.local/lib/python2.7/site-packages/keras/backend/tensorflow_backend.py:190: The name tf.global_variables is deprecated. Please use tf.compat.v1.global_variables instead.\n",
      "\n",
      "WARNING:tensorflow:From /home/asuresh/.local/lib/python2.7/site-packages/keras/backend/tensorflow_backend.py:199: The name tf.is_variable_initialized is deprecated. Please use tf.compat.v1.is_variable_initialized instead.\n",
      "\n",
      "WARNING:tensorflow:From /home/asuresh/.local/lib/python2.7/site-packages/keras/backend/tensorflow_backend.py:206: The name tf.variables_initializer is deprecated. Please use tf.compat.v1.variables_initializer instead.\n",
      "\n"
     ]
    }
   ],
   "source": [
    "# network architecture parameters\n",
    "Phi_sizes = (100, 100, 128)\n",
    "F_sizes = (100, 100, 100)\n",
    "\n",
    "dctr = PFN(input_dim=7, Phi_sizes=Phi_sizes, F_sizes=F_sizes, summary=False)\n",
    "\n",
    "# load model from saved file\n",
    "# model trained in original alphaS notebook\n",
    "dctr.model.load_weights(\n",
    "    './saved_models/DCTR_ee_dijets_1D_probStoUD.h5')  #ORIGINAL DCTR"
   ]
  },
  {
   "cell_type": "markdown",
   "metadata": {},
   "source": [
    "# Fitting"
   ]
  },
  {
   "cell_type": "markdown",
   "metadata": {},
   "source": [
    "# Defining reweighting functions\n",
    "\n",
    "$w(x_{T,i},\\theta)=((f(x_{T,i},\\theta)/(1-f(x_{T,i},\\theta)))$\n",
    "\n",
    "Takes observable from simulation ${\\bf \\theta_0}$ and weights it to observable from data (target) ${\\bf \\theta_1}$."
   ]
  },
  {
   "cell_type": "code",
   "execution_count": 12,
   "metadata": {
    "ExecuteTime": {
     "end_time": "2020-06-02T01:07:21.363031Z",
     "start_time": "2020-06-02T01:07:21.357413Z"
    }
   },
   "outputs": [],
   "source": [
    "# Defining reweighting functions\n",
    "\n",
    "def reweight(d): #from NN (DCTR)\n",
    "    f = dctr.model(d) # Use dctr.model.predict_on_batch(d) when using outside training\n",
    "    weights = (f[:,1])/(f[:,0])\n",
    "    weights = K.expand_dims(weights, axis = 1)\n",
    "    return weights"
   ]
  },
  {
   "cell_type": "code",
   "execution_count": 13,
   "metadata": {
    "ExecuteTime": {
     "end_time": "2020-06-02T01:07:48.435879Z",
     "start_time": "2020-06-02T01:07:48.254262Z"
    }
   },
   "outputs": [],
   "source": [
    "model = PFN(input_dim=4,\n",
    "            Phi_sizes=Phi_sizes,\n",
    "            F_sizes=F_sizes,\n",
    "            output_dim=1,\n",
    "            output_act='sigmoid',\n",
    "            summary=False)\n",
    "myinputs = model.inputs[0]\n",
    "batch_size = 1000\n",
    "\n",
    "earlystopping = EarlyStopping(patience=5, restore_best_weights=True)\n",
    "\n",
    "\n",
    "def my_loss_wrapper(inputs, val=0):\n",
    "    x = inputs  #x.shape = (?,?,4)\n",
    "    #Reshaping to correct format\n",
    "    x = tf.gather(x, np.arange(batch_size))\n",
    "    x = tf.gather(\n",
    "        x, np.arange(51),\n",
    "        axis=1)  # Axis corressponds to (max) number of particles in each event\n",
    "\n",
    "    theta_prime = [0.1365, 0.68, val]  # [alphaS, aLund, probStuUD]\n",
    "\n",
    "    # zip theta_prime to each input particle (but not to the padded rows)\n",
    "    #checks if pT != 0, which means we have a particle\n",
    "    concat_input_and_params = tf.where(\n",
    "        K.abs(x[..., 0]) > 0, K.ones_like(x[..., 0]), K.zeros_like(x[..., 0]))\n",
    "\n",
    "    concat_input_and_params = theta_prime * K.stack([concat_input_and_params, \n",
    "                                                     concat_input_and_params,\n",
    "                                                     concat_input_and_params],\n",
    "                                                    axis=-1)\n",
    "\n",
    "    data = K.concatenate([x, concat_input_and_params], -1)\n",
    "    # print(data.shape) # = (batch_size, 51, 7), correct format to pass to DCTR\n",
    "    w = reweight(data)  # NN reweight\n",
    "\n",
    "    def my_loss(y_true, y_pred):\n",
    "        # Mean-Squared Loss:\n",
    "        #t_loss = (y_true)*(y_true - y_pred)**2 +(w)*(1-y_true)*(y_true - y_pred)**2\n",
    "\n",
    "        # Categorical Cross-Entropy Loss\n",
    "\n",
    "        #Clip the prediction value to prevent NaN's and Inf's\n",
    "\n",
    "        epsilon = K.epsilon()\n",
    "        y_pred = K.clip(y_pred, epsilon, 1. - epsilon)\n",
    "\n",
    "        t_loss = -((y_true) * K.log(y_pred) + w *\n",
    "                   (1 - y_true) * K.log(1 - y_pred))\n",
    "\n",
    "        return K.mean(t_loss)\n",
    "\n",
    "    return my_loss"
   ]
  },
  {
   "cell_type": "code",
   "execution_count": 14,
   "metadata": {
    "ExecuteTime": {
     "end_time": "2020-06-02T04:05:35.215419Z",
     "start_time": "2020-06-02T01:07:49.115788Z"
    },
    "scrolled": true
   },
   "outputs": [
    {
     "name": "stdout",
     "output_type": "stream",
     "text": [
      "trainnig theta = : 0.1\n",
      "WARNING:tensorflow:From <ipython-input-13-609327681ebf>:28: where (from tensorflow.python.ops.array_ops) is deprecated and will be removed in a future version.\n",
      "Instructions for updating:\n",
      "Use tf.where in 2.0, which has the same broadcast rule as np.where\n",
      "WARNING:tensorflow:From /home/asuresh/.local/lib/python2.7/site-packages/keras/backend/tensorflow_backend.py:986: The name tf.assign_add is deprecated. Please use tf.compat.v1.assign_add instead.\n",
      "\n",
      "WARNING:tensorflow:From /home/asuresh/.local/lib/python2.7/site-packages/keras/backend/tensorflow_backend.py:973: The name tf.assign is deprecated. Please use tf.compat.v1.assign instead.\n",
      "\n",
      "Train on 900000 samples, validate on 900000 samples\n",
      "Epoch 1/50\n",
      "900000/900000 [==============================] - 134s 149us/step - loss: 0.6957 - acc: 0.5129 - val_loss: 0.6751 - val_acc: 0.5193\n",
      "Epoch 2/50\n",
      "900000/900000 [==============================] - 131s 146us/step - loss: 0.6704 - acc: 0.5238 - val_loss: 0.6671 - val_acc: 0.5262\n",
      "Epoch 3/50\n",
      "900000/900000 [==============================] - 129s 144us/step - loss: 0.6666 - acc: 0.5275 - val_loss: 0.6646 - val_acc: 0.5277\n",
      "Epoch 4/50\n",
      "900000/900000 [==============================] - 128s 142us/step - loss: 0.6651 - acc: 0.5285 - val_loss: 0.6642 - val_acc: 0.5280\n",
      "Epoch 5/50\n",
      "900000/900000 [==============================] - 128s 142us/step - loss: 0.6641 - acc: 0.5286 - val_loss: 0.6645 - val_acc: 0.5274\n",
      "Epoch 6/50\n",
      "900000/900000 [==============================] - 127s 142us/step - loss: 0.6630 - acc: 0.5293 - val_loss: 0.6629 - val_acc: 0.5293\n",
      "Epoch 7/50\n",
      "900000/900000 [==============================] - 127s 141us/step - loss: 0.6625 - acc: 0.5300 - val_loss: 0.6631 - val_acc: 0.5280\n",
      "Epoch 8/50\n",
      "900000/900000 [==============================] - 127s 141us/step - loss: 0.6621 - acc: 0.5301 - val_loss: 0.6620 - val_acc: 0.5288\n",
      "Epoch 9/50\n",
      "900000/900000 [==============================] - 128s 142us/step - loss: 0.6618 - acc: 0.5304 - val_loss: 0.6617 - val_acc: 0.5298\n",
      "Epoch 10/50\n",
      "900000/900000 [==============================] - 127s 141us/step - loss: 0.6616 - acc: 0.5304 - val_loss: 0.6611 - val_acc: 0.5296\n",
      "Epoch 11/50\n",
      "900000/900000 [==============================] - 127s 141us/step - loss: 0.6614 - acc: 0.5304 - val_loss: 0.6611 - val_acc: 0.5298\n",
      "Epoch 12/50\n",
      "900000/900000 [==============================] - 127s 141us/step - loss: 0.6613 - acc: 0.5308 - val_loss: 0.6612 - val_acc: 0.5293\n",
      "Epoch 13/50\n",
      "900000/900000 [==============================] - 128s 142us/step - loss: 0.6612 - acc: 0.5308 - val_loss: 0.6610 - val_acc: 0.5299\n",
      "Epoch 14/50\n",
      "900000/900000 [==============================] - 127s 141us/step - loss: 0.6611 - acc: 0.5308 - val_loss: 0.6614 - val_acc: 0.5291\n",
      "Epoch 15/50\n",
      "900000/900000 [==============================] - 127s 141us/step - loss: 0.6610 - acc: 0.5308 - val_loss: 0.6613 - val_acc: 0.5298\n",
      "Epoch 16/50\n",
      "900000/900000 [==============================] - 127s 141us/step - loss: 0.6610 - acc: 0.5308 - val_loss: 0.6612 - val_acc: 0.5302\n",
      "Epoch 17/50\n",
      "900000/900000 [==============================] - 127s 141us/step - loss: 0.6609 - acc: 0.5308 - val_loss: 0.6610 - val_acc: 0.5302\n",
      "Epoch 18/50\n",
      "900000/900000 [==============================] - 127s 141us/step - loss: 0.6609 - acc: 0.5311 - val_loss: 0.6611 - val_acc: 0.5300\n",
      "Epoch 19/50\n",
      "900000/900000 [==============================] - 127s 141us/step - loss: 0.6608 - acc: 0.5310 - val_loss: 0.6615 - val_acc: 0.5299\n",
      "Epoch 20/50\n",
      "900000/900000 [==============================] - 127s 141us/step - loss: 0.6608 - acc: 0.5312 - val_loss: 0.6612 - val_acc: 0.5294\n",
      "Epoch 21/50\n",
      "900000/900000 [==============================] - 127s 141us/step - loss: 0.6607 - acc: 0.5313 - val_loss: 0.6610 - val_acc: 0.5293\n",
      "Epoch 22/50\n",
      "900000/900000 [==============================] - 127s 141us/step - loss: 0.6607 - acc: 0.5314 - val_loss: 0.6608 - val_acc: 0.5296\n",
      "Epoch 23/50\n",
      "900000/900000 [==============================] - 127s 141us/step - loss: 0.6606 - acc: 0.5315 - val_loss: 0.6608 - val_acc: 0.5301\n",
      "Epoch 24/50\n",
      "900000/900000 [==============================] - 127s 141us/step - loss: 0.6605 - acc: 0.5314 - val_loss: 0.6610 - val_acc: 0.5297\n",
      "Epoch 25/50\n",
      "900000/900000 [==============================] - 127s 141us/step - loss: 0.6605 - acc: 0.5314 - val_loss: 0.6609 - val_acc: 0.5299\n",
      "Epoch 26/50\n",
      "900000/900000 [==============================] - 127s 141us/step - loss: 0.6605 - acc: 0.5314 - val_loss: 0.6615 - val_acc: 0.5300\n",
      "Epoch 27/50\n",
      "900000/900000 [==============================] - 127s 141us/step - loss: 0.6604 - acc: 0.5316 - val_loss: 0.6609 - val_acc: 0.5298\n",
      "trainnig theta = : 0.125\n",
      "Train on 900000 samples, validate on 900000 samples\n",
      "Epoch 1/50\n",
      "900000/900000 [==============================] - 131s 146us/step - loss: 0.6709 - acc: 0.5316 - val_loss: 0.6711 - val_acc: 0.5300\n",
      "Epoch 2/50\n",
      "900000/900000 [==============================] - 127s 141us/step - loss: 0.6708 - acc: 0.5316 - val_loss: 0.6712 - val_acc: 0.5301\n",
      "Epoch 3/50\n",
      "900000/900000 [==============================] - 127s 142us/step - loss: 0.6707 - acc: 0.5319 - val_loss: 0.6714 - val_acc: 0.5294\n",
      "Epoch 4/50\n",
      "900000/900000 [==============================] - 127s 141us/step - loss: 0.6707 - acc: 0.5318 - val_loss: 0.6712 - val_acc: 0.5301\n",
      "Epoch 5/50\n",
      "900000/900000 [==============================] - 127s 141us/step - loss: 0.6706 - acc: 0.5322 - val_loss: 0.6715 - val_acc: 0.5300\n",
      "Epoch 6/50\n",
      "900000/900000 [==============================] - 126s 140us/step - loss: 0.6706 - acc: 0.5319 - val_loss: 0.6711 - val_acc: 0.5301\n",
      "trainnig theta = : 0.15\n",
      "Train on 900000 samples, validate on 900000 samples\n",
      "Epoch 1/50\n",
      "900000/900000 [==============================] - 131s 145us/step - loss: 0.6805 - acc: 0.5313 - val_loss: 0.6809 - val_acc: 0.5300\n",
      "Epoch 2/50\n",
      "900000/900000 [==============================] - 129s 143us/step - loss: 0.6804 - acc: 0.5315 - val_loss: 0.6807 - val_acc: 0.5302\n",
      "Epoch 3/50\n",
      "900000/900000 [==============================] - 126s 140us/step - loss: 0.6803 - acc: 0.5319 - val_loss: 0.6807 - val_acc: 0.5300\n",
      "Epoch 4/50\n",
      "900000/900000 [==============================] - 126s 140us/step - loss: 0.6803 - acc: 0.5320 - val_loss: 0.6808 - val_acc: 0.5299\n",
      "Epoch 5/50\n",
      "900000/900000 [==============================] - 126s 140us/step - loss: 0.6802 - acc: 0.5316 - val_loss: 0.6811 - val_acc: 0.5301\n",
      "Epoch 6/50\n",
      "900000/900000 [==============================] - 126s 140us/step - loss: 0.6802 - acc: 0.5317 - val_loss: 0.6807 - val_acc: 0.5304\n",
      "Epoch 7/50\n",
      "900000/900000 [==============================] - 126s 140us/step - loss: 0.6802 - acc: 0.5320 - val_loss: 0.6809 - val_acc: 0.5300\n",
      "Epoch 8/50\n",
      "900000/900000 [==============================] - 125s 139us/step - loss: 0.6801 - acc: 0.5325 - val_loss: 0.6808 - val_acc: 0.5302\n",
      "Epoch 9/50\n",
      "900000/900000 [==============================] - 126s 139us/step - loss: 0.6801 - acc: 0.5322 - val_loss: 0.6808 - val_acc: 0.5298\n",
      "Epoch 10/50\n",
      "900000/900000 [==============================] - 126s 140us/step - loss: 0.6800 - acc: 0.5324 - val_loss: 0.6816 - val_acc: 0.5286\n",
      "Epoch 11/50\n",
      "900000/900000 [==============================] - 126s 140us/step - loss: 0.6799 - acc: 0.5325 - val_loss: 0.6810 - val_acc: 0.5296\n",
      "trainnig theta = : 0.175\n",
      "Train on 900000 samples, validate on 900000 samples\n",
      "Epoch 1/50\n",
      "900000/900000 [==============================] - 130s 144us/step - loss: 0.6874 - acc: 0.5322 - val_loss: 0.6879 - val_acc: 0.5301\n",
      "Epoch 2/50\n",
      "900000/900000 [==============================] - 128s 142us/step - loss: 0.6873 - acc: 0.5323 - val_loss: 0.6879 - val_acc: 0.5301\n",
      "Epoch 3/50\n",
      "900000/900000 [==============================] - 128s 142us/step - loss: 0.6873 - acc: 0.5324 - val_loss: 0.6881 - val_acc: 0.5294\n",
      "Epoch 4/50\n",
      "900000/900000 [==============================] - 127s 141us/step - loss: 0.6872 - acc: 0.5326 - val_loss: 0.6880 - val_acc: 0.5294\n",
      "Epoch 5/50\n",
      "900000/900000 [==============================] - 126s 140us/step - loss: 0.6871 - acc: 0.5329 - val_loss: 0.6882 - val_acc: 0.5296\n",
      "Epoch 6/50\n",
      "900000/900000 [==============================] - 127s 141us/step - loss: 0.6871 - acc: 0.5329 - val_loss: 0.6882 - val_acc: 0.5295\n",
      "trainnig theta = : 0.2\n",
      "Train on 900000 samples, validate on 900000 samples\n",
      "Epoch 1/50\n",
      "900000/900000 [==============================] - 130s 144us/step - loss: 0.6920 - acc: 0.5322 - val_loss: 0.6926 - val_acc: 0.5298\n",
      "Epoch 2/50\n",
      "900000/900000 [==============================] - 126s 140us/step - loss: 0.6920 - acc: 0.5324 - val_loss: 0.6927 - val_acc: 0.5298\n",
      "Epoch 3/50\n",
      "900000/900000 [==============================] - 126s 140us/step - loss: 0.6919 - acc: 0.5325 - val_loss: 0.6927 - val_acc: 0.5297\n",
      "Epoch 4/50\n",
      "900000/900000 [==============================] - 125s 138us/step - loss: 0.6919 - acc: 0.5325 - val_loss: 0.6927 - val_acc: 0.5295\n",
      "Epoch 5/50\n",
      "900000/900000 [==============================] - 125s 139us/step - loss: 0.6918 - acc: 0.5330 - val_loss: 0.6931 - val_acc: 0.5291\n",
      "Epoch 6/50\n",
      "900000/900000 [==============================] - 124s 138us/step - loss: 0.6917 - acc: 0.5330 - val_loss: 0.6929 - val_acc: 0.5295\n",
      "trainnig theta = : 0.22499999999999998\n",
      "Train on 900000 samples, validate on 900000 samples\n",
      "Epoch 1/50\n",
      "900000/900000 [==============================] - 129s 143us/step - loss: 0.6958 - acc: 0.5319 - val_loss: 0.6965 - val_acc: 0.5282\n",
      "Epoch 2/50\n",
      "900000/900000 [==============================] - 125s 139us/step - loss: 0.6958 - acc: 0.5322 - val_loss: 0.6967 - val_acc: 0.5289\n",
      "Epoch 3/50\n",
      "900000/900000 [==============================] - 124s 138us/step - loss: 0.6957 - acc: 0.5325 - val_loss: 0.6965 - val_acc: 0.5292\n",
      "Epoch 4/50\n",
      "900000/900000 [==============================] - 124s 138us/step - loss: 0.6956 - acc: 0.5329 - val_loss: 0.6964 - val_acc: 0.5292\n",
      "Epoch 5/50\n",
      "900000/900000 [==============================] - 125s 138us/step - loss: 0.6956 - acc: 0.5330 - val_loss: 0.6966 - val_acc: 0.5277\n",
      "Epoch 6/50\n",
      "900000/900000 [==============================] - 125s 138us/step - loss: 0.6955 - acc: 0.5334 - val_loss: 0.6966 - val_acc: 0.5279\n",
      "Epoch 7/50\n",
      "900000/900000 [==============================] - 125s 139us/step - loss: 0.6955 - acc: 0.5335 - val_loss: 0.6967 - val_acc: 0.5274\n",
      "Epoch 8/50\n",
      "900000/900000 [==============================] - 125s 138us/step - loss: 0.6953 - acc: 0.5339 - val_loss: 0.6968 - val_acc: 0.5274\n",
      "Epoch 9/50\n",
      "900000/900000 [==============================] - 124s 138us/step - loss: 0.6952 - acc: 0.5342 - val_loss: 0.6969 - val_acc: 0.5278\n",
      "trainnig theta = : 0.25\n",
      "Train on 900000 samples, validate on 900000 samples\n",
      "Epoch 1/50\n",
      "900000/900000 [==============================] - 129s 144us/step - loss: 0.6943 - acc: 0.5310 - val_loss: 0.6950 - val_acc: 0.5266\n",
      "Epoch 2/50\n",
      "900000/900000 [==============================] - 126s 140us/step - loss: 0.6942 - acc: 0.5310 - val_loss: 0.6950 - val_acc: 0.5256\n",
      "Epoch 3/50\n",
      "900000/900000 [==============================] - 126s 140us/step - loss: 0.6942 - acc: 0.5307 - val_loss: 0.6952 - val_acc: 0.5247\n",
      "Epoch 4/50\n",
      "900000/900000 [==============================] - 125s 139us/step - loss: 0.6941 - acc: 0.5312 - val_loss: 0.6952 - val_acc: 0.5235\n",
      "Epoch 5/50\n",
      "900000/900000 [==============================] - 124s 138us/step - loss: 0.6940 - acc: 0.5309 - val_loss: 0.6952 - val_acc: 0.5254\n",
      "Epoch 6/50\n",
      "900000/900000 [==============================] - 125s 138us/step - loss: 0.6939 - acc: 0.5327 - val_loss: 0.6953 - val_acc: 0.5241\n",
      "trainnig theta = : 0.275\n",
      "Train on 900000 samples, validate on 900000 samples\n",
      "Epoch 1/50\n",
      "900000/900000 [==============================] - 131s 145us/step - loss: 0.6945 - acc: 0.5234 - val_loss: 0.6952 - val_acc: 0.5193\n",
      "Epoch 2/50\n",
      "900000/900000 [==============================] - 127s 141us/step - loss: 0.6944 - acc: 0.5222 - val_loss: 0.6951 - val_acc: 0.5089\n",
      "Epoch 3/50\n",
      "900000/900000 [==============================] - 127s 141us/step - loss: 0.6943 - acc: 0.5213 - val_loss: 0.6952 - val_acc: 0.5157\n",
      "Epoch 4/50\n",
      "900000/900000 [==============================] - 126s 140us/step - loss: 0.6942 - acc: 0.5211 - val_loss: 0.6953 - val_acc: 0.5133\n",
      "Epoch 5/50\n",
      "900000/900000 [==============================] - 125s 139us/step - loss: 0.6941 - acc: 0.5227 - val_loss: 0.6952 - val_acc: 0.5127\n",
      "Epoch 6/50\n",
      "900000/900000 [==============================] - 125s 139us/step - loss: 0.6940 - acc: 0.5221 - val_loss: 0.6956 - val_acc: 0.5106\n",
      "Epoch 7/50\n",
      "900000/900000 [==============================] - 125s 139us/step - loss: 0.6939 - acc: 0.5226 - val_loss: 0.6955 - val_acc: 0.5113\n",
      "trainnig theta = : 0.3\n",
      "Train on 900000 samples, validate on 900000 samples\n",
      "Epoch 1/50\n",
      "900000/900000 [==============================] - 131s 145us/step - loss: 0.6959 - acc: 0.5048 - val_loss: 0.6966 - val_acc: 0.4905\n",
      "Epoch 2/50\n",
      "900000/900000 [==============================] - 129s 143us/step - loss: 0.6957 - acc: 0.5026 - val_loss: 0.6968 - val_acc: 0.4905\n",
      "Epoch 3/50\n",
      "900000/900000 [==============================] - 128s 142us/step - loss: 0.6956 - acc: 0.5044 - val_loss: 0.6968 - val_acc: 0.4919\n",
      "Epoch 4/50\n",
      "900000/900000 [==============================] - 128s 142us/step - loss: 0.6955 - acc: 0.5030 - val_loss: 0.6968 - val_acc: 0.4914\n",
      "Epoch 5/50\n",
      "900000/900000 [==============================] - 127s 141us/step - loss: 0.6954 - acc: 0.5061 - val_loss: 0.6971 - val_acc: 0.4939\n",
      "Epoch 6/50\n",
      "900000/900000 [==============================] - 125s 139us/step - loss: 0.6953 - acc: 0.5078 - val_loss: 0.6970 - val_acc: 0.4858\n",
      "[0.6604026738140318, 0.6706149539020326, 0.6798833249012629, 0.6870796509583791, 0.6917402934365803, 0.6951920788817936, 0.693850998878479, 0.6939198243618011, 0.6952524294455846]\n"
     ]
    }
   ],
   "source": [
    "thetas = np.linspace(0.10, 0.30, 9)  #iterating across possible alphaS values\n",
    "lvals = []\n",
    "vlvals = []\n",
    "\n",
    "for theta in thetas:\n",
    "    print(\"trainnig theta = :\", theta)\n",
    "    model.model.compile(optimizer='adam',\n",
    "                        loss=my_loss_wrapper(myinputs, theta),\n",
    "                        metrics=['accuracy'])\n",
    "    history = model.fit(X_train,\n",
    "                        Y_train,\n",
    "                        epochs=50,\n",
    "                        batch_size=batch_size,\n",
    "                        validation_data=(X_test, Y_test),\n",
    "                        verbose=1,\n",
    "                        callbacks=[earlystopping])\n",
    "    lvals += [np.min(history.history['loss'])]\n",
    "    vlvals += [np.min(history.history['val_loss'])]\n",
    "    print\n",
    "    pass\n",
    "print(lvals)"
   ]
  },
  {
   "cell_type": "code",
   "execution_count": 15,
   "metadata": {
    "ExecuteTime": {
     "end_time": "2020-06-02T04:13:02.367810Z",
     "start_time": "2020-06-02T04:13:01.881893Z"
    }
   },
   "outputs": [
    {
     "data": {
      "text/plain": [
       "<matplotlib.legend.Legend at 0x7f97e01b1b50>"
      ]
     },
     "execution_count": 15,
     "metadata": {},
     "output_type": "execute_result"
    },
    {
     "data": {
      "image/png": "[encoded data removed]",
      "text/plain": [
       "<Figure size 432x288 with 1 Axes>"
      ]
     },
     "metadata": {},
     "output_type": "display_data"
    }
   ],
   "source": [
    "plt.plot(thetas, lvals, label='lvals')\n",
    "plt.plot(thetas, vlvals, label='vlvals')\n",
    "plt.vlines(0.275, ymin=np.min(lvals), ymax=np.max(lvals), label='Truth')\n",
    "plt.xlabel(r'$\\theta$')\n",
    "plt.ylabel('Loss')\n",
    "plt.legend()\n",
    "#plt.savefig(\"probStuUD Vs Loss.png\")"
   ]
  },
  {
   "cell_type": "markdown",
   "metadata": {},
   "source": [
    "# Tuning with Gradient Descent"
   ]
  },
  {
   "cell_type": "code",
   "execution_count": null,
   "metadata": {
    "ExecuteTime": {
     "end_time": "2020-05-31T03:26:09.171164Z",
     "start_time": "2020-05-31T03:25:59.055Z"
    }
   },
   "outputs": [],
   "source": [
    "print_weights = LambdaCallback(on_epoch_end=lambda batch, logs: print(\". theta fit = \",model_fit.layers[-1].get_weights()[-1]))\n",
    "theta_fit_init = 0.217\n",
    "fit_vals = [theta_fit_init]\n",
    "append_fit_value = LambdaCallback(on_epoch_end=lambda batch, logs: \n",
    "                                               fit_vals.append(model_fit.layers[-1].get_weights()[0]))\n",
    "\n",
    "callbacks = [print_weights, append_fit_value]"
   ]
  },
  {
   "cell_type": "code",
   "execution_count": null,
   "metadata": {
    "ExecuteTime": {
     "end_time": "2020-05-31T03:26:09.172244Z",
     "start_time": "2020-05-31T03:25:59.057Z"
    },
    "scrolled": true
   },
   "outputs": [],
   "source": [
    "PFN_model = PFN(input_dim=4, \n",
    "            Phi_sizes=Phi_sizes, F_sizes=F_sizes, \n",
    "            output_dim = 1, output_act = 'sigmoid',\n",
    "            summary=False)\n",
    "myinputs_fit = PFN_model.inputs[0]\n",
    "\n",
    "identity = Lambda(lambda x: x + 0)(PFN_model.output)\n",
    "\n",
    "model_fit = Model(inputs=myinputs_fit, outputs=identity)\n",
    "model_fit.layers[np.size(model_fit.layers)-1].add_weight(name=\"thetaX\",shape=list(),\n",
    "                                                         initializer = keras.initializers.Constant(value = theta_fit_init),\n",
    "                                                         trainable=True)\n",
    "model_fit.summary()\n",
    "\n",
    "train_theta = False\n",
    "\n",
    "batch_size = 1000\n",
    "lr = 5e-7 #smaller learning rate yields better precision\n",
    "epochs = 60 #but requires more epochs to train\n",
    "optimizer = keras.optimizers.Adam(lr=lr)\n",
    "\n",
    "def my_loss_wrapper_fit(inputs,mysign = 1):\n",
    "    x  = inputs #x.shape = (?,?,4)\n",
    "    # Reshaping to correct format\n",
    "    x = tf.gather(x, np.arange(batch_size))\n",
    "    x = tf.gather(x, np.arange(51), axis = 1) # Axis corressponds to (max) number of particles in each event\n",
    "    \n",
    "    \n",
    "    \n",
    "    #Getting theta0:\n",
    "    if train_theta == False:\n",
    "        theta0 = model_fit.layers[-1].get_weights()[0] #when not training theta, fetch as np array\n",
    "        \n",
    "    else:\n",
    "        theta0 = model_fit.trainable_weights[-1] #when training theta, fetch as tf.Variable\n",
    "        \n",
    "    theta_prime = [0.1365, 0.68, theta0]\n",
    "    \n",
    "    # Add MC params to each input particle (but not to the padded rows)\n",
    "    concat_input_and_params = tf.where(K.abs(x[...,0])>0,\n",
    "                                   K.ones_like(x[...,0]),\n",
    "                                   K.zeros_like(x[...,0]))\n",
    "    \n",
    "    concat_input_and_params = theta_prime*K.stack([concat_input_and_params, concat_input_and_params, concat_input_and_params], axis = -1)\n",
    "    \n",
    "    data = K.concatenate([x, concat_input_and_params], -1)\n",
    "    # print(data.shape) # = (batch_size, 51, 7), correct format to pass to DCTR\n",
    "    w = reweight(data) # NN reweight\n",
    "    \n",
    "    def my_loss(y_true,y_pred):\n",
    "        # Mean Squared Loss\n",
    "        t_loss = mysign*(y_true*(y_true - y_pred)**2+(w)*(1.-y_true)*(y_true - y_pred)**2)\n",
    "        # Categorical Cross-Entropy Loss\n",
    "        \n",
    "        #Clip the prediction value to prevent NaN's and Inf's\n",
    "        '''\n",
    "        epsilon = K.epsilon()\n",
    "        y_pred = K.clip(y_pred, epsilon, 1. - epsilon)\n",
    "        \n",
    "        t_loss = -mysign*((y_true)*K.log(y_pred) +w*(1-y_true)*K.log(1-y_pred))\n",
    "        '''\n",
    "        return K.mean(t_loss)\n",
    "    return my_loss\n",
    "    \n",
    "for k in range(epochs):    \n",
    "    print(\"Epoch: \",k )\n",
    "    for i in range(len(model_fit.layers)-1):\n",
    "        train_theta = False\n",
    "        model_fit.layers[i].trainable = True\n",
    "        pass\n",
    "    train_theta = False\n",
    "    model_fit.layers[-1].trainable = False\n",
    "    #model.summary()    \n",
    "    \n",
    "    model_fit.compile(optimizer='adam', loss=my_loss_wrapper_fit(myinputs_fit,1),metrics=['accuracy'])\n",
    "    print(\"Training g\")\n",
    "    model_fit.fit(X_train, Y_train, epochs=1, batch_size=batch_size,validation_data=(X_test, Y_test),verbose=1,callbacks=callbacks)\n",
    "\n",
    "    #Now, fix g and train \\theta.\n",
    "\n",
    "    for i in range(len(model_fit.layers)-1):\n",
    "        model_fit.layers[i].trainable = False\n",
    "        pass    \n",
    "    train_theta = True\n",
    "    model_fit.layers[-1].trainable = True\n",
    "    \n",
    "    model_fit.compile(optimizer=optimizer, loss=my_loss_wrapper_fit(myinputs_fit,-1),metrics=['accuracy'])\n",
    "    #model.summary()\n",
    "    print(\"Training theta\")\n",
    "    model_fit.fit(X_train, Y_train, epochs=1, batch_size=batch_size,validation_data=(X_test, Y_test),verbose=1,callbacks=callbacks)    \n",
    "    pass\n",
    "    "
   ]
  },
  {
   "cell_type": "code",
   "execution_count": null,
   "metadata": {
    "ExecuteTime": {
     "end_time": "2020-05-31T03:26:09.173339Z",
     "start_time": "2020-05-31T03:25:59.058Z"
    }
   },
   "outputs": [],
   "source": [
    "plt.plot(fit_vals, label='Model Fit')\n",
    "plt.hlines(0.2750, 0, len(fit_vals), label = 'Truth')\n",
    "plt.xlabel(\"Epochs\")\n",
    "plt.ylabel(r'$\\theta_{fit}$')\n",
    "plt.legend()\n",
    "plt.title(\"probStuUD (start = 0.12) \\nN = {:.0e}, learning_rate = {:.0e}\".format(len(X_default), lr))\n",
    "plt.savefig(\"probStuUD Fit \\nN = {:.0e}, learning_rate = {:.0e}.png\".format(len(X_default), 5e-7))\n",
    "plt.show()\n"
   ]
  },
  {
   "cell_type": "code",
   "execution_count": null,
   "metadata": {},
   "outputs": [],
   "source": []
  },
  {
   "cell_type": "code",
   "execution_count": null,
   "metadata": {},
   "outputs": [],
   "source": []
  },
  {
   "cell_type": "code",
   "execution_count": null,
   "metadata": {},
   "outputs": [],
   "source": []
  }
 ],
 "metadata": {
  "kernelspec": {
   "display_name": "Python 3",
   "language": "python",
   "name": "python3"
  },
  "language_info": {
   "codemirror_mode": {
    "name": "ipython",
    "version": 2
   },
   "file_extension": ".py",
   "mimetype": "text/x-python",
   "name": "python",
   "nbconvert_exporter": "python",
   "pygments_lexer": "ipython2",
   "version": "2.7.12"
  },
  "notify_time": "30",
  "toc": {
   "base_numbering": 1,
   "nav_menu": {},
   "number_sections": false,
   "sideBar": true,
   "skip_h1_title": false,
   "title_cell": "Table of Contents",
   "title_sidebar": "Contents",
   "toc_cell": false,
   "toc_position": {},
   "toc_section_display": true,
   "toc_window_display": false
  }
 },
 "nbformat": 4,
 "nbformat_minor": 2
}
