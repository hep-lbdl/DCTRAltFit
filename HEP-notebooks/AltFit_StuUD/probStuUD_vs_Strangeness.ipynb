{
 "cells": [
  {
   "cell_type": "markdown",
   "metadata": {},
   "source": [
    "# probStuUD vs. Strangeness"
   ]
  },
  {
   "cell_type": "markdown",
   "metadata": {},
   "source": [
    "In this notebook, we examine the impact of the StuUD parameter on the number of strange hadrons in each event. We use the training data from the original DCTR notebook, and see the distributions of the number of strange hadrons in small intervals of StuUD. Then, we check how the distributions evolve over each interval. Finally, we compare these trends with what the DCTR model has learned by seeing the reweighted distributions over the same interval."
   ]
  },
  {
   "cell_type": "code",
   "execution_count": 1,
   "metadata": {
    "ExecuteTime": {
     "end_time": "2020-06-13T08:23:21.535322Z",
     "start_time": "2020-06-13T08:23:21.531176Z"
    }
   },
   "outputs": [],
   "source": [
    "import os\n",
    "os.environ[\"CUDA_DEVICE_ORDER\"]=\"PCI_BUS_ID\"\n",
    "os.environ[\"CUDA_VISIBLE_DEVICES\"]=\"3\""
   ]
  },
  {
   "cell_type": "code",
   "execution_count": 2,
   "metadata": {
    "ExecuteTime": {
     "end_time": "2020-06-13T08:23:23.332441Z",
     "start_time": "2020-06-13T08:23:21.537899Z"
    }
   },
   "outputs": [
    {
     "name": "stderr",
     "output_type": "stream",
     "text": [
      "Using TensorFlow backend.\n"
     ]
    }
   ],
   "source": [
    "# standard library imports\n",
    "from __future__ import absolute_import, division, print_function\n",
    "\n",
    "import tensorflow as tf\n",
    "import numpy as np\n",
    "from matplotlib import pyplot as plt\n",
    "from sklearn.utils import shuffle\n",
    "from sklearn.model_selection import train_test_split\n",
    "from keras.utils import to_categorical\n",
    "from keras import Sequential\n",
    "from keras.layers import Lambda, Dense, Input, Layer, Dropout\n",
    "from keras.models import Model\n",
    "from keras.utils import to_categorical\n",
    "from keras.callbacks import LambdaCallback, EarlyStopping\n",
    "import keras.backend as K\n",
    "import keras\n",
    "\n",
    "# energyflow imports\n",
    "import energyflow as ef\n",
    "from energyflow.utils import remap_pids\n",
    "\n",
    "import inspect"
   ]
  },
  {
   "cell_type": "code",
   "execution_count": 3,
   "metadata": {
    "ExecuteTime": {
     "end_time": "2020-06-13T08:23:23.338609Z",
     "start_time": "2020-06-13T08:23:23.334486Z"
    }
   },
   "outputs": [],
   "source": [
    "# Global plot settings\n",
    "from matplotlib import rc\n",
    "import matplotlib.font_manager\n",
    "rc('font', family='serif')\n",
    "rc('text', usetex=True)\n",
    "rc('font', size=22)\n",
    "rc('xtick', labelsize=15)\n",
    "rc('ytick', labelsize=15)\n",
    "rc('legend', fontsize=15)"
   ]
  },
  {
   "cell_type": "code",
   "execution_count": 4,
   "metadata": {
    "ExecuteTime": {
     "end_time": "2020-06-13T08:23:23.349539Z",
     "start_time": "2020-06-13T08:23:23.340118Z"
    }
   },
   "outputs": [
    {
     "name": "stdout",
     "output_type": "stream",
     "text": [
      "1.15.0\n"
     ]
    }
   ],
   "source": [
    "print(tf.__version__)"
   ]
  },
  {
   "cell_type": "markdown",
   "metadata": {},
   "source": [
    "# Load Data"
   ]
  },
  {
   "cell_type": "markdown",
   "metadata": {},
   "source": [
    "## Utilities"
   ]
  },
  {
   "cell_type": "code",
   "execution_count": 5,
   "metadata": {
    "ExecuteTime": {
     "end_time": "2020-06-13T08:23:23.360459Z",
     "start_time": "2020-06-13T08:23:23.353776Z"
    }
   },
   "outputs": [],
   "source": [
    "# normalize pT and center (y, phi)\n",
    "def normalize(x):\n",
    "    mask = x[:,0] > 0\n",
    "    yphi_avg = np.average(x[mask,1:3], weights=x[mask,0], axis=0)\n",
    "    x[mask,1:3] -= yphi_avg\n",
    "    x[mask,0] /= x[:,0].sum()"
   ]
  },
  {
   "cell_type": "code",
   "execution_count": 6,
   "metadata": {
    "ExecuteTime": {
     "end_time": "2020-06-13T08:23:23.367827Z",
     "start_time": "2020-06-13T08:23:23.363814Z"
    }
   },
   "outputs": [],
   "source": [
    "def preprocess_data(X):\n",
    "    for x in X:\n",
    "        normalize(x)\n",
    "    \n",
    "    # Remap PIDs to unique values in range [0,1]\n",
    "    #remap_pids(X, pid_i=3)\n",
    "    return X"
   ]
  },
  {
   "cell_type": "markdown",
   "metadata": {},
   "source": [
    "## Process data"
   ]
  },
  {
   "cell_type": "code",
   "execution_count": 7,
   "metadata": {
    "ExecuteTime": {
     "end_time": "2020-06-13T08:23:23.375868Z",
     "start_time": "2020-06-13T08:23:23.369262Z"
    }
   },
   "outputs": [],
   "source": [
    "# Path to downloaded data from Zenodo\n",
    "data_dir = '/data0/users/aandreassen/zenodo/'"
   ]
  },
  {
   "cell_type": "code",
   "execution_count": 8,
   "metadata": {
    "ExecuteTime": {
     "end_time": "2020-06-13T08:23:23.383884Z",
     "start_time": "2020-06-13T08:23:23.377890Z"
    }
   },
   "outputs": [],
   "source": [
    "dataset = np.load(data_dir + '1D_probStoUD_train.npz')"
   ]
  },
  {
   "cell_type": "code",
   "execution_count": 9,
   "metadata": {
    "ExecuteTime": {
     "end_time": "2020-06-13T08:23:40.937197Z",
     "start_time": "2020-06-13T08:23:23.386155Z"
    }
   },
   "outputs": [],
   "source": [
    "X = dataset['X']\n",
    "Y = dataset['Y']"
   ]
  },
  {
   "cell_type": "code",
   "execution_count": 10,
   "metadata": {
    "ExecuteTime": {
     "end_time": "2020-06-13T08:25:54.266029Z",
     "start_time": "2020-06-13T08:23:40.939124Z"
    }
   },
   "outputs": [],
   "source": [
    "X = preprocess_data(X)\n",
    "Y = to_categorical(Y, num_classes=2)"
   ]
  },
  {
   "cell_type": "code",
   "execution_count": 11,
   "metadata": {
    "ExecuteTime": {
     "end_time": "2020-06-13T08:25:54.271685Z",
     "start_time": "2020-06-13T08:25:54.267928Z"
    }
   },
   "outputs": [],
   "source": [
    "# strange hadrons particle IDs\n",
    "strange_PIDs = np.array([130, 310, 311, 321, 3122, 3222, 3212, 3112])\n",
    "\n",
    "# add anti-particles\n",
    "strange_PIDs = np.concatenate([strange_PIDs,-strange_PIDs])\n",
    "X_strangeness = []"
   ]
  },
  {
   "cell_type": "code",
   "execution_count": 12,
   "metadata": {
    "ExecuteTime": {
     "end_time": "2020-06-13T08:36:46.638981Z",
     "start_time": "2020-06-13T08:25:54.273428Z"
    }
   },
   "outputs": [],
   "source": [
    "# More preprocessing: zipping data points with no particle with parameters\n",
    "\n",
    "for event in X:\n",
    "    probStoUD = event[0][6]\n",
    "    PIDs = event[:, 3]\n",
    "    number_strange_hadrons = 0\n",
    "    for PID in PIDs:\n",
    "        number_strange_hadrons += PID in strange_PIDs\n",
    "    X_strangeness.append([number_strange_hadrons, probStoUD])\n",
    "    \n",
    "X_strangeness = np.array(X_strangeness)"
   ]
  },
  {
   "cell_type": "code",
   "execution_count": 13,
   "metadata": {
    "ExecuteTime": {
     "end_time": "2020-06-13T08:36:46.912812Z",
     "start_time": "2020-06-13T08:36:46.660867Z"
    }
   },
   "outputs": [],
   "source": [
    "X_train, X_val, Y_train, Y_val = train_test_split(X_strangeness, Y, test_size=0.2)"
   ]
  },
  {
   "cell_type": "markdown",
   "metadata": {},
   "source": [
    "# Training a DCTR Model\n",
    "First, we need to train a DCTR model to provide us with a reweighting function to be used during fitting.\n",
    "This is taken directly from the first Gaussian Notebook."
   ]
  },
  {
   "cell_type": "markdown",
   "metadata": {},
   "source": [
    "## Build Model"
   ]
  },
  {
   "cell_type": "code",
   "execution_count": 14,
   "metadata": {
    "ExecuteTime": {
     "end_time": "2020-06-13T08:36:47.024569Z",
     "start_time": "2020-06-13T08:36:46.914782Z"
    }
   },
   "outputs": [
    {
     "name": "stdout",
     "output_type": "stream",
     "text": [
      "WARNING:tensorflow:From /home/asuresh/.local/lib/python3.5/site-packages/keras/backend/tensorflow_backend.py:74: The name tf.get_default_graph is deprecated. Please use tf.compat.v1.get_default_graph instead.\n",
      "\n",
      "WARNING:tensorflow:From /home/asuresh/.local/lib/python3.5/site-packages/keras/backend/tensorflow_backend.py:517: The name tf.placeholder is deprecated. Please use tf.compat.v1.placeholder instead.\n",
      "\n",
      "WARNING:tensorflow:From /home/asuresh/.local/lib/python3.5/site-packages/keras/backend/tensorflow_backend.py:4138: The name tf.random_uniform is deprecated. Please use tf.random.uniform instead.\n",
      "\n",
      "WARNING:tensorflow:From /home/asuresh/.local/lib/python3.5/site-packages/keras/optimizers.py:790: The name tf.train.Optimizer is deprecated. Please use tf.compat.v1.train.Optimizer instead.\n",
      "\n",
      "WARNING:tensorflow:From /home/asuresh/.local/lib/python3.5/site-packages/keras/backend/tensorflow_backend.py:3295: The name tf.log is deprecated. Please use tf.math.log instead.\n",
      "\n"
     ]
    }
   ],
   "source": [
    "inputs = Input((2,))\n",
    "hidden_layer_1 = Dense(50, activation='relu')(inputs)\n",
    "hidden_layer_2 = Dense(50, activation='relu')(hidden_layer_1)\n",
    "hidden_layer_3 = Dense(50, activation='relu')(hidden_layer_2)\n",
    "\n",
    "outputs = Dense(2, activation='softmax')(hidden_layer_3)\n",
    "\n",
    "dctr_model = Model(inputs = inputs, outputs = outputs)\n",
    "dctr_model.compile(loss='categorical_crossentropy', optimizer='Adam', metrics= ['accuracy'])"
   ]
  },
  {
   "cell_type": "markdown",
   "metadata": {},
   "source": [
    "## Train DCTR model"
   ]
  },
  {
   "cell_type": "code",
   "execution_count": 15,
   "metadata": {
    "ExecuteTime": {
     "end_time": "2020-06-13T08:38:07.286586Z",
     "start_time": "2020-06-13T08:36:47.027504Z"
    },
    "scrolled": true
   },
   "outputs": [
    {
     "name": "stdout",
     "output_type": "stream",
     "text": [
      "WARNING:tensorflow:From /home/asuresh/.local/lib/python3.5/site-packages/tensorflow_core/python/ops/math_grad.py:1424: where (from tensorflow.python.ops.array_ops) is deprecated and will be removed in a future version.\n",
      "Instructions for updating:\n",
      "Use tf.where in 2.0, which has the same broadcast rule as np.where\n",
      "WARNING:tensorflow:From /home/asuresh/.local/lib/python3.5/site-packages/keras/backend/tensorflow_backend.py:986: The name tf.assign_add is deprecated. Please use tf.compat.v1.assign_add instead.\n",
      "\n",
      "WARNING:tensorflow:From /home/asuresh/.local/lib/python3.5/site-packages/keras/backend/tensorflow_backend.py:973: The name tf.assign is deprecated. Please use tf.compat.v1.assign instead.\n",
      "\n",
      "WARNING:tensorflow:From /home/asuresh/.local/lib/python3.5/site-packages/keras/backend/tensorflow_backend.py:2741: The name tf.Session is deprecated. Please use tf.compat.v1.Session instead.\n",
      "\n",
      "Train on 1440000 samples, validate on 360000 samples\n",
      "Epoch 1/200\n",
      "WARNING:tensorflow:From /home/asuresh/.local/lib/python3.5/site-packages/keras/backend/tensorflow_backend.py:174: The name tf.get_default_session is deprecated. Please use tf.compat.v1.get_default_session instead.\n",
      "\n",
      "WARNING:tensorflow:From /home/asuresh/.local/lib/python3.5/site-packages/keras/backend/tensorflow_backend.py:181: The name tf.ConfigProto is deprecated. Please use tf.compat.v1.ConfigProto instead.\n",
      "\n",
      "WARNING:tensorflow:From /home/asuresh/.local/lib/python3.5/site-packages/keras/backend/tensorflow_backend.py:190: The name tf.global_variables is deprecated. Please use tf.compat.v1.global_variables instead.\n",
      "\n",
      "WARNING:tensorflow:From /home/asuresh/.local/lib/python3.5/site-packages/keras/backend/tensorflow_backend.py:199: The name tf.is_variable_initialized is deprecated. Please use tf.compat.v1.is_variable_initialized instead.\n",
      "\n",
      "WARNING:tensorflow:From /home/asuresh/.local/lib/python3.5/site-packages/keras/backend/tensorflow_backend.py:206: The name tf.variables_initializer is deprecated. Please use tf.compat.v1.variables_initializer instead.\n",
      "\n",
      "1440000/1440000 [==============================] - 3s 2us/step - loss: 0.6926 - acc: 0.5157 - val_loss: 0.6914 - val_acc: 0.5223\n",
      "Epoch 2/200\n",
      "1440000/1440000 [==============================] - 2s 2us/step - loss: 0.6911 - acc: 0.5221 - val_loss: 0.6907 - val_acc: 0.5230\n",
      "Epoch 3/200\n",
      "1440000/1440000 [==============================] - 2s 2us/step - loss: 0.6905 - acc: 0.5250 - val_loss: 0.6901 - val_acc: 0.5268\n",
      "Epoch 4/200\n",
      "1440000/1440000 [==============================] - 2s 2us/step - loss: 0.6901 - acc: 0.5261 - val_loss: 0.6897 - val_acc: 0.5270\n",
      "Epoch 5/200\n",
      "1440000/1440000 [==============================] - 2s 2us/step - loss: 0.6899 - acc: 0.5264 - val_loss: 0.6896 - val_acc: 0.5279\n",
      "Epoch 6/200\n",
      "1440000/1440000 [==============================] - 2s 2us/step - loss: 0.6898 - acc: 0.5273 - val_loss: 0.6895 - val_acc: 0.5280\n",
      "Epoch 7/200\n",
      "1440000/1440000 [==============================] - 2s 2us/step - loss: 0.6898 - acc: 0.5267 - val_loss: 0.6895 - val_acc: 0.5277\n",
      "Epoch 8/200\n",
      "1440000/1440000 [==============================] - 2s 2us/step - loss: 0.6897 - acc: 0.5274 - val_loss: 0.6895 - val_acc: 0.5277\n",
      "Epoch 9/200\n",
      "1440000/1440000 [==============================] - 2s 2us/step - loss: 0.6897 - acc: 0.5273 - val_loss: 0.6895 - val_acc: 0.5279\n",
      "Epoch 10/200\n",
      "1440000/1440000 [==============================] - 2s 2us/step - loss: 0.6897 - acc: 0.5272 - val_loss: 0.6896 - val_acc: 0.5279\n",
      "Epoch 11/200\n",
      "1440000/1440000 [==============================] - 2s 2us/step - loss: 0.6897 - acc: 0.5273 - val_loss: 0.6895 - val_acc: 0.5285\n",
      "Epoch 12/200\n",
      "1440000/1440000 [==============================] - 2s 2us/step - loss: 0.6897 - acc: 0.5274 - val_loss: 0.6896 - val_acc: 0.5281\n",
      "Epoch 13/200\n",
      "1440000/1440000 [==============================] - 2s 2us/step - loss: 0.6897 - acc: 0.5272 - val_loss: 0.6896 - val_acc: 0.5282\n",
      "Epoch 14/200\n",
      "1440000/1440000 [==============================] - 2s 2us/step - loss: 0.6897 - acc: 0.5273 - val_loss: 0.6896 - val_acc: 0.5274\n",
      "Epoch 15/200\n",
      "1440000/1440000 [==============================] - 2s 2us/step - loss: 0.6897 - acc: 0.5274 - val_loss: 0.6895 - val_acc: 0.5282\n",
      "Epoch 16/200\n",
      "1440000/1440000 [==============================] - 2s 2us/step - loss: 0.6897 - acc: 0.5272 - val_loss: 0.6895 - val_acc: 0.5278\n",
      "Epoch 17/200\n",
      "1440000/1440000 [==============================] - 2s 2us/step - loss: 0.6897 - acc: 0.5273 - val_loss: 0.6897 - val_acc: 0.5277\n",
      "Epoch 18/200\n",
      "1440000/1440000 [==============================] - 2s 2us/step - loss: 0.6897 - acc: 0.5274 - val_loss: 0.6898 - val_acc: 0.5281\n",
      "Epoch 19/200\n",
      "1440000/1440000 [==============================] - 2s 2us/step - loss: 0.6897 - acc: 0.5277 - val_loss: 0.6896 - val_acc: 0.5273\n",
      "Epoch 20/200\n",
      "1440000/1440000 [==============================] - 2s 2us/step - loss: 0.6897 - acc: 0.5272 - val_loss: 0.6894 - val_acc: 0.5287\n",
      "Epoch 21/200\n",
      "1440000/1440000 [==============================] - 2s 2us/step - loss: 0.6897 - acc: 0.5271 - val_loss: 0.6894 - val_acc: 0.5282\n",
      "Epoch 22/200\n",
      "1440000/1440000 [==============================] - 2s 2us/step - loss: 0.6897 - acc: 0.5271 - val_loss: 0.6895 - val_acc: 0.5280\n",
      "Epoch 23/200\n",
      "1440000/1440000 [==============================] - 2s 2us/step - loss: 0.6897 - acc: 0.5273 - val_loss: 0.6895 - val_acc: 0.5279\n",
      "Epoch 24/200\n",
      "1440000/1440000 [==============================] - 2s 2us/step - loss: 0.6897 - acc: 0.5274 - val_loss: 0.6894 - val_acc: 0.5283\n",
      "Epoch 25/200\n",
      "1440000/1440000 [==============================] - 2s 2us/step - loss: 0.6897 - acc: 0.5274 - val_loss: 0.6896 - val_acc: 0.5278\n",
      "Epoch 26/200\n",
      "1440000/1440000 [==============================] - 2s 2us/step - loss: 0.6897 - acc: 0.5274 - val_loss: 0.6895 - val_acc: 0.5280\n",
      "Epoch 27/200\n",
      "1440000/1440000 [==============================] - 2s 2us/step - loss: 0.6897 - acc: 0.5273 - val_loss: 0.6895 - val_acc: 0.5278\n",
      "Epoch 28/200\n",
      "1440000/1440000 [==============================] - 2s 2us/step - loss: 0.6897 - acc: 0.5273 - val_loss: 0.6896 - val_acc: 0.5268\n",
      "Epoch 29/200\n",
      "1440000/1440000 [==============================] - 2s 2us/step - loss: 0.6897 - acc: 0.5269 - val_loss: 0.6894 - val_acc: 0.5277\n",
      "Epoch 30/200\n",
      "1440000/1440000 [==============================] - 2s 2us/step - loss: 0.6897 - acc: 0.5272 - val_loss: 0.6895 - val_acc: 0.5289\n",
      "Epoch 31/200\n",
      "1440000/1440000 [==============================] - 2s 2us/step - loss: 0.6897 - acc: 0.5274 - val_loss: 0.6896 - val_acc: 0.5282\n",
      "Epoch 32/200\n",
      "1440000/1440000 [==============================] - 2s 2us/step - loss: 0.6897 - acc: 0.5276 - val_loss: 0.6895 - val_acc: 0.5278\n",
      "Epoch 33/200\n",
      "1440000/1440000 [==============================] - 2s 2us/step - loss: 0.6897 - acc: 0.5274 - val_loss: 0.6895 - val_acc: 0.5282\n",
      "Epoch 34/200\n",
      "1440000/1440000 [==============================] - 2s 2us/step - loss: 0.6897 - acc: 0.5273 - val_loss: 0.6895 - val_acc: 0.5285\n"
     ]
    },
    {
     "data": {
      "text/plain": [
       "<keras.callbacks.History at 0x7fe64b1b3c18>"
      ]
     },
     "execution_count": 15,
     "metadata": {},
     "output_type": "execute_result"
    }
   ],
   "source": [
    "earlystopping = EarlyStopping(patience = 10,\n",
    "                              restore_best_weights=True)\n",
    "dctr_model.fit(X_train, Y_train, \n",
    "               epochs=200, batch_size = 10000, \n",
    "               validation_data = (X_val, Y_val), \n",
    "               verbose = 1, \n",
    "               callbacks = [earlystopping])"
   ]
  },
  {
   "cell_type": "markdown",
   "metadata": {},
   "source": [
    "# Comparison"
   ]
  },
  {
   "cell_type": "markdown",
   "metadata": {},
   "source": [
    "## Defining reweighting functions\n",
    "\n",
    "$w(x_{T,i},\\theta)=((f(x_{T,i},\\theta)/(1-f(x_{T,i},\\theta)))$\n",
    "\n",
    "Takes observable from simulation ${\\bf \\theta_0}$ and weights it to observable from data (target) ${\\bf \\theta_1}$."
   ]
  },
  {
   "cell_type": "code",
   "execution_count": 16,
   "metadata": {
    "ExecuteTime": {
     "end_time": "2020-06-13T08:38:07.293253Z",
     "start_time": "2020-06-13T08:38:07.289224Z"
    }
   },
   "outputs": [],
   "source": [
    "def reweight(d): #from NN (DCTR)\n",
    "    f = dctr_model(d)\n",
    "    weights = (f[:,1])/(f[:,0])\n",
    "    weights = K.expand_dims(weights, axis = 1)\n",
    "    return weights"
   ]
  },
  {
   "cell_type": "markdown",
   "metadata": {},
   "source": [
    "## DCTR Learned Trends"
   ]
  },
  {
   "cell_type": "code",
   "execution_count": 17,
   "metadata": {
    "ExecuteTime": {
     "end_time": "2020-06-13T08:38:07.311490Z",
     "start_time": "2020-06-13T08:38:07.295605Z"
    }
   },
   "outputs": [],
   "source": [
    "default_dataset = np.load(data_dir + 'test1D_default.npz')"
   ]
  },
  {
   "cell_type": "code",
   "execution_count": 18,
   "metadata": {
    "ExecuteTime": {
     "end_time": "2020-06-13T08:43:49.431495Z",
     "start_time": "2020-06-13T08:38:07.315122Z"
    }
   },
   "outputs": [],
   "source": [
    "X_0_jet = default_dataset['jet']\n",
    "X_0 = []\n",
    "for event in X_0_jet:\n",
    "    PIDs = event[:, 3]\n",
    "    number_strange_hadrons = 0\n",
    "    for PID in PIDs:\n",
    "        number_strange_hadrons += PID in strange_PIDs\n",
    "    X_0.append([number_strange_hadrons])\n",
    "X_0 = np.array(X_0)"
   ]
  },
  {
   "cell_type": "code",
   "execution_count": 19,
   "metadata": {
    "ExecuteTime": {
     "end_time": "2020-06-13T08:43:49.440810Z",
     "start_time": "2020-06-13T08:43:49.434863Z"
    }
   },
   "outputs": [],
   "source": [
    "bins = np.arange(0, 15)\n",
    "\n",
    "strangeness_reweighted = np.empty((0, 14), float)\n",
    "strangeness = np.empty((0, 14), float)"
   ]
  },
  {
   "cell_type": "code",
   "execution_count": 20,
   "metadata": {
    "ExecuteTime": {
     "end_time": "2020-06-13T08:46:51.102560Z",
     "start_time": "2020-06-13T08:43:49.443973Z"
    },
    "scrolled": true
   },
   "outputs": [],
   "source": [
    "interval = 0.0005\n",
    "\n",
    "StuUD_vals = np.arange(0.1, 0.3, interval)  # uniformly sampled in data\n",
    "\n",
    "for val in StuUD_vals:\n",
    "\n",
    "    X_0_inputs = np.concatenate([X_0, val * np.ones_like(X_0)], axis=1)\n",
    "\n",
    "    weights_1 = K.eval(\n",
    "        reweight(tf.convert_to_tensor(X_0_inputs, dtype=tf.float32)))\n",
    "\n",
    "    hist = np.histogram(X_0, bins=bins, density=True,\n",
    "                        weights=weights_1)  # see the distribution\n",
    "    strangeness_reweighted = np.append(strangeness_reweighted, np.array([hist[0]]), axis=0)"
   ]
  },
  {
   "cell_type": "markdown",
   "metadata": {},
   "source": [
    "## Training Data Trends"
   ]
  },
  {
   "cell_type": "code",
   "execution_count": 21,
   "metadata": {
    "ExecuteTime": {
     "end_time": "2020-06-13T08:46:51.840828Z",
     "start_time": "2020-06-13T08:46:51.105049Z"
    }
   },
   "outputs": [],
   "source": [
    "# only include uniformly sampled data, not default data\n",
    "Y = dataset['Y']\n",
    "X = X[Y==1]"
   ]
  },
  {
   "cell_type": "code",
   "execution_count": 22,
   "metadata": {
    "ExecuteTime": {
     "end_time": "2020-06-13T08:52:34.403606Z",
     "start_time": "2020-06-13T08:46:51.843201Z"
    }
   },
   "outputs": [],
   "source": [
    "for val in StuUD_vals:\n",
    "    data = []\n",
    "    # loop over all the events in particular interval\n",
    "    # X[:,0,6] is value of probStuUD for each event\n",
    "    for event in X[np.logical_and(val <= X[:, 0, 6], X[:, 0, 6] <\n",
    "                                  (val + interval))]:\n",
    "        PIDs = event[:, 3]\n",
    "        number_strange_hadrons = 0\n",
    "        for PID in PIDs:\n",
    "            # count number of strange hadrons in each event\n",
    "            # i.e. check how many particles in event have strange PIDs\n",
    "            number_strange_hadrons += PID in strange_PIDs\n",
    "        data += [number_strange_hadrons]\n",
    "    hist = np.histogram(data, bins=bins, density=True)  # see the distribution\n",
    "    strangeness = np.append(strangeness, np.array([hist[0]]), axis=0)"
   ]
  },
  {
   "cell_type": "markdown",
   "metadata": {},
   "source": [
    "## Comparison Plot"
   ]
  },
  {
   "cell_type": "code",
   "execution_count": 23,
   "metadata": {
    "ExecuteTime": {
     "end_time": "2020-06-13T08:52:37.088548Z",
     "start_time": "2020-06-13T08:52:34.405607Z"
    }
   },
   "outputs": [
    {
     "data": {
      "image/png": "[encoded data removed]",
      "text/plain": [
       "<Figure size 432x288 with 1 Axes>"
      ]
     },
     "metadata": {
      "needs_background": "light"
     },
     "output_type": "display_data"
    }
   ],
   "source": [
    "plt.title('Distribution of Strange Hadrons vs. probStuUD')\n",
    "\n",
    "plt.plot(StuUD_vals,\n",
    "         strangeness[:, 0],\n",
    "         label='0 (Training Data)',\n",
    "         linestyle=':',\n",
    "         color='C0')\n",
    "plt.plot(StuUD_vals,\n",
    "         strangeness[:, 1],\n",
    "         label='1 (Training Data)',\n",
    "         linestyle=':',\n",
    "         color='C1')\n",
    "plt.plot(StuUD_vals,\n",
    "         strangeness[:, 2],\n",
    "         label='2 (Training Data)',\n",
    "         linestyle=':',\n",
    "         color='C2')\n",
    "plt.plot(StuUD_vals,\n",
    "         strangeness[:, 3],\n",
    "         label='3 (Training Data)',\n",
    "         linestyle=':',\n",
    "         color='C3')\n",
    "plt.plot(StuUD_vals,\n",
    "         strangeness[:, 4],\n",
    "         label='4 (Training Data)',\n",
    "         linestyle=':',\n",
    "         color='C4')\n",
    "\n",
    "plt.plot(StuUD_vals,\n",
    "         strangeness_reweighted[:, 0],\n",
    "         label='0 (DCTR Reweight)',\n",
    "         linewidth=2.,\n",
    "         color='C0')\n",
    "plt.plot(StuUD_vals,\n",
    "         strangeness_reweighted[:, 1],\n",
    "         label='1 (DCTR Reweight)',\n",
    "         linewidth=2.,\n",
    "         color='C1')\n",
    "plt.plot(StuUD_vals,\n",
    "         strangeness_reweighted[:, 2],\n",
    "         label='2 (DCTR Reweight)',\n",
    "         linewidth=2.,\n",
    "         color='C2')\n",
    "plt.plot(StuUD_vals,\n",
    "         strangeness_reweighted[:, 3],\n",
    "         label='3 (DCTR Reweight)',\n",
    "         linewidth=2.,\n",
    "         color='C3')\n",
    "plt.plot(StuUD_vals,\n",
    "         strangeness_reweighted[:, 4],\n",
    "         label='4 (DCTR Reweight)',\n",
    "         linewidth=2.,\n",
    "         color='C4')\n",
    "\n",
    "plt.xlabel('probStuUD')\n",
    "plt.ylabel('Jets per bin (normalized)')\n",
    "\n",
    "plt.legend(title='Number of Strange Hadrons', bbox_to_anchor=(1.05, 1.0))\n",
    "plt.savefig('Reweighted Distribution of Strange Hadrons vs. probStuUD.png',\n",
    "            bbox_inches='tight')\n",
    "plt.show()"
   ]
  }
 ],
 "metadata": {
  "kernelspec": {
   "display_name": "Python 3",
   "language": "python",
   "name": "python3"
  },
  "language_info": {
   "codemirror_mode": {
    "name": "ipython",
    "version": 3
   },
   "file_extension": ".py",
   "mimetype": "text/x-python",
   "name": "python",
   "nbconvert_exporter": "python",
   "pygments_lexer": "ipython3",
   "version": "3.5.2"
  },
  "toc": {
   "base_numbering": 1,
   "nav_menu": {},
   "number_sections": false,
   "sideBar": true,
   "skip_h1_title": false,
   "title_cell": "Table of Contents",
   "title_sidebar": "Contents",
   "toc_cell": false,
   "toc_position": {},
   "toc_section_display": true,
   "toc_window_display": false
  }
 },
 "nbformat": 4,
 "nbformat_minor": 2
}
