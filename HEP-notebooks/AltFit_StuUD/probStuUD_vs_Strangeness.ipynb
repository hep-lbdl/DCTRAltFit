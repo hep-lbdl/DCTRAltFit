{
 "cells": [
  {
   "cell_type": "markdown",
   "metadata": {},
   "source": [
    "# probStuUD vs. Strangeness"
   ]
  },
  {
   "cell_type": "markdown",
   "metadata": {},
   "source": [
    "In this notebook, we examine the impact of the StuUD parameter on the number of strange hadrons in each event. We use the training data from the original DCTR notebook, and see the distributions of the number of strange hadrons in small intervals of StuUD. Then, we check how the distributions evolve over each interval. Finally, we compare these trends with what the DCTR model has learned by seeing the reweighted distributions over the same interval.\n",
    "\n",
    "We also plot the discrete distributions for the default and unknown datasets used during fitting."
   ]
  },
  {
   "cell_type": "code",
   "execution_count": 1,
   "metadata": {
    "ExecuteTime": {
     "end_time": "2020-07-01T19:16:33.356807Z",
     "start_time": "2020-07-01T19:16:33.351173Z"
    }
   },
   "outputs": [],
   "source": [
    "import os\n",
    "os.environ[\"CUDA_DEVICE_ORDER\"]=\"PCI_BUS_ID\"\n",
    "os.environ[\"CUDA_VISIBLE_DEVICES\"]=\"3\""
   ]
  },
  {
   "cell_type": "code",
   "execution_count": 2,
   "metadata": {
    "ExecuteTime": {
     "end_time": "2020-07-01T19:16:36.673919Z",
     "start_time": "2020-07-01T19:16:33.514770Z"
    }
   },
   "outputs": [
    {
     "name": "stderr",
     "output_type": "stream",
     "text": [
      "Using TensorFlow backend.\n"
     ]
    }
   ],
   "source": [
    "# standard library imports\n",
    "from __future__ import absolute_import, division, print_function\n",
    "\n",
    "import tensorflow as tf\n",
    "import numpy as np\n",
    "from matplotlib import pyplot as plt\n",
    "from sklearn.utils import shuffle\n",
    "from sklearn.model_selection import train_test_split\n",
    "from keras.utils import to_categorical\n",
    "from keras import Sequential\n",
    "from keras.layers import Lambda, Dense, Input, Layer, Dropout\n",
    "from keras.models import Model\n",
    "from keras.utils import to_categorical\n",
    "from keras.callbacks import LambdaCallback, EarlyStopping\n",
    "import keras.backend as K\n",
    "import keras\n",
    "\n",
    "# energyflow imports\n",
    "import energyflow as ef\n",
    "from energyflow.utils import remap_pids\n",
    "\n",
    "import inspect"
   ]
  },
  {
   "cell_type": "code",
   "execution_count": 3,
   "metadata": {
    "ExecuteTime": {
     "end_time": "2020-07-01T19:16:36.681419Z",
     "start_time": "2020-07-01T19:16:36.676614Z"
    }
   },
   "outputs": [],
   "source": [
    "# Global plot settings\n",
    "from matplotlib import rc\n",
    "import matplotlib.font_manager\n",
    "rc('font', family='serif')\n",
    "rc('text', usetex=True)\n",
    "rc('font', size=22)\n",
    "rc('xtick', labelsize=15)\n",
    "rc('ytick', labelsize=15)\n",
    "rc('legend', fontsize=15)"
   ]
  },
  {
   "cell_type": "code",
   "execution_count": 4,
   "metadata": {
    "ExecuteTime": {
     "end_time": "2020-07-01T19:16:36.706774Z",
     "start_time": "2020-07-01T19:16:36.685555Z"
    }
   },
   "outputs": [
    {
     "name": "stdout",
     "output_type": "stream",
     "text": [
      "1.15.0\n"
     ]
    }
   ],
   "source": [
    "print(tf.__version__)"
   ]
  },
  {
   "cell_type": "markdown",
   "metadata": {},
   "source": [
    "# Load Data"
   ]
  },
  {
   "cell_type": "markdown",
   "metadata": {},
   "source": [
    "## Utilities"
   ]
  },
  {
   "cell_type": "code",
   "execution_count": 5,
   "metadata": {
    "ExecuteTime": {
     "end_time": "2020-07-01T19:16:36.724389Z",
     "start_time": "2020-07-01T19:16:36.710687Z"
    }
   },
   "outputs": [],
   "source": [
    "# normalize pT and center (y, phi)\n",
    "def normalize(x):\n",
    "    mask = x[:,0] > 0\n",
    "    yphi_avg = np.average(x[mask,1:3], weights=x[mask,0], axis=0)\n",
    "    x[mask,1:3] -= yphi_avg\n",
    "    x[mask,0] /= x[:,0].sum()"
   ]
  },
  {
   "cell_type": "code",
   "execution_count": 6,
   "metadata": {
    "ExecuteTime": {
     "end_time": "2020-07-01T19:16:36.738427Z",
     "start_time": "2020-07-01T19:16:36.727834Z"
    }
   },
   "outputs": [],
   "source": [
    "def preprocess_data(X):\n",
    "    for x in X:\n",
    "        normalize(x)\n",
    "    \n",
    "    # Remap PIDs to unique values in range [0,1]\n",
    "    #remap_pids(X, pid_i=3)\n",
    "    return X"
   ]
  },
  {
   "cell_type": "markdown",
   "metadata": {},
   "source": [
    "## Process data"
   ]
  },
  {
   "cell_type": "code",
   "execution_count": 7,
   "metadata": {
    "ExecuteTime": {
     "end_time": "2020-07-01T19:16:36.745666Z",
     "start_time": "2020-07-01T19:16:36.740699Z"
    }
   },
   "outputs": [],
   "source": [
    "# Path to downloaded data from Zenodo\n",
    "data_dir = '/data0/users/aandreassen/zenodo/'\n",
    "data_dir1 = '/data1/users/asuresh/DCTRFitting/'"
   ]
  },
  {
   "cell_type": "code",
   "execution_count": 8,
   "metadata": {
    "ExecuteTime": {
     "end_time": "2020-07-01T19:16:36.757962Z",
     "start_time": "2020-07-01T19:16:36.747560Z"
    }
   },
   "outputs": [],
   "source": [
    "dataset = np.load(data_dir + '1D_probStoUD_train.npz')"
   ]
  },
  {
   "cell_type": "code",
   "execution_count": 9,
   "metadata": {
    "ExecuteTime": {
     "end_time": "2020-07-01T19:17:07.026156Z",
     "start_time": "2020-07-01T19:16:36.761447Z"
    }
   },
   "outputs": [],
   "source": [
    "X = dataset['X']\n",
    "Y = dataset['Y']"
   ]
  },
  {
   "cell_type": "code",
   "execution_count": 10,
   "metadata": {
    "ExecuteTime": {
     "end_time": "2020-07-01T19:19:59.786678Z",
     "start_time": "2020-07-01T19:17:07.028753Z"
    }
   },
   "outputs": [],
   "source": [
    "X = preprocess_data(X)\n",
    "Y = to_categorical(Y, num_classes=2)"
   ]
  },
  {
   "cell_type": "code",
   "execution_count": 11,
   "metadata": {
    "ExecuteTime": {
     "end_time": "2020-07-01T19:19:59.792704Z",
     "start_time": "2020-07-01T19:19:59.788831Z"
    }
   },
   "outputs": [],
   "source": [
    "# strange hadrons particle IDs\n",
    "strange_PIDs = np.array([130, 310, 311, 321, 3122, 3222, 3212, 3112])\n",
    "\n",
    "# add anti-particles\n",
    "strange_PIDs = np.concatenate([strange_PIDs,-strange_PIDs])\n",
    "X_strangeness = []"
   ]
  },
  {
   "cell_type": "code",
   "execution_count": 12,
   "metadata": {
    "ExecuteTime": {
     "end_time": "2020-07-01T19:29:54.086807Z",
     "start_time": "2020-07-01T19:19:59.795415Z"
    }
   },
   "outputs": [],
   "source": [
    "# Getting training data strangeness\n",
    "\n",
    "for event in X:\n",
    "    probStoUD = event[0][6]\n",
    "    PIDs = event[:, 3]\n",
    "    number_strange_hadrons = 0\n",
    "    for PID in PIDs:\n",
    "        number_strange_hadrons += PID in strange_PIDs\n",
    "    X_strangeness.append([number_strange_hadrons, probStoUD])\n",
    "    \n",
    "X_strangeness = np.array(X_strangeness)"
   ]
  },
  {
   "cell_type": "code",
   "execution_count": 13,
   "metadata": {
    "ExecuteTime": {
     "end_time": "2020-07-01T19:29:54.340777Z",
     "start_time": "2020-07-01T19:29:54.089914Z"
    }
   },
   "outputs": [],
   "source": [
    "X_train, X_val, Y_train, Y_val = train_test_split(X_strangeness, Y, test_size=0.2)"
   ]
  },
  {
   "cell_type": "markdown",
   "metadata": {},
   "source": [
    "# Training a DCTR Model\n",
    "First, we need to train a DCTR model to provide us with a reweighting function to be used during fitting.\n",
    "This is taken directly from the first Gaussian Notebook."
   ]
  },
  {
   "cell_type": "markdown",
   "metadata": {},
   "source": [
    "## Build Model"
   ]
  },
  {
   "cell_type": "code",
   "execution_count": 14,
   "metadata": {
    "ExecuteTime": {
     "end_time": "2020-07-01T19:29:54.473670Z",
     "start_time": "2020-07-01T19:29:54.342918Z"
    }
   },
   "outputs": [
    {
     "name": "stdout",
     "output_type": "stream",
     "text": [
      "WARNING:tensorflow:From /home/asuresh/.local/lib/python3.5/site-packages/keras/backend/tensorflow_backend.py:74: The name tf.get_default_graph is deprecated. Please use tf.compat.v1.get_default_graph instead.\n",
      "\n",
      "WARNING:tensorflow:From /home/asuresh/.local/lib/python3.5/site-packages/keras/backend/tensorflow_backend.py:517: The name tf.placeholder is deprecated. Please use tf.compat.v1.placeholder instead.\n",
      "\n",
      "WARNING:tensorflow:From /home/asuresh/.local/lib/python3.5/site-packages/keras/backend/tensorflow_backend.py:4138: The name tf.random_uniform is deprecated. Please use tf.random.uniform instead.\n",
      "\n",
      "WARNING:tensorflow:From /home/asuresh/.local/lib/python3.5/site-packages/keras/optimizers.py:790: The name tf.train.Optimizer is deprecated. Please use tf.compat.v1.train.Optimizer instead.\n",
      "\n",
      "WARNING:tensorflow:From /home/asuresh/.local/lib/python3.5/site-packages/keras/backend/tensorflow_backend.py:3295: The name tf.log is deprecated. Please use tf.math.log instead.\n",
      "\n"
     ]
    }
   ],
   "source": [
    "inputs = Input((2,))\n",
    "hidden_layer_1 = Dense(50, activation='relu')(inputs)\n",
    "hidden_layer_2 = Dense(50, activation='relu')(hidden_layer_1)\n",
    "hidden_layer_3 = Dense(50, activation='relu')(hidden_layer_2)\n",
    "\n",
    "outputs = Dense(2, activation='softmax')(hidden_layer_3)\n",
    "\n",
    "dctr_model = Model(inputs = inputs, outputs = outputs)\n",
    "dctr_model.compile(loss='categorical_crossentropy', optimizer='Adam', metrics= ['accuracy'])"
   ]
  },
  {
   "cell_type": "markdown",
   "metadata": {},
   "source": [
    "## Train DCTR model"
   ]
  },
  {
   "cell_type": "code",
   "execution_count": 15,
   "metadata": {
    "ExecuteTime": {
     "end_time": "2020-07-01T19:30:49.509398Z",
     "start_time": "2020-07-01T19:29:54.475828Z"
    },
    "scrolled": true
   },
   "outputs": [
    {
     "name": "stdout",
     "output_type": "stream",
     "text": [
      "WARNING:tensorflow:From /home/asuresh/.local/lib/python3.5/site-packages/tensorflow_core/python/ops/math_grad.py:1424: where (from tensorflow.python.ops.array_ops) is deprecated and will be removed in a future version.\n",
      "Instructions for updating:\n",
      "Use tf.where in 2.0, which has the same broadcast rule as np.where\n",
      "WARNING:tensorflow:From /home/asuresh/.local/lib/python3.5/site-packages/keras/backend/tensorflow_backend.py:986: The name tf.assign_add is deprecated. Please use tf.compat.v1.assign_add instead.\n",
      "\n",
      "WARNING:tensorflow:From /home/asuresh/.local/lib/python3.5/site-packages/keras/backend/tensorflow_backend.py:973: The name tf.assign is deprecated. Please use tf.compat.v1.assign instead.\n",
      "\n",
      "WARNING:tensorflow:From /home/asuresh/.local/lib/python3.5/site-packages/keras/backend/tensorflow_backend.py:2741: The name tf.Session is deprecated. Please use tf.compat.v1.Session instead.\n",
      "\n",
      "Train on 1440000 samples, validate on 360000 samples\n",
      "Epoch 1/200\n",
      "WARNING:tensorflow:From /home/asuresh/.local/lib/python3.5/site-packages/keras/backend/tensorflow_backend.py:174: The name tf.get_default_session is deprecated. Please use tf.compat.v1.get_default_session instead.\n",
      "\n",
      "WARNING:tensorflow:From /home/asuresh/.local/lib/python3.5/site-packages/keras/backend/tensorflow_backend.py:181: The name tf.ConfigProto is deprecated. Please use tf.compat.v1.ConfigProto instead.\n",
      "\n",
      "WARNING:tensorflow:From /home/asuresh/.local/lib/python3.5/site-packages/keras/backend/tensorflow_backend.py:190: The name tf.global_variables is deprecated. Please use tf.compat.v1.global_variables instead.\n",
      "\n",
      "WARNING:tensorflow:From /home/asuresh/.local/lib/python3.5/site-packages/keras/backend/tensorflow_backend.py:199: The name tf.is_variable_initialized is deprecated. Please use tf.compat.v1.is_variable_initialized instead.\n",
      "\n",
      "WARNING:tensorflow:From /home/asuresh/.local/lib/python3.5/site-packages/keras/backend/tensorflow_backend.py:206: The name tf.variables_initializer is deprecated. Please use tf.compat.v1.variables_initializer instead.\n",
      "\n",
      "1440000/1440000 [==============================] - 3s 2us/step - loss: 0.6920 - acc: 0.5169 - val_loss: 0.6910 - val_acc: 0.5242\n",
      "Epoch 2/200\n",
      "1440000/1440000 [==============================] - 2s 2us/step - loss: 0.6905 - acc: 0.5246 - val_loss: 0.6899 - val_acc: 0.5265\n",
      "Epoch 3/200\n",
      "1440000/1440000 [==============================] - 2s 2us/step - loss: 0.6900 - acc: 0.5265 - val_loss: 0.6897 - val_acc: 0.5273\n",
      "Epoch 4/200\n",
      "1440000/1440000 [==============================] - 2s 2us/step - loss: 0.6899 - acc: 0.5270 - val_loss: 0.6896 - val_acc: 0.5271\n",
      "Epoch 5/200\n",
      "1440000/1440000 [==============================] - 2s 2us/step - loss: 0.6898 - acc: 0.5269 - val_loss: 0.6898 - val_acc: 0.5261\n",
      "Epoch 6/200\n",
      "1440000/1440000 [==============================] - 2s 2us/step - loss: 0.6898 - acc: 0.5273 - val_loss: 0.6899 - val_acc: 0.5267\n",
      "Epoch 7/200\n",
      "1440000/1440000 [==============================] - 2s 2us/step - loss: 0.6898 - acc: 0.5271 - val_loss: 0.6896 - val_acc: 0.5271\n",
      "Epoch 8/200\n",
      "1440000/1440000 [==============================] - 2s 2us/step - loss: 0.6897 - acc: 0.5274 - val_loss: 0.6899 - val_acc: 0.5267\n",
      "Epoch 9/200\n",
      "1440000/1440000 [==============================] - 2s 2us/step - loss: 0.6897 - acc: 0.5271 - val_loss: 0.6896 - val_acc: 0.5271\n",
      "Epoch 10/200\n",
      "1440000/1440000 [==============================] - 2s 2us/step - loss: 0.6897 - acc: 0.5271 - val_loss: 0.6899 - val_acc: 0.5268\n",
      "Epoch 11/200\n",
      "1440000/1440000 [==============================] - 2s 2us/step - loss: 0.6897 - acc: 0.5268 - val_loss: 0.6895 - val_acc: 0.5273\n",
      "Epoch 12/200\n",
      "1440000/1440000 [==============================] - 2s 2us/step - loss: 0.6897 - acc: 0.5269 - val_loss: 0.6896 - val_acc: 0.5272\n",
      "Epoch 13/200\n",
      "1440000/1440000 [==============================] - 2s 2us/step - loss: 0.6897 - acc: 0.5271 - val_loss: 0.6897 - val_acc: 0.5265\n",
      "Epoch 14/200\n",
      "1440000/1440000 [==============================] - 2s 2us/step - loss: 0.6897 - acc: 0.5271 - val_loss: 0.6895 - val_acc: 0.5271\n",
      "Epoch 15/200\n",
      "1440000/1440000 [==============================] - 2s 2us/step - loss: 0.6897 - acc: 0.5276 - val_loss: 0.6895 - val_acc: 0.5274\n",
      "Epoch 16/200\n",
      "1440000/1440000 [==============================] - 2s 2us/step - loss: 0.6897 - acc: 0.5273 - val_loss: 0.6897 - val_acc: 0.5274\n",
      "Epoch 17/200\n",
      "1440000/1440000 [==============================] - 2s 2us/step - loss: 0.6897 - acc: 0.5270 - val_loss: 0.6897 - val_acc: 0.5269\n",
      "Epoch 18/200\n",
      "1440000/1440000 [==============================] - 2s 2us/step - loss: 0.6897 - acc: 0.5277 - val_loss: 0.6896 - val_acc: 0.5271\n",
      "Epoch 19/200\n",
      "1440000/1440000 [==============================] - 2s 2us/step - loss: 0.6897 - acc: 0.5272 - val_loss: 0.6898 - val_acc: 0.5269\n",
      "Epoch 20/200\n",
      "1440000/1440000 [==============================] - 2s 2us/step - loss: 0.6897 - acc: 0.5275 - val_loss: 0.6897 - val_acc: 0.5272\n",
      "Epoch 21/200\n",
      "1440000/1440000 [==============================] - 2s 2us/step - loss: 0.6896 - acc: 0.5278 - val_loss: 0.6896 - val_acc: 0.5273\n",
      "Epoch 22/200\n",
      "1440000/1440000 [==============================] - 2s 2us/step - loss: 0.6896 - acc: 0.5275 - val_loss: 0.6895 - val_acc: 0.5272\n",
      "Epoch 23/200\n",
      "1440000/1440000 [==============================] - 2s 2us/step - loss: 0.6897 - acc: 0.5271 - val_loss: 0.6896 - val_acc: 0.5273\n",
      "Epoch 24/200\n",
      "1440000/1440000 [==============================] - 2s 2us/step - loss: 0.6897 - acc: 0.5275 - val_loss: 0.6895 - val_acc: 0.5273\n"
     ]
    },
    {
     "data": {
      "text/plain": [
       "<keras.callbacks.History at 0x7f8cf5521cf8>"
      ]
     },
     "execution_count": 15,
     "metadata": {},
     "output_type": "execute_result"
    }
   ],
   "source": [
    "earlystopping = EarlyStopping(patience = 10,\n",
    "                              restore_best_weights=True)\n",
    "dctr_model.fit(X_train, Y_train, \n",
    "               epochs=200, batch_size = 10000, \n",
    "               validation_data = (X_val, Y_val), \n",
    "               verbose = 1, \n",
    "               callbacks = [earlystopping])"
   ]
  },
  {
   "cell_type": "markdown",
   "metadata": {},
   "source": [
    "# Comparison"
   ]
  },
  {
   "cell_type": "markdown",
   "metadata": {},
   "source": [
    "## Defining reweighting functions\n",
    "\n",
    "$w(x_{T,i},\\theta)=((f(x_{T,i},\\theta)/(1-f(x_{T,i},\\theta)))$\n",
    "\n",
    "Takes observable from simulation ${\\bf \\theta_0}$ and weights it to observable from data (target) ${\\bf \\theta_1}$."
   ]
  },
  {
   "cell_type": "code",
   "execution_count": 16,
   "metadata": {
    "ExecuteTime": {
     "end_time": "2020-07-01T19:30:49.516081Z",
     "start_time": "2020-07-01T19:30:49.511907Z"
    }
   },
   "outputs": [],
   "source": [
    "def reweight(d): #from NN (DCTR)\n",
    "    f = dctr_model(d)\n",
    "    weights = (f[:,1])/(f[:,0])\n",
    "    weights = K.expand_dims(weights, axis = 1)\n",
    "    return weights"
   ]
  },
  {
   "cell_type": "code",
   "execution_count": 17,
   "metadata": {
    "ExecuteTime": {
     "end_time": "2020-07-01T19:31:19.523508Z",
     "start_time": "2020-07-01T19:30:49.518155Z"
    }
   },
   "outputs": [],
   "source": [
    "default_dataset = np.load(data_dir + 'test1D_default.npz')\n",
    "unknown_dataset = np.load(data_dir + 'test1D_probStoUD.npz')\n",
    "unknown_dataset2 = np.load(data_dir1 + 'test1D_strange150.npz', allow_pickle=True)['dataset'][0]\n",
    "unknown_dataset3 = np.load(data_dir1 + 'test1D_strange200.npz', allow_pickle=True)['dataset'][0]\n",
    "unknown_dataset4 = np.load(data_dir1 + 'test1D_strange275.npz', allow_pickle=True)['dataset'][0]"
   ]
  },
  {
   "cell_type": "markdown",
   "metadata": {},
   "source": [
    "## Default Distribution"
   ]
  },
  {
   "cell_type": "code",
   "execution_count": 18,
   "metadata": {
    "ExecuteTime": {
     "end_time": "2020-07-01T19:36:29.138835Z",
     "start_time": "2020-07-01T19:31:19.526051Z"
    }
   },
   "outputs": [],
   "source": [
    "bins = np.arange(0, 15)\n",
    "\n",
    "X_0_jet = default_dataset['jet']\n",
    "X_0 = []\n",
    "for event in X_0_jet:\n",
    "    PIDs = event[:, 3]\n",
    "    number_strange_hadrons = 0\n",
    "    for PID in PIDs:\n",
    "        number_strange_hadrons += PID in strange_PIDs\n",
    "    X_0.append([number_strange_hadrons])\n",
    "X_0 = np.array(X_0)\n",
    "\n",
    "# The default distribution; StuUD = 0.217\n",
    "X_0_hist = np.histogram(X_0, bins = bins, density = True)\n",
    "# Interesting behavior for 0-4 strange hadrons\n",
    "strangeness_default = X_0_hist[0][:5]"
   ]
  },
  {
   "cell_type": "markdown",
   "metadata": {},
   "source": [
    "## DCTR Learned Trends"
   ]
  },
  {
   "cell_type": "code",
   "execution_count": 19,
   "metadata": {
    "ExecuteTime": {
     "end_time": "2020-07-01T19:36:29.146412Z",
     "start_time": "2020-07-01T19:36:29.141596Z"
    }
   },
   "outputs": [],
   "source": [
    "strangeness_reweighted = np.empty((0, 14), float)\n",
    "strangeness = np.empty((0, 14), float)"
   ]
  },
  {
   "cell_type": "code",
   "execution_count": 20,
   "metadata": {
    "ExecuteTime": {
     "end_time": "2020-07-01T19:39:40.701575Z",
     "start_time": "2020-07-01T19:36:29.152993Z"
    },
    "scrolled": true
   },
   "outputs": [],
   "source": [
    "interval = 0.0005\n",
    "\n",
    "StuUD_vals = np.arange(0.1, 0.3, interval)  # uniformly sampled in data\n",
    "\n",
    "for val in StuUD_vals:\n",
    "\n",
    "    X_0_inputs = np.concatenate([X_0, val * np.ones_like(X_0)], axis=1)\n",
    "\n",
    "    weights_1 = K.eval(\n",
    "        reweight(tf.convert_to_tensor(X_0_inputs, dtype=tf.float32)))\n",
    "\n",
    "    hist = np.histogram(X_0, bins=bins, density=True,\n",
    "                        weights=weights_1)  # see the distribution\n",
    "    strangeness_reweighted = np.append(strangeness_reweighted, np.array([hist[0]]), axis=0)"
   ]
  },
  {
   "cell_type": "markdown",
   "metadata": {},
   "source": [
    "## Training Data Trends"
   ]
  },
  {
   "cell_type": "code",
   "execution_count": 21,
   "metadata": {
    "ExecuteTime": {
     "end_time": "2020-07-01T19:39:49.819155Z",
     "start_time": "2020-07-01T19:39:40.704092Z"
    }
   },
   "outputs": [],
   "source": [
    "# only include uniformly sampled data, not default data\n",
    "Y = dataset['Y']\n",
    "X = X[Y==1]"
   ]
  },
  {
   "cell_type": "code",
   "execution_count": 22,
   "metadata": {
    "ExecuteTime": {
     "end_time": "2020-07-01T19:44:34.431354Z",
     "start_time": "2020-07-01T19:39:49.821551Z"
    }
   },
   "outputs": [],
   "source": [
    "for val in StuUD_vals:\n",
    "    data = []\n",
    "    # loop over all the events in particular interval\n",
    "    # X[:,0,6] is value of probStuUD for each event\n",
    "    for event in X[np.logical_and(val <= X[:, 0, 6], X[:, 0, 6] <\n",
    "                                  (val + interval))]:\n",
    "        PIDs = event[:, 3]\n",
    "        number_strange_hadrons = 0\n",
    "        for PID in PIDs:\n",
    "            # count number of strange hadrons in each event\n",
    "            # i.e. check how many particles in event have strange PIDs\n",
    "            number_strange_hadrons += PID in strange_PIDs\n",
    "        data += [number_strange_hadrons]\n",
    "    hist = np.histogram(data, bins=bins, density=True)  # see the distribution\n",
    "    strangeness = np.append(strangeness, np.array([hist[0]]), axis=0)"
   ]
  },
  {
   "cell_type": "markdown",
   "metadata": {},
   "source": [
    "## Unknown Distributions"
   ]
  },
  {
   "cell_type": "code",
   "execution_count": 23,
   "metadata": {
    "ExecuteTime": {
     "end_time": "2020-07-01T19:49:36.661145Z",
     "start_time": "2020-07-01T19:44:34.433374Z"
    }
   },
   "outputs": [],
   "source": [
    "X_1_jet = unknown_dataset['jet']\n",
    "X_1 = []\n",
    "for event in X_1_jet:\n",
    "    PIDs = event[:, 3]\n",
    "    number_strange_hadrons = 0\n",
    "    for PID in PIDs:\n",
    "        number_strange_hadrons += PID in strange_PIDs\n",
    "    X_1.append([number_strange_hadrons])\n",
    "X_1 = np.array(X_1)\n",
    "\n",
    "# The unknown distribution; StuUD = 0.275\n",
    "X_1_hist = np.histogram(X_1, bins = bins, density = True)\n",
    "# Interesting behavior for 0-4 strange hadrons\n",
    "strangeness_unknown = X_1_hist[0][:5]"
   ]
  },
  {
   "cell_type": "code",
   "execution_count": 24,
   "metadata": {
    "ExecuteTime": {
     "end_time": "2020-07-01T19:55:08.962441Z",
     "start_time": "2020-07-01T19:49:36.664050Z"
    }
   },
   "outputs": [],
   "source": [
    "X_2_jet = unknown_dataset2['jet']\n",
    "X_2 = []\n",
    "for event in X_2_jet:\n",
    "    PIDs = event[:, 3]\n",
    "    number_strange_hadrons = 0\n",
    "    for PID in PIDs:\n",
    "        number_strange_hadrons += PID in strange_PIDs\n",
    "    X_2.append([number_strange_hadrons])\n",
    "X_2 = np.array(X_1)\n",
    "\n",
    "# The unknown distribution; StuUD = 0.150 (new sample)\n",
    "X_2_hist = np.histogram(X_2, bins = bins, density = True)\n",
    "# Interesting behavior for 0-4 strange hadrons\n",
    "strangeness_unknown2 = X_2_hist[0][:5]"
   ]
  },
  {
   "cell_type": "code",
   "execution_count": 25,
   "metadata": {
    "ExecuteTime": {
     "end_time": "2020-07-01T20:00:39.438103Z",
     "start_time": "2020-07-01T19:55:08.964948Z"
    }
   },
   "outputs": [],
   "source": [
    "X_3_jet = unknown_dataset3['jet']\n",
    "X_3 = []\n",
    "for event in X_3_jet:\n",
    "    PIDs = event[:, 3]\n",
    "    number_strange_hadrons = 0\n",
    "    for PID in PIDs:\n",
    "        number_strange_hadrons += PID in strange_PIDs\n",
    "    X_3.append([number_strange_hadrons])\n",
    "X_3 = np.array(X_1)\n",
    "\n",
    "# The unknown distribution; StuUD = 0.200 (new sample)\n",
    "X_3_hist = np.histogram(X_3, bins = bins, density = True)\n",
    "# Interesting behavior for 0-4 strange hadrons\n",
    "strangeness_unknown3 = X_3_hist[0][:5]"
   ]
  },
  {
   "cell_type": "code",
   "execution_count": 26,
   "metadata": {
    "ExecuteTime": {
     "end_time": "2020-07-01T20:06:08.922829Z",
     "start_time": "2020-07-01T20:00:39.440429Z"
    }
   },
   "outputs": [],
   "source": [
    "X_4_jet = unknown_dataset4['jet']\n",
    "X_4 = []\n",
    "for event in X_4_jet:\n",
    "    PIDs = event[:, 3]\n",
    "    number_strange_hadrons = 0\n",
    "    for PID in PIDs:\n",
    "        number_strange_hadrons += PID in strange_PIDs\n",
    "    X_4.append([number_strange_hadrons])\n",
    "X_4 = np.array(X_1)\n",
    "\n",
    "# The unknown distribution; StuUD = 0.275 (new sample)\n",
    "X_4_hist = np.histogram(X_4, bins = bins, density = True)\n",
    "# Interesting behavior for 0-4 strange hadrons\n",
    "strangeness_unknown4 = X_4_hist[0][:5]"
   ]
  },
  {
   "cell_type": "markdown",
   "metadata": {},
   "source": [
    "## Comparison Plot"
   ]
  },
  {
   "cell_type": "code",
   "execution_count": 36,
   "metadata": {
    "ExecuteTime": {
     "end_time": "2020-07-01T20:13:18.974560Z",
     "start_time": "2020-07-01T20:13:18.382126Z"
    }
   },
   "outputs": [
    {
     "data": {
      "image/png": "[encoded data removed]",
      "text/plain": [
       "<Figure size 432x288 with 1 Axes>"
      ]
     },
     "metadata": {
      "needs_background": "light"
     },
     "output_type": "display_data"
    }
   ],
   "source": [
    "plt.title('Distribution of Strange Hadrons vs. probStuUD')\n",
    "\n",
    "plt.plot(StuUD_vals,\n",
    "         strangeness[:, 0],\n",
    "         label='0 (Training Data)',\n",
    "         linestyle=':',\n",
    "         color='C0')\n",
    "plt.plot(StuUD_vals,\n",
    "         strangeness[:, 1],\n",
    "         label='1 (Training Data)',\n",
    "         linestyle=':',\n",
    "         color='C1')\n",
    "plt.plot(StuUD_vals,\n",
    "         strangeness[:, 2],\n",
    "         label='2 (Training Data)',\n",
    "         linestyle=':',\n",
    "         color='C2')\n",
    "plt.plot(StuUD_vals,\n",
    "         strangeness[:, 3],\n",
    "         label='3 (Training Data)',\n",
    "         linestyle=':',\n",
    "         color='C3')\n",
    "plt.plot(StuUD_vals,\n",
    "         strangeness[:, 4],\n",
    "         label='4 (Training Data)',\n",
    "         linestyle=':',\n",
    "         color='C4')\n",
    "\n",
    "plt.plot(StuUD_vals,\n",
    "         strangeness_reweighted[:, 0],\n",
    "         label='0 (DCTR Reweight)',\n",
    "         linewidth=2.,\n",
    "         color='C0')\n",
    "plt.plot(StuUD_vals,\n",
    "         strangeness_reweighted[:, 1],\n",
    "         label='1 (DCTR Reweight)',\n",
    "         linewidth=2.,\n",
    "         color='C1')\n",
    "plt.plot(StuUD_vals,\n",
    "         strangeness_reweighted[:, 2],\n",
    "         label='2 (DCTR Reweight)',\n",
    "         linewidth=2.,\n",
    "         color='C2')\n",
    "plt.plot(StuUD_vals,\n",
    "         strangeness_reweighted[:, 3],\n",
    "         label='3 (DCTR Reweight)',\n",
    "         linewidth=2.,\n",
    "         color='C3')\n",
    "plt.plot(StuUD_vals,\n",
    "         strangeness_reweighted[:, 4],\n",
    "         label='4 (DCTR Reweight)',\n",
    "         linewidth=2.,\n",
    "         color='C4')\n",
    "\n",
    "plt.plot(np.ones_like(strangeness_unknown2) * 0.150,\n",
    "         strangeness_unknown2, 'x', color = 'black', label = 'probStuUD = 0.150 (New)')\n",
    "\n",
    "plt.plot(np.ones_like(strangeness_unknown3) * 0.200,\n",
    "         strangeness_unknown3, 'x', color = 'black', label = 'probStuUD = 0.200 (New)')\n",
    "\n",
    "plt.plot(np.ones_like(strangeness_default) * 0.217,\n",
    "         strangeness_default, 'x', color = 'black', label = 'probStuUD = 0.217 (Default)')\n",
    "\n",
    "plt.plot(np.ones_like(strangeness_unknown) * 0.275,\n",
    "         strangeness_unknown, '+', color = 'black', label = 'probStuUD = 0.275 (Unknown)')\n",
    "\n",
    "plt.plot(np.ones_like(strangeness_unknown4) * 0.275,\n",
    "         strangeness_unknown4, 'x', color = 'black', label = 'probStuUD = 0.275 (New)')\n",
    "\n",
    "plt.xlabel('probStuUD')\n",
    "plt.ylabel('Jets per bin (normalized)')\n",
    "\n",
    "plt.legend(title='Number of Strange Hadrons', bbox_to_anchor=(1.05, 1.0))\n",
    "# plt.savefig('Reweighted Distribution of Strange Hadrons vs. probStuUD.png',\n",
    "#             bbox_inches='tight')\n",
    "plt.show()"
   ]
  },
  {
   "cell_type": "code",
   "execution_count": 29,
   "metadata": {
    "ExecuteTime": {
     "end_time": "2020-07-01T20:07:12.629638Z",
     "start_time": "2020-07-01T20:07:12.620539Z"
    }
   },
   "outputs": [
    {
     "name": "stdout",
     "output_type": "stream",
     "text": [
      "jets per bin for StoUD = 0.275 (new) [0.32721556 0.29032556 0.21471222 0.10448667 0.04289889]\n",
      "jets per bin for StoUD = 0.200 (new) [0.32721556 0.29032556 0.21471222 0.10448667 0.04289889]\n",
      "jets per bin for StoUD = 0.150 (new) [0.32721556 0.29032556 0.21471222 0.10448667 0.04289889]\n",
      "jets per bin for StoUD = 0.275 (old) [0.32721556 0.29032556 0.21471222 0.10448667 0.04289889]\n"
     ]
    }
   ],
   "source": [
    "print('jets per bin for StoUD = 0.275 (new)',strangeness_unknown4)\n",
    "print('jets per bin for StoUD = 0.200 (new)',strangeness_unknown3)\n",
    "print('jets per bin for StoUD = 0.150 (new)',strangeness_unknown2)\n",
    "print('jets per bin for StoUD = 0.275 (old)',strangeness_unknown)"
   ]
  },
  {
   "cell_type": "code",
   "execution_count": null,
   "metadata": {},
   "outputs": [],
   "source": []
  }
 ],
 "metadata": {
  "kernelspec": {
   "display_name": "Python 3",
   "language": "python",
   "name": "python3"
  },
  "language_info": {
   "codemirror_mode": {
    "name": "ipython",
    "version": 3
   },
   "file_extension": ".py",
   "mimetype": "text/x-python",
   "name": "python",
   "nbconvert_exporter": "python",
   "pygments_lexer": "ipython3",
   "version": "3.5.2"
  },
  "notify_time": "5",
  "toc": {
   "base_numbering": 1,
   "nav_menu": {},
   "number_sections": false,
   "sideBar": true,
   "skip_h1_title": false,
   "title_cell": "Table of Contents",
   "title_sidebar": "Contents",
   "toc_cell": false,
   "toc_position": {},
   "toc_section_display": true,
   "toc_window_display": false
  }
 },
 "nbformat": 4,
 "nbformat_minor": 2
}
