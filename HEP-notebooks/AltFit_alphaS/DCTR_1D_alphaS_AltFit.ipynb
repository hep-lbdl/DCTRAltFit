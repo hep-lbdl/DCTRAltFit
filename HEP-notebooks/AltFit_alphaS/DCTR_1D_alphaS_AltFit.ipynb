{
 "cells": [
  {
   "cell_type": "code",
   "execution_count": 1,
   "metadata": {
    "ExecuteTime": {
     "end_time": "2020-08-14T10:19:19.893702Z",
     "start_time": "2020-08-14T10:19:19.889461Z"
    }
   },
   "outputs": [],
   "source": [
    "import os\n",
    "os.environ[\"CUDA_DEVICE_ORDER\"] = \"PCI_BUS_ID\"\n",
    "os.environ[\"CUDA_VISIBLE_DEVICES\"] = \"3\""
   ]
  },
  {
   "cell_type": "code",
   "execution_count": 2,
   "metadata": {
    "ExecuteTime": {
     "end_time": "2020-08-14T10:19:21.696856Z",
     "start_time": "2020-08-14T10:19:19.896193Z"
    }
   },
   "outputs": [
    {
     "name": "stderr",
     "output_type": "stream",
     "text": [
      "Using TensorFlow backend.\n"
     ]
    }
   ],
   "source": [
    "# standard library imports\n",
    "from __future__ import absolute_import, division, print_function\n",
    "\n",
    "import tensorflow as tf\n",
    "import keras as keras\n",
    "import keras.backend as K\n",
    "from keras.callbacks import ModelCheckpoint, EarlyStopping, CSVLogger, LambdaCallback\n",
    "from keras.layers import Lambda\n",
    "from keras.models import Model\n",
    "from sklearn.utils import shuffle\n",
    "# standard numerical library imports\n",
    "import numpy as np\n",
    "import scipy as sp\n",
    "from scipy.signal import argrelmin, argrelmax\n",
    "\n",
    "# energyflow imports\n",
    "import energyflow as ef\n",
    "from energyflow.archs import PFN\n",
    "from energyflow.utils import data_split, remap_pids, to_categorical\n",
    "\n",
    "import matplotlib.pyplot as plt\n",
    "\n",
    "import inspect"
   ]
  },
  {
   "cell_type": "code",
   "execution_count": 3,
   "metadata": {
    "ExecuteTime": {
     "end_time": "2020-08-14T10:19:21.703155Z",
     "start_time": "2020-08-14T10:19:21.698861Z"
    }
   },
   "outputs": [],
   "source": [
    "# Global plot settings\n",
    "from matplotlib import rc\n",
    "import matplotlib.font_manager\n",
    "rc('font', family='serif')\n",
    "rc('text', usetex=True)\n",
    "rc('font', size=22)\n",
    "rc('xtick', labelsize=15)\n",
    "rc('ytick', labelsize=15)\n",
    "rc('legend', fontsize=15)"
   ]
  },
  {
   "cell_type": "code",
   "execution_count": 4,
   "metadata": {
    "ExecuteTime": {
     "end_time": "2020-08-14T10:19:21.721518Z",
     "start_time": "2020-08-14T10:19:21.705587Z"
    }
   },
   "outputs": [
    {
     "name": "stdout",
     "output_type": "stream",
     "text": [
      "2.2.4\n",
      "1.15.0\n"
     ]
    }
   ],
   "source": [
    "print(keras.__version__)  #2.2.4\n",
    "print(tf.__version__)  #1.15.0"
   ]
  },
  {
   "cell_type": "markdown",
   "metadata": {},
   "source": [
    "# Alternative DCTR fitting algorithm for $\\alpha_s$"
   ]
  },
  {
   "cell_type": "markdown",
   "metadata": {},
   "source": [
    "This notebook uses DCTR Reweightor paramterized by $\\alpha_s$ on the full phase space to perform the alternative fitting algorithm on an unknown dataset. "
   ]
  },
  {
   "cell_type": "markdown",
   "metadata": {},
   "source": [
    "## Load and Process Data"
   ]
  },
  {
   "cell_type": "markdown",
   "metadata": {},
   "source": [
    "### Utilities"
   ]
  },
  {
   "cell_type": "code",
   "execution_count": 5,
   "metadata": {
    "ExecuteTime": {
     "end_time": "2020-08-14T10:19:21.731930Z",
     "start_time": "2020-08-14T10:19:21.725034Z"
    }
   },
   "outputs": [],
   "source": [
    "# normalize pT and center (y, phi)\n",
    "def normalize(x):\n",
    "    mask = x[:, 0] > 0\n",
    "    yphi_avg = np.average(x[mask, 1:3], weights=x[mask, 0], axis=0)\n",
    "    x[mask, 1:3] -= yphi_avg\n",
    "    x[mask, 0] /= x[:, 0].sum()"
   ]
  },
  {
   "cell_type": "code",
   "execution_count": 6,
   "metadata": {
    "ExecuteTime": {
     "end_time": "2020-08-14T10:19:21.740347Z",
     "start_time": "2020-08-14T10:19:21.734882Z"
    }
   },
   "outputs": [],
   "source": [
    "def preprocess_data(X):\n",
    "    for x in X:\n",
    "        normalize(x)\n",
    "\n",
    "    # Remap PIDs to unique values in range [0,1]\n",
    "    remap_pids(X, pid_i=3)\n",
    "    return X"
   ]
  },
  {
   "cell_type": "markdown",
   "metadata": {},
   "source": [
    "### Process data"
   ]
  },
  {
   "cell_type": "code",
   "execution_count": 7,
   "metadata": {
    "ExecuteTime": {
     "end_time": "2020-08-14T10:19:21.746690Z",
     "start_time": "2020-08-14T10:19:21.743129Z"
    }
   },
   "outputs": [],
   "source": [
    "# Path to downloaded data from Zenodo\n",
    "data_dir = '/data0/users/aandreassen/zenodo/'"
   ]
  },
  {
   "cell_type": "code",
   "execution_count": 8,
   "metadata": {
    "ExecuteTime": {
     "end_time": "2020-08-14T10:19:21.757076Z",
     "start_time": "2020-08-14T10:19:21.748445Z"
    }
   },
   "outputs": [],
   "source": [
    "default_dataset = np.load(data_dir + 'test1D_default.npz')\n",
    "unknown_dataset = np.load(data_dir + 'test1D_alphaS.npz')"
   ]
  },
  {
   "cell_type": "code",
   "execution_count": 9,
   "metadata": {
    "ExecuteTime": {
     "end_time": "2020-08-14T10:22:39.287177Z",
     "start_time": "2020-08-14T10:19:21.760822Z"
    }
   },
   "outputs": [],
   "source": [
    "X_default = preprocess_data(default_dataset['jet'][:, :, :4])\n",
    "X_unknown = preprocess_data(unknown_dataset['jet'][:, :, :4])\n",
    "\n",
    "Y_default = np.zeros_like(X_unknown[:, 0, 0])\n",
    "Y_unknown = np.ones_like(X_unknown[:, 0, 0])"
   ]
  },
  {
   "cell_type": "code",
   "execution_count": 10,
   "metadata": {
    "ExecuteTime": {
     "end_time": "2020-08-14T10:22:40.330054Z",
     "start_time": "2020-08-14T10:22:39.289388Z"
    }
   },
   "outputs": [],
   "source": [
    "X_fit = np.concatenate((X_default, X_unknown), axis=0)\n",
    "\n",
    "Y_fit = np.concatenate((Y_default, Y_unknown), axis=0)"
   ]
  },
  {
   "cell_type": "code",
   "execution_count": 11,
   "metadata": {
    "ExecuteTime": {
     "end_time": "2020-08-14T10:22:42.033206Z",
     "start_time": "2020-08-14T10:22:40.331715Z"
    }
   },
   "outputs": [],
   "source": [
    "X_train, X_test, Y_train, Y_test = data_split(X_fit,\n",
    "                                              Y_fit,\n",
    "                                              test=0.5,\n",
    "                                              shuffle=True)\n",
    "\n",
    "X_train_theta, _, Y_train_theta, _ = data_split(X_fit,\n",
    "                                                Y_fit,\n",
    "                                                test=0.9,\n",
    "                                                shuffle=True)"
   ]
  },
  {
   "cell_type": "markdown",
   "metadata": {},
   "source": [
    "## Loading DCTR Model"
   ]
  },
  {
   "cell_type": "code",
   "execution_count": 12,
   "metadata": {
    "ExecuteTime": {
     "end_time": "2020-08-14T10:22:42.586061Z",
     "start_time": "2020-08-14T10:22:42.034927Z"
    },
    "scrolled": true
   },
   "outputs": [
    {
     "name": "stdout",
     "output_type": "stream",
     "text": [
      "WARNING:tensorflow:From /home/asuresh/.local/lib/python3.5/site-packages/keras/backend/tensorflow_backend.py:517: The name tf.placeholder is deprecated. Please use tf.compat.v1.placeholder instead.\n",
      "\n",
      "WARNING:tensorflow:From /home/asuresh/.local/lib/python3.5/site-packages/keras/backend/tensorflow_backend.py:74: The name tf.get_default_graph is deprecated. Please use tf.compat.v1.get_default_graph instead.\n",
      "\n",
      "WARNING:tensorflow:From /home/asuresh/.local/lib/python3.5/site-packages/keras/backend/tensorflow_backend.py:4138: The name tf.random_uniform is deprecated. Please use tf.random.uniform instead.\n",
      "\n",
      "WARNING:tensorflow:From /home/asuresh/.local/lib/python3.5/site-packages/keras/optimizers.py:790: The name tf.train.Optimizer is deprecated. Please use tf.compat.v1.train.Optimizer instead.\n",
      "\n",
      "WARNING:tensorflow:From /home/asuresh/.local/lib/python3.5/site-packages/keras/backend/tensorflow_backend.py:3295: The name tf.log is deprecated. Please use tf.math.log instead.\n",
      "\n",
      "WARNING:tensorflow:From /home/asuresh/.local/lib/python3.5/site-packages/keras/backend/tensorflow_backend.py:174: The name tf.get_default_session is deprecated. Please use tf.compat.v1.get_default_session instead.\n",
      "\n",
      "WARNING:tensorflow:From /home/asuresh/.local/lib/python3.5/site-packages/keras/backend/tensorflow_backend.py:181: The name tf.ConfigProto is deprecated. Please use tf.compat.v1.ConfigProto instead.\n",
      "\n",
      "WARNING:tensorflow:From /home/asuresh/.local/lib/python3.5/site-packages/keras/backend/tensorflow_backend.py:186: The name tf.Session is deprecated. Please use tf.compat.v1.Session instead.\n",
      "\n",
      "WARNING:tensorflow:From /home/asuresh/.local/lib/python3.5/site-packages/keras/backend/tensorflow_backend.py:190: The name tf.global_variables is deprecated. Please use tf.compat.v1.global_variables instead.\n",
      "\n",
      "WARNING:tensorflow:From /home/asuresh/.local/lib/python3.5/site-packages/keras/backend/tensorflow_backend.py:199: The name tf.is_variable_initialized is deprecated. Please use tf.compat.v1.is_variable_initialized instead.\n",
      "\n",
      "WARNING:tensorflow:From /home/asuresh/.local/lib/python3.5/site-packages/keras/backend/tensorflow_backend.py:206: The name tf.variables_initializer is deprecated. Please use tf.compat.v1.variables_initializer instead.\n",
      "\n"
     ]
    }
   ],
   "source": [
    "# network architecture parameters\n",
    "Phi_sizes = (100, 100, 128)\n",
    "F_sizes = (100, 100, 100)\n",
    "\n",
    "dctr = PFN(input_dim=7, Phi_sizes=Phi_sizes, F_sizes=F_sizes, summary=False)\n",
    "\n",
    "# load model from saved file\n",
    "# model trained in original alphaS notebook\n",
    "dctr.model.load_weights(\n",
    "    './saved_models/DCTR_ee_dijets_1D_alphaS.h5')  #ORIGINAL DCTR"
   ]
  },
  {
   "cell_type": "markdown",
   "metadata": {},
   "source": [
    "### Defining reweighting function\n",
    "\n",
    "$w(x_{T,i},\\theta)=((f(x_{T,i},\\theta)/(1-f(x_{T,i},\\theta)))$\n",
    "\n",
    "Takes observable from simulation ${\\bf \\theta_0}$ and weights it to observable from data (target) ${\\bf \\theta_1}$."
   ]
  },
  {
   "cell_type": "code",
   "execution_count": 13,
   "metadata": {
    "ExecuteTime": {
     "end_time": "2020-08-14T10:22:42.595303Z",
     "start_time": "2020-08-14T10:22:42.588019Z"
    }
   },
   "outputs": [],
   "source": [
    "# Defining reweighting functions\n",
    "\n",
    "\n",
    "def reweight(events, param):  #from NN (DCTR)\n",
    "    theta_prime = [param, 0.68, 0.217]\n",
    "\n",
    "    # zip theta_prime to each input particle (but not to the padded rows)\n",
    "    # checks if pT != 0, which means we have a particle\n",
    "    concat_input_and_params = tf.where(\n",
    "        K.abs(events[..., 0]) > 0, K.ones_like(events[..., 0]),\n",
    "        K.zeros_like(events[..., 0]))\n",
    "\n",
    "    concat_input_and_params = theta_prime * K.stack([\n",
    "        concat_input_and_params, concat_input_and_params,\n",
    "        concat_input_and_params\n",
    "    ],\n",
    "                                                    axis=-1)\n",
    "\n",
    "    model_inputs = K.concatenate([events, concat_input_and_params], -1)\n",
    "    # Use dctr.model.predict_on_batch(d) when using outside training\n",
    "\n",
    "    f = dctr.model(model_inputs)\n",
    "    weights = (f[:, 1]) / (f[:, 0])\n",
    "    weights = K.expand_dims(weights, axis=1)\n",
    "    return weights"
   ]
  },
  {
   "cell_type": "markdown",
   "metadata": {},
   "source": [
    "# Alternative Fit"
   ]
  },
  {
   "cell_type": "markdown",
   "metadata": {},
   "source": [
    "## Fitting Model: Scan\n",
    "\n",
    "We'll start by showing that for fixed $\\theta$, the maximum loss occurs when $\\theta=\\theta_1$."
   ]
  },
  {
   "cell_type": "markdown",
   "metadata": {},
   "source": [
    "### Creating Model"
   ]
  },
  {
   "cell_type": "code",
   "execution_count": 14,
   "metadata": {
    "ExecuteTime": {
     "end_time": "2020-08-14T10:22:42.931010Z",
     "start_time": "2020-08-14T10:22:42.597032Z"
    }
   },
   "outputs": [
    {
     "name": "stdout",
     "output_type": "stream",
     "text": [
      "WARNING:tensorflow:From /home/asuresh/.local/lib/python3.5/site-packages/keras/backend/tensorflow_backend.py:133: The name tf.placeholder_with_default is deprecated. Please use tf.compat.v1.placeholder_with_default instead.\n",
      "\n",
      "WARNING:tensorflow:From /home/asuresh/.local/lib/python3.5/site-packages/keras/backend/tensorflow_backend.py:3445: calling dropout (from tensorflow.python.ops.nn_ops) with keep_prob is deprecated and will be removed in a future version.\n",
      "Instructions for updating:\n",
      "Please use `rate` instead of `keep_prob`. Rate should be set to `rate = 1 - keep_prob`.\n",
      "__________________________________________________________________________________________________\n",
      "Layer (type)                    Output Shape         Param #     Connected to                     \n",
      "==================================================================================================\n",
      "input (InputLayer)              (None, None, 4)      0                                            \n",
      "__________________________________________________________________________________________________\n",
      "tdist_0 (TimeDistributed)       (None, None, 100)    500         input[0][0]                      \n",
      "__________________________________________________________________________________________________\n",
      "activation_8 (Activation)       (None, None, 100)    0           tdist_0[0][0]                    \n",
      "__________________________________________________________________________________________________\n",
      "tdist_1 (TimeDistributed)       (None, None, 100)    10100       activation_8[0][0]               \n",
      "__________________________________________________________________________________________________\n",
      "activation_9 (Activation)       (None, None, 100)    0           tdist_1[0][0]                    \n",
      "__________________________________________________________________________________________________\n",
      "tdist_2 (TimeDistributed)       (None, None, 128)    12928       activation_9[0][0]               \n",
      "__________________________________________________________________________________________________\n",
      "mask (Lambda)                   (None, None)         0           input[0][0]                      \n",
      "__________________________________________________________________________________________________\n",
      "activation_10 (Activation)      (None, None, 128)    0           tdist_2[0][0]                    \n",
      "__________________________________________________________________________________________________\n",
      "sum (Dot)                       (None, 128)          0           mask[0][0]                       \n",
      "                                                                 activation_10[0][0]              \n",
      "__________________________________________________________________________________________________\n",
      "sum_dropout (Dropout)           (None, 128)          0           sum[0][0]                        \n",
      "__________________________________________________________________________________________________\n",
      "dense_0 (Dense)                 (None, 100)          12900       sum_dropout[0][0]                \n",
      "__________________________________________________________________________________________________\n",
      "activation_11 (Activation)      (None, 100)          0           dense_0[0][0]                    \n",
      "__________________________________________________________________________________________________\n",
      "dense_0_dropout (Dropout)       (None, 100)          0           activation_11[0][0]              \n",
      "__________________________________________________________________________________________________\n",
      "dense_1 (Dense)                 (None, 100)          10100       dense_0_dropout[0][0]            \n",
      "__________________________________________________________________________________________________\n",
      "activation_12 (Activation)      (None, 100)          0           dense_1[0][0]                    \n",
      "__________________________________________________________________________________________________\n",
      "dense_1_dropout (Dropout)       (None, 100)          0           activation_12[0][0]              \n",
      "__________________________________________________________________________________________________\n",
      "dense_2 (Dense)                 (None, 100)          10100       dense_1_dropout[0][0]            \n",
      "__________________________________________________________________________________________________\n",
      "activation_13 (Activation)      (None, 100)          0           dense_2[0][0]                    \n",
      "__________________________________________________________________________________________________\n",
      "dense_2_dropout (Dropout)       (None, 100)          0           activation_13[0][0]              \n",
      "__________________________________________________________________________________________________\n",
      "output (Dense)                  (None, 1)            101         dense_2_dropout[0][0]            \n",
      "__________________________________________________________________________________________________\n",
      "activation_14 (Activation)      (None, 1)            0           output[0][0]                     \n",
      "==================================================================================================\n",
      "Total params: 56,729\n",
      "Trainable params: 56,729\n",
      "Non-trainable params: 0\n",
      "__________________________________________________________________________________________________\n"
     ]
    }
   ],
   "source": [
    "model = PFN(input_dim=4,\n",
    "            Phi_sizes=Phi_sizes,\n",
    "            F_sizes=F_sizes,\n",
    "            latent_dropout=0.2,\n",
    "            F_dropouts=0.2,\n",
    "            output_dim=1,\n",
    "            output_act='sigmoid',\n",
    "            summary=True)\n",
    "myinputs = model.inputs[0]\n",
    "batch_size = 1000\n",
    "\n",
    "earlystopping = EarlyStopping(patience=10, restore_best_weights=True)"
   ]
  },
  {
   "cell_type": "code",
   "execution_count": 15,
   "metadata": {
    "ExecuteTime": {
     "end_time": "2020-08-14T10:22:42.939714Z",
     "start_time": "2020-08-14T10:22:42.932843Z"
    }
   },
   "outputs": [],
   "source": [
    "def my_loss_wrapper(inputs,\n",
    "                    val=0,\n",
    "                    loss='categorical_crossentropy',\n",
    "                    batch_size=1000):\n",
    "    x = inputs\n",
    "    # x.shape = (?,?,4)\n",
    "    # Reshaping to correct format\n",
    "    x = tf.gather(x, np.arange(batch_size))\n",
    "    # Axis corressponds to (max) number of particles in each event:\n",
    "    x = tf.gather(x, np.arange(51), axis=1)\n",
    "\n",
    "    weights = reweight(events=x, param=val)\n",
    "\n",
    "    def my_loss(y_true, y_pred):\n",
    "        if loss == 'MSE':\n",
    "            # Mean Squared Loss\n",
    "            t_loss = y_true * (y_true - y_pred)**2 + weights * (\n",
    "                1. - y_true) * (y_true - y_pred)**2\n",
    "        elif loss == 'categorical_crossentropy':\n",
    "            # Categorical Cross-Entropy Loss\n",
    "\n",
    "            # Clip the prediction value to prevent NaN's and Inf's\n",
    "            epsilon = K.epsilon()\n",
    "            y_pred = K.clip(y_pred, epsilon, 1. - epsilon)\n",
    "\n",
    "            t_loss = -((y_true) * K.log(y_pred) + weights *\n",
    "                       (1 - y_true) * K.log(1 - y_pred))\n",
    "        else:\n",
    "            raise ValueError(\n",
    "                \"loss must be set to 'MSE' or 'categorical_crossentropy'\")\n",
    "\n",
    "        return (K.mean(t_loss))\n",
    "\n",
    "    return my_loss"
   ]
  },
  {
   "cell_type": "markdown",
   "metadata": {},
   "source": [
    "### Training Model"
   ]
  },
  {
   "cell_type": "code",
   "execution_count": 16,
   "metadata": {
    "ExecuteTime": {
     "end_time": "2020-08-15T07:49:29.472603Z",
     "start_time": "2020-08-14T10:22:42.941319Z"
    },
    "scrolled": true
   },
   "outputs": [
    {
     "name": "stdout",
     "output_type": "stream",
     "text": [
      "Testing theta =  0.1\n",
      "WARNING:tensorflow:From <ipython-input-13-28fc26811c28>:11: where (from tensorflow.python.ops.array_ops) is deprecated and will be removed in a future version.\n",
      "Instructions for updating:\n",
      "Use tf.where in 2.0, which has the same broadcast rule as np.where\n",
      "WARNING:tensorflow:From /home/asuresh/.local/lib/python3.5/site-packages/keras/backend/tensorflow_backend.py:986: The name tf.assign_add is deprecated. Please use tf.compat.v1.assign_add instead.\n",
      "\n",
      "WARNING:tensorflow:From /home/asuresh/.local/lib/python3.5/site-packages/keras/backend/tensorflow_backend.py:973: The name tf.assign is deprecated. Please use tf.compat.v1.assign instead.\n",
      "\n",
      "loss:  0.6104381495051914\n",
      "val_loss:  0.6088239901595646\n",
      "\n",
      "\n",
      "Testing theta =  0.10250000000000001\n",
      "loss:  0.6124995698531469\n",
      "val_loss:  0.6138319092326694\n",
      "\n",
      "\n",
      "Testing theta =  0.10500000000000001\n",
      "loss:  0.6171404641866683\n",
      "val_loss:  0.6175125716792212\n",
      "\n",
      "\n",
      "Testing theta =  0.1075\n",
      "loss:  0.6204162424140506\n",
      "val_loss:  0.621958215104209\n",
      "\n",
      "\n",
      "Testing theta =  0.11\n",
      "loss:  0.6250521253877216\n",
      "val_loss:  0.6275202306111654\n",
      "\n",
      "\n",
      "Testing theta =  0.1125\n",
      "loss:  0.6304239847924974\n",
      "val_loss:  0.6334475459655126\n",
      "\n",
      "\n",
      "Testing theta =  0.115\n",
      "loss:  0.6360400182671017\n",
      "val_loss:  0.639401105509864\n",
      "\n",
      "\n",
      "Testing theta =  0.11750000000000001\n",
      "loss:  0.6414902230766084\n",
      "val_loss:  0.6439054591125912\n",
      "\n",
      "\n",
      "Testing theta =  0.12\n",
      "loss:  0.646970123052597\n",
      "val_loss:  0.6501973916424645\n",
      "\n",
      "\n",
      "Testing theta =  0.1225\n",
      "loss:  0.6519328716066148\n",
      "val_loss:  0.6553430723481708\n",
      "\n",
      "\n",
      "Testing theta =  0.125\n",
      "loss:  0.6563334739208222\n",
      "val_loss:  0.6588228195243412\n",
      "\n",
      "\n",
      "Testing theta =  0.1275\n",
      "loss:  0.6603201172749201\n",
      "val_loss:  0.6636963148911794\n",
      "\n",
      "\n",
      "Testing theta =  0.13\n",
      "loss:  0.6639328827460607\n",
      "val_loss:  0.6663533669710159\n",
      "\n",
      "\n",
      "Testing theta =  0.1325\n",
      "loss:  0.667227279941241\n",
      "val_loss:  0.6696269893646241\n",
      "\n",
      "\n",
      "Testing theta =  0.135\n",
      "loss:  0.6703991468085183\n",
      "val_loss:  0.6726312353875902\n",
      "\n",
      "\n",
      "Testing theta =  0.1375\n",
      "loss:  0.673970160153177\n",
      "val_loss:  0.6766169707642661\n",
      "\n",
      "\n",
      "Testing theta =  0.14\n",
      "loss:  0.6776371250549952\n",
      "val_loss:  0.6802111078633203\n",
      "\n",
      "\n",
      "Testing theta =  0.14250000000000002\n",
      "loss:  0.6805786209636264\n",
      "val_loss:  0.683116093079249\n",
      "\n",
      "\n",
      "Testing theta =  0.145\n",
      "loss:  0.6832762830787235\n",
      "val_loss:  0.6857952649063535\n",
      "\n",
      "\n",
      "Testing theta =  0.1475\n",
      "loss:  0.6860481737719641\n",
      "val_loss:  0.6883016666438845\n",
      "\n",
      "\n",
      "Testing theta =  0.15\n",
      "loss:  0.6885513055324555\n",
      "val_loss:  0.6904901350206799\n",
      "\n",
      "\n",
      "Testing theta =  0.1525\n",
      "loss:  0.6903457473384009\n",
      "val_loss:  0.692197730143865\n",
      "\n",
      "\n",
      "Testing theta =  0.155\n",
      "loss:  0.6915224637587866\n",
      "val_loss:  0.6934669585360421\n",
      "\n",
      "\n",
      "Testing theta =  0.1575\n",
      "loss:  0.6924843302700254\n",
      "val_loss:  0.6940893346071243\n",
      "\n",
      "\n",
      "Testing theta =  0.16\n",
      "loss:  0.6925707695881526\n",
      "val_loss:  0.6943303518825107\n",
      "\n",
      "\n",
      "Testing theta =  0.1625\n",
      "loss:  0.6924945689572228\n",
      "val_loss:  0.6941287211577097\n",
      "\n",
      "\n",
      "Testing theta =  0.16499999999999998\n",
      "loss:  0.6914977908796734\n",
      "val_loss:  0.6934044533305698\n",
      "\n",
      "\n",
      "Testing theta =  0.16749999999999998\n",
      "loss:  0.6902655802170435\n",
      "val_loss:  0.6923242070939806\n",
      "\n",
      "\n",
      "Testing theta =  0.16999999999999998\n",
      "loss:  0.6884871333837509\n",
      "val_loss:  0.691009115576744\n",
      "\n",
      "\n",
      "Testing theta =  0.1725\n",
      "loss:  0.6864582858482997\n",
      "val_loss:  0.6892111598120796\n",
      "\n",
      "\n",
      "Testing theta =  0.175\n",
      "loss:  0.6843775380982293\n",
      "val_loss:  0.6871311857302984\n",
      "\n",
      "\n",
      "Testing theta =  0.1775\n",
      "loss:  0.6817665506733789\n",
      "val_loss:  0.6848681257830725\n",
      "\n",
      "\n",
      "Testing theta =  0.18\n",
      "loss:  0.6789036970668368\n",
      "val_loss:  0.6821139827701781\n",
      "\n",
      "\n"
     ]
    }
   ],
   "source": [
    "thetas = np.linspace(0.10, 0.18, 33)  # iterating across possible alphaS values\n",
    "lvals = []\n",
    "vlvals = []\n",
    "\n",
    "for theta in thetas:\n",
    "    print(\"Testing theta = \", theta)\n",
    "    model.model.compile(optimizer='adam',\n",
    "                        loss=my_loss_wrapper(myinputs,\n",
    "                                             theta,\n",
    "                                             batch_size=batch_size),\n",
    "                        metrics=['accuracy'])\n",
    "\n",
    "    history = model.fit(X_train,\n",
    "                        Y_train,\n",
    "                        epochs=100,\n",
    "                        batch_size=batch_size,\n",
    "                        validation_data=(X_test, Y_test),\n",
    "                        verbose=0,\n",
    "                        callbacks=[earlystopping])\n",
    "\n",
    "    min_lval = history.history['loss'][np.argmin(history.history['val_loss'])]\n",
    "    min_vlval = np.min(history.history['val_loss'])\n",
    "\n",
    "    lvals += [min_lval]\n",
    "    vlvals += [min_vlval]\n",
    "\n",
    "    print(\"loss: \", min_lval)\n",
    "    print(\"val_loss: \", min_vlval)\n",
    "    print(\"\\n\")\n",
    "\n",
    "    print\n",
    "    pass"
   ]
  },
  {
   "cell_type": "code",
   "execution_count": 17,
   "metadata": {
    "ExecuteTime": {
     "end_time": "2020-08-15T07:49:30.327770Z",
     "start_time": "2020-08-15T07:49:29.474459Z"
    }
   },
   "outputs": [
    {
     "data": {
      "image/png": "[encoded data removed]",
      "text/plain": [
       "<Figure size 432x288 with 1 Axes>"
      ]
     },
     "metadata": {
      "needs_background": "light"
     },
     "output_type": "display_data"
    }
   ],
   "source": [
    "plt.title(\"Theta vs. Loss\")\n",
    "plt.plot(thetas, lvals, label='Loss')\n",
    "plt.plot(thetas, vlvals, label='Validation Loss')\n",
    "plt.xlabel(r'$\\theta$')\n",
    "plt.ylabel('Loss')\n",
    "plt.vlines(0.160,\n",
    "           ymin=np.min(lvals + vlvals),\n",
    "           ymax=np.max(lvals + vlvals),\n",
    "           label='Truth')\n",
    "plt.legend()\n",
    "# plt.savefig(\"DCTR_1D_alphaS_AltFit-Theta-vs-Loss.png\")\n",
    "plt.show()"
   ]
  },
  {
   "cell_type": "markdown",
   "metadata": {},
   "source": [
    "## Fitting Model: Gradient Descent"
   ]
  },
  {
   "cell_type": "markdown",
   "metadata": {},
   "source": [
    "### Creating Model"
   ]
  },
  {
   "cell_type": "code",
   "execution_count": 18,
   "metadata": {
    "ExecuteTime": {
     "end_time": "2020-08-15T07:49:30.335914Z",
     "start_time": "2020-08-15T07:49:30.329917Z"
    }
   },
   "outputs": [],
   "source": [
    "print_weights = LambdaCallback(on_epoch_end=lambda batch, logs: print(\n",
    "    \"Theta fit = \", model_fit.layers[-1].get_weights()[-1]))\n",
    "\n",
    "theta_fit_init = 0.12\n",
    "fit_vals = [theta_fit_init]\n",
    "append_fit_value = LambdaCallback(\n",
    "    on_epoch_end=lambda batch, logs: fit_vals.append(model_fit.layers[-1].\n",
    "                                                     get_weights()[0]))\n",
    "\n",
    "callbacks = [print_weights, append_fit_value]\n",
    "\n",
    "earlystopping = EarlyStopping(patience=10, restore_best_weights=True)"
   ]
  },
  {
   "cell_type": "code",
   "execution_count": 19,
   "metadata": {
    "ExecuteTime": {
     "end_time": "2020-08-15T07:49:30.617884Z",
     "start_time": "2020-08-15T07:49:30.337648Z"
    },
    "scrolled": true
   },
   "outputs": [
    {
     "name": "stdout",
     "output_type": "stream",
     "text": [
      "__________________________________________________________________________________________________\n",
      "Layer (type)                    Output Shape         Param #     Connected to                     \n",
      "==================================================================================================\n",
      "input (InputLayer)              (None, None, 4)      0                                            \n",
      "__________________________________________________________________________________________________\n",
      "tdist_0 (TimeDistributed)       (None, None, 100)    500         input[0][0]                      \n",
      "__________________________________________________________________________________________________\n",
      "activation_15 (Activation)      (None, None, 100)    0           tdist_0[0][0]                    \n",
      "__________________________________________________________________________________________________\n",
      "tdist_1 (TimeDistributed)       (None, None, 100)    10100       activation_15[0][0]              \n",
      "__________________________________________________________________________________________________\n",
      "activation_16 (Activation)      (None, None, 100)    0           tdist_1[0][0]                    \n",
      "__________________________________________________________________________________________________\n",
      "tdist_2 (TimeDistributed)       (None, None, 128)    12928       activation_16[0][0]              \n",
      "__________________________________________________________________________________________________\n",
      "mask (Lambda)                   (None, None)         0           input[0][0]                      \n",
      "__________________________________________________________________________________________________\n",
      "activation_17 (Activation)      (None, None, 128)    0           tdist_2[0][0]                    \n",
      "__________________________________________________________________________________________________\n",
      "sum (Dot)                       (None, 128)          0           mask[0][0]                       \n",
      "                                                                 activation_17[0][0]              \n",
      "__________________________________________________________________________________________________\n",
      "sum_dropout (Dropout)           (None, 128)          0           sum[0][0]                        \n",
      "__________________________________________________________________________________________________\n",
      "dense_0 (Dense)                 (None, 100)          12900       sum_dropout[0][0]                \n",
      "__________________________________________________________________________________________________\n",
      "activation_18 (Activation)      (None, 100)          0           dense_0[0][0]                    \n",
      "__________________________________________________________________________________________________\n",
      "dense_0_dropout (Dropout)       (None, 100)          0           activation_18[0][0]              \n",
      "__________________________________________________________________________________________________\n",
      "dense_1 (Dense)                 (None, 100)          10100       dense_0_dropout[0][0]            \n",
      "__________________________________________________________________________________________________\n",
      "activation_19 (Activation)      (None, 100)          0           dense_1[0][0]                    \n",
      "__________________________________________________________________________________________________\n",
      "dense_1_dropout (Dropout)       (None, 100)          0           activation_19[0][0]              \n",
      "__________________________________________________________________________________________________\n",
      "dense_2 (Dense)                 (None, 100)          10100       dense_1_dropout[0][0]            \n",
      "__________________________________________________________________________________________________\n",
      "activation_20 (Activation)      (None, 100)          0           dense_2[0][0]                    \n",
      "__________________________________________________________________________________________________\n",
      "dense_2_dropout (Dropout)       (None, 100)          0           activation_20[0][0]              \n",
      "__________________________________________________________________________________________________\n",
      "output (Dense)                  (None, 1)            101         dense_2_dropout[0][0]            \n",
      "__________________________________________________________________________________________________\n",
      "activation_21 (Activation)      (None, 1)            0           output[0][0]                     \n",
      "__________________________________________________________________________________________________\n",
      "lambda_1 (Lambda)               (None, 1)            1           activation_21[0][0]              \n",
      "==================================================================================================\n",
      "Total params: 56,730\n",
      "Trainable params: 56,730\n",
      "Non-trainable params: 0\n",
      "__________________________________________________________________________________________________\n"
     ]
    }
   ],
   "source": [
    "PFN_model = PFN(input_dim=4,\n",
    "                Phi_sizes=Phi_sizes,\n",
    "                F_sizes=F_sizes,\n",
    "                latent_dropout=0.2,\n",
    "                F_dropouts=0.2,\n",
    "                output_dim=1,\n",
    "                output_act='sigmoid',\n",
    "                summary=False)\n",
    "myinputs_fit = PFN_model.inputs[0]\n",
    "\n",
    "identity = Lambda(lambda x: x + 0)(PFN_model.output)\n",
    "\n",
    "model_fit = Model(inputs=myinputs_fit, outputs=identity)\n",
    "model_fit.layers[np.size(model_fit.layers) - 1].add_weight(\n",
    "    name=\"thetaX\",\n",
    "    shape=list(),\n",
    "    initializer=keras.initializers.Constant(value=theta_fit_init),\n",
    "    trainable=True)\n",
    "model_fit.summary()\n",
    "\n",
    "batch_size_g = 1000\n",
    "batch_size_theta = int(len(X_train_theta) / 10.)\n",
    "iterations = 50\n",
    "\n",
    "# optimizer will be refined as fit progresses for better precision\n",
    "lr_initial = 1e-2\n",
    "optimizer = keras.optimizers.Adam(lr=lr_initial)\n",
    "index_refine = np.array([0])"
   ]
  },
  {
   "cell_type": "code",
   "execution_count": 20,
   "metadata": {
    "ExecuteTime": {
     "end_time": "2020-08-15T07:49:30.628007Z",
     "start_time": "2020-08-15T07:49:30.619770Z"
    }
   },
   "outputs": [],
   "source": [
    "def my_loss_wrapper_fit(inputs,\n",
    "                        mysign=1,\n",
    "                        loss='categorical_crossentropy',\n",
    "                        batch_size=1000):\n",
    "    x = inputs\n",
    "    x = K.gather(x, np.arange(batch_size))\n",
    "    x = tf.gather(\n",
    "        x, np.arange(51),\n",
    "        axis=1)  # Axis corressponds to (max) number of particles in each event\n",
    "\n",
    "    # Getting theta_prime:\n",
    "    if mysign == 1:\n",
    "        #  when not training theta, fetch as np array\n",
    "        theta_prime = model_fit.layers[-1].get_weights()[0]\n",
    "    else:\n",
    "        # when training theta, fetch as tf.Variable\n",
    "        theta_prime = model_fit.trainable_weights[-1]\n",
    "    weights = reweight(x, theta_prime)  # NN reweight\n",
    "\n",
    "    def my_loss(y_true, y_pred):\n",
    "        if loss == 'MSE':\n",
    "            # Mean Squared Loss\n",
    "            t_loss = mysign * (y_true * (y_true - y_pred)**2 + weights *\n",
    "                               (1. - y_true) * (y_true - y_pred)**2)\n",
    "        elif loss == 'categorical_crossentropy':\n",
    "            # Categorical Cross-Entropy Loss\n",
    "\n",
    "            # Clip the prediction value to prevent NaN's and Inf's\n",
    "            epsilon = K.epsilon()\n",
    "            y_pred = K.clip(y_pred, epsilon, 1. - epsilon)\n",
    "\n",
    "            t_loss = -mysign * ((y_true) * K.log(y_pred) + weights *\n",
    "                                (1 - y_true) * K.log(1 - y_pred))\n",
    "        else:\n",
    "            raise ValueError(\n",
    "                \"loss must be set to 'MSE' or 'categorical_crossentropy'\")\n",
    "\n",
    "        return K.mean(t_loss)\n",
    "\n",
    "    return my_loss"
   ]
  },
  {
   "cell_type": "markdown",
   "metadata": {},
   "source": [
    "### Training Model"
   ]
  },
  {
   "cell_type": "code",
   "execution_count": 21,
   "metadata": {
    "ExecuteTime": {
     "end_time": "2020-08-16T14:48:06.876492Z",
     "start_time": "2020-08-15T07:49:30.630089Z"
    },
    "scrolled": true
   },
   "outputs": [
    {
     "name": "stdout",
     "output_type": "stream",
     "text": [
      "Iteration:  1\n",
      "Training g\n",
      "Training theta\n",
      "Theta fit =  0.20728561\n",
      "\n",
      "\n",
      "Iteration:  2\n",
      "Training g\n",
      "Training theta\n",
      "Theta fit =  0.122420914\n",
      "\n",
      "\n",
      "Iteration:  3\n",
      "Training g\n",
      "Training theta\n",
      "Theta fit =  0.20852457\n",
      "\n",
      "\n",
      "Iteration:  4\n",
      "Training g\n",
      "Training theta\n",
      "Theta fit =  0.10581654\n",
      "\n",
      "\n",
      "Iteration:  5\n",
      "Training g\n",
      "Training theta\n",
      "Theta fit =  0.21594886\n",
      "\n",
      "\n",
      "Iteration:  6\n",
      "Training g\n",
      "Training theta\n",
      "Theta fit =  0.09179292\n",
      "\n",
      "\n",
      "Iteration:  7\n",
      "Training g\n",
      "Training theta\n",
      "Theta fit =  0.22011091\n",
      "\n",
      "\n",
      "==============================\n",
      "====Refining Learning Rate====\n",
      "==============================\n",
      "\n",
      "Iteration:  8\n",
      "Training g\n",
      "Training theta\n",
      "Theta fit =  0.15908727\n",
      "\n",
      "\n",
      "Iteration:  9\n",
      "Training g\n",
      "Training theta\n",
      "Theta fit =  0.16160056\n",
      "\n",
      "\n",
      "Iteration:  10\n",
      "Training g\n",
      "Training theta\n",
      "Theta fit =  0.15637684\n",
      "\n",
      "\n",
      "Iteration:  11\n",
      "Training g\n",
      "Training theta\n",
      "Theta fit =  0.16798459\n",
      "\n",
      "\n",
      "Iteration:  12\n",
      "Training g\n",
      "Training theta\n",
      "Theta fit =  0.15080442\n",
      "\n",
      "\n",
      "Iteration:  13\n",
      "Training g\n",
      "Training theta\n",
      "Theta fit =  0.16892034\n",
      "\n",
      "\n",
      "Iteration:  14\n",
      "Training g\n",
      "Training theta\n",
      "Theta fit =  0.15049364\n",
      "\n",
      "\n",
      "==============================\n",
      "====Refining Learning Rate====\n",
      "==============================\n",
      "\n",
      "Iteration:  15\n",
      "Training g\n",
      "Training theta\n",
      "Theta fit =  0.15885434\n",
      "\n",
      "\n",
      "Iteration:  16\n",
      "Training g\n",
      "Training theta\n",
      "Theta fit =  0.16004746\n",
      "\n",
      "\n",
      "Iteration:  17\n",
      "Training g\n",
      "Training theta\n",
      "Theta fit =  0.15813321\n",
      "\n",
      "\n",
      "Iteration:  18\n",
      "Training g\n",
      "Training theta\n",
      "Theta fit =  0.15951969\n",
      "\n",
      "\n",
      "Iteration:  19\n",
      "Training g\n",
      "Training theta\n",
      "Theta fit =  0.1594745\n",
      "\n",
      "\n",
      "Iteration:  20\n",
      "Training g\n",
      "Training theta\n",
      "Theta fit =  0.16082339\n",
      "\n",
      "\n",
      "Iteration:  21\n",
      "Training g\n",
      "Training theta\n",
      "Theta fit =  0.15958832\n",
      "\n",
      "\n",
      "Iteration:  22\n",
      "Training g\n",
      "Training theta\n",
      "Theta fit =  0.15761088\n",
      "\n",
      "\n",
      "Iteration:  23\n",
      "Training g\n",
      "Training theta\n",
      "Theta fit =  0.15944989\n",
      "\n",
      "\n",
      "==============================\n",
      "====Refining Learning Rate====\n",
      "==============================\n",
      "\n",
      "Iteration:  24\n",
      "Training g\n",
      "Training theta\n",
      "Theta fit =  0.15951471\n",
      "\n",
      "\n",
      "Iteration:  25\n",
      "Training g\n",
      "Training theta\n",
      "Theta fit =  0.15951477\n",
      "\n",
      "\n",
      "Iteration:  26\n",
      "Training g\n",
      "Training theta\n",
      "Theta fit =  0.15943633\n",
      "\n",
      "\n",
      "Iteration:  27\n",
      "Training g\n",
      "Training theta\n",
      "Theta fit =  0.15956572\n",
      "\n",
      "\n",
      "Iteration:  28\n",
      "Training g\n",
      "Training theta\n",
      "Theta fit =  0.15950035\n",
      "\n",
      "\n",
      "Iteration:  29\n",
      "Training g\n",
      "Training theta\n",
      "Theta fit =  0.15946181\n",
      "\n",
      "\n",
      "Iteration:  30\n",
      "Training g\n",
      "Training theta\n",
      "Theta fit =  0.15961231\n",
      "\n",
      "\n",
      "Iteration:  31\n",
      "Training g\n",
      "Training theta\n",
      "Theta fit =  0.15950464\n",
      "\n",
      "\n",
      "Iteration:  32\n",
      "Training g\n",
      "Training theta\n",
      "Theta fit =  0.15951948\n",
      "\n",
      "\n",
      "==============================\n",
      "====Refining Learning Rate====\n",
      "==============================\n",
      "\n",
      "Iteration:  33\n",
      "Training g\n",
      "Training theta\n",
      "Theta fit =  0.15951332\n",
      "\n",
      "\n",
      "Iteration:  34\n",
      "Training g\n",
      "Training theta\n",
      "Theta fit =  0.15949792\n",
      "\n",
      "\n",
      "Iteration:  35\n",
      "Training g\n",
      "Training theta\n",
      "Theta fit =  0.15949401\n",
      "\n",
      "\n",
      "Iteration:  36\n",
      "Training g\n",
      "Training theta\n",
      "Theta fit =  0.15948254\n",
      "\n",
      "\n",
      "Iteration:  37\n",
      "Training g\n",
      "Training theta\n",
      "Theta fit =  0.15948713\n",
      "\n",
      "\n",
      "Iteration:  38\n",
      "Training g\n",
      "Training theta\n",
      "Theta fit =  0.15947376\n",
      "\n",
      "\n",
      "Iteration:  39\n",
      "Training g\n",
      "Training theta\n",
      "Theta fit =  0.15948492\n",
      "\n",
      "\n",
      "Iteration:  40\n",
      "Training g\n",
      "Training theta\n",
      "Theta fit =  0.15948991\n",
      "\n",
      "\n",
      "Iteration:  41\n",
      "Training g\n",
      "Training theta\n",
      "Theta fit =  0.15947865\n",
      "\n",
      "\n",
      "Iteration:  42\n",
      "Training g\n",
      "Training theta\n",
      "Theta fit =  0.15948716\n",
      "\n",
      "\n",
      "Iteration:  43\n",
      "Training g\n",
      "Training theta\n",
      "Theta fit =  0.15950586\n",
      "\n",
      "\n",
      "Iteration:  44\n",
      "Training g\n",
      "Training theta\n",
      "Theta fit =  0.15951563\n",
      "\n",
      "\n",
      "Iteration:  45\n",
      "Training g\n",
      "Training theta\n",
      "Theta fit =  0.15953021\n",
      "\n",
      "\n",
      "Iteration:  46\n",
      "Training g\n",
      "Training theta\n",
      "Theta fit =  0.15954436\n",
      "\n",
      "\n",
      "Iteration:  47\n",
      "Training g\n",
      "Training theta\n",
      "Theta fit =  0.15954337\n",
      "\n",
      "\n",
      "==============================\n",
      "====Refining Learning Rate====\n",
      "==============================\n",
      "\n",
      "Iteration:  48\n",
      "Training g\n",
      "Training theta\n",
      "Theta fit =  0.1595317\n",
      "\n",
      "\n",
      "Iteration:  49\n",
      "Training g\n",
      "Training theta\n",
      "Theta fit =  0.15953092\n",
      "\n",
      "\n",
      "Iteration:  50\n",
      "Training g\n",
      "Training theta\n",
      "Theta fit =  0.15953268\n",
      "\n",
      "\n"
     ]
    }
   ],
   "source": [
    "for iteration in range(iterations):\n",
    "    print(\"Iteration: \", iteration + 1)\n",
    "    # Reshuffling Training Data:\n",
    "    X_train, X_test, Y_train, Y_test = data_split(X_fit,\n",
    "                                                  Y_fit,\n",
    "                                                  test=0.5,\n",
    "                                                  shuffle=True)\n",
    "\n",
    "    X_train_theta, _, Y_train_theta, _ = data_split(X_fit,\n",
    "                                                    Y_fit,\n",
    "                                                    test=0.9,\n",
    "                                                    shuffle=True)\n",
    "\n",
    "    # fix \\theta and train g\n",
    "    for i in range(len(model_fit.layers) - 1):\n",
    "        model_fit.layers[i].trainable = True\n",
    "        pass\n",
    "    model_fit.layers[-1].trainable = False\n",
    "#     model.summary()\n",
    "\n",
    "    # regular optimizer and batch size\n",
    "    model_fit.compile(optimizer='Adam',\n",
    "                      loss=my_loss_wrapper_fit(myinputs_fit,\n",
    "                                               1,\n",
    "                                               batch_size=batch_size_g),\n",
    "                      metrics=['accuracy'])\n",
    "    print(\"Training g\")\n",
    "    model_fit.fit(X_train,\n",
    "                  Y_train,\n",
    "                  epochs=100,\n",
    "                  batch_size=batch_size_g,\n",
    "                  validation_data=(X_test, Y_test),\n",
    "                  verbose=0,\n",
    "                  callbacks=[earlystopping])\n",
    "\n",
    "    #Now, fix g and train \\theta.\n",
    "\n",
    "    for i in range(len(model_fit.layers) - 1):\n",
    "        model_fit.layers[i].trainable = False\n",
    "        pass\n",
    "\n",
    "    model_fit.layers[-1].trainable = True\n",
    "\n",
    "    model_fit.compile(optimizer=optimizer,\n",
    "                      loss=my_loss_wrapper_fit(myinputs_fit,\n",
    "                                               -1,\n",
    "                                               batch_size=batch_size_theta),\n",
    "                      metrics=['accuracy'])\n",
    "#     model.summary()\n",
    "    print(\"Training theta\")\n",
    "    model_fit.fit(X_train_theta,\n",
    "                  Y_train_theta,\n",
    "                  epochs=1,\n",
    "                  batch_size=batch_size_theta,\n",
    "                  verbose=0,\n",
    "                  callbacks=callbacks)\n",
    "\n",
    "    print(\"\\n\")\n",
    "\n",
    "    # Detecting oscillatory behavior (oscillations around truth values)\n",
    "    # Then refine fit by decreasing learning rate /10\n",
    "\n",
    "    fit_vals_recent = np.array(fit_vals)[(index_refine[-1]):]\n",
    "\n",
    "    # Get RECENT relative extrema, if it alternates --> oscillatory behavior\n",
    "\n",
    "    extrema = np.concatenate(\n",
    "        (argrelmin(fit_vals_recent)[0], argrelmax(fit_vals_recent)[0]))\n",
    "    extrema = extrema[extrema >= iteration - index_refine[-1] - 20]\n",
    "\n",
    "    if (len(extrema) >= 6):  # If enough are found, refine fit\n",
    "        index_refine = np.append(index_refine, iteration + 1)\n",
    "        print('==============================\\n' +\n",
    "              '====Refining Learning Rate====\\n' +\n",
    "              '==============================\\n')\n",
    "        optimizer.lr = optimizer.lr / 10.\n",
    "\n",
    "        mean_fit = np.array([\n",
    "            np.mean(fit_vals_recent[len(fit_vals_recent) -\n",
    "                                    4:len(fit_vals_recent)])\n",
    "        ])\n",
    "\n",
    "        model_fit.layers[-1].set_weights(mean_fit)\n",
    "    pass"
   ]
  },
  {
   "cell_type": "code",
   "execution_count": 22,
   "metadata": {
    "ExecuteTime": {
     "end_time": "2020-08-16T14:48:07.160088Z",
     "start_time": "2020-08-16T14:48:06.878390Z"
    }
   },
   "outputs": [
    {
     "data": {
      "image/png": "[encoded data removed]",
      "text/plain": [
       "<Figure size 432x288 with 1 Axes>"
      ]
     },
     "metadata": {
      "needs_background": "light"
     },
     "output_type": "display_data"
    }
   ],
   "source": [
    "plt.figure()\n",
    "plt.title(r'$\\alpha_s$ Fit' + '\\n Iterations = {:.0f}'.format(iterations))\n",
    "plt.plot(fit_vals, label='Model Fit')\n",
    "plt.hlines(0.16, 0, len(fit_vals), label='Truth')\n",
    "plt.xlabel(\"Iterations\")\n",
    "plt.ylabel(r'$\\theta_{fit}$')\n",
    "plt.legend()\n",
    "# plt.savefig(\n",
    "#     \"DCTR_1D_alphaS_AltFit-\\alphaS-Fit-Iterations = {}.png\".format(iterations))\n",
    "plt.show()"
   ]
  },
  {
   "cell_type": "code",
   "execution_count": 23,
   "metadata": {
    "ExecuteTime": {
     "end_time": "2020-08-16T14:48:07.847846Z",
     "start_time": "2020-08-16T14:48:07.162345Z"
    }
   },
   "outputs": [
    {
     "data": {
      "image/png": "[encoded data removed]",
      "text/plain": [
       "<Figure size 432x288 with 1 Axes>"
      ]
     },
     "metadata": {
      "needs_background": "light"
     },
     "output_type": "display_data"
    }
   ],
   "source": [
    "# Zoom into later iterations (finer fit)\n",
    "fit_vals = np.array(fit_vals)\n",
    "plt.title(r'$\\alpha_s$ Fit Zoomed In' +\n",
    "          '\\nIterations {:.0f} to {:.0f}'.format(index_refine[1], iterations))\n",
    "plt.plot(np.arange(index_refine[1], len(fit_vals)),\n",
    "         fit_vals[index_refine[1]:],\n",
    "         label='Model Fit')\n",
    "plt.hlines(0.16, index_refine[1], len(fit_vals), label='$Truth$')\n",
    "plt.xlabel(\"Iterations\")\n",
    "plt.ylabel(r'$\\theta_{fit}$')\n",
    "plt.legend()\n",
    "# plt.savefig(\n",
    "#     \"DCTR_1D_alphaS_AltFit-\\alphaS-Fit-Zoomed-in-Iterations {} to {}.png\".\n",
    "#     format(index_refine[1], iterations))\n",
    "plt.show()"
   ]
  }
 ],
 "metadata": {
  "kernelspec": {
   "display_name": "Python 3",
   "language": "python",
   "name": "python3"
  },
  "language_info": {
   "codemirror_mode": {
    "name": "ipython",
    "version": 3
   },
   "file_extension": ".py",
   "mimetype": "text/x-python",
   "name": "python",
   "nbconvert_exporter": "python",
   "pygments_lexer": "ipython3",
   "version": "3.5.2"
  },
  "notify_time": "0",
  "toc": {
   "base_numbering": 1,
   "nav_menu": {},
   "number_sections": false,
   "sideBar": true,
   "skip_h1_title": false,
   "title_cell": "Table of Contents",
   "title_sidebar": "Contents",
   "toc_cell": false,
   "toc_position": {
    "height": "calc(100% - 180px)",
    "left": "10px",
    "top": "150px",
    "width": "285px"
   },
   "toc_section_display": true,
   "toc_window_display": false
  }
 },
 "nbformat": 4,
 "nbformat_minor": 2
}
