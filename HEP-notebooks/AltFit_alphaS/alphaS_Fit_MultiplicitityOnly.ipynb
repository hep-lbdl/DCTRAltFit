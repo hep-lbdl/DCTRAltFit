{
 "cells": [
  {
   "cell_type": "code",
   "execution_count": 1,
   "metadata": {
    "ExecuteTime": {
     "end_time": "2020-08-07T18:02:56.041076Z",
     "start_time": "2020-08-07T18:02:56.036340Z"
    }
   },
   "outputs": [],
   "source": [
    "import os\n",
    "os.environ[\"CUDA_DEVICE_ORDER\"]=\"PCI_BUS_ID\"\n",
    "os.environ[\"CUDA_VISIBLE_DEVICES\"]=\"1\""
   ]
  },
  {
   "cell_type": "code",
   "execution_count": 2,
   "metadata": {
    "ExecuteTime": {
     "end_time": "2020-08-07T18:03:01.064530Z",
     "start_time": "2020-08-07T18:02:56.046099Z"
    }
   },
   "outputs": [
    {
     "name": "stderr",
     "output_type": "stream",
     "text": [
      "Using TensorFlow backend.\n"
     ]
    }
   ],
   "source": [
    "# standard library imports\n",
    "from __future__ import absolute_import, division, print_function\n",
    "\n",
    "\n",
    "import numpy as np\n",
    "from matplotlib import pyplot as plt\n",
    "import scipy as sp\n",
    "from scipy.signal import argrelmin, argrelmax\n",
    "\n",
    "from sklearn.utils import shuffle\n",
    "from sklearn.model_selection import train_test_split\n",
    "\n",
    "import tensorflow as tf\n",
    "from keras.utils import to_categorical\n",
    "from keras import Sequential\n",
    "from keras.layers import Lambda, Dense, Input, Layer, Dropout\n",
    "from keras.models import Model\n",
    "from keras.utils import to_categorical\n",
    "from keras.callbacks import LambdaCallback, EarlyStopping\n",
    "import keras.backend as K\n",
    "import keras"
   ]
  },
  {
   "cell_type": "code",
   "execution_count": 3,
   "metadata": {
    "ExecuteTime": {
     "end_time": "2020-08-07T18:03:01.076362Z",
     "start_time": "2020-08-07T18:03:01.066647Z"
    }
   },
   "outputs": [],
   "source": [
    "# Global plot settings\n",
    "from matplotlib import rc\n",
    "import matplotlib.font_manager\n",
    "from matplotlib.font_manager import FontProperties\n",
    "\n",
    "rc('font', family='serif')\n",
    "rc('text', usetex=True)\n",
    "rc('font', size=22)\n",
    "rc('xtick', labelsize=15)\n",
    "rc('ytick', labelsize=15)\n",
    "rc('legend', fontsize=15)\n",
    "\n",
    "fontP = FontProperties()\n",
    "fontP.set_size(10)"
   ]
  },
  {
   "cell_type": "code",
   "execution_count": 4,
   "metadata": {
    "ExecuteTime": {
     "end_time": "2020-08-07T18:03:01.090045Z",
     "start_time": "2020-08-07T18:03:01.080034Z"
    }
   },
   "outputs": [
    {
     "name": "stdout",
     "output_type": "stream",
     "text": [
      "1.15.0\n",
      "2.2.4\n"
     ]
    }
   ],
   "source": [
    "# Check Versions\n",
    "print(tf.__version__)  #1.15.0\n",
    "print(keras.__version__)  #2.2.4"
   ]
  },
  {
   "cell_type": "markdown",
   "metadata": {},
   "source": [
    "# Alternative DCTR fitting algorithm for $\\alpha_s$ (Multiplicity Only)"
   ]
  },
  {
   "cell_type": "markdown",
   "metadata": {},
   "source": [
    "This notebook trains a DCTR Reweightor paramterized by $\\alpha_s$ only on multiplicity, and then performs the alternative fitting algorithm on an unknown dataset. "
   ]
  },
  {
   "cell_type": "markdown",
   "metadata": {},
   "source": [
    "## Load and Process data"
   ]
  },
  {
   "cell_type": "code",
   "execution_count": 5,
   "metadata": {
    "ExecuteTime": {
     "end_time": "2020-08-07T18:03:01.098988Z",
     "start_time": "2020-08-07T18:03:01.093591Z"
    }
   },
   "outputs": [],
   "source": [
    "# Path to downloaded data from Zenodo\n",
    "data_dir = '/data0/users/aandreassen/zenodo/'"
   ]
  },
  {
   "cell_type": "code",
   "execution_count": 6,
   "metadata": {
    "ExecuteTime": {
     "end_time": "2020-08-07T18:03:01.111941Z",
     "start_time": "2020-08-07T18:03:01.102123Z"
    }
   },
   "outputs": [],
   "source": [
    "dataset = np.load(data_dir + '1D_alphaS_train.npz')"
   ]
  },
  {
   "cell_type": "code",
   "execution_count": 7,
   "metadata": {
    "ExecuteTime": {
     "end_time": "2020-08-07T18:03:29.532443Z",
     "start_time": "2020-08-07T18:03:01.114951Z"
    }
   },
   "outputs": [],
   "source": [
    "X = dataset['X']\n",
    "Y = dataset['Y']"
   ]
  },
  {
   "cell_type": "code",
   "execution_count": 8,
   "metadata": {
    "ExecuteTime": {
     "end_time": "2020-08-07T18:03:29.582212Z",
     "start_time": "2020-08-07T18:03:29.536259Z"
    }
   },
   "outputs": [],
   "source": [
    "Y = to_categorical(Y, num_classes=2)"
   ]
  },
  {
   "cell_type": "code",
   "execution_count": 9,
   "metadata": {
    "ExecuteTime": {
     "end_time": "2020-08-07T18:04:03.052636Z",
     "start_time": "2020-08-07T18:03:29.585151Z"
    }
   },
   "outputs": [],
   "source": [
    "X_mult = []\n",
    "# Zipping data points with no particle with parameters\n",
    "\n",
    "index = 0\n",
    "for jet in X:\n",
    "    pTs = jet[:,0]\n",
    "    alphaS = jet[0][4]\n",
    "    multiplicity = np.sum(pTs!=0)\n",
    "    X_mult.append([multiplicity, alphaS])"
   ]
  },
  {
   "cell_type": "code",
   "execution_count": 10,
   "metadata": {
    "ExecuteTime": {
     "end_time": "2020-08-07T18:04:05.029275Z",
     "start_time": "2020-08-07T18:04:03.054774Z"
    }
   },
   "outputs": [],
   "source": [
    "X_mult = np.array(X_mult)"
   ]
  },
  {
   "cell_type": "code",
   "execution_count": 11,
   "metadata": {
    "ExecuteTime": {
     "end_time": "2020-08-07T18:04:05.570971Z",
     "start_time": "2020-08-07T18:04:05.054053Z"
    }
   },
   "outputs": [],
   "source": [
    "X_train, X_val, Y_train, Y_val = train_test_split(X_mult, Y, test_size=0.2)"
   ]
  },
  {
   "cell_type": "markdown",
   "metadata": {},
   "source": [
    "## Training a DCTR Model\n",
    "First, we need to train a DCTR model to provide us with a reweighting function to be used during fitting.\n",
    "This is taken directly from the first Gaussian Notebook."
   ]
  },
  {
   "cell_type": "markdown",
   "metadata": {},
   "source": [
    "### Build Model"
   ]
  },
  {
   "cell_type": "code",
   "execution_count": 12,
   "metadata": {
    "ExecuteTime": {
     "end_time": "2020-08-07T18:04:05.741522Z",
     "start_time": "2020-08-07T18:04:05.573677Z"
    }
   },
   "outputs": [
    {
     "name": "stdout",
     "output_type": "stream",
     "text": [
      "WARNING:tensorflow:From /home/asuresh/.local/lib/python3.5/site-packages/keras/backend/tensorflow_backend.py:74: The name tf.get_default_graph is deprecated. Please use tf.compat.v1.get_default_graph instead.\n",
      "\n",
      "WARNING:tensorflow:From /home/asuresh/.local/lib/python3.5/site-packages/keras/backend/tensorflow_backend.py:517: The name tf.placeholder is deprecated. Please use tf.compat.v1.placeholder instead.\n",
      "\n",
      "WARNING:tensorflow:From /home/asuresh/.local/lib/python3.5/site-packages/keras/backend/tensorflow_backend.py:4138: The name tf.random_uniform is deprecated. Please use tf.random.uniform instead.\n",
      "\n",
      "WARNING:tensorflow:From /home/asuresh/.local/lib/python3.5/site-packages/keras/optimizers.py:790: The name tf.train.Optimizer is deprecated. Please use tf.compat.v1.train.Optimizer instead.\n",
      "\n",
      "WARNING:tensorflow:From /home/asuresh/.local/lib/python3.5/site-packages/keras/backend/tensorflow_backend.py:3295: The name tf.log is deprecated. Please use tf.math.log instead.\n",
      "\n"
     ]
    }
   ],
   "source": [
    "inputs = Input((2,))\n",
    "hidden_layer_1 = Dense(50, activation='relu')(inputs)\n",
    "hidden_layer_2 = Dense(50, activation='relu')(hidden_layer_1)\n",
    "hidden_layer_3 = Dense(50, activation='relu')(hidden_layer_2)\n",
    "\n",
    "outputs = Dense(2, activation='softmax')(hidden_layer_3)\n",
    "\n",
    "dctr_model = Model(inputs = inputs, outputs = outputs)\n",
    "dctr_model.compile(loss='categorical_crossentropy', optimizer='Adam')"
   ]
  },
  {
   "cell_type": "markdown",
   "metadata": {},
   "source": [
    "### Train DCTR model"
   ]
  },
  {
   "cell_type": "code",
   "execution_count": 13,
   "metadata": {
    "ExecuteTime": {
     "end_time": "2020-08-07T18:08:41.358825Z",
     "start_time": "2020-08-07T18:04:05.743383Z"
    },
    "scrolled": true
   },
   "outputs": [
    {
     "name": "stdout",
     "output_type": "stream",
     "text": [
      "WARNING:tensorflow:From /home/asuresh/.local/lib/python3.5/site-packages/tensorflow_core/python/ops/math_grad.py:1424: where (from tensorflow.python.ops.array_ops) is deprecated and will be removed in a future version.\n",
      "Instructions for updating:\n",
      "Use tf.where in 2.0, which has the same broadcast rule as np.where\n",
      "WARNING:tensorflow:From /home/asuresh/.local/lib/python3.5/site-packages/keras/backend/tensorflow_backend.py:986: The name tf.assign_add is deprecated. Please use tf.compat.v1.assign_add instead.\n",
      "\n",
      "WARNING:tensorflow:From /home/asuresh/.local/lib/python3.5/site-packages/keras/backend/tensorflow_backend.py:973: The name tf.assign is deprecated. Please use tf.compat.v1.assign instead.\n",
      "\n",
      "WARNING:tensorflow:From /home/asuresh/.local/lib/python3.5/site-packages/keras/backend/tensorflow_backend.py:2741: The name tf.Session is deprecated. Please use tf.compat.v1.Session instead.\n",
      "\n",
      "WARNING:tensorflow:From /home/asuresh/.local/lib/python3.5/site-packages/keras/backend/tensorflow_backend.py:174: The name tf.get_default_session is deprecated. Please use tf.compat.v1.get_default_session instead.\n",
      "\n",
      "WARNING:tensorflow:From /home/asuresh/.local/lib/python3.5/site-packages/keras/backend/tensorflow_backend.py:181: The name tf.ConfigProto is deprecated. Please use tf.compat.v1.ConfigProto instead.\n",
      "\n",
      "WARNING:tensorflow:From /home/asuresh/.local/lib/python3.5/site-packages/keras/backend/tensorflow_backend.py:190: The name tf.global_variables is deprecated. Please use tf.compat.v1.global_variables instead.\n",
      "\n",
      "WARNING:tensorflow:From /home/asuresh/.local/lib/python3.5/site-packages/keras/backend/tensorflow_backend.py:199: The name tf.is_variable_initialized is deprecated. Please use tf.compat.v1.is_variable_initialized instead.\n",
      "\n",
      "WARNING:tensorflow:From /home/asuresh/.local/lib/python3.5/site-packages/keras/backend/tensorflow_backend.py:206: The name tf.variables_initializer is deprecated. Please use tf.compat.v1.variables_initializer instead.\n",
      "\n",
      "Trained DCTR Model\n"
     ]
    }
   ],
   "source": [
    "earlystopping = EarlyStopping(patience = 10,\n",
    "                              restore_best_weights=True)\n",
    "dctr_model.fit(X_train, Y_train, \n",
    "               epochs=200, batch_size = 10000, \n",
    "               validation_data = (X_val, Y_val), \n",
    "               verbose = 0, \n",
    "               callbacks = [earlystopping])\n",
    "print(\"Trained DCTR Model\")"
   ]
  },
  {
   "cell_type": "markdown",
   "metadata": {},
   "source": [
    "# Alternative Fit"
   ]
  },
  {
   "cell_type": "markdown",
   "metadata": {},
   "source": [
    "### Setup the dataset\n"
   ]
  },
  {
   "cell_type": "code",
   "execution_count": 14,
   "metadata": {
    "ExecuteTime": {
     "end_time": "2020-08-07T18:08:41.372390Z",
     "start_time": "2020-08-07T18:08:41.363502Z"
    }
   },
   "outputs": [],
   "source": [
    "default_dataset = np.load(data_dir + 'test1D_default.npz')\n",
    "unknown_dataset = np.load(data_dir + 'test1D_alphaS.npz')"
   ]
  },
  {
   "cell_type": "code",
   "execution_count": 15,
   "metadata": {
    "ExecuteTime": {
     "end_time": "2020-08-07T18:08:41.891957Z",
     "start_time": "2020-08-07T18:08:41.377251Z"
    }
   },
   "outputs": [],
   "source": [
    "X_0 = default_dataset['multiplicity']\n",
    "X_1 = unknown_dataset['multiplicity']\n",
    "\n",
    "labels0 = np.zeros(len(X_0))\n",
    "labels1 = np.ones(len(X_1))\n",
    "\n",
    "xvals = np.concatenate([X_0,X_1])\n",
    "yvals = np.concatenate([labels0,labels1])\n",
    "\n",
    "X_train, X_test, y_train, y_test = train_test_split(xvals, yvals, test_size=0.5)\n",
    "X_train_theta, y_train_theta = shuffle(xvals, yvals)"
   ]
  },
  {
   "cell_type": "markdown",
   "metadata": {},
   "source": [
    "### Defining reweighting functions\n",
    "\n",
    "$w(x_{T,i},\\theta)=((f(x_{T,i},\\theta)/(1-f(x_{T,i},\\theta)))$\n",
    "\n",
    "Takes observable from simulation ${\\bf \\theta_0}$ and weights it to observable from data (target) ${\\bf \\theta_1}$."
   ]
  },
  {
   "cell_type": "code",
   "execution_count": 16,
   "metadata": {
    "ExecuteTime": {
     "end_time": "2020-08-07T18:08:41.902506Z",
     "start_time": "2020-08-07T18:08:41.894106Z"
    }
   },
   "outputs": [],
   "source": [
    "# from NN (DCTR)\n",
    "def reweight(events, param):\n",
    "    #creating tensor with same length as inputs, with theta_prime in every entry\n",
    "    concat_input_and_params = K.ones(shape=events.shape) * param\n",
    "    #combining and reshaping into correct format:\n",
    "    model_inputs = K.concatenate((events, concat_input_and_params), axis=-1)\n",
    "\n",
    "    f = dctr_model(model_inputs)\n",
    "    weights = (f[:, 1]) / (f[:, 0])\n",
    "    weights = K.expand_dims(weights, axis=1)\n",
    "    return weights"
   ]
  },
  {
   "cell_type": "markdown",
   "metadata": {},
   "source": [
    "## Fitting Model: Scan\n",
    "\n",
    "We'll start by showing that for fixed $\\theta$, the maximum loss occurs when $\\theta=\\theta_1$."
   ]
  },
  {
   "cell_type": "markdown",
   "metadata": {},
   "source": [
    "### Creating Model"
   ]
  },
  {
   "cell_type": "code",
   "execution_count": 17,
   "metadata": {
    "ExecuteTime": {
     "end_time": "2020-08-07T18:08:41.980571Z",
     "start_time": "2020-08-07T18:08:41.909093Z"
    }
   },
   "outputs": [
    {
     "name": "stdout",
     "output_type": "stream",
     "text": [
      "_________________________________________________________________\n",
      "Layer (type)                 Output Shape              Param #   \n",
      "=================================================================\n",
      "input_2 (InputLayer)         (None, 1)                 0         \n",
      "_________________________________________________________________\n",
      "dense_5 (Dense)              (None, 128)               256       \n",
      "_________________________________________________________________\n",
      "dense_6 (Dense)              (None, 128)               16512     \n",
      "_________________________________________________________________\n",
      "dense_7 (Dense)              (None, 1)                 129       \n",
      "=================================================================\n",
      "Total params: 16,897\n",
      "Trainable params: 16,897\n",
      "Non-trainable params: 0\n",
      "_________________________________________________________________\n"
     ]
    }
   ],
   "source": [
    "myinputs = Input(shape=(1,), dtype = tf.float32)\n",
    "x = Dense(128, activation='relu')(myinputs)\n",
    "x2 = Dense(128, activation='relu')(x)\n",
    "predictions = Dense(1, activation='sigmoid')(x2)\n",
    "          \n",
    "model = Model(inputs=myinputs, outputs=predictions)\n",
    "model.summary()\n",
    "\n",
    "batch_size = 1000\n",
    "earlystopping = EarlyStopping(patience=10, restore_best_weights=True)"
   ]
  },
  {
   "cell_type": "code",
   "execution_count": 18,
   "metadata": {
    "ExecuteTime": {
     "end_time": "2020-08-07T18:08:41.996300Z",
     "start_time": "2020-08-07T18:08:41.983353Z"
    },
    "scrolled": true
   },
   "outputs": [],
   "source": [
    "def my_loss_wrapper(inputs,\n",
    "                      val=0.,\n",
    "                      loss='categorical_crossentropy',\n",
    "                      batch_size=1000):\n",
    "    x  = inputs\n",
    "    x = K.gather(x, np.arange(batch_size))\n",
    "    \n",
    "    theta_prime = val\n",
    "\n",
    "    weights = reweight(x, theta_prime)\n",
    "    \n",
    "    def my_loss(y_true, y_pred):\n",
    "        if loss == 'MSE':\n",
    "            # Mean Squared Loss\n",
    "            t_loss = y_true * (y_true - y_pred)**2 + weights * (\n",
    "                1. - y_true) * (y_true - y_pred)**2\n",
    "        elif loss == 'categorical_crossentropy':\n",
    "            # Categorical Cross-Entropy Loss\n",
    "\n",
    "            # Clip the prediction value to prevent NaN's and Inf's\n",
    "            epsilon = K.epsilon()\n",
    "            y_pred = K.clip(y_pred, epsilon, 1. - epsilon)\n",
    "\n",
    "            t_loss = -((y_true) * K.log(y_pred) + weights *\n",
    "                       (1 - y_true) * K.log(1 - y_pred))\n",
    "        else:\n",
    "            raise ValueError(\n",
    "                \"loss must be set to 'MSE' or 'categorical_crossentropy'\")\n",
    "        \n",
    "        return K.mean(t_loss)\n",
    "    \n",
    "    return my_loss"
   ]
  },
  {
   "cell_type": "markdown",
   "metadata": {},
   "source": [
    "### Training Model"
   ]
  },
  {
   "cell_type": "code",
   "execution_count": 19,
   "metadata": {
    "ExecuteTime": {
     "end_time": "2020-08-07T20:15:35.584331Z",
     "start_time": "2020-08-07T18:08:41.999349Z"
    },
    "scrolled": true
   },
   "outputs": [
    {
     "name": "stdout",
     "output_type": "stream",
     "text": [
      "Testing theta =  0.1\n",
      "loss:  0.6431417263878716\n",
      "val_loss:  0.6430970122416814\n",
      "\n",
      "\n",
      "Testing theta =  0.10250000000000001\n",
      "loss:  0.6462749914328257\n",
      "val_loss:  0.6464563108152813\n",
      "\n",
      "\n",
      "Testing theta =  0.10500000000000001\n",
      "loss:  0.649151529735989\n",
      "val_loss:  0.6493619665834639\n",
      "\n",
      "\n",
      "Testing theta =  0.1075\n",
      "loss:  0.6519605375660791\n",
      "val_loss:  0.6521370386415057\n",
      "\n",
      "\n",
      "Testing theta =  0.11\n",
      "loss:  0.6548755997419358\n",
      "val_loss:  0.6550524616903729\n",
      "\n",
      "\n",
      "Testing theta =  0.1125\n",
      "loss:  0.6574764055013657\n",
      "val_loss:  0.6576612424850464\n",
      "\n",
      "\n",
      "Testing theta =  0.115\n",
      "loss:  0.6599708298179838\n",
      "val_loss:  0.6601804488897324\n",
      "\n",
      "\n",
      "Testing theta =  0.11750000000000001\n",
      "loss:  0.6626928268538581\n",
      "val_loss:  0.662925150261985\n",
      "\n",
      "\n",
      "Testing theta =  0.12\n",
      "loss:  0.6656283987230724\n",
      "val_loss:  0.6658125898573134\n",
      "\n",
      "\n",
      "Testing theta =  0.1225\n",
      "loss:  0.6685409823391173\n",
      "val_loss:  0.6687207839886348\n",
      "\n",
      "\n",
      "Testing theta =  0.125\n",
      "loss:  0.6716494996680153\n",
      "val_loss:  0.6718312011824714\n",
      "\n",
      "\n",
      "Testing theta =  0.1275\n",
      "loss:  0.6746676896015803\n",
      "val_loss:  0.6747853685749902\n",
      "\n",
      "\n",
      "Testing theta =  0.13\n",
      "loss:  0.6772920854224099\n",
      "val_loss:  0.6774367096689012\n",
      "\n",
      "\n",
      "Testing theta =  0.1325\n",
      "loss:  0.6796605007516013\n",
      "val_loss:  0.6798094075918197\n",
      "\n",
      "\n",
      "Testing theta =  0.135\n",
      "loss:  0.6817598488595751\n",
      "val_loss:  0.6818937442037795\n",
      "\n",
      "\n",
      "Testing theta =  0.1375\n",
      "loss:  0.6832513439655304\n",
      "val_loss:  0.683359661632114\n",
      "\n",
      "\n",
      "Testing theta =  0.14\n",
      "loss:  0.6844306488831838\n",
      "val_loss:  0.684520669248369\n",
      "\n",
      "\n",
      "Testing theta =  0.14250000000000002\n",
      "loss:  0.6855367573764589\n",
      "val_loss:  0.685612393286493\n",
      "\n",
      "\n",
      "Testing theta =  0.145\n",
      "loss:  0.6869127414623897\n",
      "val_loss:  0.6869545425309075\n",
      "\n",
      "\n",
      "Testing theta =  0.1475\n",
      "loss:  0.6878465108076731\n",
      "val_loss:  0.6878817572196325\n",
      "\n",
      "\n",
      "Testing theta =  0.15\n",
      "loss:  0.6886304199033313\n",
      "val_loss:  0.6886663107077281\n",
      "\n",
      "\n",
      "Testing theta =  0.1525\n",
      "loss:  0.6893765994575288\n",
      "val_loss:  0.6893809188736809\n",
      "\n",
      "\n",
      "Testing theta =  0.155\n",
      "loss:  0.6900652036401961\n",
      "val_loss:  0.6900490563445622\n",
      "\n",
      "\n",
      "Testing theta =  0.1575\n",
      "loss:  0.6904437172412873\n",
      "val_loss:  0.6904236647817824\n",
      "\n",
      "\n",
      "Testing theta =  0.16\n",
      "loss:  0.690981302857399\n",
      "val_loss:  0.6909516325261857\n",
      "\n",
      "\n",
      "Testing theta =  0.1625\n",
      "loss:  0.6914769595861435\n",
      "val_loss:  0.6914288540018929\n",
      "\n",
      "\n",
      "Testing theta =  0.16499999999999998\n",
      "loss:  0.6914480309353934\n",
      "val_loss:  0.6913709770970874\n",
      "\n",
      "\n",
      "Testing theta =  0.16749999999999998\n",
      "loss:  0.6917934273348915\n",
      "val_loss:  0.6917043313715193\n",
      "\n",
      "\n",
      "Testing theta =  0.16999999999999998\n",
      "loss:  0.692079110675388\n",
      "val_loss:  0.6919628699620565\n",
      "\n",
      "\n",
      "Testing theta =  0.1725\n",
      "loss:  0.6916947435670429\n",
      "val_loss:  0.6915713489717907\n",
      "\n",
      "\n",
      "Testing theta =  0.175\n",
      "loss:  0.6912219609154595\n",
      "val_loss:  0.6910795335637199\n",
      "\n",
      "\n",
      "Testing theta =  0.1775\n",
      "loss:  0.6906986227300432\n",
      "val_loss:  0.6905305931303236\n",
      "\n",
      "\n",
      "Testing theta =  0.18\n",
      "loss:  0.6899806978305181\n",
      "val_loss:  0.6898001788722145\n",
      "\n",
      "\n",
      "[0.6431417263878716, 0.6462749914328257, 0.649151529735989, 0.6519605375660791, 0.6548755997419358, 0.6574764055013657, 0.6599708298179838, 0.6626928268538581, 0.6656283987230724, 0.6685409823391173, 0.6716494996680153, 0.6746676896015803, 0.6772920854224099, 0.6796605007516013, 0.6817598488595751, 0.6832513439655304, 0.6844306488831838, 0.6855367573764589, 0.6869127414623897, 0.6878465108076731, 0.6886304199033313, 0.6893765994575288, 0.6900652036401961, 0.6904437172412873, 0.690981302857399, 0.6914769595861435, 0.6914480309353934, 0.6917934273348915, 0.692079110675388, 0.6916947435670429, 0.6912219609154595, 0.6906986227300432, 0.6899806978305181]\n"
     ]
    }
   ],
   "source": [
    "thetas = np.linspace(0.10, 0.18, 33)\n",
    "vlvals = []\n",
    "lvals = []\n",
    "\n",
    "for theta in thetas:\n",
    "    print(\"Testing theta = \", theta)\n",
    "    model.compile(optimizer='adam',\n",
    "                  loss=my_loss_wrapper(myinputs,\n",
    "                                         theta,\n",
    "                                         batch_size=batch_size),\n",
    "                  metrics=['accuracy'])\n",
    "\n",
    "    history = model.fit(np.array(X_train),\n",
    "                        y_train,\n",
    "                        epochs=1000,\n",
    "                        batch_size=batch_size,\n",
    "                        validation_data=(np.array(X_test), y_test),\n",
    "                        verbose=0,\n",
    "                       callbacks= [earlystopping])\n",
    "    \n",
    "    min_lval = history.history['loss'][np.argmin(history.history['val_loss'])]\n",
    "    min_vlval = np.min(history.history['val_loss'])\n",
    "\n",
    "    lvals += [min_lval]\n",
    "    vlvals += [min_vlval]\n",
    "    \n",
    "    print(\"loss: \", min_lval)\n",
    "    print(\"val_loss: \", min_vlval)\n",
    "    print(\"\\n\")\n",
    "    print\n",
    "    pass\n",
    "print(lvals)"
   ]
  },
  {
   "cell_type": "code",
   "execution_count": 20,
   "metadata": {
    "ExecuteTime": {
     "end_time": "2020-08-07T20:15:36.902265Z",
     "start_time": "2020-08-07T20:15:35.593862Z"
    }
   },
   "outputs": [
    {
     "data": {
      "image/png": "[encoded data removed]",
      "text/plain": [
       "<Figure size 432x288 with 1 Axes>"
      ]
     },
     "metadata": {
      "needs_background": "light"
     },
     "output_type": "display_data"
    }
   ],
   "source": [
    "plt.title(\"Theta vs. Loss (Multiplicity Only)\")\n",
    "plt.plot(thetas, lvals, label='Loss')\n",
    "plt.plot(thetas, vlvals, label='Validation Loss')\n",
    "plt.xlabel(r'$\\theta$')\n",
    "plt.ylabel('Loss')\n",
    "plt.vlines(0.16,\n",
    "           ymin=np.min(lvals+vlvals),\n",
    "           ymax=np.max(lvals+vlvals),\n",
    "           label='Truth')\n",
    "plt.legend()\n",
    "# plt.savefig(\"alphaS_Fit_MultiplicitityOnly-Theta-vs-Loss.png\")\n",
    "plt.show()"
   ]
  },
  {
   "cell_type": "markdown",
   "metadata": {},
   "source": [
    "Now, let's do the $\\theta$ and $g$ optimization together with a minimax setup."
   ]
  },
  {
   "cell_type": "markdown",
   "metadata": {},
   "source": [
    "## Fitting Model: Gradient Fit"
   ]
  },
  {
   "cell_type": "markdown",
   "metadata": {},
   "source": [
    "### Creating Model"
   ]
  },
  {
   "cell_type": "code",
   "execution_count": 21,
   "metadata": {
    "ExecuteTime": {
     "end_time": "2020-08-07T20:15:36.919058Z",
     "start_time": "2020-08-07T20:15:36.907993Z"
    }
   },
   "outputs": [],
   "source": [
    "print_weights = LambdaCallback(on_epoch_end=lambda batch, logs: print(\n",
    "    \"Theta fit = \", model_fit.layers[-1].get_weights()[-1]))\n",
    "\n",
    "theta_fit_init = 0.12\n",
    "fit_vals = [theta_fit_init]\n",
    "append_fit_value = LambdaCallback(\n",
    "    on_epoch_end=lambda batch, logs: fit_vals.append(model_fit.layers[-1].\n",
    "                                                     get_weights()[0]))\n",
    "\n",
    "callbacks = [print_weights, append_fit_value]\n",
    "\n",
    "earlystopping = EarlyStopping(patience=10, restore_best_weights=True)"
   ]
  },
  {
   "cell_type": "code",
   "execution_count": 22,
   "metadata": {
    "ExecuteTime": {
     "end_time": "2020-08-07T20:15:37.097437Z",
     "start_time": "2020-08-07T20:15:36.920776Z"
    }
   },
   "outputs": [
    {
     "name": "stdout",
     "output_type": "stream",
     "text": [
      "_________________________________________________________________\n",
      "Layer (type)                 Output Shape              Param #   \n",
      "=================================================================\n",
      "input_3 (InputLayer)         (None, 1)                 0         \n",
      "_________________________________________________________________\n",
      "dense_8 (Dense)              (None, 128)               256       \n",
      "_________________________________________________________________\n",
      "dense_9 (Dense)              (None, 128)               16512     \n",
      "_________________________________________________________________\n",
      "dense_10 (Dense)             (None, 1)                 129       \n",
      "_________________________________________________________________\n",
      "lambda_1 (Lambda)            (None, 1)                 1         \n",
      "=================================================================\n",
      "Total params: 16,898\n",
      "Trainable params: 16,898\n",
      "Non-trainable params: 0\n",
      "_________________________________________________________________\n"
     ]
    }
   ],
   "source": [
    "myinputs_fit = Input(shape=(1,))\n",
    "x_fit = Dense(128, activation='relu')(myinputs_fit)\n",
    "x2_fit = Dense(128, activation='relu')(x_fit)\n",
    "predictions_fit = Dense(1, activation='sigmoid')(x2_fit)\n",
    "identity = Lambda(lambda x: x + 0)(predictions_fit)\n",
    "\n",
    "model_fit = Model(inputs=myinputs_fit, outputs=identity)\n",
    "model_fit.layers[np.size(model_fit.layers)-1].add_weight(name=\"thetaX\",shape=list(),initializer = keras.initializers.Constant(value = theta_fit_init),trainable=True)\n",
    "model_fit.summary()\n",
    "\n",
    "batch_size_g = 1000\n",
    "batch_size_theta = len(X_train_theta)\n",
    "iterations = 50\n",
    "\n",
    "# optimizer will be refined as fit progresses for better precision\n",
    "lr_initial = 5e-2\n",
    "optimizer = keras.optimizers.Adam(lr=lr_initial)\n",
    "index_refine = np.array([0])"
   ]
  },
  {
   "cell_type": "code",
   "execution_count": 23,
   "metadata": {
    "ExecuteTime": {
     "end_time": "2020-08-07T20:15:37.116184Z",
     "start_time": "2020-08-07T20:15:37.102153Z"
    }
   },
   "outputs": [],
   "source": [
    "def my_loss_wrapper_fit(\n",
    "        inputs,\n",
    "        mysign=1,  # -1 for training theta, +1 for training g\n",
    "        loss='categorical_crossentropy',\n",
    "        batch_size=1000):\n",
    "    \n",
    "    x  = inputs\n",
    "    x = K.gather(x, np.arange(batch_size))\n",
    "\n",
    "    # Getting theta_prime:\n",
    "    if mysign == 1:\n",
    "        #  when not training theta, fetch as np array\n",
    "        theta_prime = model_fit.layers[-1].get_weights()\n",
    "    else:\n",
    "        # when training theta, fetch as tf.Variable\n",
    "        theta_prime = model_fit.trainable_weights[-1]\n",
    "        \n",
    "    weights = reweight(x, theta_prime)\n",
    "    \n",
    "    def my_loss(y_true, y_pred):\n",
    "        if loss == 'MSE':\n",
    "            # Mean Squared Loss\n",
    "            t_loss = mysign * (y_true * (y_true - y_pred)**2 + weights *\n",
    "                               (1. - y_true) * (y_true - y_pred)**2)\n",
    "        elif loss == 'categorical_crossentropy':\n",
    "            # Categorical Cross-Entropy Loss\n",
    "\n",
    "            # Clip the prediction value to prevent NaN's and Inf's\n",
    "            epsilon = K.epsilon()\n",
    "            y_pred = K.clip(y_pred, epsilon, 1. - epsilon)\n",
    "\n",
    "            t_loss = -mysign * ((y_true) * K.log(y_pred) + weights *\n",
    "                                (1 - y_true) * K.log(1 - y_pred))\n",
    "        else:\n",
    "            raise ValueError(\n",
    "                \"loss must be set to 'MSE' or 'categorical_crossentropy'\")\n",
    "\n",
    "        return K.mean(t_loss)\n",
    "\n",
    "    return my_loss"
   ]
  },
  {
   "cell_type": "markdown",
   "metadata": {},
   "source": [
    "### Training Model"
   ]
  },
  {
   "cell_type": "code",
   "execution_count": 24,
   "metadata": {
    "ExecuteTime": {
     "end_time": "2020-08-08T00:29:31.066753Z",
     "start_time": "2020-08-07T20:15:37.119846Z"
    },
    "scrolled": true
   },
   "outputs": [
    {
     "name": "stdout",
     "output_type": "stream",
     "text": [
      "Iteration:  1\n",
      "Training g\n",
      "Training theta\n",
      "Theta fit =  0.16999985\n",
      "\n",
      "\n",
      "Iteration:  2\n",
      "Training g\n",
      "Training theta\n",
      "Theta fit =  0.207205\n",
      "\n",
      "\n",
      "Iteration:  3\n",
      "Training g\n",
      "Training theta\n",
      "Theta fit =  0.17814873\n",
      "\n",
      "\n",
      "Iteration:  4\n",
      "Training g\n",
      "Training theta\n",
      "Theta fit =  0.14909297\n",
      "\n",
      "\n",
      "Iteration:  5\n",
      "Training g\n",
      "Training theta\n",
      "Theta fit =  0.17636698\n",
      "\n",
      "\n",
      "Iteration:  6\n",
      "Training g\n",
      "Training theta\n",
      "Theta fit =  0.15026145\n",
      "\n",
      "\n",
      "Iteration:  7\n",
      "Training g\n",
      "Training theta\n",
      "Theta fit =  0.17558005\n",
      "\n",
      "\n",
      "Iteration:  8\n",
      "Training g\n",
      "Training theta\n",
      "Theta fit =  0.1507927\n",
      "\n",
      "\n",
      "Iteration:  9\n",
      "Training g\n",
      "Training theta\n",
      "Theta fit =  0.17523012\n",
      "\n",
      "\n",
      "==============================\n",
      "====Refining Learning Rate====\n",
      "==============================\n",
      "\n",
      "Iteration:  10\n",
      "Training g\n",
      "Training theta\n",
      "Theta fit =  0.16054441\n",
      "\n",
      "\n",
      "Iteration:  11\n",
      "Training g\n",
      "Training theta\n",
      "Theta fit =  0.16295505\n",
      "\n",
      "\n",
      "Iteration:  12\n",
      "Training g\n",
      "Training theta\n",
      "Theta fit =  0.1605489\n",
      "\n",
      "\n",
      "Iteration:  13\n",
      "Training g\n",
      "Training theta\n",
      "Theta fit =  0.16295882\n",
      "\n",
      "\n",
      "Iteration:  14\n",
      "Training g\n",
      "Training theta\n",
      "Theta fit =  0.16054128\n",
      "\n",
      "\n",
      "Iteration:  15\n",
      "Training g\n",
      "Training theta\n",
      "Theta fit =  0.1629713\n",
      "\n",
      "\n",
      "Iteration:  16\n",
      "Training g\n",
      "Training theta\n",
      "Theta fit =  0.16052598\n",
      "\n",
      "\n",
      "==============================\n",
      "====Refining Learning Rate====\n",
      "==============================\n",
      "\n",
      "Iteration:  17\n",
      "Training g\n",
      "Training theta\n",
      "Theta fit =  0.16199577\n",
      "\n",
      "\n",
      "Iteration:  18\n",
      "Training g\n",
      "Training theta\n",
      "Theta fit =  0.16224661\n",
      "\n",
      "\n",
      "Iteration:  19\n",
      "Training g\n",
      "Training theta\n",
      "Theta fit =  0.16199577\n",
      "\n",
      "\n",
      "Iteration:  20\n",
      "Training g\n",
      "Training theta\n",
      "Theta fit =  0.16224912\n",
      "\n",
      "\n",
      "Iteration:  21\n",
      "Training g\n",
      "Training theta\n",
      "Theta fit =  0.16199313\n",
      "\n",
      "\n",
      "Iteration:  22\n",
      "Training g\n",
      "Training theta\n",
      "Theta fit =  0.1622519\n",
      "\n",
      "\n",
      "Iteration:  23\n",
      "Training g\n",
      "Training theta\n",
      "Theta fit =  0.16199024\n",
      "\n",
      "\n",
      "Iteration:  24\n",
      "Training g\n",
      "Training theta\n",
      "Theta fit =  0.1622549\n",
      "\n",
      "\n",
      "==============================\n",
      "====Refining Learning Rate====\n",
      "==============================\n",
      "\n",
      "Iteration:  25\n",
      "Training g\n",
      "Training theta\n",
      "Theta fit =  0.16214933\n",
      "\n",
      "\n",
      "Iteration:  26\n",
      "Training g\n",
      "Training theta\n",
      "Theta fit =  0.16217673\n",
      "\n",
      "\n",
      "Iteration:  27\n",
      "Training g\n",
      "Training theta\n",
      "Theta fit =  0.16220413\n",
      "\n",
      "\n",
      "Iteration:  28\n",
      "Training g\n",
      "Training theta\n",
      "Theta fit =  0.16223186\n",
      "\n",
      "\n",
      "Iteration:  29\n",
      "Training g\n",
      "Training theta\n",
      "Theta fit =  0.16225992\n",
      "\n",
      "\n",
      "Iteration:  30\n",
      "Training g\n",
      "Training theta\n",
      "Theta fit =  0.16223153\n",
      "\n",
      "\n",
      "Iteration:  31\n",
      "Training g\n",
      "Training theta\n",
      "Theta fit =  0.16226026\n",
      "\n",
      "\n",
      "Iteration:  32\n",
      "Training g\n",
      "Training theta\n",
      "Theta fit =  0.1622312\n",
      "\n",
      "\n",
      "Iteration:  33\n",
      "Training g\n",
      "Training theta\n",
      "Theta fit =  0.1622606\n",
      "\n",
      "\n",
      "Iteration:  34\n",
      "Training g\n",
      "Training theta\n",
      "Theta fit =  0.16223086\n",
      "\n",
      "\n",
      "==============================\n",
      "====Refining Learning Rate====\n",
      "==============================\n",
      "\n",
      "Iteration:  35\n",
      "Training g\n",
      "Training theta\n",
      "Theta fit =  0.16224273\n",
      "\n",
      "\n",
      "Iteration:  36\n",
      "Training g\n",
      "Training theta\n",
      "Theta fit =  0.16224577\n",
      "\n",
      "\n",
      "Iteration:  37\n",
      "Training g\n",
      "Training theta\n",
      "Theta fit =  0.16224265\n",
      "\n",
      "\n",
      "Iteration:  38\n",
      "Training g\n",
      "Training theta\n",
      "Theta fit =  0.16224577\n",
      "\n",
      "\n",
      "Iteration:  39\n",
      "Training g\n",
      "Training theta\n",
      "Theta fit =  0.16224262\n",
      "\n",
      "\n",
      "Iteration:  40\n",
      "Training g\n",
      "Training theta\n",
      "Theta fit =  0.1622458\n",
      "\n",
      "\n",
      "Iteration:  41\n",
      "Training g\n",
      "Training theta\n",
      "Theta fit =  0.16224258\n",
      "\n",
      "\n",
      "Iteration:  42\n",
      "Training g\n",
      "Training theta\n",
      "Theta fit =  0.16224582\n",
      "\n",
      "\n",
      "==============================\n",
      "====Refining Learning Rate====\n",
      "==============================\n",
      "\n",
      "Iteration:  43\n",
      "Training g\n",
      "Training theta\n",
      "Theta fit =  0.16224387\n",
      "\n",
      "\n",
      "Iteration:  44\n",
      "Training g\n",
      "Training theta\n",
      "Theta fit =  0.1622442\n",
      "\n",
      "\n",
      "Iteration:  45\n",
      "Training g\n",
      "Training theta\n",
      "Theta fit =  0.16224387\n",
      "\n",
      "\n",
      "Iteration:  46\n",
      "Training g\n",
      "Training theta\n",
      "Theta fit =  0.16224422\n",
      "\n",
      "\n",
      "Iteration:  47\n",
      "Training g\n",
      "Training theta\n",
      "Theta fit =  0.16224387\n",
      "\n",
      "\n",
      "Iteration:  48\n",
      "Training g\n",
      "Training theta\n",
      "Theta fit =  0.16224422\n",
      "\n",
      "\n",
      "Iteration:  49\n",
      "Training g\n",
      "Training theta\n",
      "Theta fit =  0.16224387\n",
      "\n",
      "\n",
      "==============================\n",
      "====Refining Learning Rate====\n",
      "==============================\n",
      "\n",
      "Iteration:  50\n",
      "Training g\n",
      "Training theta\n",
      "Theta fit =  0.16224402\n",
      "\n",
      "\n"
     ]
    }
   ],
   "source": [
    "for iteration in range(iterations):\n",
    "    print(\"Iteration: \", iteration + 1)\n",
    "\n",
    "    X_train, X_test, y_train, y_test = train_test_split(xvals,\n",
    "                                                        yvals,\n",
    "                                                        test_size=0.5)\n",
    "    X_train_theta, y_train_theta = shuffle(xvals, yvals)\n",
    "\n",
    "    for i in range(len(model_fit.layers) - 1):\n",
    "        model_fit.layers[i].trainable = True\n",
    "        pass\n",
    "\n",
    "    model_fit.layers[-1].trainable = False\n",
    "    #     model.summary()\n",
    "\n",
    "    # regular optimizer and batch size\n",
    "    model_fit.compile(optimizer='Adam',\n",
    "                      loss=my_loss_wrapper_fit(myinputs_fit,\n",
    "                                               1,\n",
    "                                               batch_size=batch_size_g),\n",
    "                      metrics=['accuracy'])\n",
    "\n",
    "    print(\"Training g\")\n",
    "    model_fit.fit(np.array(X_train),\n",
    "                  y_train,\n",
    "                  epochs=100,\n",
    "                  batch_size=batch_size_g,\n",
    "                  validation_data=(np.array(X_test), y_test),\n",
    "                  verbose=0,\n",
    "                  callbacks=[earlystopping])\n",
    "\n",
    "    #Now, fix g and train \\theta.\n",
    "\n",
    "    for i in range(len(model_fit.layers) - 1):\n",
    "        model_fit.layers[i].trainable = False\n",
    "        pass\n",
    "\n",
    "    model_fit.layers[-1].trainable = True\n",
    "    model_fit.compile(optimizer=optimizer,\n",
    "                      loss=my_loss_wrapper_fit(myinputs_fit,\n",
    "                                               -1,\n",
    "                                               batch_size=batch_size_theta),\n",
    "                      metrics=['accuracy'])\n",
    "#     model.summary()\n",
    "    print(\"Training theta\")\n",
    "    model_fit.fit(np.array(X_train_theta),\n",
    "                  y_train_theta,\n",
    "                  epochs=1,\n",
    "                  batch_size=batch_size_theta,\n",
    "                  verbose=0,\n",
    "                  callbacks=callbacks)\n",
    "    \n",
    "    print(\"\\n\")\n",
    "\n",
    "    # Detecting oscillatory behavior (oscillations around truth values)\n",
    "    # Then refine fit by decreasing learning rate /10\n",
    "\n",
    "    fit_vals_recent = np.array(fit_vals)[(index_refine[-1]):]\n",
    "\n",
    "    # Get RECENT relative extrema, if it alternates --> oscillatory behavior\n",
    "\n",
    "    extrema = np.concatenate(\n",
    "        (argrelmin(fit_vals_recent)[0], argrelmax(fit_vals_recent)[0]))\n",
    "    extrema = extrema[extrema >= iteration - index_refine[-1] - 20]\n",
    "\n",
    "    if (len(extrema) >= 6):  # If enough are found, refine fit\n",
    "        index_refine = np.append(index_refine, iteration + 1)\n",
    "        print('==============================\\n' +\n",
    "              '====Refining Learning Rate====\\n' +\n",
    "              '==============================\\n')\n",
    "        optimizer.lr = optimizer.lr / 10.\n",
    "\n",
    "        mean_fit = np.array([\n",
    "            np.mean(fit_vals_recent[len(fit_vals_recent) -\n",
    "                                    4:len(fit_vals_recent)])\n",
    "        ])\n",
    "\n",
    "        model_fit.layers[-1].set_weights(mean_fit)\n",
    "    pass"
   ]
  },
  {
   "cell_type": "code",
   "execution_count": 25,
   "metadata": {
    "ExecuteTime": {
     "end_time": "2020-08-08T00:29:31.589972Z",
     "start_time": "2020-08-08T00:29:31.070406Z"
    }
   },
   "outputs": [
    {
     "data": {
      "image/png": "[encoded data removed]",
      "text/plain": [
       "<Figure size 432x288 with 1 Axes>"
      ]
     },
     "metadata": {
      "needs_background": "light"
     },
     "output_type": "display_data"
    }
   ],
   "source": [
    "plt.title(r'$\\alpha_s$ Fit (Multiplicity Only)'+'\\nIterations = {}'.format(iterations))\n",
    "plt.plot(fit_vals, label='Model Fit')\n",
    "plt.hlines(0.16, 0, len(fit_vals), label='Truth')\n",
    "plt.xlabel(\"Iterations\")\n",
    "plt.ylabel(r'$\\theta_{fit}$')\n",
    "plt.legend()\n",
    "# plt.savefig(\n",
    "#     \"$/alpha_s$ Fit (Multiplicity Only)\\nIterations = {:.0f}.png\"\n",
    "#     .format(iterations))\n",
    "plt.show()"
   ]
  },
  {
   "cell_type": "code",
   "execution_count": 26,
   "metadata": {
    "ExecuteTime": {
     "end_time": "2020-08-08T00:29:38.574915Z",
     "start_time": "2020-08-08T00:29:31.597324Z"
    }
   },
   "outputs": [
    {
     "data": {
      "image/png": "[encoded data removed]",
      "text/plain": [
       "<Figure size 432x288 with 1 Axes>"
      ]
     },
     "metadata": {
      "needs_background": "light"
     },
     "output_type": "display_data"
    }
   ],
   "source": [
    "# Zoom into later iterations (finer fit)\n",
    "fit_vals = np.array(fit_vals)\n",
    "plt.title(r'$\\alpha_s$ Fit (Multiplicity Only)'+'\\nIterations {} to {}'.format(index_refine[1], iterations))\n",
    "plt.plot(np.arange(index_refine[1], len(fit_vals)),\n",
    "         fit_vals[index_refine[1]:],\n",
    "         label='Model Fit')\n",
    "plt.hlines(0.16, index_refine[1], len(fit_vals), label='Truth')\n",
    "plt.xlabel(\"Iterations\")\n",
    "plt.ylabel(r'$\\theta_{fit}$')\n",
    "plt.legend()\n",
    "# plt.savefig(\n",
    "#     \"$/alpha_s$ Fit (Multiplicity Only) Zoomed In\\nIterations {:.0f} to {:.0f}.png\".\n",
    "#     format(N, index_refine[1], iterations))\n",
    "plt.show()"
   ]
  }
 ],
 "metadata": {
  "kernelspec": {
   "display_name": "Python 3",
   "language": "python",
   "name": "python3"
  },
  "language_info": {
   "codemirror_mode": {
    "name": "ipython",
    "version": 3
   },
   "file_extension": ".py",
   "mimetype": "text/x-python",
   "name": "python",
   "nbconvert_exporter": "python",
   "pygments_lexer": "ipython3",
   "version": "3.5.2"
  },
  "notify_time": "0",
  "toc": {
   "base_numbering": 1,
   "nav_menu": {},
   "number_sections": false,
   "sideBar": true,
   "skip_h1_title": false,
   "title_cell": "Table of Contents",
   "title_sidebar": "Contents",
   "toc_cell": false,
   "toc_position": {},
   "toc_section_display": true,
   "toc_window_display": true
  }
 },
 "nbformat": 4,
 "nbformat_minor": 2
}
