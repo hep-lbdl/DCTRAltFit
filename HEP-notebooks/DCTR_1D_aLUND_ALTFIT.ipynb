{
 "cells": [
  {
   "cell_type": "markdown",
   "metadata": {},
   "source": [
    "# DCTR Alternative Fitting Algorithm for aLund"
   ]
  },
  {
   "cell_type": "code",
   "execution_count": 1,
   "metadata": {
    "ExecuteTime": {
     "end_time": "2020-06-01T20:31:04.725679Z",
     "start_time": "2020-06-01T20:31:04.719457Z"
    }
   },
   "outputs": [],
   "source": [
    "import os\n",
    "os.environ[\"CUDA_DEVICE_ORDER\"]=\"PCI_BUS_ID\"\n",
    "os.environ[\"CUDA_VISIBLE_DEVICES\"]=\"3\""
   ]
  },
  {
   "cell_type": "code",
   "execution_count": 2,
   "metadata": {
    "ExecuteTime": {
     "end_time": "2020-06-01T20:31:06.684465Z",
     "start_time": "2020-06-01T20:31:05.155413Z"
    }
   },
   "outputs": [
    {
     "name": "stderr",
     "output_type": "stream",
     "text": [
      "Using TensorFlow backend.\n"
     ]
    }
   ],
   "source": [
    "# standard library imports\n",
    "from __future__ import absolute_import, division, print_function\n",
    "\n",
    "import tensorflow as tf\n",
    "import keras as keras\n",
    "import keras.backend as K\n",
    "from keras.callbacks import ModelCheckpoint, EarlyStopping, CSVLogger, LambdaCallback\n",
    "from keras.layers import Lambda\n",
    "from keras.models import Model\n",
    "# standard numerical library imports\n",
    "import numpy as np\n",
    "import scipy as sp\n",
    "\n",
    "# energyflow imports\n",
    "import energyflow as ef\n",
    "from energyflow.archs import PFN\n",
    "from energyflow.utils import data_split, remap_pids, to_categorical\n",
    "\n",
    "import matplotlib.pyplot as plt\n",
    "\n",
    "import inspect"
   ]
  },
  {
   "cell_type": "code",
   "execution_count": 3,
   "metadata": {
    "ExecuteTime": {
     "end_time": "2020-06-01T20:31:06.693399Z",
     "start_time": "2020-06-01T20:31:06.688561Z"
    }
   },
   "outputs": [
    {
     "name": "stdout",
     "output_type": "stream",
     "text": [
      "2.2.4\n",
      "1.15.0\n"
     ]
    }
   ],
   "source": [
    "print(keras.__version__) #2.2.4\n",
    "print(tf.__version__) #1.15.0"
   ]
  },
  {
   "cell_type": "code",
   "execution_count": null,
   "metadata": {},
   "outputs": [],
   "source": []
  },
  {
   "cell_type": "markdown",
   "metadata": {},
   "source": [
    "# Load Data"
   ]
  },
  {
   "cell_type": "markdown",
   "metadata": {},
   "source": [
    "## Utilities"
   ]
  },
  {
   "cell_type": "code",
   "execution_count": 4,
   "metadata": {
    "ExecuteTime": {
     "end_time": "2020-06-01T20:31:07.576609Z",
     "start_time": "2020-06-01T20:31:07.566881Z"
    }
   },
   "outputs": [],
   "source": [
    "# normalize pT and center (y, phi)\n",
    "def normalize(x):\n",
    "    mask = x[:,0] > 0\n",
    "    yphi_avg = np.average(x[mask,1:3], weights=x[mask,0], axis=0)\n",
    "    x[mask,1:3] -= yphi_avg\n",
    "    x[mask,0] /= x[:,0].sum()"
   ]
  },
  {
   "cell_type": "code",
   "execution_count": 5,
   "metadata": {
    "ExecuteTime": {
     "end_time": "2020-06-01T20:31:07.971994Z",
     "start_time": "2020-06-01T20:31:07.964130Z"
    }
   },
   "outputs": [],
   "source": [
    "def preprocess_data(X):\n",
    "    for x in X:\n",
    "        normalize(x)\n",
    "    \n",
    "    # Remap PIDs to unique values in range [0,1]\n",
    "    remap_pids(X, pid_i=3)\n",
    "    return X"
   ]
  },
  {
   "cell_type": "markdown",
   "metadata": {},
   "source": [
    "## Process data"
   ]
  },
  {
   "cell_type": "code",
   "execution_count": 6,
   "metadata": {
    "ExecuteTime": {
     "end_time": "2020-06-01T20:31:08.832142Z",
     "start_time": "2020-06-01T20:31:08.827734Z"
    }
   },
   "outputs": [],
   "source": [
    "# Path to downloaded data from Zenodo\n",
    "data_dir = './data/'"
   ]
  },
  {
   "cell_type": "code",
   "execution_count": 7,
   "metadata": {
    "ExecuteTime": {
     "end_time": "2020-06-01T20:31:09.259033Z",
     "start_time": "2020-06-01T20:31:09.252699Z"
    }
   },
   "outputs": [],
   "source": [
    "default_dataset = np.load(data_dir + 'test1D_default.npz')\n",
    "unknown_dataset = np.load(data_dir + 'test1D_aLund.npz')"
   ]
  },
  {
   "cell_type": "code",
   "execution_count": 8,
   "metadata": {
    "ExecuteTime": {
     "end_time": "2020-06-01T20:33:34.500146Z",
     "start_time": "2020-06-01T20:31:09.719115Z"
    }
   },
   "outputs": [],
   "source": [
    "X_default = preprocess_data(default_dataset['jet'][:,:,:4])\n",
    "X_unknown = preprocess_data(unknown_dataset['jet'][:,:,:4])\n",
    "\n",
    "Y_default = np.zeros_like(X_default[:,0,0])\n",
    "Y_unknown = np.ones_like(X_unknown[:,0,0])"
   ]
  },
  {
   "cell_type": "code",
   "execution_count": 10,
   "metadata": {
    "ExecuteTime": {
     "end_time": "2020-06-01T20:33:44.058688Z",
     "start_time": "2020-06-01T20:33:43.021577Z"
    }
   },
   "outputs": [],
   "source": [
    "X_fit = np.concatenate((X_default, X_unknown), axis = 0)\n",
    "\n",
    "Y_fit = np.concatenate((Y_default, Y_unknown), axis = 0)"
   ]
  },
  {
   "cell_type": "code",
   "execution_count": 11,
   "metadata": {
    "ExecuteTime": {
     "end_time": "2020-06-01T20:33:44.909917Z",
     "start_time": "2020-06-01T20:33:44.062294Z"
    }
   },
   "outputs": [],
   "source": [
    "X_train, X_test, Y_train, Y_test = data_split(X_fit, Y_fit, test=0.5, shuffle=True)"
   ]
  },
  {
   "cell_type": "markdown",
   "metadata": {},
   "source": [
    "# Load Model"
   ]
  },
  {
   "cell_type": "code",
   "execution_count": 12,
   "metadata": {
    "ExecuteTime": {
     "end_time": "2020-06-01T20:33:46.137584Z",
     "start_time": "2020-06-01T20:33:44.913567Z"
    },
    "scrolled": true
   },
   "outputs": [
    {
     "name": "stdout",
     "output_type": "stream",
     "text": [
      "WARNING:tensorflow:From /home/asuresh/.local/lib/python2.7/site-packages/keras/backend/tensorflow_backend.py:517: The name tf.placeholder is deprecated. Please use tf.compat.v1.placeholder instead.\n",
      "\n",
      "WARNING:tensorflow:From /home/asuresh/.local/lib/python2.7/site-packages/keras/backend/tensorflow_backend.py:74: The name tf.get_default_graph is deprecated. Please use tf.compat.v1.get_default_graph instead.\n",
      "\n",
      "WARNING:tensorflow:From /home/asuresh/.local/lib/python2.7/site-packages/keras/backend/tensorflow_backend.py:4138: The name tf.random_uniform is deprecated. Please use tf.random.uniform instead.\n",
      "\n",
      "WARNING:tensorflow:From /home/asuresh/.local/lib/python2.7/site-packages/keras/optimizers.py:790: The name tf.train.Optimizer is deprecated. Please use tf.compat.v1.train.Optimizer instead.\n",
      "\n",
      "WARNING:tensorflow:From /home/asuresh/.local/lib/python2.7/site-packages/keras/backend/tensorflow_backend.py:3295: The name tf.log is deprecated. Please use tf.math.log instead.\n",
      "\n",
      "WARNING:tensorflow:From /home/asuresh/.local/lib/python2.7/site-packages/keras/backend/tensorflow_backend.py:174: The name tf.get_default_session is deprecated. Please use tf.compat.v1.get_default_session instead.\n",
      "\n",
      "WARNING:tensorflow:From /home/asuresh/.local/lib/python2.7/site-packages/keras/backend/tensorflow_backend.py:181: The name tf.ConfigProto is deprecated. Please use tf.compat.v1.ConfigProto instead.\n",
      "\n",
      "WARNING:tensorflow:From /home/asuresh/.local/lib/python2.7/site-packages/keras/backend/tensorflow_backend.py:186: The name tf.Session is deprecated. Please use tf.compat.v1.Session instead.\n",
      "\n",
      "WARNING:tensorflow:From /home/asuresh/.local/lib/python2.7/site-packages/keras/backend/tensorflow_backend.py:190: The name tf.global_variables is deprecated. Please use tf.compat.v1.global_variables instead.\n",
      "\n",
      "WARNING:tensorflow:From /home/asuresh/.local/lib/python2.7/site-packages/keras/backend/tensorflow_backend.py:199: The name tf.is_variable_initialized is deprecated. Please use tf.compat.v1.is_variable_initialized instead.\n",
      "\n",
      "WARNING:tensorflow:From /home/asuresh/.local/lib/python2.7/site-packages/keras/backend/tensorflow_backend.py:206: The name tf.variables_initializer is deprecated. Please use tf.compat.v1.variables_initializer instead.\n",
      "\n"
     ]
    }
   ],
   "source": [
    "# network architecture parameters\n",
    "Phi_sizes = (100,100, 128)\n",
    "F_sizes = (100,100, 100)\n",
    "\n",
    "dctr = PFN(input_dim=7, \n",
    "           Phi_sizes=Phi_sizes, F_sizes=F_sizes,\n",
    "           summary=False)\n",
    "\n",
    "# load model from saved file\n",
    "# model trained in original alphaS notebook\n",
    "dctr.model.load_weights('./saved_models/DCTR_ee_dijets_1D_aLund.h5') #ORIGINAL DCTR"
   ]
  },
  {
   "cell_type": "markdown",
   "metadata": {},
   "source": [
    "# Fitting"
   ]
  },
  {
   "cell_type": "markdown",
   "metadata": {},
   "source": [
    "# Defining reweighting functions\n",
    "\n",
    "$w(x_{T,i},\\theta)=((f(x_{T,i},\\theta)/(1-f(x_{T,i},\\theta)))$\n",
    "\n",
    "Takes observable from simulation ${\\bf \\theta_0}$ and weights it to observable from data (target) ${\\bf \\theta_1}$."
   ]
  },
  {
   "cell_type": "code",
   "execution_count": 13,
   "metadata": {
    "ExecuteTime": {
     "end_time": "2020-06-01T20:33:46.147199Z",
     "start_time": "2020-06-01T20:33:46.141467Z"
    }
   },
   "outputs": [],
   "source": [
    "# Defining reweighting functions\n",
    "\n",
    "def reweight(d): #from NN (DCTR)\n",
    "    f = dctr.model(d) # Use dctr.model.predict_on_batch(d) when using outside training\n",
    "    weights = (f[:,1])/(f[:,0])\n",
    "    weights = K.expand_dims(weights, axis = 1)\n",
    "    return weights"
   ]
  },
  {
   "cell_type": "code",
   "execution_count": 14,
   "metadata": {
    "ExecuteTime": {
     "end_time": "2020-06-01T20:33:46.290726Z",
     "start_time": "2020-06-01T20:33:46.150944Z"
    }
   },
   "outputs": [],
   "source": [
    "\n",
    "model = PFN(input_dim=4, \n",
    "            Phi_sizes=Phi_sizes, F_sizes=F_sizes, \n",
    "            output_dim = 1, output_act = 'sigmoid',\n",
    "            summary=False)\n",
    "myinputs = model.inputs[0]\n",
    "batch_size = 1000\n",
    "\n",
    "earlystopping = EarlyStopping(patience = 5,\n",
    "                              restore_best_weights=True)\n",
    "\n",
    "def my_loss_wrapper(inputs, val=0):\n",
    "    x  = inputs #x.shape = (?,?,4)\n",
    "    #Reshaping to correct format\n",
    "    x = tf.gather(x, np.arange(batch_size))\n",
    "    x = tf.gather(x, np.arange(51), axis = 1) # Axis corressponds to (max) number of particles in each event\n",
    "\n",
    "    theta_prime = [0.1365, val, 0.217] # [alphaS, aLund, probStuUD]\n",
    "    \n",
    "    # zip theta_prime to each input particle (but not to the padded rows)\n",
    "    concat_input_and_params = tf.where(K.abs(x[...,0])>0, #checks if pT != 0, which means we have a particle\n",
    "                                   K.ones_like(x[...,0]),\n",
    "                                   K.zeros_like(x[...,0]))\n",
    "    \n",
    "    concat_input_and_params = theta_prime*K.stack([concat_input_and_params, \n",
    "                                                   concat_input_and_params, \n",
    "                                                   concat_input_and_params], \n",
    "                                                  axis = -1)\n",
    "    \n",
    "    data = K.concatenate([x, concat_input_and_params], -1)\n",
    "    # print(data.shape) # = (batch_size, 51, 7), correct format to pass to DCTR\n",
    "    w = reweight(data) # NN reweight\n",
    "    \n",
    "    def my_loss(y_true,y_pred):\n",
    "        # Mean-Squared Loss:\n",
    "        #t_loss = (y_true)*(y_true - y_pred)**2 +(w)*(1-y_true)*(y_true - y_pred)**2\n",
    "        \n",
    "        # Categorical Cross-Entropy Loss\n",
    "        \n",
    "        #Clip the prediction value to prevent NaN's and Inf's\n",
    "        \n",
    "        epsilon = K.epsilon()\n",
    "        y_pred = K.clip(y_pred, epsilon, 1. - epsilon)\n",
    "        \n",
    "        t_loss = -((y_true)*K.log(y_pred) +w*(1-y_true)*K.log(1-y_pred))\n",
    "        \n",
    "        return K.mean(t_loss)\n",
    "    return my_loss"
   ]
  },
  {
   "cell_type": "code",
   "execution_count": 15,
   "metadata": {
    "ExecuteTime": {
     "end_time": "2020-06-01T23:39:58.418558Z",
     "start_time": "2020-06-01T20:33:46.294489Z"
    },
    "scrolled": true
   },
   "outputs": [
    {
     "name": "stdout",
     "output_type": "stream",
     "text": [
      "trainnig theta = : 0.5\n",
      "WARNING:tensorflow:From <ipython-input-14-ec90c485163b>:23: where (from tensorflow.python.ops.array_ops) is deprecated and will be removed in a future version.\n",
      "Instructions for updating:\n",
      "Use tf.where in 2.0, which has the same broadcast rule as np.where\n",
      "WARNING:tensorflow:From /home/asuresh/.local/lib/python2.7/site-packages/keras/backend/tensorflow_backend.py:986: The name tf.assign_add is deprecated. Please use tf.compat.v1.assign_add instead.\n",
      "\n",
      "WARNING:tensorflow:From /home/asuresh/.local/lib/python2.7/site-packages/keras/backend/tensorflow_backend.py:973: The name tf.assign is deprecated. Please use tf.compat.v1.assign instead.\n",
      "\n",
      "Train on 900000 samples, validate on 900000 samples\n",
      "Epoch 1/50\n",
      "900000/900000 [==============================] - 133s 147us/step - loss: 0.6986 - acc: 0.5072 - val_loss: 0.6929 - val_acc: 0.5099\n",
      "Epoch 2/50\n",
      "900000/900000 [==============================] - 130s 145us/step - loss: 0.6930 - acc: 0.5089 - val_loss: 0.6927 - val_acc: 0.5094\n",
      "Epoch 3/50\n",
      "900000/900000 [==============================] - 129s 143us/step - loss: 0.6926 - acc: 0.5104 - val_loss: 0.6928 - val_acc: 0.5084\n",
      "Epoch 4/50\n",
      "900000/900000 [==============================] - 128s 142us/step - loss: 0.6924 - acc: 0.5106 - val_loss: 0.6923 - val_acc: 0.5111\n",
      "Epoch 5/50\n",
      "900000/900000 [==============================] - 128s 142us/step - loss: 0.6924 - acc: 0.5109 - val_loss: 0.6922 - val_acc: 0.5107\n",
      "Epoch 6/50\n",
      "900000/900000 [==============================] - 128s 142us/step - loss: 0.6923 - acc: 0.5106 - val_loss: 0.6922 - val_acc: 0.5112\n",
      "Epoch 7/50\n",
      "900000/900000 [==============================] - 128s 142us/step - loss: 0.6923 - acc: 0.5109 - val_loss: 0.6922 - val_acc: 0.5113\n",
      "Epoch 8/50\n",
      "900000/900000 [==============================] - 128s 142us/step - loss: 0.6923 - acc: 0.5112 - val_loss: 0.6923 - val_acc: 0.5102\n",
      "Epoch 9/50\n",
      "900000/900000 [==============================] - 128s 142us/step - loss: 0.6923 - acc: 0.5114 - val_loss: 0.6922 - val_acc: 0.5113\n",
      "Epoch 10/50\n",
      "900000/900000 [==============================] - 128s 142us/step - loss: 0.6922 - acc: 0.5112 - val_loss: 0.6923 - val_acc: 0.5105\n",
      "Epoch 11/50\n",
      "900000/900000 [==============================] - 128s 142us/step - loss: 0.6922 - acc: 0.5115 - val_loss: 0.6923 - val_acc: 0.5106\n",
      "Epoch 12/50\n",
      "900000/900000 [==============================] - 128s 142us/step - loss: 0.6922 - acc: 0.5111 - val_loss: 0.6922 - val_acc: 0.5118\n",
      "Epoch 13/50\n",
      "900000/900000 [==============================] - 128s 142us/step - loss: 0.6921 - acc: 0.5114 - val_loss: 0.6921 - val_acc: 0.5117\n",
      "Epoch 14/50\n",
      "900000/900000 [==============================] - 128s 142us/step - loss: 0.6921 - acc: 0.5117 - val_loss: 0.6921 - val_acc: 0.5119\n",
      "Epoch 15/50\n",
      "900000/900000 [==============================] - 128s 142us/step - loss: 0.6921 - acc: 0.5121 - val_loss: 0.6929 - val_acc: 0.5097\n",
      "Epoch 16/50\n",
      "900000/900000 [==============================] - 128s 142us/step - loss: 0.6921 - acc: 0.5124 - val_loss: 0.6921 - val_acc: 0.5120\n",
      "Epoch 17/50\n",
      "900000/900000 [==============================] - 128s 142us/step - loss: 0.6920 - acc: 0.5124 - val_loss: 0.6922 - val_acc: 0.5111\n",
      "Epoch 18/50\n",
      "900000/900000 [==============================] - 128s 142us/step - loss: 0.6921 - acc: 0.5118 - val_loss: 0.6922 - val_acc: 0.5122\n",
      "Epoch 19/50\n",
      "900000/900000 [==============================] - 128s 142us/step - loss: 0.6920 - acc: 0.5120 - val_loss: 0.6921 - val_acc: 0.5120\n",
      "Epoch 20/50\n",
      "900000/900000 [==============================] - 129s 143us/step - loss: 0.6920 - acc: 0.5123 - val_loss: 0.6922 - val_acc: 0.5118\n",
      "Epoch 21/50\n",
      "900000/900000 [==============================] - 128s 142us/step - loss: 0.6920 - acc: 0.5125 - val_loss: 0.6922 - val_acc: 0.5111\n",
      "trainnig theta = : 0.55\n",
      "Train on 900000 samples, validate on 900000 samples\n",
      "Epoch 1/50\n",
      "900000/900000 [==============================] - 128s 142us/step - loss: 0.6940 - acc: 0.5121 - val_loss: 0.6940 - val_acc: 0.5121\n",
      "Epoch 2/50\n",
      "900000/900000 [==============================] - 127s 141us/step - loss: 0.6940 - acc: 0.5124 - val_loss: 0.6941 - val_acc: 0.5111\n",
      "Epoch 3/50\n",
      "900000/900000 [==============================] - 125s 138us/step - loss: 0.6939 - acc: 0.5124 - val_loss: 0.6940 - val_acc: 0.5124\n",
      "Epoch 4/50\n",
      "900000/900000 [==============================] - 125s 139us/step - loss: 0.6939 - acc: 0.5130 - val_loss: 0.6940 - val_acc: 0.5121\n",
      "Epoch 6/50\n",
      "900000/900000 [==============================] - 125s 138us/step - loss: 0.6939 - acc: 0.5128 - val_loss: 0.6942 - val_acc: 0.5119\n",
      "Epoch 7/50\n",
      "900000/900000 [==============================] - 125s 139us/step - loss: 0.6939 - acc: 0.5128 - val_loss: 0.6941 - val_acc: 0.5117\n",
      "Epoch 8/50\n",
      "900000/900000 [==============================] - 125s 139us/step - loss: 0.6938 - acc: 0.5133 - val_loss: 0.6942 - val_acc: 0.5115\n",
      "Epoch 9/50\n",
      "900000/900000 [==============================] - 125s 139us/step - loss: 0.6938 - acc: 0.5127 - val_loss: 0.6941 - val_acc: 0.5117\n",
      "Epoch 10/50\n",
      "900000/900000 [==============================] - 125s 139us/step - loss: 0.6938 - acc: 0.5133 - val_loss: 0.6941 - val_acc: 0.5119\n",
      "trainnig theta = : 0.6\n",
      "Train on 900000 samples, validate on 900000 samples\n",
      "Epoch 1/50\n",
      "900000/900000 [==============================] - 129s 143us/step - loss: 0.6946 - acc: 0.5121 - val_loss: 0.6947 - val_acc: 0.5117\n",
      "Epoch 2/50\n",
      "900000/900000 [==============================] - 127s 141us/step - loss: 0.6946 - acc: 0.5126 - val_loss: 0.6947 - val_acc: 0.5115\n",
      "Epoch 3/50\n",
      "900000/900000 [==============================] - 124s 138us/step - loss: 0.6945 - acc: 0.5130 - val_loss: 0.6947 - val_acc: 0.5124\n",
      "Epoch 4/50\n",
      "900000/900000 [==============================] - 124s 138us/step - loss: 0.6945 - acc: 0.5127 - val_loss: 0.6948 - val_acc: 0.5122\n",
      "Epoch 5/50\n",
      "900000/900000 [==============================] - 124s 138us/step - loss: 0.6945 - acc: 0.5130 - val_loss: 0.6948 - val_acc: 0.5113\n",
      "Epoch 6/50\n",
      "900000/900000 [==============================] - 125s 138us/step - loss: 0.6945 - acc: 0.5132 - val_loss: 0.6947 - val_acc: 0.5121\n",
      "Epoch 7/50\n",
      "900000/900000 [==============================] - 124s 138us/step - loss: 0.6945 - acc: 0.5131 - val_loss: 0.6948 - val_acc: 0.5120\n",
      "Epoch 8/50\n",
      "900000/900000 [==============================] - 124s 138us/step - loss: 0.6945 - acc: 0.5134 - val_loss: 0.6947 - val_acc: 0.5124\n",
      "Epoch 9/50\n",
      "900000/900000 [==============================] - 125s 139us/step - loss: 0.6944 - acc: 0.5138 - val_loss: 0.6947 - val_acc: 0.5125\n",
      "Epoch 10/50\n",
      "900000/900000 [==============================] - 125s 138us/step - loss: 0.6944 - acc: 0.5136 - val_loss: 0.6949 - val_acc: 0.5119\n",
      "Epoch 11/50\n",
      "900000/900000 [==============================] - 125s 139us/step - loss: 0.6944 - acc: 0.5138 - val_loss: 0.6949 - val_acc: 0.5122\n",
      "Epoch 12/50\n",
      "900000/900000 [==============================] - 124s 138us/step - loss: 0.6944 - acc: 0.5136 - val_loss: 0.6948 - val_acc: 0.5126\n",
      "Epoch 13/50\n",
      "900000/900000 [==============================] - 125s 139us/step - loss: 0.6944 - acc: 0.5137 - val_loss: 0.6949 - val_acc: 0.5124\n",
      "Epoch 14/50\n",
      "900000/900000 [==============================] - 125s 138us/step - loss: 0.6943 - acc: 0.5143 - val_loss: 0.6947 - val_acc: 0.5122\n",
      "trainnig theta = : 0.65\n",
      "Train on 900000 samples, validate on 900000 samples\n",
      "Epoch 1/50\n",
      "900000/900000 [==============================] - 132s 147us/step - loss: 0.6930 - acc: 0.5134 - val_loss: 0.6933 - val_acc: 0.5127\n",
      "Epoch 2/50\n",
      "900000/900000 [==============================] - 130s 144us/step - loss: 0.6930 - acc: 0.5137 - val_loss: 0.6934 - val_acc: 0.5118\n",
      "Epoch 3/50\n",
      "900000/900000 [==============================] - 128s 142us/step - loss: 0.6930 - acc: 0.5135 - val_loss: 0.6934 - val_acc: 0.5115\n",
      "Epoch 4/50\n",
      "900000/900000 [==============================] - 127s 141us/step - loss: 0.6930 - acc: 0.5138 - val_loss: 0.6936 - val_acc: 0.5105\n",
      "Epoch 5/50\n",
      "900000/900000 [==============================] - 127s 141us/step - loss: 0.6930 - acc: 0.5142 - val_loss: 0.6934 - val_acc: 0.5122\n",
      "Epoch 6/50\n",
      "900000/900000 [==============================] - 126s 140us/step - loss: 0.6929 - acc: 0.5141 - val_loss: 0.6934 - val_acc: 0.5114\n",
      "trainnig theta = : 0.7\n",
      "Train on 900000 samples, validate on 900000 samples\n",
      "Epoch 1/50\n"
     ]
    },
    {
     "name": "stdout",
     "output_type": "stream",
     "text": [
      "900000/900000 [==============================] - 132s 146us/step - loss: 0.6907 - acc: 0.5132 - val_loss: 0.6909 - val_acc: 0.5114\n",
      "Epoch 2/50\n",
      "900000/900000 [==============================] - 129s 143us/step - loss: 0.6906 - acc: 0.5136 - val_loss: 0.6909 - val_acc: 0.5115\n",
      "Epoch 3/50\n",
      "900000/900000 [==============================] - 127s 141us/step - loss: 0.6906 - acc: 0.5135 - val_loss: 0.6909 - val_acc: 0.5108\n",
      "Epoch 4/50\n",
      "900000/900000 [==============================] - 127s 141us/step - loss: 0.6906 - acc: 0.5128 - val_loss: 0.6909 - val_acc: 0.5086\n",
      "Epoch 5/50\n",
      "900000/900000 [==============================] - 127s 141us/step - loss: 0.6905 - acc: 0.5143 - val_loss: 0.6911 - val_acc: 0.5100\n",
      "Epoch 6/50\n",
      "900000/900000 [==============================] - 126s 140us/step - loss: 0.6905 - acc: 0.5131 - val_loss: 0.6910 - val_acc: 0.5092\n",
      "Epoch 7/50\n",
      "900000/900000 [==============================] - 125s 139us/step - loss: 0.6905 - acc: 0.5140 - val_loss: 0.6909 - val_acc: 0.5109\n",
      "trainnig theta = : 0.75\n",
      "Train on 900000 samples, validate on 900000 samples\n",
      "Epoch 1/50\n",
      "900000/900000 [==============================] - 130s 145us/step - loss: 0.6887 - acc: 0.5110 - val_loss: 0.6891 - val_acc: 0.5068\n",
      "Epoch 2/50\n",
      "900000/900000 [==============================] - 127s 141us/step - loss: 0.6886 - acc: 0.5113 - val_loss: 0.6890 - val_acc: 0.5061\n",
      "Epoch 3/50\n",
      "900000/900000 [==============================] - 125s 139us/step - loss: 0.6886 - acc: 0.5107 - val_loss: 0.6891 - val_acc: 0.5053\n",
      "Epoch 4/50\n",
      "900000/900000 [==============================] - 125s 139us/step - loss: 0.6886 - acc: 0.5115 - val_loss: 0.6890 - val_acc: 0.5043\n",
      "Epoch 5/50\n",
      "900000/900000 [==============================] - 125s 139us/step - loss: 0.6886 - acc: 0.5112 - val_loss: 0.6890 - val_acc: 0.5064\n",
      "Epoch 6/50\n",
      "900000/900000 [==============================] - 125s 139us/step - loss: 0.6885 - acc: 0.5117 - val_loss: 0.6890 - val_acc: 0.5047\n",
      "Epoch 7/50\n",
      "900000/900000 [==============================] - 125s 139us/step - loss: 0.6885 - acc: 0.5123 - val_loss: 0.6891 - val_acc: 0.5053\n",
      "trainnig theta = : 0.8\n",
      "Train on 900000 samples, validate on 900000 samples\n",
      "Epoch 1/50\n",
      "900000/900000 [==============================] - 127s 141us/step - loss: 0.6869 - acc: 0.5090 - val_loss: 0.6873 - val_acc: 0.5059\n",
      "Epoch 2/50\n",
      "900000/900000 [==============================] - 125s 139us/step - loss: 0.6869 - acc: 0.5094 - val_loss: 0.6873 - val_acc: 0.5027\n",
      "Epoch 3/50\n",
      "900000/900000 [==============================] - 124s 138us/step - loss: 0.6868 - acc: 0.5101 - val_loss: 0.6872 - val_acc: 0.5041\n",
      "Epoch 4/50\n",
      "900000/900000 [==============================] - 125s 138us/step - loss: 0.6868 - acc: 0.5094 - val_loss: 0.6873 - val_acc: 0.5027\n",
      "Epoch 5/50\n",
      "900000/900000 [==============================] - 124s 138us/step - loss: 0.6868 - acc: 0.5098 - val_loss: 0.6874 - val_acc: 0.5041\n",
      "Epoch 6/50\n",
      "900000/900000 [==============================] - 124s 138us/step - loss: 0.6868 - acc: 0.5095 - val_loss: 0.6873 - val_acc: 0.5027\n",
      "Epoch 7/50\n",
      "900000/900000 [==============================] - 124s 138us/step - loss: 0.6867 - acc: 0.5096 - val_loss: 0.6874 - val_acc: 0.5036\n",
      "Epoch 8/50\n",
      "900000/900000 [==============================] - 124s 138us/step - loss: 0.6866 - acc: 0.5109 - val_loss: 0.6874 - val_acc: 0.5047\n",
      "trainnig theta = : 0.8500000000000001\n",
      "Train on 900000 samples, validate on 900000 samples\n",
      "Epoch 1/50\n",
      "900000/900000 [==============================] - 131s 146us/step - loss: 0.6859 - acc: 0.5085 - val_loss: 0.6864 - val_acc: 0.5011\n",
      "Epoch 2/50\n",
      "900000/900000 [==============================] - 129s 144us/step - loss: 0.6859 - acc: 0.5088 - val_loss: 0.6867 - val_acc: 0.5012\n",
      "Epoch 3/50\n",
      "900000/900000 [==============================] - 130s 144us/step - loss: 0.6858 - acc: 0.5087 - val_loss: 0.6863 - val_acc: 0.5026\n",
      "Epoch 4/50\n",
      "900000/900000 [==============================] - 129s 144us/step - loss: 0.6858 - acc: 0.5094 - val_loss: 0.6864 - val_acc: 0.5034\n",
      "Epoch 5/50\n",
      "900000/900000 [==============================] - 128s 142us/step - loss: 0.6857 - acc: 0.5099 - val_loss: 0.6865 - val_acc: 0.5021\n",
      "Epoch 6/50\n",
      "900000/900000 [==============================] - 127s 141us/step - loss: 0.6857 - acc: 0.5103 - val_loss: 0.6865 - val_acc: 0.5029\n",
      "Epoch 7/50\n",
      "900000/900000 [==============================] - 127s 141us/step - loss: 0.6856 - acc: 0.5114 - val_loss: 0.6866 - val_acc: 0.5025\n",
      "Epoch 8/50\n",
      "900000/900000 [==============================] - 127s 142us/step - loss: 0.6856 - acc: 0.5105 - val_loss: 0.6865 - val_acc: 0.5014\n",
      "trainnig theta = : 0.9\n",
      "Train on 900000 samples, validate on 900000 samples\n",
      "Epoch 1/50\n",
      "900000/900000 [==============================] - 130s 144us/step - loss: 0.6854 - acc: 0.5087 - val_loss: 0.6861 - val_acc: 0.5015\n",
      "Epoch 2/50\n",
      "900000/900000 [==============================] - 127s 141us/step - loss: 0.6853 - acc: 0.5095 - val_loss: 0.6861 - val_acc: 0.5014\n",
      "Epoch 3/50\n",
      "900000/900000 [==============================] - 127s 141us/step - loss: 0.6853 - acc: 0.5093 - val_loss: 0.6863 - val_acc: 0.5040\n",
      "Epoch 4/50\n",
      "900000/900000 [==============================] - 126s 140us/step - loss: 0.6852 - acc: 0.5094 - val_loss: 0.6866 - val_acc: 0.5043\n",
      "Epoch 5/50\n",
      "900000/900000 [==============================] - 127s 141us/step - loss: 0.6852 - acc: 0.5097 - val_loss: 0.6862 - val_acc: 0.5028\n",
      "Epoch 6/50\n",
      "900000/900000 [==============================] - 129s 143us/step - loss: 0.6852 - acc: 0.5100 - val_loss: 0.6863 - val_acc: 0.5006\n",
      "Epoch 7/50\n",
      "900000/900000 [==============================] - 129s 143us/step - loss: 0.6851 - acc: 0.5107 - val_loss: 0.6862 - val_acc: 0.5025\n",
      "[0.691980543533961, 0.6937870417700873, 0.6943309132920371, 0.6929433571630054, 0.6904906568924586, 0.6884784617026647, 0.686649022632175, 0.6855657130479813, 0.6850964664088355]\n"
     ]
    }
   ],
   "source": [
    "thetas = np.linspace(0.50, 0.90, 9)  #iterating across possible aLund values\n",
    "lvals = []\n",
    "vlvals = []\n",
    "\n",
    "for theta in thetas:\n",
    "    print(\"trainnig theta = :\", theta)\n",
    "    model.model.compile(optimizer='adam',\n",
    "                        loss=my_loss_wrapper(myinputs, theta),\n",
    "                        metrics=['accuracy'])\n",
    "    history = model.fit(X_train,\n",
    "                        Y_train,\n",
    "                        epochs=50,\n",
    "                        batch_size=batch_size,\n",
    "                        validation_data=(X_test, Y_test),\n",
    "                        verbose=1,\n",
    "                        callbacks=[earlystopping])\n",
    "    lvals += [np.min(history.history['loss'])]\n",
    "    vlvals += [np.min(history.history['val_loss'])]\n",
    "    print\n",
    "    pass\n",
    "print(lvals)"
   ]
  },
  {
   "cell_type": "code",
   "execution_count": 19,
   "metadata": {
    "ExecuteTime": {
     "end_time": "2020-06-01T23:49:40.848981Z",
     "start_time": "2020-06-01T23:49:40.587418Z"
    }
   },
   "outputs": [
    {
     "data": {
      "image/png": "[encoded data removed]",
      "text/plain": [
       "<Figure size 432x288 with 1 Axes>"
      ]
     },
     "metadata": {},
     "output_type": "display_data"
    }
   ],
   "source": [
    "plt.plot(thetas,lvals, label = 'lvals')\n",
    "plt.plot(thetas,vlvals, label = 'vlvals')\n",
    "plt.vlines(0.80, ymin = np.min(lvals), ymax = np.max(lvals), label = 'Truth')\n",
    "plt.xlabel(r'$\\theta$')\n",
    "plt.ylabel('Loss')\n",
    "plt.legend()\n",
    "plt.title(\"aLund vs. Loss (g FULLY TRAINED)\")\n",
    "plt.savefig(\"aLund vs. Loss (g FULLY TRAINED).png\")\n",
    "plt.show()"
   ]
  },
  {
   "cell_type": "markdown",
   "metadata": {},
   "source": [
    "# Tuning with Gradient Descent"
   ]
  },
  {
   "cell_type": "code",
   "execution_count": null,
   "metadata": {
    "ExecuteTime": {
     "end_time": "2020-05-31T03:26:06.393777Z",
     "start_time": "2020-05-31T03:26:05.603Z"
    }
   },
   "outputs": [],
   "source": [
    "print_weights = LambdaCallback(on_epoch_end=lambda batch, logs: print(\". theta fit = \",model_fit.layers[-1].get_weights()[-1]))\n",
    "theta_fit_init = 0.68\n",
    "fit_vals = [theta_fit_init]\n",
    "append_fit_value = LambdaCallback(on_epoch_end=lambda batch, logs: \n",
    "                                               fit_vals.append(model_fit.layers[-1].get_weights()[0]))\n",
    "\n",
    "callbacks = [print_weights, append_fit_value]"
   ]
  },
  {
   "cell_type": "code",
   "execution_count": null,
   "metadata": {
    "ExecuteTime": {
     "end_time": "2020-05-31T03:26:06.395012Z",
     "start_time": "2020-05-31T03:26:05.604Z"
    },
    "scrolled": true
   },
   "outputs": [],
   "source": [
    "PFN_model = PFN(input_dim=4, \n",
    "            Phi_sizes=Phi_sizes, F_sizes=F_sizes, \n",
    "            output_dim = 1, output_act = 'sigmoid',\n",
    "            summary=False)\n",
    "myinputs_fit = PFN_model.inputs[0]\n",
    "\n",
    "identity = Lambda(lambda x: x + 0)(PFN_model.output)\n",
    "\n",
    "model_fit = Model(inputs=myinputs_fit, outputs=identity)\n",
    "model_fit.layers[np.size(model_fit.layers)-1].add_weight(name=\"thetaX\",shape=list(),\n",
    "                                                         initializer = keras.initializers.Constant(value = theta_fit_init),\n",
    "                                                         trainable=True)\n",
    "model_fit.summary()\n",
    "\n",
    "train_theta = False\n",
    "\n",
    "batch_size = 1000\n",
    "lr = 5e-7 #smaller learning rate yields better precision\n",
    "epochs = 60 #but requires more epochs to train\n",
    "optimizer = keras.optimizers.Adam(lr=lr)\n",
    "\n",
    "def my_loss_wrapper_fit(inputs,mysign = 1):\n",
    "    x  = inputs #x.shape = (?,?,4)\n",
    "    # Reshaping to correct format\n",
    "    x = tf.gather(x, np.arange(batch_size))\n",
    "    x = tf.gather(x, np.arange(51), axis = 1) # Axis corressponds to (max) number of particles in each event\n",
    "    \n",
    "    \n",
    "    \n",
    "    #Getting theta0:\n",
    "    if train_theta == False:\n",
    "        theta0 = model_fit.layers[-1].get_weights()[0] #when not training theta, fetch as np array\n",
    "        \n",
    "    else:\n",
    "        theta0 = model_fit.trainable_weights[-1] #when training theta, fetch as tf.Variable\n",
    "        \n",
    "    theta_prime = [0.1365, theta0, 0.217]\n",
    "    \n",
    "    # Add MC params to each input particle (but not to the padded rows)\n",
    "    concat_input_and_params = tf.where(K.abs(x[...,0])>0,\n",
    "                                   K.ones_like(x[...,0]),\n",
    "                                   K.zeros_like(x[...,0]))\n",
    "    \n",
    "    concat_input_and_params = theta_prime*K.stack([concat_input_and_params, concat_input_and_params, concat_input_and_params], axis = -1)\n",
    "    \n",
    "    data = K.concatenate([x, concat_input_and_params], -1)\n",
    "    # print(data.shape) # = (batch_size, 51, 7), correct format to pass to DCTR\n",
    "    w = reweight(data) # NN reweight\n",
    "    \n",
    "    def my_loss(y_true,y_pred):\n",
    "        # Mean Squared Loss\n",
    "        t_loss = mysign*(y_true*(y_true - y_pred)**2+(w)*(1.-y_true)*(y_true - y_pred)**2)\n",
    "        # Categorical Cross-Entropy Loss\n",
    "        \n",
    "        #Clip the prediction value to prevent NaN's and Inf's\n",
    "        '''\n",
    "        epsilon = K.epsilon()\n",
    "        y_pred = K.clip(y_pred, epsilon, 1. - epsilon)\n",
    "        \n",
    "        t_loss = -mysign*((y_true)*K.log(y_pred) +w*(1-y_true)*K.log(1-y_pred))\n",
    "        '''\n",
    "        return K.mean(t_loss)\n",
    "    return my_loss\n",
    "    \n",
    "for k in range(epochs):    \n",
    "    print(\"Epoch: \",k )\n",
    "    for i in range(len(model_fit.layers)-1):\n",
    "        train_theta = False\n",
    "        model_fit.layers[i].trainable = True\n",
    "        pass\n",
    "    train_theta = False\n",
    "    model_fit.layers[-1].trainable = False\n",
    "    #model.summary()    \n",
    "    \n",
    "    model_fit.compile(optimizer='adam', loss=my_loss_wrapper_fit(myinputs_fit,1),metrics=['accuracy'])\n",
    "    print(\"Training g\")\n",
    "    model_fit.fit(X_train, Y_train, epochs=1, batch_size=batch_size,validation_data=(X_test, Y_test),verbose=1,callbacks=callbacks)\n",
    "\n",
    "    #Now, fix g and train \\theta.\n",
    "\n",
    "    for i in range(len(model_fit.layers)-1):\n",
    "        model_fit.layers[i].trainable = False\n",
    "        pass    \n",
    "    train_theta = True\n",
    "    model_fit.layers[-1].trainable = True\n",
    "    \n",
    "    model_fit.compile(optimizer=optimizer, loss=my_loss_wrapper_fit(myinputs_fit,-1),metrics=['accuracy'])\n",
    "    #model.summary()\n",
    "    print(\"Training theta\")\n",
    "    model_fit.fit(X_train, Y_train, epochs=1, batch_size=batch_size,validation_data=(X_test, Y_test),verbose=1,callbacks=callbacks)    \n",
    "    pass\n",
    "    "
   ]
  },
  {
   "cell_type": "code",
   "execution_count": null,
   "metadata": {
    "ExecuteTime": {
     "end_time": "2020-05-31T03:26:06.396232Z",
     "start_time": "2020-05-31T03:26:05.606Z"
    }
   },
   "outputs": [],
   "source": [
    "plt.plot(fit_vals, label='Model Fit')\n",
    "plt.hlines(0.80, 0, len(fit_vals), label = 'Truth')\n",
    "plt.xlabel(\"Epochs\")\n",
    "plt.ylabel(r'$\\theta_{fit}$')\n",
    "plt.legend()\n",
    "plt.title(\"aLund Fit \\nN = {:.0e}, learning_rate = {:.0e}\".format(len(X_default), lr))\n",
    "plt.savefig(\"aLund Fit\\nN = {:.0e}, learning_rate = {:.0e}.png\".format(len(X_default), 5e-7))\n",
    "plt.show()\n"
   ]
  },
  {
   "cell_type": "code",
   "execution_count": null,
   "metadata": {},
   "outputs": [],
   "source": []
  },
  {
   "cell_type": "code",
   "execution_count": null,
   "metadata": {},
   "outputs": [],
   "source": []
  },
  {
   "cell_type": "code",
   "execution_count": null,
   "metadata": {},
   "outputs": [],
   "source": []
  }
 ],
 "metadata": {
  "kernelspec": {
   "display_name": "Python 3",
   "language": "python",
   "name": "python3"
  },
  "language_info": {
   "codemirror_mode": {
    "name": "ipython",
    "version": 2
   },
   "file_extension": ".py",
   "mimetype": "text/x-python",
   "name": "python",
   "nbconvert_exporter": "python",
   "pygments_lexer": "ipython2",
   "version": "2.7.12"
  },
  "notify_time": "30",
  "toc": {
   "base_numbering": 1,
   "nav_menu": {},
   "number_sections": false,
   "sideBar": true,
   "skip_h1_title": false,
   "title_cell": "Table of Contents",
   "title_sidebar": "Contents",
   "toc_cell": false,
   "toc_position": {},
   "toc_section_display": true,
   "toc_window_display": false
  }
 },
 "nbformat": 4,
 "nbformat_minor": 2
}
