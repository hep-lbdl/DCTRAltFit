{
 "cells": [
  {
   "cell_type": "code",
   "execution_count": 1,
   "metadata": {
    "ExecuteTime": {
     "end_time": "2020-08-15T16:51:01.547565Z",
     "start_time": "2020-08-15T16:51:01.541203Z"
    }
   },
   "outputs": [],
   "source": [
    "import os\n",
    "os.environ[\"CUDA_DEVICE_ORDER\"] = \"PCI_BUS_ID\"\n",
    "os.environ[\"CUDA_VISIBLE_DEVICES\"] = \"0\""
   ]
  },
  {
   "cell_type": "code",
   "execution_count": 2,
   "metadata": {
    "ExecuteTime": {
     "end_time": "2020-08-15T16:51:05.496985Z",
     "start_time": "2020-08-15T16:51:01.552982Z"
    }
   },
   "outputs": [
    {
     "name": "stderr",
     "output_type": "stream",
     "text": [
      "Using TensorFlow backend.\n"
     ]
    }
   ],
   "source": [
    "# standard library imports\n",
    "from __future__ import absolute_import, division, print_function\n",
    "\n",
    "import numpy as np\n",
    "from matplotlib import pyplot as plt\n",
    "import scipy as sp\n",
    "\n",
    "from scipy.signal import argrelmin, argrelmax\n",
    "\n",
    "from sklearn.utils import shuffle\n",
    "from sklearn.model_selection import train_test_split\n",
    "\n",
    "import tensorflow as tf\n",
    "from keras.layers import Lambda, Dense, Input, Layer\n",
    "from keras.models import Model\n",
    "from keras.utils import to_categorical\n",
    "from keras.callbacks import LambdaCallback, EarlyStopping\n",
    "import keras.backend as K\n",
    "import keras"
   ]
  },
  {
   "cell_type": "code",
   "execution_count": 3,
   "metadata": {
    "ExecuteTime": {
     "end_time": "2020-08-15T16:51:05.508924Z",
     "start_time": "2020-08-15T16:51:05.502169Z"
    }
   },
   "outputs": [],
   "source": [
    "# Global plot settings\n",
    "from matplotlib import rc\n",
    "import matplotlib.font_manager\n",
    "from matplotlib.font_manager import FontProperties\n",
    "\n",
    "rc('font', family='serif')\n",
    "rc('text', usetex=True)\n",
    "rc('font', size=22)\n",
    "rc('xtick', labelsize=15)\n",
    "rc('ytick', labelsize=15)\n",
    "rc('legend', fontsize=15)\n",
    "\n",
    "fontP = FontProperties()\n",
    "fontP.set_size(10)"
   ]
  },
  {
   "cell_type": "code",
   "execution_count": 4,
   "metadata": {
    "ExecuteTime": {
     "end_time": "2020-08-15T16:51:05.520182Z",
     "start_time": "2020-08-15T16:51:05.512762Z"
    },
    "scrolled": true
   },
   "outputs": [
    {
     "name": "stdout",
     "output_type": "stream",
     "text": [
      "1.15.0\n",
      "2.2.4\n"
     ]
    }
   ],
   "source": [
    "# Check Versions\n",
    "print(tf.__version__)  #1.15.0\n",
    "print(keras.__version__)  #2.2.4"
   ]
  },
  {
   "cell_type": "markdown",
   "metadata": {},
   "source": [
    "# Alternative DCTR fitting algorithm\n",
    "\n",
    "The DCTR paper (https://arxiv.org/abs/1907.08209) shows how a continuously parameterized NN used for reweighting:\n",
    "\n",
    "$f(x,\\theta)=\\text{argmax}_{f'}(\\sum_{i\\in\\bf{\\theta}_0}\\log f'(x_i,\\theta)+\\sum_{i\\in\\bf{\\theta}}\\log (1-f'(x_i,\\theta)))$\n",
    "\n",
    "can also be used for fitting:\n",
    "\n",
    "$\\theta^*=\\text{argmax}_{\\theta'}(\\sum_{i\\in\\bf{\\theta}_0}\\log f(x_i,\\theta')+\\sum_{i\\in\\bf{\\theta}}\\log (1-f(x_i,\\theta')))$\n",
    "\n",
    "This works well when the reweighting and fitting happen on the same 'level'.  However, if the reweighting happens at truth level (before detector simulation) while the fit happens in data (after the effects of the detector), this procedure will not work.  It works only if the reweighting and fitting both happen at detector-level or both happen at truth-level.  This notebook illustrates an alternative procedure:\n",
    "\n",
    "$\\theta^*=\\text{argmax}_{\\theta'}\\text{min}_{g}(-\\sum_{i\\in\\bf{\\theta}_0}\\log g(x_i)-\\sum_{i\\in\\bf{\\theta}}(f(x_i,\\theta')/(1-f(x_i,\\theta')))\\log (1-g(x_i)))$\n",
    "\n",
    "where the $f(x,\\theta')/(1-f(x,\\theta'))$ is the reweighting function.  The intuition of the above equation is that the classifier $g$ is trying to distinguish the two samples and we try to find a $\\theta$ that makes $g$'s task maximally hard.  If $g$ can't tell apart the two samples, then the reweighting has worked!  This is similar to the minimax graining of a GAN, only now the analog of the generator network is the reweighting network which is fixed and thus the only trainable parameters are the $\\theta'$.  The advantage of this second approach is that it readily generalizes to the case where the reweighting happens on a different level:\n",
    "\n",
    "$\\theta^*=\\text{argmax}_{\\theta'}\\text{min}_{g}(-\\sum_{i\\in\\bf{\\theta}_0}\\log g(x_{D,i})-\\sum_{i\\in\\bf{\\theta}}\\frac{f(x_{T,i},\\theta')}{(1-f(x_{T,i},\\theta'))}\\log (1-g(x_{D,i})))$\n",
    "\n",
    "where $x_T$ is the truth value and $x_D$ is the detector-level value.  In simulation (the second sum), these come in pairs and so one can apply the reweighting on one level and the classification on the other.  Asympotitically, both this method and the one in the body of the DCTR paper learn the same result: $\\theta^*=\\theta_0$."
   ]
  },
  {
   "cell_type": "markdown",
   "metadata": {},
   "source": [
    "# Training a DCTR Model\n",
    "First, we need to train a DCTR model to provide us with a reweighting function to be used during fitting.\n",
    "This is taken directly from the original Gaussian DCTR Example."
   ]
  },
  {
   "cell_type": "markdown",
   "metadata": {},
   "source": [
    "We will now parametrize our network by giving it a $\\mu$ value in addition to $X_{i,0}\\sim\\mathcal{N}(\\mu, 1)$ and $X_{i,1}\\sim\\mathcal{N}(0, \\nu)$, where $\\nu = (\\omega_0 +\\omega_1\\mu)^2$ for some constant terms $\\omega_0$, $\\omega_1$ and $X_{i,1}$ is a secondary truth observable that will determinte detector effects for $X_{i,0}$.\n",
    "\n",
    "First we uniformly sample $\\mu$ values in some range"
   ]
  },
  {
   "cell_type": "markdown",
   "metadata": {},
   "source": [
    "We then sample from normal distributions with this $\\mu$ and its respective $\\nu$ value."
   ]
  },
  {
   "cell_type": "markdown",
   "metadata": {},
   "source": [
    "Please note that the samples in X0 are not paired with $\\mu=0$ as this would make the task trivial. \n",
    "\n",
    "Instead it is paired with the $\\mu$ values uniformly sampled in the specified range [mu_min, mu_max].\n",
    "\n",
    "For every value of $\\mu$ in mu_values, the network sees one event drawn from $(\\mathcal{N}(0,1),\\mathcal{N}(0,\\nu_{0}))$ and $(\\mathcal{N}(\\mu,1),\\mathcal{N}(0,\\nu_{\\mu}))$, and it learns to classify them. \n",
    "\n",
    "i.e. we have one network that's parametrized by $\\mu$ that classifies between events from $(\\mathcal{N}(0,1),\\mathcal{N}(0,\\nu_{0}))$ and $(\\mathcal{N}(\\mu,1),\\mathcal{N}(0,\\nu_{\\mu}))$, and a trained network will give us the likelihood ratio to reweight from one to another. "
   ]
  },
  {
   "cell_type": "markdown",
   "metadata": {},
   "source": [
    "## Build and Train DCTR model"
   ]
  },
  {
   "cell_type": "code",
   "execution_count": 5,
   "metadata": {
    "ExecuteTime": {
     "end_time": "2020-08-15T16:51:05.529953Z",
     "start_time": "2020-08-15T16:51:05.523299Z"
    }
   },
   "outputs": [],
   "source": [
    "def nu(theta):\n",
    "    omega_0 = 0.7  # Smearing width\n",
    "    omega_1 = 0.2\n",
    "    return (omega_0 + omega_1 * theta)**2"
   ]
  },
  {
   "cell_type": "code",
   "execution_count": 6,
   "metadata": {
    "ExecuteTime": {
     "end_time": "2020-08-15T16:51:05.558315Z",
     "start_time": "2020-08-15T16:51:05.534167Z"
    }
   },
   "outputs": [],
   "source": [
    "# Either load or train DCTR\n",
    "def get_dctr(load=False, n_data_points=10**6, mu_min=-2, mu_max=2):\n",
    "    if load:\n",
    "        json_file = open('1d_gaussian_dctr_model.json', 'r')\n",
    "        loaded_model_json = json_file.read()\n",
    "        json_file.close()\n",
    "        dctr_model = keras.models.model_from_json(loaded_model_json)\n",
    "        # load weights into new model\n",
    "        dctr_model.load_weights(\"1d_gaussian_dctr_model.h5\")\n",
    "        print(\"Loaded model from disk\")\n",
    "    else:\n",
    "\n",
    "        # Generate training & validation data\n",
    "        mu_values = np.random.uniform(mu_min, mu_max, n_data_points)\n",
    "\n",
    "        X0 = [(np.random.normal(0, 1), np.random.normal(0, nu(0)), mu)\n",
    "              for mu in mu_values]  # Note the zero in normal(0, 1)\n",
    "\n",
    "        X1 = [(np.random.normal(mu, 1), np.random.normal(0, nu(mu)), mu)\n",
    "              for mu in mu_values]\n",
    "\n",
    "        Y0 = to_categorical(np.zeros(n_data_points), num_classes=2)\n",
    "        Y1 = to_categorical(np.ones(n_data_points), num_classes=2)\n",
    "\n",
    "        X = np.concatenate((X0, X1))\n",
    "        Y = np.concatenate((Y0, Y1))\n",
    "\n",
    "        X_train, X_test, Y_train, Y_test = train_test_split(X,\n",
    "                                                            Y,\n",
    "                                                            test_size=0.5)\n",
    "\n",
    "        # Build Model\n",
    "        inputs = Input((3, ))\n",
    "        hidden_layer_1 = Dense(50, activation='relu')(inputs)\n",
    "        hidden_layer_2 = Dense(50, activation='relu')(hidden_layer_1)\n",
    "        hidden_layer_3 = Dense(50, activation='relu')(hidden_layer_2)\n",
    "        outputs = Dense(2, activation='softmax')(hidden_layer_3)\n",
    "\n",
    "        dctr_model = Model(inputs=inputs, outputs=outputs)\n",
    "        dctr_model.compile(loss='categorical_crossentropy',\n",
    "                           optimizer='Adam',\n",
    "                           metrics=['accuracy'])\n",
    "\n",
    "        # Train Model\n",
    "        earlystopping = EarlyStopping(patience=10, restore_best_weights=True)\n",
    "        dctr_model.fit(X_train,\n",
    "                       Y_train,\n",
    "                       epochs=200,\n",
    "                       batch_size=10000,\n",
    "                       validation_data=(X_test, Y_test),\n",
    "                       callbacks=[earlystopping],\n",
    "                       verbose=0)\n",
    "        print(\"Trained DCTR Model\")\n",
    "\n",
    "    return dctr_model"
   ]
  },
  {
   "cell_type": "markdown",
   "metadata": {},
   "source": [
    "### Loading Model"
   ]
  },
  {
   "cell_type": "code",
   "execution_count": 7,
   "metadata": {
    "ExecuteTime": {
     "end_time": "2020-08-15T17:09:48.891638Z",
     "start_time": "2020-08-15T16:51:05.564065Z"
    }
   },
   "outputs": [
    {
     "name": "stdout",
     "output_type": "stream",
     "text": [
      "WARNING:tensorflow:From /home/asuresh/.local/lib/python3.5/site-packages/keras/backend/tensorflow_backend.py:74: The name tf.get_default_graph is deprecated. Please use tf.compat.v1.get_default_graph instead.\n",
      "\n",
      "WARNING:tensorflow:From /home/asuresh/.local/lib/python3.5/site-packages/keras/backend/tensorflow_backend.py:517: The name tf.placeholder is deprecated. Please use tf.compat.v1.placeholder instead.\n",
      "\n",
      "WARNING:tensorflow:From /home/asuresh/.local/lib/python3.5/site-packages/keras/backend/tensorflow_backend.py:4138: The name tf.random_uniform is deprecated. Please use tf.random.uniform instead.\n",
      "\n",
      "WARNING:tensorflow:From /home/asuresh/.local/lib/python3.5/site-packages/keras/optimizers.py:790: The name tf.train.Optimizer is deprecated. Please use tf.compat.v1.train.Optimizer instead.\n",
      "\n",
      "WARNING:tensorflow:From /home/asuresh/.local/lib/python3.5/site-packages/keras/backend/tensorflow_backend.py:3295: The name tf.log is deprecated. Please use tf.math.log instead.\n",
      "\n",
      "WARNING:tensorflow:From /home/asuresh/.local/lib/python3.5/site-packages/tensorflow_core/python/ops/math_grad.py:1424: where (from tensorflow.python.ops.array_ops) is deprecated and will be removed in a future version.\n",
      "Instructions for updating:\n",
      "Use tf.where in 2.0, which has the same broadcast rule as np.where\n",
      "WARNING:tensorflow:From /home/asuresh/.local/lib/python3.5/site-packages/keras/backend/tensorflow_backend.py:986: The name tf.assign_add is deprecated. Please use tf.compat.v1.assign_add instead.\n",
      "\n",
      "WARNING:tensorflow:From /home/asuresh/.local/lib/python3.5/site-packages/keras/backend/tensorflow_backend.py:973: The name tf.assign is deprecated. Please use tf.compat.v1.assign instead.\n",
      "\n",
      "WARNING:tensorflow:From /home/asuresh/.local/lib/python3.5/site-packages/keras/backend/tensorflow_backend.py:2741: The name tf.Session is deprecated. Please use tf.compat.v1.Session instead.\n",
      "\n",
      "WARNING:tensorflow:From /home/asuresh/.local/lib/python3.5/site-packages/keras/backend/tensorflow_backend.py:174: The name tf.get_default_session is deprecated. Please use tf.compat.v1.get_default_session instead.\n",
      "\n",
      "WARNING:tensorflow:From /home/asuresh/.local/lib/python3.5/site-packages/keras/backend/tensorflow_backend.py:181: The name tf.ConfigProto is deprecated. Please use tf.compat.v1.ConfigProto instead.\n",
      "\n",
      "WARNING:tensorflow:From /home/asuresh/.local/lib/python3.5/site-packages/keras/backend/tensorflow_backend.py:190: The name tf.global_variables is deprecated. Please use tf.compat.v1.global_variables instead.\n",
      "\n",
      "WARNING:tensorflow:From /home/asuresh/.local/lib/python3.5/site-packages/keras/backend/tensorflow_backend.py:199: The name tf.is_variable_initialized is deprecated. Please use tf.compat.v1.is_variable_initialized instead.\n",
      "\n",
      "WARNING:tensorflow:From /home/asuresh/.local/lib/python3.5/site-packages/keras/backend/tensorflow_backend.py:206: The name tf.variables_initializer is deprecated. Please use tf.compat.v1.variables_initializer instead.\n",
      "\n",
      "Trained DCTR Model\n"
     ]
    }
   ],
   "source": [
    "mu_min = -2\n",
    "mu_max = 2\n",
    "\n",
    "dctr_model = get_dctr(n_data_points = 10**7, mu_min=mu_min, mu_max=mu_max)"
   ]
  },
  {
   "cell_type": "markdown",
   "metadata": {},
   "source": [
    "### Defining reweighting functions\n",
    "\n",
    "$w(x_{T,i},\\theta)=((f(x_{T,i},\\theta)/(1-f(x_{T,i},\\theta)))$\n",
    "\n",
    "Takes observable from simulation ${\\bf \\theta_0}$ and weights it to observable from data (target) ${\\bf \\theta_1}$."
   ]
  },
  {
   "cell_type": "code",
   "execution_count": 8,
   "metadata": {
    "ExecuteTime": {
     "end_time": "2020-08-15T17:09:48.902981Z",
     "start_time": "2020-08-15T17:09:48.896352Z"
    }
   },
   "outputs": [],
   "source": [
    "# from NN (DCTR)\n",
    "def reweight(events, param):\n",
    "    # creating tensor with same length as inputs, with theta_prime in every entry\n",
    "    concat_input_and_params = K.ones(shape=(events.shape[0], 1)) * param\n",
    "    # combining and reshaping into correct format:\n",
    "    model_inputs = K.concatenate((events, concat_input_and_params), axis=-1)\n",
    "    f = dctr_model(model_inputs)\n",
    "    weights = (f[:, 1]) / (f[:, 0])\n",
    "    weights = K.expand_dims(weights, axis=1)\n",
    "    return weights"
   ]
  },
  {
   "cell_type": "markdown",
   "metadata": {},
   "source": [
    "## Validate DCTR for any $\\mu$"
   ]
  },
  {
   "cell_type": "markdown",
   "metadata": {},
   "source": [
    "### Validate for Truth Level"
   ]
  },
  {
   "cell_type": "code",
   "execution_count": 9,
   "metadata": {
    "ExecuteTime": {
     "end_time": "2020-08-15T17:09:49.210341Z",
     "start_time": "2020-08-15T17:09:48.906459Z"
    }
   },
   "outputs": [],
   "source": [
    "mu1 = 1.5\n",
    "assert mu1 >= mu_min and mu1 <= mu_max  # choose mu1 in valid range\n",
    "X0_val_T_0 = np.random.normal(0, 1, 10**6)\n",
    "X0_val_T_1 = np.random.normal(0, nu(0), 10**6)\n",
    "X0_val_T = np.stack((X0_val_T_0, X0_val_T_1), axis=-1)\n",
    "\n",
    "X1_val_T_0 = np.random.normal(mu1, 1, 10**6)\n",
    "X1_val_T_1 = np.random.normal(0, nu(mu1), 10**6)\n",
    "X1_val_T = np.stack((X1_val_T_0, X1_val_T_1), axis=-1)"
   ]
  },
  {
   "cell_type": "code",
   "execution_count": 10,
   "metadata": {
    "ExecuteTime": {
     "end_time": "2020-08-15T17:09:49.667322Z",
     "start_time": "2020-08-15T17:09:49.218315Z"
    }
   },
   "outputs": [],
   "source": [
    "weights_val = reweight(tf.convert_to_tensor(X0_val_T, dtype=tf.float32), mu1)\n",
    "weights_val = K.eval(weights_val)"
   ]
  },
  {
   "cell_type": "code",
   "execution_count": 11,
   "metadata": {
    "ExecuteTime": {
     "end_time": "2020-08-15T17:09:51.588542Z",
     "start_time": "2020-08-15T17:09:49.669233Z"
    }
   },
   "outputs": [
    {
     "data": {
      "image/png": "[encoded data removed]",
      "text/plain": [
       "<Figure size 432x288 with 1 Axes>"
      ]
     },
     "metadata": {
      "needs_background": "light"
     },
     "output_type": "display_data"
    }
   ],
   "source": [
    "bins = np.linspace(-6, 6, 31)\n",
    "plt.hist(X0_val_T[:,0], bins=bins, alpha=0.5, label=r'$\\mu=0$')\n",
    "plt.hist(X0_val_T[:,0],\n",
    "         bins=bins,\n",
    "         label=r'$\\mu=0$ DCTR wgt.',\n",
    "         weights=weights_val,\n",
    "         histtype='step',\n",
    "         color='k')\n",
    "plt.hist(X1_val_T[:,0], bins=bins, alpha=0.5, label=r'$\\mu={}$'.format(mu1))\n",
    "plt.legend(prop=fontP)\n",
    "plt.title(\"Truth Level: Reweighting on Primary Observable\")\n",
    "#plt.savefig(\"GaussianAltFit-1D-ThetaDependentDetectorEffects-Truth-Level:Reweighting-on-Primary-Observable.png\")\n",
    "plt.show()"
   ]
  },
  {
   "cell_type": "code",
   "execution_count": 12,
   "metadata": {
    "ExecuteTime": {
     "end_time": "2020-08-15T17:09:52.724265Z",
     "start_time": "2020-08-15T17:09:51.593936Z"
    }
   },
   "outputs": [
    {
     "data": {
      "image/png": "[encoded data removed]",
      "text/plain": [
       "<Figure size 432x288 with 1 Axes>"
      ]
     },
     "metadata": {
      "needs_background": "light"
     },
     "output_type": "display_data"
    }
   ],
   "source": [
    "bins = np.linspace(-6, 6, 31)\n",
    "plt.hist(X0_val_T[:,1], bins=bins, alpha=0.5, label=r'$\\mu=0$')\n",
    "plt.hist(X0_val_T[:,1],\n",
    "         bins=bins,\n",
    "         label=r'$\\mu=0$ DCTR wgt.',\n",
    "         weights=weights_val,\n",
    "         histtype='step',\n",
    "         color='k')\n",
    "plt.hist(X1_val_T[:,1], bins=bins, alpha=0.5, label=r'$\\mu={}$'.format(mu1))\n",
    "plt.legend(prop=fontP)\n",
    "plt.title(\"Truth Level: Reweighting on Secondary Observable\")\n",
    "#plt.savefig(\"GaussianAltFit-1D-ThetaDependentDetectorEffects-Truth-Level:Reweighting-on-Secondary-Observable.png\")\n",
    "plt.show()"
   ]
  },
  {
   "cell_type": "markdown",
   "metadata": {},
   "source": [
    "### Validate for Detector Level"
   ]
  },
  {
   "cell_type": "markdown",
   "metadata": {},
   "source": [
    "To apply detector effects, each event's primary truth observable $x_{T,i,0}$in the sample is smeared by shifting by $Z_{i}$ from $Z = \\mathcal{N}(0,(x_{T,i,1})^2)$ ,where the square of the secondary truth observable $x_{T,i,1}$ represents the smearing. Thus: $x_{D,i} = x_{T,i,0} + Z_{i}$"
   ]
  },
  {
   "cell_type": "code",
   "execution_count": 13,
   "metadata": {
    "ExecuteTime": {
     "end_time": "2020-08-15T17:10:10.193929Z",
     "start_time": "2020-08-15T17:09:52.731631Z"
    }
   },
   "outputs": [],
   "source": [
    "# Generate detector level by smearing truth\n",
    "\n",
    "X0_val_D = np.array([(x[0] + np.random.normal(0, x[1]**2))\n",
    "                     for x in X0_val_T])  # Detector smearing\n",
    "X1_val_D = np.array([(x[0] + np.random.normal(0, x[1]**2))\n",
    "                     for x in X1_val_T])  # Detector smearing"
   ]
  },
  {
   "cell_type": "code",
   "execution_count": 14,
   "metadata": {
    "ExecuteTime": {
     "end_time": "2020-08-15T17:10:12.874572Z",
     "start_time": "2020-08-15T17:10:10.195758Z"
    }
   },
   "outputs": [
    {
     "data": {
      "image/png": "[encoded data removed]",
      "text/plain": [
       "<Figure size 432x288 with 2 Axes>"
      ]
     },
     "metadata": {
      "needs_background": "light"
     },
     "output_type": "display_data"
    }
   ],
   "source": [
    "fig, axs = plt.subplots(1, 2, sharey=True, constrained_layout=True)\n",
    "fig.suptitle('Detector Smearing')\n",
    "axs[0].set_title('$\\mu=0$')\n",
    "axs[0].hist(X0_val_T[:,0], bins=bins, alpha=0.5, label='Truth')\n",
    "axs[0].hist(X0_val_D, bins=bins, alpha=0.5, label='Detector')\n",
    "axs[0].legend(prop=fontP, loc = 'upper left')\n",
    "axs[1].set_title('$\\mu={}$'.format(mu1))\n",
    "axs[1].hist(X1_val_T[:,0], bins=bins, alpha=0.5, label='Truth')\n",
    "axs[1].hist(X1_val_D, bins=bins, alpha=0.5, label='Detector')\n",
    "axs[1].legend(prop=fontP, loc = 'upper left')\n",
    "fig.show()"
   ]
  },
  {
   "cell_type": "code",
   "execution_count": 15,
   "metadata": {
    "ExecuteTime": {
     "end_time": "2020-08-15T17:10:13.975970Z",
     "start_time": "2020-08-15T17:10:12.882848Z"
    }
   },
   "outputs": [
    {
     "data": {
      "image/png": "[encoded data removed]",
      "text/plain": [
       "<Figure size 432x288 with 1 Axes>"
      ]
     },
     "metadata": {
      "needs_background": "light"
     },
     "output_type": "display_data"
    }
   ],
   "source": [
    "bins = np.linspace(-7, 7, 31)\n",
    "plt.hist(X0_val_D, bins=bins, alpha=0.5, label=r'$\\mu=0$')\n",
    "plt.hist(X0_val_D,\n",
    "         bins=bins,\n",
    "         label=r'$\\mu=0$ DCTR wgt.',\n",
    "         weights=weights_val,\n",
    "         histtype='step',\n",
    "         color='k')\n",
    "plt.hist(X1_val_D, bins=bins, alpha=0.5, label=r'$\\mu={}$'.format(mu1))\n",
    "plt.legend(prop=fontP)\n",
    "plt.title(\"Detector Level: Reweighting\")\n",
    "#plt.savefig(\"GaussianAltFit-1D-ThetaDependentDetectorEffects-Detector-Level:Reweighting.png\")\n",
    "plt.show()"
   ]
  },
  {
   "cell_type": "markdown",
   "metadata": {},
   "source": [
    "# Alternative Fit"
   ]
  },
  {
   "cell_type": "markdown",
   "metadata": {},
   "source": [
    "## Setup the dataset\n",
    "\n",
    "We'll show the new setup with a simple Gaussian example.  Let's start by setting up the dataset."
   ]
  },
  {
   "cell_type": "markdown",
   "metadata": {},
   "source": [
    "To apply detector effects, each event's primary truth observable $x_{T,i,0}$in the sample is smeared by shifting by $Z_{i}$ from $Z = \\mathcal{N}(0,(x_{T,i,1})^2)$ ,where the square of the secondary truth observable $x_{T,i,1}$ represents the smearing. Thus: $x_{D,i} = x_{T,i,0} + Z_{i}$"
   ]
  },
  {
   "cell_type": "code",
   "execution_count": 16,
   "metadata": {
    "ExecuteTime": {
     "end_time": "2020-08-15T17:10:32.261026Z",
     "start_time": "2020-08-15T17:10:13.981467Z"
    }
   },
   "outputs": [],
   "source": [
    "N = 10**6\n",
    "theta0_param = 0  # this is the simulation ... N.B. this notation is reversed from above!\n",
    "theta1_param = 1  # this is the data (the target)\n",
    "sigma = 1.  # standard Gaussian width\n",
    "# epsilon = sigma / 2  # Smearing width\n",
    "\n",
    "theta0_T_0 = np.random.normal(theta0_param, sigma, N)  # Truth Level Data\n",
    "theta0_T_1 = np.random.normal(0, nu(theta0_param), N)\n",
    "theta0_T = np.stack((theta0_T_0, theta0_T_1), axis = -1)\n",
    "\n",
    "theta0_D = np.array([(x[0] + np.random.normal(0, x[1]**2))\n",
    "                     for x in theta0_T])  # Detector smearing\n",
    "\n",
    "theta0 = np.hstack([theta0_T, np.expand_dims(theta0_D, axis = -1)])\n",
    "\n",
    "theta1_T = np.random.normal(theta1_param, sigma, N)\n",
    "theta1_T_ep = np.random.normal(0, nu(theta1_param), N)\n",
    "theta1_T = np.stack((theta1_T, theta1_T_ep), axis = -1)\n",
    "\n",
    "theta1_D = np.array([(x[0] + np.random.normal(0, x[1]**2))\n",
    "                     for x in theta1_T])  # Detector smearing\n",
    "\n",
    "theta1 = np.hstack([theta1_T, np.expand_dims(theta1_D, axis = -1)])"
   ]
  },
  {
   "cell_type": "code",
   "execution_count": 17,
   "metadata": {
    "ExecuteTime": {
     "end_time": "2020-08-15T17:10:34.557710Z",
     "start_time": "2020-08-15T17:10:32.264759Z"
    },
    "scrolled": false
   },
   "outputs": [
    {
     "data": {
      "image/png": "[encoded data removed]",
      "text/plain": [
       "<Figure size 432x288 with 2 Axes>"
      ]
     },
     "metadata": {
      "needs_background": "light"
     },
     "output_type": "display_data"
    }
   ],
   "source": [
    "bins = np.linspace(-6, 6, 31)\n",
    "\n",
    "fig, axs = plt.subplots(1, 2, sharey=True, constrained_layout=True)\n",
    "fig.suptitle('Fitting Data with Detector Effects')\n",
    "\n",
    "axs[0].set_title(\"Simulation\\n($\\mu$ = {:.2f})\".format(theta0_param))\n",
    "axs[0].hist(theta0_T[:,0], bins=bins, alpha=0.5, label='Truth')\n",
    "axs[0].hist(theta0_D, bins=bins, alpha=0.5, label='Detector')\n",
    "axs[0].legend(prop=fontP, loc = 'upper left')\n",
    "\n",
    "axs[1].set_title(\"Data\\n($\\mu$ = {:.2f})\".format(theta1_param))\n",
    "axs[1].hist(theta1_T[:,0], bins=bins, alpha=0.5, label='Truth')\n",
    "axs[1].hist(theta1_D, bins=bins, alpha=0.5, label='Detector')\n",
    "axs[1].legend(prop=fontP, loc = 'upper left')\n",
    "\n",
    "# fig.savefig(\"GaussianAltFit-1D-ThetaDependentDetectorEffects-Fitting-Data-with-Detector-Effects.png\")\n",
    "plt.show()"
   ]
  },
  {
   "cell_type": "markdown",
   "metadata": {},
   "source": [
    "Notice how detector smearing is more intense for \"Data\"."
   ]
  },
  {
   "cell_type": "code",
   "execution_count": 18,
   "metadata": {
    "ExecuteTime": {
     "end_time": "2020-08-15T17:10:35.771523Z",
     "start_time": "2020-08-15T17:10:34.560333Z"
    }
   },
   "outputs": [],
   "source": [
    "labels0 = np.zeros(len(theta0))\n",
    "labels1 = np.ones(len(theta1))\n",
    "\n",
    "xvals = np.concatenate([theta0, theta1])\n",
    "yvals = np.concatenate([labels0, labels1])\n",
    "\n",
    "X_train, X_test, y_train, y_test = train_test_split(xvals,\n",
    "                                                    yvals,\n",
    "                                                    test_size=0.5)\n",
    "X_train_theta, y_train_theta = shuffle(xvals, yvals)\n",
    "\n",
    "X_train_T, y_train_T = np.copy(X_train[:, :2]), y_train\n",
    "X_test_T, y_test_T = np.copy(X_test[:, :2]), y_test\n",
    "X_train_theta_T, y_train_theta_T = np.copy(X_train_theta[:, :2]), y_train_theta\n",
    "\n",
    "#' Erasing' Truth level for data, we can't actually observe this\n",
    "X_train[:, :2][y_train == 1], X_test[:, :2][y_test == 1] = 0., 0.\n",
    "X_train_theta[:, :2][y_train_theta == 1] = 0.\n",
    "\n",
    "# 'hiding' truth level for simulation in expected model output (used in reweighting)\n",
    "X_train_D, y_train_D = X_train[:, 2], np.hstack([np.expand_dims(y_train, axis = -1), X_train[:, :2]])\n",
    "X_test_D, y_test_D = X_test[:, 2], np.hstack([np.expand_dims(y_test, axis=-1), X_test[:, :2]])\n",
    "\n",
    "X_train_theta_D, y_train_theta_D = X_train_theta[:, 1], np.hstack(\n",
    "    [np.expand_dims(y_train_theta, axis = -1), X_train_theta[:, :2]])"
   ]
  },
  {
   "cell_type": "markdown",
   "metadata": {},
   "source": [
    "## Fitting Model: Scan\n",
    "\n",
    "We'll start by showing that for fixed $\\theta$, the maximum loss occurs when $\\theta=\\theta_1$."
   ]
  },
  {
   "cell_type": "markdown",
   "metadata": {},
   "source": [
    "### Creating Model"
   ]
  },
  {
   "cell_type": "code",
   "execution_count": 19,
   "metadata": {
    "ExecuteTime": {
     "end_time": "2020-08-15T17:10:35.863169Z",
     "start_time": "2020-08-15T17:10:35.775354Z"
    }
   },
   "outputs": [
    {
     "name": "stdout",
     "output_type": "stream",
     "text": [
      "_________________________________________________________________\n",
      "Layer (type)                 Output Shape              Param #   \n",
      "=================================================================\n",
      "input_2 (InputLayer)         (None, 2)                 0         \n",
      "_________________________________________________________________\n",
      "dense_5 (Dense)              (None, 128)               384       \n",
      "_________________________________________________________________\n",
      "dense_6 (Dense)              (None, 128)               16512     \n",
      "_________________________________________________________________\n",
      "dense_7 (Dense)              (None, 1)                 129       \n",
      "=================================================================\n",
      "Total params: 17,025\n",
      "Trainable params: 17,025\n",
      "Non-trainable params: 0\n",
      "_________________________________________________________________\n"
     ]
    }
   ],
   "source": [
    "myinputs = Input(shape=(2, ), dtype=tf.float32)\n",
    "x = Dense(128, activation='relu')(myinputs)\n",
    "x2 = Dense(128, activation='relu')(x)\n",
    "predictions = Dense(1, activation='sigmoid')(x2)\n",
    "\n",
    "model_T = Model(inputs=myinputs, outputs=predictions)\n",
    "model_T.summary()\n",
    "batch_size = 1000\n",
    "\n",
    "earlystopping = EarlyStopping(patience=5, restore_best_weights=True)\n",
    "\n",
    "thetas = np.linspace(-2, 2, 17)"
   ]
  },
  {
   "cell_type": "markdown",
   "metadata": {},
   "source": [
    "### Truth Level Scan"
   ]
  },
  {
   "cell_type": "code",
   "execution_count": 20,
   "metadata": {
    "ExecuteTime": {
     "end_time": "2020-08-15T17:10:35.880720Z",
     "start_time": "2020-08-15T17:10:35.868744Z"
    }
   },
   "outputs": [],
   "source": [
    "def my_loss_wrapper_T(inputs,\n",
    "                      val=0.,\n",
    "                      reweight_type='DCTR',\n",
    "                      loss='MSE',\n",
    "                      batch_size=1000):\n",
    "    x = inputs\n",
    "    x = K.gather(x, np.arange(batch_size))\n",
    "\n",
    "    theta_prime = val\n",
    "\n",
    "    if reweight_type == 'DCTR':\n",
    "        # NN (DCTR) reweight\n",
    "        weights = reweight(x, theta_prime)\n",
    "    elif reweight_type == 'analytical':\n",
    "        # analytical reweight\n",
    "        weights = analytical_reweight(x, theta_prime)\n",
    "    else:\n",
    "        raise ValueError(\"reweight_type must be set to 'DCTR' or 'analytical'\")\n",
    "\n",
    "    def my_loss(y_true, y_pred):\n",
    "        if loss == 'MSE':\n",
    "            # Mean Squared Loss\n",
    "            t_loss = y_true * (y_true - y_pred)**2 + weights * (\n",
    "                1. - y_true) * (y_true - y_pred)**2\n",
    "        elif loss == 'categorical_crossentropy':\n",
    "            # Categorical Cross-Entropy Loss\n",
    "\n",
    "            # Clip the prediction value to prevent NaN's and Inf's\n",
    "            epsilon = K.epsilon()\n",
    "            y_pred = K.clip(y_pred, epsilon, 1. - epsilon)\n",
    "\n",
    "            t_loss = -((y_true) * K.log(y_pred) + weights *\n",
    "                       (1 - y_true) * K.log(1 - y_pred))\n",
    "        else:\n",
    "            raise ValueError(\n",
    "                \"loss must be set to 'MSE' or 'categorical_crossentropy'\")\n",
    "\n",
    "        return K.mean(t_loss)\n",
    "\n",
    "    return my_loss"
   ]
  },
  {
   "cell_type": "code",
   "execution_count": 21,
   "metadata": {
    "ExecuteTime": {
     "end_time": "2020-08-15T17:38:53.268066Z",
     "start_time": "2020-08-15T17:10:35.888326Z"
    },
    "scrolled": true
   },
   "outputs": [
    {
     "name": "stdout",
     "output_type": "stream",
     "text": [
      "Testing theta =  -2.0\n",
      "loss:  0.072893809851259\n",
      "val_loss:  0.07296998900920153\n",
      "\n",
      "\n",
      "Testing theta =  -1.75\n",
      "loss:  0.10645187297463417\n",
      "val_loss:  0.10676406958699226\n",
      "\n",
      "\n",
      "Testing theta =  -1.5\n",
      "loss:  0.14691563938558103\n",
      "val_loss:  0.14716144003719092\n",
      "\n",
      "\n",
      "Testing theta =  -1.25\n",
      "loss:  0.1967926810979843\n",
      "val_loss:  0.19705515007674695\n",
      "\n",
      "\n",
      "Testing theta =  -1.0\n",
      "loss:  0.2559635700285435\n",
      "val_loss:  0.25611121925711633\n",
      "\n",
      "\n",
      "Testing theta =  -0.75\n",
      "loss:  0.3221166207194328\n",
      "val_loss:  0.3221927546262741\n",
      "\n",
      "\n",
      "Testing theta =  -0.5\n",
      "loss:  0.3939623568058014\n",
      "val_loss:  0.3940866264998913\n",
      "\n",
      "\n",
      "Testing theta =  -0.25\n",
      "loss:  0.4687837936282158\n",
      "val_loss:  0.46901719698309896\n",
      "\n",
      "\n",
      "Testing theta =  0.0\n",
      "loss:  0.5400358861386776\n",
      "val_loss:  0.5407896610498428\n",
      "\n",
      "\n",
      "Testing theta =  0.25\n",
      "loss:  0.60183519500494\n",
      "val_loss:  0.6032469509243965\n",
      "\n",
      "\n",
      "Testing theta =  0.5\n",
      "loss:  0.6497758188843727\n",
      "val_loss:  0.651574793279171\n",
      "\n",
      "\n",
      "Testing theta =  0.75\n",
      "loss:  0.6796265326738358\n",
      "val_loss:  0.6812339643239975\n",
      "\n",
      "\n",
      "Testing theta =  1.0\n",
      "loss:  0.6888167840242386\n",
      "val_loss:  0.6896824848651886\n",
      "\n",
      "\n",
      "Testing theta =  1.25\n",
      "loss:  0.6777563620209693\n",
      "val_loss:  0.6779825061559677\n",
      "\n",
      "\n",
      "Testing theta =  1.5\n",
      "loss:  0.6460869292616844\n",
      "val_loss:  0.646225810110569\n",
      "\n",
      "\n",
      "Testing theta =  1.75\n",
      "loss:  0.5986865233182908\n",
      "val_loss:  0.5993317184150219\n",
      "\n",
      "\n",
      "Testing theta =  2.0\n",
      "loss:  0.547850895524025\n",
      "val_loss:  0.5454506278932094\n",
      "\n",
      "\n",
      "[0.072893809851259, 0.10645187297463417, 0.14691563938558103, 0.1967926810979843, 0.2559635700285435, 0.3221166207194328, 0.3939623568058014, 0.4687837936282158, 0.5400358861386776, 0.60183519500494, 0.6497758188843727, 0.6796265326738358, 0.6888167840242386, 0.6777563620209693, 0.6460869292616844, 0.5986865233182908, 0.547850895524025]\n"
     ]
    }
   ],
   "source": [
    "lvals_T = []\n",
    "vlvals_T = []\n",
    "\n",
    "for theta in thetas:\n",
    "    print(\"Testing theta = \", theta)\n",
    "    model_T.compile(optimizer='adam',\n",
    "                  loss=my_loss_wrapper_T(myinputs,\n",
    "                                         theta,\n",
    "                                         loss='categorical_crossentropy',\n",
    "                                         batch_size=batch_size),\n",
    "                  metrics=['accuracy'])\n",
    "\n",
    "    history = model_T.fit(np.array(X_train_T),\n",
    "                        y_train_T,\n",
    "                        epochs=100,\n",
    "                        batch_size=batch_size,\n",
    "                        validation_data=(np.array(X_test_T), y_test_T),\n",
    "                        verbose=0,\n",
    "                        callbacks=[earlystopping])\n",
    "\n",
    "    min_lval = history.history['loss'][np.argmin(history.history['val_loss'])]\n",
    "    min_vlval = np.min(history.history['val_loss'])\n",
    "\n",
    "    lvals_T += [min_lval]\n",
    "    vlvals_T += [min_vlval]\n",
    "\n",
    "    print(\"loss: \", min_lval)\n",
    "    print(\"val_loss: \", min_vlval)\n",
    "    print(\"\\n\")\n",
    "    pass\n",
    "print(lvals_T)"
   ]
  },
  {
   "cell_type": "code",
   "execution_count": 22,
   "metadata": {
    "ExecuteTime": {
     "end_time": "2020-08-15T17:38:53.735761Z",
     "start_time": "2020-08-15T17:38:53.275730Z"
    }
   },
   "outputs": [
    {
     "data": {
      "image/png": "[encoded data removed]",
      "text/plain": [
       "<Figure size 432x288 with 1 Axes>"
      ]
     },
     "metadata": {
      "needs_background": "light"
     },
     "output_type": "display_data"
    }
   ],
   "source": [
    "plt.title(\"Truth Level: Theta vs. Loss\")\n",
    "plt.plot(thetas, lvals_T, label='Loss')\n",
    "plt.plot(thetas, vlvals_T, label='Validation Loss')\n",
    "plt.xlabel(r'$\\theta$')\n",
    "plt.ylabel('Loss')\n",
    "plt.vlines(theta1_param,\n",
    "           ymin=np.min(lvals_T),\n",
    "           ymax=np.max(lvals_T),\n",
    "           label='Truth')\n",
    "plt.legend()\n",
    "# plt.savefig(\"GaussianAltFit-1D-ThetaDependentDetectorEffects-Truth-Level:-Theta-vs-Loss.png\")\n",
    "plt.show()"
   ]
  },
  {
   "cell_type": "code",
   "execution_count": 23,
   "metadata": {
    "ExecuteTime": {
     "end_time": "2020-08-15T17:38:53.791321Z",
     "start_time": "2020-08-15T17:38:53.737816Z"
    }
   },
   "outputs": [
    {
     "name": "stdout",
     "output_type": "stream",
     "text": [
      "Interpolated Maximum:  0.9999999965867213\n"
     ]
    }
   ],
   "source": [
    "f = sp.interpolate.interp1d(thetas, lvals_T, fill_value=\"extrapolate\")\n",
    "\n",
    "print(\"Interpolated Maximum: \",\n",
    "      sp.optimize.minimize(lambda x: -f(x), x0=0)['x'][0])"
   ]
  },
  {
   "cell_type": "markdown",
   "metadata": {},
   "source": [
    "### Detector Level Scan"
   ]
  },
  {
   "cell_type": "code",
   "execution_count": 24,
   "metadata": {
    "ExecuteTime": {
     "end_time": "2020-08-15T17:38:53.887019Z",
     "start_time": "2020-08-15T17:38:53.794452Z"
    }
   },
   "outputs": [
    {
     "name": "stdout",
     "output_type": "stream",
     "text": [
      "_________________________________________________________________\n",
      "Layer (type)                 Output Shape              Param #   \n",
      "=================================================================\n",
      "input_3 (InputLayer)         (None, 1)                 0         \n",
      "_________________________________________________________________\n",
      "dense_8 (Dense)              (None, 128)               256       \n",
      "_________________________________________________________________\n",
      "dense_9 (Dense)              (None, 128)               16512     \n",
      "_________________________________________________________________\n",
      "dense_10 (Dense)             (None, 1)                 129       \n",
      "=================================================================\n",
      "Total params: 16,897\n",
      "Trainable params: 16,897\n",
      "Non-trainable params: 0\n",
      "_________________________________________________________________\n"
     ]
    }
   ],
   "source": [
    "myinputs = Input(shape=(1, ), dtype=tf.float32)\n",
    "x = Dense(128, activation='relu')(myinputs)\n",
    "x2 = Dense(128, activation='relu')(x)\n",
    "predictions = Dense(1, activation='sigmoid')(x2)\n",
    "\n",
    "model_D = Model(inputs=myinputs, outputs=predictions)\n",
    "model_D.summary()"
   ]
  },
  {
   "cell_type": "code",
   "execution_count": 25,
   "metadata": {
    "ExecuteTime": {
     "end_time": "2020-08-15T17:38:53.910983Z",
     "start_time": "2020-08-15T17:38:53.890241Z"
    },
    "scrolled": true
   },
   "outputs": [],
   "source": [
    "def my_loss_wrapper_D(val=0,\n",
    "                      reweight_type='DCTR',\n",
    "                      loss='MSE',\n",
    "                      batch_size=1000):\n",
    "    def my_loss(y_true, y_pred):\n",
    "        y_true = tf.gather(y_true, np.arange(batch_size))\n",
    "        x_T = tf.gather(y_true, [1, 2], axis=1)  # sim event truth for reweighting\n",
    "        y_true = tf.gather(y_true, [0], axis=1)  # actual y_true for loss\n",
    "        theta_prime = val\n",
    "\n",
    "        if reweight_type == 'DCTR':\n",
    "            # NN (DCTR) reweight\n",
    "            weights = reweight(x_T, theta_prime)\n",
    "        elif reweight_type == 'analytical':\n",
    "            # analytical reweight\n",
    "            weights = analytical_reweight(x_T, theta_prime)\n",
    "        else:\n",
    "            raise ValueError(\n",
    "                \"reweight_type must be set to 'DCTR' or 'analytical'\")\n",
    "\n",
    "        if loss == 'MSE':\n",
    "            # Mean Squared Loss\n",
    "            t_loss = y_true * (y_true - y_pred)**2 + (weights) * (\n",
    "                1. - y_true) * (y_true - y_pred)**2\n",
    "        elif loss == 'categorical_crossentropy':\n",
    "            # Categorical Cross-Entropy Loss\n",
    "            # Clip the prediction value to prevent NaN's and Inf's\n",
    "            epsilon = K.epsilon()\n",
    "            y_pred = K.clip(y_pred, epsilon, 1. - epsilon)\n",
    "\n",
    "            t_loss = -((y_true) * K.log(y_pred) + weights *\n",
    "                       (1 - y_true) * K.log(1 - y_pred))\n",
    "        else:\n",
    "            raise ValueError(\n",
    "                \"loss must be set to 'MSE' or 'categorical_crossentropy'\")\n",
    "        return K.mean(t_loss)\n",
    "\n",
    "    return my_loss"
   ]
  },
  {
   "cell_type": "code",
   "execution_count": 26,
   "metadata": {
    "ExecuteTime": {
     "end_time": "2020-08-15T18:14:47.476843Z",
     "start_time": "2020-08-15T17:38:53.913778Z"
    },
    "scrolled": true
   },
   "outputs": [
    {
     "name": "stdout",
     "output_type": "stream",
     "text": [
      "Testing theta =  -2.0\n",
      "loss:  0.22426963584125043\n",
      "val_loss:  0.22512376748025417\n",
      "\n",
      "\n",
      "Testing theta =  -1.75\n",
      "loss:  0.265814097777009\n",
      "val_loss:  0.26581372135877607\n",
      "\n",
      "\n",
      "Testing theta =  -1.5\n",
      "loss:  0.304737395375967\n",
      "val_loss:  0.30460856592655183\n",
      "\n",
      "\n",
      "Testing theta =  -1.25\n",
      "loss:  0.3501352618932724\n",
      "val_loss:  0.35044310948252677\n",
      "\n",
      "\n",
      "Testing theta =  -1.0\n",
      "loss:  0.3997838859856129\n",
      "val_loss:  0.39991489744186404\n",
      "\n",
      "\n",
      "Testing theta =  -0.75\n",
      "loss:  0.4503275789320469\n",
      "val_loss:  0.45043633553385737\n",
      "\n",
      "\n",
      "Testing theta =  -0.5\n",
      "loss:  0.5020330391824246\n",
      "val_loss:  0.5022089638411998\n",
      "\n",
      "\n",
      "Testing theta =  -0.25\n",
      "loss:  0.5539399093985558\n",
      "val_loss:  0.5541774812340736\n",
      "\n",
      "\n",
      "Testing theta =  0.0\n",
      "loss:  0.6014800870418548\n",
      "val_loss:  0.6019313797354698\n",
      "\n",
      "\n",
      "Testing theta =  0.25\n",
      "loss:  0.6403166391849517\n",
      "val_loss:  0.6412202335596084\n",
      "\n",
      "\n",
      "Testing theta =  0.5\n",
      "loss:  0.6691649305820465\n",
      "val_loss:  0.6704937409162521\n",
      "\n",
      "\n",
      "Testing theta =  0.75\n",
      "loss:  0.6858627563118934\n",
      "val_loss:  0.687346272289753\n",
      "\n",
      "\n",
      "Testing theta =  1.0\n",
      "loss:  0.6893906172513962\n",
      "val_loss:  0.6909031813144684\n",
      "\n",
      "\n",
      "Testing theta =  1.25\n",
      "loss:  0.6801138498783111\n",
      "val_loss:  0.6821832782030106\n",
      "\n",
      "\n",
      "Testing theta =  1.5\n",
      "loss:  0.6583087099790573\n",
      "val_loss:  0.6613802382946015\n",
      "\n",
      "\n",
      "Testing theta =  1.75\n",
      "loss:  0.625961947530508\n",
      "val_loss:  0.630893584638834\n",
      "\n",
      "\n",
      "Testing theta =  2.0\n",
      "loss:  0.5859422354996204\n",
      "val_loss:  0.5921248805522918\n",
      "\n",
      "\n",
      "[0.22426963584125043, 0.265814097777009, 0.304737395375967, 0.3501352618932724, 0.3997838859856129, 0.4503275789320469, 0.5020330391824246, 0.5539399093985558, 0.6014800870418548, 0.6403166391849517, 0.6691649305820465, 0.6858627563118934, 0.6893906172513962, 0.6801138498783111, 0.6583087099790573, 0.625961947530508, 0.5859422354996204]\n"
     ]
    }
   ],
   "source": [
    "lvals_D = []\n",
    "vlvals_D = []\n",
    "\n",
    "for theta in thetas:\n",
    "    print(\"Testing theta = \", theta)\n",
    "    model_D.compile(optimizer='adam',\n",
    "                  loss=my_loss_wrapper_D(theta,\n",
    "                                         loss='categorical_crossentropy',\n",
    "                                         batch_size=batch_size),\n",
    "                  metrics=['accuracy'])\n",
    "\n",
    "    history = model_D.fit(np.array(X_train_D),\n",
    "                        y_train_D,\n",
    "                        epochs=100,\n",
    "                        batch_size=batch_size,\n",
    "                        validation_data=(np.array(X_test_D), y_test_D),\n",
    "                        verbose=0,\n",
    "                        callbacks=[earlystopping])\n",
    "\n",
    "    min_lval = history.history['loss'][np.argmin(history.history['val_loss'])]\n",
    "    min_vlval = np.min(history.history['val_loss'])\n",
    "\n",
    "    lvals_D += [min_lval]\n",
    "    vlvals_D += [min_vlval]\n",
    "\n",
    "    print(\"loss: \", min_lval)\n",
    "    print(\"val_loss: \", min_vlval)\n",
    "    print(\"\\n\")\n",
    "    pass\n",
    "print(lvals_D)"
   ]
  },
  {
   "cell_type": "code",
   "execution_count": 27,
   "metadata": {
    "ExecuteTime": {
     "end_time": "2020-08-15T18:14:47.882418Z",
     "start_time": "2020-08-15T18:14:47.479056Z"
    }
   },
   "outputs": [
    {
     "data": {
      "image/png": "[encoded data removed]",
      "text/plain": [
       "<Figure size 432x288 with 1 Axes>"
      ]
     },
     "metadata": {
      "needs_background": "light"
     },
     "output_type": "display_data"
    }
   ],
   "source": [
    "plt.plot(thetas, lvals_D, label='Loss')\n",
    "plt.plot(thetas, vlvals_D, label='Validation Loss')\n",
    "plt.xlabel(r'$\\theta$')\n",
    "plt.ylabel('Loss')\n",
    "plt.vlines(theta1_param,\n",
    "           ymin=np.min(lvals_D),\n",
    "           ymax=np.max(lvals_D),\n",
    "           label='Truth')\n",
    "plt.title(\"Detector Level: Theta vs. Loss\")\n",
    "plt.legend()\n",
    "# plt.savefig(\"GaussianAltFit-1D-ThetaDependentDetectorEffects-Detector-Level:-Theta-vs-Loss.png\")\n",
    "plt.show()"
   ]
  },
  {
   "cell_type": "code",
   "execution_count": 28,
   "metadata": {
    "ExecuteTime": {
     "end_time": "2020-08-15T18:14:47.950462Z",
     "start_time": "2020-08-15T18:14:47.884271Z"
    }
   },
   "outputs": [
    {
     "name": "stdout",
     "output_type": "stream",
     "text": [
      "Interpolated Maximum:  0.9999999914183849\n"
     ]
    }
   ],
   "source": [
    "f = sp.interpolate.interp1d(thetas, lvals_D, fill_value=\"extrapolate\")\n",
    "\n",
    "print(\"Interpolated Maximum: \",\n",
    "      sp.optimize.minimize(lambda x: -f(x), x0=0)['x'][0])"
   ]
  },
  {
   "cell_type": "markdown",
   "metadata": {},
   "source": [
    "### Comparison Plot"
   ]
  },
  {
   "cell_type": "code",
   "execution_count": 29,
   "metadata": {
    "ExecuteTime": {
     "end_time": "2020-08-15T18:14:48.411080Z",
     "start_time": "2020-08-15T18:14:47.954172Z"
    }
   },
   "outputs": [
    {
     "data": {
      "image/png": "[encoded data removed]",
      "text/plain": [
       "<Figure size 432x288 with 1 Axes>"
      ]
     },
     "metadata": {
      "needs_background": "light"
     },
     "output_type": "display_data"
    }
   ],
   "source": [
    "plt.plot(thetas, vlvals_T, label='Truth Level')\n",
    "plt.plot(thetas, vlvals_D, label='Detector Level')\n",
    "plt.xlabel(r'$\\theta$')\n",
    "plt.ylabel('Loss')\n",
    "plt.vlines(theta1_param,\n",
    "           ymin=np.min(vlvals_T + vlvals_D),\n",
    "           ymax=np.max(vlvals_T + vlvals_D),\n",
    "           label='Truth')\n",
    "plt.title(\"Truth vs. Detector Loss Comparison\")\n",
    "plt.legend()\n",
    "# plt.savefig(\"GaussianAltFit-1D-ThetaDependentDetectorEffects-Truth-vs-Detector-Loss-Comparison.png\")\n",
    "plt.show()"
   ]
  },
  {
   "cell_type": "markdown",
   "metadata": {},
   "source": [
    "We've shown for fixed $\\theta$, the maximum loss occurs when $\\theta=\\theta_1$"
   ]
  },
  {
   "cell_type": "markdown",
   "metadata": {},
   "source": [
    "# More complex, uneven detector effects"
   ]
  },
  {
   "cell_type": "markdown",
   "metadata": {},
   "source": [
    "To apply detector effects here, each event's primary truth observable $x_{T,i,0}$in the sample is smeared by shifting by $Z_{i}$ from $Z = \\mathcal{N}((x_{T,i,1})^2,(x_{T,i,1})^2)$ ,where the square of the secondary truth observable $x_{T,i,1}$ represents the some shifting bias as well as smearing. Thus: $x_{D,i} = x_{T,i,0} + Z_{i}$"
   ]
  },
  {
   "cell_type": "code",
   "execution_count": 30,
   "metadata": {
    "ExecuteTime": {
     "end_time": "2020-08-15T18:15:08.901898Z",
     "start_time": "2020-08-15T18:14:48.412956Z"
    }
   },
   "outputs": [],
   "source": [
    "# Generate detector level by smearing truth\n",
    "\n",
    "X0_val_D_new = np.array([(x[0] + np.random.normal(x[1]**2, x[1]**2))\n",
    "                     for x in X0_val_T])  # Detector smearing\n",
    "X1_val_D_new = np.array([(x[0] + np.random.normal(x[1]**2, x[1]**2))\n",
    "                     for x in X1_val_T])  # Detector smearing"
   ]
  },
  {
   "cell_type": "code",
   "execution_count": 31,
   "metadata": {
    "ExecuteTime": {
     "end_time": "2020-08-15T18:15:11.678060Z",
     "start_time": "2020-08-15T18:15:08.904058Z"
    }
   },
   "outputs": [
    {
     "data": {
      "image/png": "[encoded data removed]",
      "text/plain": [
       "<Figure size 432x288 with 2 Axes>"
      ]
     },
     "metadata": {
      "needs_background": "light"
     },
     "output_type": "display_data"
    }
   ],
   "source": [
    "fig, axs = plt.subplots(1, 2, sharey=True, constrained_layout=True)\n",
    "fig.suptitle('New Detector Smearing')\n",
    "axs[0].set_title('$\\mu=0$')\n",
    "axs[0].hist(X0_val_T[:,0], bins=bins, alpha=0.5, label='Truth')\n",
    "axs[0].hist(X0_val_D_new, bins=bins, alpha=0.5, label='Detector')\n",
    "axs[0].legend(prop=fontP, loc = 'upper left')\n",
    "axs[1].set_title('$\\mu={}$'.format(mu1))\n",
    "axs[1].hist(X1_val_T[:,0], bins=bins, alpha=0.5, label='Truth')\n",
    "axs[1].hist(X1_val_D_new, bins=bins, alpha=0.5, label='Detector')\n",
    "axs[1].legend(prop=fontP, loc = 'upper left')\n",
    "fig.show()"
   ]
  },
  {
   "cell_type": "markdown",
   "metadata": {},
   "source": [
    "Note that the same validation weights will work here as reweighting only depends only on truth, which is determined by $(x_{T,i,0},x_{T,i,1})$ and not how the detector effects are applied, so long these effects depend solely on truth in some way."
   ]
  },
  {
   "cell_type": "code",
   "execution_count": 32,
   "metadata": {
    "ExecuteTime": {
     "end_time": "2020-08-15T18:15:12.741370Z",
     "start_time": "2020-08-15T18:15:11.681934Z"
    }
   },
   "outputs": [
    {
     "data": {
      "image/png": "[encoded data removed]",
      "text/plain": [
       "<Figure size 432x288 with 1 Axes>"
      ]
     },
     "metadata": {
      "needs_background": "light"
     },
     "output_type": "display_data"
    }
   ],
   "source": [
    "bins = np.linspace(-7, 7, 31)\n",
    "plt.hist(X0_val_D_new, bins=bins, alpha=0.5, label=r'$\\mu=0$')\n",
    "plt.hist(X0_val_D_new,\n",
    "         bins=bins,\n",
    "         label=r'$\\mu=0$ DCTR wgt.',\n",
    "         weights=weights_val,\n",
    "         histtype='step',\n",
    "         color='k')\n",
    "plt.hist(X1_val_D_new, bins=bins, alpha=0.5, label=r'$\\mu={}$'.format(mu1))\n",
    "plt.legend(prop=fontP)\n",
    "plt.title(\"New Detector Level: Reweighting\")\n",
    "#plt.savefig(\"GaussianAltFit-1D-ThetaDependentDetectorEffects-New-Detector-Level:Reweighting.png\")\n",
    "plt.show()"
   ]
  },
  {
   "cell_type": "markdown",
   "metadata": {},
   "source": [
    "## Scanning with New Effects"
   ]
  },
  {
   "cell_type": "code",
   "execution_count": 33,
   "metadata": {
    "ExecuteTime": {
     "end_time": "2020-08-15T18:15:36.594326Z",
     "start_time": "2020-08-15T18:15:12.744732Z"
    }
   },
   "outputs": [
    {
     "data": {
      "image/png": "[encoded data removed]",
      "text/plain": [
       "<Figure size 432x288 with 2 Axes>"
      ]
     },
     "metadata": {
      "needs_background": "light"
     },
     "output_type": "display_data"
    }
   ],
   "source": [
    "N = 10**6\n",
    "theta0_param = 0  # this is the simulation ... N.B. this notation is reversed from above!\n",
    "theta1_param = 1  # this is the data (the target)\n",
    "sigma = 1.  # standard Gaussian width\n",
    "# epsilon = sigma / 2  # Smearing width\n",
    "\n",
    "theta0_T_0 = np.random.normal(theta0_param, sigma, N)  # Truth Level Data\n",
    "theta0_T_1 = np.random.normal(0, nu(theta0_param), N)\n",
    "theta0_T = np.stack((theta0_T_0, theta0_T_1), axis = -1)\n",
    "\n",
    "theta0_D = np.array([(x[0] + np.random.normal(x[1]**2, x[1]**2))\n",
    "                     for x in theta0_T])  # Detector smearing\n",
    "\n",
    "theta0 = np.hstack([theta0_T, np.expand_dims(theta0_D, axis = -1)])\n",
    "\n",
    "theta1_T = np.random.normal(theta1_param, sigma, N)\n",
    "theta1_T_ep = np.random.normal(0, nu(theta1_param), N)\n",
    "theta1_T = np.stack((theta1_T, theta1_T_ep), axis = -1)\n",
    "\n",
    "theta1_D = np.array([(x[0] + np.random.normal(x[1]**2, x[1]**2))\n",
    "                     for x in theta1_T])  # Detector smearing\n",
    "\n",
    "theta1 = np.hstack([theta1_T, np.expand_dims(theta1_D, axis = -1)])\n",
    "\n",
    "bins = np.linspace(-6, 6, 31)\n",
    "\n",
    "fig, axs = plt.subplots(1, 2, sharey=True, constrained_layout=True)\n",
    "fig.suptitle('Fitting Data with New Detector Effects')\n",
    "\n",
    "axs[0].set_title(\"Simulation\\n($\\mu$ = {:.2f})\".format(theta0_param))\n",
    "axs[0].hist(theta0_T[:,0], bins=bins, alpha=0.5, label='Truth')\n",
    "axs[0].hist(theta0_D, bins=bins, alpha=0.5, label='Detector')\n",
    "axs[0].legend(prop=fontP, loc = 'upper left')\n",
    "\n",
    "axs[1].set_title(\"Data\\n($\\mu$ = {:.2f})\".format(theta1_param))\n",
    "axs[1].hist(theta1_T[:,0], bins=bins, alpha=0.5, label='Truth')\n",
    "axs[1].hist(theta1_D, bins=bins, alpha=0.5, label='Detector')\n",
    "axs[1].legend(prop=fontP, loc = 'upper left')\n",
    "\n",
    "# fig.savefig(\"GaussianAltFit-1D-ThetaDependentDetectorEffects-Fitting-Data-with-New-Detector-Effects.png\")\n",
    "plt.show()\n",
    "\n",
    "labels0 = np.zeros(len(theta0))\n",
    "labels1 = np.ones(len(theta1))\n",
    "\n",
    "xvals = np.concatenate([theta0, theta1])\n",
    "yvals = np.concatenate([labels0, labels1])\n",
    "\n",
    "X_train, X_test, y_train, y_test = train_test_split(xvals,\n",
    "                                                    yvals,\n",
    "                                                    test_size=0.5)\n",
    "X_train_theta, y_train_theta = shuffle(xvals, yvals)\n",
    "\n",
    "X_train_T, y_train_T = np.copy(X_train[:, :2]), y_train\n",
    "X_test_T, y_test_T = np.copy(X_test[:, :2]), y_test\n",
    "X_train_theta_T, y_train_theta_T = np.copy(X_train_theta[:, :2]), y_train_theta\n",
    "\n",
    "#' Erasing' Truth level for data, we can't actually observe this\n",
    "X_train[:, :2][y_train == 1], X_test[:, :2][y_test == 1] = 0., 0.\n",
    "X_train_theta[:, :2][y_train_theta == 1] = 0.\n",
    "\n",
    "# 'hiding' truth level for simulation in expected model output (used in reweighting)\n",
    "X_train_D, y_train_D = X_train[:, 2], np.hstack([np.expand_dims(y_train, axis = -1), X_train[:, :2]])\n",
    "X_test_D, y_test_D = X_test[:, 2], np.hstack([np.expand_dims(y_test, axis=-1), X_test[:, :2]])\n",
    "\n",
    "X_train_theta_D, y_train_theta_D = X_train_theta[:, 1], np.hstack(\n",
    "    [np.expand_dims(y_train_theta, axis = -1), X_train_theta[:, :2]])"
   ]
  },
  {
   "cell_type": "markdown",
   "metadata": {},
   "source": [
    "Notice how detector smearing and right-shifting is more intense for \"Data\"."
   ]
  },
  {
   "cell_type": "code",
   "execution_count": 34,
   "metadata": {
    "ExecuteTime": {
     "end_time": "2020-08-15T18:49:45.432037Z",
     "start_time": "2020-08-15T18:15:36.599431Z"
    },
    "scrolled": true
   },
   "outputs": [
    {
     "name": "stdout",
     "output_type": "stream",
     "text": [
      "Testing theta =  -2.0\n",
      "loss:  0.1482662498652935\n",
      "val_loss:  0.14778789280354976\n",
      "\n",
      "\n",
      "Testing theta =  -1.75\n",
      "loss:  0.18439000046253204\n",
      "val_loss:  0.18363221107423305\n",
      "\n",
      "\n",
      "Testing theta =  -1.5\n",
      "loss:  0.22190306615829467\n",
      "val_loss:  0.22129595932364463\n",
      "\n",
      "\n",
      "Testing theta =  -1.25\n",
      "loss:  0.2679043566584587\n",
      "val_loss:  0.2671674179136753\n",
      "\n",
      "\n",
      "Testing theta =  -1.0\n",
      "loss:  0.3206510362923145\n",
      "val_loss:  0.31998802703619006\n",
      "\n",
      "\n",
      "Testing theta =  -0.75\n",
      "loss:  0.3788033929169178\n",
      "val_loss:  0.37826479053497314\n",
      "\n",
      "\n",
      "Testing theta =  -0.5\n",
      "loss:  0.44216383263468745\n",
      "val_loss:  0.4416236382126808\n",
      "\n",
      "\n",
      "Testing theta =  -0.25\n",
      "loss:  0.5083088766336441\n",
      "val_loss:  0.507852195173502\n",
      "\n",
      "\n",
      "Testing theta =  0.0\n",
      "loss:  0.5710137573480606\n",
      "val_loss:  0.570480607688427\n",
      "\n",
      "\n",
      "Testing theta =  0.25\n",
      "loss:  0.623732130408287\n",
      "val_loss:  0.6229675885438919\n",
      "\n",
      "\n",
      "Testing theta =  0.5\n",
      "loss:  0.663171350300312\n",
      "val_loss:  0.6619957021474838\n",
      "\n",
      "\n",
      "Testing theta =  0.75\n",
      "loss:  0.6864397933483124\n",
      "val_loss:  0.6852429519891738\n",
      "\n",
      "\n",
      "Testing theta =  1.0\n",
      "loss:  0.6921138410568237\n",
      "val_loss:  0.6915128530263901\n",
      "\n",
      "\n",
      "Testing theta =  1.25\n",
      "loss:  0.6823509696722031\n",
      "val_loss:  0.6824390308856965\n",
      "\n",
      "\n",
      "Testing theta =  1.5\n",
      "loss:  0.6597137349247932\n",
      "val_loss:  0.6599465748667717\n",
      "\n",
      "\n",
      "Testing theta =  1.75\n",
      "loss:  0.6251692401170731\n",
      "val_loss:  0.6268357097804547\n",
      "\n",
      "\n",
      "Testing theta =  2.0\n",
      "loss:  0.5843380233049392\n",
      "val_loss:  0.5873484667241573\n",
      "\n",
      "\n",
      "[0.22426963584125043, 0.265814097777009, 0.304737395375967, 0.3501352618932724, 0.3997838859856129, 0.4503275789320469, 0.5020330391824246, 0.5539399093985558, 0.6014800870418548, 0.6403166391849517, 0.6691649305820465, 0.6858627563118934, 0.6893906172513962, 0.6801138498783111, 0.6583087099790573, 0.625961947530508, 0.5859422354996204]\n"
     ]
    }
   ],
   "source": [
    "lvals_D_new = []\n",
    "vlvals_D_new = []\n",
    "\n",
    "for theta in thetas:\n",
    "    print(\"Testing theta = \", theta)\n",
    "    model_D.compile(optimizer='adam',\n",
    "                  loss=my_loss_wrapper_D(theta,\n",
    "                                         loss='categorical_crossentropy',\n",
    "                                         batch_size=batch_size),\n",
    "                  metrics=['accuracy'])\n",
    "\n",
    "    history = model_D.fit(np.array(X_train_D),\n",
    "                        y_train_D,\n",
    "                        epochs=100,\n",
    "                        batch_size=batch_size,\n",
    "                        validation_data=(np.array(X_test_D), y_test_D),\n",
    "                        verbose=0,\n",
    "                        callbacks=[earlystopping])\n",
    "\n",
    "    min_lval = history.history['loss'][np.argmin(history.history['val_loss'])]\n",
    "    min_vlval = np.min(history.history['val_loss'])\n",
    "\n",
    "    lvals_D_new += [min_lval]\n",
    "    vlvals_D_new += [min_vlval]\n",
    "\n",
    "    print(\"loss: \", min_lval)\n",
    "    print(\"val_loss: \", min_vlval)\n",
    "    print(\"\\n\")\n",
    "    pass\n",
    "print(lvals_D)"
   ]
  },
  {
   "cell_type": "code",
   "execution_count": 35,
   "metadata": {
    "ExecuteTime": {
     "end_time": "2020-08-15T18:49:45.861087Z",
     "start_time": "2020-08-15T18:49:45.444897Z"
    }
   },
   "outputs": [
    {
     "data": {
      "image/png": "[encoded data removed]",
      "text/plain": [
       "<Figure size 432x288 with 1 Axes>"
      ]
     },
     "metadata": {
      "needs_background": "light"
     },
     "output_type": "display_data"
    }
   ],
   "source": [
    "plt.plot(thetas, lvals_D_new, label='Loss')\n",
    "plt.plot(thetas, vlvals_D_new, label='Validation Loss')\n",
    "plt.xlabel(r'$\\theta$')\n",
    "plt.ylabel('Loss')\n",
    "plt.vlines(theta1_param,\n",
    "           ymin=np.min(lvals_D_new),\n",
    "           ymax=np.max(lvals_D_new),\n",
    "           label='Truth')\n",
    "plt.title(\"New Detector Level: Theta vs. Loss\")\n",
    "plt.legend()\n",
    "# plt.savefig(\"GaussianAltFit-1D-ThetaDependentDetectorEffects-New-Detector-Level:-Theta-vs-Loss.png\")\n",
    "plt.show()"
   ]
  },
  {
   "cell_type": "code",
   "execution_count": 36,
   "metadata": {
    "ExecuteTime": {
     "end_time": "2020-08-15T18:49:45.888415Z",
     "start_time": "2020-08-15T18:49:45.863388Z"
    }
   },
   "outputs": [
    {
     "name": "stdout",
     "output_type": "stream",
     "text": [
      "Interpolated Maximum:  0.9999999905759623\n"
     ]
    }
   ],
   "source": [
    "f = sp.interpolate.interp1d(thetas, lvals_D_new, fill_value=\"extrapolate\")\n",
    "\n",
    "print(\"Interpolated Maximum: \",\n",
    "      sp.optimize.minimize(lambda x: -f(x), x0=0)['x'][0])"
   ]
  },
  {
   "cell_type": "markdown",
   "metadata": {},
   "source": [
    "### Comparison Plot"
   ]
  },
  {
   "cell_type": "code",
   "execution_count": 37,
   "metadata": {
    "ExecuteTime": {
     "end_time": "2020-08-15T18:49:46.648569Z",
     "start_time": "2020-08-15T18:49:45.896601Z"
    }
   },
   "outputs": [
    {
     "data": {
      "image/png": "[encoded data removed]",
      "text/plain": [
       "<Figure size 432x288 with 1 Axes>"
      ]
     },
     "metadata": {
      "needs_background": "light"
     },
     "output_type": "display_data"
    }
   ],
   "source": [
    "plt.plot(thetas, vlvals_T, label='Truth Level')\n",
    "plt.plot(thetas, vlvals_D, label='Old Detector Level')\n",
    "plt.plot(thetas, vlvals_D_new, label='New Detector Level')\n",
    "plt.xlabel(r'$\\theta$')\n",
    "plt.ylabel('Loss')\n",
    "plt.vlines(theta1_param,\n",
    "           ymin=np.min(vlvals_T + vlvals_D + vlvals_D_new),\n",
    "           ymax=np.max(vlvals_T + vlvals_D + vlvals_D_new),\n",
    "           label='Truth')\n",
    "plt.title(\"Truth vs. Detector Loss Comparison (Overall)\")\n",
    "plt.legend()\n",
    "# plt.savefig(\"GaussianAltFit-1D-ThetaDependentDetectorEffects-Truth-vs-Detector-Loss-Comparison-Overall.png\")\n",
    "plt.show()"
   ]
  }
 ],
 "metadata": {
  "kernelspec": {
   "display_name": "Python 3",
   "language": "python",
   "name": "python3"
  },
  "language_info": {
   "codemirror_mode": {
    "name": "ipython",
    "version": 3
   },
   "file_extension": ".py",
   "mimetype": "text/x-python",
   "name": "python",
   "nbconvert_exporter": "python",
   "pygments_lexer": "ipython3",
   "version": "3.5.2"
  },
  "notify_time": "0",
  "toc": {
   "base_numbering": 1,
   "nav_menu": {},
   "number_sections": false,
   "sideBar": true,
   "skip_h1_title": false,
   "title_cell": "Table of Contents",
   "title_sidebar": "Contents",
   "toc_cell": false,
   "toc_position": {
    "height": "calc(100% - 180px)",
    "left": "10px",
    "top": "150px",
    "width": "288px"
   },
   "toc_section_display": true,
   "toc_window_display": false
  }
 },
 "nbformat": 4,
 "nbformat_minor": 2
}
