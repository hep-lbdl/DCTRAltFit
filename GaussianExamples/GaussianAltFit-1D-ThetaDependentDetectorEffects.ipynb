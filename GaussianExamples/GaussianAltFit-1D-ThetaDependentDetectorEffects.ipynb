{
 "cells": [
  {
   "cell_type": "code",
   "execution_count": 1,
   "metadata": {
    "ExecuteTime": {
     "end_time": "2020-08-16T03:48:29.859917Z",
     "start_time": "2020-08-16T03:48:29.853393Z"
    }
   },
   "outputs": [],
   "source": [
    "import os\n",
    "os.environ[\"CUDA_DEVICE_ORDER\"] = \"PCI_BUS_ID\"\n",
    "os.environ[\"CUDA_VISIBLE_DEVICES\"] = \"0\""
   ]
  },
  {
   "cell_type": "code",
   "execution_count": 2,
   "metadata": {
    "ExecuteTime": {
     "end_time": "2020-08-16T03:48:33.570672Z",
     "start_time": "2020-08-16T03:48:29.863872Z"
    }
   },
   "outputs": [
    {
     "name": "stderr",
     "output_type": "stream",
     "text": [
      "Using TensorFlow backend.\n"
     ]
    }
   ],
   "source": [
    "# standard library imports\n",
    "from __future__ import absolute_import, division, print_function\n",
    "\n",
    "import numpy as np\n",
    "from matplotlib import pyplot as plt\n",
    "import scipy as sp\n",
    "\n",
    "from scipy.signal import argrelmin, argrelmax\n",
    "\n",
    "from sklearn.utils import shuffle\n",
    "from sklearn.model_selection import train_test_split\n",
    "\n",
    "import tensorflow as tf\n",
    "from keras.layers import Lambda, Dense, Input, Layer\n",
    "from keras.models import Model\n",
    "from keras.utils import to_categorical\n",
    "from keras.callbacks import LambdaCallback, EarlyStopping\n",
    "import keras.backend as K\n",
    "import keras"
   ]
  },
  {
   "cell_type": "code",
   "execution_count": 3,
   "metadata": {
    "ExecuteTime": {
     "end_time": "2020-08-16T03:48:33.582814Z",
     "start_time": "2020-08-16T03:48:33.573659Z"
    }
   },
   "outputs": [],
   "source": [
    "# Global plot settings\n",
    "from matplotlib import rc\n",
    "import matplotlib.font_manager\n",
    "from matplotlib.font_manager import FontProperties\n",
    "\n",
    "rc('font', family='serif')\n",
    "rc('text', usetex=True)\n",
    "rc('font', size=22)\n",
    "rc('xtick', labelsize=15)\n",
    "rc('ytick', labelsize=15)\n",
    "rc('legend', fontsize=15)\n",
    "\n",
    "fontP = FontProperties()\n",
    "fontP.set_size(10)"
   ]
  },
  {
   "cell_type": "code",
   "execution_count": 4,
   "metadata": {
    "ExecuteTime": {
     "end_time": "2020-08-16T03:48:33.597012Z",
     "start_time": "2020-08-16T03:48:33.585062Z"
    },
    "scrolled": true
   },
   "outputs": [
    {
     "name": "stdout",
     "output_type": "stream",
     "text": [
      "1.15.0\n",
      "2.2.4\n"
     ]
    }
   ],
   "source": [
    "# Check Versions\n",
    "print(tf.__version__)  #1.15.0\n",
    "print(keras.__version__)  #2.2.4"
   ]
  },
  {
   "cell_type": "markdown",
   "metadata": {},
   "source": [
    "# Alternative DCTR fitting algorithm\n",
    "\n",
    "The DCTR paper (https://arxiv.org/abs/1907.08209) shows how a continuously parameterized NN used for reweighting:\n",
    "\n",
    "$f(x,\\theta)=\\text{argmax}_{f'}(\\sum_{i\\in\\bf{\\theta}_0}\\log f'(x_i,\\theta)+\\sum_{i\\in\\bf{\\theta}}\\log (1-f'(x_i,\\theta)))$\n",
    "\n",
    "can also be used for fitting:\n",
    "\n",
    "$\\theta^*=\\text{argmax}_{\\theta'}(\\sum_{i\\in\\bf{\\theta}_0}\\log f(x_i,\\theta')+\\sum_{i\\in\\bf{\\theta}}\\log (1-f(x_i,\\theta')))$\n",
    "\n",
    "This works well when the reweighting and fitting happen on the same 'level'.  However, if the reweighting happens at truth level (before detector simulation) while the fit happens in data (after the effects of the detector), this procedure will not work.  It works only if the reweighting and fitting both happen at detector-level or both happen at truth-level.  This notebook illustrates an alternative procedure:\n",
    "\n",
    "$\\theta^*=\\text{argmax}_{\\theta'}\\text{min}_{g}(-\\sum_{i\\in\\bf{\\theta}_0}\\log g(x_i)-\\sum_{i\\in\\bf{\\theta}}(f(x_i,\\theta')/(1-f(x_i,\\theta')))\\log (1-g(x_i)))$\n",
    "\n",
    "where the $f(x,\\theta')/(1-f(x,\\theta'))$ is the reweighting function.  The intuition of the above equation is that the classifier $g$ is trying to distinguish the two samples and we try to find a $\\theta$ that makes $g$'s task maximally hard.  If $g$ can't tell apart the two samples, then the reweighting has worked!  This is similar to the minimax graining of a GAN, only now the analog of the generator network is the reweighting network which is fixed and thus the only trainable parameters are the $\\theta'$.  The advantage of this second approach is that it readily generalizes to the case where the reweighting happens on a different level:\n",
    "\n",
    "$\\theta^*=\\text{argmax}_{\\theta'}\\text{min}_{g}(-\\sum_{i\\in\\bf{\\theta}_0}\\log g(x_{D,i})-\\sum_{i\\in\\bf{\\theta}}\\frac{f(x_{T,i},\\theta')}{(1-f(x_{T,i},\\theta'))}\\log (1-g(x_{D,i})))$\n",
    "\n",
    "where $x_T$ is the truth value and $x_D$ is the detector-level value.  In simulation (the second sum), these come in pairs and so one can apply the reweighting on one level and the classification on the other.  Asympotitically, both this method and the one in the body of the DCTR paper learn the same result: $\\theta^*=\\theta_0$."
   ]
  },
  {
   "cell_type": "markdown",
   "metadata": {},
   "source": [
    "# Training a DCTR Model\n",
    "First, we need to train a DCTR model to provide us with a reweighting function to be used during fitting.\n",
    "This is taken directly from the original Gaussian DCTR Example."
   ]
  },
  {
   "cell_type": "markdown",
   "metadata": {},
   "source": [
    "We will now parametrize our network by giving it a $\\mu$ value in addition to $X_{i,0}\\sim\\mathcal{N}(\\mu, 1)$ and $X_{i,1}\\sim\\mathcal{N}(0, \\nu)$, where $\\nu = (\\omega_0 +\\omega_1\\mu)^2$ for some constant terms $\\omega_0$, $\\omega_1$ and $X_{i,1}$ is a secondary truth observable that will determinte detector effects for $X_{i,0}$.\n",
    "\n",
    "First we uniformly sample $\\mu$ values in some range"
   ]
  },
  {
   "cell_type": "markdown",
   "metadata": {},
   "source": [
    "We then sample from normal distributions with this $\\mu$ and its respective $\\nu$ value."
   ]
  },
  {
   "cell_type": "markdown",
   "metadata": {},
   "source": [
    "Please note that the samples in X0 are not paired with $\\mu=0$ as this would make the task trivial. \n",
    "\n",
    "Instead it is paired with the $\\mu$ values uniformly sampled in the specified range [mu_min, mu_max].\n",
    "\n",
    "For every value of $\\mu$ in mu_values, the network sees one event drawn from $(\\mathcal{N}(0,1),\\mathcal{N}(0,\\nu_{0}))$ and $(\\mathcal{N}(\\mu,1),\\mathcal{N}(0,\\nu_{\\mu}))$, and it learns to classify them. \n",
    "\n",
    "i.e. we have one network that's parametrized by $\\mu$ that classifies between events from $(\\mathcal{N}(0,1),\\mathcal{N}(0,\\nu_{0}))$ and $(\\mathcal{N}(\\mu,1),\\mathcal{N}(0,\\nu_{\\mu}))$, and a trained network will give us the likelihood ratio to reweight from one to another. "
   ]
  },
  {
   "cell_type": "markdown",
   "metadata": {},
   "source": [
    "## Build and Train DCTR model"
   ]
  },
  {
   "cell_type": "code",
   "execution_count": 5,
   "metadata": {
    "ExecuteTime": {
     "end_time": "2020-08-16T03:48:33.609663Z",
     "start_time": "2020-08-16T03:48:33.600182Z"
    }
   },
   "outputs": [],
   "source": [
    "def nu(theta, omega_0=0.7, omega_1=0.2):\n",
    "    return (omega_0 + omega_1 * theta)**2"
   ]
  },
  {
   "cell_type": "code",
   "execution_count": 6,
   "metadata": {
    "ExecuteTime": {
     "end_time": "2020-08-16T03:48:33.640384Z",
     "start_time": "2020-08-16T03:48:33.611846Z"
    }
   },
   "outputs": [],
   "source": [
    "# Either load or train DCTR\n",
    "\n",
    "\n",
    "# TDDE = Theta Dependent Detector Effects\n",
    "def get_dctr(load=False, n_data_points=10**6, mu_min=-2, mu_max=2, TDDE=True):\n",
    "    if load:\n",
    "        json_file = open('1d_gaussian_dctr_model.json', 'r')\n",
    "        loaded_model_json = json_file.read()\n",
    "        json_file.close()\n",
    "        dctr_model = keras.models.model_from_json(loaded_model_json)\n",
    "        # load weights into new model\n",
    "        dctr_model.load_weights(\"1d_gaussian_dctr_model.h5\")\n",
    "        print(\"Loaded model from disk\")\n",
    "    else:\n",
    "\n",
    "        # Generate training & validation data\n",
    "        mu_values = np.random.uniform(mu_min, mu_max, n_data_points)\n",
    "        if TDDE == True:\n",
    "            X0 = [(np.random.normal(0, 1), np.random.normal(0, nu(0)), mu)\n",
    "                  for mu in mu_values]  # Note the zero in normal(0, 1)\n",
    "\n",
    "            X1 = [(np.random.normal(mu, 1), np.random.normal(0, nu(mu)), mu)\n",
    "                  for mu in mu_values]\n",
    "        else:\n",
    "            X0 = [(np.random.normal(0, 1), mu)\n",
    "                  for mu in mu_values]  # Note the zero in normal(0, 1)\n",
    "\n",
    "            X1 = [(np.random.normal(mu, 1), mu) for mu in mu_values]\n",
    "\n",
    "        Y0 = to_categorical(np.zeros(n_data_points), num_classes=2)\n",
    "        Y1 = to_categorical(np.ones(n_data_points), num_classes=2)\n",
    "\n",
    "        X = np.concatenate((X0, X1))\n",
    "        Y = np.concatenate((Y0, Y1))\n",
    "\n",
    "        X_train, X_test, Y_train, Y_test = train_test_split(X,\n",
    "                                                            Y,\n",
    "                                                            test_size=0.5)\n",
    "\n",
    "        # Build Model\n",
    "        if TDDE == True:\n",
    "            inputs = Input((3, ))\n",
    "        else:\n",
    "            inputs = Input((2, ))\n",
    "        hidden_layer_1 = Dense(50, activation='relu')(inputs)\n",
    "        hidden_layer_2 = Dense(50, activation='relu')(hidden_layer_1)\n",
    "        hidden_layer_3 = Dense(50, activation='relu')(hidden_layer_2)\n",
    "        outputs = Dense(2, activation='softmax')(hidden_layer_3)\n",
    "\n",
    "        dctr_model = Model(inputs=inputs, outputs=outputs)\n",
    "        dctr_model.compile(loss='categorical_crossentropy',\n",
    "                           optimizer='Adam',\n",
    "                           metrics=['accuracy'])\n",
    "\n",
    "        # Train Model\n",
    "        earlystopping = EarlyStopping(patience=10, restore_best_weights=True)\n",
    "        dctr_model.fit(X_train,\n",
    "                       Y_train,\n",
    "                       epochs=200,\n",
    "                       batch_size=10000,\n",
    "                       validation_data=(X_test, Y_test),\n",
    "                       callbacks=[earlystopping],\n",
    "                       verbose=0)\n",
    "        print(\"Trained DCTR Model\")\n",
    "\n",
    "    return dctr_model"
   ]
  },
  {
   "cell_type": "markdown",
   "metadata": {},
   "source": [
    "### Getting Model"
   ]
  },
  {
   "cell_type": "code",
   "execution_count": 7,
   "metadata": {
    "ExecuteTime": {
     "end_time": "2020-08-16T04:25:03.189193Z",
     "start_time": "2020-08-16T03:48:33.643184Z"
    }
   },
   "outputs": [
    {
     "name": "stdout",
     "output_type": "stream",
     "text": [
      "WARNING:tensorflow:From /home/asuresh/.local/lib/python3.5/site-packages/keras/backend/tensorflow_backend.py:74: The name tf.get_default_graph is deprecated. Please use tf.compat.v1.get_default_graph instead.\n",
      "\n",
      "WARNING:tensorflow:From /home/asuresh/.local/lib/python3.5/site-packages/keras/backend/tensorflow_backend.py:517: The name tf.placeholder is deprecated. Please use tf.compat.v1.placeholder instead.\n",
      "\n",
      "WARNING:tensorflow:From /home/asuresh/.local/lib/python3.5/site-packages/keras/backend/tensorflow_backend.py:4138: The name tf.random_uniform is deprecated. Please use tf.random.uniform instead.\n",
      "\n",
      "WARNING:tensorflow:From /home/asuresh/.local/lib/python3.5/site-packages/keras/optimizers.py:790: The name tf.train.Optimizer is deprecated. Please use tf.compat.v1.train.Optimizer instead.\n",
      "\n",
      "WARNING:tensorflow:From /home/asuresh/.local/lib/python3.5/site-packages/keras/backend/tensorflow_backend.py:3295: The name tf.log is deprecated. Please use tf.math.log instead.\n",
      "\n",
      "WARNING:tensorflow:From /home/asuresh/.local/lib/python3.5/site-packages/tensorflow_core/python/ops/math_grad.py:1424: where (from tensorflow.python.ops.array_ops) is deprecated and will be removed in a future version.\n",
      "Instructions for updating:\n",
      "Use tf.where in 2.0, which has the same broadcast rule as np.where\n",
      "WARNING:tensorflow:From /home/asuresh/.local/lib/python3.5/site-packages/keras/backend/tensorflow_backend.py:986: The name tf.assign_add is deprecated. Please use tf.compat.v1.assign_add instead.\n",
      "\n",
      "WARNING:tensorflow:From /home/asuresh/.local/lib/python3.5/site-packages/keras/backend/tensorflow_backend.py:973: The name tf.assign is deprecated. Please use tf.compat.v1.assign instead.\n",
      "\n",
      "WARNING:tensorflow:From /home/asuresh/.local/lib/python3.5/site-packages/keras/backend/tensorflow_backend.py:2741: The name tf.Session is deprecated. Please use tf.compat.v1.Session instead.\n",
      "\n",
      "WARNING:tensorflow:From /home/asuresh/.local/lib/python3.5/site-packages/keras/backend/tensorflow_backend.py:174: The name tf.get_default_session is deprecated. Please use tf.compat.v1.get_default_session instead.\n",
      "\n",
      "WARNING:tensorflow:From /home/asuresh/.local/lib/python3.5/site-packages/keras/backend/tensorflow_backend.py:181: The name tf.ConfigProto is deprecated. Please use tf.compat.v1.ConfigProto instead.\n",
      "\n",
      "WARNING:tensorflow:From /home/asuresh/.local/lib/python3.5/site-packages/keras/backend/tensorflow_backend.py:190: The name tf.global_variables is deprecated. Please use tf.compat.v1.global_variables instead.\n",
      "\n",
      "WARNING:tensorflow:From /home/asuresh/.local/lib/python3.5/site-packages/keras/backend/tensorflow_backend.py:199: The name tf.is_variable_initialized is deprecated. Please use tf.compat.v1.is_variable_initialized instead.\n",
      "\n",
      "WARNING:tensorflow:From /home/asuresh/.local/lib/python3.5/site-packages/keras/backend/tensorflow_backend.py:206: The name tf.variables_initializer is deprecated. Please use tf.compat.v1.variables_initializer instead.\n",
      "\n",
      "Trained DCTR Model\n",
      "Trained DCTR Model\n"
     ]
    }
   ],
   "source": [
    "mu_min = -2\n",
    "mu_max = 2\n",
    "\n",
    "dctr_model = get_dctr(n_data_points=10**7, mu_min=mu_min, mu_max=mu_max)\n",
    "dctr_original_model = get_dctr(n_data_points=10**7,\n",
    "                               mu_min=mu_min,\n",
    "                               mu_max=mu_max,\n",
    "                               TDDE=False)"
   ]
  },
  {
   "cell_type": "markdown",
   "metadata": {},
   "source": [
    "### Defining reweighting functions\n",
    "\n",
    "$w(x_{T,i},\\theta)=((f(x_{T,i},\\theta)/(1-f(x_{T,i},\\theta)))$\n",
    "\n",
    "Takes observable from simulation ${\\bf \\theta_0}$ and weights it to observable from data (target) ${\\bf \\theta_1}$."
   ]
  },
  {
   "cell_type": "code",
   "execution_count": 8,
   "metadata": {
    "ExecuteTime": {
     "end_time": "2020-08-16T04:25:03.198976Z",
     "start_time": "2020-08-16T04:25:03.193966Z"
    }
   },
   "outputs": [],
   "source": [
    "# from NN (DCTR)\n",
    "def reweight(events, param):\n",
    "    # creating tensor with same length as inputs, with theta_prime in every entry\n",
    "    concat_input_and_params = K.ones(shape=(events.shape[0], 1)) * param\n",
    "    # combining and reshaping into correct format:\n",
    "    model_inputs = K.concatenate((events, concat_input_and_params), axis=-1)\n",
    "    f = dctr_model(model_inputs)\n",
    "    weights = (f[:, 1]) / (f[:, 0])\n",
    "    weights = K.expand_dims(weights, axis=1)\n",
    "    return weights"
   ]
  },
  {
   "cell_type": "code",
   "execution_count": 9,
   "metadata": {
    "ExecuteTime": {
     "end_time": "2020-08-16T04:25:03.214501Z",
     "start_time": "2020-08-16T04:25:03.202734Z"
    }
   },
   "outputs": [],
   "source": [
    "# from NN (DCTR)\n",
    "def reweight_original(events, param):\n",
    "    # creating tensor with same length as inputs, with theta_prime in every entry\n",
    "    concat_input_and_params = K.ones(shape=(events.shape[0], 1)) * param\n",
    "    # combining and reshaping into correct format:\n",
    "    model_inputs = K.concatenate((events, concat_input_and_params), axis=-1)\n",
    "    f = dctr_original_model(model_inputs)\n",
    "    weights = (f[:, 1]) / (f[:, 0])\n",
    "    weights = K.expand_dims(weights, axis=1)\n",
    "    return weights"
   ]
  },
  {
   "cell_type": "markdown",
   "metadata": {},
   "source": [
    "## Validate DCTR for any $\\mu$"
   ]
  },
  {
   "cell_type": "markdown",
   "metadata": {},
   "source": [
    "### Validate for Truth Level"
   ]
  },
  {
   "cell_type": "code",
   "execution_count": 10,
   "metadata": {
    "ExecuteTime": {
     "end_time": "2020-08-16T04:25:03.503541Z",
     "start_time": "2020-08-16T04:25:03.217932Z"
    }
   },
   "outputs": [],
   "source": [
    "mu1 = 1.5\n",
    "assert mu1 >= mu_min and mu1 <= mu_max  # choose mu1 in valid range\n",
    "X0_val_T_0 = np.random.normal(0, 1, 10**6)\n",
    "X0_val_T_1 = np.random.normal(0, nu(0), 10**6)\n",
    "X0_val_T = np.stack((X0_val_T_0, X0_val_T_1), axis=-1)\n",
    "\n",
    "X1_val_T_0 = np.random.normal(mu1, 1, 10**6)\n",
    "X1_val_T_1 = np.random.normal(0, nu(mu1), 10**6)\n",
    "X1_val_T = np.stack((X1_val_T_0, X1_val_T_1), axis=-1)"
   ]
  },
  {
   "cell_type": "code",
   "execution_count": 11,
   "metadata": {
    "ExecuteTime": {
     "end_time": "2020-08-16T04:25:04.076019Z",
     "start_time": "2020-08-16T04:25:03.508578Z"
    }
   },
   "outputs": [],
   "source": [
    "weights_val = reweight(tf.convert_to_tensor(X0_val_T, dtype=tf.float32), mu1)\n",
    "weights_val = K.eval(weights_val)"
   ]
  },
  {
   "cell_type": "code",
   "execution_count": 12,
   "metadata": {
    "ExecuteTime": {
     "end_time": "2020-08-16T04:25:06.043785Z",
     "start_time": "2020-08-16T04:25:04.080184Z"
    }
   },
   "outputs": [
    {
     "data": {
      "image/png": "[encoded data removed]",
      "text/plain": [
       "<Figure size 432x288 with 1 Axes>"
      ]
     },
     "metadata": {
      "needs_background": "light"
     },
     "output_type": "display_data"
    }
   ],
   "source": [
    "bins = np.linspace(-6, 6, 31)\n",
    "plt.hist(X0_val_T[:, 0], bins=bins, alpha=0.5, label=r'$\\mu=0$')\n",
    "plt.hist(X0_val_T[:, 0],\n",
    "         bins=bins,\n",
    "         label=r'$\\mu=0$ DCTR wgt.',\n",
    "         weights=weights_val,\n",
    "         histtype='step',\n",
    "         color='k')\n",
    "plt.hist(X1_val_T[:, 0], bins=bins, alpha=0.5, label=r'$\\mu={}$'.format(mu1))\n",
    "plt.legend(prop=fontP)\n",
    "plt.title(\"Truth Level: Reweighting on Primary Observable\")\n",
    "#plt.savefig(\"GaussianAltFit-1D-ThetaDependentDetectorEffects-Truth-Level:Reweighting-on-Primary-Observable.png\")\n",
    "plt.show()"
   ]
  },
  {
   "cell_type": "code",
   "execution_count": 13,
   "metadata": {
    "ExecuteTime": {
     "end_time": "2020-08-16T04:25:07.183371Z",
     "start_time": "2020-08-16T04:25:06.050891Z"
    }
   },
   "outputs": [
    {
     "data": {
      "image/png": "[encoded data removed]",
      "text/plain": [
       "<Figure size 432x288 with 1 Axes>"
      ]
     },
     "metadata": {
      "needs_background": "light"
     },
     "output_type": "display_data"
    }
   ],
   "source": [
    "bins = np.linspace(-6, 6, 31)\n",
    "plt.hist(X0_val_T[:, 1], bins=bins, alpha=0.5, label=r'$\\mu=0$')\n",
    "plt.hist(X0_val_T[:, 1],\n",
    "         bins=bins,\n",
    "         label=r'$\\mu=0$ DCTR wgt.',\n",
    "         weights=weights_val,\n",
    "         histtype='step',\n",
    "         color='k')\n",
    "plt.hist(X1_val_T[:, 1], bins=bins, alpha=0.5, label=r'$\\mu={}$'.format(mu1))\n",
    "plt.legend(prop=fontP)\n",
    "plt.title(\"Truth Level: Reweighting on Secondary Observable\")\n",
    "#plt.savefig(\"GaussianAltFit-1D-ThetaDependentDetectorEffects-Truth-Level:Reweighting-on-Secondary-Observable.png\")\n",
    "plt.show()"
   ]
  },
  {
   "cell_type": "markdown",
   "metadata": {},
   "source": [
    "### Validate for Detector Level"
   ]
  },
  {
   "cell_type": "markdown",
   "metadata": {},
   "source": [
    "To apply detector effects, each event's primary truth observable $x_{T,i,0}$in the sample is smeared by shifting by $Z_{i}$ from $Z = \\mathcal{N}(0,(x_{T,i,1})^2)$ ,where the square of the secondary truth observable $x_{T,i,1}$ represents the smearing. Thus: $x_{D,i} = x_{T,i,0} + Z_{i}$"
   ]
  },
  {
   "cell_type": "code",
   "execution_count": 14,
   "metadata": {
    "ExecuteTime": {
     "end_time": "2020-08-16T04:25:25.021118Z",
     "start_time": "2020-08-16T04:25:07.185717Z"
    }
   },
   "outputs": [],
   "source": [
    "# Generate detector level by smearing truth\n",
    "\n",
    "X0_val_D = np.array([(x[0] + np.random.normal(0, x[1]**2))\n",
    "                     for x in X0_val_T])  # Detector smearing\n",
    "X1_val_D = np.array([(x[0] + np.random.normal(0, x[1]**2))\n",
    "                     for x in X1_val_T])  # Detector smearing"
   ]
  },
  {
   "cell_type": "code",
   "execution_count": 15,
   "metadata": {
    "ExecuteTime": {
     "end_time": "2020-08-16T04:25:27.709337Z",
     "start_time": "2020-08-16T04:25:25.024482Z"
    }
   },
   "outputs": [
    {
     "data": {
      "image/png": "[encoded data removed]",
      "text/plain": [
       "<Figure size 432x288 with 2 Axes>"
      ]
     },
     "metadata": {
      "needs_background": "light"
     },
     "output_type": "display_data"
    }
   ],
   "source": [
    "fig, axs = plt.subplots(1, 2, sharey=True, constrained_layout=True)\n",
    "fig.suptitle('Detector Smearing')\n",
    "axs[0].set_title('$\\mu=0$')\n",
    "axs[0].hist(X0_val_T[:, 0], bins=bins, alpha=0.5, label='Truth')\n",
    "axs[0].hist(X0_val_D, bins=bins, alpha=0.5, label='Detector')\n",
    "axs[0].legend(prop=fontP, loc='upper left')\n",
    "axs[1].set_title('$\\mu={}$'.format(mu1))\n",
    "axs[1].hist(X1_val_T[:, 0], bins=bins, alpha=0.5, label='Truth')\n",
    "axs[1].hist(X1_val_D, bins=bins, alpha=0.5, label='Detector')\n",
    "axs[1].legend(prop=fontP, loc='upper left')\n",
    "fig.show()"
   ]
  },
  {
   "cell_type": "code",
   "execution_count": 16,
   "metadata": {
    "ExecuteTime": {
     "end_time": "2020-08-16T04:25:28.830174Z",
     "start_time": "2020-08-16T04:25:27.713315Z"
    }
   },
   "outputs": [
    {
     "data": {
      "image/png": "[encoded data removed]",
      "text/plain": [
       "<Figure size 432x288 with 1 Axes>"
      ]
     },
     "metadata": {
      "needs_background": "light"
     },
     "output_type": "display_data"
    }
   ],
   "source": [
    "bins = np.linspace(-7, 7, 31)\n",
    "plt.hist(X0_val_D, bins=bins, alpha=0.5, label=r'$\\mu=0$')\n",
    "plt.hist(X0_val_D,\n",
    "         bins=bins,\n",
    "         label=r'$\\mu=0$ DCTR wgt.',\n",
    "         weights=weights_val,\n",
    "         histtype='step',\n",
    "         color='k')\n",
    "plt.hist(X1_val_D, bins=bins, alpha=0.5, label=r'$\\mu={}$'.format(mu1))\n",
    "plt.legend(prop=fontP)\n",
    "plt.title(\"Detector Level: Reweighting\")\n",
    "#plt.savefig(\"GaussianAltFit-1D-ThetaDependentDetectorEffects-Detector-Level:Reweighting.png\")\n",
    "plt.show()"
   ]
  },
  {
   "cell_type": "markdown",
   "metadata": {},
   "source": [
    "# Alternative Fit"
   ]
  },
  {
   "cell_type": "markdown",
   "metadata": {},
   "source": [
    "## Setup the dataset\n",
    "\n",
    "We'll show the new setup with a simple Gaussian example.  Let's start by setting up the dataset."
   ]
  },
  {
   "cell_type": "markdown",
   "metadata": {},
   "source": [
    "To apply detector effects, each event's primary truth observable $x_{T,i,0}$in the sample is smeared by shifting by $Z_{i}$ from $Z = \\mathcal{N}(0,(x_{T,i,1})^2)$ ,where the square of the secondary truth observable $x_{T,i,1}$ represents the smearing. Thus: $x_{D,i} = x_{T,i,0} + Z_{i}$"
   ]
  },
  {
   "cell_type": "code",
   "execution_count": 17,
   "metadata": {
    "ExecuteTime": {
     "end_time": "2020-08-16T04:25:47.259136Z",
     "start_time": "2020-08-16T04:25:28.832531Z"
    }
   },
   "outputs": [],
   "source": [
    "N = 10**6\n",
    "theta0_param = 0  # this is the simulation ... N.B. this notation is reversed from above!\n",
    "theta1_param = 1  # this is the data (the target)\n",
    "sigma = 1.  # standard Gaussian width\n",
    "# epsilon = sigma / 2  # Smearing width\n",
    "\n",
    "theta0_T_0 = np.random.normal(theta0_param, sigma, N)  # Truth Level Data\n",
    "theta0_T_1 = np.random.normal(0, nu(theta0_param), N)\n",
    "theta0_T = np.stack((theta0_T_0, theta0_T_1), axis=-1)\n",
    "\n",
    "theta0_D = np.array([(x[0] + np.random.normal(0, x[1]**2))\n",
    "                     for x in theta0_T])  # Detector smearing\n",
    "\n",
    "theta0 = np.hstack([theta0_T, np.expand_dims(theta0_D, axis=-1)])\n",
    "\n",
    "theta1_T = np.random.normal(theta1_param, sigma, N)\n",
    "theta1_T_ep = np.random.normal(0, nu(theta1_param), N)\n",
    "theta1_T = np.stack((theta1_T, theta1_T_ep), axis=-1)\n",
    "\n",
    "theta1_D = np.array([(x[0] + np.random.normal(0, x[1]**2))\n",
    "                     for x in theta1_T])  # Detector smearing\n",
    "\n",
    "theta1 = np.hstack([theta1_T, np.expand_dims(theta1_D, axis=-1)])"
   ]
  },
  {
   "cell_type": "code",
   "execution_count": 18,
   "metadata": {
    "ExecuteTime": {
     "end_time": "2020-08-16T04:25:49.527037Z",
     "start_time": "2020-08-16T04:25:47.262478Z"
    },
    "scrolled": false
   },
   "outputs": [
    {
     "data": {
      "image/png": "[encoded data removed]",
      "text/plain": [
       "<Figure size 432x288 with 2 Axes>"
      ]
     },
     "metadata": {
      "needs_background": "light"
     },
     "output_type": "display_data"
    }
   ],
   "source": [
    "bins = np.linspace(-6, 6, 31)\n",
    "\n",
    "fig, axs = plt.subplots(1, 2, sharey=True, constrained_layout=True)\n",
    "fig.suptitle('Fitting Data with Detector Effects')\n",
    "\n",
    "axs[0].set_title(\"Simulation\\n($\\mu$ = {:.2f})\".format(theta0_param))\n",
    "axs[0].hist(theta0_T[:, 0], bins=bins, alpha=0.5, label='Truth')\n",
    "axs[0].hist(theta0_D, bins=bins, alpha=0.5, label='Detector')\n",
    "axs[0].legend(prop=fontP, loc='upper left')\n",
    "\n",
    "axs[1].set_title(\"Data\\n($\\mu$ = {:.2f})\".format(theta1_param))\n",
    "axs[1].hist(theta1_T[:, 0], bins=bins, alpha=0.5, label='Truth')\n",
    "axs[1].hist(theta1_D, bins=bins, alpha=0.5, label='Detector')\n",
    "axs[1].legend(prop=fontP, loc='upper left')\n",
    "\n",
    "# fig.savefig(\"GaussianAltFit-1D-ThetaDependentDetectorEffects-Fitting-Data-with-Detector-Effects.png\")\n",
    "plt.show()"
   ]
  },
  {
   "cell_type": "markdown",
   "metadata": {},
   "source": [
    "Notice how detector smearing is more intense for \"Data\"."
   ]
  },
  {
   "cell_type": "code",
   "execution_count": 19,
   "metadata": {
    "ExecuteTime": {
     "end_time": "2020-08-16T04:25:50.697162Z",
     "start_time": "2020-08-16T04:25:49.530536Z"
    }
   },
   "outputs": [],
   "source": [
    "labels0 = np.zeros(len(theta0))\n",
    "labels1 = np.ones(len(theta1))\n",
    "\n",
    "xvals = np.concatenate([theta0, theta1])\n",
    "yvals = np.concatenate([labels0, labels1])\n",
    "\n",
    "X_train, X_test, y_train, y_test = train_test_split(xvals,\n",
    "                                                    yvals,\n",
    "                                                    test_size=0.5)\n",
    "X_train_theta, y_train_theta = shuffle(xvals, yvals)\n",
    "\n",
    "X_train_T, y_train_T = np.copy(X_train[:, :2]), y_train\n",
    "X_test_T, y_test_T = np.copy(X_test[:, :2]), y_test\n",
    "X_train_theta_T, y_train_theta_T = np.copy(X_train_theta[:, :2]), y_train_theta\n",
    "\n",
    "#' Erasing' Truth level for data, we can't actually observe this\n",
    "X_train[:, :2][y_train == 1], X_test[:, :2][y_test == 1] = 0., 0.\n",
    "X_train_theta[:, :2][y_train_theta == 1] = 0.\n",
    "\n",
    "# 'hiding' truth level for simulation in expected model output (used in reweighting)\n",
    "X_train_D, y_train_D = X_train[:, 2], np.hstack(\n",
    "    [np.expand_dims(y_train, axis=-1), X_train[:, :2]])\n",
    "X_test_D, y_test_D = X_test[:, 2], np.hstack(\n",
    "    [np.expand_dims(y_test, axis=-1), X_test[:, :2]])\n",
    "\n",
    "X_train_theta_D, y_train_theta_D = X_train_theta[:, 1], np.hstack(\n",
    "    [np.expand_dims(y_train_theta, axis=-1), X_train_theta[:, :2]])"
   ]
  },
  {
   "cell_type": "markdown",
   "metadata": {},
   "source": [
    "## Fitting Model: Scan\n",
    "\n",
    "We'll start by showing that for fixed $\\theta$, the maximum loss occurs when $\\theta=\\theta_1$."
   ]
  },
  {
   "cell_type": "markdown",
   "metadata": {},
   "source": [
    "### Creating Model"
   ]
  },
  {
   "cell_type": "code",
   "execution_count": 20,
   "metadata": {
    "ExecuteTime": {
     "end_time": "2020-08-16T04:25:50.789039Z",
     "start_time": "2020-08-16T04:25:50.700700Z"
    }
   },
   "outputs": [
    {
     "name": "stdout",
     "output_type": "stream",
     "text": [
      "_________________________________________________________________\n",
      "Layer (type)                 Output Shape              Param #   \n",
      "=================================================================\n",
      "input_3 (InputLayer)         (None, 2)                 0         \n",
      "_________________________________________________________________\n",
      "dense_9 (Dense)              (None, 128)               384       \n",
      "_________________________________________________________________\n",
      "dense_10 (Dense)             (None, 128)               16512     \n",
      "_________________________________________________________________\n",
      "dense_11 (Dense)             (None, 1)                 129       \n",
      "=================================================================\n",
      "Total params: 17,025\n",
      "Trainable params: 17,025\n",
      "Non-trainable params: 0\n",
      "_________________________________________________________________\n"
     ]
    }
   ],
   "source": [
    "myinputs = Input(shape=(2, ), dtype=tf.float32)\n",
    "x = Dense(128, activation='relu')(myinputs)\n",
    "x2 = Dense(128, activation='relu')(x)\n",
    "predictions = Dense(1, activation='sigmoid')(x2)\n",
    "\n",
    "model_T = Model(inputs=myinputs, outputs=predictions)\n",
    "model_T.summary()\n",
    "batch_size = 1000\n",
    "\n",
    "earlystopping = EarlyStopping(patience=5, restore_best_weights=True)\n",
    "\n",
    "thetas = np.linspace(-2, 2, 17)"
   ]
  },
  {
   "cell_type": "markdown",
   "metadata": {},
   "source": [
    "### Truth Level Scan"
   ]
  },
  {
   "cell_type": "code",
   "execution_count": 21,
   "metadata": {
    "ExecuteTime": {
     "end_time": "2020-08-16T04:25:50.814408Z",
     "start_time": "2020-08-16T04:25:50.798441Z"
    }
   },
   "outputs": [],
   "source": [
    "def my_loss_wrapper_T(inputs,\n",
    "                      val=0.,\n",
    "                      reweight_type='DCTR',\n",
    "                      loss='MSE',\n",
    "                      batch_size=1000):\n",
    "    x = inputs\n",
    "    x = K.gather(x, np.arange(batch_size))\n",
    "\n",
    "    theta_prime = val\n",
    "\n",
    "    if reweight_type == 'DCTR':\n",
    "        # NN (DCTR) reweight\n",
    "        weights = reweight(x, theta_prime)\n",
    "    elif reweight_type == 'analytical':\n",
    "        # analytical reweight\n",
    "        weights = analytical_reweight(x, theta_prime)\n",
    "    else:\n",
    "        raise ValueError(\"reweight_type must be set to 'DCTR' or 'analytical'\")\n",
    "\n",
    "    def my_loss(y_true, y_pred):\n",
    "        if loss == 'MSE':\n",
    "            # Mean Squared Loss\n",
    "            t_loss = y_true * (y_true - y_pred)**2 + weights * (\n",
    "                1. - y_true) * (y_true - y_pred)**2\n",
    "        elif loss == 'categorical_crossentropy':\n",
    "            # Categorical Cross-Entropy Loss\n",
    "\n",
    "            # Clip the prediction value to prevent NaN's and Inf's\n",
    "            epsilon = K.epsilon()\n",
    "            y_pred = K.clip(y_pred, epsilon, 1. - epsilon)\n",
    "\n",
    "            t_loss = -((y_true) * K.log(y_pred) + weights *\n",
    "                       (1 - y_true) * K.log(1 - y_pred))\n",
    "        else:\n",
    "            raise ValueError(\n",
    "                \"loss must be set to 'MSE' or 'categorical_crossentropy'\")\n",
    "\n",
    "        return K.mean(t_loss)\n",
    "\n",
    "    return my_loss"
   ]
  },
  {
   "cell_type": "code",
   "execution_count": 22,
   "metadata": {
    "ExecuteTime": {
     "end_time": "2020-08-16T04:48:07.180353Z",
     "start_time": "2020-08-16T04:25:50.817625Z"
    },
    "scrolled": true
   },
   "outputs": [
    {
     "name": "stdout",
     "output_type": "stream",
     "text": [
      "Testing theta =  -2.0\n",
      "loss:  0.07282351414114237\n",
      "val_loss:  0.07284237332642078\n",
      "\n",
      "\n",
      "Testing theta =  -1.75\n",
      "loss:  0.10577222400158644\n",
      "val_loss:  0.10561566084623336\n",
      "\n",
      "\n",
      "Testing theta =  -1.5\n",
      "loss:  0.1474064415320754\n",
      "val_loss:  0.14733770583570002\n",
      "\n",
      "\n",
      "Testing theta =  -1.25\n",
      "loss:  0.19706467577815057\n",
      "val_loss:  0.19689875769615173\n",
      "\n",
      "\n",
      "Testing theta =  -1.0\n",
      "loss:  0.25520408557355406\n",
      "val_loss:  0.2549973863065243\n",
      "\n",
      "\n",
      "Testing theta =  -0.75\n",
      "loss:  0.3206252697110176\n",
      "val_loss:  0.3205262901186943\n",
      "\n",
      "\n",
      "Testing theta =  -0.5\n",
      "loss:  0.3917457726597786\n",
      "val_loss:  0.3914420667886734\n",
      "\n",
      "\n",
      "Testing theta =  -0.25\n",
      "loss:  0.46578190523386004\n",
      "val_loss:  0.4653900546133518\n",
      "\n",
      "\n",
      "Testing theta =  0.0\n",
      "loss:  0.5357910953164101\n",
      "val_loss:  0.5353732748627663\n",
      "\n",
      "\n",
      "Testing theta =  0.25\n",
      "loss:  0.5969846953749657\n",
      "val_loss:  0.5965640022754669\n",
      "\n",
      "\n",
      "Testing theta =  0.5\n",
      "loss:  0.64681005692482\n",
      "val_loss:  0.6465409803390503\n",
      "\n",
      "\n",
      "Testing theta =  0.75\n",
      "loss:  0.6796987847089767\n",
      "val_loss:  0.6789721339941025\n",
      "\n",
      "\n",
      "Testing theta =  1.0\n",
      "loss:  0.692579383611679\n",
      "val_loss:  0.6899441922307015\n",
      "\n",
      "\n",
      "Testing theta =  1.25\n",
      "loss:  0.6807548350691796\n",
      "val_loss:  0.6787028706073761\n",
      "\n",
      "\n",
      "Testing theta =  1.5\n",
      "loss:  0.643607351064682\n",
      "val_loss:  0.6448476328849793\n",
      "\n",
      "\n",
      "Testing theta =  1.75\n",
      "loss:  0.5942119289040565\n",
      "val_loss:  0.5957658725380898\n",
      "\n",
      "\n",
      "Testing theta =  2.0\n",
      "loss:  0.5574946331083774\n",
      "val_loss:  0.5399152186214924\n",
      "\n",
      "\n",
      "[0.07282351414114237, 0.10577222400158644, 0.1474064415320754, 0.19706467577815057, 0.25520408557355406, 0.3206252697110176, 0.3917457726597786, 0.46578190523386004, 0.5357910953164101, 0.5969846953749657, 0.64681005692482, 0.6796987847089767, 0.692579383611679, 0.6807548350691796, 0.643607351064682, 0.5942119289040565, 0.5574946331083774]\n"
     ]
    }
   ],
   "source": [
    "lvals_T = []\n",
    "vlvals_T = []\n",
    "\n",
    "for theta in thetas:\n",
    "    print(\"Testing theta = \", theta)\n",
    "    model_T.compile(optimizer='adam',\n",
    "                    loss=my_loss_wrapper_T(myinputs,\n",
    "                                           theta,\n",
    "                                           loss='categorical_crossentropy',\n",
    "                                           batch_size=batch_size),\n",
    "                    metrics=['accuracy'])\n",
    "\n",
    "    history = model_T.fit(np.array(X_train_T),\n",
    "                          y_train_T,\n",
    "                          epochs=100,\n",
    "                          batch_size=batch_size,\n",
    "                          validation_data=(np.array(X_test_T), y_test_T),\n",
    "                          verbose=0,\n",
    "                          callbacks=[earlystopping])\n",
    "\n",
    "    min_lval = history.history['loss'][np.argmin(history.history['val_loss'])]\n",
    "    min_vlval = np.min(history.history['val_loss'])\n",
    "\n",
    "    lvals_T += [min_lval]\n",
    "    vlvals_T += [min_vlval]\n",
    "\n",
    "    print(\"loss: \", min_lval)\n",
    "    print(\"val_loss: \", min_vlval)\n",
    "    print(\"\\n\")\n",
    "    pass\n",
    "print(lvals_T)"
   ]
  },
  {
   "cell_type": "code",
   "execution_count": 23,
   "metadata": {
    "ExecuteTime": {
     "end_time": "2020-08-16T04:48:07.616827Z",
     "start_time": "2020-08-16T04:48:07.184313Z"
    }
   },
   "outputs": [
    {
     "data": {
      "image/png": "[encoded data removed]",
      "text/plain": [
       "<Figure size 432x288 with 1 Axes>"
      ]
     },
     "metadata": {
      "needs_background": "light"
     },
     "output_type": "display_data"
    }
   ],
   "source": [
    "plt.title(\"Truth Level: Theta vs. Loss\")\n",
    "plt.plot(thetas, lvals_T, label='Loss')\n",
    "plt.plot(thetas, vlvals_T, label='Validation Loss')\n",
    "plt.xlabel(r'$\\theta$')\n",
    "plt.ylabel('Loss')\n",
    "plt.vlines(theta1_param,\n",
    "           ymin=np.min(lvals_T),\n",
    "           ymax=np.max(lvals_T),\n",
    "           label='Truth')\n",
    "plt.legend()\n",
    "# plt.savefig(\"GaussianAltFit-1D-ThetaDependentDetectorEffects-Truth-Level:-Theta-vs-Loss.png\")\n",
    "plt.show()"
   ]
  },
  {
   "cell_type": "code",
   "execution_count": 24,
   "metadata": {
    "ExecuteTime": {
     "end_time": "2020-08-16T04:48:07.684918Z",
     "start_time": "2020-08-16T04:48:07.623612Z"
    }
   },
   "outputs": [
    {
     "name": "stdout",
     "output_type": "stream",
     "text": [
      "Interpolated Maximum:  0.9999999964372858\n"
     ]
    }
   ],
   "source": [
    "f = sp.interpolate.interp1d(thetas, lvals_T, fill_value=\"extrapolate\")\n",
    "\n",
    "print(\"Interpolated Maximum: \",\n",
    "      sp.optimize.minimize(lambda x: -f(x), x0=0)['x'][0])"
   ]
  },
  {
   "cell_type": "markdown",
   "metadata": {},
   "source": [
    "### Detector Level Scan"
   ]
  },
  {
   "cell_type": "code",
   "execution_count": 25,
   "metadata": {
    "ExecuteTime": {
     "end_time": "2020-08-16T04:48:07.776790Z",
     "start_time": "2020-08-16T04:48:07.686829Z"
    }
   },
   "outputs": [
    {
     "name": "stdout",
     "output_type": "stream",
     "text": [
      "_________________________________________________________________\n",
      "Layer (type)                 Output Shape              Param #   \n",
      "=================================================================\n",
      "input_4 (InputLayer)         (None, 1)                 0         \n",
      "_________________________________________________________________\n",
      "dense_12 (Dense)             (None, 128)               256       \n",
      "_________________________________________________________________\n",
      "dense_13 (Dense)             (None, 128)               16512     \n",
      "_________________________________________________________________\n",
      "dense_14 (Dense)             (None, 1)                 129       \n",
      "=================================================================\n",
      "Total params: 16,897\n",
      "Trainable params: 16,897\n",
      "Non-trainable params: 0\n",
      "_________________________________________________________________\n"
     ]
    }
   ],
   "source": [
    "myinputs = Input(shape=(1, ), dtype=tf.float32)\n",
    "x = Dense(128, activation='relu')(myinputs)\n",
    "x2 = Dense(128, activation='relu')(x)\n",
    "predictions = Dense(1, activation='sigmoid')(x2)\n",
    "\n",
    "model_D = Model(inputs=myinputs, outputs=predictions)\n",
    "model_D.summary()"
   ]
  },
  {
   "cell_type": "code",
   "execution_count": 26,
   "metadata": {
    "ExecuteTime": {
     "end_time": "2020-08-16T04:48:07.797783Z",
     "start_time": "2020-08-16T04:48:07.781853Z"
    },
    "scrolled": true
   },
   "outputs": [],
   "source": [
    "def my_loss_wrapper_D(val=0,\n",
    "                      reweight_type='DCTR',\n",
    "                      loss='MSE',\n",
    "                      batch_size=1000):\n",
    "    def my_loss(y_true, y_pred):\n",
    "        y_true = tf.gather(y_true, np.arange(batch_size))\n",
    "        x_T = tf.gather(y_true, [1, 2],\n",
    "                        axis=1)  # sim event truth for reweighting\n",
    "        y_true = tf.gather(y_true, [0], axis=1)  # actual y_true for loss\n",
    "        theta_prime = val\n",
    "\n",
    "        if reweight_type == 'DCTR':\n",
    "            # NN (DCTR) reweight\n",
    "            weights = reweight(x_T, theta_prime)\n",
    "        elif reweight_type == 'analytical':\n",
    "            # analytical reweight\n",
    "            weights = analytical_reweight(x_T, theta_prime)\n",
    "        else:\n",
    "            raise ValueError(\n",
    "                \"reweight_type must be set to 'DCTR' or 'analytical'\")\n",
    "\n",
    "        if loss == 'MSE':\n",
    "            # Mean Squared Loss\n",
    "            t_loss = y_true * (y_true - y_pred)**2 + (weights) * (\n",
    "                1. - y_true) * (y_true - y_pred)**2\n",
    "        elif loss == 'categorical_crossentropy':\n",
    "            # Categorical Cross-Entropy Loss\n",
    "            # Clip the prediction value to prevent NaN's and Inf's\n",
    "            epsilon = K.epsilon()\n",
    "            y_pred = K.clip(y_pred, epsilon, 1. - epsilon)\n",
    "\n",
    "            t_loss = -((y_true) * K.log(y_pred) + weights *\n",
    "                       (1 - y_true) * K.log(1 - y_pred))\n",
    "        else:\n",
    "            raise ValueError(\n",
    "                \"loss must be set to 'MSE' or 'categorical_crossentropy'\")\n",
    "        return K.mean(t_loss)\n",
    "\n",
    "    return my_loss"
   ]
  },
  {
   "cell_type": "code",
   "execution_count": 27,
   "metadata": {
    "ExecuteTime": {
     "end_time": "2020-08-16T05:17:13.818048Z",
     "start_time": "2020-08-16T04:48:07.802155Z"
    },
    "scrolled": true
   },
   "outputs": [
    {
     "name": "stdout",
     "output_type": "stream",
     "text": [
      "Testing theta =  -2.0\n",
      "loss:  0.2311053888052702\n",
      "val_loss:  0.23033167992532252\n",
      "\n",
      "\n",
      "Testing theta =  -1.75\n",
      "loss:  0.2702637853771448\n",
      "val_loss:  0.2698140303194523\n",
      "\n",
      "\n",
      "Testing theta =  -1.5\n",
      "loss:  0.3121443809568882\n",
      "val_loss:  0.3117287215590477\n",
      "\n",
      "\n",
      "Testing theta =  -1.25\n",
      "loss:  0.3551745256483555\n",
      "val_loss:  0.3551491614282131\n",
      "\n",
      "\n",
      "Testing theta =  -1.0\n",
      "loss:  0.40134679213166236\n",
      "val_loss:  0.4011713308095932\n",
      "\n",
      "\n",
      "Testing theta =  -0.75\n",
      "loss:  0.45009083941578865\n",
      "val_loss:  0.44994487416744233\n",
      "\n",
      "\n",
      "Testing theta =  -0.5\n",
      "loss:  0.5003043256402016\n",
      "val_loss:  0.5001236517727375\n",
      "\n",
      "\n",
      "Testing theta =  -0.25\n",
      "loss:  0.5507424605488778\n",
      "val_loss:  0.5505071417093277\n",
      "\n",
      "\n",
      "Testing theta =  0.0\n",
      "loss:  0.5968593214154243\n",
      "val_loss:  0.5965513610839843\n",
      "\n",
      "\n",
      "Testing theta =  0.25\n",
      "loss:  0.6351910917162895\n",
      "val_loss:  0.6347260527610779\n",
      "\n",
      "\n",
      "Testing theta =  0.5\n",
      "loss:  0.6658702046871185\n",
      "val_loss:  0.6653080371618271\n",
      "\n",
      "\n",
      "Testing theta =  0.75\n",
      "loss:  0.6851512874960899\n",
      "val_loss:  0.6844683556556702\n",
      "\n",
      "\n",
      "Testing theta =  1.0\n",
      "loss:  0.6911515621542931\n",
      "val_loss:  0.6909729743599892\n",
      "\n",
      "\n",
      "Testing theta =  1.25\n",
      "loss:  0.6838801574707031\n",
      "val_loss:  0.6844695227146149\n",
      "\n",
      "\n",
      "Testing theta =  1.5\n",
      "loss:  0.6614355700612068\n",
      "val_loss:  0.6627068543434143\n",
      "\n",
      "\n",
      "Testing theta =  1.75\n",
      "loss:  0.6332755414545536\n",
      "val_loss:  0.6299409031569958\n",
      "\n",
      "\n",
      "Testing theta =  2.0\n",
      "loss:  0.5956011461615562\n",
      "val_loss:  0.5910966461896896\n",
      "\n",
      "\n",
      "[0.2311053888052702, 0.2702637853771448, 0.3121443809568882, 0.3551745256483555, 0.40134679213166236, 0.45009083941578865, 0.5003043256402016, 0.5507424605488778, 0.5968593214154243, 0.6351910917162895, 0.6658702046871185, 0.6851512874960899, 0.6911515621542931, 0.6838801574707031, 0.6614355700612068, 0.6332755414545536, 0.5956011461615562]\n"
     ]
    }
   ],
   "source": [
    "lvals_D = []\n",
    "vlvals_D = []\n",
    "\n",
    "for theta in thetas:\n",
    "    print(\"Testing theta = \", theta)\n",
    "    model_D.compile(optimizer='adam',\n",
    "                    loss=my_loss_wrapper_D(theta,\n",
    "                                           loss='categorical_crossentropy',\n",
    "                                           batch_size=batch_size),\n",
    "                    metrics=['accuracy'])\n",
    "\n",
    "    history = model_D.fit(np.array(X_train_D),\n",
    "                          y_train_D,\n",
    "                          epochs=100,\n",
    "                          batch_size=batch_size,\n",
    "                          validation_data=(np.array(X_test_D), y_test_D),\n",
    "                          verbose=0,\n",
    "                          callbacks=[earlystopping])\n",
    "\n",
    "    min_lval = history.history['loss'][np.argmin(history.history['val_loss'])]\n",
    "    min_vlval = np.min(history.history['val_loss'])\n",
    "\n",
    "    lvals_D += [min_lval]\n",
    "    vlvals_D += [min_vlval]\n",
    "\n",
    "    print(\"loss: \", min_lval)\n",
    "    print(\"val_loss: \", min_vlval)\n",
    "    print(\"\\n\")\n",
    "    pass\n",
    "print(lvals_D)"
   ]
  },
  {
   "cell_type": "code",
   "execution_count": 28,
   "metadata": {
    "ExecuteTime": {
     "end_time": "2020-08-16T05:17:14.223981Z",
     "start_time": "2020-08-16T05:17:13.824712Z"
    }
   },
   "outputs": [
    {
     "data": {
      "image/png": "[encoded data removed]",
      "text/plain": [
       "<Figure size 432x288 with 1 Axes>"
      ]
     },
     "metadata": {
      "needs_background": "light"
     },
     "output_type": "display_data"
    }
   ],
   "source": [
    "plt.plot(thetas, lvals_D, label='Loss')\n",
    "plt.plot(thetas, vlvals_D, label='Validation Loss')\n",
    "plt.xlabel(r'$\\theta$')\n",
    "plt.ylabel('Loss')\n",
    "plt.vlines(theta1_param,\n",
    "           ymin=np.min(lvals_D),\n",
    "           ymax=np.max(lvals_D),\n",
    "           label='Truth')\n",
    "plt.title(\"Detector Level: Theta vs. Loss\")\n",
    "plt.legend()\n",
    "# plt.savefig(\"GaussianAltFit-1D-ThetaDependentDetectorEffects-Detector-Level:-Theta-vs-Loss.png\")\n",
    "plt.show()"
   ]
  },
  {
   "cell_type": "code",
   "execution_count": 29,
   "metadata": {
    "ExecuteTime": {
     "end_time": "2020-08-16T05:17:14.265427Z",
     "start_time": "2020-08-16T05:17:14.231751Z"
    }
   },
   "outputs": [
    {
     "name": "stdout",
     "output_type": "stream",
     "text": [
      "Interpolated Maximum:  0.76663538813591\n"
     ]
    }
   ],
   "source": [
    "f = sp.interpolate.interp1d(thetas, lvals_D, fill_value=\"extrapolate\")\n",
    "\n",
    "print(\"Interpolated Maximum: \",\n",
    "      sp.optimize.minimize(lambda x: -f(x), x0=0)['x'][0])"
   ]
  },
  {
   "cell_type": "markdown",
   "metadata": {},
   "source": [
    "### Comparison Plot"
   ]
  },
  {
   "cell_type": "code",
   "execution_count": 30,
   "metadata": {
    "ExecuteTime": {
     "end_time": "2020-08-16T05:17:14.965351Z",
     "start_time": "2020-08-16T05:17:14.267647Z"
    }
   },
   "outputs": [
    {
     "data": {
      "image/png": "[encoded data removed]",
      "text/plain": [
       "<Figure size 432x288 with 1 Axes>"
      ]
     },
     "metadata": {
      "needs_background": "light"
     },
     "output_type": "display_data"
    }
   ],
   "source": [
    "plt.plot(thetas, vlvals_T, label='Truth Level')\n",
    "plt.plot(thetas, vlvals_D, label='Detector Level')\n",
    "plt.xlabel(r'$\\theta$')\n",
    "plt.ylabel('Loss')\n",
    "plt.vlines(theta1_param,\n",
    "           ymin=np.min(vlvals_T + vlvals_D),\n",
    "           ymax=np.max(vlvals_T + vlvals_D),\n",
    "           label='Truth')\n",
    "plt.title(\"Truth vs. Detector Loss Comparison\")\n",
    "plt.legend()\n",
    "# plt.savefig(\"GaussianAltFit-1D-ThetaDependentDetectorEffects-Truth-vs-Detector-Loss-Comparison.png\")\n",
    "plt.show()"
   ]
  },
  {
   "cell_type": "markdown",
   "metadata": {},
   "source": [
    "We've shown for fixed $\\theta$, the maximum loss occurs when $\\theta=\\theta_1$"
   ]
  },
  {
   "cell_type": "markdown",
   "metadata": {},
   "source": [
    "### Compare to Original DCTR\n",
    "See how incorrect the fit is if we ignore the secondary truth observable and use the original DCTR."
   ]
  },
  {
   "cell_type": "code",
   "execution_count": 31,
   "metadata": {
    "ExecuteTime": {
     "end_time": "2020-08-16T05:17:15.052440Z",
     "start_time": "2020-08-16T05:17:14.973052Z"
    }
   },
   "outputs": [
    {
     "name": "stdout",
     "output_type": "stream",
     "text": [
      "_________________________________________________________________\n",
      "Layer (type)                 Output Shape              Param #   \n",
      "=================================================================\n",
      "input_5 (InputLayer)         (None, 1)                 0         \n",
      "_________________________________________________________________\n",
      "dense_15 (Dense)             (None, 128)               256       \n",
      "_________________________________________________________________\n",
      "dense_16 (Dense)             (None, 128)               16512     \n",
      "_________________________________________________________________\n",
      "dense_17 (Dense)             (None, 1)                 129       \n",
      "=================================================================\n",
      "Total params: 16,897\n",
      "Trainable params: 16,897\n",
      "Non-trainable params: 0\n",
      "_________________________________________________________________\n"
     ]
    }
   ],
   "source": [
    "myinputs = Input(shape=(1, ), dtype=tf.float32)\n",
    "x = Dense(128, activation='relu')(myinputs)\n",
    "x2 = Dense(128, activation='relu')(x)\n",
    "predictions = Dense(1, activation='sigmoid')(x2)\n",
    "\n",
    "model_original = Model(inputs=myinputs, outputs=predictions)\n",
    "model_original.summary()\n",
    "batch_size = 1000\n",
    "\n",
    "earlystopping = EarlyStopping(patience=5, restore_best_weights=True)\n",
    "\n",
    "thetas = np.linspace(-2, 2, 17)"
   ]
  },
  {
   "cell_type": "markdown",
   "metadata": {},
   "source": [
    "#### Truth Level Scan"
   ]
  },
  {
   "cell_type": "code",
   "execution_count": 32,
   "metadata": {
    "ExecuteTime": {
     "end_time": "2020-08-16T05:17:15.069394Z",
     "start_time": "2020-08-16T05:17:15.056299Z"
    }
   },
   "outputs": [],
   "source": [
    "def my_loss_wrapper_T_original(inputs,\n",
    "                      val=0.,\n",
    "                      reweight_type='DCTR',\n",
    "                      loss='MSE',\n",
    "                      batch_size=1000):\n",
    "    x = inputs\n",
    "    x = K.gather(x, np.arange(batch_size))\n",
    "\n",
    "    theta_prime = val\n",
    "\n",
    "    if reweight_type == 'DCTR':\n",
    "        # NN (DCTR) reweight\n",
    "        weights = reweight_original(x, theta_prime)\n",
    "    elif reweight_type == 'analytical':\n",
    "        # analytical reweight\n",
    "        weights = analytical_reweight(x, theta_prime)\n",
    "    else:\n",
    "        raise ValueError(\"reweight_type must be set to 'DCTR' or 'analytical'\")\n",
    "\n",
    "    def my_loss(y_true, y_pred):\n",
    "        if loss == 'MSE':\n",
    "            # Mean Squared Loss\n",
    "            t_loss = y_true * (y_true - y_pred)**2 + weights * (\n",
    "                1. - y_true) * (y_true - y_pred)**2\n",
    "        elif loss == 'categorical_crossentropy':\n",
    "            # Categorical Cross-Entropy Loss\n",
    "\n",
    "            # Clip the prediction value to prevent NaN's and Inf's\n",
    "            epsilon = K.epsilon()\n",
    "            y_pred = K.clip(y_pred, epsilon, 1. - epsilon)\n",
    "\n",
    "            t_loss = -((y_true) * K.log(y_pred) + weights *\n",
    "                       (1 - y_true) * K.log(1 - y_pred))\n",
    "        else:\n",
    "            raise ValueError(\n",
    "                \"loss must be set to 'MSE' or 'categorical_crossentropy'\")\n",
    "\n",
    "        return K.mean(t_loss)\n",
    "\n",
    "    return my_loss"
   ]
  },
  {
   "cell_type": "code",
   "execution_count": 33,
   "metadata": {
    "ExecuteTime": {
     "end_time": "2020-08-16T05:53:01.689757Z",
     "start_time": "2020-08-16T05:17:15.074215Z"
    }
   },
   "outputs": [
    {
     "name": "stdout",
     "output_type": "stream",
     "text": [
      "Testing theta =  -2.0\n",
      "loss:  0.16739248880743982\n",
      "val_loss:  0.16699077035486698\n",
      "\n",
      "\n",
      "Testing theta =  -1.75\n",
      "loss:  0.20556797502934931\n",
      "val_loss:  0.20519686581194402\n",
      "\n",
      "\n",
      "Testing theta =  -1.5\n",
      "loss:  0.24972395269572734\n",
      "val_loss:  0.24935947974026204\n",
      "\n",
      "\n",
      "Testing theta =  -1.25\n",
      "loss:  0.29967321634292604\n",
      "val_loss:  0.29924769562482834\n",
      "\n",
      "\n",
      "Testing theta =  -1.0\n",
      "loss:  0.3539901882112026\n",
      "val_loss:  0.3535039341747761\n",
      "\n",
      "\n",
      "Testing theta =  -0.75\n",
      "loss:  0.4119625264406204\n",
      "val_loss:  0.4114200249016285\n",
      "\n",
      "\n",
      "Testing theta =  -0.5\n",
      "loss:  0.47198350885510443\n",
      "val_loss:  0.4713674469590187\n",
      "\n",
      "\n",
      "Testing theta =  -0.25\n",
      "loss:  0.5319548666477203\n",
      "val_loss:  0.5311760495901108\n",
      "\n",
      "\n",
      "Testing theta =  0.0\n",
      "loss:  0.5841024069190025\n",
      "val_loss:  0.5832080748081208\n",
      "\n",
      "\n",
      "Testing theta =  0.25\n",
      "loss:  0.6306276612281799\n",
      "val_loss:  0.6295376456379891\n",
      "\n",
      "\n",
      "Testing theta =  0.5\n",
      "loss:  0.6637749803066254\n",
      "val_loss:  0.6626779271960258\n",
      "\n",
      "\n",
      "Testing theta =  0.75\n",
      "loss:  0.6835500375628472\n",
      "val_loss:  0.682459217786789\n",
      "\n",
      "\n",
      "Testing theta =  1.0\n",
      "loss:  0.6890411203503609\n",
      "val_loss:  0.6879500175714492\n",
      "\n",
      "\n",
      "Testing theta =  1.25\n",
      "loss:  0.6796708001494408\n",
      "val_loss:  0.6785601109862328\n",
      "\n",
      "\n",
      "Testing theta =  1.5\n",
      "loss:  0.656550241947174\n",
      "val_loss:  0.6554398216605186\n",
      "\n",
      "\n",
      "Testing theta =  1.75\n",
      "loss:  0.6214284335374832\n",
      "val_loss:  0.6203340948820114\n",
      "\n",
      "\n",
      "Testing theta =  2.0\n",
      "loss:  0.577497427135706\n",
      "val_loss:  0.5764581592679023\n",
      "\n",
      "\n"
     ]
    }
   ],
   "source": [
    "lvals_T_original = []\n",
    "vlvals_T_original = []\n",
    "\n",
    "for theta in thetas:\n",
    "    print(\"Testing theta = \", theta)\n",
    "    model_original.compile(optimizer='adam',\n",
    "                           loss=my_loss_wrapper_T_original(\n",
    "                               myinputs,\n",
    "                               theta,\n",
    "                               loss='categorical_crossentropy',\n",
    "                               batch_size=batch_size),\n",
    "                           metrics=['accuracy'])\n",
    "\n",
    "    history = model_original.fit(np.array(X_train_T[:, 0]),\n",
    "                          y_train_T,\n",
    "                          epochs=100,\n",
    "                          batch_size=batch_size,\n",
    "                          validation_data=(np.array(X_test_T[:, 0]), y_test_T),\n",
    "                          verbose=0,\n",
    "                          callbacks=[earlystopping])\n",
    "\n",
    "    min_lval = history.history['loss'][np.argmin(history.history['val_loss'])]\n",
    "    min_vlval = np.min(history.history['val_loss'])\n",
    "\n",
    "    lvals_T_original += [min_lval]\n",
    "    vlvals_T_original += [min_vlval]\n",
    "\n",
    "    print(\"loss: \", min_lval)\n",
    "    print(\"val_loss: \", min_vlval)\n",
    "    print(\"\\n\")\n",
    "    pass"
   ]
  },
  {
   "cell_type": "code",
   "execution_count": 34,
   "metadata": {
    "ExecuteTime": {
     "end_time": "2020-08-16T05:53:02.397243Z",
     "start_time": "2020-08-16T05:53:01.692021Z"
    }
   },
   "outputs": [
    {
     "data": {
      "image/png": "[encoded data removed]",
      "text/plain": [
       "<Figure size 432x288 with 1 Axes>"
      ]
     },
     "metadata": {
      "needs_background": "light"
     },
     "output_type": "display_data"
    }
   ],
   "source": [
    "plt.title(\"Original DCTR Truth Level: Theta vs. Loss\")\n",
    "plt.plot(thetas, lvals_T_original, label='Loss')\n",
    "plt.plot(thetas, vlvals_T_original, label='Validation Loss')\n",
    "plt.xlabel(r'$\\theta$')\n",
    "plt.ylabel('Loss')\n",
    "plt.vlines(theta1_param,\n",
    "           ymin=np.min(lvals_T_original),\n",
    "           ymax=np.max(vlvals_T_original),\n",
    "           label='Truth')\n",
    "plt.legend()\n",
    "# plt.savefig(\"GaussianAltFit-1D-ThetaDependentDetectorEffects-OriginalDCTR-Truth-Level:-Theta-vs-Loss.png\")\n",
    "plt.show()"
   ]
  },
  {
   "cell_type": "code",
   "execution_count": 35,
   "metadata": {
    "ExecuteTime": {
     "end_time": "2020-08-16T05:53:02.426541Z",
     "start_time": "2020-08-16T05:53:02.402761Z"
    }
   },
   "outputs": [
    {
     "name": "stdout",
     "output_type": "stream",
     "text": [
      "Interpolated Maximum:  0.9999999906046123\n"
     ]
    }
   ],
   "source": [
    "f = sp.interpolate.interp1d(thetas, lvals_T_original, fill_value=\"extrapolate\")\n",
    "\n",
    "print(\"Interpolated Maximum: \",\n",
    "      sp.optimize.minimize(lambda x: -f(x), x0=0)['x'][0])"
   ]
  },
  {
   "cell_type": "markdown",
   "metadata": {},
   "source": [
    "#### Detector Level Scan"
   ]
  },
  {
   "cell_type": "code",
   "execution_count": 36,
   "metadata": {
    "ExecuteTime": {
     "end_time": "2020-08-16T05:53:02.447046Z",
     "start_time": "2020-08-16T05:53:02.430656Z"
    }
   },
   "outputs": [],
   "source": [
    "def my_loss_wrapper_D_original(val=0,\n",
    "                               reweight_type='DCTR',\n",
    "                               loss='MSE',\n",
    "                               batch_size=1000):\n",
    "    def my_loss(y_true, y_pred):\n",
    "        y_true = tf.gather(y_true, np.arange(batch_size))\n",
    "        x_T = tf.gather(y_true, [1], axis=1)  # sim event truth for reweighting\n",
    "        y_true = tf.gather(y_true, [0], axis=1)  # actual y_true for loss\n",
    "        theta_prime = val\n",
    "\n",
    "        if reweight_type == 'DCTR':\n",
    "            # NN (DCTR) reweight\n",
    "            weights = reweight_original(x_T, theta_prime)\n",
    "        elif reweight_type == 'analytical':\n",
    "            # analytical reweight\n",
    "            weights = analytical_reweight(x_T, theta_prime)\n",
    "        else:\n",
    "            raise ValueError(\n",
    "                \"reweight_type must be set to 'DCTR' or 'analytical'\")\n",
    "\n",
    "        if loss == 'MSE':\n",
    "            # Mean Squared Loss\n",
    "            t_loss = y_true * (y_true - y_pred)**2 + (weights) * (\n",
    "                1. - y_true) * (y_true - y_pred)**2\n",
    "        elif loss == 'categorical_crossentropy':\n",
    "            # Categorical Cross-Entropy Loss\n",
    "            # Clip the prediction value to prevent NaN's and Inf's\n",
    "            epsilon = K.epsilon()\n",
    "            y_pred = K.clip(y_pred, epsilon, 1. - epsilon)\n",
    "\n",
    "            t_loss = -((y_true) * K.log(y_pred) + weights *\n",
    "                       (1 - y_true) * K.log(1 - y_pred))\n",
    "        else:\n",
    "            raise ValueError(\n",
    "                \"loss must be set to 'MSE' or 'categorical_crossentropy'\")\n",
    "        return K.mean(t_loss)\n",
    "\n",
    "    return my_loss"
   ]
  },
  {
   "cell_type": "code",
   "execution_count": 37,
   "metadata": {
    "ExecuteTime": {
     "end_time": "2020-08-16T06:35:09.084460Z",
     "start_time": "2020-08-16T05:53:02.451589Z"
    }
   },
   "outputs": [
    {
     "name": "stdout",
     "output_type": "stream",
     "text": [
      "Testing theta =  -2.0\n",
      "loss:  0.248261194601655\n",
      "val_loss:  0.24713334779441357\n",
      "\n",
      "\n",
      "Testing theta =  -1.75\n",
      "loss:  0.2848392647057772\n",
      "val_loss:  0.28416662842035295\n",
      "\n",
      "\n",
      "Testing theta =  -1.5\n",
      "loss:  0.325585941940546\n",
      "val_loss:  0.32523365145921707\n",
      "\n",
      "\n",
      "Testing theta =  -1.25\n",
      "loss:  0.3698392617702484\n",
      "val_loss:  0.3697037089765072\n",
      "\n",
      "\n",
      "Testing theta =  -1.0\n",
      "loss:  0.4164174665212631\n",
      "val_loss:  0.4163958473801613\n",
      "\n",
      "\n",
      "Testing theta =  -0.75\n",
      "loss:  0.46468639048933985\n",
      "val_loss:  0.464696556776762\n",
      "\n",
      "\n",
      "Testing theta =  -0.5\n",
      "loss:  0.5136824157238007\n",
      "val_loss:  0.5136367219388485\n",
      "\n",
      "\n",
      "Testing theta =  -0.25\n",
      "loss:  0.5617381266355514\n",
      "val_loss:  0.5615355648994446\n",
      "\n",
      "\n",
      "Testing theta =  0.0\n",
      "loss:  0.6019588934779168\n",
      "val_loss:  0.6015764487981796\n",
      "\n",
      "\n",
      "Testing theta =  0.25\n",
      "loss:  0.6376549385786057\n",
      "val_loss:  0.6370626638531685\n",
      "\n",
      "\n",
      "Testing theta =  0.5\n",
      "loss:  0.661820728123188\n",
      "val_loss:  0.661127767264843\n",
      "\n",
      "\n",
      "Testing theta =  0.75\n",
      "loss:  0.675768099963665\n",
      "val_loss:  0.6748576496243477\n",
      "\n",
      "\n",
      "Testing theta =  1.0\n",
      "loss:  0.6789026729464531\n",
      "val_loss:  0.6779850606322289\n",
      "\n",
      "\n",
      "Testing theta =  1.25\n",
      "loss:  0.6708302108049393\n",
      "val_loss:  0.6699168135523796\n",
      "\n",
      "\n",
      "Testing theta =  1.5\n",
      "loss:  0.6522965239286422\n",
      "val_loss:  0.6513442830443382\n",
      "\n",
      "\n",
      "Testing theta =  1.75\n",
      "loss:  0.6239384833574295\n",
      "val_loss:  0.6230645506381989\n",
      "\n",
      "\n",
      "Testing theta =  2.0\n",
      "loss:  0.5872348316907883\n",
      "val_loss:  0.5868622907400132\n",
      "\n",
      "\n"
     ]
    }
   ],
   "source": [
    "lvals_D_original = []\n",
    "vlvals_D_original = []\n",
    "\n",
    "for theta in thetas:\n",
    "    print(\"Testing theta = \", theta)\n",
    "    model_original.compile(optimizer='adam',\n",
    "                           loss=my_loss_wrapper_D_original(\n",
    "                               theta,\n",
    "                               loss='categorical_crossentropy',\n",
    "                               batch_size=batch_size),\n",
    "                           metrics=['accuracy'])\n",
    "\n",
    "    history = model_original.fit(np.array(X_train_D),\n",
    "                                 y_train_D,\n",
    "                                 epochs=100,\n",
    "                                 batch_size=batch_size,\n",
    "                                 validation_data=(np.array(X_test_D),\n",
    "                                                  y_test_D),\n",
    "                                 verbose=0,\n",
    "                                 callbacks=[earlystopping])\n",
    "\n",
    "    min_lval = history.history['loss'][np.argmin(history.history['val_loss'])]\n",
    "    min_vlval = np.min(history.history['val_loss'])\n",
    "\n",
    "    lvals_D_original += [min_lval]\n",
    "    vlvals_D_original += [min_vlval]\n",
    "\n",
    "    print(\"loss: \", min_lval)\n",
    "    print(\"val_loss: \", min_vlval)\n",
    "    print(\"\\n\")\n",
    "    pass"
   ]
  },
  {
   "cell_type": "code",
   "execution_count": 38,
   "metadata": {
    "ExecuteTime": {
     "end_time": "2020-08-16T06:35:09.503743Z",
     "start_time": "2020-08-16T06:35:09.086257Z"
    }
   },
   "outputs": [
    {
     "data": {
      "image/png": "[encoded data removed]",
      "text/plain": [
       "<Figure size 432x288 with 1 Axes>"
      ]
     },
     "metadata": {
      "needs_background": "light"
     },
     "output_type": "display_data"
    }
   ],
   "source": [
    "plt.plot(thetas, lvals_D_original, label='Loss')\n",
    "plt.plot(thetas, vlvals_D_original, label='Validation Loss')\n",
    "plt.xlabel(r'$\\theta$')\n",
    "plt.ylabel('Loss')\n",
    "plt.vlines(theta1_param,\n",
    "           ymin=np.min(lvals_D_original),\n",
    "           ymax=np.max(vlvals_D_original),\n",
    "           label='Truth')\n",
    "plt.title(\"Original DCTR Detector Level: Theta vs. Loss\")\n",
    "plt.legend()\n",
    "# plt.savefig(\"GaussianAltFit-1D-ThetaDependentDetectorEffects-OriginalDCTR-Detector-Level:-Theta-vs-Loss.png\")\n",
    "plt.show()"
   ]
  },
  {
   "cell_type": "code",
   "execution_count": 39,
   "metadata": {
    "ExecuteTime": {
     "end_time": "2020-08-16T06:35:09.534800Z",
     "start_time": "2020-08-16T06:35:09.513176Z"
    }
   },
   "outputs": [
    {
     "name": "stdout",
     "output_type": "stream",
     "text": [
      "Interpolated Maximum:  0.9999999892666462\n"
     ]
    }
   ],
   "source": [
    "f = sp.interpolate.interp1d(thetas, lvals_D_original, fill_value=\"extrapolate\")\n",
    "\n",
    "print(\"Interpolated Maximum: \",\n",
    "      sp.optimize.minimize(lambda x: -f(x), x0=0)['x'][0])"
   ]
  },
  {
   "cell_type": "markdown",
   "metadata": {},
   "source": [
    "#### Comparison Plot"
   ]
  },
  {
   "cell_type": "code",
   "execution_count": 40,
   "metadata": {
    "ExecuteTime": {
     "end_time": "2020-08-16T06:35:10.014465Z",
     "start_time": "2020-08-16T06:35:09.537642Z"
    }
   },
   "outputs": [
    {
     "data": {
      "image/png": "[encoded data removed]",
      "text/plain": [
       "<Figure size 432x288 with 1 Axes>"
      ]
     },
     "metadata": {
      "needs_background": "light"
     },
     "output_type": "display_data"
    }
   ],
   "source": [
    "plt.plot(thetas, vlvals_T, label='Truth Level')\n",
    "plt.plot(thetas, vlvals_D, label='Detector Level')\n",
    "\n",
    "plt.plot(thetas, vlvals_T_original, label='Original DCTR Truth Level')\n",
    "plt.plot(thetas, vlvals_D_original, label='Original DCTR Detector Level')\n",
    "\n",
    "plt.xlabel(r'$\\theta$')\n",
    "plt.ylabel('Loss')\n",
    "plt.vlines(\n",
    "    theta1_param,\n",
    "    ymin=np.min(vlvals_T + vlvals_D + vlvals_T_original + vlvals_D_original),\n",
    "    ymax=np.max(vlvals_T + vlvals_D + vlvals_T_original + vlvals_D_original),\n",
    "    label='Truth')\n",
    "plt.title(\"Original DCTR Loss Comparison\")\n",
    "plt.legend(bbox_to_anchor=(1.05, 1.0))\n",
    "# plt.savefig(\n",
    "#     \"GaussianAltFit-1D-ThetaDependentDetectorEffects-OriginalDCTR-Loss-Comparison.png\",\n",
    "#     bbox_inches='tight')\n",
    "plt.show()"
   ]
  },
  {
   "cell_type": "markdown",
   "metadata": {},
   "source": [
    "We can see that both the original DCTR Truth and Detector Levels are flatter than the actual Truth and Detector Levels respecively."
   ]
  },
  {
   "cell_type": "markdown",
   "metadata": {},
   "source": [
    "# More complex, uneven detector effects"
   ]
  },
  {
   "cell_type": "markdown",
   "metadata": {},
   "source": [
    "To apply detector effects here, each event's primary truth observable $x_{T,i,0}$in the sample is smeared by shifting by $Z_{i}$ from $Z = \\mathcal{N}((x_{T,i,1})^2,(x_{T,i,1})^2)$ ,where the square of the secondary truth observable $x_{T,i,1}$ represents the some shifting bias as well as smearing. Thus: $x_{D,i} = x_{T,i,0} + Z_{i}$"
   ]
  },
  {
   "cell_type": "code",
   "execution_count": 41,
   "metadata": {
    "ExecuteTime": {
     "end_time": "2020-08-16T06:35:30.519908Z",
     "start_time": "2020-08-16T06:35:10.016870Z"
    }
   },
   "outputs": [],
   "source": [
    "# Generate detector level by smearing truth\n",
    "\n",
    "X0_val_D_new = np.array([(x[0] + np.random.normal(x[1]**2, x[1]**2))\n",
    "                         for x in X0_val_T])  # Detector smearing\n",
    "X1_val_D_new = np.array([(x[0] + np.random.normal(x[1]**2, x[1]**2))\n",
    "                         for x in X1_val_T])  # Detector smearing"
   ]
  },
  {
   "cell_type": "code",
   "execution_count": 42,
   "metadata": {
    "ExecuteTime": {
     "end_time": "2020-08-16T06:35:33.046349Z",
     "start_time": "2020-08-16T06:35:30.523233Z"
    }
   },
   "outputs": [
    {
     "data": {
      "image/png": "[encoded data removed]",
      "text/plain": [
       "<Figure size 432x288 with 2 Axes>"
      ]
     },
     "metadata": {
      "needs_background": "light"
     },
     "output_type": "display_data"
    }
   ],
   "source": [
    "fig, axs = plt.subplots(1, 2, sharey=True, constrained_layout=True)\n",
    "fig.suptitle('New Detector Smearing')\n",
    "axs[0].set_title('$\\mu=0$')\n",
    "axs[0].hist(X0_val_T[:, 0], bins=bins, alpha=0.5, label='Truth')\n",
    "axs[0].hist(X0_val_D_new, bins=bins, alpha=0.5, label='Detector')\n",
    "axs[0].legend(prop=fontP, loc='upper left')\n",
    "axs[1].set_title('$\\mu={}$'.format(mu1))\n",
    "axs[1].hist(X1_val_T[:, 0], bins=bins, alpha=0.5, label='Truth')\n",
    "axs[1].hist(X1_val_D_new, bins=bins, alpha=0.5, label='Detector')\n",
    "axs[1].legend(prop=fontP, loc='upper left')\n",
    "fig.show()"
   ]
  },
  {
   "cell_type": "markdown",
   "metadata": {},
   "source": [
    "Note that the same validation weights will work here as reweighting only depends only on truth, which is determined by $(x_{T,i,0},x_{T,i,1})$ and not how the detector effects are applied, so long these effects depend solely on truth in some way."
   ]
  },
  {
   "cell_type": "code",
   "execution_count": 43,
   "metadata": {
    "ExecuteTime": {
     "end_time": "2020-08-16T06:35:34.151976Z",
     "start_time": "2020-08-16T06:35:33.050864Z"
    }
   },
   "outputs": [
    {
     "data": {
      "image/png": "[encoded data removed]",
      "text/plain": [
       "<Figure size 432x288 with 1 Axes>"
      ]
     },
     "metadata": {
      "needs_background": "light"
     },
     "output_type": "display_data"
    }
   ],
   "source": [
    "bins = np.linspace(-7, 7, 31)\n",
    "plt.hist(X0_val_D_new, bins=bins, alpha=0.5, label=r'$\\mu=0$')\n",
    "plt.hist(X0_val_D_new,\n",
    "         bins=bins,\n",
    "         label=r'$\\mu=0$ DCTR wgt.',\n",
    "         weights=weights_val,\n",
    "         histtype='step',\n",
    "         color='k')\n",
    "plt.hist(X1_val_D_new, bins=bins, alpha=0.5, label=r'$\\mu={}$'.format(mu1))\n",
    "plt.legend(prop=fontP)\n",
    "plt.title(\"New Detector Level: Reweighting\")\n",
    "#plt.savefig(\"GaussianAltFit-1D-ThetaDependentDetectorEffects-New-Detector-Level:Reweighting.png\")\n",
    "plt.show()"
   ]
  },
  {
   "cell_type": "markdown",
   "metadata": {},
   "source": [
    "## Scanning with New Effects"
   ]
  },
  {
   "cell_type": "code",
   "execution_count": 44,
   "metadata": {
    "ExecuteTime": {
     "end_time": "2020-08-16T06:35:58.463318Z",
     "start_time": "2020-08-16T06:35:34.160108Z"
    }
   },
   "outputs": [
    {
     "data": {
      "image/png": "[encoded data removed]",
      "text/plain": [
       "<Figure size 432x288 with 2 Axes>"
      ]
     },
     "metadata": {
      "needs_background": "light"
     },
     "output_type": "display_data"
    }
   ],
   "source": [
    "N = 10**6\n",
    "theta0_param = 0  # this is the simulation ... N.B. this notation is reversed from above!\n",
    "theta1_param = 1  # this is the data (the target)\n",
    "sigma = 1.  # standard Gaussian width\n",
    "# epsilon = sigma / 2  # Smearing width\n",
    "\n",
    "theta0_T_0 = np.random.normal(theta0_param, sigma, N)  # Truth Level Data\n",
    "theta0_T_1 = np.random.normal(0, nu(theta0_param), N)\n",
    "theta0_T = np.stack((theta0_T_0, theta0_T_1), axis=-1)\n",
    "\n",
    "theta0_D = np.array([(x[0] + np.random.normal(x[1]**2, x[1]**2))\n",
    "                     for x in theta0_T])  # Detector smearing\n",
    "\n",
    "theta0 = np.hstack([theta0_T, np.expand_dims(theta0_D, axis=-1)])\n",
    "\n",
    "theta1_T = np.random.normal(theta1_param, sigma, N)\n",
    "theta1_T_ep = np.random.normal(0, nu(theta1_param), N)\n",
    "theta1_T = np.stack((theta1_T, theta1_T_ep), axis=-1)\n",
    "\n",
    "theta1_D = np.array([(x[0] + np.random.normal(x[1]**2, x[1]**2))\n",
    "                     for x in theta1_T])  # Detector smearing\n",
    "\n",
    "theta1 = np.hstack([theta1_T, np.expand_dims(theta1_D, axis=-1)])\n",
    "\n",
    "bins = np.linspace(-6, 6, 31)\n",
    "\n",
    "fig, axs = plt.subplots(1, 2, sharey=True, constrained_layout=True)\n",
    "fig.suptitle('Fitting Data with New Detector Effects')\n",
    "\n",
    "axs[0].set_title(\"Simulation\\n($\\mu$ = {:.2f})\".format(theta0_param))\n",
    "axs[0].hist(theta0_T[:, 0], bins=bins, alpha=0.5, label='Truth')\n",
    "axs[0].hist(theta0_D, bins=bins, alpha=0.5, label='Detector')\n",
    "axs[0].legend(prop=fontP, loc='upper left')\n",
    "\n",
    "axs[1].set_title(\"Data\\n($\\mu$ = {:.2f})\".format(theta1_param))\n",
    "axs[1].hist(theta1_T[:, 0], bins=bins, alpha=0.5, label='Truth')\n",
    "axs[1].hist(theta1_D, bins=bins, alpha=0.5, label='Detector')\n",
    "axs[1].legend(prop=fontP, loc='upper left')\n",
    "\n",
    "# fig.savefig(\"GaussianAltFit-1D-ThetaDependentDetectorEffects-Fitting-Data-with-New-Detector-Effects.png\")\n",
    "plt.show()\n",
    "\n",
    "labels0 = np.zeros(len(theta0))\n",
    "labels1 = np.ones(len(theta1))\n",
    "\n",
    "xvals = np.concatenate([theta0, theta1])\n",
    "yvals = np.concatenate([labels0, labels1])\n",
    "\n",
    "X_train, X_test, y_train, y_test = train_test_split(xvals,\n",
    "                                                    yvals,\n",
    "                                                    test_size=0.5)\n",
    "X_train_theta, y_train_theta = shuffle(xvals, yvals)\n",
    "\n",
    "X_train_T, y_train_T = np.copy(X_train[:, :2]), y_train\n",
    "X_test_T, y_test_T = np.copy(X_test[:, :2]), y_test\n",
    "X_train_theta_T, y_train_theta_T = np.copy(X_train_theta[:, :2]), y_train_theta\n",
    "\n",
    "#' Erasing' Truth level for data, we can't actually observe this\n",
    "X_train[:, :2][y_train == 1], X_test[:, :2][y_test == 1] = 0., 0.\n",
    "X_train_theta[:, :2][y_train_theta == 1] = 0.\n",
    "\n",
    "# 'hiding' truth level for simulation in expected model output (used in reweighting)\n",
    "X_train_D, y_train_D = X_train[:, 2], np.hstack(\n",
    "    [np.expand_dims(y_train, axis=-1), X_train[:, :2]])\n",
    "X_test_D, y_test_D = X_test[:, 2], np.hstack(\n",
    "    [np.expand_dims(y_test, axis=-1), X_test[:, :2]])\n",
    "\n",
    "X_train_theta_D, y_train_theta_D = X_train_theta[:, 1], np.hstack(\n",
    "    [np.expand_dims(y_train_theta, axis=-1), X_train_theta[:, :2]])"
   ]
  },
  {
   "cell_type": "markdown",
   "metadata": {},
   "source": [
    "Notice how detector smearing and right-shifting is more intense for \"Data\"."
   ]
  },
  {
   "cell_type": "code",
   "execution_count": 45,
   "metadata": {
    "ExecuteTime": {
     "end_time": "2020-08-16T07:19:17.969444Z",
     "start_time": "2020-08-16T06:35:58.466681Z"
    },
    "scrolled": true
   },
   "outputs": [
    {
     "name": "stdout",
     "output_type": "stream",
     "text": [
      "Testing theta =  -2.0\n",
      "loss:  0.1521508372053504\n",
      "val_loss:  0.15258769451081752\n",
      "\n",
      "\n",
      "Testing theta =  -1.75\n",
      "loss:  0.18638191071152688\n",
      "val_loss:  0.1867772781699896\n",
      "\n",
      "\n",
      "Testing theta =  -1.5\n",
      "loss:  0.22645251600444316\n",
      "val_loss:  0.22666577646136285\n",
      "\n",
      "\n",
      "Testing theta =  -1.25\n",
      "loss:  0.2702040612846613\n",
      "val_loss:  0.2707497564256191\n",
      "\n",
      "\n",
      "Testing theta =  -1.0\n",
      "loss:  0.3205508323609829\n",
      "val_loss:  0.3211451207101345\n",
      "\n",
      "\n",
      "Testing theta =  -0.75\n",
      "loss:  0.3772730627655983\n",
      "val_loss:  0.3778550264239311\n",
      "\n",
      "\n",
      "Testing theta =  -0.5\n",
      "loss:  0.4396205525696278\n",
      "val_loss:  0.44004094168543817\n",
      "\n",
      "\n",
      "Testing theta =  -0.25\n",
      "loss:  0.5046619412600994\n",
      "val_loss:  0.5049884621500969\n",
      "\n",
      "\n",
      "Testing theta =  0.0\n",
      "loss:  0.5656839823126792\n",
      "val_loss:  0.5657427814602852\n",
      "\n",
      "\n",
      "Testing theta =  0.25\n",
      "loss:  0.6172166193723678\n",
      "val_loss:  0.6170291694402694\n",
      "\n",
      "\n",
      "Testing theta =  0.5\n",
      "loss:  0.6574955837726593\n",
      "val_loss:  0.6574686200022698\n",
      "\n",
      "\n",
      "Testing theta =  0.75\n",
      "loss:  0.6823754349946975\n",
      "val_loss:  0.6831610521674156\n",
      "\n",
      "\n",
      "Testing theta =  1.0\n",
      "loss:  0.6902926706075668\n",
      "val_loss:  0.6927966942191124\n",
      "\n",
      "\n",
      "Testing theta =  1.25\n",
      "loss:  0.6819112241864205\n",
      "val_loss:  0.6863253516554833\n",
      "\n",
      "\n",
      "Testing theta =  1.5\n",
      "loss:  0.657286155462265\n",
      "val_loss:  0.6637870928049088\n",
      "\n",
      "\n",
      "Testing theta =  1.75\n",
      "loss:  0.6214983744025231\n",
      "val_loss:  0.6298501724898815\n",
      "\n",
      "\n",
      "Testing theta =  2.0\n",
      "loss:  0.5809043064713478\n",
      "val_loss:  0.5900610388815403\n",
      "\n",
      "\n",
      "[0.2311053888052702, 0.2702637853771448, 0.3121443809568882, 0.3551745256483555, 0.40134679213166236, 0.45009083941578865, 0.5003043256402016, 0.5507424605488778, 0.5968593214154243, 0.6351910917162895, 0.6658702046871185, 0.6851512874960899, 0.6911515621542931, 0.6838801574707031, 0.6614355700612068, 0.6332755414545536, 0.5956011461615562]\n"
     ]
    }
   ],
   "source": [
    "lvals_D_new = []\n",
    "vlvals_D_new = []\n",
    "\n",
    "for theta in thetas:\n",
    "    print(\"Testing theta = \", theta)\n",
    "    model_D.compile(optimizer='adam',\n",
    "                    loss=my_loss_wrapper_D(theta,\n",
    "                                           loss='categorical_crossentropy',\n",
    "                                           batch_size=batch_size),\n",
    "                    metrics=['accuracy'])\n",
    "\n",
    "    history = model_D.fit(np.array(X_train_D),\n",
    "                          y_train_D,\n",
    "                          epochs=100,\n",
    "                          batch_size=batch_size,\n",
    "                          validation_data=(np.array(X_test_D), y_test_D),\n",
    "                          verbose=0,\n",
    "                          callbacks=[earlystopping])\n",
    "\n",
    "    min_lval = history.history['loss'][np.argmin(history.history['val_loss'])]\n",
    "    min_vlval = np.min(history.history['val_loss'])\n",
    "\n",
    "    lvals_D_new += [min_lval]\n",
    "    vlvals_D_new += [min_vlval]\n",
    "\n",
    "    print(\"loss: \", min_lval)\n",
    "    print(\"val_loss: \", min_vlval)\n",
    "    print(\"\\n\")\n",
    "    pass\n",
    "print(lvals_D)"
   ]
  },
  {
   "cell_type": "code",
   "execution_count": 46,
   "metadata": {
    "ExecuteTime": {
     "end_time": "2020-08-16T07:19:18.391060Z",
     "start_time": "2020-08-16T07:19:17.971489Z"
    }
   },
   "outputs": [
    {
     "data": {
      "image/png": "[encoded data removed]",
      "text/plain": [
       "<Figure size 432x288 with 1 Axes>"
      ]
     },
     "metadata": {
      "needs_background": "light"
     },
     "output_type": "display_data"
    }
   ],
   "source": [
    "plt.plot(thetas, lvals_D_new, label='Loss')\n",
    "plt.plot(thetas, vlvals_D_new, label='Validation Loss')\n",
    "plt.xlabel(r'$\\theta$')\n",
    "plt.ylabel('Loss')\n",
    "plt.vlines(theta1_param,\n",
    "           ymin=np.min(lvals_D_new),\n",
    "           ymax=np.max(lvals_D_new),\n",
    "           label='Truth')\n",
    "plt.title(\"New Detector Level: Theta vs. Loss\")\n",
    "plt.legend()\n",
    "# plt.savefig(\"GaussianAltFit-1D-ThetaDependentDetectorEffects-New-Detector-Level:-Theta-vs-Loss.png\")\n",
    "plt.show()"
   ]
  },
  {
   "cell_type": "code",
   "execution_count": 47,
   "metadata": {
    "ExecuteTime": {
     "end_time": "2020-08-16T07:19:18.451292Z",
     "start_time": "2020-08-16T07:19:18.399151Z"
    }
   },
   "outputs": [
    {
     "name": "stdout",
     "output_type": "stream",
     "text": [
      "Interpolated Maximum:  0.9999999928244057\n"
     ]
    }
   ],
   "source": [
    "f = sp.interpolate.interp1d(thetas, lvals_D_new, fill_value=\"extrapolate\")\n",
    "\n",
    "print(\"Interpolated Maximum: \",\n",
    "      sp.optimize.minimize(lambda x: -f(x), x0=0)['x'][0])"
   ]
  },
  {
   "cell_type": "markdown",
   "metadata": {},
   "source": [
    "### Comparison Plot"
   ]
  },
  {
   "cell_type": "code",
   "execution_count": 48,
   "metadata": {
    "ExecuteTime": {
     "end_time": "2020-08-16T07:19:18.930577Z",
     "start_time": "2020-08-16T07:19:18.454938Z"
    }
   },
   "outputs": [
    {
     "data": {
      "image/png": "[encoded data removed]",
      "text/plain": [
       "<Figure size 432x288 with 1 Axes>"
      ]
     },
     "metadata": {
      "needs_background": "light"
     },
     "output_type": "display_data"
    }
   ],
   "source": [
    "plt.plot(thetas, vlvals_T, label='Truth Level')\n",
    "plt.plot(thetas, vlvals_D, label='Old (Smear only) Detector Level')\n",
    "plt.plot(thetas, vlvals_D_new, label='New (Smear and Shift) Detector Level')\n",
    "plt.xlabel(r'$\\theta$')\n",
    "plt.ylabel('Loss')\n",
    "plt.vlines(theta1_param,\n",
    "           ymin=np.min(vlvals_T + vlvals_D + vlvals_D_new),\n",
    "           ymax=np.max(vlvals_T + vlvals_D + vlvals_D_new),\n",
    "           label='Truth')\n",
    "plt.title(\"Truth vs. Detector Loss Comparison (Overall)\")\n",
    "plt.legend(bbox_to_anchor=(1.05, 1.0))\n",
    "# plt.savefig(\n",
    "#     \"GaussianAltFit-1D-ThetaDependentDetectorEffects-Truth-vs-Detector-Loss-Comparison-Overall.png\",\n",
    "#     bbox_inches='tight')\n",
    "plt.show()"
   ]
  },
  {
   "cell_type": "markdown",
   "metadata": {},
   "source": [
    "## Compare to Original DCTR\n",
    "See how incorrect the fit is if we ignore the secondary truth observable and use the original DCTR."
   ]
  },
  {
   "cell_type": "code",
   "execution_count": 49,
   "metadata": {
    "ExecuteTime": {
     "end_time": "2020-08-16T08:03:33.929723Z",
     "start_time": "2020-08-16T07:19:18.932830Z"
    }
   },
   "outputs": [
    {
     "name": "stdout",
     "output_type": "stream",
     "text": [
      "Testing theta =  -2.0\n",
      "loss:  0.21473089565336703\n",
      "val_loss:  0.21397073024511337\n",
      "\n",
      "\n",
      "Testing theta =  -1.75\n",
      "loss:  0.25003744001686573\n",
      "val_loss:  0.24970262940227986\n",
      "\n",
      "\n",
      "Testing theta =  -1.5\n",
      "loss:  0.2896064716428518\n",
      "val_loss:  0.2894557816386223\n",
      "\n",
      "\n",
      "Testing theta =  -1.25\n",
      "loss:  0.33297368291020396\n",
      "val_loss:  0.3331043848991394\n",
      "\n",
      "\n",
      "Testing theta =  -1.0\n",
      "loss:  0.3790859500467777\n",
      "val_loss:  0.37919610539078713\n",
      "\n",
      "\n",
      "Testing theta =  -0.75\n",
      "loss:  0.42750628635287286\n",
      "val_loss:  0.42756807133555413\n",
      "\n",
      "\n",
      "Testing theta =  -0.5\n",
      "loss:  0.47731640410423276\n",
      "val_loss:  0.47738902059197424\n",
      "\n",
      "\n",
      "Testing theta =  -0.25\n",
      "loss:  0.5270888867974282\n",
      "val_loss:  0.5271404972970486\n",
      "\n",
      "\n",
      "Testing theta =  0.0\n",
      "loss:  0.5702974451184273\n",
      "val_loss:  0.5703287009596825\n",
      "\n",
      "\n",
      "Testing theta =  0.25\n",
      "loss:  0.6101303067207337\n",
      "val_loss:  0.6101515084505081\n",
      "\n",
      "\n",
      "Testing theta =  0.5\n",
      "loss:  0.6400576770305634\n",
      "val_loss:  0.6400264260768891\n",
      "\n",
      "\n",
      "Testing theta =  0.75\n",
      "loss:  0.6607650703191758\n",
      "val_loss:  0.6606376537680626\n",
      "\n",
      "\n",
      "Testing theta =  1.0\n",
      "loss:  0.6715923880934715\n",
      "val_loss:  0.6713226474523545\n",
      "\n",
      "\n",
      "Testing theta =  1.25\n",
      "loss:  0.6720468045473099\n",
      "val_loss:  0.6713855761885643\n",
      "\n",
      "\n",
      "Testing theta =  1.5\n",
      "loss:  0.6618843946456909\n",
      "val_loss:  0.6609391260743142\n",
      "\n",
      "\n",
      "Testing theta =  1.75\n",
      "loss:  0.6413854092359543\n",
      "val_loss:  0.6400645766258239\n",
      "\n",
      "\n",
      "Testing theta =  2.0\n",
      "loss:  0.6120368828177452\n",
      "val_loss:  0.6103266432285309\n",
      "\n",
      "\n"
     ]
    }
   ],
   "source": [
    "lvals_D_original_new = []\n",
    "vlvals_D_original_new = []\n",
    "\n",
    "for theta in thetas:\n",
    "    print(\"Testing theta = \", theta)\n",
    "    model_original.compile(optimizer='adam',\n",
    "                           loss=my_loss_wrapper_D_original(\n",
    "                               theta,\n",
    "                               loss='categorical_crossentropy',\n",
    "                               batch_size=batch_size),\n",
    "                           metrics=['accuracy'])\n",
    "\n",
    "    history = model_original.fit(np.array(X_train_D),\n",
    "                                 y_train_D,\n",
    "                                 epochs=100,\n",
    "                                 batch_size=batch_size,\n",
    "                                 validation_data=(np.array(X_test_D),\n",
    "                                                  y_test_D),\n",
    "                                 verbose=0,\n",
    "                                 callbacks=[earlystopping])\n",
    "\n",
    "    min_lval = history.history['loss'][np.argmin(history.history['val_loss'])]\n",
    "    min_vlval = np.min(history.history['val_loss'])\n",
    "\n",
    "    lvals_D_original_new += [min_lval]\n",
    "    vlvals_D_original_new += [min_vlval]\n",
    "\n",
    "    print(\"loss: \", min_lval)\n",
    "    print(\"val_loss: \", min_vlval)\n",
    "    print(\"\\n\")\n",
    "    pass"
   ]
  },
  {
   "cell_type": "code",
   "execution_count": 50,
   "metadata": {
    "ExecuteTime": {
     "end_time": "2020-08-16T08:03:34.353477Z",
     "start_time": "2020-08-16T08:03:33.936988Z"
    },
    "scrolled": true
   },
   "outputs": [
    {
     "data": {
      "image/png": "[encoded data removed]",
      "text/plain": [
       "<Figure size 432x288 with 1 Axes>"
      ]
     },
     "metadata": {
      "needs_background": "light"
     },
     "output_type": "display_data"
    }
   ],
   "source": [
    "plt.plot(thetas, lvals_D_original_new, label='Loss')\n",
    "plt.plot(thetas, vlvals_D_original_new, label='Validation Loss')\n",
    "plt.xlabel(r'$\\theta$')\n",
    "plt.ylabel('Loss')\n",
    "plt.vlines(theta1_param,\n",
    "           ymin=np.min(lvals_D_original_new),\n",
    "           ymax=np.max(vlvals_D_original_new),\n",
    "           label='Truth')\n",
    "plt.title(\"Original DCTR at New Detector Level: Theta vs. Loss\")\n",
    "plt.legend()\n",
    "# plt.savefig(\"GaussianAltFit-1D-ThetaDependentDetectorEffects-OriginalDCTR-Detector-Level:-Theta-vs-Loss.png\")\n",
    "plt.show()"
   ]
  },
  {
   "cell_type": "code",
   "execution_count": 51,
   "metadata": {
    "ExecuteTime": {
     "end_time": "2020-08-16T08:03:34.391749Z",
     "start_time": "2020-08-16T08:03:34.355417Z"
    }
   },
   "outputs": [
    {
     "name": "stdout",
     "output_type": "stream",
     "text": [
      "Interpolated Maximum:  1.0940369802219956\n"
     ]
    }
   ],
   "source": [
    "f = sp.interpolate.interp1d(thetas, lvals_D_original_new, fill_value=\"extrapolate\")\n",
    "\n",
    "print(\"Interpolated Maximum: \",\n",
    "      sp.optimize.minimize(lambda x: -f(x), x0=0)['x'][0])"
   ]
  },
  {
   "cell_type": "markdown",
   "metadata": {},
   "source": [
    "We can see that when the orignal DCTR is used in reweighting at the \"new\" detector level, the peak is shifted incorrectly to the right."
   ]
  },
  {
   "cell_type": "markdown",
   "metadata": {},
   "source": [
    "### Comparison Plot"
   ]
  },
  {
   "cell_type": "code",
   "execution_count": 52,
   "metadata": {
    "ExecuteTime": {
     "end_time": "2020-08-16T08:03:34.866389Z",
     "start_time": "2020-08-16T08:03:34.395919Z"
    }
   },
   "outputs": [
    {
     "data": {
      "image/png": "[encoded data removed]",
      "text/plain": [
       "<Figure size 432x288 with 1 Axes>"
      ]
     },
     "metadata": {
      "needs_background": "light"
     },
     "output_type": "display_data"
    }
   ],
   "source": [
    "plt.plot(thetas, vlvals_T, label='Truth Level')\n",
    "plt.plot(thetas, vlvals_D_new, label='New Detector Level')\n",
    "\n",
    "plt.plot(thetas, vlvals_T_original, label='Original DCTR at Truth Level')\n",
    "plt.plot(thetas,\n",
    "         vlvals_D_original_new,\n",
    "         label='Original DCTR at New Detector Level')\n",
    "\n",
    "plt.xlabel(r'$\\theta$')\n",
    "plt.ylabel('Loss')\n",
    "plt.vlines(theta1_param,\n",
    "           ymin=np.min(vlvals_T + vlvals_D_new + vlvals_T_original +\n",
    "                       vlvals_D_original_new),\n",
    "           ymax=np.max(vlvals_T + vlvals_D_new + vlvals_T_original +\n",
    "                       vlvals_D_original_new),\n",
    "           label='Truth')\n",
    "plt.title(\"Original DCTR Loss Comparison\")\n",
    "plt.legend(bbox_to_anchor=(1.05, 1.0))\n",
    "# plt.savefig(\n",
    "#     \"GaussianAltFit-1D-ThetaDependentDetectorEffects-OriginalDCTR-Loss-Comparison.png\",\n",
    "#     bbox_inches='tight')\n",
    "plt.show()"
   ]
  }
 ],
 "metadata": {
  "kernelspec": {
   "display_name": "Python 3",
   "language": "python",
   "name": "python3"
  },
  "language_info": {
   "codemirror_mode": {
    "name": "ipython",
    "version": 3
   },
   "file_extension": ".py",
   "mimetype": "text/x-python",
   "name": "python",
   "nbconvert_exporter": "python",
   "pygments_lexer": "ipython3",
   "version": "3.5.2"
  },
  "notify_time": "0",
  "toc": {
   "base_numbering": 1,
   "nav_menu": {},
   "number_sections": false,
   "sideBar": true,
   "skip_h1_title": false,
   "title_cell": "Table of Contents",
   "title_sidebar": "Contents",
   "toc_cell": false,
   "toc_position": {
    "height": "calc(100% - 180px)",
    "left": "10px",
    "top": "150px",
    "width": "288px"
   },
   "toc_section_display": true,
   "toc_window_display": true
  }
 },
 "nbformat": 4,
 "nbformat_minor": 2
}
