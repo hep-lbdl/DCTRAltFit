{
 "cells": [
  {
   "cell_type": "code",
   "execution_count": 1,
   "metadata": {
    "ExecuteTime": {
     "end_time": "2020-08-17T05:56:17.442574Z",
     "start_time": "2020-08-17T05:56:17.438579Z"
    }
   },
   "outputs": [],
   "source": [
    "import os\n",
    "os.environ[\"CUDA_DEVICE_ORDER\"] = \"PCI_BUS_ID\"\n",
    "os.environ[\"CUDA_VISIBLE_DEVICES\"] = \"0\""
   ]
  },
  {
   "cell_type": "code",
   "execution_count": 2,
   "metadata": {
    "ExecuteTime": {
     "end_time": "2020-08-17T05:56:20.122168Z",
     "start_time": "2020-08-17T05:56:17.445778Z"
    }
   },
   "outputs": [
    {
     "name": "stderr",
     "output_type": "stream",
     "text": [
      "Using TensorFlow backend.\n"
     ]
    }
   ],
   "source": [
    "# standard library imports\n",
    "from __future__ import absolute_import, division, print_function\n",
    "\n",
    "import numpy as np\n",
    "from matplotlib import pyplot as plt\n",
    "import scipy as sp\n",
    "\n",
    "from scipy.signal import argrelmin, argrelmax\n",
    "\n",
    "from sklearn.utils import shuffle\n",
    "from sklearn.model_selection import train_test_split\n",
    "\n",
    "import tensorflow as tf\n",
    "from keras.layers import Lambda, Dense, Input, Layer\n",
    "from keras.models import Model\n",
    "from keras.utils import to_categorical\n",
    "from keras.callbacks import LambdaCallback, EarlyStopping\n",
    "import keras.backend as K\n",
    "import keras"
   ]
  },
  {
   "cell_type": "code",
   "execution_count": 3,
   "metadata": {
    "ExecuteTime": {
     "end_time": "2020-08-17T05:56:20.132082Z",
     "start_time": "2020-08-17T05:56:20.125197Z"
    }
   },
   "outputs": [],
   "source": [
    "# Global plot settings\n",
    "from matplotlib import rc\n",
    "import matplotlib.font_manager\n",
    "from matplotlib.font_manager import FontProperties\n",
    "\n",
    "rc('font', family='serif')\n",
    "rc('text', usetex=True)\n",
    "rc('font', size=22)\n",
    "rc('xtick', labelsize=15)\n",
    "rc('ytick', labelsize=15)\n",
    "rc('legend', fontsize=15)\n",
    "\n",
    "fontP = FontProperties()\n",
    "fontP.set_size(10)"
   ]
  },
  {
   "cell_type": "code",
   "execution_count": 4,
   "metadata": {
    "ExecuteTime": {
     "end_time": "2020-08-17T05:56:20.143926Z",
     "start_time": "2020-08-17T05:56:20.134382Z"
    },
    "scrolled": true
   },
   "outputs": [
    {
     "name": "stdout",
     "output_type": "stream",
     "text": [
      "1.15.0\n",
      "2.2.4\n"
     ]
    }
   ],
   "source": [
    "# Check Versions\n",
    "print(tf.__version__)  #1.15.0\n",
    "print(keras.__version__)  #2.2.4"
   ]
  },
  {
   "cell_type": "markdown",
   "metadata": {},
   "source": [
    "# Alternative DCTR fitting algorithm\n",
    "\n",
    "The DCTR paper (https://arxiv.org/abs/1907.08209) shows how a continuously parameterized NN used for reweighting:\n",
    "\n",
    "$f(x,\\theta)=\\text{argmax}_{f'}(\\sum_{i\\in\\bf{\\theta}_0}\\log f'(x_i,\\theta)+\\sum_{i\\in\\bf{\\theta}}\\log (1-f'(x_i,\\theta)))$\n",
    "\n",
    "can also be used for fitting:\n",
    "\n",
    "$\\theta^*=\\text{argmax}_{\\theta'}(\\sum_{i\\in\\bf{\\theta}_0}\\log f(x_i,\\theta')+\\sum_{i\\in\\bf{\\theta}}\\log (1-f(x_i,\\theta')))$\n",
    "\n",
    "This works well when the reweighting and fitting happen on the same 'level'.  However, if the reweighting happens at truth level (before detector simulation) while the fit happens in data (after the effects of the detector), this procedure will not work.  It works only if the reweighting and fitting both happen at detector-level or both happen at truth-level.  This notebook illustrates an alternative procedure:\n",
    "\n",
    "$\\theta^*=\\text{argmax}_{\\theta'}\\text{min}_{g}(-\\sum_{i\\in\\bf{\\theta}_0}\\log g(x_i)-\\sum_{i\\in\\bf{\\theta}}(f(x_i,\\theta')/(1-f(x_i,\\theta')))\\log (1-g(x_i)))$\n",
    "\n",
    "where the $f(x,\\theta')/(1-f(x,\\theta'))$ is the reweighting function.  The intuition of the above equation is that the classifier $g$ is trying to distinguish the two samples and we try to find a $\\theta$ that makes $g$'s task maximally hard.  If $g$ can't tell apart the two samples, then the reweighting has worked!  This is similar to the minimax graining of a GAN, only now the analog of the generator network is the reweighting network which is fixed and thus the only trainable parameters are the $\\theta'$.  The advantage of this second approach is that it readily generalizes to the case where the reweighting happens on a different level:\n",
    "\n",
    "$\\theta^*=\\text{argmax}_{\\theta'}\\text{min}_{g}(-\\sum_{i\\in\\bf{\\theta}_0}\\log g(x_{D,i})-\\sum_{i\\in\\bf{\\theta}}\\frac{f(x_{T,i},\\theta')}{(1-f(x_{T,i},\\theta'))}\\log (1-g(x_{D,i})))$\n",
    "\n",
    "where $x_T$ is the truth value and $x_D$ is the detector-level value.  In simulation (the second sum), these come in pairs and so one can apply the reweighting on one level and the classification on the other.  Asympotitically, both this method and the one in the body of the DCTR paper learn the same result: $\\theta^*=\\theta_0$."
   ]
  },
  {
   "cell_type": "markdown",
   "metadata": {},
   "source": [
    "# Training a DCTR Model\n",
    "First, we need to train a DCTR model to provide us with a reweighting function to be used during fitting.\n",
    "This is taken directly from the original Gaussian DCTR Example."
   ]
  },
  {
   "cell_type": "markdown",
   "metadata": {},
   "source": [
    "We will now parametrize our network by giving it a $\\mu$ value in addition to $X_{i,0}\\sim\\mathcal{N}(\\mu, 1)$ and $X_{i,1}\\sim\\mathcal{N}(0, \\nu)$, where $\\nu = (\\omega_0 +\\omega_1\\mu)^2$ for some constant terms $\\omega_0$, $\\omega_1$ and $X_{i,1}$ is a secondary truth observable that will determinte detector effects for $X_{i,0}$.\n",
    "\n",
    "First we uniformly sample $\\mu$ values in some range"
   ]
  },
  {
   "cell_type": "markdown",
   "metadata": {},
   "source": [
    "We then sample from normal distributions with this $\\mu$ and its respective $\\nu$ value."
   ]
  },
  {
   "cell_type": "markdown",
   "metadata": {},
   "source": [
    "Please note that the samples in X0 are not paired with $\\mu=0$ as this would make the task trivial. \n",
    "\n",
    "Instead it is paired with the $\\mu$ values uniformly sampled in the specified range [mu_min, mu_max].\n",
    "\n",
    "For every value of $\\mu$ in mu_values, the network sees one event drawn from $(\\mathcal{N}(0,1),\\mathcal{N}(0,\\nu_{0}))$ and $(\\mathcal{N}(\\mu,1),\\mathcal{N}(0,\\nu_{\\mu}))$, and it learns to classify them. \n",
    "\n",
    "i.e. we have one network that's parametrized by $\\mu$ that classifies between events from $(\\mathcal{N}(0,1),\\mathcal{N}(0,\\nu_{0}))$ and $(\\mathcal{N}(\\mu,1),\\mathcal{N}(0,\\nu_{\\mu}))$, and a trained network will give us the likelihood ratio to reweight from one to another. "
   ]
  },
  {
   "cell_type": "markdown",
   "metadata": {},
   "source": [
    "## Build and Train DCTR model"
   ]
  },
  {
   "cell_type": "code",
   "execution_count": 5,
   "metadata": {
    "ExecuteTime": {
     "end_time": "2020-08-17T05:56:20.157076Z",
     "start_time": "2020-08-17T05:56:20.145885Z"
    }
   },
   "outputs": [],
   "source": [
    "def nu(theta, omega_0=0.7, omega_1=0.2):\n",
    "    return (omega_0 + omega_1 * theta)**2"
   ]
  },
  {
   "cell_type": "code",
   "execution_count": 6,
   "metadata": {
    "ExecuteTime": {
     "end_time": "2020-08-17T05:56:20.184350Z",
     "start_time": "2020-08-17T05:56:20.160965Z"
    }
   },
   "outputs": [],
   "source": [
    "# Either load or train DCTR\n",
    "\n",
    "\n",
    "# TDDE = Theta Dependent Detector Effects\n",
    "def get_dctr(load=False, n_data_points=10**6, mu_min=-2, mu_max=2, TDDE=True):\n",
    "    if load:\n",
    "        json_file = open('1d_gaussian_dctr_model.json', 'r')\n",
    "        loaded_model_json = json_file.read()\n",
    "        json_file.close()\n",
    "        dctr_model = keras.models.model_from_json(loaded_model_json)\n",
    "        # load weights into new model\n",
    "        dctr_model.load_weights(\"1d_gaussian_dctr_model.h5\")\n",
    "        print(\"Loaded model from disk\")\n",
    "    else:\n",
    "\n",
    "        # Generate training & validation data\n",
    "        mu_values = np.random.uniform(mu_min, mu_max, n_data_points)\n",
    "        if TDDE == True:\n",
    "            X0 = [(np.random.normal(0, 1), np.random.normal(0, nu(0)), mu)\n",
    "                  for mu in mu_values]  # Note the zero in normal(0, 1)\n",
    "\n",
    "            X1 = [(np.random.normal(mu, 1), np.random.normal(0, nu(mu)), mu)\n",
    "                  for mu in mu_values]\n",
    "        else:\n",
    "            X0 = [(np.random.normal(0, 1), mu)\n",
    "                  for mu in mu_values]  # Note the zero in normal(0, 1)\n",
    "\n",
    "            X1 = [(np.random.normal(mu, 1), mu) for mu in mu_values]\n",
    "\n",
    "        Y0 = to_categorical(np.zeros(n_data_points), num_classes=2)\n",
    "        Y1 = to_categorical(np.ones(n_data_points), num_classes=2)\n",
    "\n",
    "        X = np.concatenate((X0, X1))\n",
    "        Y = np.concatenate((Y0, Y1))\n",
    "\n",
    "        X_train, X_test, Y_train, Y_test = train_test_split(X,\n",
    "                                                            Y,\n",
    "                                                            test_size=0.5)\n",
    "\n",
    "        # Build Model\n",
    "        if TDDE == True:\n",
    "            inputs = Input((3, ))\n",
    "        else:\n",
    "            inputs = Input((2, ))\n",
    "        hidden_layer_1 = Dense(50, activation='relu')(inputs)\n",
    "        hidden_layer_2 = Dense(50, activation='relu')(hidden_layer_1)\n",
    "        hidden_layer_3 = Dense(50, activation='relu')(hidden_layer_2)\n",
    "        outputs = Dense(2, activation='softmax')(hidden_layer_3)\n",
    "\n",
    "        dctr_model = Model(inputs=inputs, outputs=outputs)\n",
    "        dctr_model.compile(loss='categorical_crossentropy',\n",
    "                           optimizer='Adam',\n",
    "                           metrics=['accuracy'])\n",
    "\n",
    "        # Train Model\n",
    "        earlystopping = EarlyStopping(patience=10, restore_best_weights=True)\n",
    "        dctr_model.fit(X_train,\n",
    "                       Y_train,\n",
    "                       epochs=200,\n",
    "                       batch_size=10000,\n",
    "                       validation_data=(X_test, Y_test),\n",
    "                       callbacks=[earlystopping],\n",
    "                       verbose=0)\n",
    "        print(\"Trained Original DCTR Model\")\n",
    "\n",
    "    return dctr_model"
   ]
  },
  {
   "cell_type": "markdown",
   "metadata": {},
   "source": [
    "### Getting Model"
   ]
  },
  {
   "cell_type": "code",
   "execution_count": 7,
   "metadata": {
    "ExecuteTime": {
     "end_time": "2020-08-17T06:21:28.102346Z",
     "start_time": "2020-08-17T05:56:20.187396Z"
    }
   },
   "outputs": [
    {
     "name": "stdout",
     "output_type": "stream",
     "text": [
      "WARNING:tensorflow:From /home/asuresh/.local/lib/python3.5/site-packages/keras/backend/tensorflow_backend.py:74: The name tf.get_default_graph is deprecated. Please use tf.compat.v1.get_default_graph instead.\n",
      "\n",
      "WARNING:tensorflow:From /home/asuresh/.local/lib/python3.5/site-packages/keras/backend/tensorflow_backend.py:517: The name tf.placeholder is deprecated. Please use tf.compat.v1.placeholder instead.\n",
      "\n",
      "WARNING:tensorflow:From /home/asuresh/.local/lib/python3.5/site-packages/keras/backend/tensorflow_backend.py:4138: The name tf.random_uniform is deprecated. Please use tf.random.uniform instead.\n",
      "\n",
      "WARNING:tensorflow:From /home/asuresh/.local/lib/python3.5/site-packages/keras/optimizers.py:790: The name tf.train.Optimizer is deprecated. Please use tf.compat.v1.train.Optimizer instead.\n",
      "\n",
      "WARNING:tensorflow:From /home/asuresh/.local/lib/python3.5/site-packages/keras/backend/tensorflow_backend.py:3295: The name tf.log is deprecated. Please use tf.math.log instead.\n",
      "\n",
      "WARNING:tensorflow:From /home/asuresh/.local/lib/python3.5/site-packages/tensorflow_core/python/ops/math_grad.py:1424: where (from tensorflow.python.ops.array_ops) is deprecated and will be removed in a future version.\n",
      "Instructions for updating:\n",
      "Use tf.where in 2.0, which has the same broadcast rule as np.where\n",
      "WARNING:tensorflow:From /home/asuresh/.local/lib/python3.5/site-packages/keras/backend/tensorflow_backend.py:986: The name tf.assign_add is deprecated. Please use tf.compat.v1.assign_add instead.\n",
      "\n",
      "WARNING:tensorflow:From /home/asuresh/.local/lib/python3.5/site-packages/keras/backend/tensorflow_backend.py:973: The name tf.assign is deprecated. Please use tf.compat.v1.assign instead.\n",
      "\n",
      "WARNING:tensorflow:From /home/asuresh/.local/lib/python3.5/site-packages/keras/backend/tensorflow_backend.py:2741: The name tf.Session is deprecated. Please use tf.compat.v1.Session instead.\n",
      "\n",
      "WARNING:tensorflow:From /home/asuresh/.local/lib/python3.5/site-packages/keras/backend/tensorflow_backend.py:174: The name tf.get_default_session is deprecated. Please use tf.compat.v1.get_default_session instead.\n",
      "\n",
      "WARNING:tensorflow:From /home/asuresh/.local/lib/python3.5/site-packages/keras/backend/tensorflow_backend.py:181: The name tf.ConfigProto is deprecated. Please use tf.compat.v1.ConfigProto instead.\n",
      "\n",
      "WARNING:tensorflow:From /home/asuresh/.local/lib/python3.5/site-packages/keras/backend/tensorflow_backend.py:190: The name tf.global_variables is deprecated. Please use tf.compat.v1.global_variables instead.\n",
      "\n",
      "WARNING:tensorflow:From /home/asuresh/.local/lib/python3.5/site-packages/keras/backend/tensorflow_backend.py:199: The name tf.is_variable_initialized is deprecated. Please use tf.compat.v1.is_variable_initialized instead.\n",
      "\n",
      "WARNING:tensorflow:From /home/asuresh/.local/lib/python3.5/site-packages/keras/backend/tensorflow_backend.py:206: The name tf.variables_initializer is deprecated. Please use tf.compat.v1.variables_initializer instead.\n",
      "\n",
      "Trained Original DCTR Model\n",
      "Trained Original DCTR Model\n"
     ]
    }
   ],
   "source": [
    "mu_min = -2\n",
    "mu_max = 2\n",
    "\n",
    "dctr_model = get_dctr(n_data_points=10**7, mu_min=mu_min, mu_max=mu_max)\n",
    "dctr_original_model = get_dctr(n_data_points=10**7,\n",
    "                               mu_min=mu_min,\n",
    "                               mu_max=mu_max,\n",
    "                               TDDE=False)"
   ]
  },
  {
   "cell_type": "markdown",
   "metadata": {},
   "source": [
    "### Defining reweighting functions\n",
    "\n",
    "$w(x_{T,i},\\theta)=((f(x_{T,i},\\theta)/(1-f(x_{T,i},\\theta)))$\n",
    "\n",
    "Takes observable from simulation ${\\bf \\theta_0}$ and weights it to observable from data (target) ${\\bf \\theta_1}$."
   ]
  },
  {
   "cell_type": "code",
   "execution_count": 8,
   "metadata": {
    "ExecuteTime": {
     "end_time": "2020-08-17T06:21:28.110506Z",
     "start_time": "2020-08-17T06:21:28.104518Z"
    }
   },
   "outputs": [],
   "source": [
    "# from NN (DCTR)\n",
    "def reweight(events, param):\n",
    "    # creating tensor with same length as inputs, with theta_prime in every entry\n",
    "    concat_input_and_params = K.ones(shape=(events.shape[0], 1)) * param\n",
    "    # combining and reshaping into correct format:\n",
    "    model_inputs = K.concatenate((events, concat_input_and_params), axis=-1)\n",
    "    f = dctr_model(model_inputs)\n",
    "    weights = (f[:, 1]) / (f[:, 0])\n",
    "    weights = K.expand_dims(weights, axis=1)\n",
    "    return weights"
   ]
  },
  {
   "cell_type": "code",
   "execution_count": 9,
   "metadata": {
    "ExecuteTime": {
     "end_time": "2020-08-17T06:21:28.120580Z",
     "start_time": "2020-08-17T06:21:28.113101Z"
    }
   },
   "outputs": [],
   "source": [
    "# from NN (DCTR)\n",
    "def reweight_original(events, param):\n",
    "    # creating tensor with same length as inputs, with theta_prime in every entry\n",
    "    concat_input_and_params = K.ones(shape=(events.shape[0], 1)) * param\n",
    "    # combining and reshaping into correct format:\n",
    "    model_inputs = K.concatenate((events, concat_input_and_params), axis=-1)\n",
    "    f = dctr_original_model(model_inputs)\n",
    "    weights = (f[:, 1]) / (f[:, 0])\n",
    "    weights = K.expand_dims(weights, axis=1)\n",
    "    return weights"
   ]
  },
  {
   "cell_type": "markdown",
   "metadata": {},
   "source": [
    "## Validate DCTR for any $\\mu$"
   ]
  },
  {
   "cell_type": "markdown",
   "metadata": {},
   "source": [
    "### Validate for Truth Level"
   ]
  },
  {
   "cell_type": "code",
   "execution_count": 10,
   "metadata": {
    "ExecuteTime": {
     "end_time": "2020-08-17T06:21:28.382307Z",
     "start_time": "2020-08-17T06:21:28.123486Z"
    }
   },
   "outputs": [],
   "source": [
    "mu1 = 1.5\n",
    "assert mu1 >= mu_min and mu1 <= mu_max  # choose mu1 in valid range\n",
    "X0_val_T_0 = np.random.normal(0, 1, 10**6)\n",
    "X0_val_T_1 = np.random.normal(0, nu(0), 10**6)\n",
    "X0_val_T = np.stack((X0_val_T_0, X0_val_T_1), axis=-1)\n",
    "\n",
    "X1_val_T_0 = np.random.normal(mu1, 1, 10**6)\n",
    "X1_val_T_1 = np.random.normal(0, nu(mu1), 10**6)\n",
    "X1_val_T = np.stack((X1_val_T_0, X1_val_T_1), axis=-1)"
   ]
  },
  {
   "cell_type": "code",
   "execution_count": 11,
   "metadata": {
    "ExecuteTime": {
     "end_time": "2020-08-17T06:21:28.772155Z",
     "start_time": "2020-08-17T06:21:28.385631Z"
    }
   },
   "outputs": [],
   "source": [
    "weights_val = reweight(tf.convert_to_tensor(X0_val_T, dtype=tf.float32), mu1)\n",
    "weights_val = K.eval(weights_val)"
   ]
  },
  {
   "cell_type": "code",
   "execution_count": 12,
   "metadata": {
    "ExecuteTime": {
     "end_time": "2020-08-17T06:21:30.346882Z",
     "start_time": "2020-08-17T06:21:28.774107Z"
    }
   },
   "outputs": [
    {
     "data": {
      "image/png": "[encoded data removed]",
      "text/plain": [
       "<Figure size 432x288 with 1 Axes>"
      ]
     },
     "metadata": {
      "needs_background": "light"
     },
     "output_type": "display_data"
    }
   ],
   "source": [
    "bins = np.linspace(-6, 6, 31)\n",
    "plt.hist(X0_val_T[:, 0], bins=bins, alpha=0.5, label=r'$\\mu=0$')\n",
    "plt.hist(X0_val_T[:, 0],\n",
    "         bins=bins,\n",
    "         label=r'$\\mu=0$ DCTR wgt.',\n",
    "         weights=weights_val,\n",
    "         histtype='step',\n",
    "         color='k')\n",
    "plt.hist(X1_val_T[:, 0], bins=bins, alpha=0.5, label=r'$\\mu={}$'.format(mu1))\n",
    "plt.legend(prop=fontP)\n",
    "plt.title(\"Truth Level: Reweighting on Primary Observable\")\n",
    "#plt.savefig(\"GaussianAltFit-1D-ThetaDependentDetectorEffects-Truth-Level:Reweighting-on-Primary-Observable.png\")\n",
    "plt.show()"
   ]
  },
  {
   "cell_type": "code",
   "execution_count": 13,
   "metadata": {
    "ExecuteTime": {
     "end_time": "2020-08-17T06:21:31.261053Z",
     "start_time": "2020-08-17T06:21:30.349042Z"
    }
   },
   "outputs": [
    {
     "data": {
      "image/png": "[encoded data removed]",
      "text/plain": [
       "<Figure size 432x288 with 1 Axes>"
      ]
     },
     "metadata": {
      "needs_background": "light"
     },
     "output_type": "display_data"
    }
   ],
   "source": [
    "bins = np.linspace(-6, 6, 31)\n",
    "plt.hist(X0_val_T[:, 1], bins=bins, alpha=0.5, label=r'$\\mu=0$')\n",
    "plt.hist(X0_val_T[:, 1],\n",
    "         bins=bins,\n",
    "         label=r'$\\mu=0$ DCTR wgt.',\n",
    "         weights=weights_val,\n",
    "         histtype='step',\n",
    "         color='k')\n",
    "plt.hist(X1_val_T[:, 1], bins=bins, alpha=0.5, label=r'$\\mu={}$'.format(mu1))\n",
    "plt.legend(prop=fontP)\n",
    "plt.title(\"Truth Level: Reweighting on Secondary Observable\")\n",
    "#plt.savefig(\"GaussianAltFit-1D-ThetaDependentDetectorEffects-Truth-Level:Reweighting-on-Secondary-Observable.png\")\n",
    "plt.show()"
   ]
  },
  {
   "cell_type": "markdown",
   "metadata": {},
   "source": [
    "### Validate for Detector Level"
   ]
  },
  {
   "cell_type": "markdown",
   "metadata": {},
   "source": [
    "To apply detector effects, each event's primary truth observable $x_{T,i,0}$in the sample is smeared by shifting by $Z_{i}$ from $Z = \\mathcal{N}(0,(x_{T,i,1})^2)$ ,where quadruple the square of the secondary truth observable $x_{T,i,1}$ represents the smearing. Thus: $x_{D,i} = x_{T,i,0} + Z_{i}$"
   ]
  },
  {
   "cell_type": "code",
   "execution_count": 14,
   "metadata": {
    "ExecuteTime": {
     "end_time": "2020-08-17T06:21:44.885523Z",
     "start_time": "2020-08-17T06:21:31.265448Z"
    }
   },
   "outputs": [],
   "source": [
    "# Generate detector level by smearing truth\n",
    "\n",
    "X0_val_D = np.array([(x[0] + np.random.normal(0, 4*x[1]**2))\n",
    "                     for x in X0_val_T])  # Detector smearing\n",
    "X1_val_D = np.array([(x[0] + np.random.normal(0, 4*x[1]**2))\n",
    "                     for x in X1_val_T])  # Detector smearing"
   ]
  },
  {
   "cell_type": "code",
   "execution_count": 15,
   "metadata": {
    "ExecuteTime": {
     "end_time": "2020-08-17T06:21:46.865261Z",
     "start_time": "2020-08-17T06:21:44.889006Z"
    }
   },
   "outputs": [
    {
     "data": {
      "image/png": "[encoded data removed]",
      "text/plain": [
       "<Figure size 432x288 with 2 Axes>"
      ]
     },
     "metadata": {
      "needs_background": "light"
     },
     "output_type": "display_data"
    }
   ],
   "source": [
    "bins = np.linspace(-10, 10, 31)\n",
    "\n",
    "fig, axs = plt.subplots(1, 2, sharey=True, constrained_layout=True)\n",
    "fig.suptitle('Detector Smearing')\n",
    "axs[0].set_title('$\\mu=0$')\n",
    "axs[0].hist(X0_val_T[:, 0], bins=bins, alpha=0.5, label='Truth')\n",
    "axs[0].hist(X0_val_D, bins=bins, alpha=0.5, label='Detector')\n",
    "axs[0].legend(prop=fontP, loc='upper left')\n",
    "axs[1].set_title('$\\mu={}$'.format(mu1))\n",
    "axs[1].hist(X1_val_T[:, 0], bins=bins, alpha=0.5, label='Truth')\n",
    "axs[1].hist(X1_val_D, bins=bins, alpha=0.5, label='Detector')\n",
    "axs[1].legend(prop=fontP, loc='upper left')\n",
    "fig.show()"
   ]
  },
  {
   "cell_type": "code",
   "execution_count": 16,
   "metadata": {
    "ExecuteTime": {
     "end_time": "2020-08-17T06:21:47.607765Z",
     "start_time": "2020-08-17T06:21:46.867701Z"
    }
   },
   "outputs": [
    {
     "data": {
      "image/png": "[encoded data removed]",
      "text/plain": [
       "<Figure size 432x288 with 1 Axes>"
      ]
     },
     "metadata": {
      "needs_background": "light"
     },
     "output_type": "display_data"
    }
   ],
   "source": [
    "bins = np.linspace(-10, 10, 31)\n",
    "\n",
    "plt.hist(X0_val_D, bins=bins, alpha=0.5, label=r'$\\mu=0$')\n",
    "plt.hist(X0_val_D,\n",
    "         bins=bins,\n",
    "         label=r'$\\mu=0$ DCTR wgt.',\n",
    "         weights=weights_val,\n",
    "         histtype='step',\n",
    "         color='k')\n",
    "plt.hist(X1_val_D, bins=bins, alpha=0.5, label=r'$\\mu={}$'.format(mu1))\n",
    "plt.legend(prop=fontP)\n",
    "plt.title(\"Detector Level: Reweighting\")\n",
    "#plt.savefig(\"GaussianAltFit-1D-ThetaDependentDetectorEffects-Detector-Level:Reweighting.png\")\n",
    "plt.show()"
   ]
  },
  {
   "cell_type": "markdown",
   "metadata": {},
   "source": [
    "# Alternative Fit"
   ]
  },
  {
   "cell_type": "markdown",
   "metadata": {},
   "source": [
    "## Setup the dataset\n",
    "\n",
    "We'll show the new setup with a simple Gaussian example.  Let's start by setting up the dataset."
   ]
  },
  {
   "cell_type": "markdown",
   "metadata": {},
   "source": [
    "To apply detector effects, each event's primary truth observable $x_{T,i,0}$in the sample is smeared by shifting by $Z_{i}$ from $Z = \\mathcal{N}(0,(x_{T,i,1})^2)$ ,where the square of the secondary truth observable $x_{T,i,1}$ represents the smearing. Thus: $x_{D,i} = x_{T,i,0} + Z_{i}$"
   ]
  },
  {
   "cell_type": "code",
   "execution_count": 17,
   "metadata": {
    "ExecuteTime": {
     "end_time": "2020-08-17T06:22:01.011703Z",
     "start_time": "2020-08-17T06:21:47.613458Z"
    }
   },
   "outputs": [],
   "source": [
    "N = 10**6\n",
    "theta0_param = 0  # this is the simulation ... N.B. this notation is reversed from above!\n",
    "theta1_param = 1  # this is the data (the target)\n",
    "sigma = 1.  # standard Gaussian width\n",
    "# epsilon = sigma / 2  # Smearing width\n",
    "\n",
    "theta0_T_0 = np.random.normal(theta0_param, sigma, N)  # Truth Level Data\n",
    "theta0_T_1 = np.random.normal(0, nu(theta0_param), N)\n",
    "theta0_T = np.stack((theta0_T_0, theta0_T_1), axis=-1)\n",
    "\n",
    "theta0_D = np.array([(x[0] + np.random.normal(0, 4*x[1]**2))\n",
    "                     for x in theta0_T])  # Detector smearing\n",
    "\n",
    "theta0 = np.hstack([theta0_T, np.expand_dims(theta0_D, axis=-1)])\n",
    "\n",
    "theta1_T = np.random.normal(theta1_param, sigma, N)\n",
    "theta1_T_ep = np.random.normal(0, nu(theta1_param), N)\n",
    "theta1_T = np.stack((theta1_T, theta1_T_ep), axis=-1)\n",
    "\n",
    "theta1_D = np.array([(x[0] + np.random.normal(0, 4*x[1]**2))\n",
    "                     for x in theta1_T])  # Detector smearing\n",
    "\n",
    "theta1 = np.hstack([theta1_T, np.expand_dims(theta1_D, axis=-1)])"
   ]
  },
  {
   "cell_type": "code",
   "execution_count": 18,
   "metadata": {
    "ExecuteTime": {
     "end_time": "2020-08-17T06:22:02.598619Z",
     "start_time": "2020-08-17T06:22:01.015247Z"
    },
    "scrolled": false
   },
   "outputs": [
    {
     "data": {
      "image/png": "[encoded data removed]",
      "text/plain": [
       "<Figure size 432x288 with 2 Axes>"
      ]
     },
     "metadata": {
      "needs_background": "light"
     },
     "output_type": "display_data"
    }
   ],
   "source": [
    "bins = np.linspace(-10, 10, 31)\n",
    "\n",
    "fig, axs = plt.subplots(1, 2, sharey=True, constrained_layout=True)\n",
    "fig.suptitle('Fitting Data with Detector Effects')\n",
    "\n",
    "axs[0].set_title(\"Simulation\\n($\\mu$ = {:.2f})\".format(theta0_param))\n",
    "axs[0].hist(theta0_T[:, 0], bins=bins, alpha=0.5, label='Truth')\n",
    "axs[0].hist(theta0_D, bins=bins, alpha=0.5, label='Detector')\n",
    "axs[0].legend(prop=fontP, loc='upper left')\n",
    "\n",
    "axs[1].set_title(\"Data\\n($\\mu$ = {:.2f})\".format(theta1_param))\n",
    "axs[1].hist(theta1_T[:, 0], bins=bins, alpha=0.5, label='Truth')\n",
    "axs[1].hist(theta1_D, bins=bins, alpha=0.5, label='Detector')\n",
    "axs[1].legend(prop=fontP, loc='upper left')\n",
    "\n",
    "# fig.savefig(\"GaussianAltFit-1D-ThetaDependentDetectorEffects-Fitting-Data-with-Detector-Effects.png\")\n",
    "plt.show()"
   ]
  },
  {
   "cell_type": "markdown",
   "metadata": {},
   "source": [
    "Notice how detector smearing is more intense for \"Data\"."
   ]
  },
  {
   "cell_type": "code",
   "execution_count": 19,
   "metadata": {
    "ExecuteTime": {
     "end_time": "2020-08-17T06:22:03.354107Z",
     "start_time": "2020-08-17T06:22:02.601204Z"
    }
   },
   "outputs": [],
   "source": [
    "labels0 = np.zeros(len(theta0))\n",
    "labels1 = np.ones(len(theta1))\n",
    "\n",
    "xvals = np.concatenate([theta0, theta1])\n",
    "yvals = np.concatenate([labels0, labels1])\n",
    "\n",
    "X_train, X_test, y_train, y_test = train_test_split(xvals,\n",
    "                                                    yvals,\n",
    "                                                    test_size=0.5)\n",
    "X_train_theta, y_train_theta = shuffle(xvals, yvals)\n",
    "\n",
    "X_train_T, y_train_T = np.copy(X_train[:, :2]), y_train\n",
    "X_test_T, y_test_T = np.copy(X_test[:, :2]), y_test\n",
    "X_train_theta_T, y_train_theta_T = np.copy(X_train_theta[:, :2]), y_train_theta\n",
    "\n",
    "#' Erasing' Truth level for data, we can't actually observe this\n",
    "X_train[:, :2][y_train == 1], X_test[:, :2][y_test == 1] = 0., 0.\n",
    "X_train_theta[:, :2][y_train_theta == 1] = 0.\n",
    "\n",
    "# 'hiding' truth level for simulation in expected model output (used in reweighting)\n",
    "X_train_D, y_train_D = X_train[:, 2], np.hstack(\n",
    "    [np.expand_dims(y_train, axis=-1), X_train[:, :2]])\n",
    "X_test_D, y_test_D = X_test[:, 2], np.hstack(\n",
    "    [np.expand_dims(y_test, axis=-1), X_test[:, :2]])\n",
    "\n",
    "X_train_theta_D, y_train_theta_D = X_train_theta[:, 1], np.hstack(\n",
    "    [np.expand_dims(y_train_theta, axis=-1), X_train_theta[:, :2]])"
   ]
  },
  {
   "cell_type": "markdown",
   "metadata": {},
   "source": [
    "## Fitting Model: Scan\n",
    "\n",
    "We'll start by showing that for fixed $\\theta$, the maximum loss occurs when $\\theta=\\theta_1$."
   ]
  },
  {
   "cell_type": "markdown",
   "metadata": {},
   "source": [
    "### Creating Model"
   ]
  },
  {
   "cell_type": "code",
   "execution_count": 20,
   "metadata": {
    "ExecuteTime": {
     "end_time": "2020-08-17T06:22:03.419781Z",
     "start_time": "2020-08-17T06:22:03.356729Z"
    }
   },
   "outputs": [
    {
     "name": "stdout",
     "output_type": "stream",
     "text": [
      "_________________________________________________________________\n",
      "Layer (type)                 Output Shape              Param #   \n",
      "=================================================================\n",
      "input_3 (InputLayer)         (None, 2)                 0         \n",
      "_________________________________________________________________\n",
      "dense_9 (Dense)              (None, 128)               384       \n",
      "_________________________________________________________________\n",
      "dense_10 (Dense)             (None, 128)               16512     \n",
      "_________________________________________________________________\n",
      "dense_11 (Dense)             (None, 1)                 129       \n",
      "=================================================================\n",
      "Total params: 17,025\n",
      "Trainable params: 17,025\n",
      "Non-trainable params: 0\n",
      "_________________________________________________________________\n"
     ]
    }
   ],
   "source": [
    "myinputs = Input(shape=(2, ), dtype=tf.float32)\n",
    "x = Dense(128, activation='relu')(myinputs)\n",
    "x2 = Dense(128, activation='relu')(x)\n",
    "predictions = Dense(1, activation='sigmoid')(x2)\n",
    "\n",
    "model_T = Model(inputs=myinputs, outputs=predictions)\n",
    "model_T.summary()\n",
    "batch_size = 1000\n",
    "\n",
    "earlystopping = EarlyStopping(patience=5, restore_best_weights=True)\n",
    "\n",
    "thetas = np.linspace(-2, 2, 17)"
   ]
  },
  {
   "cell_type": "markdown",
   "metadata": {},
   "source": [
    "### Truth Level Scan"
   ]
  },
  {
   "cell_type": "code",
   "execution_count": 21,
   "metadata": {
    "ExecuteTime": {
     "end_time": "2020-08-17T06:22:03.433961Z",
     "start_time": "2020-08-17T06:22:03.422204Z"
    }
   },
   "outputs": [],
   "source": [
    "def my_loss_wrapper_T(inputs,\n",
    "                      val=0.,\n",
    "                      reweight_type='DCTR',\n",
    "                      loss='MSE',\n",
    "                      batch_size=1000):\n",
    "    x = inputs\n",
    "    x = K.gather(x, np.arange(batch_size))\n",
    "\n",
    "    theta_prime = val\n",
    "\n",
    "    if reweight_type == 'DCTR':\n",
    "        # NN (DCTR) reweight\n",
    "        weights = reweight(x, theta_prime)\n",
    "    elif reweight_type == 'analytical':\n",
    "        # analytical reweight\n",
    "        weights = analytical_reweight(x, theta_prime)\n",
    "    else:\n",
    "        raise ValueError(\"reweight_type must be set to 'DCTR' or 'analytical'\")\n",
    "\n",
    "    def my_loss(y_true, y_pred):\n",
    "        if loss == 'MSE':\n",
    "            # Mean Squared Loss\n",
    "            t_loss = y_true * (y_true - y_pred)**2 + weights * (\n",
    "                1. - y_true) * (y_true - y_pred)**2\n",
    "        elif loss == 'categorical_crossentropy':\n",
    "            # Categorical Cross-Entropy Loss\n",
    "\n",
    "            # Clip the prediction value to prevent NaN's and Inf's\n",
    "            epsilon = K.epsilon()\n",
    "            y_pred = K.clip(y_pred, epsilon, 1. - epsilon)\n",
    "\n",
    "            t_loss = -((y_true) * K.log(y_pred) + weights *\n",
    "                       (1 - y_true) * K.log(1 - y_pred))\n",
    "        else:\n",
    "            raise ValueError(\n",
    "                \"loss must be set to 'MSE' or 'categorical_crossentropy'\")\n",
    "\n",
    "        return K.mean(t_loss)\n",
    "\n",
    "    return my_loss"
   ]
  },
  {
   "cell_type": "code",
   "execution_count": 22,
   "metadata": {
    "ExecuteTime": {
     "end_time": "2020-08-17T06:38:46.293577Z",
     "start_time": "2020-08-17T06:22:03.436057Z"
    },
    "scrolled": true
   },
   "outputs": [
    {
     "name": "stdout",
     "output_type": "stream",
     "text": [
      "Testing theta =  -2.0\n",
      "loss:  0.07130169769376517\n",
      "val_loss:  0.07141943330317736\n",
      "\n",
      "\n",
      "Testing theta =  -1.75\n",
      "loss:  0.10450102166831493\n",
      "val_loss:  0.1047659750059247\n",
      "\n",
      "\n",
      "Testing theta =  -1.5\n",
      "loss:  0.14505774246156217\n",
      "val_loss:  0.14546781063824893\n",
      "\n",
      "\n",
      "Testing theta =  -1.25\n",
      "loss:  0.19601992517709732\n",
      "val_loss:  0.19655399359762668\n",
      "\n",
      "\n",
      "Testing theta =  -1.0\n",
      "loss:  0.2564370208084583\n",
      "val_loss:  0.25705196483433246\n",
      "\n",
      "\n",
      "Testing theta =  -0.75\n",
      "loss:  0.32396954503655434\n",
      "val_loss:  0.3247634705603123\n",
      "\n",
      "\n",
      "Testing theta =  -0.5\n",
      "loss:  0.39753552550077437\n",
      "val_loss:  0.398731172978878\n",
      "\n",
      "\n",
      "Testing theta =  -0.25\n",
      "loss:  0.4724407434463501\n",
      "val_loss:  0.47405786445736886\n",
      "\n",
      "\n",
      "Testing theta =  0.0\n",
      "loss:  0.5417643210887909\n",
      "val_loss:  0.5438318111598491\n",
      "\n",
      "\n",
      "Testing theta =  0.25\n",
      "loss:  0.6018078269958496\n",
      "val_loss:  0.6044576682448387\n",
      "\n",
      "\n",
      "Testing theta =  0.5\n",
      "loss:  0.6503116513490677\n",
      "val_loss:  0.6534746981263161\n",
      "\n",
      "\n",
      "Testing theta =  0.75\n",
      "loss:  0.6794667053818703\n",
      "val_loss:  0.683666444003582\n",
      "\n",
      "\n",
      "Testing theta =  1.0\n",
      "loss:  0.6877885255813598\n",
      "val_loss:  0.6925627918243408\n",
      "\n",
      "\n",
      "Testing theta =  1.25\n",
      "loss:  0.6735337170958519\n",
      "val_loss:  0.6796304992437363\n",
      "\n",
      "\n",
      "Testing theta =  1.5\n",
      "loss:  0.6437737673521042\n",
      "val_loss:  0.6478701134324074\n",
      "\n",
      "\n",
      "Testing theta =  1.75\n",
      "loss:  0.5957284003794193\n",
      "val_loss:  0.6024305876493454\n",
      "\n",
      "\n",
      "Testing theta =  2.0\n",
      "loss:  0.5379900746941566\n",
      "val_loss:  0.5649256301224231\n",
      "\n",
      "\n",
      "[0.07130169769376517, 0.10450102166831493, 0.14505774246156217, 0.19601992517709732, 0.2564370208084583, 0.32396954503655434, 0.39753552550077437, 0.4724407434463501, 0.5417643210887909, 0.6018078269958496, 0.6503116513490677, 0.6794667053818703, 0.6877885255813598, 0.6735337170958519, 0.6437737673521042, 0.5957284003794193, 0.5379900746941566]\n"
     ]
    }
   ],
   "source": [
    "lvals_T = []\n",
    "vlvals_T = []\n",
    "\n",
    "for theta in thetas:\n",
    "    print(\"Testing theta = \", theta)\n",
    "    model_T.compile(optimizer='adam',\n",
    "                    loss=my_loss_wrapper_T(myinputs,\n",
    "                                           theta,\n",
    "                                           loss='categorical_crossentropy',\n",
    "                                           batch_size=batch_size),\n",
    "                    metrics=['accuracy'])\n",
    "\n",
    "    history = model_T.fit(np.array(X_train_T),\n",
    "                          y_train_T,\n",
    "                          epochs=100,\n",
    "                          batch_size=batch_size,\n",
    "                          validation_data=(np.array(X_test_T), y_test_T),\n",
    "                          verbose=0,\n",
    "                          callbacks=[earlystopping])\n",
    "\n",
    "    min_lval = history.history['loss'][np.argmin(history.history['val_loss'])]\n",
    "    min_vlval = np.min(history.history['val_loss'])\n",
    "\n",
    "    lvals_T += [min_lval]\n",
    "    vlvals_T += [min_vlval]\n",
    "\n",
    "    print(\"loss: \", min_lval)\n",
    "    print(\"val_loss: \", min_vlval)\n",
    "    print(\"\\n\")\n",
    "    pass\n",
    "print(lvals_T)"
   ]
  },
  {
   "cell_type": "code",
   "execution_count": 23,
   "metadata": {
    "ExecuteTime": {
     "end_time": "2020-08-17T06:38:46.619129Z",
     "start_time": "2020-08-17T06:38:46.297344Z"
    }
   },
   "outputs": [
    {
     "data": {
      "image/png": "[encoded data removed]",
      "text/plain": [
       "<Figure size 432x288 with 1 Axes>"
      ]
     },
     "metadata": {
      "needs_background": "light"
     },
     "output_type": "display_data"
    }
   ],
   "source": [
    "plt.title(\"Truth Level: Theta vs. Loss\")\n",
    "plt.plot(thetas, lvals_T, label='Loss')\n",
    "plt.plot(thetas, vlvals_T, label='Validation Loss')\n",
    "plt.xlabel(r'$\\theta$')\n",
    "plt.ylabel('Loss')\n",
    "plt.vlines(theta1_param,\n",
    "           ymin=np.min(lvals_T),\n",
    "           ymax=np.max(lvals_T),\n",
    "           label='Truth')\n",
    "plt.legend()\n",
    "# plt.savefig(\"GaussianAltFit-1D-ThetaDependentDetectorEffects-Truth-Level:-Theta-vs-Loss.png\")\n",
    "plt.show()"
   ]
  },
  {
   "cell_type": "code",
   "execution_count": 24,
   "metadata": {
    "ExecuteTime": {
     "end_time": "2020-08-17T06:38:46.638986Z",
     "start_time": "2020-08-17T06:38:46.621239Z"
    }
   },
   "outputs": [
    {
     "name": "stdout",
     "output_type": "stream",
     "text": [
      "Interpolated Maximum:  0.9999999905914558\n"
     ]
    }
   ],
   "source": [
    "f = sp.interpolate.interp1d(thetas, lvals_T, fill_value=\"extrapolate\")\n",
    "\n",
    "print(\"Interpolated Maximum: \",\n",
    "      sp.optimize.minimize(lambda x: -f(x), x0=0)['x'][0])"
   ]
  },
  {
   "cell_type": "markdown",
   "metadata": {},
   "source": [
    "### Detector Level Scan"
   ]
  },
  {
   "cell_type": "code",
   "execution_count": 25,
   "metadata": {
    "ExecuteTime": {
     "end_time": "2020-08-17T06:38:46.700179Z",
     "start_time": "2020-08-17T06:38:46.641467Z"
    }
   },
   "outputs": [
    {
     "name": "stdout",
     "output_type": "stream",
     "text": [
      "_________________________________________________________________\n",
      "Layer (type)                 Output Shape              Param #   \n",
      "=================================================================\n",
      "input_4 (InputLayer)         (None, 1)                 0         \n",
      "_________________________________________________________________\n",
      "dense_12 (Dense)             (None, 128)               256       \n",
      "_________________________________________________________________\n",
      "dense_13 (Dense)             (None, 128)               16512     \n",
      "_________________________________________________________________\n",
      "dense_14 (Dense)             (None, 1)                 129       \n",
      "=================================================================\n",
      "Total params: 16,897\n",
      "Trainable params: 16,897\n",
      "Non-trainable params: 0\n",
      "_________________________________________________________________\n"
     ]
    }
   ],
   "source": [
    "myinputs = Input(shape=(1, ), dtype=tf.float32)\n",
    "x = Dense(128, activation='relu')(myinputs)\n",
    "x2 = Dense(128, activation='relu')(x)\n",
    "predictions = Dense(1, activation='sigmoid')(x2)\n",
    "\n",
    "model_D = Model(inputs=myinputs, outputs=predictions)\n",
    "model_D.summary()"
   ]
  },
  {
   "cell_type": "code",
   "execution_count": 26,
   "metadata": {
    "ExecuteTime": {
     "end_time": "2020-08-17T06:38:46.717792Z",
     "start_time": "2020-08-17T06:38:46.703542Z"
    },
    "scrolled": true
   },
   "outputs": [],
   "source": [
    "def my_loss_wrapper_D(val=0,\n",
    "                      reweight_type='DCTR',\n",
    "                      loss='MSE',\n",
    "                      batch_size=1000):\n",
    "    def my_loss(y_true, y_pred):\n",
    "        y_true = tf.gather(y_true, np.arange(batch_size))\n",
    "        x_T = tf.gather(y_true, [1, 2],\n",
    "                        axis=1)  # sim event truth for reweighting\n",
    "        y_true = tf.gather(y_true, [0], axis=1)  # actual y_true for loss\n",
    "        theta_prime = val\n",
    "\n",
    "        if reweight_type == 'DCTR':\n",
    "            # NN (DCTR) reweight\n",
    "            weights = reweight(x_T, theta_prime)\n",
    "        elif reweight_type == 'analytical':\n",
    "            # analytical reweight\n",
    "            weights = analytical_reweight(x_T, theta_prime)\n",
    "        else:\n",
    "            raise ValueError(\n",
    "                \"reweight_type must be set to 'DCTR' or 'analytical'\")\n",
    "\n",
    "        if loss == 'MSE':\n",
    "            # Mean Squared Loss\n",
    "            t_loss = y_true * (y_true - y_pred)**2 + (weights) * (\n",
    "                1. - y_true) * (y_true - y_pred)**2\n",
    "        elif loss == 'categorical_crossentropy':\n",
    "            # Categorical Cross-Entropy Loss\n",
    "            # Clip the prediction value to prevent NaN's and Inf's\n",
    "            epsilon = K.epsilon()\n",
    "            y_pred = K.clip(y_pred, epsilon, 1. - epsilon)\n",
    "\n",
    "            t_loss = -((y_true) * K.log(y_pred) + weights *\n",
    "                       (1 - y_true) * K.log(1 - y_pred))\n",
    "        else:\n",
    "            raise ValueError(\n",
    "                \"loss must be set to 'MSE' or 'categorical_crossentropy'\")\n",
    "        return K.mean(t_loss)\n",
    "\n",
    "    return my_loss"
   ]
  },
  {
   "cell_type": "code",
   "execution_count": 27,
   "metadata": {
    "ExecuteTime": {
     "end_time": "2020-08-17T06:55:43.677843Z",
     "start_time": "2020-08-17T06:38:46.720887Z"
    },
    "scrolled": true
   },
   "outputs": [
    {
     "name": "stdout",
     "output_type": "stream",
     "text": [
      "Testing theta =  -2.0\n",
      "loss:  0.28331156519055367\n",
      "val_loss:  0.2761862533688545\n",
      "\n",
      "\n",
      "Testing theta =  -1.75\n",
      "loss:  0.3191619887650013\n",
      "val_loss:  0.3148217951208353\n",
      "\n",
      "\n",
      "Testing theta =  -1.5\n",
      "loss:  0.35170904016494753\n",
      "val_loss:  0.34813476449251174\n",
      "\n",
      "\n",
      "Testing theta =  -1.25\n",
      "loss:  0.38772274205088614\n",
      "val_loss:  0.38680183240771293\n",
      "\n",
      "\n",
      "Testing theta =  -1.0\n",
      "loss:  0.4331270133256912\n",
      "val_loss:  0.433508797287941\n",
      "\n",
      "\n",
      "Testing theta =  -0.75\n",
      "loss:  0.48229418939352037\n",
      "val_loss:  0.4829302733838558\n",
      "\n",
      "\n",
      "Testing theta =  -0.5\n",
      "loss:  0.5343468061983585\n",
      "val_loss:  0.5352814291417599\n",
      "\n",
      "\n",
      "Testing theta =  -0.25\n",
      "loss:  0.5836992823481559\n",
      "val_loss:  0.5848821612596512\n",
      "\n",
      "\n",
      "Testing theta =  0.0\n",
      "loss:  0.6234231458306313\n",
      "val_loss:  0.6248714998960495\n",
      "\n",
      "\n",
      "Testing theta =  0.25\n",
      "loss:  0.6538033449053764\n",
      "val_loss:  0.6556323974728584\n",
      "\n",
      "\n",
      "Testing theta =  0.5\n",
      "loss:  0.6766172515749931\n",
      "val_loss:  0.67872427713871\n",
      "\n",
      "\n",
      "Testing theta =  0.75\n",
      "loss:  0.6882750822901725\n",
      "val_loss:  0.6913428545594216\n",
      "\n",
      "\n",
      "Testing theta =  1.0\n",
      "loss:  0.6905095492601394\n",
      "val_loss:  0.6946811072230339\n",
      "\n",
      "\n",
      "Testing theta =  1.25\n",
      "loss:  0.6822391727566719\n",
      "val_loss:  0.6887463092803955\n",
      "\n",
      "\n",
      "Testing theta =  1.5\n",
      "loss:  0.663651886343956\n",
      "val_loss:  0.672021357357502\n",
      "\n",
      "\n",
      "Testing theta =  1.75\n",
      "loss:  0.6360314236283302\n",
      "val_loss:  0.6479547278881073\n",
      "\n",
      "\n",
      "Testing theta =  2.0\n",
      "loss:  0.6023540238440037\n",
      "val_loss:  0.6191350384652614\n",
      "\n",
      "\n",
      "[0.28331156519055367, 0.3191619887650013, 0.35170904016494753, 0.38772274205088614, 0.4331270133256912, 0.48229418939352037, 0.5343468061983585, 0.5836992823481559, 0.6234231458306313, 0.6538033449053764, 0.6766172515749931, 0.6882750822901725, 0.6905095492601394, 0.6822391727566719, 0.663651886343956, 0.6360314236283302, 0.6023540238440037]\n"
     ]
    }
   ],
   "source": [
    "lvals_D = []\n",
    "vlvals_D = []\n",
    "\n",
    "for theta in thetas:\n",
    "    print(\"Testing theta = \", theta)\n",
    "    model_D.compile(optimizer='adam',\n",
    "                    loss=my_loss_wrapper_D(theta,\n",
    "                                           loss='categorical_crossentropy',\n",
    "                                           batch_size=batch_size),\n",
    "                    metrics=['accuracy'])\n",
    "\n",
    "    history = model_D.fit(np.array(X_train_D),\n",
    "                          y_train_D,\n",
    "                          epochs=100,\n",
    "                          batch_size=batch_size,\n",
    "                          validation_data=(np.array(X_test_D), y_test_D),\n",
    "                          verbose=0,\n",
    "                          callbacks=[earlystopping])\n",
    "\n",
    "    min_lval = history.history['loss'][np.argmin(history.history['val_loss'])]\n",
    "    min_vlval = np.min(history.history['val_loss'])\n",
    "\n",
    "    lvals_D += [min_lval]\n",
    "    vlvals_D += [min_vlval]\n",
    "\n",
    "    print(\"loss: \", min_lval)\n",
    "    print(\"val_loss: \", min_vlval)\n",
    "    print(\"\\n\")\n",
    "    pass\n",
    "print(lvals_D)"
   ]
  },
  {
   "cell_type": "code",
   "execution_count": 28,
   "metadata": {
    "ExecuteTime": {
     "end_time": "2020-08-17T06:55:43.982728Z",
     "start_time": "2020-08-17T06:55:43.680667Z"
    }
   },
   "outputs": [
    {
     "data": {
      "image/png": "[encoded data removed]",
      "text/plain": [
       "<Figure size 432x288 with 1 Axes>"
      ]
     },
     "metadata": {
      "needs_background": "light"
     },
     "output_type": "display_data"
    }
   ],
   "source": [
    "plt.plot(thetas, lvals_D, label='Loss')\n",
    "plt.plot(thetas, vlvals_D, label='Validation Loss')\n",
    "plt.xlabel(r'$\\theta$')\n",
    "plt.ylabel('Loss')\n",
    "plt.vlines(theta1_param,\n",
    "           ymin=np.min(lvals_D),\n",
    "           ymax=np.max(lvals_D),\n",
    "           label='Truth')\n",
    "plt.title(\"Detector Level: Theta vs. Loss\")\n",
    "plt.legend()\n",
    "# plt.savefig(\"GaussianAltFit-1D-ThetaDependentDetectorEffects-Detector-Level:-Theta-vs-Loss.png\")\n",
    "plt.show()"
   ]
  },
  {
   "cell_type": "code",
   "execution_count": 29,
   "metadata": {
    "ExecuteTime": {
     "end_time": "2020-08-17T06:55:44.049128Z",
     "start_time": "2020-08-17T06:55:43.985254Z"
    }
   },
   "outputs": [
    {
     "name": "stdout",
     "output_type": "stream",
     "text": [
      "Interpolated Maximum:  0.9999999885086733\n"
     ]
    }
   ],
   "source": [
    "f = sp.interpolate.interp1d(thetas, lvals_D, fill_value=\"extrapolate\")\n",
    "\n",
    "print(\"Interpolated Maximum: \",\n",
    "      sp.optimize.minimize(lambda x: -f(x), x0=0)['x'][0])"
   ]
  },
  {
   "cell_type": "markdown",
   "metadata": {},
   "source": [
    "### Comparison Plot"
   ]
  },
  {
   "cell_type": "code",
   "execution_count": 30,
   "metadata": {
    "ExecuteTime": {
     "end_time": "2020-08-17T06:55:44.542920Z",
     "start_time": "2020-08-17T06:55:44.052617Z"
    }
   },
   "outputs": [
    {
     "data": {
      "image/png": "[encoded data removed]",
      "text/plain": [
       "<Figure size 432x288 with 1 Axes>"
      ]
     },
     "metadata": {
      "needs_background": "light"
     },
     "output_type": "display_data"
    }
   ],
   "source": [
    "plt.plot(thetas, vlvals_T, label='Truth Level')\n",
    "plt.plot(thetas, vlvals_D, label='Detector Level')\n",
    "plt.xlabel(r'$\\theta$')\n",
    "plt.ylabel('Loss')\n",
    "plt.vlines(theta1_param,\n",
    "           ymin=np.min(vlvals_T + vlvals_D),\n",
    "           ymax=np.max(vlvals_T + vlvals_D),\n",
    "           label='Truth')\n",
    "plt.title(\"Truth vs. Detector Loss Comparison\")\n",
    "plt.legend()\n",
    "# plt.savefig(\"GaussianAltFit-1D-ThetaDependentDetectorEffects-Truth-vs-Detector-Loss-Comparison.png\")\n",
    "plt.show()"
   ]
  },
  {
   "cell_type": "markdown",
   "metadata": {},
   "source": [
    "We've shown for fixed $\\theta$, the maximum loss occurs when $\\theta=\\theta_1$"
   ]
  },
  {
   "cell_type": "markdown",
   "metadata": {},
   "source": [
    "### Compare to Original DCTR\n",
    "See how incorrect the fit is if we ignore the secondary truth observable and use the original DCTR."
   ]
  },
  {
   "cell_type": "code",
   "execution_count": 31,
   "metadata": {
    "ExecuteTime": {
     "end_time": "2020-08-17T06:55:44.599930Z",
     "start_time": "2020-08-17T06:55:44.545010Z"
    }
   },
   "outputs": [
    {
     "name": "stdout",
     "output_type": "stream",
     "text": [
      "_________________________________________________________________\n",
      "Layer (type)                 Output Shape              Param #   \n",
      "=================================================================\n",
      "input_5 (InputLayer)         (None, 1)                 0         \n",
      "_________________________________________________________________\n",
      "dense_15 (Dense)             (None, 128)               256       \n",
      "_________________________________________________________________\n",
      "dense_16 (Dense)             (None, 128)               16512     \n",
      "_________________________________________________________________\n",
      "dense_17 (Dense)             (None, 1)                 129       \n",
      "=================================================================\n",
      "Total params: 16,897\n",
      "Trainable params: 16,897\n",
      "Non-trainable params: 0\n",
      "_________________________________________________________________\n"
     ]
    }
   ],
   "source": [
    "myinputs = Input(shape=(1, ), dtype=tf.float32)\n",
    "x = Dense(128, activation='relu')(myinputs)\n",
    "x2 = Dense(128, activation='relu')(x)\n",
    "predictions = Dense(1, activation='sigmoid')(x2)\n",
    "\n",
    "model_original = Model(inputs=myinputs, outputs=predictions)\n",
    "model_original.summary()\n",
    "batch_size = 1000\n",
    "\n",
    "earlystopping = EarlyStopping(patience=5, restore_best_weights=True)\n",
    "\n",
    "thetas = np.linspace(-2, 2, 17)"
   ]
  },
  {
   "cell_type": "markdown",
   "metadata": {},
   "source": [
    "#### Truth Level Scan"
   ]
  },
  {
   "cell_type": "code",
   "execution_count": 32,
   "metadata": {
    "ExecuteTime": {
     "end_time": "2020-08-17T06:55:44.611705Z",
     "start_time": "2020-08-17T06:55:44.602318Z"
    }
   },
   "outputs": [],
   "source": [
    "def my_loss_wrapper_T_original(inputs,\n",
    "                      val=0.,\n",
    "                      reweight_type='DCTR',\n",
    "                      loss='MSE',\n",
    "                      batch_size=1000):\n",
    "    x = inputs\n",
    "    x = K.gather(x, np.arange(batch_size))\n",
    "\n",
    "    theta_prime = val\n",
    "\n",
    "    if reweight_type == 'DCTR':\n",
    "        # NN (DCTR) reweight\n",
    "        weights = reweight_original(x, theta_prime)\n",
    "    elif reweight_type == 'analytical':\n",
    "        # analytical reweight\n",
    "        weights = analytical_reweight(x, theta_prime)\n",
    "    else:\n",
    "        raise ValueError(\"reweight_type must be set to 'DCTR' or 'analytical'\")\n",
    "\n",
    "    def my_loss(y_true, y_pred):\n",
    "        if loss == 'MSE':\n",
    "            # Mean Squared Loss\n",
    "            t_loss = y_true * (y_true - y_pred)**2 + weights * (\n",
    "                1. - y_true) * (y_true - y_pred)**2\n",
    "        elif loss == 'categorical_crossentropy':\n",
    "            # Categorical Cross-Entropy Loss\n",
    "\n",
    "            # Clip the prediction value to prevent NaN's and Inf's\n",
    "            epsilon = K.epsilon()\n",
    "            y_pred = K.clip(y_pred, epsilon, 1. - epsilon)\n",
    "\n",
    "            t_loss = -((y_true) * K.log(y_pred) + weights *\n",
    "                       (1 - y_true) * K.log(1 - y_pred))\n",
    "        else:\n",
    "            raise ValueError(\n",
    "                \"loss must be set to 'MSE' or 'categorical_crossentropy'\")\n",
    "\n",
    "        return K.mean(t_loss)\n",
    "\n",
    "    return my_loss"
   ]
  },
  {
   "cell_type": "code",
   "execution_count": 33,
   "metadata": {
    "ExecuteTime": {
     "end_time": "2020-08-17T07:14:22.525153Z",
     "start_time": "2020-08-17T06:55:44.613971Z"
    }
   },
   "outputs": [
    {
     "name": "stdout",
     "output_type": "stream",
     "text": [
      "Testing theta =  -2.0\n",
      "loss:  0.17179122561216353\n",
      "val_loss:  0.17195339371263982\n",
      "\n",
      "\n",
      "Testing theta =  -1.75\n",
      "loss:  0.21092988626658918\n",
      "val_loss:  0.211150546297431\n",
      "\n",
      "\n",
      "Testing theta =  -1.5\n",
      "loss:  0.2553303815126419\n",
      "val_loss:  0.2556497298628092\n",
      "\n",
      "\n",
      "Testing theta =  -1.25\n",
      "loss:  0.30460628351569174\n",
      "val_loss:  0.3050432911813259\n",
      "\n",
      "\n",
      "Testing theta =  -1.0\n",
      "loss:  0.35801719173789026\n",
      "val_loss:  0.35857110330462455\n",
      "\n",
      "\n",
      "Testing theta =  -0.75\n",
      "loss:  0.41540026777982714\n",
      "val_loss:  0.41613504287600517\n",
      "\n",
      "\n",
      "Testing theta =  -0.5\n",
      "loss:  0.47321747526526453\n",
      "val_loss:  0.474194588214159\n",
      "\n",
      "\n",
      "Testing theta =  -0.25\n",
      "loss:  0.5307995431721211\n",
      "val_loss:  0.5321023181080818\n",
      "\n",
      "\n",
      "Testing theta =  0.0\n",
      "loss:  0.5871233595609665\n",
      "val_loss:  0.5888350700139999\n",
      "\n",
      "\n",
      "Testing theta =  0.25\n",
      "loss:  0.6300130712389946\n",
      "val_loss:  0.632213142812252\n",
      "\n",
      "\n",
      "Testing theta =  0.5\n",
      "loss:  0.6628063611388206\n",
      "val_loss:  0.6655407544970512\n",
      "\n",
      "\n",
      "Testing theta =  0.75\n",
      "loss:  0.6833625819087028\n",
      "val_loss:  0.6864711220860481\n",
      "\n",
      "\n",
      "Testing theta =  1.0\n",
      "loss:  0.6901332347393035\n",
      "val_loss:  0.6937411531209946\n",
      "\n",
      "\n",
      "Testing theta =  1.25\n",
      "loss:  0.6811520138382912\n",
      "val_loss:  0.6849928588271141\n",
      "\n",
      "\n",
      "Testing theta =  1.5\n",
      "loss:  0.657357869386673\n",
      "val_loss:  0.6610990226268768\n",
      "\n",
      "\n",
      "Testing theta =  1.75\n",
      "loss:  0.6198441962599754\n",
      "val_loss:  0.6238910092115402\n",
      "\n",
      "\n",
      "Testing theta =  2.0\n",
      "loss:  0.5738651360869408\n",
      "val_loss:  0.5779027732014657\n",
      "\n",
      "\n"
     ]
    }
   ],
   "source": [
    "lvals_T_original = []\n",
    "vlvals_T_original = []\n",
    "\n",
    "for theta in thetas:\n",
    "    print(\"Testing theta = \", theta)\n",
    "    model_original.compile(optimizer='adam',\n",
    "                           loss=my_loss_wrapper_T_original(\n",
    "                               myinputs,\n",
    "                               theta,\n",
    "                               loss='categorical_crossentropy',\n",
    "                               batch_size=batch_size),\n",
    "                           metrics=['accuracy'])\n",
    "\n",
    "    history = model_original.fit(np.array(X_train_T[:, 0]),\n",
    "                          y_train_T,\n",
    "                          epochs=100,\n",
    "                          batch_size=batch_size,\n",
    "                          validation_data=(np.array(X_test_T[:, 0]), y_test_T),\n",
    "                          verbose=0,\n",
    "                          callbacks=[earlystopping])\n",
    "\n",
    "    min_lval = history.history['loss'][np.argmin(history.history['val_loss'])]\n",
    "    min_vlval = np.min(history.history['val_loss'])\n",
    "\n",
    "    lvals_T_original += [min_lval]\n",
    "    vlvals_T_original += [min_vlval]\n",
    "\n",
    "    print(\"loss: \", min_lval)\n",
    "    print(\"val_loss: \", min_vlval)\n",
    "    print(\"\\n\")\n",
    "    pass"
   ]
  },
  {
   "cell_type": "code",
   "execution_count": 34,
   "metadata": {
    "ExecuteTime": {
     "end_time": "2020-08-17T07:14:23.060007Z",
     "start_time": "2020-08-17T07:14:22.528251Z"
    }
   },
   "outputs": [
    {
     "data": {
      "image/png": "[encoded data removed]",
      "text/plain": [
       "<Figure size 432x288 with 1 Axes>"
      ]
     },
     "metadata": {
      "needs_background": "light"
     },
     "output_type": "display_data"
    }
   ],
   "source": [
    "plt.title(\"Original DCTR Truth Level: Theta vs. Loss\")\n",
    "plt.plot(thetas, lvals_T_original, label='Loss')\n",
    "plt.plot(thetas, vlvals_T_original, label='Validation Loss')\n",
    "plt.xlabel(r'$\\theta$')\n",
    "plt.ylabel('Loss')\n",
    "plt.vlines(theta1_param,\n",
    "           ymin=np.min(lvals_T_original),\n",
    "           ymax=np.max(vlvals_T_original),\n",
    "           label='Truth')\n",
    "plt.legend()\n",
    "# plt.savefig(\"GaussianAltFit-1D-ThetaDependentDetectorEffects-OriginalDCTR-Truth-Level:-Theta-vs-Loss.png\")\n",
    "plt.show()"
   ]
  },
  {
   "cell_type": "code",
   "execution_count": 35,
   "metadata": {
    "ExecuteTime": {
     "end_time": "2020-08-17T07:14:23.110515Z",
     "start_time": "2020-08-17T07:14:23.063449Z"
    }
   },
   "outputs": [
    {
     "name": "stdout",
     "output_type": "stream",
     "text": [
      "Interpolated Maximum:  0.9999999917654769\n"
     ]
    }
   ],
   "source": [
    "f = sp.interpolate.interp1d(thetas, lvals_T_original, fill_value=\"extrapolate\")\n",
    "\n",
    "print(\"Interpolated Maximum: \",\n",
    "      sp.optimize.minimize(lambda x: -f(x), x0=0)['x'][0])"
   ]
  },
  {
   "cell_type": "markdown",
   "metadata": {},
   "source": [
    "#### Detector Level Scan"
   ]
  },
  {
   "cell_type": "code",
   "execution_count": 36,
   "metadata": {
    "ExecuteTime": {
     "end_time": "2020-08-17T07:14:23.129096Z",
     "start_time": "2020-08-17T07:14:23.114273Z"
    }
   },
   "outputs": [],
   "source": [
    "def my_loss_wrapper_D_original(val=0,\n",
    "                               reweight_type='DCTR',\n",
    "                               loss='MSE',\n",
    "                               batch_size=1000):\n",
    "    def my_loss(y_true, y_pred):\n",
    "        y_true = tf.gather(y_true, np.arange(batch_size))\n",
    "        x_T = tf.gather(y_true, [1], axis=1)  # sim event truth for reweighting\n",
    "        y_true = tf.gather(y_true, [0], axis=1)  # actual y_true for loss\n",
    "        theta_prime = val\n",
    "\n",
    "        if reweight_type == 'DCTR':\n",
    "            # NN (DCTR) reweight\n",
    "            weights = reweight_original(x_T, theta_prime)\n",
    "        elif reweight_type == 'analytical':\n",
    "            # analytical reweight\n",
    "            weights = analytical_reweight(x_T, theta_prime)\n",
    "        else:\n",
    "            raise ValueError(\n",
    "                \"reweight_type must be set to 'DCTR' or 'analytical'\")\n",
    "\n",
    "        if loss == 'MSE':\n",
    "            # Mean Squared Loss\n",
    "            t_loss = y_true * (y_true - y_pred)**2 + (weights) * (\n",
    "                1. - y_true) * (y_true - y_pred)**2\n",
    "        elif loss == 'categorical_crossentropy':\n",
    "            # Categorical Cross-Entropy Loss\n",
    "            # Clip the prediction value to prevent NaN's and Inf's\n",
    "            epsilon = K.epsilon()\n",
    "            y_pred = K.clip(y_pred, epsilon, 1. - epsilon)\n",
    "\n",
    "            t_loss = -((y_true) * K.log(y_pred) + weights *\n",
    "                       (1 - y_true) * K.log(1 - y_pred))\n",
    "        else:\n",
    "            raise ValueError(\n",
    "                \"loss must be set to 'MSE' or 'categorical_crossentropy'\")\n",
    "        return K.mean(t_loss)\n",
    "\n",
    "    return my_loss"
   ]
  },
  {
   "cell_type": "code",
   "execution_count": 37,
   "metadata": {
    "ExecuteTime": {
     "end_time": "2020-08-17T07:37:03.207403Z",
     "start_time": "2020-08-17T07:14:23.131649Z"
    }
   },
   "outputs": [
    {
     "name": "stdout",
     "output_type": "stream",
     "text": [
      "Testing theta =  -2.0\n",
      "loss:  0.40164805364608763\n",
      "val_loss:  0.4033628042936325\n",
      "\n",
      "\n",
      "Testing theta =  -1.75\n",
      "loss:  0.42927543926239015\n",
      "val_loss:  0.43064226758480073\n",
      "\n",
      "\n",
      "Testing theta =  -1.5\n",
      "loss:  0.457532806545496\n",
      "val_loss:  0.45844609728455543\n",
      "\n",
      "\n",
      "Testing theta =  -1.25\n",
      "loss:  0.4852262527644634\n",
      "val_loss:  0.48605974239110944\n",
      "\n",
      "\n",
      "Testing theta =  -1.0\n",
      "loss:  0.5132834227979183\n",
      "val_loss:  0.5141736683249474\n",
      "\n",
      "\n",
      "Testing theta =  -0.75\n",
      "loss:  0.5431135183274746\n",
      "val_loss:  0.5440540338754654\n",
      "\n",
      "\n",
      "Testing theta =  -0.5\n",
      "loss:  0.5719252403974533\n",
      "val_loss:  0.5730734311342239\n",
      "\n",
      "\n",
      "Testing theta =  -0.25\n",
      "loss:  0.5986655908823013\n",
      "val_loss:  0.5999874980449676\n",
      "\n",
      "\n",
      "Testing theta =  0.0\n",
      "loss:  0.6247963800430297\n",
      "val_loss:  0.6263202284574508\n",
      "\n",
      "\n",
      "Testing theta =  0.25\n",
      "loss:  0.6418298578858376\n",
      "val_loss:  0.6436961328983307\n",
      "\n",
      "\n",
      "Testing theta =  0.5\n",
      "loss:  0.6545128793120384\n",
      "val_loss:  0.6567422440648079\n",
      "\n",
      "\n",
      "Testing theta =  0.75\n",
      "loss:  0.6614817108511925\n",
      "val_loss:  0.6642847722172737\n",
      "\n",
      "\n",
      "Testing theta =  1.0\n",
      "loss:  0.6635678613185882\n",
      "val_loss:  0.6673475964665413\n",
      "\n",
      "\n",
      "Testing theta =  1.25\n",
      "loss:  0.6590354014635086\n",
      "val_loss:  0.6642681683301925\n",
      "\n",
      "\n",
      "Testing theta =  1.5\n",
      "loss:  0.6476688675880432\n",
      "val_loss:  0.6548858966231346\n",
      "\n",
      "\n",
      "Testing theta =  1.75\n",
      "loss:  0.6289691584706306\n",
      "val_loss:  0.6389442255496979\n",
      "\n",
      "\n",
      "Testing theta =  2.0\n",
      "loss:  0.6055450943410396\n",
      "val_loss:  0.6189590243399143\n",
      "\n",
      "\n"
     ]
    }
   ],
   "source": [
    "lvals_D_original = []\n",
    "vlvals_D_original = []\n",
    "\n",
    "for theta in thetas:\n",
    "    print(\"Testing theta = \", theta)\n",
    "    model_original.compile(optimizer='adam',\n",
    "                           loss=my_loss_wrapper_D_original(\n",
    "                               theta,\n",
    "                               loss='categorical_crossentropy',\n",
    "                               batch_size=batch_size),\n",
    "                           metrics=['accuracy'])\n",
    "\n",
    "    history = model_original.fit(np.array(X_train_D),\n",
    "                                 y_train_D,\n",
    "                                 epochs=100,\n",
    "                                 batch_size=batch_size,\n",
    "                                 validation_data=(np.array(X_test_D),\n",
    "                                                  y_test_D),\n",
    "                                 verbose=0,\n",
    "                                 callbacks=[earlystopping])\n",
    "\n",
    "    min_lval = history.history['loss'][np.argmin(history.history['val_loss'])]\n",
    "    min_vlval = np.min(history.history['val_loss'])\n",
    "\n",
    "    lvals_D_original += [min_lval]\n",
    "    vlvals_D_original += [min_vlval]\n",
    "\n",
    "    print(\"loss: \", min_lval)\n",
    "    print(\"val_loss: \", min_vlval)\n",
    "    print(\"\\n\")\n",
    "    pass"
   ]
  },
  {
   "cell_type": "code",
   "execution_count": 38,
   "metadata": {
    "ExecuteTime": {
     "end_time": "2020-08-17T07:37:03.525993Z",
     "start_time": "2020-08-17T07:37:03.210371Z"
    }
   },
   "outputs": [
    {
     "data": {
      "image/png": "[encoded data removed]",
      "text/plain": [
       "<Figure size 432x288 with 1 Axes>"
      ]
     },
     "metadata": {
      "needs_background": "light"
     },
     "output_type": "display_data"
    }
   ],
   "source": [
    "plt.plot(thetas, lvals_D_original, label='Loss')\n",
    "plt.plot(thetas, vlvals_D_original, label='Validation Loss')\n",
    "plt.xlabel(r'$\\theta$')\n",
    "plt.ylabel('Loss')\n",
    "plt.vlines(theta1_param,\n",
    "           ymin=np.min(lvals_D_original),\n",
    "           ymax=np.max(vlvals_D_original),\n",
    "           label='Truth')\n",
    "plt.title(\"Original DCTR Detector Level: Theta vs. Loss\")\n",
    "plt.legend()\n",
    "# plt.savefig(\"GaussianAltFit-1D-ThetaDependentDetectorEffects-OriginalDCTR-Detector-Level:-Theta-vs-Loss.png\")\n",
    "plt.show()"
   ]
  },
  {
   "cell_type": "code",
   "execution_count": 39,
   "metadata": {
    "ExecuteTime": {
     "end_time": "2020-08-17T07:37:03.579629Z",
     "start_time": "2020-08-17T07:37:03.528944Z"
    }
   },
   "outputs": [
    {
     "name": "stdout",
     "output_type": "stream",
     "text": [
      "Interpolated Maximum:  0.999999992582001\n"
     ]
    }
   ],
   "source": [
    "f = sp.interpolate.interp1d(thetas, lvals_D_original, fill_value=\"extrapolate\")\n",
    "\n",
    "print(\"Interpolated Maximum: \",\n",
    "      sp.optimize.minimize(lambda x: -f(x), x0=0)['x'][0])"
   ]
  },
  {
   "cell_type": "markdown",
   "metadata": {},
   "source": [
    "#### Comparison Plot"
   ]
  },
  {
   "cell_type": "code",
   "execution_count": 40,
   "metadata": {
    "ExecuteTime": {
     "end_time": "2020-08-17T07:37:04.001487Z",
     "start_time": "2020-08-17T07:37:03.582234Z"
    }
   },
   "outputs": [
    {
     "data": {
      "image/png": "[encoded data removed]",
      "text/plain": [
       "<Figure size 432x288 with 1 Axes>"
      ]
     },
     "metadata": {
      "needs_background": "light"
     },
     "output_type": "display_data"
    }
   ],
   "source": [
    "plt.plot(thetas, vlvals_T, label='Truth Level')\n",
    "plt.plot(thetas, vlvals_D, label='Detector Level')\n",
    "\n",
    "plt.plot(thetas, vlvals_T_original, label='Original DCTR Truth Level')\n",
    "plt.plot(thetas, vlvals_D_original, label='Original DCTR Detector Level')\n",
    "\n",
    "plt.xlabel(r'$\\theta$')\n",
    "plt.ylabel('Loss')\n",
    "plt.vlines(\n",
    "    theta1_param,\n",
    "    ymin=np.min(vlvals_T + vlvals_D + vlvals_T_original + vlvals_D_original),\n",
    "    ymax=np.max(vlvals_T + vlvals_D + vlvals_T_original + vlvals_D_original),\n",
    "    label='Truth')\n",
    "plt.title(\"Original DCTR Loss Comparison\")\n",
    "plt.legend(bbox_to_anchor=(1.05, 1.0))\n",
    "# plt.savefig(\n",
    "#     \"GaussianAltFit-1D-ThetaDependentDetectorEffects-OriginalDCTR-Loss-Comparison.png\",\n",
    "#     bbox_inches='tight')\n",
    "plt.show()"
   ]
  },
  {
   "cell_type": "markdown",
   "metadata": {},
   "source": [
    "We can see that both the original DCTR Truth and Detector Levels are flatter than the actual Truth and Detector Levels respecively."
   ]
  },
  {
   "cell_type": "markdown",
   "metadata": {},
   "source": [
    "# More complex, uneven detector effects"
   ]
  },
  {
   "cell_type": "markdown",
   "metadata": {},
   "source": [
    "To apply detector effects here, each event's primary truth observable $x_{T,i,0}$in the sample is smeared by shifting by $Z_{i}$ from $Z = \\mathcal{N}(4\\lvert x_{T,i,1}\\rvert,(x_{T,i,1})^2)$ ,where quadruple the absolute value of the secondary truth observable $x_{T,i,1}$ represents the some shifting bias as well as smearing. Thus: $x_{D,i} = x_{T,i,0} + Z_{i}$"
   ]
  },
  {
   "cell_type": "code",
   "execution_count": 41,
   "metadata": {
    "ExecuteTime": {
     "end_time": "2020-08-17T07:37:18.572279Z",
     "start_time": "2020-08-17T07:37:04.003481Z"
    }
   },
   "outputs": [],
   "source": [
    "# Generate detector level by smearing truth\n",
    "\n",
    "X0_val_D_new = np.array([(x[0] + np.random.normal(4*abs(x[1]), x[1]**2))\n",
    "                         for x in X0_val_T])  # Detector smearing\n",
    "X1_val_D_new = np.array([(x[0] + np.random.normal(4*abs(x[1]), x[1]**2))\n",
    "                         for x in X1_val_T])  # Detector smearing"
   ]
  },
  {
   "cell_type": "code",
   "execution_count": 42,
   "metadata": {
    "ExecuteTime": {
     "end_time": "2020-08-17T07:37:20.341017Z",
     "start_time": "2020-08-17T07:37:18.574096Z"
    }
   },
   "outputs": [
    {
     "data": {
      "image/png": "[encoded data removed]",
      "text/plain": [
       "<Figure size 432x288 with 2 Axes>"
      ]
     },
     "metadata": {
      "needs_background": "light"
     },
     "output_type": "display_data"
    }
   ],
   "source": [
    "bins = np.linspace(-10, 10, 31)\n",
    "\n",
    "fig, axs = plt.subplots(1, 2, sharey=True, constrained_layout=True)\n",
    "fig.suptitle('New Detector Smearing')\n",
    "axs[0].set_title('$\\mu=0$')\n",
    "axs[0].hist(X0_val_T[:, 0], bins=bins, alpha=0.5, label='Truth')\n",
    "axs[0].hist(X0_val_D_new, bins=bins, alpha=0.5, label='Detector')\n",
    "axs[0].legend(prop=fontP, loc='upper left')\n",
    "axs[1].set_title('$\\mu={}$'.format(mu1))\n",
    "axs[1].hist(X1_val_T[:, 0], bins=bins, alpha=0.5, label='Truth')\n",
    "axs[1].hist(X1_val_D_new, bins=bins, alpha=0.5, label='Detector')\n",
    "axs[1].legend(prop=fontP, loc='upper left')\n",
    "fig.show()"
   ]
  },
  {
   "cell_type": "markdown",
   "metadata": {},
   "source": [
    "Note that the same validation weights will work here as reweighting only depends only on truth, which is determined by $(x_{T,i,0},x_{T,i,1})$ and not how the detector effects are applied, so long these effects depend solely on truth in some way."
   ]
  },
  {
   "cell_type": "code",
   "execution_count": 43,
   "metadata": {
    "ExecuteTime": {
     "end_time": "2020-08-17T07:37:21.164176Z",
     "start_time": "2020-08-17T07:37:20.343498Z"
    }
   },
   "outputs": [
    {
     "data": {
      "image/png": "[encoded data removed]",
      "text/plain": [
       "<Figure size 432x288 with 1 Axes>"
      ]
     },
     "metadata": {
      "needs_background": "light"
     },
     "output_type": "display_data"
    }
   ],
   "source": [
    "bins = np.linspace(-10, 10, 31)\n",
    "plt.hist(X0_val_D_new, bins=bins, alpha=0.5, label=r'$\\mu=0$')\n",
    "plt.hist(X0_val_D_new,\n",
    "         bins=bins,\n",
    "         label=r'$\\mu=0$ DCTR wgt.',\n",
    "         weights=weights_val,\n",
    "         histtype='step',\n",
    "         color='k')\n",
    "plt.hist(X1_val_D_new, bins=bins, alpha=0.5, label=r'$\\mu={}$'.format(mu1))\n",
    "plt.legend(prop=fontP)\n",
    "plt.title(\"New Detector Level: Reweighting\")\n",
    "#plt.savefig(\"GaussianAltFit-1D-ThetaDependentDetectorEffects-New-Detector-Level:Reweighting.png\")\n",
    "plt.show()"
   ]
  },
  {
   "cell_type": "markdown",
   "metadata": {},
   "source": [
    "## Scanning with New Effects"
   ]
  },
  {
   "cell_type": "code",
   "execution_count": 44,
   "metadata": {
    "ExecuteTime": {
     "end_time": "2020-08-17T07:37:38.508014Z",
     "start_time": "2020-08-17T07:37:21.167283Z"
    }
   },
   "outputs": [
    {
     "data": {
      "image/png": "[encoded data removed]",
      "text/plain": [
       "<Figure size 432x288 with 2 Axes>"
      ]
     },
     "metadata": {
      "needs_background": "light"
     },
     "output_type": "display_data"
    }
   ],
   "source": [
    "N = 10**6\n",
    "theta0_param = 0  # this is the simulation ... N.B. this notation is reversed from above!\n",
    "theta1_param = 1  # this is the data (the target)\n",
    "sigma = 1.  # standard Gaussian width\n",
    "# epsilon = sigma / 2  # Smearing width\n",
    "\n",
    "theta0_T_0 = np.random.normal(theta0_param, sigma, N)  # Truth Level Data\n",
    "theta0_T_1 = np.random.normal(0, nu(theta0_param), N)\n",
    "theta0_T = np.stack((theta0_T_0, theta0_T_1), axis=-1)\n",
    "\n",
    "theta0_D = np.array([(x[0] + np.random.normal(4*abs(x[1]), x[1]**2))\n",
    "                     for x in theta0_T])  # Detector smearing\n",
    "\n",
    "theta0 = np.hstack([theta0_T, np.expand_dims(theta0_D, axis=-1)])\n",
    "\n",
    "theta1_T = np.random.normal(theta1_param, sigma, N)\n",
    "theta1_T_ep = np.random.normal(0, nu(theta1_param), N)\n",
    "theta1_T = np.stack((theta1_T, theta1_T_ep), axis=-1)\n",
    "\n",
    "theta1_D = np.array([(x[0] + np.random.normal(4*abs(x[1]), x[1]**2))\n",
    "                     for x in theta1_T])  # Detector smearing\n",
    "\n",
    "theta1 = np.hstack([theta1_T, np.expand_dims(theta1_D, axis=-1)])\n",
    "\n",
    "bins = np.linspace(-10, 10, 31)\n",
    "\n",
    "fig, axs = plt.subplots(1, 2, sharey=True, constrained_layout=True)\n",
    "fig.suptitle('Fitting Data with New Detector Effects')\n",
    "\n",
    "axs[0].set_title(\"Simulation\\n($\\mu$ = {:.2f})\".format(theta0_param))\n",
    "axs[0].hist(theta0_T[:, 0], bins=bins, alpha=0.5, label='Truth')\n",
    "axs[0].hist(theta0_D, bins=bins, alpha=0.5, label='Detector')\n",
    "axs[0].legend(prop=fontP, loc='upper left')\n",
    "\n",
    "axs[1].set_title(\"Data\\n($\\mu$ = {:.2f})\".format(theta1_param))\n",
    "axs[1].hist(theta1_T[:, 0], bins=bins, alpha=0.5, label='Truth')\n",
    "axs[1].hist(theta1_D, bins=bins, alpha=0.5, label='Detector')\n",
    "axs[1].legend(prop=fontP, loc='upper left')\n",
    "\n",
    "# fig.savefig(\"GaussianAltFit-1D-ThetaDependentDetectorEffects-Fitting-Data-with-New-Detector-Effects.png\")\n",
    "plt.show()\n",
    "\n",
    "labels0 = np.zeros(len(theta0))\n",
    "labels1 = np.ones(len(theta1))\n",
    "\n",
    "xvals = np.concatenate([theta0, theta1])\n",
    "yvals = np.concatenate([labels0, labels1])\n",
    "\n",
    "X_train, X_test, y_train, y_test = train_test_split(xvals,\n",
    "                                                    yvals,\n",
    "                                                    test_size=0.5)\n",
    "X_train_theta, y_train_theta = shuffle(xvals, yvals)\n",
    "\n",
    "X_train_T, y_train_T = np.copy(X_train[:, :2]), y_train\n",
    "X_test_T, y_test_T = np.copy(X_test[:, :2]), y_test\n",
    "X_train_theta_T, y_train_theta_T = np.copy(X_train_theta[:, :2]), y_train_theta\n",
    "\n",
    "#' Erasing' Truth level for data, we can't actually observe this\n",
    "X_train[:, :2][y_train == 1], X_test[:, :2][y_test == 1] = 0., 0.\n",
    "X_train_theta[:, :2][y_train_theta == 1] = 0.\n",
    "\n",
    "# 'hiding' truth level for simulation in expected model output (used in reweighting)\n",
    "X_train_D, y_train_D = X_train[:, 2], np.hstack(\n",
    "    [np.expand_dims(y_train, axis=-1), X_train[:, :2]])\n",
    "X_test_D, y_test_D = X_test[:, 2], np.hstack(\n",
    "    [np.expand_dims(y_test, axis=-1), X_test[:, :2]])\n",
    "\n",
    "X_train_theta_D, y_train_theta_D = X_train_theta[:, 1], np.hstack(\n",
    "    [np.expand_dims(y_train_theta, axis=-1), X_train_theta[:, :2]])"
   ]
  },
  {
   "cell_type": "markdown",
   "metadata": {},
   "source": [
    "Notice how detector smearing and right-shifting is more intense for \"Data\"."
   ]
  },
  {
   "cell_type": "code",
   "execution_count": 45,
   "metadata": {
    "ExecuteTime": {
     "end_time": "2020-08-17T08:00:51.203193Z",
     "start_time": "2020-08-17T07:37:38.511146Z"
    },
    "scrolled": true
   },
   "outputs": [
    {
     "name": "stdout",
     "output_type": "stream",
     "text": [
      "Testing theta =  -2.0\n",
      "loss:  0.07782935911789536\n",
      "val_loss:  0.07807388657331467\n",
      "\n",
      "\n",
      "Testing theta =  -1.75\n",
      "loss:  0.11079694266617299\n",
      "val_loss:  0.11128110459446908\n",
      "\n",
      "\n",
      "Testing theta =  -1.5\n",
      "loss:  0.15299978912621737\n",
      "val_loss:  0.15361908282339573\n",
      "\n",
      "\n",
      "Testing theta =  -1.25\n",
      "loss:  0.20948776765167712\n",
      "val_loss:  0.21015578582882882\n",
      "\n",
      "\n",
      "Testing theta =  -1.0\n",
      "loss:  0.2785194476097822\n",
      "val_loss:  0.27895382699370386\n",
      "\n",
      "\n",
      "Testing theta =  -0.75\n",
      "loss:  0.35516813641786577\n",
      "val_loss:  0.35553642857074735\n",
      "\n",
      "\n",
      "Testing theta =  -0.5\n",
      "loss:  0.43642797860503196\n",
      "val_loss:  0.4366070818603039\n",
      "\n",
      "\n",
      "Testing theta =  -0.25\n",
      "loss:  0.513555051535368\n",
      "val_loss:  0.5135228876769543\n",
      "\n",
      "\n",
      "Testing theta =  0.0\n",
      "loss:  0.5787842255830765\n",
      "val_loss:  0.5785375506877899\n",
      "\n",
      "\n",
      "Testing theta =  0.25\n",
      "loss:  0.6294053844809532\n",
      "val_loss:  0.6289150165319443\n",
      "\n",
      "\n",
      "Testing theta =  0.5\n",
      "loss:  0.6665486519932747\n",
      "val_loss:  0.6653683759570121\n",
      "\n",
      "\n",
      "Testing theta =  0.75\n",
      "loss:  0.6869915224909783\n",
      "val_loss:  0.6847061500549316\n",
      "\n",
      "\n",
      "Testing theta =  1.0\n",
      "loss:  0.6930564106106758\n",
      "val_loss:  0.689290535569191\n",
      "\n",
      "\n",
      "Testing theta =  1.25\n",
      "loss:  0.6844370632767677\n",
      "val_loss:  0.6791529825329781\n",
      "\n",
      "\n",
      "Testing theta =  1.5\n",
      "loss:  0.6657191668748855\n",
      "val_loss:  0.6567711005210877\n",
      "\n",
      "\n",
      "Testing theta =  1.75\n",
      "loss:  0.6354894139766694\n",
      "val_loss:  0.6251885953545571\n",
      "\n",
      "\n",
      "Testing theta =  2.0\n",
      "loss:  0.601447319149971\n",
      "val_loss:  0.5892059805095196\n",
      "\n",
      "\n"
     ]
    }
   ],
   "source": [
    "lvals_D_new = []\n",
    "vlvals_D_new = []\n",
    "\n",
    "for theta in thetas:\n",
    "    print(\"Testing theta = \", theta)\n",
    "    model_D.compile(optimizer='adam',\n",
    "                    loss=my_loss_wrapper_D(theta,\n",
    "                                           loss='categorical_crossentropy',\n",
    "                                           batch_size=batch_size),\n",
    "                    metrics=['accuracy'])\n",
    "\n",
    "    history = model_D.fit(np.array(X_train_D),\n",
    "                          y_train_D,\n",
    "                          epochs=100,\n",
    "                          batch_size=batch_size,\n",
    "                          validation_data=(np.array(X_test_D), y_test_D),\n",
    "                          verbose=0,\n",
    "                          callbacks=[earlystopping])\n",
    "\n",
    "    min_lval = history.history['loss'][np.argmin(history.history['val_loss'])]\n",
    "    min_vlval = np.min(history.history['val_loss'])\n",
    "\n",
    "    lvals_D_new += [min_lval]\n",
    "    vlvals_D_new += [min_vlval]\n",
    "\n",
    "    print(\"loss: \", min_lval)\n",
    "    print(\"val_loss: \", min_vlval)\n",
    "    print(\"\\n\")\n",
    "    pass"
   ]
  },
  {
   "cell_type": "code",
   "execution_count": 46,
   "metadata": {
    "ExecuteTime": {
     "end_time": "2020-08-17T08:00:51.518382Z",
     "start_time": "2020-08-17T08:00:51.205667Z"
    }
   },
   "outputs": [
    {
     "data": {
      "image/png": "[encoded data removed]",
      "text/plain": [
       "<Figure size 432x288 with 1 Axes>"
      ]
     },
     "metadata": {
      "needs_background": "light"
     },
     "output_type": "display_data"
    }
   ],
   "source": [
    "plt.plot(thetas, lvals_D_new, label='Loss')\n",
    "plt.plot(thetas, vlvals_D_new, label='Validation Loss')\n",
    "plt.xlabel(r'$\\theta$')\n",
    "plt.ylabel('Loss')\n",
    "plt.vlines(theta1_param,\n",
    "           ymin=np.min(lvals_D_new),\n",
    "           ymax=np.max(lvals_D_new),\n",
    "           label='Truth')\n",
    "plt.title(\"New Detector Level: Theta vs. Loss\")\n",
    "plt.legend()\n",
    "# plt.savefig(\"GaussianAltFit-1D-ThetaDependentDetectorEffects-New-Detector-Level:-Theta-vs-Loss.png\")\n",
    "plt.show()"
   ]
  },
  {
   "cell_type": "code",
   "execution_count": 47,
   "metadata": {
    "ExecuteTime": {
     "end_time": "2020-08-17T08:00:51.564284Z",
     "start_time": "2020-08-17T08:00:51.520471Z"
    }
   },
   "outputs": [
    {
     "name": "stdout",
     "output_type": "stream",
     "text": [
      "Interpolated Maximum:  0.9999999916896087\n"
     ]
    }
   ],
   "source": [
    "f = sp.interpolate.interp1d(thetas, lvals_D_new, fill_value=\"extrapolate\")\n",
    "\n",
    "print(\"Interpolated Maximum: \",\n",
    "      sp.optimize.minimize(lambda x: -f(x), x0=0)['x'][0])"
   ]
  },
  {
   "cell_type": "markdown",
   "metadata": {},
   "source": [
    "### Comparison Plot"
   ]
  },
  {
   "cell_type": "code",
   "execution_count": 48,
   "metadata": {
    "ExecuteTime": {
     "end_time": "2020-08-17T08:00:51.912692Z",
     "start_time": "2020-08-17T08:00:51.566321Z"
    }
   },
   "outputs": [
    {
     "data": {
      "image/png": "[encoded data removed]",
      "text/plain": [
       "<Figure size 432x288 with 1 Axes>"
      ]
     },
     "metadata": {
      "needs_background": "light"
     },
     "output_type": "display_data"
    }
   ],
   "source": [
    "plt.plot(thetas, vlvals_T, label='Truth Level')\n",
    "plt.plot(thetas, vlvals_D, label='Old (Smear only) Detector Level')\n",
    "plt.plot(thetas, vlvals_D_new, label='New (Smear and Shift) Detector Level')\n",
    "plt.xlabel(r'$\\theta$')\n",
    "plt.ylabel('Loss')\n",
    "plt.vlines(theta1_param,\n",
    "           ymin=np.min(vlvals_T + vlvals_D + vlvals_D_new),\n",
    "           ymax=np.max(vlvals_T + vlvals_D + vlvals_D_new),\n",
    "           label='Truth')\n",
    "plt.title(\"Truth vs. Detector Loss Comparison (Overall)\")\n",
    "plt.legend(bbox_to_anchor=(1.05, 1.0))\n",
    "# plt.savefig(\n",
    "#     \"GaussianAltFit-1D-ThetaDependentDetectorEffects-Truth-vs-Detector-Loss-Comparison-Overall.png\",\n",
    "#     bbox_inches='tight')\n",
    "plt.show()"
   ]
  },
  {
   "cell_type": "markdown",
   "metadata": {},
   "source": [
    "## Compare to Original DCTR\n",
    "See how incorrect the fit is if we ignore the secondary truth observable and use the original DCTR."
   ]
  },
  {
   "cell_type": "code",
   "execution_count": 49,
   "metadata": {
    "ExecuteTime": {
     "end_time": "2020-08-17T08:26:19.809605Z",
     "start_time": "2020-08-17T08:00:51.915857Z"
    }
   },
   "outputs": [
    {
     "name": "stdout",
     "output_type": "stream",
     "text": [
      "Testing theta =  -2.0\n",
      "loss:  0.3146719401627779\n",
      "val_loss:  0.3147067078053951\n",
      "\n",
      "\n",
      "Testing theta =  -1.75\n",
      "loss:  0.3459915421009064\n",
      "val_loss:  0.3465499274134636\n",
      "\n",
      "\n",
      "Testing theta =  -1.5\n",
      "loss:  0.37832968550920487\n",
      "val_loss:  0.37902787697315216\n",
      "\n",
      "\n",
      "Testing theta =  -1.25\n",
      "loss:  0.41078395491838454\n",
      "val_loss:  0.4116280995607376\n",
      "\n",
      "\n",
      "Testing theta =  -1.0\n",
      "loss:  0.4440533156991005\n",
      "val_loss:  0.44482745304703714\n",
      "\n",
      "\n",
      "Testing theta =  -0.75\n",
      "loss:  0.4787436998486519\n",
      "val_loss:  0.4794332264959812\n",
      "\n",
      "\n",
      "Testing theta =  -0.5\n",
      "loss:  0.5125277524888515\n",
      "val_loss:  0.5130344705283642\n",
      "\n",
      "\n",
      "Testing theta =  -0.25\n",
      "loss:  0.545359569221735\n",
      "val_loss:  0.545591686308384\n",
      "\n",
      "\n",
      "Testing theta =  0.0\n",
      "loss:  0.5785048802495003\n",
      "val_loss:  0.578422780930996\n",
      "\n",
      "\n",
      "Testing theta =  0.25\n",
      "loss:  0.6041207027435302\n",
      "val_loss:  0.6036731049418449\n",
      "\n",
      "\n",
      "Testing theta =  0.5\n",
      "loss:  0.626485085606575\n",
      "val_loss:  0.6256331514120101\n",
      "\n",
      "\n",
      "Testing theta =  0.75\n",
      "loss:  0.6447457649707794\n",
      "val_loss:  0.643449612915516\n",
      "\n",
      "\n",
      "Testing theta =  1.0\n",
      "loss:  0.6597044905424118\n",
      "val_loss:  0.6578816617131233\n",
      "\n",
      "\n",
      "Testing theta =  1.25\n",
      "loss:  0.6694717405438423\n",
      "val_loss:  0.6670636240243911\n",
      "\n",
      "\n",
      "Testing theta =  1.5\n",
      "loss:  0.6727861006855964\n",
      "val_loss:  0.669668093085289\n",
      "\n",
      "\n",
      "Testing theta =  1.75\n",
      "loss:  0.6688011435866356\n",
      "val_loss:  0.6650263012647629\n",
      "\n",
      "\n",
      "Testing theta =  2.0\n",
      "loss:  0.659388264477253\n",
      "val_loss:  0.6546902423501014\n",
      "\n",
      "\n"
     ]
    }
   ],
   "source": [
    "lvals_D_original_new = []\n",
    "vlvals_D_original_new = []\n",
    "\n",
    "for theta in thetas:\n",
    "    print(\"Testing theta = \", theta)\n",
    "    model_original.compile(optimizer='adam',\n",
    "                           loss=my_loss_wrapper_D_original(\n",
    "                               theta,\n",
    "                               loss='categorical_crossentropy',\n",
    "                               batch_size=batch_size),\n",
    "                           metrics=['accuracy'])\n",
    "\n",
    "    history = model_original.fit(np.array(X_train_D),\n",
    "                                 y_train_D,\n",
    "                                 epochs=100,\n",
    "                                 batch_size=batch_size,\n",
    "                                 validation_data=(np.array(X_test_D),\n",
    "                                                  y_test_D),\n",
    "                                 verbose=0,\n",
    "                                 callbacks=[earlystopping])\n",
    "\n",
    "    min_lval = history.history['loss'][np.argmin(history.history['val_loss'])]\n",
    "    min_vlval = np.min(history.history['val_loss'])\n",
    "\n",
    "    lvals_D_original_new += [min_lval]\n",
    "    vlvals_D_original_new += [min_vlval]\n",
    "\n",
    "    print(\"loss: \", min_lval)\n",
    "    print(\"val_loss: \", min_vlval)\n",
    "    print(\"\\n\")\n",
    "    pass"
   ]
  },
  {
   "cell_type": "code",
   "execution_count": 50,
   "metadata": {
    "ExecuteTime": {
     "end_time": "2020-08-17T08:26:20.106780Z",
     "start_time": "2020-08-17T08:26:19.817288Z"
    },
    "scrolled": true
   },
   "outputs": [
    {
     "data": {
      "image/png": "[encoded data removed]",
      "text/plain": [
       "<Figure size 432x288 with 1 Axes>"
      ]
     },
     "metadata": {
      "needs_background": "light"
     },
     "output_type": "display_data"
    }
   ],
   "source": [
    "plt.plot(thetas, lvals_D_original_new, label='Loss')\n",
    "plt.plot(thetas, vlvals_D_original_new, label='Validation Loss')\n",
    "plt.xlabel(r'$\\theta$')\n",
    "plt.ylabel('Loss')\n",
    "plt.vlines(theta1_param,\n",
    "           ymin=np.min(lvals_D_original_new),\n",
    "           ymax=np.max(vlvals_D_original_new),\n",
    "           label='Truth')\n",
    "plt.title(\"Original DCTR at New Detector Level: Theta vs. Loss\")\n",
    "plt.legend()\n",
    "# plt.savefig(\"GaussianAltFit-1D-ThetaDependentDetectorEffects-OriginalDCTR-Detector-Level:-Theta-vs-Loss.png\")\n",
    "plt.show()"
   ]
  },
  {
   "cell_type": "code",
   "execution_count": 51,
   "metadata": {
    "ExecuteTime": {
     "end_time": "2020-08-17T08:26:20.153910Z",
     "start_time": "2020-08-17T08:26:20.109496Z"
    }
   },
   "outputs": [
    {
     "name": "stdout",
     "output_type": "stream",
     "text": [
      "Interpolated Maximum:  1.4999999925496998\n"
     ]
    }
   ],
   "source": [
    "f = sp.interpolate.interp1d(thetas, lvals_D_original_new, fill_value=\"extrapolate\")\n",
    "\n",
    "print(\"Interpolated Maximum: \",\n",
    "      sp.optimize.minimize(lambda x: -f(x), x0=0)['x'][0])"
   ]
  },
  {
   "cell_type": "markdown",
   "metadata": {},
   "source": [
    "We can see that when the orignal DCTR is used in reweighting at the \"new\" detector level, the peak is shifted incorrectly to the right."
   ]
  },
  {
   "cell_type": "markdown",
   "metadata": {},
   "source": [
    "### Comparison Plot"
   ]
  },
  {
   "cell_type": "code",
   "execution_count": 52,
   "metadata": {
    "ExecuteTime": {
     "end_time": "2020-08-17T08:26:20.483801Z",
     "start_time": "2020-08-17T08:26:20.156156Z"
    }
   },
   "outputs": [
    {
     "data": {
      "image/png": "[encoded data removed]",
      "text/plain": [
       "<Figure size 432x288 with 1 Axes>"
      ]
     },
     "metadata": {
      "needs_background": "light"
     },
     "output_type": "display_data"
    }
   ],
   "source": [
    "plt.plot(thetas, vlvals_T, label='Truth Level')\n",
    "plt.plot(thetas, vlvals_D_new, label='New Detector Level')\n",
    "\n",
    "plt.plot(thetas, vlvals_T_original, label='Original DCTR at Truth Level')\n",
    "plt.plot(thetas,\n",
    "         vlvals_D_original_new,\n",
    "         label='Original DCTR at New Detector Level')\n",
    "\n",
    "plt.xlabel(r'$\\theta$')\n",
    "plt.ylabel('Loss')\n",
    "plt.vlines(theta1_param,\n",
    "           ymin=np.min(vlvals_T + vlvals_D_new + vlvals_T_original +\n",
    "                       vlvals_D_original_new),\n",
    "           ymax=np.max(vlvals_T + vlvals_D_new + vlvals_T_original +\n",
    "                       vlvals_D_original_new),\n",
    "           label='Truth')\n",
    "plt.title(\"Original DCTR Loss Comparison\")\n",
    "plt.legend(bbox_to_anchor=(1.05, 1.0))\n",
    "# plt.savefig(\n",
    "#     \"GaussianAltFit-1D-ThetaDependentDetectorEffects-OriginalDCTR-Loss-Comparison.png\",\n",
    "#     bbox_inches='tight')\n",
    "plt.show()"
   ]
  }
 ],
 "metadata": {
  "kernelspec": {
   "display_name": "Python 3",
   "language": "python",
   "name": "python3"
  },
  "language_info": {
   "codemirror_mode": {
    "name": "ipython",
    "version": 3
   },
   "file_extension": ".py",
   "mimetype": "text/x-python",
   "name": "python",
   "nbconvert_exporter": "python",
   "pygments_lexer": "ipython3",
   "version": "3.5.2"
  },
  "notify_time": "0",
  "toc": {
   "base_numbering": 1,
   "nav_menu": {},
   "number_sections": false,
   "sideBar": true,
   "skip_h1_title": false,
   "title_cell": "Table of Contents",
   "title_sidebar": "Contents",
   "toc_cell": false,
   "toc_position": {
    "height": "calc(100% - 180px)",
    "left": "10px",
    "top": "150px",
    "width": "288px"
   },
   "toc_section_display": true,
   "toc_window_display": false
  }
 },
 "nbformat": 4,
 "nbformat_minor": 2
}
