{
 "cells": [
  {
   "cell_type": "code",
   "execution_count": 1,
   "metadata": {
    "ExecuteTime": {
     "end_time": "2020-09-01T02:49:38.904319Z",
     "start_time": "2020-09-01T02:49:36.111268Z"
    }
   },
   "outputs": [
    {
     "name": "stderr",
     "output_type": "stream",
     "text": [
      "Using TensorFlow backend.\n"
     ]
    }
   ],
   "source": [
    "# standard library imports\n",
    "from __future__ import absolute_import, division, print_function\n",
    "\n",
    "import numpy as np\n",
    "from matplotlib import pyplot as plt\n",
    "import scipy as sp\n",
    "from scipy.signal import argrelmin, argrelmax\n",
    "\n",
    "from sklearn.utils import shuffle\n",
    "from sklearn.model_selection import train_test_split\n",
    "from sklearn.metrics import roc_auc_score\n",
    "\n",
    "import tensorflow as tf\n",
    "from keras.layers import Lambda, Dense, Input, Layer\n",
    "from keras.models import Model\n",
    "from keras.utils import to_categorical\n",
    "from keras.callbacks import LambdaCallback, EarlyStopping\n",
    "import keras.backend as K\n",
    "import keras"
   ]
  },
  {
   "cell_type": "code",
   "execution_count": 2,
   "metadata": {
    "ExecuteTime": {
     "end_time": "2020-09-01T02:49:39.502193Z",
     "start_time": "2020-09-01T02:49:39.496852Z"
    }
   },
   "outputs": [],
   "source": [
    "# Global plot settings\n",
    "from matplotlib import rc\n",
    "import matplotlib.font_manager\n",
    "from matplotlib.font_manager import FontProperties\n",
    "\n",
    "rc('font', family='serif')\n",
    "rc('text', usetex=True)\n",
    "rc('font', size=22)\n",
    "rc('xtick', labelsize=15)\n",
    "rc('ytick', labelsize=15)\n",
    "rc('legend', fontsize=15)\n",
    "\n",
    "fontP = FontProperties()\n",
    "fontP.set_size(10)"
   ]
  },
  {
   "cell_type": "code",
   "execution_count": 3,
   "metadata": {
    "ExecuteTime": {
     "end_time": "2020-09-01T02:49:39.708441Z",
     "start_time": "2020-09-01T02:49:39.704496Z"
    },
    "scrolled": true
   },
   "outputs": [
    {
     "name": "stdout",
     "output_type": "stream",
     "text": [
      "1.15.0\n",
      "2.2.4\n"
     ]
    }
   ],
   "source": [
    "# Check Versions\n",
    "print(tf.__version__)  #1.15.0\n",
    "print(keras.__version__)  #2.2.4"
   ]
  },
  {
   "cell_type": "markdown",
   "metadata": {},
   "source": [
    "# Alternative DCTR fitting algorithm\n",
    "\n",
    "The DCTR paper (https://arxiv.org/abs/1907.08209) shows how a continuously parameterized NN used for reweighting:\n",
    "\n",
    "$f(x,\\theta)=\\text{argmax}_{f'}(\\sum_{i\\in\\bf{\\theta}_0}\\log f'(x_i,\\theta)+\\sum_{i\\in\\bf{\\theta}}\\log (1-f'(x_i,\\theta)))$\n",
    "\n",
    "can also be used for fitting:\n",
    "\n",
    "$\\theta^*=\\text{argmax}_{\\theta'}(\\sum_{i\\in\\bf{\\theta}_0}\\log f(x_i,\\theta')+\\sum_{i\\in\\bf{\\theta}}\\log (1-f(x_i,\\theta')))$\n",
    "\n",
    "This works well when the reweighting and fitting happen on the same 'level'.  However, if the reweighting happens at truth level (before detector simulation) while the fit happens in data (after the effects of the detector), this procedure will not work.  It works only if the reweighting and fitting both happen at detector-level or both happen at truth-level.  This notebook illustrates an alternative procedure:\n",
    "\n",
    "$\\theta^*=\\text{argmax}_{\\theta'}\\text{min}_{g}(-\\sum_{i\\in\\bf{\\theta}_0}\\log g(x_i)-\\sum_{i\\in\\bf{\\theta}}(f(x_i,\\theta')/(1-f(x_i,\\theta')))\\log (1-g(x_i)))$\n",
    "\n",
    "where the $f(x,\\theta')/(1-f(x,\\theta'))$ is the reweighting function.  The intuition of the above equation is that the classifier $g$ is trying to distinguish the two samples and we try to find a $\\theta$ that makes $g$'s task maximally hard.  If $g$ can't tell apart the two samples, then the reweighting has worked!  This is similar to the minimax graining of a GAN, only now the analog of the generator network is the reweighting network which is fixed and thus the only trainable parameters are the $\\theta'$.  The advantage of this second approach is that it readily generalizes to the case where the reweighting happens on a different level:\n",
    "\n",
    "$\\theta^*=\\text{argmax}_{\\theta'}\\text{min}_{g}(-\\sum_{i\\in\\bf{\\theta}_0}\\log g(x_{D,i})-\\sum_{i\\in\\bf{\\theta}}\\frac{f(x_{T,i},\\theta')}{(1-f(x_{T,i},\\theta'))}\\log (1-g(x_{D,i})))$\n",
    "\n",
    "where $x_T$ is the truth value and $x_D$ is the detector-level value.  In simulation (the second sum), these come in pairs and so one can apply the reweighting on one level and the classification on the other.  Asympotitically, both this method and the one in the body of the DCTR paper learn the same result: $\\theta^*=\\theta_0$."
   ]
  },
  {
   "cell_type": "markdown",
   "metadata": {},
   "source": [
    "# Training a DCTR Model\n",
    "First, we need to train a DCTR model to provide us with a reweighting function to be used during fitting.\n",
    "This is taken directly from the original Gaussian DCTR Example."
   ]
  },
  {
   "cell_type": "markdown",
   "metadata": {},
   "source": [
    "We will now parametrize our network by giving it a $\\mu$ value in addition to $X_i\\sim\\mathcal{N}(\\mu, 1)$.\n",
    "\n",
    "First we uniformly sample $\\mu$ values in some range"
   ]
  },
  {
   "cell_type": "markdown",
   "metadata": {},
   "source": [
    "We then sample from normal distributions with this $\\mu$ value"
   ]
  },
  {
   "cell_type": "markdown",
   "metadata": {},
   "source": [
    "Please note that the samples in X0 are not paired with $\\mu=0$ as this would make the task trivial. \n",
    "\n",
    "Instead it is paired with the $\\mu$ values uniformly sampled in the specified range [mu_min, mu_max].\n",
    "\n",
    "For every value of $\\mu$ in mu_values, the network sees one event drawn from $\\mathcal{N}(0,1)$ and $\\mathcal{N}(\\mu,1)$, and it learns to classify them. \n",
    "\n",
    "I.e. we have one network that's parametrized by $\\mu$ that classifies between events from $\\mathcal{N}(0,1)$ and $\\mathcal{N}(\\mu,1)$, and a trained network will give us the likelihood ratio to reweight from one to another. "
   ]
  },
  {
   "cell_type": "markdown",
   "metadata": {},
   "source": [
    "## Build and Train DCTR model"
   ]
  },
  {
   "cell_type": "code",
   "execution_count": 4,
   "metadata": {
    "ExecuteTime": {
     "end_time": "2020-09-01T02:49:41.574581Z",
     "start_time": "2020-09-01T02:49:41.552610Z"
    }
   },
   "outputs": [],
   "source": [
    "# Either load or train DCTR\n",
    "\n",
    "def get_dctr(load=False, n_data_points=10**6, mu_min=-2, mu_max=2):\n",
    "    if load:\n",
    "        json_file = open('1d_gaussian_dctr_model.json', 'r')\n",
    "        loaded_model_json = json_file.read()\n",
    "        json_file.close()\n",
    "        dctr_model = keras.models.model_from_json(loaded_model_json)\n",
    "        # load weights into new model\n",
    "        dctr_model.load_weights(\"1d_gaussian_dctr_model.h5\")\n",
    "        print(\"Loaded model from disk\")\n",
    "    else:\n",
    "        # Generate training & validation data\n",
    "        mu_values = np.random.uniform(mu_min, mu_max, n_data_points)\n",
    "\n",
    "        X0 = [(np.random.normal(0, 1), mu)\n",
    "              for mu in mu_values]  # Note the zero in normal(0, 1)\n",
    "        X1 = [(np.random.normal(mu, 1), mu) for mu in mu_values]\n",
    "\n",
    "        Y0 = to_categorical(np.zeros(n_data_points), num_classes=2)\n",
    "        Y1 = to_categorical(np.ones(n_data_points), num_classes=2)\n",
    "\n",
    "        X = np.concatenate((X0, X1))\n",
    "        Y = np.concatenate((Y0, Y1))\n",
    "\n",
    "        X_train, X_test, Y_train, Y_test = train_test_split(X,\n",
    "                                                            Y,\n",
    "                                                            test_size=0.5)\n",
    "\n",
    "        # Build Model\n",
    "        inputs = Input((2, ))\n",
    "        hidden_layer_1 = Dense(50, activation='relu')(inputs)\n",
    "        hidden_layer_2 = Dense(50, activation='relu')(hidden_layer_1)\n",
    "        hidden_layer_3 = Dense(50, activation='relu')(hidden_layer_2)\n",
    "        outputs = Dense(2, activation='softmax')(hidden_layer_3)\n",
    "\n",
    "        dctr_model = Model(inputs=inputs, outputs=outputs)\n",
    "        dctr_model.compile(loss='categorical_crossentropy',\n",
    "                           optimizer='Adam',\n",
    "                           metrics=['accuracy'])\n",
    "\n",
    "        # Train Model\n",
    "        earlystopping = EarlyStopping(patience=10, restore_best_weights=True)\n",
    "        dctr_model.fit(X_train,\n",
    "                       Y_train,\n",
    "                       epochs=200,\n",
    "                       batch_size=10000,\n",
    "                       validation_data=(X_test, Y_test),\n",
    "                       callbacks=[earlystopping],\n",
    "                       verbose=0)\n",
    "        print(\"Trained DCTR Model\")\n",
    "\n",
    "    return dctr_model"
   ]
  },
  {
   "cell_type": "markdown",
   "metadata": {},
   "source": [
    "### Loading Model"
   ]
  },
  {
   "cell_type": "code",
   "execution_count": 5,
   "metadata": {
    "ExecuteTime": {
     "end_time": "2020-09-01T02:56:28.217777Z",
     "start_time": "2020-09-01T02:49:42.227164Z"
    }
   },
   "outputs": [
    {
     "name": "stdout",
     "output_type": "stream",
     "text": [
      "WARNING:tensorflow:From /home/asuresh/.local/lib/python3.5/site-packages/keras/backend/tensorflow_backend.py:74: The name tf.get_default_graph is deprecated. Please use tf.compat.v1.get_default_graph instead.\n",
      "\n",
      "WARNING:tensorflow:From /home/asuresh/.local/lib/python3.5/site-packages/keras/backend/tensorflow_backend.py:517: The name tf.placeholder is deprecated. Please use tf.compat.v1.placeholder instead.\n",
      "\n",
      "WARNING:tensorflow:From /home/asuresh/.local/lib/python3.5/site-packages/keras/backend/tensorflow_backend.py:4138: The name tf.random_uniform is deprecated. Please use tf.random.uniform instead.\n",
      "\n",
      "WARNING:tensorflow:From /home/asuresh/.local/lib/python3.5/site-packages/keras/optimizers.py:790: The name tf.train.Optimizer is deprecated. Please use tf.compat.v1.train.Optimizer instead.\n",
      "\n",
      "WARNING:tensorflow:From /home/asuresh/.local/lib/python3.5/site-packages/keras/backend/tensorflow_backend.py:3295: The name tf.log is deprecated. Please use tf.math.log instead.\n",
      "\n",
      "WARNING:tensorflow:From /home/asuresh/.local/lib/python3.5/site-packages/tensorflow_core/python/ops/math_grad.py:1424: where (from tensorflow.python.ops.array_ops) is deprecated and will be removed in a future version.\n",
      "Instructions for updating:\n",
      "Use tf.where in 2.0, which has the same broadcast rule as np.where\n",
      "WARNING:tensorflow:From /home/asuresh/.local/lib/python3.5/site-packages/keras/backend/tensorflow_backend.py:986: The name tf.assign_add is deprecated. Please use tf.compat.v1.assign_add instead.\n",
      "\n",
      "WARNING:tensorflow:From /home/asuresh/.local/lib/python3.5/site-packages/keras/backend/tensorflow_backend.py:973: The name tf.assign is deprecated. Please use tf.compat.v1.assign instead.\n",
      "\n",
      "WARNING:tensorflow:From /home/asuresh/.local/lib/python3.5/site-packages/keras/backend/tensorflow_backend.py:2741: The name tf.Session is deprecated. Please use tf.compat.v1.Session instead.\n",
      "\n",
      "WARNING:tensorflow:From /home/asuresh/.local/lib/python3.5/site-packages/keras/backend/tensorflow_backend.py:174: The name tf.get_default_session is deprecated. Please use tf.compat.v1.get_default_session instead.\n",
      "\n",
      "WARNING:tensorflow:From /home/asuresh/.local/lib/python3.5/site-packages/keras/backend/tensorflow_backend.py:181: The name tf.ConfigProto is deprecated. Please use tf.compat.v1.ConfigProto instead.\n",
      "\n",
      "WARNING:tensorflow:From /home/asuresh/.local/lib/python3.5/site-packages/keras/backend/tensorflow_backend.py:190: The name tf.global_variables is deprecated. Please use tf.compat.v1.global_variables instead.\n",
      "\n",
      "WARNING:tensorflow:From /home/asuresh/.local/lib/python3.5/site-packages/keras/backend/tensorflow_backend.py:199: The name tf.is_variable_initialized is deprecated. Please use tf.compat.v1.is_variable_initialized instead.\n",
      "\n",
      "WARNING:tensorflow:From /home/asuresh/.local/lib/python3.5/site-packages/keras/backend/tensorflow_backend.py:206: The name tf.variables_initializer is deprecated. Please use tf.compat.v1.variables_initializer instead.\n",
      "\n",
      "Trained DCTR Model\n"
     ]
    }
   ],
   "source": [
    "mu_min = -2\n",
    "mu_max = 2\n",
    "\n",
    "dctr_model = get_dctr(n_data_points = 10**7, mu_min=mu_min, mu_max=mu_max)"
   ]
  },
  {
   "cell_type": "markdown",
   "metadata": {},
   "source": [
    "### Defining reweighting functions\n",
    "\n",
    "$w(x_{T,i},\\theta)=((f(x_{T,i},\\theta)/(1-f(x_{T,i},\\theta)))$\n",
    "\n",
    "Takes observable from simulation ${\\bf \\theta_0}$ and weights it to observable from data (target) ${\\bf \\theta_1}$."
   ]
  },
  {
   "cell_type": "code",
   "execution_count": 6,
   "metadata": {
    "ExecuteTime": {
     "end_time": "2020-09-01T02:56:28.226559Z",
     "start_time": "2020-09-01T02:56:28.220809Z"
    }
   },
   "outputs": [],
   "source": [
    "# from NN (DCTR)\n",
    "def reweight(events, param):\n",
    "    #creating tensor with same length as inputs, with theta_prime in every entry\n",
    "    concat_input_and_params = K.ones(shape=events.shape) * param\n",
    "    #combining and reshaping into correct format:\n",
    "    model_inputs = K.concatenate((events, concat_input_and_params), axis=-1)\n",
    "\n",
    "    f = dctr_model(model_inputs)\n",
    "    weights = (f[:, 1]) / (f[:, 0])\n",
    "    weights = K.expand_dims(weights, axis=1)\n",
    "    return weights\n",
    "\n",
    "\n",
    "# from analytical formula for normal distributions\n",
    "def analytical_reweight(events, param):\n",
    "    mu0 = 0.0\n",
    "    weights = K.exp(-(0.5 * (events - param)**2) + (0.5 * (events - mu0)**2))\n",
    "    return weights"
   ]
  },
  {
   "cell_type": "markdown",
   "metadata": {},
   "source": [
    "# Alternative Fit"
   ]
  },
  {
   "cell_type": "markdown",
   "metadata": {},
   "source": [
    "## Setup the dataset\n",
    "\n",
    "We'll show the new setup with a simple Gaussian example.  Let's start by setting up the dataset."
   ]
  },
  {
   "cell_type": "markdown",
   "metadata": {},
   "source": [
    "To apply detector effects, each event $x_{T,i}$in the sample is smeared by shifting by $Z_{i}$ from $Z = \\mathcal{N}(0,\\epsilon)$,where $\\epsilon$ represents the smearing. Thus: $x_{D,i} = x_{T,i} + Z_{i}$"
   ]
  },
  {
   "cell_type": "code",
   "execution_count": 7,
   "metadata": {
    "ExecuteTime": {
     "end_time": "2020-09-01T02:56:36.515747Z",
     "start_time": "2020-09-01T02:56:28.228830Z"
    }
   },
   "outputs": [],
   "source": [
    "N = 10**6\n",
    "theta0_param = 0  # this is the simulation ... N.B. this notation is reversed from above!\n",
    "theta1_param = 1  # this is the data (the target)\n",
    "sigma = 1.  # standard Gaussian width\n",
    "epsilon = sigma / 2  # Smearing width\n",
    "\n",
    "theta0_T = np.random.normal(theta0_param, sigma, N)  # Truth Level Data\n",
    "theta0_D = np.array([(x + np.random.normal(0, epsilon))\n",
    "                     for x in theta0_T])  # Detector smearing\n",
    "theta0 = np.stack([theta0_T, theta0_D], axis=1)\n",
    "\n",
    "theta1_T = np.random.normal(theta1_param, sigma, N)\n",
    "theta1_D = np.array([(x + np.random.normal(0, epsilon))\n",
    "                     for x in theta1_T])  # Detector smearing\n",
    "theta1 = np.stack([theta1_T, theta1_D], axis=1)"
   ]
  },
  {
   "cell_type": "code",
   "execution_count": 8,
   "metadata": {
    "ExecuteTime": {
     "end_time": "2020-09-01T02:56:38.375185Z",
     "start_time": "2020-09-01T02:56:36.518039Z"
    },
    "scrolled": false
   },
   "outputs": [
    {
     "data": {
      "image/png": "[encoded data removed]",
      "text/plain": [
       "<Figure size 432x288 with 2 Axes>"
      ]
     },
     "metadata": {
      "needs_background": "light"
     },
     "output_type": "display_data"
    }
   ],
   "source": [
    "\n",
    "bins = np.linspace(-6, 6, 31)\n",
    "\n",
    "fig, axs = plt.subplots(1, 2, sharey=True, constrained_layout=True)\n",
    "fig.suptitle('Fitting Data with Detector Effects')\n",
    "\n",
    "axs[0].set_title(\"Simulation\\n($\\mu$ = {:.2f})\".format(theta0_param))\n",
    "axs[0].hist(theta0_T, bins=bins, alpha=0.5, label='Truth')\n",
    "axs[0].hist(theta0_D, bins=bins, alpha=0.5, label='Detector')\n",
    "axs[0].legend(prop=fontP, loc = 'upper left')\n",
    "\n",
    "axs[1].set_title(\"Data\\n($\\mu$ = {:.2f})\".format(theta1_param))\n",
    "axs[1].hist(theta1_T, bins=bins, alpha=0.5, label='Truth')\n",
    "axs[1].hist(theta1_D, bins=bins, alpha=0.5, label='Detector')\n",
    "axs[1].legend(prop=fontP, loc = 'upper left')\n",
    "\n",
    "# fig.savefig(\"GaussianAltFit-1D-Fitting-Data-with-Detector-Effects.png\")\n",
    "plt.show()"
   ]
  },
  {
   "cell_type": "code",
   "execution_count": 9,
   "metadata": {
    "ExecuteTime": {
     "end_time": "2020-09-01T02:56:38.873043Z",
     "start_time": "2020-09-01T02:56:38.377398Z"
    }
   },
   "outputs": [],
   "source": [
    "labels0 = np.zeros(len(theta0))\n",
    "labels1 = np.ones(len(theta1))\n",
    "\n",
    "xvals = np.concatenate([theta0, theta1])\n",
    "yvals = np.concatenate([labels0, labels1])\n",
    "\n",
    "X_train, X_test, y_train, y_test = train_test_split(xvals,\n",
    "                                                    yvals,\n",
    "                                                    test_size=0.5)\n",
    "X_train_theta, y_train_theta = shuffle(xvals, yvals)\n",
    "\n",
    "X_train_T, y_train_T = np.copy(X_train[:, 0]), y_train\n",
    "X_test_T, y_test_T = np.copy(X_test[:, 0]), y_test\n",
    "X_train_theta_T, y_train_theta_T = np.copy(X_train_theta[:, 0]), y_train_theta\n",
    "\n",
    "#' Erasing' Truth level for data, we can't actually observe this\n",
    "X_train[:, 0][y_train == 1], X_test[:, 0][y_test == 1] = 0., 0.\n",
    "X_train_theta[:, 0][y_train_theta == 1] = 0.\n",
    "\n",
    "# 'hiding' truth level for simulation in expected model output (used in reweighting)\n",
    "X_train_D, y_train_D = X_train[:, 1], np.stack([y_train, X_train[:, 0]],\n",
    "                                               axis=1)\n",
    "X_test_D, y_test_D = X_test[:, 1], np.stack([y_test, X_test[:, 0]], axis=1)\n",
    "\n",
    "X_train_theta_D, y_train_theta_D = X_train_theta[:, 1], np.stack(\n",
    "    [y_train_theta, X_train_theta[:, 0]], axis=1)"
   ]
  },
  {
   "cell_type": "markdown",
   "metadata": {},
   "source": [
    "## Fitting Model: Scan\n",
    "\n",
    "We'll start by showing that for fixed $\\theta$, the maximum loss occurs when $\\theta=\\theta_1$."
   ]
  },
  {
   "cell_type": "markdown",
   "metadata": {},
   "source": [
    "### Creating Model"
   ]
  },
  {
   "cell_type": "code",
   "execution_count": 10,
   "metadata": {
    "ExecuteTime": {
     "end_time": "2020-09-01T02:56:38.923970Z",
     "start_time": "2020-09-01T02:56:38.875025Z"
    }
   },
   "outputs": [
    {
     "name": "stdout",
     "output_type": "stream",
     "text": [
      "_________________________________________________________________\n",
      "Layer (type)                 Output Shape              Param #   \n",
      "=================================================================\n",
      "input_2 (InputLayer)         (None, 1)                 0         \n",
      "_________________________________________________________________\n",
      "dense_5 (Dense)              (None, 128)               256       \n",
      "_________________________________________________________________\n",
      "dense_6 (Dense)              (None, 128)               16512     \n",
      "_________________________________________________________________\n",
      "dense_7 (Dense)              (None, 1)                 129       \n",
      "=================================================================\n",
      "Total params: 16,897\n",
      "Trainable params: 16,897\n",
      "Non-trainable params: 0\n",
      "_________________________________________________________________\n"
     ]
    }
   ],
   "source": [
    "myinputs = Input(shape=(1, ), dtype=tf.float32)\n",
    "x = Dense(128, activation='relu')(myinputs)\n",
    "x2 = Dense(128, activation='relu')(x)\n",
    "predictions = Dense(1, activation='sigmoid')(x2)\n",
    "\n",
    "model = Model(inputs=myinputs, outputs=predictions)\n",
    "model.summary()\n",
    "batch_size = 1000\n",
    "\n",
    "earlystopping = EarlyStopping(patience=5, restore_best_weights=True)\n",
    "\n",
    "thetas = np.linspace(-2, 2, 21)"
   ]
  },
  {
   "cell_type": "markdown",
   "metadata": {},
   "source": [
    "#### Redefining Reweighting Function\n",
    "Adding an artificial scale factor for the weights that depends on theta. "
   ]
  },
  {
   "cell_type": "code",
   "execution_count": 11,
   "metadata": {
    "ExecuteTime": {
     "end_time": "2020-09-01T02:56:38.932672Z",
     "start_time": "2020-09-01T02:56:38.926350Z"
    }
   },
   "outputs": [],
   "source": [
    "# from NN (DCTR)\n",
    "def reweight(events, param):\n",
    "    scale = 1. + param * 0.2\n",
    "    #creating tensor with same length as inputs, with theta_prime in every entry\n",
    "    concat_input_and_params = K.ones(shape=events.shape) * param\n",
    "    #combining and reshaping into correct format:\n",
    "    model_inputs = K.concatenate((events, concat_input_and_params), axis=-1)\n",
    "\n",
    "    f = dctr_model(model_inputs)\n",
    "    weights = scale*(f[:, 1]) / (f[:, 0])\n",
    "    weights = K.expand_dims(weights, axis=1)\n",
    "    return weights"
   ]
  },
  {
   "cell_type": "markdown",
   "metadata": {},
   "source": [
    "### Truth Level Scan"
   ]
  },
  {
   "cell_type": "code",
   "execution_count": 12,
   "metadata": {
    "ExecuteTime": {
     "end_time": "2020-09-01T02:56:38.952086Z",
     "start_time": "2020-09-01T02:56:38.935731Z"
    }
   },
   "outputs": [],
   "source": [
    "def my_loss_wrapper_T(inputs,\n",
    "                      val=0.,\n",
    "                      reweight_type='DCTR',\n",
    "                      loss='MSE',\n",
    "                      batch_size=1000):\n",
    "    x = inputs\n",
    "    x = K.gather(x, np.arange(batch_size))\n",
    "\n",
    "    theta_prime = val\n",
    "\n",
    "    if reweight_type == 'DCTR':\n",
    "        # NN (DCTR) reweight\n",
    "        weights = reweight(x, theta_prime)\n",
    "    elif reweight_type == 'analytical':\n",
    "        # analytical reweight\n",
    "        weights = analytical_reweight(x, theta_prime)\n",
    "    else:\n",
    "        raise ValueError(\"reweight_type must be set to 'DCTR' or 'analytical'\")\n",
    "\n",
    "    def my_loss(y_true, y_pred):\n",
    "        if loss == 'MSE':\n",
    "            # Mean Squared Loss\n",
    "            t_loss = y_true * (y_true - y_pred)**2 + weights * (\n",
    "                1. - y_true) * (y_true - y_pred)**2\n",
    "        elif loss == 'categorical_crossentropy':\n",
    "            # Categorical Cross-Entropy Loss\n",
    "\n",
    "            # Clip the prediction value to prevent NaN's and Inf's\n",
    "            epsilon = K.epsilon()\n",
    "            y_pred = K.clip(y_pred, epsilon, 1. - epsilon)\n",
    "\n",
    "            t_loss = -((y_true) * K.log(y_pred) + weights *\n",
    "                       (1 - y_true) * K.log(1 - y_pred))\n",
    "        else:\n",
    "            raise ValueError(\n",
    "                \"loss must be set to 'MSE' or 'categorical_crossentropy'\")\n",
    "\n",
    "        return K.mean(t_loss)\n",
    "\n",
    "    return my_loss"
   ]
  },
  {
   "cell_type": "code",
   "execution_count": 13,
   "metadata": {
    "ExecuteTime": {
     "end_time": "2020-09-01T03:29:03.104156Z",
     "start_time": "2020-09-01T02:56:38.954475Z"
    },
    "scrolled": true
   },
   "outputs": [
    {
     "name": "stdout",
     "output_type": "stream",
     "text": [
      "Testing theta =  -2.0\n",
      "loss:  0.12630001270025967\n",
      "val_loss:  0.12589048013836146\n",
      "\n",
      "\n",
      "Testing theta =  -1.8\n",
      "loss:  0.15417362776398658\n",
      "val_loss:  0.15375598803162574\n",
      "\n",
      "\n",
      "Testing theta =  -1.6\n",
      "loss:  0.1866270977705717\n",
      "val_loss:  0.18627461333572864\n",
      "\n",
      "\n",
      "Testing theta =  -1.4\n",
      "loss:  0.22384678727388382\n",
      "val_loss:  0.22353834930062294\n",
      "\n",
      "\n",
      "Testing theta =  -1.2\n",
      "loss:  0.26613706958293915\n",
      "val_loss:  0.2658561718016863\n",
      "\n",
      "\n",
      "Testing theta =  -1.0\n",
      "loss:  0.3133193426132202\n",
      "val_loss:  0.313130979090929\n",
      "\n",
      "\n",
      "Testing theta =  -0.7999999999999998\n",
      "loss:  0.365142913877964\n",
      "val_loss:  0.3649761688113213\n",
      "\n",
      "\n",
      "Testing theta =  -0.5999999999999999\n",
      "loss:  0.4167855796515942\n",
      "val_loss:  0.4166313208341598\n",
      "\n",
      "\n",
      "Testing theta =  -0.3999999999999999\n",
      "loss:  0.47083049529790877\n",
      "val_loss:  0.4706722595691681\n",
      "\n",
      "\n",
      "Testing theta =  -0.19999999999999996\n",
      "loss:  0.5278324750959873\n",
      "val_loss:  0.5276718156635761\n",
      "\n",
      "\n",
      "Testing theta =  0.0\n",
      "loss:  0.584670316696167\n",
      "val_loss:  0.5844163308739663\n",
      "\n",
      "\n",
      "Testing theta =  0.20000000000000018\n",
      "loss:  0.6336148810386658\n",
      "val_loss:  0.6332933504581452\n",
      "\n",
      "\n",
      "Testing theta =  0.40000000000000036\n",
      "loss:  0.6761042845249176\n",
      "val_loss:  0.6756395574808121\n",
      "\n",
      "\n",
      "Testing theta =  0.6000000000000001\n",
      "loss:  0.7120196694135665\n",
      "val_loss:  0.7113923620581627\n",
      "\n",
      "\n",
      "Testing theta =  0.8000000000000003\n",
      "loss:  0.7432339770197869\n",
      "val_loss:  0.7423981667160988\n",
      "\n",
      "\n",
      "Testing theta =  1.0\n",
      "loss:  0.763206572175026\n",
      "val_loss:  0.7621343633532525\n",
      "\n",
      "\n",
      "Testing theta =  1.2000000000000002\n",
      "loss:  0.7719656870365142\n",
      "val_loss:  0.7706442021727562\n",
      "\n",
      "\n",
      "Testing theta =  1.4000000000000004\n",
      "loss:  0.7674535063505172\n",
      "val_loss:  0.7656054931879044\n",
      "\n",
      "\n",
      "Testing theta =  1.6\n",
      "loss:  0.7502159290909767\n",
      "val_loss:  0.7482650744915008\n",
      "\n",
      "\n",
      "Testing theta =  1.8000000000000003\n",
      "loss:  0.7232814656496048\n",
      "val_loss:  0.7212583609223365\n",
      "\n",
      "\n",
      "Testing theta =  2.0\n",
      "loss:  0.6895532166361809\n",
      "val_loss:  0.6874773209095001\n",
      "\n",
      "\n",
      "[0.12630001270025967, 0.15417362776398658, 0.1866270977705717, 0.22384678727388382, 0.26613706958293915, 0.3133193426132202, 0.365142913877964, 0.4167855796515942, 0.47083049529790877, 0.5278324750959873, 0.584670316696167, 0.6336148810386658, 0.6761042845249176, 0.7120196694135665, 0.7432339770197869, 0.763206572175026, 0.7719656870365142, 0.7674535063505172, 0.7502159290909767, 0.7232814656496048, 0.6895532166361809]\n"
     ]
    }
   ],
   "source": [
    "lvals_T = []\n",
    "vlvals_T = []\n",
    "AUC = []\n",
    "\n",
    "for theta in thetas:\n",
    "    print(\"Testing theta = \", theta)\n",
    "    model.compile(optimizer='adam',\n",
    "                  loss=my_loss_wrapper_T(myinputs,\n",
    "                                         theta,\n",
    "                                         loss='categorical_crossentropy',\n",
    "                                         batch_size=batch_size),\n",
    "                  metrics=['accuracy'])\n",
    "\n",
    "    history = model.fit(np.array(X_train_T),\n",
    "                        y_train_T,\n",
    "                        epochs=100,\n",
    "                        batch_size=batch_size,\n",
    "                        validation_data=(np.array(X_test_T), y_test_T),\n",
    "                        verbose=0,\n",
    "                        callbacks=[earlystopping])\n",
    "\n",
    "    min_lval = history.history['loss'][np.argmin(history.history['val_loss'])]\n",
    "    min_vlval = np.min(history.history['val_loss'])\n",
    "\n",
    "    lvals_T += [min_lval]\n",
    "    vlvals_T += [min_vlval]\n",
    "    \n",
    "    weights = reweight(tf.convert_to_tensor(xvals[:,:1][yvals==0], dtype=tf.float32), theta)\n",
    "    weights = K.eval(weights)\n",
    "\n",
    "    weights_AUC = np.ones_like(xvals[:,:1])\n",
    "\n",
    "    weights_AUC[yvals==0] = weights\n",
    "    weights_AUC = np.squeeze(weights_AUC)\n",
    "\n",
    "    auc = roc_auc_score(yvals, model.predict(xvals[:,:1]), sample_weight = weights_AUC)\n",
    "    AUC += [auc]\n",
    "\n",
    "    print(\"loss: \", min_lval)\n",
    "    print(\"val_loss: \", min_vlval)\n",
    "    print(\"\\n\")\n",
    "    pass\n",
    "print(lvals_T)"
   ]
  },
  {
   "cell_type": "code",
   "execution_count": 27,
   "metadata": {
    "ExecuteTime": {
     "end_time": "2020-09-01T04:16:50.710318Z",
     "start_time": "2020-09-01T04:16:50.445173Z"
    }
   },
   "outputs": [
    {
     "data": {
      "image/png": "[encoded data removed]",
      "text/plain": [
       "<Figure size 432x288 with 1 Axes>"
      ]
     },
     "metadata": {
      "needs_background": "light"
     },
     "output_type": "display_data"
    }
   ],
   "source": [
    "plt.title(\"Truth Level with Scale Variant Reweighting:\\nTheta vs. Loss\")\n",
    "plt.plot(thetas, lvals_T, label='Loss')\n",
    "plt.plot(thetas, vlvals_T, label='Validation Loss')\n",
    "plt.xlabel(r'$\\theta$')\n",
    "plt.ylabel('Loss')\n",
    "plt.vlines(theta1_param,\n",
    "           ymin=np.min(lvals_T),\n",
    "           ymax=np.max(lvals_T),\n",
    "           label='Truth')\n",
    "plt.legend()\n",
    "# plt.savefig(\n",
    "#     \"GaussianAltFit-1D-AUCvsLoss-Truth-Level-with-Scale-Variant-Reweighting:\\nTheta-vs-Loss.png\"\n",
    "# )\n",
    "plt.show()"
   ]
  },
  {
   "cell_type": "markdown",
   "metadata": {},
   "source": [
    "We can see adding scale variant reweighting has shifted the maximum loss away from the Truth value."
   ]
  },
  {
   "cell_type": "code",
   "execution_count": 22,
   "metadata": {
    "ExecuteTime": {
     "end_time": "2020-09-01T04:13:08.673905Z",
     "start_time": "2020-09-01T04:13:08.417583Z"
    },
    "scrolled": true
   },
   "outputs": [
    {
     "data": {
      "image/png": "[encoded data removed]",
      "text/plain": [
       "<Figure size 432x288 with 1 Axes>"
      ]
     },
     "metadata": {
      "needs_background": "light"
     },
     "output_type": "display_data"
    }
   ],
   "source": [
    "plt.title(\"Truth Level with Scale Variant Reweighting:\\nTheta vs. AUC\")\n",
    "plt.plot(thetas, AUC)\n",
    "plt.xlabel(r'$\\theta$')\n",
    "plt.ylabel('AUC')\n",
    "plt.vlines(theta1_param,\n",
    "           ymin=np.min(AUC),\n",
    "           ymax=np.max(AUC),\n",
    "           label='Truth')\n",
    "plt.legend()\n",
    "# plt.savefig(\n",
    "#     \"GaussianAltFit-1D-AUCvsLoss-Truth-Level-with-Scale-Variant-Reweighting:\\nTheta-vs-AUC.png\"\n",
    "# )\n",
    "plt.show()"
   ]
  },
  {
   "cell_type": "markdown",
   "metadata": {},
   "source": [
    "Despite the weights not being normalized, we see that AUC still has the correct minimum at truth!"
   ]
  },
  {
   "cell_type": "markdown",
   "metadata": {},
   "source": [
    "Let's return the reweighting function to its original definition (remove the artificial scale factor) and see if there is some inherent scale variance on theta."
   ]
  },
  {
   "cell_type": "code",
   "execution_count": 16,
   "metadata": {
    "ExecuteTime": {
     "end_time": "2020-09-01T03:29:04.075817Z",
     "start_time": "2020-09-01T03:29:04.069647Z"
    }
   },
   "outputs": [],
   "source": [
    "# from NN (DCTR)\n",
    "def reweight(events, param):\n",
    "    scale = 1.\n",
    "    #creating tensor with same length as inputs, with theta_prime in every entry\n",
    "    concat_input_and_params = K.ones(shape=events.shape) * param\n",
    "    #combining and reshaping into correct format:\n",
    "    model_inputs = K.concatenate((events, concat_input_and_params), axis=-1)\n",
    "\n",
    "    f = dctr_model(model_inputs)\n",
    "    weights = scale*(f[:, 1]) / (f[:, 0])\n",
    "    weights = K.expand_dims(weights, axis=1)\n",
    "    return weights\n",
    "\n",
    "\n",
    "# from analytical formula for normal distributions\n",
    "def analytical_reweight(events, param):\n",
    "    mu0 = 0.0\n",
    "    weights = K.exp(-(0.5 * (events - param)**2) + (0.5 * (events - mu0)**2))\n",
    "    return weights"
   ]
  },
  {
   "cell_type": "code",
   "execution_count": 17,
   "metadata": {
    "ExecuteTime": {
     "end_time": "2020-09-01T04:07:11.300642Z",
     "start_time": "2020-09-01T03:29:04.077451Z"
    }
   },
   "outputs": [
    {
     "name": "stdout",
     "output_type": "stream",
     "text": [
      "Testing theta =  0.9\n",
      "loss:  0.6958719075918197\n",
      "val_loss:  0.6949382256865502\n",
      "\n",
      "\n",
      "Testing theta =  0.91\n",
      "loss:  0.6961600109934807\n",
      "val_loss:  0.6952672189474106\n",
      "\n",
      "\n",
      "Testing theta =  0.92\n",
      "loss:  0.6964296223521232\n",
      "val_loss:  0.6955665510892868\n",
      "\n",
      "\n",
      "Testing theta =  0.93\n",
      "loss:  0.6967365245819092\n",
      "val_loss:  0.6958571744561195\n",
      "\n",
      "\n",
      "Testing theta =  0.9400000000000001\n",
      "loss:  0.6969956400394439\n",
      "val_loss:  0.6961142214536666\n",
      "\n",
      "\n",
      "Testing theta =  0.9500000000000001\n",
      "loss:  0.6972514412403107\n",
      "val_loss:  0.6963643789887428\n",
      "\n",
      "\n",
      "Testing theta =  0.9600000000000001\n",
      "loss:  0.6974719421863556\n",
      "val_loss:  0.6965772769451142\n",
      "\n",
      "\n",
      "Testing theta =  0.9700000000000001\n",
      "loss:  0.6976760603785515\n",
      "val_loss:  0.6967686389684677\n",
      "\n",
      "\n",
      "Testing theta =  0.9800000000000001\n",
      "loss:  0.6978560668230057\n",
      "val_loss:  0.6969422048926354\n",
      "\n",
      "\n",
      "Testing theta =  0.9900000000000001\n",
      "loss:  0.6980214114785195\n",
      "val_loss:  0.6970949400663375\n",
      "\n",
      "\n",
      "Testing theta =  1.0\n",
      "loss:  0.6981417775154114\n",
      "val_loss:  0.6972244018316269\n",
      "\n",
      "\n",
      "Testing theta =  1.01\n",
      "loss:  0.6982838743925095\n",
      "val_loss:  0.6973377447128296\n",
      "\n",
      "\n",
      "Testing theta =  1.02\n",
      "loss:  0.6983829927444458\n",
      "val_loss:  0.6974268749952316\n",
      "\n",
      "\n",
      "Testing theta =  1.03\n",
      "loss:  0.6984491528272628\n",
      "val_loss:  0.6974928148984909\n",
      "\n",
      "\n",
      "Testing theta =  1.04\n",
      "loss:  0.6984928147792816\n",
      "val_loss:  0.6975279357433319\n",
      "\n",
      "\n",
      "Testing theta =  1.05\n",
      "loss:  0.6985151782631874\n",
      "val_loss:  0.6975322787761689\n",
      "\n",
      "\n",
      "Testing theta =  1.06\n",
      "loss:  0.6984931874275208\n",
      "val_loss:  0.6975130027532578\n",
      "\n",
      "\n",
      "Testing theta =  1.07\n",
      "loss:  0.6984662188887596\n",
      "val_loss:  0.6974616435170173\n",
      "\n",
      "\n",
      "Testing theta =  1.08\n",
      "loss:  0.698397871851921\n",
      "val_loss:  0.6973948138952255\n",
      "\n",
      "\n",
      "Testing theta =  1.09\n",
      "loss:  0.6983026282191277\n",
      "val_loss:  0.697271989762783\n",
      "\n",
      "\n",
      "Testing theta =  1.1\n",
      "loss:  0.6981698899865151\n",
      "val_loss:  0.6971325469017029\n",
      "\n",
      "\n",
      "[0.12630001270025967, 0.15417362776398658, 0.1866270977705717, 0.22384678727388382, 0.26613706958293915, 0.3133193426132202, 0.365142913877964, 0.4167855796515942, 0.47083049529790877, 0.5278324750959873, 0.584670316696167, 0.6336148810386658, 0.6761042845249176, 0.7120196694135665, 0.7432339770197869, 0.763206572175026, 0.7719656870365142, 0.7674535063505172, 0.7502159290909767, 0.7232814656496048, 0.6895532166361809]\n"
     ]
    }
   ],
   "source": [
    "lvals_T2 = []\n",
    "vlvals_T2 = []\n",
    "AUC2 = []\n",
    "thetas = np.linspace(0.9, 1.1, 21)\n",
    "for theta in thetas:\n",
    "    print(\"Testing theta = \", theta)\n",
    "    model.compile(optimizer='adam',\n",
    "                  loss=my_loss_wrapper_T(myinputs,\n",
    "                                         theta,\n",
    "                                         loss='categorical_crossentropy',\n",
    "                                         batch_size=batch_size),\n",
    "                  metrics=['accuracy'])\n",
    "\n",
    "    history = model.fit(np.array(X_train_T),\n",
    "                        y_train_T,\n",
    "                        epochs=100,\n",
    "                        batch_size=batch_size,\n",
    "                        validation_data=(np.array(X_test_T), y_test_T),\n",
    "                        verbose=0,\n",
    "                        callbacks=[earlystopping])\n",
    "\n",
    "    min_lval = history.history['loss'][np.argmin(history.history['val_loss'])]\n",
    "    min_vlval = np.min(history.history['val_loss'])\n",
    "\n",
    "    lvals_T2 += [min_lval]\n",
    "    vlvals_T2 += [min_vlval]\n",
    "    \n",
    "    weights = reweight(tf.convert_to_tensor(xvals[:,:1][yvals==0], dtype=tf.float32), theta)\n",
    "    weights = K.eval(weights)\n",
    "\n",
    "    weights_AUC = np.ones_like(xvals[:,:1])\n",
    "\n",
    "    weights_AUC[yvals==0] = weights\n",
    "    weights_AUC = np.squeeze(weights_AUC)\n",
    "\n",
    "    auc = roc_auc_score(yvals, model.predict(xvals[:,:1]), sample_weight = weights_AUC)\n",
    "    AUC2 += [auc]\n",
    "\n",
    "    print(\"loss: \", min_lval)\n",
    "    print(\"val_loss: \", min_vlval)\n",
    "    print(\"\\n\")\n",
    "    pass\n",
    "print(lvals_T)"
   ]
  },
  {
   "cell_type": "code",
   "execution_count": 25,
   "metadata": {
    "ExecuteTime": {
     "end_time": "2020-09-01T04:16:19.240164Z",
     "start_time": "2020-09-01T04:16:18.909454Z"
    }
   },
   "outputs": [
    {
     "data": {
      "image/png": "[encoded data removed]",
      "text/plain": [
       "<Figure size 432x288 with 1 Axes>"
      ]
     },
     "metadata": {
      "needs_background": "light"
     },
     "output_type": "display_data"
    }
   ],
   "source": [
    "plt.title(\"Truth Level with Scale 'Invariant' Reweighting:\\nTheta vs. Loss\")\n",
    "plt.plot(thetas, lvals_T2, label='Loss')\n",
    "plt.plot(thetas, vlvals_T2, label='Validation Loss')\n",
    "plt.xlabel(r'$\\theta$')\n",
    "plt.ylabel('Loss')\n",
    "plt.vlines(theta1_param,\n",
    "           ymin=np.min(lvals_T2+ vlvals_T2),\n",
    "           ymax=np.max(lvals_T2 + vlvals_T2),\n",
    "           label='Truth')\n",
    "plt.legend()\n",
    "# plt.savefig(\n",
    "#     \"GaussianAltFit-1D-AUCvsLoss-Truth-Level-with-Scale-Invariant-Reweighting:\\nTheta-vs-Loss.png\"\n",
    "# )\n",
    "plt.show()"
   ]
  },
  {
   "cell_type": "markdown",
   "metadata": {},
   "source": [
    "Zooming into a finer window for theta, we see that there is some bias in the scale of the weights that depends on theta."
   ]
  },
  {
   "cell_type": "code",
   "execution_count": 24,
   "metadata": {
    "ExecuteTime": {
     "end_time": "2020-09-01T04:14:37.502878Z",
     "start_time": "2020-09-01T04:14:36.798506Z"
    }
   },
   "outputs": [
    {
     "data": {
      "image/png": "[encoded data removed]",
      "text/plain": [
       "<Figure size 432x288 with 1 Axes>"
      ]
     },
     "metadata": {
      "needs_background": "light"
     },
     "output_type": "display_data"
    }
   ],
   "source": [
    "plt.title(\"Truth Level with Scale 'Invariant' Reweighting:\\nAUC vs. Loss\")\n",
    "plt.plot(thetas, AUC2)\n",
    "plt.xlabel(r'$\\theta$')\n",
    "plt.ylabel('AUC')\n",
    "plt.vlines(theta1_param,\n",
    "           ymin=np.min(AUC2),\n",
    "           ymax=np.max(AUC2),\n",
    "           label='Truth')\n",
    "plt.legend()\n",
    "# plt.savefig(\n",
    "#     \"GaussianAltFit-1D-AUCvsLoss-Truth-Level-with-Scale-Invariant-Reweighting:\\nTheta-vs-AUC.png\"\n",
    "# )\n",
    "plt.show()"
   ]
  },
  {
   "cell_type": "markdown",
   "metadata": {},
   "source": [
    "Again, however, we see AUC matches truth much better than simply loss."
   ]
  }
 ],
 "metadata": {
  "kernelspec": {
   "display_name": "Python 3",
   "language": "python",
   "name": "python3"
  },
  "language_info": {
   "codemirror_mode": {
    "name": "ipython",
    "version": 3
   },
   "file_extension": ".py",
   "mimetype": "text/x-python",
   "name": "python",
   "nbconvert_exporter": "python",
   "pygments_lexer": "ipython3",
   "version": "3.5.2"
  },
  "notify_time": "0",
  "toc": {
   "base_numbering": 1,
   "nav_menu": {},
   "number_sections": false,
   "sideBar": true,
   "skip_h1_title": false,
   "title_cell": "Table of Contents",
   "title_sidebar": "Contents",
   "toc_cell": false,
   "toc_position": {
    "height": "calc(100% - 180px)",
    "left": "10px",
    "top": "150px",
    "width": "288px"
   },
   "toc_section_display": true,
   "toc_window_display": false
  }
 },
 "nbformat": 4,
 "nbformat_minor": 2
}
