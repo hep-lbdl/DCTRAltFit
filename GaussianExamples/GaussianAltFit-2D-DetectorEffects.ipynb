{
 "cells": [
  {
   "cell_type": "code",
   "execution_count": 1,
   "metadata": {},
   "outputs": [
    {
     "name": "stderr",
     "output_type": "stream",
     "text": [
      "Using TensorFlow backend.\n"
     ]
    }
   ],
   "source": [
    "# standard library imports\n",
    "from __future__ import absolute_import, division, print_function\n",
    "\n",
    "import tensorflow as tf\n",
    "import numpy as np\n",
    "from matplotlib import pyplot as plt\n",
    "from sklearn.utils import shuffle\n",
    "from sklearn.model_selection import train_test_split\n",
    "from keras.utils import to_categorical\n",
    "from keras import Sequential\n",
    "from keras.layers import Lambda, Dense, Input, Layer, Dropout\n",
    "from keras.models import Model\n",
    "from keras.utils import to_categorical\n",
    "from keras.callbacks import LambdaCallback, EarlyStopping\n",
    "import keras.backend as K\n",
    "import keras\n",
    "\n",
    "\n",
    "import inspect"
   ]
  },
  {
   "cell_type": "code",
   "execution_count": 2,
   "metadata": {
    "scrolled": true
   },
   "outputs": [
    {
     "name": "stdout",
     "output_type": "stream",
     "text": [
      "1.15.0\n",
      "2.2.4\n"
     ]
    }
   ],
   "source": [
    "#Check Versions\n",
    "print(tf.__version__) #1.15.0\n",
    "print(keras.__version__) #2.2.4"
   ]
  },
  {
   "cell_type": "markdown",
   "metadata": {},
   "source": [
    "# Alternative DCTR fitting algorithm\n",
    "\n",
    "The DCTR paper (https://arxiv.org/abs/1907.08209) shows how a continuously parameterized NN used for reweighting:\n",
    "\n",
    "$f(x,\\theta)=\\text{argmax}_{f'}(\\sum_{i\\in\\bf{\\theta}_0}\\log f'(x_i,\\theta)+\\sum_{i\\in\\bf{\\theta}}\\log (1-f'(x_i,\\theta)))$\n",
    "\n",
    "can also be used for fitting:\n",
    "\n",
    "$\\theta^*=\\text{argmax}_{\\theta'}(\\sum_{i\\in\\bf{\\theta}_0}\\log f(x_i,\\theta')+\\sum_{i\\in\\bf{\\theta}}\\log (1-f(x_i,\\theta')))$\n",
    "\n",
    "This works well when the reweighting and fitting happen on the same 'level'.  However, if the reweighting happens at truth level (before detector simulation) while the fit happens in data (after the effects of the detector), this procedure will not work.  It works only if the reweighting and fitting both happen at detector-level or both happen at truth-level.  This notebook illustrates an alternative procedure:\n",
    "\n",
    "$\\theta^*=\\text{argmax}_{\\theta'}\\text{min}_{g}(-\\sum_{i\\in\\bf{\\theta}_0}\\log g(x_i)-\\sum_{i\\in\\bf{\\theta}}(f(x_i,\\theta')/(1-f(x_i,\\theta')))\\log (1-g(x_i)))$\n",
    "\n",
    "where the $f(x,\\theta')/(1-f(x,\\theta'))$ is the reweighting function.  The intuition of the above equation is that the classifier $g$ is trying to distinguish the two samples and we try to find a $\\theta$ that makes $g$'s task maximally hard.  If $g$ can't tell apart the two samples, then the reweighting has worked!  This is similar to the minimax graining of a GAN, only now the analog of the generator network is the reweighting network which is fixed and thus the only trainable parameters are the $\\theta'$.  The advantage of this second approach is that it readily generalizes to the case where the reweighting happens on a different level:\n",
    "\n",
    "$\\theta^*=\\text{argmax}_{\\theta'}\\text{min}_{g}(-\\sum_{i\\in\\bf{\\theta}_0}\\log g(x_{D,i})-\\sum_{i\\in\\bf{\\theta}}\\frac{f(x_{T,i},\\theta')}{(1-f(x_{T,i},\\theta'))}\\log (1-g(x_{D,i})))$\n",
    "\n",
    "where $x_T$ is the truth value and $x_D$ is the detector-level value.  In simulation (the second sum), these come in pairs and so one can apply the reweighting on one level and the classification on the other.  Asympotitically, both this method and the one in the body of the DCTR paper learn the same result: $\\theta^*=\\theta_0$."
   ]
  },
  {
   "cell_type": "markdown",
   "metadata": {},
   "source": [
    "# Training a DCTR Model\n",
    "First, we need to train a DCTR model to provide us with a reweighting function to be used during fitting.\n",
    "This is taken directly from the first Gaussian Notebook."
   ]
  },
  {
   "cell_type": "markdown",
   "metadata": {},
   "source": [
    "We will now parametrize our network by giving it a $\\mu$ value in addition to $X_i\\sim\\mathcal{N}(\\mu, 1)$.\n",
    "\n",
    "First we uniformly sample $\\mu$ values in some range"
   ]
  },
  {
   "cell_type": "code",
   "execution_count": 3,
   "metadata": {},
   "outputs": [],
   "source": [
    "n_data_points = 10**6\n",
    "mu_min = -2\n",
    "mu_max = 2\n",
    "mu_values = np.random.uniform(mu_min, mu_max, n_data_points)\n",
    "\n",
    "sigma_min = 1/3\n",
    "sigma_max = 3\n",
    "sigma_values = np.random.uniform(sigma_min, sigma_max, n_data_points)"
   ]
  },
  {
   "cell_type": "markdown",
   "metadata": {},
   "source": [
    "We then sample from normal distributions with this $\\mu$ value"
   ]
  },
  {
   "cell_type": "code",
   "execution_count": 4,
   "metadata": {},
   "outputs": [],
   "source": [
    "X0 = [(np.random.normal(0, 1), mu_values[i], sigma_values[i]) for i in range(n_data_points)] # Note the zero in normal(0, 1) \n",
    "X1 = [(np.random.normal(mu_values[i], sigma_values[i]), mu_values[i], sigma_values[i]) for i in range(n_data_points)]"
   ]
  },
  {
   "cell_type": "markdown",
   "metadata": {},
   "source": []
  },
  {
   "cell_type": "markdown",
   "metadata": {},
   "source": [
    "Please note that the samples in X0 are not paired with $\\mu=0, \\sigma = 1$ as this would make the task trivial. \n",
    "\n",
    "Instead it is paired with the $\\mu, \\sigma$ values uniformly sampled in the specified range [mu_min, mu_max] and [sigma_min, sigma_max].\n",
    "\n",
    "For every value of $\\mu$ in mu_values and every value of $\\sigma$ in sigma_values, the network sees one event drawn from $\\mathcal{N}(0,1)$ and $\\mathcal{N}(\\mu,\\sigma)$, and it learns to classify them. \n",
    "\n",
    "I.e. we have one network that's parametrized by $\\mu$ and $\\sigma$ that classifies between events from $\\mathcal{N}(0,1)$ and $\\mathcal{N}(\\mu,\\sigma)$, and a trained network will give us the likelihood ratio to reweight from one to another. "
   ]
  },
  {
   "cell_type": "code",
   "execution_count": 5,
   "metadata": {},
   "outputs": [],
   "source": [
    "Y0 = to_categorical(np.zeros(n_data_points), num_classes=2)\n",
    "Y1 = to_categorical(np.ones(n_data_points), num_classes=2)\n",
    "\n",
    "X = np.concatenate((X0, X1))\n",
    "Y = np.concatenate((Y0, Y1))\n",
    "\n",
    "X_train, X_test, Y_train, Y_test = train_test_split(X, Y, test_size=0.2)"
   ]
  },
  {
   "cell_type": "markdown",
   "metadata": {},
   "source": [
    "## Build Model"
   ]
  },
  {
   "cell_type": "code",
   "execution_count": 6,
   "metadata": {},
   "outputs": [
    {
     "name": "stdout",
     "output_type": "stream",
     "text": [
      "WARNING:tensorflow:From /home/asuresh/.local/lib/python2.7/site-packages/keras/backend/tensorflow_backend.py:74: The name tf.get_default_graph is deprecated. Please use tf.compat.v1.get_default_graph instead.\n",
      "\n",
      "WARNING:tensorflow:From /home/asuresh/.local/lib/python2.7/site-packages/keras/backend/tensorflow_backend.py:517: The name tf.placeholder is deprecated. Please use tf.compat.v1.placeholder instead.\n",
      "\n",
      "WARNING:tensorflow:From /home/asuresh/.local/lib/python2.7/site-packages/keras/backend/tensorflow_backend.py:4138: The name tf.random_uniform is deprecated. Please use tf.random.uniform instead.\n",
      "\n",
      "WARNING:tensorflow:From /home/asuresh/.local/lib/python2.7/site-packages/keras/optimizers.py:790: The name tf.train.Optimizer is deprecated. Please use tf.compat.v1.train.Optimizer instead.\n",
      "\n",
      "WARNING:tensorflow:From /home/asuresh/.local/lib/python2.7/site-packages/keras/backend/tensorflow_backend.py:3295: The name tf.log is deprecated. Please use tf.math.log instead.\n",
      "\n"
     ]
    }
   ],
   "source": [
    "inputs = Input((3,))\n",
    "hidden_layer_1 = Dense(128, activation='relu')(inputs)\n",
    "hidden_layer_2 = Dense(128, activation='relu')(hidden_layer_1)\n",
    "hidden_layer_3 = Dense(128, activation='relu')(hidden_layer_2)\n",
    "outputs = Dense(2, activation='softmax')(hidden_layer_3)\n",
    "\n",
    "dctr_model = Model(inputs = inputs, outputs = outputs)\n",
    "dctr_model.compile(loss='categorical_crossentropy', optimizer='Adam')"
   ]
  },
  {
   "cell_type": "markdown",
   "metadata": {},
   "source": [
    "## Train DCTR model"
   ]
  },
  {
   "cell_type": "code",
   "execution_count": 7,
   "metadata": {
    "scrolled": true
   },
   "outputs": [
    {
     "name": "stdout",
     "output_type": "stream",
     "text": [
      "WARNING:tensorflow:From /home/asuresh/.local/lib/python2.7/site-packages/tensorflow_core/python/ops/math_grad.py:1424: where (from tensorflow.python.ops.array_ops) is deprecated and will be removed in a future version.\n",
      "Instructions for updating:\n",
      "Use tf.where in 2.0, which has the same broadcast rule as np.where\n",
      "WARNING:tensorflow:From /home/asuresh/.local/lib/python2.7/site-packages/keras/backend/tensorflow_backend.py:986: The name tf.assign_add is deprecated. Please use tf.compat.v1.assign_add instead.\n",
      "\n",
      "WARNING:tensorflow:From /home/asuresh/.local/lib/python2.7/site-packages/keras/backend/tensorflow_backend.py:973: The name tf.assign is deprecated. Please use tf.compat.v1.assign instead.\n",
      "\n",
      "WARNING:tensorflow:From /home/asuresh/.local/lib/python2.7/site-packages/keras/backend/tensorflow_backend.py:2741: The name tf.Session is deprecated. Please use tf.compat.v1.Session instead.\n",
      "\n",
      "Train on 1600000 samples, validate on 400000 samples\n",
      "Epoch 1/200\n",
      "WARNING:tensorflow:From /home/asuresh/.local/lib/python2.7/site-packages/keras/backend/tensorflow_backend.py:174: The name tf.get_default_session is deprecated. Please use tf.compat.v1.get_default_session instead.\n",
      "\n",
      "WARNING:tensorflow:From /home/asuresh/.local/lib/python2.7/site-packages/keras/backend/tensorflow_backend.py:181: The name tf.ConfigProto is deprecated. Please use tf.compat.v1.ConfigProto instead.\n",
      "\n",
      "WARNING:tensorflow:From /home/asuresh/.local/lib/python2.7/site-packages/keras/backend/tensorflow_backend.py:190: The name tf.global_variables is deprecated. Please use tf.compat.v1.global_variables instead.\n",
      "\n",
      "WARNING:tensorflow:From /home/asuresh/.local/lib/python2.7/site-packages/keras/backend/tensorflow_backend.py:199: The name tf.is_variable_initialized is deprecated. Please use tf.compat.v1.is_variable_initialized instead.\n",
      "\n",
      "WARNING:tensorflow:From /home/asuresh/.local/lib/python2.7/site-packages/keras/backend/tensorflow_backend.py:206: The name tf.variables_initializer is deprecated. Please use tf.compat.v1.variables_initializer instead.\n",
      "\n",
      "1600000/1600000 [==============================] - 5s 3us/step - loss: 0.5529 - val_loss: 0.5373\n",
      "Epoch 2/200\n",
      "1600000/1600000 [==============================] - 4s 2us/step - loss: 0.5349 - val_loss: 0.5366\n",
      "Epoch 3/200\n",
      "1600000/1600000 [==============================] - 3s 2us/step - loss: 0.5339 - val_loss: 0.5343\n",
      "Epoch 4/200\n",
      "1600000/1600000 [==============================] - 4s 2us/step - loss: 0.5333 - val_loss: 0.5344\n",
      "Epoch 5/200\n",
      "1600000/1600000 [==============================] - 4s 2us/step - loss: 0.5334 - val_loss: 0.5341\n",
      "Epoch 6/200\n",
      "1600000/1600000 [==============================] - 4s 2us/step - loss: 0.5332 - val_loss: 0.5342\n",
      "Epoch 7/200\n",
      "1600000/1600000 [==============================] - 4s 2us/step - loss: 0.5333 - val_loss: 0.5342\n",
      "Epoch 8/200\n",
      "1600000/1600000 [==============================] - 4s 2us/step - loss: 0.5332 - val_loss: 0.5343\n",
      "Epoch 9/200\n",
      "1600000/1600000 [==============================] - 4s 2us/step - loss: 0.5332 - val_loss: 0.5341\n",
      "Epoch 10/200\n",
      "1600000/1600000 [==============================] - 4s 2us/step - loss: 0.5331 - val_loss: 0.5343\n",
      "Epoch 11/200\n",
      "1600000/1600000 [==============================] - 4s 2us/step - loss: 0.5331 - val_loss: 0.5341\n",
      "Epoch 12/200\n",
      "1600000/1600000 [==============================] - 4s 2us/step - loss: 0.5331 - val_loss: 0.5343\n",
      "Epoch 13/200\n",
      "1600000/1600000 [==============================] - 4s 2us/step - loss: 0.5331 - val_loss: 0.5341\n",
      "Epoch 14/200\n",
      "1600000/1600000 [==============================] - 4s 2us/step - loss: 0.5330 - val_loss: 0.5341\n",
      "Epoch 15/200\n",
      "1600000/1600000 [==============================] - 4s 2us/step - loss: 0.5330 - val_loss: 0.5341\n"
     ]
    },
    {
     "data": {
      "text/plain": [
       "<keras.callbacks.History at 0x7fdad8986c90>"
      ]
     },
     "execution_count": 7,
     "metadata": {},
     "output_type": "execute_result"
    }
   ],
   "source": [
    "earlystopping = EarlyStopping(patience = 10,\n",
    "                              restore_best_weights=True)\n",
    "dctr_model.fit(X_train, Y_train, \n",
    "          epochs=200, \n",
    "          batch_size = 10000,\n",
    "          validation_data = (X_test, Y_test),\n",
    "          callbacks = [earlystopping])"
   ]
  },
  {
   "cell_type": "markdown",
   "metadata": {},
   "source": [
    "## Validate DCTR for any $\\mu$ and $\\sigma$"
   ]
  },
  {
   "cell_type": "code",
   "execution_count": 8,
   "metadata": {},
   "outputs": [],
   "source": [
    "mu1 = 1\n",
    "sigma1 = 1.5\n",
    "assert mu1>=mu_min and mu1<=mu_max # choose mu1 in valid range\n",
    "assert sigma1>=sigma_min and sigma1<=sigma_max # choose mu1 in valid range\n",
    "X0_val = np.random.normal(0, 1, n_data_points)\n",
    "X1_val = np.random.normal(mu1, sigma1, n_data_points)"
   ]
  },
  {
   "cell_type": "code",
   "execution_count": 9,
   "metadata": {},
   "outputs": [],
   "source": [
    "X_input = np.array([(x, mu1, 1.5) for x in X0_val])"
   ]
  },
  {
   "cell_type": "code",
   "execution_count": 10,
   "metadata": {},
   "outputs": [],
   "source": [
    "preds = dctr_model.predict(X_input)\n",
    "weights = preds[:,1]/preds[:,0]"
   ]
  },
  {
   "cell_type": "code",
   "execution_count": 11,
   "metadata": {},
   "outputs": [
    {
     "data": {
      "image/png": "[encoded data removed]",
      "text/plain": [
       "<Figure size 432x288 with 1 Axes>"
      ]
     },
     "metadata": {},
     "output_type": "display_data"
    }
   ],
   "source": [
    "bins = np.linspace(-6,5,31)\n",
    "plt.hist(X0_val, bins = bins, alpha = 0.5, label = r'$\\mu=0$, $\\sigma=1$')\n",
    "plt.hist(X0_val, bins = bins, label = r'$\\mu=0$, $\\sigma=1$ wgt.', weights=weights, histtype='step', color='k')\n",
    "plt.hist(X1_val, bins = bins, alpha = 0.5, label = r'$\\mu={}$, $\\sigma={}$'.format(mu1, sigma1))\n",
    "plt.legend()\n",
    "plt.show()"
   ]
  },
  {
   "cell_type": "markdown",
   "metadata": {},
   "source": [
    "# Saving Model"
   ]
  },
  {
   "cell_type": "code",
   "execution_count": 12,
   "metadata": {},
   "outputs": [
    {
     "data": {
      "text/plain": [
       "'\\nmodel_json = dctr_model.to_json()\\nwith open(\"dctr_model.json\", \"w\") as json_file:\\n    json_file.write(model_json)\\n# serialize weights to HDF5\\ndctr_model.save_weights(\"dctr_model.h5\")\\nprint(\"Saved model to disk\")\\n'"
      ]
     },
     "execution_count": 12,
     "metadata": {},
     "output_type": "execute_result"
    }
   ],
   "source": [
    "'''\n",
    "model_json = dctr_model.to_json()\n",
    "with open(\"dctr_model.json\", \"w\") as json_file:\n",
    "    json_file.write(model_json)\n",
    "# serialize weights to HDF5\n",
    "dctr_model.save_weights(\"dctr_model.h5\")\n",
    "print(\"Saved model to disk\")\n",
    "'''"
   ]
  },
  {
   "cell_type": "markdown",
   "metadata": {},
   "source": [
    "# Alternative Fit"
   ]
  },
  {
   "cell_type": "markdown",
   "metadata": {},
   "source": [
    "# Setup the dataset\n",
    "\n",
    "We'll show the new setup with a simple Gaussian example.  Let's start by setting up the dataset."
   ]
  },
  {
   "cell_type": "code",
   "execution_count": 13,
   "metadata": {},
   "outputs": [],
   "source": [
    "N = 10**6\n",
    "#param = (mu, sigma)\n",
    "theta0_param = (0,1) #this is the simulation ... N.B. this notation is reversed from above!\n",
    "theta1_param = (1.3,0.7) #this is the data (the target)\n",
    "\n",
    "epsilon =theta0_param[1]/2 #Smearing width\n",
    "\n",
    "theta0_T = np.random.normal(theta0_param[0],theta0_param[1],N)\n",
    "theta0_D = np.array([(x + np.random.normal(0, epsilon)) for x in theta0_T]) #Detector smearing\n",
    "theta0 = np.stack([theta0_T, theta0_D], axis = 1)\n",
    "\n",
    "theta1_T = np.random.normal(theta1_param[0],theta1_param[1],N)\n",
    "theta1_D = np.array([(x + np.random.normal(0, epsilon)) for x in theta1_T]) #Detector smearing\n",
    "theta1 = np.stack([theta1_T, theta0_D], axis = 1)"
   ]
  },
  {
   "cell_type": "code",
   "execution_count": 14,
   "metadata": {},
   "outputs": [
    {
     "data": {
      "image/png": "[encoded data removed]",
      "text/plain": [
       "<Figure size 432x288 with 1 Axes>"
      ]
     },
     "metadata": {},
     "output_type": "display_data"
    },
    {
     "data": {
      "image/png": "[encoded data removed]",
      "text/plain": [
       "<Figure size 432x288 with 1 Axes>"
      ]
     },
     "metadata": {},
     "output_type": "display_data"
    }
   ],
   "source": [
    "bins = np.linspace(-6,6,31)\n",
    "\n",
    "plt.figure()\n",
    "plt.title(\"2D Gaussian: Simulation\\n($\\mu$ = {:.2f}, $\\sigma$ = {:.2f}) w detector effects\".format(theta0_param[0], theta0_param[1]))\n",
    "plt.hist(theta0_T, bins = bins, alpha = 0.5, label = 'Truth')\n",
    "plt.hist(theta0_D, bins = bins, alpha = 0.5, label = 'Detector')\n",
    "plt.legend()\n",
    "#plt.savefig(\"2D Gaussian: Simulation ($\\mu$ = {:.2f}, $\\sigma$ = {:.2f}) w detector effects.png\".format(theta0_param[0], theta0_param[1]))\n",
    "plt.show()\n",
    "\n",
    "plt.figure()\n",
    "plt.title(\"2D Gaussian: Data\\n($\\mu$ = {:.2f}, $\\sigma$ = {:.2f}) w detector effects\".format(theta1_param[0], theta1_param[1]))\n",
    "plt.hist(theta1_T, bins = bins, alpha = 0.5, label = 'Truth')\n",
    "plt.hist(theta1_D, bins = bins, alpha = 0.5, label = 'Detector')\n",
    "plt.legend()\n",
    "#plt.savefig(\"2D Gaussian: Data ($\\mu$ = {:.2f}, $\\sigma$ = {:.2f}) w detector effects.png\".format(theta1_param[0], theta1_param[1]))\n",
    "plt.show()"
   ]
  },
  {
   "cell_type": "code",
   "execution_count": 15,
   "metadata": {},
   "outputs": [],
   "source": [
    "#'Erasing' Truth level for data, we can't actually observe this\n",
    "theta1 = np.stack([np.zeros_like(theta0_D), theta0_D], axis = 1)"
   ]
  },
  {
   "cell_type": "code",
   "execution_count": 16,
   "metadata": {},
   "outputs": [],
   "source": [
    "labels0 = np.zeros(len(theta0))\n",
    "labels1 = np.ones(len(theta1))\n",
    "\n",
    "xvals = np.concatenate([theta0_D,theta1_D])\n",
    "y_true = np.concatenate([labels0,labels1]) \n",
    "# 'hiding' truth level for simulation in model output (used in reweighting)\n",
    "truth_level = np.concatenate([theta0_T, theta1_T])\n",
    "yvals = np.stack([y_true, truth_level], axis = 1)\n",
    "\n",
    "X_train, X_test, y_train, y_test = train_test_split(xvals, yvals, test_size=0.5)"
   ]
  },
  {
   "cell_type": "markdown",
   "metadata": {},
   "source": [
    "# Fitting Model\n",
    "\n",
    "We'll start by showing that for fixed $\\theta$, the maximum loss occurs when $\\theta=\\theta_1$."
   ]
  },
  {
   "cell_type": "markdown",
   "metadata": {},
   "source": [
    "# Loading Model"
   ]
  },
  {
   "cell_type": "code",
   "execution_count": 17,
   "metadata": {},
   "outputs": [
    {
     "data": {
      "text/plain": [
       "'\\njson_file = open(\\'dctr_model.json\\', \\'r\\')\\nloaded_model_json = json_file.read()\\njson_file.close()\\ndctr_model = keras.models.model_from_json(loaded_model_json)\\n# load weights into new model\\ndctr_model.load_weights(\"2d_gaussian_dctr_model.h5\")\\nprint(\"Loaded model from disk\")\\n'"
      ]
     },
     "execution_count": 17,
     "metadata": {},
     "output_type": "execute_result"
    }
   ],
   "source": [
    "# load json and create model\n",
    "'''\n",
    "json_file = open('dctr_model.json', 'r')\n",
    "loaded_model_json = json_file.read()\n",
    "json_file.close()\n",
    "dctr_model = keras.models.model_from_json(loaded_model_json)\n",
    "# load weights into new model\n",
    "dctr_model.load_weights(\"2d_gaussian_dctr_model.h5\")\n",
    "print(\"Loaded model from disk\")\n",
    "'''\n"
   ]
  },
  {
   "cell_type": "markdown",
   "metadata": {},
   "source": [
    "# Defining reweighting functions\n",
    "\n",
    "$w(x_{T,i},\\theta)=((f(x_{T,i},\\theta)/(1-f(x_{T,i},\\theta)))$\n",
    "\n",
    "Takes observable from simulation ${\\bf \\theta_0}$ and weights it to observable from data (target) ${\\bf \\theta_1}$."
   ]
  },
  {
   "cell_type": "code",
   "execution_count": 18,
   "metadata": {},
   "outputs": [],
   "source": [
    "def reweight(d): #from NN (DCTR)\n",
    "    f = dctr_model(d)\n",
    "    weights = (f[:,1])/(f[:,0])\n",
    "    weights = K.expand_dims(weights, axis = 1)\n",
    "    return weights\n",
    "\n",
    "# analytical reweight currently only works for sigma = 1\n",
    "def analytical_reweight(d): #from analytical formula for normal distributions\n",
    "    events = d[:,0]\n",
    "    param = d[:,1]\n",
    "    weights = K.exp(-(0.5*(events-param)**2)+(0.5*(events-0.0)**2))\n",
    "    weights = K.expand_dims(weights, axis = 1)\n",
    "    return weights"
   ]
  },
  {
   "cell_type": "markdown",
   "metadata": {},
   "source": [
    "# Cross Section for $\\mu$"
   ]
  },
  {
   "cell_type": "code",
   "execution_count": 19,
   "metadata": {},
   "outputs": [
    {
     "name": "stdout",
     "output_type": "stream",
     "text": [
      "_________________________________________________________________\n",
      "Layer (type)                 Output Shape              Param #   \n",
      "=================================================================\n",
      "input_2 (InputLayer)         (None, 1)                 0         \n",
      "_________________________________________________________________\n",
      "dense_5 (Dense)              (None, 128)               256       \n",
      "_________________________________________________________________\n",
      "dense_6 (Dense)              (None, 128)               16512     \n",
      "_________________________________________________________________\n",
      "dense_7 (Dense)              (None, 1)                 129       \n",
      "=================================================================\n",
      "Total params: 16,897\n",
      "Trainable params: 16,897\n",
      "Non-trainable params: 0\n",
      "_________________________________________________________________\n"
     ]
    }
   ],
   "source": [
    "myinputs = Input(shape=(1,), dtype = tf.float32)\n",
    "x = Dense(128, activation='relu')(myinputs)\n",
    "x2 = Dense(128, activation='relu')(x)\n",
    "predictions = Dense(1, activation='sigmoid')(x2)\n",
    "          \n",
    "model = Model(inputs=myinputs, outputs=predictions)\n",
    "model.summary()\n",
    "batch_size = 500\n",
    "\n",
    "def my_loss_wrapper(val=0):\n",
    "    \n",
    "    def my_loss(y_true,y_pred):\n",
    "        y_true = tf.gather(y_true, np.arange(batch_size)) \n",
    "        y_labels = tf.gather(y_true, [0], axis = 1) #actual y_true for loss\n",
    "        x_T = tf.gather(y_true, [1], axis = 1) # sim truth for reweighting\n",
    "\n",
    "        theta_prime = [val, theta1_param[1]] #fixed theta_sigma = sigma_truth\n",
    "    \n",
    "        #creating tensor with same length as inputs, with theta_prime in every entry\n",
    "        concat_input_and_params = K.ones(shape = (x_T.shape[0], 2))*theta_prime\n",
    "        #combining and reshaping into correct format:\n",
    "        data = K.concatenate((x_T, concat_input_and_params), axis=-1)\n",
    "        \n",
    "        w = reweight(data) # NN reweight\n",
    "        \n",
    "        # analytical reweight currently only works for sigma = 1\n",
    "        # w = analytical_reweight(data) #functional analytical reweight\n",
    "    \n",
    "        # w = K.exp(-(0.5*(x-val)**2)+(0.5*(x-theta)**2)) #direct analytical reweight\n",
    "        \n",
    "        # Mean Squared Loss\n",
    "        t_loss = y_labels*(y_labels - y_pred)**2+(w)*(1.-y_labels)*(y_labels - y_pred)**2\n",
    "        # Categorical Cross-Entropy Loss\n",
    "        '''\n",
    "        #Clip the prediction value to prevent NaN's and Inf's\n",
    "        epsilon = K.epsilon()\n",
    "        y_pred = K.clip(y_pred, epsilon, 1. - epsilon)\n",
    "        \n",
    "        t_loss = -((y_labels)*K.log(y_pred) +w*(1-y_labels)*K.log(1-y_labels))\n",
    "        '''\n",
    "        return K.mean(t_loss)\n",
    "    return my_loss"
   ]
  },
  {
   "cell_type": "code",
   "execution_count": 20,
   "metadata": {
    "scrolled": false
   },
   "outputs": [
    {
     "name": "stdout",
     "output_type": "stream",
     "text": [
      "testing theta = : -2.0\n",
      "Train on 1000000 samples, validate on 1000000 samples\n",
      "Epoch 1/1\n",
      "1000000/1000000 [==============================] - 9s 9us/step - loss: 0.0233 - acc: 0.3396 - val_loss: 0.0222 - val_acc: 0.3391\n",
      "testing theta = : -1.75\n",
      "Train on 1000000 samples, validate on 1000000 samples\n",
      "Epoch 1/1\n",
      "1000000/1000000 [==============================] - 9s 9us/step - loss: 0.0301 - acc: 0.3467 - val_loss: 0.0304 - val_acc: 0.3445\n",
      "testing theta = : -1.5\n",
      "Train on 1000000 samples, validate on 1000000 samples\n",
      "Epoch 1/1\n",
      "1000000/1000000 [==============================] - 9s 9us/step - loss: 0.0400 - acc: 0.3538 - val_loss: 0.0403 - val_acc: 0.3536\n",
      "testing theta = : -1.25\n",
      "Train on 1000000 samples, validate on 1000000 samples\n",
      "Epoch 1/1\n",
      "1000000/1000000 [==============================] - 9s 9us/step - loss: 0.0522 - acc: 0.3601 - val_loss: 0.0525 - val_acc: 0.3608\n",
      "testing theta = : -1.0\n",
      "Train on 1000000 samples, validate on 1000000 samples\n",
      "Epoch 1/1\n",
      "1000000/1000000 [==============================] - 9s 9us/step - loss: 0.0676 - acc: 0.3658 - val_loss: 0.0679 - val_acc: 0.3656\n",
      "testing theta = : -0.75\n",
      "Train on 1000000 samples, validate on 1000000 samples\n",
      "Epoch 1/1\n",
      "1000000/1000000 [==============================] - 9s 9us/step - loss: 0.0856 - acc: 0.3702 - val_loss: 0.0859 - val_acc: 0.3693\n",
      "testing theta = : -0.5\n",
      "Train on 1000000 samples, validate on 1000000 samples\n",
      "Epoch 1/1\n",
      "1000000/1000000 [==============================] - 9s 9us/step - loss: 0.1055 - acc: 0.3730 - val_loss: 0.1060 - val_acc: 0.3718\n",
      "testing theta = : -0.25\n",
      "Train on 1000000 samples, validate on 1000000 samples\n",
      "Epoch 1/1\n",
      "1000000/1000000 [==============================] - 9s 9us/step - loss: 0.1284 - acc: 0.3745 - val_loss: 0.1288 - val_acc: 0.3737\n",
      "testing theta = : 0.0\n",
      "Train on 1000000 samples, validate on 1000000 samples\n",
      "Epoch 1/1\n",
      "1000000/1000000 [==============================] - 10s 10us/step - loss: 0.1527 - acc: 0.3743 - val_loss: 0.1533 - val_acc: 0.3736\n",
      "testing theta = : 0.25\n",
      "Train on 1000000 samples, validate on 1000000 samples\n",
      "Epoch 1/1\n",
      "1000000/1000000 [==============================] - 10s 10us/step - loss: 0.1771 - acc: 0.3727 - val_loss: 0.1775 - val_acc: 0.3716\n",
      "testing theta = : 0.5\n",
      "Train on 1000000 samples, validate on 1000000 samples\n",
      "Epoch 1/1\n",
      "1000000/1000000 [==============================] - 10s 10us/step - loss: 0.2014 - acc: 0.3699 - val_loss: 0.2020 - val_acc: 0.3708\n",
      "testing theta = : 0.75\n",
      "Train on 1000000 samples, validate on 1000000 samples\n",
      "Epoch 1/1\n",
      "1000000/1000000 [==============================] - 10s 10us/step - loss: 0.2229 - acc: 0.3663 - val_loss: 0.2237 - val_acc: 0.3673\n",
      "testing theta = : 1.0\n",
      "Train on 1000000 samples, validate on 1000000 samples\n",
      "Epoch 1/1\n",
      "1000000/1000000 [==============================] - 11s 11us/step - loss: 0.2390 - acc: 0.3617 - val_loss: 0.2397 - val_acc: 0.3631\n",
      "testing theta = : 1.25\n",
      "Train on 1000000 samples, validate on 1000000 samples\n",
      "Epoch 1/1\n",
      "1000000/1000000 [==============================] - 11s 11us/step - loss: 0.2464 - acc: 0.3642 - val_loss: 0.2471 - val_acc: 0.3646\n",
      "testing theta = : 1.5\n",
      "Train on 1000000 samples, validate on 1000000 samples\n",
      "Epoch 1/1\n",
      "1000000/1000000 [==============================] - 11s 11us/step - loss: 0.2422 - acc: 0.1764 - val_loss: 0.2428 - val_acc: 0.1793\n",
      "testing theta = : 1.75\n",
      "Train on 1000000 samples, validate on 1000000 samples\n",
      "Epoch 1/1\n",
      "1000000/1000000 [==============================] - 11s 11us/step - loss: 0.2294 - acc: 0.1773 - val_loss: 0.2300 - val_acc: 0.1714\n",
      "testing theta = : 2.0\n",
      "Train on 1000000 samples, validate on 1000000 samples\n",
      "Epoch 1/1\n",
      "1000000/1000000 [==============================] - 11s 11us/step - loss: 0.2114 - acc: 0.1847 - val_loss: 0.2124 - val_acc: 0.1924\n",
      "[[0.022212655801791697], [0.03036645080987364], [0.04034390186239034], [0.052500715645030144], [0.06793551010638475], [0.08593753235042095], [0.1060144102089107], [0.12881327195838094], [0.1532661357372999], [0.17753126008063555], [0.20204727122932672], [0.2236662449389696], [0.23973313741385938], [0.24705794598162173], [0.24277569980174302], [0.22995133697241546], [0.2124240088388324]]\n"
     ]
    }
   ],
   "source": [
    "thetas = np.linspace(-2,2,17)\n",
    "lvals = []\n",
    "\n",
    "\n",
    "for theta in thetas:\n",
    "    print(\"testing theta = :\", theta)\n",
    "    model.compile(optimizer='adam', loss=my_loss_wrapper(theta),metrics=['accuracy'])\n",
    "    model.fit(np.array(X_train), y_train, epochs=1, batch_size=500,validation_data=(np.array(X_test), y_test),verbose=1)\n",
    "    lvals+=[model.history.history['val_loss']]\n",
    "    print\n",
    "    pass\n",
    "print(lvals)"
   ]
  },
  {
   "cell_type": "code",
   "execution_count": 21,
   "metadata": {
    "scrolled": false
   },
   "outputs": [
    {
     "data": {
      "image/png": "[encoded data removed]",
      "text/plain": [
       "<Figure size 432x288 with 1 Axes>"
      ]
     },
     "metadata": {},
     "output_type": "display_data"
    }
   ],
   "source": [
    "plt.plot(thetas,lvals)\n",
    "plt.title(\"$\\mu$ Cross Section\\nFixed $\\sigma = \\sigma_{Truth}$\")\n",
    "plt.xlabel(r'$\\theta_{\\mu}$')\n",
    "plt.ylabel('Loss')\n",
    "plt.vlines(theta1_param[0], ymin = np.min(lvals), ymax = np.max(lvals), label = 'Truth')\n",
    "plt.legend()\n",
    "#plt.savefig(\"GaussianAltFit-2D-DetectorEffects-\\mu cross section.png\")\n",
    "plt.show()"
   ]
  },
  {
   "cell_type": "markdown",
   "metadata": {},
   "source": [
    "# Cross Section for $\\sigma$"
   ]
  },
  {
   "cell_type": "code",
   "execution_count": 22,
   "metadata": {},
   "outputs": [
    {
     "name": "stdout",
     "output_type": "stream",
     "text": [
      "_________________________________________________________________\n",
      "Layer (type)                 Output Shape              Param #   \n",
      "=================================================================\n",
      "input_3 (InputLayer)         (None, 1)                 0         \n",
      "_________________________________________________________________\n",
      "dense_8 (Dense)              (None, 128)               256       \n",
      "_________________________________________________________________\n",
      "dense_9 (Dense)              (None, 128)               16512     \n",
      "_________________________________________________________________\n",
      "dense_10 (Dense)             (None, 1)                 129       \n",
      "=================================================================\n",
      "Total params: 16,897\n",
      "Trainable params: 16,897\n",
      "Non-trainable params: 0\n",
      "_________________________________________________________________\n"
     ]
    }
   ],
   "source": [
    "myinputs = Input(shape=(1,), dtype = tf.float32)\n",
    "x = Dense(128, activation='relu')(myinputs)\n",
    "x2 = Dense(128, activation='relu')(x)\n",
    "predictions = Dense(1, activation='sigmoid')(x2)\n",
    "          \n",
    "model = Model(inputs=myinputs, outputs=predictions)\n",
    "model.summary()\n",
    "\n",
    "\n",
    "def my_loss_wrapper(val=0):\n",
    "    \n",
    "    def my_loss(y_true,y_pred):\n",
    "        y_true = tf.gather(y_true, np.arange(batch_size)) \n",
    "        y_labels = tf.gather(y_true, [0], axis = 1) #actual y_true for loss\n",
    "        x_T = tf.gather(y_true, [1], axis = 1) # sim truth for reweighting\n",
    "\n",
    "        theta_prime = [theta1_param[0], val] #fixed theta_mu = mu_truth\n",
    "    \n",
    "        #creating tensor with same length as inputs, with theta_prime in every entry\n",
    "        concat_input_and_params = K.ones(shape = (x_T.shape[0], 2))*theta_prime\n",
    "        #combining and reshaping into correct format:\n",
    "        data = K.concatenate((x_T, concat_input_and_params), axis=-1)\n",
    "        \n",
    "        w = reweight(data) # NN reweight\n",
    "        \n",
    "        # w = analytical_reweight(data) #functional analytical reweight\n",
    "    \n",
    "        # w = K.exp(-(0.5*(x-val)**2)+(0.5*(x-theta)**2)) #direct analytical reweight\n",
    "        \n",
    "        # Mean Squared Loss\n",
    "        t_loss = y_labels*(y_labels - y_pred)**2+(w)*(1.-y_labels)*(y_labels - y_pred)**2\n",
    "        \n",
    "        # Categorical Cross-Entropy Loss\n",
    "        '''\n",
    "        #Clip the prediction value to prevent NaN's and Inf's\n",
    "        epsilon = K.epsilon()\n",
    "        y_pred = K.clip(y_pred, epsilon, 1. - epsilon)\n",
    "        \n",
    "        t_loss = -((y_true)*K.log(y_pred) +w*(1-y_true)*K.log(1-y_pred))\n",
    "        '''\n",
    "        return K.mean(t_loss)\n",
    "    return my_loss"
   ]
  },
  {
   "cell_type": "code",
   "execution_count": 23,
   "metadata": {
    "scrolled": false
   },
   "outputs": [
    {
     "name": "stdout",
     "output_type": "stream",
     "text": [
      "testing theta = : 0.5\n",
      "Train on 1000000 samples, validate on 1000000 samples\n",
      "Epoch 1/1\n",
      "1000000/1000000 [==============================] - 11s 11us/step - loss: 0.2504 - acc: 0.1584 - val_loss: 0.2507 - val_acc: 0.1527\n",
      "testing theta = : 0.6\n",
      "Train on 1000000 samples, validate on 1000000 samples\n",
      "Epoch 1/1\n",
      "1000000/1000000 [==============================] - 12s 12us/step - loss: 0.2494 - acc: 0.1567 - val_loss: 0.2501 - val_acc: 0.1604\n",
      "testing theta = : 0.7\n",
      "Train on 1000000 samples, validate on 1000000 samples\n",
      "Epoch 1/1\n",
      "1000000/1000000 [==============================] - 11s 11us/step - loss: 0.2464 - acc: 0.2418 - val_loss: 0.2471 - val_acc: 0.2273\n",
      "testing theta = : 0.8\n",
      "Train on 1000000 samples, validate on 1000000 samples\n",
      "Epoch 1/1\n",
      "1000000/1000000 [==============================] - 12s 12us/step - loss: 0.2428 - acc: 0.3452 - val_loss: 0.2433 - val_acc: 0.3510\n",
      "testing theta = : 0.9\n",
      "Train on 1000000 samples, validate on 1000000 samples\n",
      "Epoch 1/1\n",
      "1000000/1000000 [==============================] - 12s 12us/step - loss: 0.2382 - acc: 0.3484 - val_loss: 0.2398 - val_acc: 0.3586\n",
      "testing theta = : 1.0\n",
      "Train on 1000000 samples, validate on 1000000 samples\n",
      "Epoch 1/1\n",
      "1000000/1000000 [==============================] - 12s 12us/step - loss: 0.2330 - acc: 0.3507 - val_loss: 0.2337 - val_acc: 0.3506\n",
      "testing theta = : 1.1\n",
      "Train on 1000000 samples, validate on 1000000 samples\n",
      "Epoch 1/1\n",
      "1000000/1000000 [==============================] - 12s 12us/step - loss: 0.2283 - acc: 0.3514 - val_loss: 0.2291 - val_acc: 0.3505\n",
      "testing theta = : 1.2000000000000002\n",
      "Train on 1000000 samples, validate on 1000000 samples\n",
      "Epoch 1/1\n",
      "1000000/1000000 [==============================] - 12s 12us/step - loss: 0.2246 - acc: 0.3507 - val_loss: 0.2257 - val_acc: 0.3557\n",
      "testing theta = : 1.3\n",
      "Train on 1000000 samples, validate on 1000000 samples\n",
      "Epoch 1/1\n",
      "1000000/1000000 [==============================] - 12s 12us/step - loss: 0.2208 - acc: 0.3508 - val_loss: 0.2217 - val_acc: 0.3526\n",
      "testing theta = : 1.4\n",
      "Train on 1000000 samples, validate on 1000000 samples\n",
      "Epoch 1/1\n",
      "1000000/1000000 [==============================] - 13s 13us/step - loss: 0.2170 - acc: 0.3501 - val_loss: 0.2181 - val_acc: 0.3531\n",
      "testing theta = : 1.5\n",
      "Train on 1000000 samples, validate on 1000000 samples\n",
      "Epoch 1/1\n",
      "1000000/1000000 [==============================] - 12s 12us/step - loss: 0.2131 - acc: 0.3497 - val_loss: 0.2138 - val_acc: 0.3471\n",
      "testing theta = : 1.6\n",
      "Train on 1000000 samples, validate on 1000000 samples\n",
      "Epoch 1/1\n",
      "1000000/1000000 [==============================] - 13s 13us/step - loss: 0.2090 - acc: 0.3494 - val_loss: 0.2099 - val_acc: 0.3476\n",
      "testing theta = : 1.7000000000000002\n",
      "Train on 1000000 samples, validate on 1000000 samples\n",
      "Epoch 1/1\n",
      "1000000/1000000 [==============================] - 13s 13us/step - loss: 0.2049 - acc: 0.3493 - val_loss: 0.2060 - val_acc: 0.3513\n",
      "testing theta = : 1.8\n",
      "Train on 1000000 samples, validate on 1000000 samples\n",
      "Epoch 1/1\n",
      "1000000/1000000 [==============================] - 13s 13us/step - loss: 0.2004 - acc: 0.3487 - val_loss: 0.2015 - val_acc: 0.3476\n",
      "testing theta = : 1.9000000000000001\n",
      "Train on 1000000 samples, validate on 1000000 samples\n",
      "Epoch 1/1\n",
      "1000000/1000000 [==============================] - 13s 13us/step - loss: 0.1958 - acc: 0.3487 - val_loss: 0.1966 - val_acc: 0.3487\n",
      "testing theta = : 2.0\n",
      "Train on 1000000 samples, validate on 1000000 samples\n",
      "Epoch 1/1\n",
      "1000000/1000000 [==============================] - 13s 13us/step - loss: 0.1912 - acc: 0.3479 - val_loss: 0.1921 - val_acc: 0.3483\n",
      "[[0.2506811048686504], [0.25011037969589234], [0.24705990190804006], [0.2433438412025571], [0.23978087799996137], [0.23369088272750377], [0.2291060791388154], [0.22573410300165414], [0.22168089996278287], [0.2181387152299285], [0.21384522026777267], [0.2098708753809333], [0.20603723416477443], [0.20146269121021032], [0.19663747634738685], [0.1920689911544323]]\n"
     ]
    }
   ],
   "source": [
    "thetas = np.linspace(0.5,2,16)\n",
    "lvals = []\n",
    "\n",
    "\n",
    "for theta in thetas:\n",
    "    print(\"testing theta = :\", theta)\n",
    "    model.compile(optimizer='adam', loss=my_loss_wrapper(theta),metrics=['accuracy'])\n",
    "    model.fit(np.array(X_train), y_train, epochs=1, batch_size=500,validation_data=(np.array(X_test), y_test),verbose=1)\n",
    "    lvals+=[model.history.history['val_loss']]\n",
    "    print\n",
    "    pass\n",
    "print(lvals)"
   ]
  },
  {
   "cell_type": "code",
   "execution_count": 24,
   "metadata": {
    "scrolled": false
   },
   "outputs": [
    {
     "data": {
      "image/png": "[encoded data removed]",
      "text/plain": [
       "<Figure size 432x288 with 1 Axes>"
      ]
     },
     "metadata": {},
     "output_type": "display_data"
    }
   ],
   "source": [
    "plt.plot(thetas,lvals)\n",
    "plt.title(\"$\\sigma$ Cross Section\\nFixed $\\mu = \\mu{Truth}$\")\n",
    "plt.xlabel(r'$\\theta_{\\sigma}$')\n",
    "plt.ylabel('Loss')\n",
    "plt.vlines(theta1_param[1], ymin = np.min(lvals), ymax = np.max(lvals), label = 'Truth')\n",
    "plt.legend()\n",
    "#plt.savefig(\"GaussianAltFit-2D-DetectorEffects-\\sigma cross section.png\")\n",
    "plt.show()"
   ]
  },
  {
   "cell_type": "markdown",
   "metadata": {},
   "source": [
    "# Creating Model"
   ]
  },
  {
   "cell_type": "markdown",
   "metadata": {},
   "source": [
    "Now, let's do the $\\theta$ and $g$ optimization together with a minimax setup."
   ]
  },
  {
   "cell_type": "markdown",
   "metadata": {},
   "source": [
    "# Building and Training Fitting Model"
   ]
  },
  {
   "cell_type": "code",
   "execution_count": 25,
   "metadata": {},
   "outputs": [],
   "source": [
    "print_weights = LambdaCallback(on_epoch_end=lambda batch,\n",
    "                               logs: print(\". theta fit = \",model_fit.layers[-1].get_weights()[-1]))\n",
    "theta_fit_init = [0, 1]\n",
    "fit_vals = [theta_fit_init]\n",
    "append_fit_value = LambdaCallback(on_epoch_end=lambda batch, logs: \n",
    "                                               fit_vals.append(model_fit.layers[-1].get_weights()[0]))\n",
    "\n",
    "callbacks = [print_weights, append_fit_value]"
   ]
  },
  {
   "cell_type": "code",
   "execution_count": 26,
   "metadata": {
    "scrolled": true
   },
   "outputs": [
    {
     "name": "stdout",
     "output_type": "stream",
     "text": [
      "_________________________________________________________________\n",
      "Layer (type)                 Output Shape              Param #   \n",
      "=================================================================\n",
      "input_4 (InputLayer)         (None, 1)                 0         \n",
      "_________________________________________________________________\n",
      "dense_11 (Dense)             (None, 128)               256       \n",
      "_________________________________________________________________\n",
      "dense_12 (Dense)             (None, 128)               16512     \n",
      "_________________________________________________________________\n",
      "dense_13 (Dense)             (None, 1)                 129       \n",
      "_________________________________________________________________\n",
      "lambda_1 (Lambda)            (None, 1)                 2         \n",
      "=================================================================\n",
      "Total params: 16,899\n",
      "Trainable params: 16,899\n",
      "Non-trainable params: 0\n",
      "_________________________________________________________________\n",
      "Epoch:  0\n",
      "Training g\n",
      "Train on 1000000 samples, validate on 1000000 samples\n",
      "Epoch 1/1\n",
      "1000000/1000000 [==============================] - 9s 9us/step - loss: 0.1811 - acc: 0.3676 - val_loss: 0.1688 - val_acc: 0.3731\n",
      ". theta fit =  [0. 1.]\n",
      "Training theta\n",
      "Train on 1000000 samples, validate on 1000000 samples\n",
      "Epoch 1/1\n",
      "1000000/1000000 [==============================] - 9s 9us/step - loss: -0.1736 - acc: 0.3738 - val_loss: -0.1780 - val_acc: 0.3731\n",
      ". theta fit =  [0.0853543 1.0751905]\n",
      "Epoch:  1\n",
      "Training g\n",
      "Train on 1000000 samples, validate on 1000000 samples\n",
      "Epoch 1/1\n",
      "1000000/1000000 [==============================] - 9s 9us/step - loss: 0.1768 - acc: 0.3743 - val_loss: 0.1775 - val_acc: 0.3736\n",
      ". theta fit =  [0.0853543 1.0751905]\n",
      "Training theta\n",
      "Train on 1000000 samples, validate on 1000000 samples\n",
      "Epoch 1/1\n",
      "1000000/1000000 [==============================] - 10s 10us/step - loss: -0.1823 - acc: 0.3744 - val_loss: -0.1867 - val_acc: 0.3736\n",
      ". theta fit =  [0.18221392 1.1478962 ]\n",
      "Epoch:  2\n",
      "Training g\n",
      "Train on 1000000 samples, validate on 1000000 samples\n",
      "Epoch 1/1\n",
      "1000000/1000000 [==============================] - 9s 9us/step - loss: 0.1851 - acc: 0.3742 - val_loss: 0.1857 - val_acc: 0.3734\n",
      ". theta fit =  [0.18221392 1.1478962 ]\n",
      "Training theta\n",
      "Train on 1000000 samples, validate on 1000000 samples\n",
      "Epoch 1/1\n",
      "1000000/1000000 [==============================] - 10s 10us/step - loss: -0.1893 - acc: 0.3742 - val_loss: -0.1928 - val_acc: 0.3734\n",
      ". theta fit =  [0.27864814 1.1954224 ]\n",
      "Epoch:  3\n",
      "Training g\n",
      "Train on 1000000 samples, validate on 1000000 samples\n",
      "Epoch 1/1\n",
      "1000000/1000000 [==============================] - 9s 9us/step - loss: 0.1911 - acc: 0.3740 - val_loss: 0.1916 - val_acc: 0.3736\n",
      ". theta fit =  [0.27864814 1.1954224 ]\n",
      "Training theta\n",
      "Train on 1000000 samples, validate on 1000000 samples\n",
      "Epoch 1/1\n",
      "1000000/1000000 [==============================] - 9s 9us/step - loss: -0.1944 - acc: 0.3743 - val_loss: -0.1974 - val_acc: 0.3736\n",
      ". theta fit =  [0.37707558 1.2134987 ]\n",
      "Epoch:  4\n",
      "Training g\n",
      "Train on 1000000 samples, validate on 1000000 samples\n",
      "Epoch 1/1\n",
      "1000000/1000000 [==============================] - 9s 9us/step - loss: 0.1960 - acc: 0.3740 - val_loss: 0.1966 - val_acc: 0.3735\n",
      ". theta fit =  [0.37707558 1.2134987 ]\n",
      "Training theta\n",
      "Train on 1000000 samples, validate on 1000000 samples\n",
      "Epoch 1/1\n",
      "1000000/1000000 [==============================] - 10s 10us/step - loss: -0.1991 - acc: 0.3742 - val_loss: -0.2021 - val_acc: 0.3735\n",
      ". theta fit =  [0.47490567 1.1787052 ]\n",
      "Epoch:  5\n",
      "Training g\n",
      "Train on 1000000 samples, validate on 1000000 samples\n",
      "Epoch 1/1\n",
      "1000000/1000000 [==============================] - 10s 10us/step - loss: 0.2011 - acc: 0.3741 - val_loss: 0.2018 - val_acc: 0.3733\n",
      ". theta fit =  [0.47490567 1.1787052 ]\n",
      "Training theta\n",
      "Train on 1000000 samples, validate on 1000000 samples\n",
      "Epoch 1/1\n",
      "1000000/1000000 [==============================] - 10s 10us/step - loss: -0.2046 - acc: 0.3740 - val_loss: -0.2079 - val_acc: 0.3733\n",
      ". theta fit =  [0.57255816 1.1139913 ]\n",
      "Epoch:  6\n",
      "Training g\n",
      "Train on 1000000 samples, validate on 1000000 samples\n",
      "Epoch 1/1\n",
      "1000000/1000000 [==============================] - 10s 10us/step - loss: 0.2069 - acc: 0.3739 - val_loss: 0.2078 - val_acc: 0.3733\n",
      ". theta fit =  [0.57255816 1.1139913 ]\n",
      "Training theta\n",
      "Train on 1000000 samples, validate on 1000000 samples\n",
      "Epoch 1/1\n",
      "1000000/1000000 [==============================] - 10s 10us/step - loss: -0.2110 - acc: 0.3742 - val_loss: -0.2146 - val_acc: 0.3733\n",
      ". theta fit =  [0.67065036 1.0429507 ]\n",
      "Epoch:  7\n",
      "Training g\n",
      "Train on 1000000 samples, validate on 1000000 samples\n",
      "Epoch 1/1\n",
      "1000000/1000000 [==============================] - 10s 10us/step - loss: 0.2134 - acc: 0.3735 - val_loss: 0.2143 - val_acc: 0.3717\n",
      ". theta fit =  [0.67065036 1.0429507 ]\n",
      "Training theta\n",
      "Train on 1000000 samples, validate on 1000000 samples\n",
      "Epoch 1/1\n",
      "1000000/1000000 [==============================] - 10s 10us/step - loss: -0.2180 - acc: 0.3727 - val_loss: -0.2219 - val_acc: 0.3717\n",
      ". theta fit =  [0.76888454 0.95145404]\n",
      "Epoch:  8\n",
      "Training g\n",
      "Train on 1000000 samples, validate on 1000000 samples\n",
      "Epoch 1/1\n",
      "1000000/1000000 [==============================] - 10s 10us/step - loss: 0.2209 - acc: 0.3732 - val_loss: 0.2217 - val_acc: 0.3726\n",
      ". theta fit =  [0.76888454 0.95145404]\n",
      "Training theta\n",
      "Train on 1000000 samples, validate on 1000000 samples\n",
      "Epoch 1/1\n",
      "1000000/1000000 [==============================] - 10s 10us/step - loss: -0.2250 - acc: 0.3734 - val_loss: -0.2289 - val_acc: 0.3726\n",
      ". theta fit =  [0.86548924 0.8685814 ]\n",
      "Epoch:  9\n",
      "Training g\n",
      "Train on 1000000 samples, validate on 1000000 samples\n",
      "Epoch 1/1\n",
      "1000000/1000000 [==============================] - 10s 10us/step - loss: 0.2275 - acc: 0.3728 - val_loss: 0.2283 - val_acc: 0.3720\n",
      ". theta fit =  [0.86548924 0.8685814 ]\n",
      "Training theta\n",
      "Train on 1000000 samples, validate on 1000000 samples\n",
      "Epoch 1/1\n",
      "1000000/1000000 [==============================] - 10s 10us/step - loss: -0.2322 - acc: 0.3729 - val_loss: -0.2366 - val_acc: 0.3720\n",
      ". theta fit =  [0.965047   0.77569443]\n",
      "Epoch:  10\n",
      "Training g\n",
      "Train on 1000000 samples, validate on 1000000 samples\n",
      "Epoch 1/1\n",
      "1000000/1000000 [==============================] - 10s 10us/step - loss: 0.2350 - acc: 0.3701 - val_loss: 0.2357 - val_acc: 0.3692\n",
      ". theta fit =  [0.965047   0.77569443]\n",
      "Training theta\n",
      "Train on 1000000 samples, validate on 1000000 samples\n",
      "Epoch 1/1\n",
      "1000000/1000000 [==============================] - 11s 11us/step - loss: -0.2400 - acc: 0.3698 - val_loss: -0.2444 - val_acc: 0.3692\n",
      ". theta fit =  [1.0626652 0.6844938]\n",
      "Epoch:  11\n",
      "Training g\n",
      "Train on 1000000 samples, validate on 1000000 samples\n",
      "Epoch 1/1\n",
      "1000000/1000000 [==============================] - 10s 10us/step - loss: 0.2423 - acc: 0.3593 - val_loss: 0.2430 - val_acc: 0.3557\n",
      ". theta fit =  [1.0626652 0.6844938]\n",
      "Training theta\n",
      "Train on 1000000 samples, validate on 1000000 samples\n",
      "Epoch 1/1\n",
      "1000000/1000000 [==============================] - 11s 11us/step - loss: -0.2468 - acc: 0.3557 - val_loss: -0.2504 - val_acc: 0.3557\n",
      ". theta fit =  [1.1567813 0.5978128]\n",
      "Epoch:  12\n",
      "Training g\n",
      "Train on 1000000 samples, validate on 1000000 samples\n",
      "Epoch 1/1\n",
      "1000000/1000000 [==============================] - 10s 10us/step - loss: 0.2483 - acc: 0.2500 - val_loss: 0.2488 - val_acc: 0.2422\n",
      ". theta fit =  [1.1567813 0.5978128]\n",
      "Training theta\n",
      "Train on 1000000 samples, validate on 1000000 samples\n",
      "Epoch 1/1\n",
      "1000000/1000000 [==============================] - 11s 11us/step - loss: -0.2502 - acc: 0.2418 - val_loss: -0.2524 - val_acc: 0.2422\n",
      ". theta fit =  [1.2422215  0.53730273]\n",
      "Epoch:  13\n",
      "Training g\n",
      "Train on 1000000 samples, validate on 1000000 samples\n",
      "Epoch 1/1\n",
      "1000000/1000000 [==============================] - 10s 10us/step - loss: 0.2502 - acc: 0.1834 - val_loss: 0.2508 - val_acc: 0.1706\n",
      ". theta fit =  [1.2422215  0.53730273]\n",
      "Training theta\n",
      "Train on 1000000 samples, validate on 1000000 samples\n",
      "Epoch 1/1\n",
      "1000000/1000000 [==============================] - 11s 11us/step - loss: -0.2502 - acc: 0.1703 - val_loss: -0.2509 - val_acc: 0.1706\n",
      ". theta fit =  [1.2637912 0.521704 ]\n",
      "Epoch:  14\n",
      "Training g\n",
      "Train on 1000000 samples, validate on 1000000 samples\n",
      "Epoch 1/1\n"
     ]
    },
    {
     "name": "stdout",
     "output_type": "stream",
     "text": [
      "1000000/1000000 [==============================] - 11s 11us/step - loss: 0.2502 - acc: 0.1700 - val_loss: 0.2508 - val_acc: 0.1640\n",
      ". theta fit =  [1.2637912 0.521704 ]\n",
      "Training theta\n",
      "Train on 1000000 samples, validate on 1000000 samples\n",
      "Epoch 1/1\n",
      "1000000/1000000 [==============================] - 11s 11us/step - loss: -0.2501 - acc: 0.1636 - val_loss: -0.2508 - val_acc: 0.1640\n",
      ". theta fit =  [1.2687122  0.52401286]\n",
      "Epoch:  15\n",
      "Training g\n",
      "Train on 1000000 samples, validate on 1000000 samples\n",
      "Epoch 1/1\n",
      "1000000/1000000 [==============================] - 11s 11us/step - loss: 0.2501 - acc: 0.1653 - val_loss: 0.2508 - val_acc: 0.1647\n",
      ". theta fit =  [1.2687122  0.52401286]\n",
      "Training theta\n",
      "Train on 1000000 samples, validate on 1000000 samples\n",
      "Epoch 1/1\n",
      "1000000/1000000 [==============================] - 11s 11us/step - loss: -0.2501 - acc: 0.1644 - val_loss: -0.2509 - val_acc: 0.1647\n",
      ". theta fit =  [1.2855867 0.5259864]\n",
      "Epoch:  16\n",
      "Training g\n",
      "Train on 1000000 samples, validate on 1000000 samples\n",
      "Epoch 1/1\n",
      "1000000/1000000 [==============================] - 11s 11us/step - loss: 0.2501 - acc: 0.1601 - val_loss: 0.2508 - val_acc: 0.1589\n",
      ". theta fit =  [1.2855867 0.5259864]\n",
      "Training theta\n",
      "Train on 1000000 samples, validate on 1000000 samples\n",
      "Epoch 1/1\n",
      "1000000/1000000 [==============================] - 11s 11us/step - loss: -0.2501 - acc: 0.1586 - val_loss: -0.2508 - val_acc: 0.1589\n",
      ". theta fit =  [1.2820785 0.5282717]\n",
      "Epoch:  17\n",
      "Training g\n",
      "Train on 1000000 samples, validate on 1000000 samples\n",
      "Epoch 1/1\n",
      "1000000/1000000 [==============================] - 11s 11us/step - loss: 0.2501 - acc: 0.1598 - val_loss: 0.2508 - val_acc: 0.1588\n",
      ". theta fit =  [1.2820785 0.5282717]\n",
      "Training theta\n",
      "Train on 1000000 samples, validate on 1000000 samples\n",
      "Epoch 1/1\n",
      "1000000/1000000 [==============================] - 12s 12us/step - loss: -0.2501 - acc: 0.1584 - val_loss: -0.2508 - val_acc: 0.1588\n",
      ". theta fit =  [1.279535  0.5240773]\n",
      "Epoch:  18\n",
      "Training g\n",
      "Train on 1000000 samples, validate on 1000000 samples\n",
      "Epoch 1/1\n",
      "1000000/1000000 [==============================] - 11s 11us/step - loss: 0.2501 - acc: 0.1600 - val_loss: 0.2509 - val_acc: 0.1627\n",
      ". theta fit =  [1.279535  0.5240773]\n",
      "Training theta\n",
      "Train on 1000000 samples, validate on 1000000 samples\n",
      "Epoch 1/1\n",
      "1000000/1000000 [==============================] - 12s 12us/step - loss: -0.2501 - acc: 0.1623 - val_loss: -0.2509 - val_acc: 0.1627\n",
      ". theta fit =  [1.2934713 0.5255246]\n",
      "Epoch:  19\n",
      "Training g\n",
      "Train on 1000000 samples, validate on 1000000 samples\n",
      "Epoch 1/1\n",
      "1000000/1000000 [==============================] - 11s 11us/step - loss: 0.2501 - acc: 0.1560 - val_loss: 0.2508 - val_acc: 0.1571\n",
      ". theta fit =  [1.2934713 0.5255246]\n",
      "Training theta\n",
      "Train on 1000000 samples, validate on 1000000 samples\n",
      "Epoch 1/1\n",
      "1000000/1000000 [==============================] - 12s 12us/step - loss: -0.2501 - acc: 0.1567 - val_loss: -0.2508 - val_acc: 0.1571\n",
      ". theta fit =  [1.2891645 0.5288603]\n",
      "Epoch:  20\n",
      "Training g\n",
      "Train on 1000000 samples, validate on 1000000 samples\n",
      "Epoch 1/1\n",
      "1000000/1000000 [==============================] - 11s 11us/step - loss: 0.2501 - acc: 0.1570 - val_loss: 0.2509 - val_acc: 0.1600\n",
      ". theta fit =  [1.2891645 0.5288603]\n",
      "Training theta\n",
      "Train on 1000000 samples, validate on 1000000 samples\n",
      "Epoch 1/1\n",
      "1000000/1000000 [==============================] - 12s 12us/step - loss: -0.2501 - acc: 0.1595 - val_loss: -0.2509 - val_acc: 0.1600\n",
      ". theta fit =  [1.300379   0.52684313]\n",
      "Epoch:  21\n",
      "Training g\n",
      "Train on 1000000 samples, validate on 1000000 samples\n",
      "Epoch 1/1\n",
      "1000000/1000000 [==============================] - 11s 11us/step - loss: 0.2501 - acc: 0.1552 - val_loss: 0.2508 - val_acc: 0.1571\n",
      ". theta fit =  [1.300379   0.52684313]\n",
      "Training theta\n",
      "Train on 1000000 samples, validate on 1000000 samples\n",
      "Epoch 1/1\n",
      "1000000/1000000 [==============================] - 12s 12us/step - loss: -0.2501 - acc: 0.1566 - val_loss: -0.2508 - val_acc: 0.1571\n",
      ". theta fit =  [1.2930471  0.52981204]\n",
      "Epoch:  22\n",
      "Training g\n",
      "Train on 1000000 samples, validate on 1000000 samples\n",
      "Epoch 1/1\n",
      "1000000/1000000 [==============================] - 11s 11us/step - loss: 0.2501 - acc: 0.1559 - val_loss: 0.2508 - val_acc: 0.1569\n",
      ". theta fit =  [1.2930471  0.52981204]\n",
      "Training theta\n",
      "Train on 1000000 samples, validate on 1000000 samples\n",
      "Epoch 1/1\n",
      "1000000/1000000 [==============================] - 12s 12us/step - loss: -0.2501 - acc: 0.1563 - val_loss: -0.2508 - val_acc: 0.1569\n",
      ". theta fit =  [1.283968   0.52701193]\n",
      "Epoch:  23\n",
      "Training g\n",
      "Train on 1000000 samples, validate on 1000000 samples\n",
      "Epoch 1/1\n",
      "1000000/1000000 [==============================] - 12s 12us/step - loss: 0.2501 - acc: 0.1578 - val_loss: 0.2508 - val_acc: 0.1598\n",
      ". theta fit =  [1.283968   0.52701193]\n",
      "Training theta\n",
      "Train on 1000000 samples, validate on 1000000 samples\n",
      "Epoch 1/1\n",
      "1000000/1000000 [==============================] - 12s 12us/step - loss: -0.2501 - acc: 0.1595 - val_loss: -0.2508 - val_acc: 0.1598\n",
      ". theta fit =  [1.2890451  0.53033435]\n",
      "Epoch:  24\n",
      "Training g\n",
      "Train on 1000000 samples, validate on 1000000 samples\n",
      "Epoch 1/1\n",
      "1000000/1000000 [==============================] - 12s 12us/step - loss: 0.2501 - acc: 0.1566 - val_loss: 0.2508 - val_acc: 0.1547\n",
      ". theta fit =  [1.2890451  0.53033435]\n",
      "Training theta\n",
      "Train on 1000000 samples, validate on 1000000 samples\n",
      "Epoch 1/1\n",
      "1000000/1000000 [==============================] - 12s 12us/step - loss: -0.2501 - acc: 0.1544 - val_loss: -0.2508 - val_acc: 0.1547\n",
      ". theta fit =  [1.2804617  0.52900183]\n",
      "Epoch:  25\n",
      "Training g\n",
      "Train on 1000000 samples, validate on 1000000 samples\n",
      "Epoch 1/1\n",
      "1000000/1000000 [==============================] - 12s 12us/step - loss: 0.2501 - acc: 0.1583 - val_loss: 0.2508 - val_acc: 0.1587\n",
      ". theta fit =  [1.2804617  0.52900183]\n",
      "Training theta\n",
      "Train on 1000000 samples, validate on 1000000 samples\n",
      "Epoch 1/1\n",
      "1000000/1000000 [==============================] - 13s 13us/step - loss: -0.2501 - acc: 0.1583 - val_loss: -0.2508 - val_acc: 0.1587\n",
      ". theta fit =  [1.2848872 0.5273338]\n",
      "Epoch:  26\n",
      "Training g\n",
      "Train on 1000000 samples, validate on 1000000 samples\n",
      "Epoch 1/1\n",
      "1000000/1000000 [==============================] - 12s 12us/step - loss: 0.2501 - acc: 0.1572 - val_loss: 0.2508 - val_acc: 0.1567\n",
      ". theta fit =  [1.2848872 0.5273338]\n",
      "Training theta\n",
      "Train on 1000000 samples, validate on 1000000 samples\n",
      "Epoch 1/1\n",
      "1000000/1000000 [==============================] - 13s 13us/step - loss: -0.2501 - acc: 0.1563 - val_loss: -0.2508 - val_acc: 0.1567\n",
      ". theta fit =  [1.2786027  0.53152806]\n",
      "Epoch:  27\n",
      "Training g\n",
      "Train on 1000000 samples, validate on 1000000 samples\n",
      "Epoch 1/1\n",
      "1000000/1000000 [==============================] - 12s 12us/step - loss: 0.2501 - acc: 0.1593 - val_loss: 0.2508 - val_acc: 0.1582\n",
      ". theta fit =  [1.2786027  0.53152806]\n",
      "Training theta\n",
      "Train on 1000000 samples, validate on 1000000 samples\n",
      "Epoch 1/1\n",
      "1000000/1000000 [==============================] - 13s 13us/step - loss: -0.2501 - acc: 0.1578 - val_loss: -0.2508 - val_acc: 0.1582\n",
      ". theta fit =  [1.279087  0.5315849]\n",
      "Epoch:  28\n",
      "Training g\n",
      "Train on 1000000 samples, validate on 1000000 samples\n",
      "Epoch 1/1\n",
      "1000000/1000000 [==============================] - 13s 13us/step - loss: 0.2501 - acc: 0.1587 - val_loss: 0.2508 - val_acc: 0.1595\n",
      ". theta fit =  [1.279087  0.5315849]\n",
      "Training theta\n",
      "Train on 1000000 samples, validate on 1000000 samples\n",
      "Epoch 1/1\n",
      "1000000/1000000 [==============================] - 13s 13us/step - loss: -0.2501 - acc: 0.1592 - val_loss: -0.2508 - val_acc: 0.1595\n",
      ". theta fit =  [1.2884531 0.5311689]\n",
      "Epoch:  29\n",
      "Training g\n",
      "Train on 1000000 samples, validate on 1000000 samples\n",
      "Epoch 1/1\n",
      "WARNING:tensorflow:From /home/asuresh/.local/lib/python2.7/site-packages/tensorflow_estimator/python/estimator/api/_v1/estimator/__init__.py:12: The name tf.estimator.inputs is deprecated. Please use tf.compat.v1.estimator.inputs instead.\n",
      "\n"
     ]
    },
    {
     "ename": "KeyboardInterrupt",
     "evalue": "",
     "output_type": "error",
     "traceback": [
      "\u001b[0;31m---------------------------------------------------------------------------\u001b[0m",
      "\u001b[0;31mKeyboardInterrupt\u001b[0m                         Traceback (most recent call last)",
      "\u001b[0;32m<ipython-input-26-b612b441e776>\u001b[0m in \u001b[0;36m<module>\u001b[0;34m()\u001b[0m\n\u001b[1;32m     67\u001b[0m     \u001b[0mmodel_fit\u001b[0m\u001b[0;34m.\u001b[0m\u001b[0mcompile\u001b[0m\u001b[0;34m(\u001b[0m\u001b[0moptimizer\u001b[0m\u001b[0;34m=\u001b[0m\u001b[0moptimizer\u001b[0m\u001b[0;34m,\u001b[0m \u001b[0mloss\u001b[0m\u001b[0;34m=\u001b[0m\u001b[0mmy_loss_wrapper_fit\u001b[0m\u001b[0;34m(\u001b[0m\u001b[0;36m1\u001b[0m\u001b[0;34m)\u001b[0m\u001b[0;34m,\u001b[0m\u001b[0mmetrics\u001b[0m\u001b[0;34m=\u001b[0m\u001b[0;34m[\u001b[0m\u001b[0;34m'accuracy'\u001b[0m\u001b[0;34m]\u001b[0m\u001b[0;34m)\u001b[0m\u001b[0;34m\u001b[0m\u001b[0m\n\u001b[1;32m     68\u001b[0m     \u001b[0;32mprint\u001b[0m\u001b[0;34m(\u001b[0m\u001b[0;34m\"Training g\"\u001b[0m\u001b[0;34m)\u001b[0m\u001b[0;34m\u001b[0m\u001b[0m\n\u001b[0;32m---> 69\u001b[0;31m     \u001b[0mmodel_fit\u001b[0m\u001b[0;34m.\u001b[0m\u001b[0mfit\u001b[0m\u001b[0;34m(\u001b[0m\u001b[0mnp\u001b[0m\u001b[0;34m.\u001b[0m\u001b[0marray\u001b[0m\u001b[0;34m(\u001b[0m\u001b[0mX_train\u001b[0m\u001b[0;34m)\u001b[0m\u001b[0;34m,\u001b[0m \u001b[0my_train\u001b[0m\u001b[0;34m,\u001b[0m \u001b[0mepochs\u001b[0m\u001b[0;34m=\u001b[0m\u001b[0;36m1\u001b[0m\u001b[0;34m,\u001b[0m \u001b[0mbatch_size\u001b[0m\u001b[0;34m=\u001b[0m\u001b[0mbatch_size\u001b[0m\u001b[0;34m,\u001b[0m\u001b[0mvalidation_data\u001b[0m\u001b[0;34m=\u001b[0m\u001b[0;34m(\u001b[0m\u001b[0mnp\u001b[0m\u001b[0;34m.\u001b[0m\u001b[0marray\u001b[0m\u001b[0;34m(\u001b[0m\u001b[0mX_test\u001b[0m\u001b[0;34m)\u001b[0m\u001b[0;34m,\u001b[0m \u001b[0my_test\u001b[0m\u001b[0;34m)\u001b[0m\u001b[0;34m,\u001b[0m\u001b[0mverbose\u001b[0m\u001b[0;34m=\u001b[0m\u001b[0;36m1\u001b[0m\u001b[0;34m,\u001b[0m\u001b[0mcallbacks\u001b[0m\u001b[0;34m=\u001b[0m\u001b[0mcallbacks\u001b[0m\u001b[0;34m)\u001b[0m\u001b[0;34m\u001b[0m\u001b[0m\n\u001b[0m\u001b[1;32m     70\u001b[0m \u001b[0;34m\u001b[0m\u001b[0m\n\u001b[1;32m     71\u001b[0m     \u001b[0;31m#Now, fix g and train \\theta.\u001b[0m\u001b[0;34m\u001b[0m\u001b[0;34m\u001b[0m\u001b[0m\n",
      "\u001b[0;32m/home/asuresh/.local/lib/python2.7/site-packages/keras/engine/training.pyc\u001b[0m in \u001b[0;36mfit\u001b[0;34m(self, x, y, batch_size, epochs, verbose, callbacks, validation_split, validation_data, shuffle, class_weight, sample_weight, initial_epoch, steps_per_epoch, validation_steps, **kwargs)\u001b[0m\n\u001b[1;32m   1037\u001b[0m                                         \u001b[0minitial_epoch\u001b[0m\u001b[0;34m=\u001b[0m\u001b[0minitial_epoch\u001b[0m\u001b[0;34m,\u001b[0m\u001b[0;34m\u001b[0m\u001b[0m\n\u001b[1;32m   1038\u001b[0m                                         \u001b[0msteps_per_epoch\u001b[0m\u001b[0;34m=\u001b[0m\u001b[0msteps_per_epoch\u001b[0m\u001b[0;34m,\u001b[0m\u001b[0;34m\u001b[0m\u001b[0m\n\u001b[0;32m-> 1039\u001b[0;31m                                         validation_steps=validation_steps)\n\u001b[0m\u001b[1;32m   1040\u001b[0m \u001b[0;34m\u001b[0m\u001b[0m\n\u001b[1;32m   1041\u001b[0m     def evaluate(self, x=None, y=None,\n",
      "\u001b[0;32m/home/asuresh/.local/lib/python2.7/site-packages/keras/engine/training_arrays.pyc\u001b[0m in \u001b[0;36mfit_loop\u001b[0;34m(model, f, ins, out_labels, batch_size, epochs, verbose, callbacks, val_f, val_ins, shuffle, callback_metrics, initial_epoch, steps_per_epoch, validation_steps)\u001b[0m\n\u001b[1;32m    197\u001b[0m                     \u001b[0mins_batch\u001b[0m\u001b[0;34m[\u001b[0m\u001b[0mi\u001b[0m\u001b[0;34m]\u001b[0m \u001b[0;34m=\u001b[0m \u001b[0mins_batch\u001b[0m\u001b[0;34m[\u001b[0m\u001b[0mi\u001b[0m\u001b[0;34m]\u001b[0m\u001b[0;34m.\u001b[0m\u001b[0mtoarray\u001b[0m\u001b[0;34m(\u001b[0m\u001b[0;34m)\u001b[0m\u001b[0;34m\u001b[0m\u001b[0m\n\u001b[1;32m    198\u001b[0m \u001b[0;34m\u001b[0m\u001b[0m\n\u001b[0;32m--> 199\u001b[0;31m                 \u001b[0mouts\u001b[0m \u001b[0;34m=\u001b[0m \u001b[0mf\u001b[0m\u001b[0;34m(\u001b[0m\u001b[0mins_batch\u001b[0m\u001b[0;34m)\u001b[0m\u001b[0;34m\u001b[0m\u001b[0m\n\u001b[0m\u001b[1;32m    200\u001b[0m                 \u001b[0mouts\u001b[0m \u001b[0;34m=\u001b[0m \u001b[0mto_list\u001b[0m\u001b[0;34m(\u001b[0m\u001b[0mouts\u001b[0m\u001b[0;34m)\u001b[0m\u001b[0;34m\u001b[0m\u001b[0m\n\u001b[1;32m    201\u001b[0m                 \u001b[0;32mfor\u001b[0m \u001b[0ml\u001b[0m\u001b[0;34m,\u001b[0m \u001b[0mo\u001b[0m \u001b[0;32min\u001b[0m \u001b[0mzip\u001b[0m\u001b[0;34m(\u001b[0m\u001b[0mout_labels\u001b[0m\u001b[0;34m,\u001b[0m \u001b[0mouts\u001b[0m\u001b[0;34m)\u001b[0m\u001b[0;34m:\u001b[0m\u001b[0;34m\u001b[0m\u001b[0m\n",
      "\u001b[0;32m/home/asuresh/.local/lib/python2.7/site-packages/keras/backend/tensorflow_backend.pyc\u001b[0m in \u001b[0;36m__call__\u001b[0;34m(self, inputs)\u001b[0m\n\u001b[1;32m   2695\u001b[0m \u001b[0;34m\u001b[0m\u001b[0m\n\u001b[1;32m   2696\u001b[0m     \u001b[0;32mdef\u001b[0m \u001b[0m__call__\u001b[0m\u001b[0;34m(\u001b[0m\u001b[0mself\u001b[0m\u001b[0;34m,\u001b[0m \u001b[0minputs\u001b[0m\u001b[0;34m)\u001b[0m\u001b[0;34m:\u001b[0m\u001b[0;34m\u001b[0m\u001b[0m\n\u001b[0;32m-> 2697\u001b[0;31m         \u001b[0;32mif\u001b[0m \u001b[0mhasattr\u001b[0m\u001b[0;34m(\u001b[0m\u001b[0mget_session\u001b[0m\u001b[0;34m(\u001b[0m\u001b[0;34m)\u001b[0m\u001b[0;34m,\u001b[0m \u001b[0;34m'_make_callable_from_options'\u001b[0m\u001b[0;34m)\u001b[0m\u001b[0;34m:\u001b[0m\u001b[0;34m\u001b[0m\u001b[0m\n\u001b[0m\u001b[1;32m   2698\u001b[0m             \u001b[0;32mif\u001b[0m \u001b[0mpy_any\u001b[0m\u001b[0;34m(\u001b[0m\u001b[0mis_sparse\u001b[0m\u001b[0;34m(\u001b[0m\u001b[0mx\u001b[0m\u001b[0;34m)\u001b[0m \u001b[0;32mfor\u001b[0m \u001b[0mx\u001b[0m \u001b[0;32min\u001b[0m \u001b[0mself\u001b[0m\u001b[0;34m.\u001b[0m\u001b[0minputs\u001b[0m\u001b[0;34m)\u001b[0m\u001b[0;34m:\u001b[0m\u001b[0;34m\u001b[0m\u001b[0m\n\u001b[1;32m   2699\u001b[0m                 \u001b[0;32mif\u001b[0m \u001b[0mpy_any\u001b[0m\u001b[0;34m(\u001b[0m\u001b[0mis_tensor\u001b[0m\u001b[0;34m(\u001b[0m\u001b[0mx\u001b[0m\u001b[0;34m)\u001b[0m \u001b[0;32mfor\u001b[0m \u001b[0mx\u001b[0m \u001b[0;32min\u001b[0m \u001b[0minputs\u001b[0m\u001b[0;34m)\u001b[0m\u001b[0;34m:\u001b[0m\u001b[0;34m\u001b[0m\u001b[0m\n",
      "\u001b[0;32m/home/asuresh/.local/lib/python2.7/site-packages/keras/backend/tensorflow_backend.pyc\u001b[0m in \u001b[0;36mget_session\u001b[0;34m()\u001b[0m\n\u001b[1;32m    197\u001b[0m                 \u001b[0;31m# not already marked as initialized.\u001b[0m\u001b[0;34m\u001b[0m\u001b[0;34m\u001b[0m\u001b[0m\n\u001b[1;32m    198\u001b[0m                 is_initialized = session.run(\n\u001b[0;32m--> 199\u001b[0;31m                     [tf.is_variable_initialized(v) for v in candidate_vars])\n\u001b[0m\u001b[1;32m    200\u001b[0m                 \u001b[0muninitialized_vars\u001b[0m \u001b[0;34m=\u001b[0m \u001b[0;34m[\u001b[0m\u001b[0;34m]\u001b[0m\u001b[0;34m\u001b[0m\u001b[0m\n\u001b[1;32m    201\u001b[0m                 \u001b[0;32mfor\u001b[0m \u001b[0mflag\u001b[0m\u001b[0;34m,\u001b[0m \u001b[0mv\u001b[0m \u001b[0;32min\u001b[0m \u001b[0mzip\u001b[0m\u001b[0;34m(\u001b[0m\u001b[0mis_initialized\u001b[0m\u001b[0;34m,\u001b[0m \u001b[0mcandidate_vars\u001b[0m\u001b[0;34m)\u001b[0m\u001b[0;34m:\u001b[0m\u001b[0;34m\u001b[0m\u001b[0m\n",
      "\u001b[0;32m/home/asuresh/.local/lib/python2.7/site-packages/tensorflow_core/python/client/session.pyc\u001b[0m in \u001b[0;36mrun\u001b[0;34m(self, fetches, feed_dict, options, run_metadata)\u001b[0m\n\u001b[1;32m    954\u001b[0m     \u001b[0;32mtry\u001b[0m\u001b[0;34m:\u001b[0m\u001b[0;34m\u001b[0m\u001b[0m\n\u001b[1;32m    955\u001b[0m       result = self._run(None, fetches, feed_dict, options_ptr,\n\u001b[0;32m--> 956\u001b[0;31m                          run_metadata_ptr)\n\u001b[0m\u001b[1;32m    957\u001b[0m       \u001b[0;32mif\u001b[0m \u001b[0mrun_metadata\u001b[0m\u001b[0;34m:\u001b[0m\u001b[0;34m\u001b[0m\u001b[0m\n\u001b[1;32m    958\u001b[0m         \u001b[0mproto_data\u001b[0m \u001b[0;34m=\u001b[0m \u001b[0mtf_session\u001b[0m\u001b[0;34m.\u001b[0m\u001b[0mTF_GetBuffer\u001b[0m\u001b[0;34m(\u001b[0m\u001b[0mrun_metadata_ptr\u001b[0m\u001b[0;34m)\u001b[0m\u001b[0;34m\u001b[0m\u001b[0m\n",
      "\u001b[0;32m/home/asuresh/.local/lib/python2.7/site-packages/tensorflow_core/python/client/session.pyc\u001b[0m in \u001b[0;36m_run\u001b[0;34m(self, handle, fetches, feed_dict, options, run_metadata)\u001b[0m\n\u001b[1;32m   1178\u001b[0m     \u001b[0;32mif\u001b[0m \u001b[0mfinal_fetches\u001b[0m \u001b[0;32mor\u001b[0m \u001b[0mfinal_targets\u001b[0m \u001b[0;32mor\u001b[0m \u001b[0;34m(\u001b[0m\u001b[0mhandle\u001b[0m \u001b[0;32mand\u001b[0m \u001b[0mfeed_dict_tensor\u001b[0m\u001b[0;34m)\u001b[0m\u001b[0;34m:\u001b[0m\u001b[0;34m\u001b[0m\u001b[0m\n\u001b[1;32m   1179\u001b[0m       results = self._do_run(handle, final_targets, final_fetches,\n\u001b[0;32m-> 1180\u001b[0;31m                              feed_dict_tensor, options, run_metadata)\n\u001b[0m\u001b[1;32m   1181\u001b[0m     \u001b[0;32melse\u001b[0m\u001b[0;34m:\u001b[0m\u001b[0;34m\u001b[0m\u001b[0m\n\u001b[1;32m   1182\u001b[0m       \u001b[0mresults\u001b[0m \u001b[0;34m=\u001b[0m \u001b[0;34m[\u001b[0m\u001b[0;34m]\u001b[0m\u001b[0;34m\u001b[0m\u001b[0m\n",
      "\u001b[0;32m/home/asuresh/.local/lib/python2.7/site-packages/tensorflow_core/python/client/session.pyc\u001b[0m in \u001b[0;36m_do_run\u001b[0;34m(self, handle, target_list, fetch_list, feed_dict, options, run_metadata)\u001b[0m\n\u001b[1;32m   1357\u001b[0m     \u001b[0;32mif\u001b[0m \u001b[0mhandle\u001b[0m \u001b[0;32mis\u001b[0m \u001b[0mNone\u001b[0m\u001b[0;34m:\u001b[0m\u001b[0;34m\u001b[0m\u001b[0m\n\u001b[1;32m   1358\u001b[0m       return self._do_call(_run_fn, feeds, fetches, targets, options,\n\u001b[0;32m-> 1359\u001b[0;31m                            run_metadata)\n\u001b[0m\u001b[1;32m   1360\u001b[0m     \u001b[0;32melse\u001b[0m\u001b[0;34m:\u001b[0m\u001b[0;34m\u001b[0m\u001b[0m\n\u001b[1;32m   1361\u001b[0m       \u001b[0;32mreturn\u001b[0m \u001b[0mself\u001b[0m\u001b[0;34m.\u001b[0m\u001b[0m_do_call\u001b[0m\u001b[0;34m(\u001b[0m\u001b[0m_prun_fn\u001b[0m\u001b[0;34m,\u001b[0m \u001b[0mhandle\u001b[0m\u001b[0;34m,\u001b[0m \u001b[0mfeeds\u001b[0m\u001b[0;34m,\u001b[0m \u001b[0mfetches\u001b[0m\u001b[0;34m)\u001b[0m\u001b[0;34m\u001b[0m\u001b[0m\n",
      "\u001b[0;32m/home/asuresh/.local/lib/python2.7/site-packages/tensorflow_core/python/client/session.pyc\u001b[0m in \u001b[0;36m_do_call\u001b[0;34m(self, fn, *args)\u001b[0m\n\u001b[1;32m   1363\u001b[0m   \u001b[0;32mdef\u001b[0m \u001b[0m_do_call\u001b[0m\u001b[0;34m(\u001b[0m\u001b[0mself\u001b[0m\u001b[0;34m,\u001b[0m \u001b[0mfn\u001b[0m\u001b[0;34m,\u001b[0m \u001b[0;34m*\u001b[0m\u001b[0margs\u001b[0m\u001b[0;34m)\u001b[0m\u001b[0;34m:\u001b[0m\u001b[0;34m\u001b[0m\u001b[0m\n\u001b[1;32m   1364\u001b[0m     \u001b[0;32mtry\u001b[0m\u001b[0;34m:\u001b[0m\u001b[0;34m\u001b[0m\u001b[0m\n\u001b[0;32m-> 1365\u001b[0;31m       \u001b[0;32mreturn\u001b[0m \u001b[0mfn\u001b[0m\u001b[0;34m(\u001b[0m\u001b[0;34m*\u001b[0m\u001b[0margs\u001b[0m\u001b[0;34m)\u001b[0m\u001b[0;34m\u001b[0m\u001b[0m\n\u001b[0m\u001b[1;32m   1366\u001b[0m     \u001b[0;32mexcept\u001b[0m \u001b[0merrors\u001b[0m\u001b[0;34m.\u001b[0m\u001b[0mOpError\u001b[0m \u001b[0;32mas\u001b[0m \u001b[0me\u001b[0m\u001b[0;34m:\u001b[0m\u001b[0;34m\u001b[0m\u001b[0m\n\u001b[1;32m   1367\u001b[0m       \u001b[0mmessage\u001b[0m \u001b[0;34m=\u001b[0m \u001b[0mcompat\u001b[0m\u001b[0;34m.\u001b[0m\u001b[0mas_text\u001b[0m\u001b[0;34m(\u001b[0m\u001b[0me\u001b[0m\u001b[0;34m.\u001b[0m\u001b[0mmessage\u001b[0m\u001b[0;34m)\u001b[0m\u001b[0;34m\u001b[0m\u001b[0m\n",
      "\u001b[0;32m/home/asuresh/.local/lib/python2.7/site-packages/tensorflow_core/python/client/session.pyc\u001b[0m in \u001b[0;36m_run_fn\u001b[0;34m(feed_dict, fetch_list, target_list, options, run_metadata)\u001b[0m\n\u001b[1;32m   1346\u001b[0m     \u001b[0;32mdef\u001b[0m \u001b[0m_run_fn\u001b[0m\u001b[0;34m(\u001b[0m\u001b[0mfeed_dict\u001b[0m\u001b[0;34m,\u001b[0m \u001b[0mfetch_list\u001b[0m\u001b[0;34m,\u001b[0m \u001b[0mtarget_list\u001b[0m\u001b[0;34m,\u001b[0m \u001b[0moptions\u001b[0m\u001b[0;34m,\u001b[0m \u001b[0mrun_metadata\u001b[0m\u001b[0;34m)\u001b[0m\u001b[0;34m:\u001b[0m\u001b[0;34m\u001b[0m\u001b[0m\n\u001b[1;32m   1347\u001b[0m       \u001b[0;31m# Ensure any changes to the graph are reflected in the runtime.\u001b[0m\u001b[0;34m\u001b[0m\u001b[0;34m\u001b[0m\u001b[0m\n\u001b[0;32m-> 1348\u001b[0;31m       \u001b[0mself\u001b[0m\u001b[0;34m.\u001b[0m\u001b[0m_extend_graph\u001b[0m\u001b[0;34m(\u001b[0m\u001b[0;34m)\u001b[0m\u001b[0;34m\u001b[0m\u001b[0m\n\u001b[0m\u001b[1;32m   1349\u001b[0m       return self._call_tf_sessionrun(options, feed_dict, fetch_list,\n\u001b[1;32m   1350\u001b[0m                                       target_list, run_metadata)\n",
      "\u001b[0;32m/home/asuresh/.local/lib/python2.7/site-packages/tensorflow_core/python/client/session.pyc\u001b[0m in \u001b[0;36m_extend_graph\u001b[0;34m(self)\u001b[0m\n\u001b[1;32m   1386\u001b[0m   \u001b[0;32mdef\u001b[0m \u001b[0m_extend_graph\u001b[0m\u001b[0;34m(\u001b[0m\u001b[0mself\u001b[0m\u001b[0;34m)\u001b[0m\u001b[0;34m:\u001b[0m\u001b[0;34m\u001b[0m\u001b[0m\n\u001b[1;32m   1387\u001b[0m     \u001b[0;32mwith\u001b[0m \u001b[0mself\u001b[0m\u001b[0;34m.\u001b[0m\u001b[0m_graph\u001b[0m\u001b[0;34m.\u001b[0m\u001b[0m_session_run_lock\u001b[0m\u001b[0;34m(\u001b[0m\u001b[0;34m)\u001b[0m\u001b[0;34m:\u001b[0m  \u001b[0;31m# pylint: disable=protected-access\u001b[0m\u001b[0;34m\u001b[0m\u001b[0m\n\u001b[0;32m-> 1388\u001b[0;31m       \u001b[0mtf_session\u001b[0m\u001b[0;34m.\u001b[0m\u001b[0mExtendSession\u001b[0m\u001b[0;34m(\u001b[0m\u001b[0mself\u001b[0m\u001b[0;34m.\u001b[0m\u001b[0m_session\u001b[0m\u001b[0;34m)\u001b[0m\u001b[0;34m\u001b[0m\u001b[0m\n\u001b[0m\u001b[1;32m   1389\u001b[0m \u001b[0;34m\u001b[0m\u001b[0m\n\u001b[1;32m   1390\u001b[0m   \u001b[0;31m# The threshold to run garbage collection to delete dead tensors.\u001b[0m\u001b[0;34m\u001b[0m\u001b[0;34m\u001b[0m\u001b[0m\n",
      "\u001b[0;31mKeyboardInterrupt\u001b[0m: "
     ]
    }
   ],
   "source": [
    "myinputs_fit = Input(shape=(1,))\n",
    "x_fit = Dense(128, activation='relu')(myinputs_fit)\n",
    "x2_fit = Dense(128, activation='relu')(x_fit)\n",
    "predictions_fit = Dense(1, activation='sigmoid')(x2_fit)\n",
    "identity = Lambda(lambda x: x + 0)(predictions_fit)\n",
    "\n",
    "model_fit = Model(inputs=myinputs_fit, outputs=identity)\n",
    "model_fit.layers[np.size(model_fit.layers)-1].add_weight(name=\"thetaX\",shape=(2,),\n",
    "                                                         initializer = keras.initializers.Constant(value = theta_fit_init),\n",
    "                                                         trainable=True)\n",
    "model_fit.summary()\n",
    "\n",
    "train_theta = False\n",
    "\n",
    "batch_size = 1000\n",
    "lr = 5e-5 #smaller learning rate yields better precision\n",
    "epochs = 400 #but requires more epochs to train\n",
    "optimizer = keras.optimizers.Adam(lr=lr)\n",
    "\n",
    "def my_loss_wrapper_fit(mysign = 1):\n",
    "    theta = 0. #starting value\n",
    "    #Getting theta0:\n",
    "    if train_theta == False:\n",
    "        theta_prime = model_fit.layers[-1].get_weights()[0] #when not training theta, fetch as np array \n",
    "    else:\n",
    "        theta_prime = model_fit.trainable_weights[-1] #when trainingn theta, fetch as tf.Variable\n",
    "    \n",
    "    def my_loss(y_true,y_pred):\n",
    "        y_true = tf.gather(y_true, np.arange(batch_size)) \n",
    "        y_labels = tf.gather(y_true, [0], axis = 1) #actual y_true for loss\n",
    "        x_T = tf.gather(y_true, [1], axis = 1) # sim truth for reweighting\n",
    "        \n",
    "        #creating tensor with same length as inputs, with theta_prime in every entry\n",
    "        concat_input_and_params = K.ones(shape = (x_T.shape[0], 2), dtype=tf.float32)*theta_prime\n",
    "        data = K.concatenate((x_T, concat_input_and_params), axis=-1)\n",
    "        \n",
    "        w = reweight(data) #NN reweight\n",
    "        \n",
    "        # ANALYTICAL REWEIGHT ONLY WORKS FOR SIGMA = 1 RIGHT NOW\n",
    "        #w = analytical_reweight(data) #functional analytical reweight\n",
    "    \n",
    "        #w = K.exp(-(0.5*(x-theta0)**2)+(0.5*(x-theta)**2)) #direct analytical reweight\n",
    "        # Mean Squared Loss\n",
    "        t_loss = mysign*(y_labels*(y_labels - y_pred)**2+(w)*(1.-y_labels)*(y_labels - y_pred)**2)\n",
    "        # Categorical Cross-Entropy Loss\n",
    "        \n",
    "        #Clip the prediction value to prevent NaN's and Inf's\n",
    "        \"\"\"epsilon = K.epsilon()\n",
    "        y_pred = K.clip(y_pred, epsilon, 1. - epsilon)\n",
    "        \n",
    "        t_loss = -mysign*((y_true)*K.log(y_pred) +w*(1-y_true)*K.log(1-y_pred))\"\"\"\n",
    "        \n",
    "        return K.mean(t_loss)\n",
    "    return my_loss\n",
    "    \n",
    "for k in range(epochs):    \n",
    "    print(\"Epoch: \",k )\n",
    "    for i in range(len(model_fit.layers)-1):\n",
    "        train_theta = False\n",
    "        model_fit.layers[i].trainable = True\n",
    "        pass\n",
    "    \n",
    "    train_theta = False\n",
    "    model_fit.layers[-1].trainable = False\n",
    "    #model.summary()    \n",
    "    \n",
    "    model_fit.compile(optimizer=optimizer, loss=my_loss_wrapper_fit(1),metrics=['accuracy'])\n",
    "    print(\"Training g\")\n",
    "    model_fit.fit(np.array(X_train), y_train, epochs=1, batch_size=batch_size,validation_data=(np.array(X_test), y_test),verbose=1,callbacks=callbacks)\n",
    "\n",
    "    #Now, fix g and train \\theta.\n",
    "\n",
    "    for i in range(len(model_fit.layers)-1):\n",
    "        model_fit.layers[i].trainable = False\n",
    "        pass    \n",
    "    train_theta = True\n",
    "    model_fit.layers[-1].trainable = True\n",
    "    model_fit.compile(optimizer=optimizer, loss=my_loss_wrapper_fit(-1),metrics=['accuracy'])\n",
    "    #model.summary()\n",
    "    print(\"Training theta\")\n",
    "    model_fit.fit(np.array(X_train), y_train, epochs=1, batch_size=batch_size,validation_data=(np.array(X_test), y_test),verbose=1,callbacks=callbacks)    \n",
    "    pass\n",
    "    "
   ]
  },
  {
   "cell_type": "code",
   "execution_count": 27,
   "metadata": {},
   "outputs": [
    {
     "data": {
      "image/png": "[encoded data removed]",
      "text/plain": [
       "<Figure size 432x288 with 1 Axes>"
      ]
     },
     "metadata": {},
     "output_type": "display_data"
    }
   ],
   "source": [
    "fit_vals = np.array(fit_vals)\n",
    "\n",
    "plt.plot(fit_vals[:,0], label='Model $\\mu$ Fit')\n",
    "plt.plot(fit_vals[:,1], label='Model $\\sigma$ Fit')\n",
    "plt.hlines(theta1_param[0], 0, len(fit_vals), label = '$\\mu_{Truth}$')\n",
    "plt.hlines(theta1_param[1], 0, len(fit_vals), label = '$\\sigma_{Truth}$')\n",
    "plt.xlabel(\"Epochs\")\n",
    "plt.ylabel(r'$\\theta_{fit}$')\n",
    "plt.legend()\n",
    "plt.title(\"GaussianAltFit-2D-Detector Effects E.g.4:\\n N = {:.0e}, learning rate = {:.0e}, Epochs = {:.0f}\".format(N, lr, len(fit_vals)))\n",
    "\n",
    "plt.savefig(\"GaussianAltFit-2D-Detector Effects eg4: N = {:.0e}, learning rate = {:.0e}, Epochs = {:.0f}.png\".format(N, lr, len(fit_vals)))\n",
    "plt.show()\n"
   ]
  },
  {
   "cell_type": "code",
   "execution_count": 36,
   "metadata": {},
   "outputs": [
    {
     "name": "stdout",
     "output_type": "stream",
     "text": [
      "1000000/1000000 [==============================] - 3s 3us/step\n",
      "[0.2719522885531187, 0.24994100038707256]\n",
      "^ ['loss', 'acc']\n"
     ]
    }
   ],
   "source": [
    "correct_weights = np.array([[theta1_param[0], theta1_param[1]]])\n",
    "\n",
    "model_fit.layers[-1].set_weights(correct_weights)\n",
    "print(model_fit.evaluate(x=X_train, y=y_test, batch_size = 1000))\n",
    "print(\"^\", model_fit.metrics_names)"
   ]
  },
  {
   "cell_type": "code",
   "execution_count": null,
   "metadata": {},
   "outputs": [],
   "source": []
  },
  {
   "cell_type": "code",
   "execution_count": null,
   "metadata": {},
   "outputs": [],
   "source": []
  },
  {
   "cell_type": "code",
   "execution_count": null,
   "metadata": {},
   "outputs": [],
   "source": []
  },
  {
   "cell_type": "code",
   "execution_count": null,
   "metadata": {},
   "outputs": [],
   "source": []
  },
  {
   "cell_type": "code",
   "execution_count": null,
   "metadata": {},
   "outputs": [],
   "source": []
  }
 ],
 "metadata": {
  "kernelspec": {
   "display_name": "Python 3",
   "language": "python",
   "name": "python3"
  },
  "language_info": {
   "codemirror_mode": {
    "name": "ipython",
    "version": 2
   },
   "file_extension": ".py",
   "mimetype": "text/x-python",
   "name": "python",
   "nbconvert_exporter": "python",
   "pygments_lexer": "ipython2",
   "version": "2.7.12"
  }
 },
 "nbformat": 4,
 "nbformat_minor": 2
}
