{
 "cells": [
  {
   "cell_type": "code",
   "execution_count": 1,
   "metadata": {},
   "outputs": [
    {
     "name": "stderr",
     "output_type": "stream",
     "text": [
      "Using TensorFlow backend.\n"
     ]
    }
   ],
   "source": [
    "# standard library imports\n",
    "from __future__ import absolute_import, division, print_function\n",
    "\n",
    "import tensorflow as tf\n",
    "import numpy as np\n",
    "from matplotlib import pyplot as plt\n",
    "from matplotlib.font_manager import FontProperties\n",
    "from sklearn.utils import shuffle\n",
    "from sklearn.model_selection import train_test_split\n",
    "from keras.utils import to_categorical\n",
    "from keras import Sequential\n",
    "from keras.layers import Lambda, Dense, Input, Layer, Dropout\n",
    "from keras.models import Model\n",
    "from keras.utils import to_categorical\n",
    "from keras.callbacks import LambdaCallback, EarlyStopping\n",
    "import keras.backend as K\n",
    "import keras\n",
    "\n",
    "import inspect\n",
    "\n",
    "fontP = FontProperties()\n",
    "fontP.set_size('small')"
   ]
  },
  {
   "cell_type": "code",
   "execution_count": 2,
   "metadata": {
    "scrolled": true
   },
   "outputs": [
    {
     "name": "stdout",
     "output_type": "stream",
     "text": [
      "1.15.0\n",
      "2.2.4\n"
     ]
    }
   ],
   "source": [
    "#Check Versions\n",
    "print(tf.__version__) #1.15.0\n",
    "print(keras.__version__) #2.2.4"
   ]
  },
  {
   "cell_type": "markdown",
   "metadata": {},
   "source": [
    "# Alternative DCTR fitting algorithm\n",
    "\n",
    "The DCTR paper (https://arxiv.org/abs/1907.08209) shows how a continuously parameterized NN used for reweighting:\n",
    "\n",
    "$f(x,\\theta)=\\text{argmax}_{f'}(\\sum_{i\\in\\bf{\\theta}_0}\\log f'(x_i,\\theta)+\\sum_{i\\in\\bf{\\theta}}\\log (1-f'(x_i,\\theta)))$\n",
    "\n",
    "can also be used for fitting:\n",
    "\n",
    "$\\theta^*=\\text{argmax}_{\\theta'}(\\sum_{i\\in\\bf{\\theta}_0}\\log f(x_i,\\theta')+\\sum_{i\\in\\bf{\\theta}}\\log (1-f(x_i,\\theta')))$\n",
    "\n",
    "This works well when the reweighting and fitting happen on the same 'level'.  However, if the reweighting happens at truth level (before detector simulation) while the fit happens in data (after the effects of the detector), this procedure will not work.  It works only if the reweighting and fitting both happen at detector-level or both happen at truth-level.  This notebook illustrates an alternative procedure:\n",
    "\n",
    "$\\theta^*=\\text{argmax}_{\\theta'}\\text{min}_{g}(-\\sum_{i\\in\\bf{\\theta}_0}\\log g(x_i)-\\sum_{i\\in\\bf{\\theta}}(f(x_i,\\theta')/(1-f(x_i,\\theta')))\\log (1-g(x_i)))$\n",
    "\n",
    "where the $f(x,\\theta')/(1-f(x,\\theta'))$ is the reweighting function.  The intuition of the above equation is that the classifier $g$ is trying to distinguish the two samples and we try to find a $\\theta$ that makes $g$'s task maximally hard.  If $g$ can't tell apart the two samples, then the reweighting has worked!  This is similar to the minimax graining of a GAN, only now the analog of the generator network is the reweighting network which is fixed and thus the only trainable parameters are the $\\theta'$.  The advantage of this second approach is that it readily generalizes to the case where the reweighting happens on a different level:\n",
    "\n",
    "$\\theta^*=\\text{argmax}_{\\theta'}\\text{min}_{g}(-\\sum_{i\\in\\bf{\\theta}_0}\\log g(x_{D,i})-\\sum_{i\\in\\bf{\\theta}}\\frac{f(x_{T,i},\\theta')}{(1-f(x_{T,i},\\theta'))}\\log (1-g(x_{D,i})))$\n",
    "\n",
    "where $x_T$ is the truth value and $x_D$ is the detector-level value.  In simulation (the second sum), these come in pairs and so one can apply the reweighting on one level and the classification on the other.  Asympotitically, both this method and the one in the body of the DCTR paper learn the same result: $\\theta^*=\\theta_0$."
   ]
  },
  {
   "cell_type": "markdown",
   "metadata": {},
   "source": [
    "# Training a DCTR Model\n",
    "First, we need to train a DCTR model to provide us with a reweighting function to be used during fitting.\n",
    "This is taken directly from the first Gaussian Notebook."
   ]
  },
  {
   "cell_type": "markdown",
   "metadata": {},
   "source": [
    "We will now parametrize our network by giving it $\\mu$ and $\\sigma$ values in addition to $X_i\\sim\\mathcal{N}(\\mu, \\sigma)$.\n",
    "\n",
    "First we uniformly sample $\\mu$ and $\\sigma$ values in some range"
   ]
  },
  {
   "cell_type": "code",
   "execution_count": 3,
   "metadata": {},
   "outputs": [],
   "source": [
    "n_data_points = 10**6\n",
    "mu_min = -2\n",
    "mu_max = 2\n",
    "mu_values = np.random.uniform(mu_min, mu_max, n_data_points)\n",
    "\n",
    "sigma_min = 1/3\n",
    "sigma_max = 3\n",
    "sigma_values = np.random.uniform(sigma_min, sigma_max, n_data_points)"
   ]
  },
  {
   "cell_type": "markdown",
   "metadata": {},
   "source": [
    "We then sample from normal distributions with these $\\mu$ and $\\sigma$ values."
   ]
  },
  {
   "cell_type": "code",
   "execution_count": 4,
   "metadata": {},
   "outputs": [],
   "source": [
    "X0 = [(np.random.normal(0, 1), mu_values[i], sigma_values[i]) for i in range(n_data_points)] # Note the zero in normal(0, 1) \n",
    "X1 = [(np.random.normal(mu_values[i], sigma_values[i]), mu_values[i], sigma_values[i]) for i in range(n_data_points)]"
   ]
  },
  {
   "cell_type": "markdown",
   "metadata": {},
   "source": [
    "Please note that the samples in X0 are not paired with $\\mu=0, \\sigma = 1$ as this would make the task trivial. \n",
    "\n",
    "Instead it is paired with the $\\mu, \\sigma$ values uniformly sampled in the specified range [$\\mu_{min}, \\mu_{max}$] and [$\\sigma_{min}, \\sigma_{max}$].\n",
    "\n",
    "For every value of $\\mu$ in mu_values and every value of $\\sigma$ in sigma_values, the network sees one event drawn from $\\mathcal{N}(0,1)$ and $\\mathcal{N}(\\mu,\\sigma)$, and it learns to classify them. \n",
    "\n",
    "I.e. we have one network that's parametrized by $\\mu$ and $\\sigma$ that classifies between events from $\\mathcal{N}(0,1)$ and $\\mathcal{N}(\\mu,\\sigma)$, and a trained network will give us the likelihood ratio to reweight from one to another. "
   ]
  },
  {
   "cell_type": "code",
   "execution_count": 5,
   "metadata": {},
   "outputs": [],
   "source": [
    "Y0 = to_categorical(np.zeros(n_data_points), num_classes=2)\n",
    "Y1 = to_categorical(np.ones(n_data_points), num_classes=2)\n",
    "\n",
    "X = np.concatenate((X0, X1))\n",
    "Y = np.concatenate((Y0, Y1))\n",
    "\n",
    "X_train, X_test, Y_train, Y_test = train_test_split(X, Y, test_size=0.2)"
   ]
  },
  {
   "cell_type": "markdown",
   "metadata": {},
   "source": [
    "## Build Model"
   ]
  },
  {
   "cell_type": "code",
   "execution_count": 6,
   "metadata": {},
   "outputs": [
    {
     "name": "stdout",
     "output_type": "stream",
     "text": [
      "WARNING:tensorflow:From /home/asuresh/.local/lib/python2.7/site-packages/keras/backend/tensorflow_backend.py:74: The name tf.get_default_graph is deprecated. Please use tf.compat.v1.get_default_graph instead.\n",
      "\n",
      "WARNING:tensorflow:From /home/asuresh/.local/lib/python2.7/site-packages/keras/backend/tensorflow_backend.py:517: The name tf.placeholder is deprecated. Please use tf.compat.v1.placeholder instead.\n",
      "\n",
      "WARNING:tensorflow:From /home/asuresh/.local/lib/python2.7/site-packages/keras/backend/tensorflow_backend.py:4138: The name tf.random_uniform is deprecated. Please use tf.random.uniform instead.\n",
      "\n",
      "WARNING:tensorflow:From /home/asuresh/.local/lib/python2.7/site-packages/keras/optimizers.py:790: The name tf.train.Optimizer is deprecated. Please use tf.compat.v1.train.Optimizer instead.\n",
      "\n",
      "WARNING:tensorflow:From /home/asuresh/.local/lib/python2.7/site-packages/keras/backend/tensorflow_backend.py:3295: The name tf.log is deprecated. Please use tf.math.log instead.\n",
      "\n"
     ]
    }
   ],
   "source": [
    "inputs = Input((3,))\n",
    "hidden_layer_1 = Dense(128, activation='relu')(inputs)\n",
    "hidden_layer_2 = Dense(128, activation='relu')(hidden_layer_1)\n",
    "hidden_layer_3 = Dense(128, activation='relu')(hidden_layer_2)\n",
    "outputs = Dense(2, activation='softmax')(hidden_layer_3)\n",
    "\n",
    "dctr_model = Model(inputs = inputs, outputs = outputs)\n",
    "dctr_model.compile(loss='categorical_crossentropy', optimizer='Adam')"
   ]
  },
  {
   "cell_type": "markdown",
   "metadata": {},
   "source": [
    "## Train DCTR model"
   ]
  },
  {
   "cell_type": "code",
   "execution_count": 7,
   "metadata": {
    "scrolled": true
   },
   "outputs": [
    {
     "name": "stdout",
     "output_type": "stream",
     "text": [
      "WARNING:tensorflow:From /home/asuresh/.local/lib/python2.7/site-packages/tensorflow_core/python/ops/math_grad.py:1424: where (from tensorflow.python.ops.array_ops) is deprecated and will be removed in a future version.\n",
      "Instructions for updating:\n",
      "Use tf.where in 2.0, which has the same broadcast rule as np.where\n",
      "WARNING:tensorflow:From /home/asuresh/.local/lib/python2.7/site-packages/keras/backend/tensorflow_backend.py:986: The name tf.assign_add is deprecated. Please use tf.compat.v1.assign_add instead.\n",
      "\n",
      "WARNING:tensorflow:From /home/asuresh/.local/lib/python2.7/site-packages/keras/backend/tensorflow_backend.py:973: The name tf.assign is deprecated. Please use tf.compat.v1.assign instead.\n",
      "\n",
      "WARNING:tensorflow:From /home/asuresh/.local/lib/python2.7/site-packages/keras/backend/tensorflow_backend.py:2741: The name tf.Session is deprecated. Please use tf.compat.v1.Session instead.\n",
      "\n",
      "Train on 1600000 samples, validate on 400000 samples\n",
      "Epoch 1/200\n",
      "WARNING:tensorflow:From /home/asuresh/.local/lib/python2.7/site-packages/keras/backend/tensorflow_backend.py:174: The name tf.get_default_session is deprecated. Please use tf.compat.v1.get_default_session instead.\n",
      "\n",
      "WARNING:tensorflow:From /home/asuresh/.local/lib/python2.7/site-packages/keras/backend/tensorflow_backend.py:181: The name tf.ConfigProto is deprecated. Please use tf.compat.v1.ConfigProto instead.\n",
      "\n",
      "WARNING:tensorflow:From /home/asuresh/.local/lib/python2.7/site-packages/keras/backend/tensorflow_backend.py:190: The name tf.global_variables is deprecated. Please use tf.compat.v1.global_variables instead.\n",
      "\n",
      "WARNING:tensorflow:From /home/asuresh/.local/lib/python2.7/site-packages/keras/backend/tensorflow_backend.py:199: The name tf.is_variable_initialized is deprecated. Please use tf.compat.v1.is_variable_initialized instead.\n",
      "\n",
      "WARNING:tensorflow:From /home/asuresh/.local/lib/python2.7/site-packages/keras/backend/tensorflow_backend.py:206: The name tf.variables_initializer is deprecated. Please use tf.compat.v1.variables_initializer instead.\n",
      "\n",
      "1600000/1600000 [==============================] - 5s 3us/step - loss: 0.5513 - val_loss: 0.5378\n",
      "Epoch 2/200\n",
      "1600000/1600000 [==============================] - 4s 2us/step - loss: 0.5352 - val_loss: 0.5338\n",
      "Epoch 3/200\n",
      "1600000/1600000 [==============================] - 4s 2us/step - loss: 0.5337 - val_loss: 0.5337\n",
      "Epoch 4/200\n",
      "1600000/1600000 [==============================] - 4s 2us/step - loss: 0.5336 - val_loss: 0.5334\n",
      "Epoch 5/200\n",
      "1600000/1600000 [==============================] - 4s 2us/step - loss: 0.5335 - val_loss: 0.5335\n",
      "Epoch 6/200\n",
      "1600000/1600000 [==============================] - 4s 2us/step - loss: 0.5335 - val_loss: 0.5335\n",
      "Epoch 7/200\n",
      "1600000/1600000 [==============================] - 4s 2us/step - loss: 0.5334 - val_loss: 0.5334\n",
      "Epoch 8/200\n",
      "1600000/1600000 [==============================] - 4s 2us/step - loss: 0.5335 - val_loss: 0.5340\n",
      "Epoch 9/200\n",
      "1600000/1600000 [==============================] - 4s 2us/step - loss: 0.5334 - val_loss: 0.5334\n",
      "Epoch 10/200\n",
      "1600000/1600000 [==============================] - 4s 2us/step - loss: 0.5334 - val_loss: 0.5335\n",
      "Epoch 11/200\n",
      "1600000/1600000 [==============================] - 4s 2us/step - loss: 0.5334 - val_loss: 0.5334\n",
      "Epoch 12/200\n",
      "1600000/1600000 [==============================] - 4s 2us/step - loss: 0.5334 - val_loss: 0.5334\n",
      "Epoch 13/200\n",
      "1600000/1600000 [==============================] - 4s 2us/step - loss: 0.5333 - val_loss: 0.5334\n",
      "Epoch 14/200\n",
      "1600000/1600000 [==============================] - 4s 2us/step - loss: 0.5332 - val_loss: 0.5335\n",
      "Epoch 15/200\n",
      "1600000/1600000 [==============================] - 4s 2us/step - loss: 0.5333 - val_loss: 0.5336\n",
      "Epoch 16/200\n",
      "1600000/1600000 [==============================] - 4s 2us/step - loss: 0.5332 - val_loss: 0.5336\n",
      "Epoch 17/200\n",
      "1600000/1600000 [==============================] - 4s 2us/step - loss: 0.5332 - val_loss: 0.5335\n",
      "Epoch 18/200\n",
      "1600000/1600000 [==============================] - 4s 2us/step - loss: 0.5333 - val_loss: 0.5337\n",
      "Epoch 19/200\n",
      "1600000/1600000 [==============================] - 4s 2us/step - loss: 0.5332 - val_loss: 0.5334\n",
      "Epoch 20/200\n",
      "1600000/1600000 [==============================] - 4s 2us/step - loss: 0.5332 - val_loss: 0.5334\n",
      "Epoch 21/200\n",
      "1600000/1600000 [==============================] - 4s 2us/step - loss: 0.5332 - val_loss: 0.5332\n",
      "Epoch 22/200\n",
      "1600000/1600000 [==============================] - 4s 2us/step - loss: 0.5332 - val_loss: 0.5333\n",
      "Epoch 23/200\n",
      "1600000/1600000 [==============================] - 4s 2us/step - loss: 0.5331 - val_loss: 0.5333\n",
      "Epoch 24/200\n",
      "1600000/1600000 [==============================] - 4s 2us/step - loss: 0.5332 - val_loss: 0.5334\n",
      "Epoch 25/200\n",
      "1600000/1600000 [==============================] - 3s 2us/step - loss: 0.5332 - val_loss: 0.5332\n",
      "Epoch 26/200\n",
      "1600000/1600000 [==============================] - 3s 2us/step - loss: 0.5332 - val_loss: 0.5333\n",
      "Epoch 27/200\n",
      "1600000/1600000 [==============================] - 3s 2us/step - loss: 0.5332 - val_loss: 0.5334\n",
      "Epoch 28/200\n",
      "1600000/1600000 [==============================] - 4s 2us/step - loss: 0.5332 - val_loss: 0.5333\n",
      "Epoch 29/200\n",
      "1600000/1600000 [==============================] - 3s 2us/step - loss: 0.5332 - val_loss: 0.5336\n",
      "Epoch 30/200\n",
      "1600000/1600000 [==============================] - 3s 2us/step - loss: 0.5332 - val_loss: 0.5332\n",
      "Epoch 31/200\n",
      "1600000/1600000 [==============================] - 3s 2us/step - loss: 0.5332 - val_loss: 0.5333\n",
      "Epoch 32/200\n",
      "1600000/1600000 [==============================] - 3s 2us/step - loss: 0.5332 - val_loss: 0.5335\n",
      "Epoch 33/200\n",
      "1600000/1600000 [==============================] - 4s 2us/step - loss: 0.5332 - val_loss: 0.5334\n",
      "Epoch 34/200\n",
      "1600000/1600000 [==============================] - 4s 2us/step - loss: 0.5331 - val_loss: 0.5336\n",
      "Epoch 35/200\n",
      "1600000/1600000 [==============================] - 4s 2us/step - loss: 0.5331 - val_loss: 0.5334\n"
     ]
    },
    {
     "data": {
      "text/plain": [
       "<keras.callbacks.History at 0x7fc36db76f50>"
      ]
     },
     "execution_count": 7,
     "metadata": {},
     "output_type": "execute_result"
    }
   ],
   "source": [
    "earlystopping = EarlyStopping(patience = 10,\n",
    "                              restore_best_weights=True)\n",
    "dctr_model.fit(X_train, Y_train, \n",
    "          epochs=200, \n",
    "          batch_size = 10000,\n",
    "          validation_data = (X_test, Y_test),\n",
    "          callbacks = [earlystopping])"
   ]
  },
  {
   "cell_type": "markdown",
   "metadata": {},
   "source": [
    "# Defining reweighting functions\n",
    "\n",
    "$w(x_{T,i},\\theta)=((f(x_{T,i},\\theta)/(1-f(x_{T,i},\\theta)))$\n",
    "\n",
    "Takes observable from simulation ${\\bf \\theta_0}$ and weights it to observable from data (target) ${\\bf \\theta_1}$."
   ]
  },
  {
   "cell_type": "code",
   "execution_count": 8,
   "metadata": {},
   "outputs": [],
   "source": [
    "theta0_param = (0, 1)\n",
    "\n",
    "def reweight(d): #from NN (DCTR)\n",
    "    f = dctr_model(d)\n",
    "    weights = (f[:,1])/(f[:,0])\n",
    "    weights = K.expand_dims(weights, axis = 1)\n",
    "    return weights\n",
    "\n",
    "# from analytical formula for normal distributions\n",
    "def analytical_reweight(events, mu1, sigma1, mu0 = theta0_param[0], sigma0 = theta0_param[1]): \n",
    "    weights = (sigma0/sigma1)*K.exp(-0.5*(((events-mu1)/sigma1)**2-((events-mu0)/sigma0)**2))\n",
    "    #weights = K.expand_dims(weights, axis = 1)\n",
    "    return weights"
   ]
  },
  {
   "cell_type": "markdown",
   "metadata": {},
   "source": [
    "## Validate DCTR for any $\\mu$ and $\\sigma$"
   ]
  },
  {
   "cell_type": "markdown",
   "metadata": {},
   "source": [
    "## Validate for Truth Level"
   ]
  },
  {
   "cell_type": "code",
   "execution_count": 9,
   "metadata": {},
   "outputs": [],
   "source": [
    "mu1 = 1.5\n",
    "sigma1 = 1.5\n",
    "assert mu1>=mu_min and mu1<=mu_max # choose mu1 in valid range\n",
    "assert sigma1>=sigma_min and sigma1<=sigma_max # choose mu1 in valid range\n",
    "X0_val_T = np.random.normal(0, 1, n_data_points)\n",
    "X1_val_T = np.random.normal(mu1, sigma1, n_data_points)"
   ]
  },
  {
   "cell_type": "code",
   "execution_count": 10,
   "metadata": {},
   "outputs": [],
   "source": [
    "X_input = np.array([(x, mu1, sigma1) for x in X0_val_T])"
   ]
  },
  {
   "cell_type": "code",
   "execution_count": 11,
   "metadata": {},
   "outputs": [],
   "source": [
    "weights = reweight(tf.convert_to_tensor(X_input, dtype = tf.float32))\n",
    "analytical_weights = analytical_reweight(X0_val_T, mu1, sigma1)\n",
    "weights = K.eval(weights)\n",
    "analytical_weights = K.eval(analytical_weights)"
   ]
  },
  {
   "cell_type": "code",
   "execution_count": 12,
   "metadata": {},
   "outputs": [
    {
     "data": {
      "image/png": "[encoded data removed]",
      "text/plain": [
       "<Figure size 432x288 with 1 Axes>"
      ]
     },
     "metadata": {},
     "output_type": "display_data"
    }
   ],
   "source": [
    "bins = np.linspace(-6,6,31)\n",
    "plt.hist(X0_val_T, bins = bins, alpha = 0.5, label = r'$\\mu=0$, $\\sigma=1$')\n",
    "plt.hist(X0_val_T, bins = bins, label = r'$\\mu=0$, $\\sigma=1$ NN wgt.',\n",
    "         weights=weights, histtype='step', color='k')\n",
    "plt.hist(X0_val_T, bins = bins, label = r'$\\mu=0$, $\\sigma=1$ analytical wgt.',\n",
    "         weights=analytical_weights, histtype='step', linestyle = '--',color='k')\n",
    "plt.hist(X1_val_T, bins = bins, alpha = 0.5, label = r'$\\mu={}$, $\\sigma={}$'.format(mu1, sigma1))\n",
    "plt.legend()\n",
    "plt.title(\"Truth Level: Reweighting\")\n",
    "plt.show()"
   ]
  },
  {
   "cell_type": "markdown",
   "metadata": {},
   "source": [
    "## Validate for Detector Level"
   ]
  },
  {
   "cell_type": "code",
   "execution_count": 13,
   "metadata": {},
   "outputs": [],
   "source": [
    "# Generate detector level by smearing truth\n",
    "\n",
    "epsilon_val =0.5  #Smearing width\n",
    "\n",
    "X0_val_D = np.array([(x + np.random.normal(0, epsilon_val)) for x in X0_val_T]) #Detector smearing\n",
    "X1_val_D = np.array([(x + np.random.normal(0, epsilon_val)) for x in X1_val_T]) #Detector smearing"
   ]
  },
  {
   "cell_type": "code",
   "execution_count": 14,
   "metadata": {},
   "outputs": [
    {
     "name": "stderr",
     "output_type": "stream",
     "text": [
      "/usr/local/lib/python2.7/dist-packages/matplotlib/figure.py:459: UserWarning: matplotlib is currently using a non-GUI backend, so cannot show the figure\n",
      "  \"matplotlib is currently using a non-GUI backend, \"\n"
     ]
    },
    {
     "data": {
      "image/png": "[encoded data removed]",
      "text/plain": [
       "<Figure size 432x288 with 2 Axes>"
      ]
     },
     "metadata": {},
     "output_type": "display_data"
    }
   ],
   "source": [
    "fig, axs = plt.subplots(1, 2, sharey= True,  constrained_layout=True)\n",
    "fig.suptitle('Detector Smearing')\n",
    "axs[0].set_title('$\\mu=0$, $\\sigma=1$')\n",
    "axs[0].hist(X0_val_T, bins = bins, alpha = 0.5, label = 'TRUTH')\n",
    "axs[0].hist(X0_val_D, bins = bins, alpha = 0.5, label = 'DETECTOR')\n",
    "axs[0].legend(prop = fontP)\n",
    "axs[1].set_title('$\\mu={}$, $\\sigma={}$'.format(mu1, sigma1))\n",
    "axs[1].hist(X1_val_T, bins = bins, alpha = 0.5, label = 'TRUTH:')\n",
    "axs[1].hist(X1_val_D, bins = bins, alpha = 0.5, label = 'DETECTOR')\n",
    "axs[1].legend(prop = fontP)\n",
    "fig.show()"
   ]
  },
  {
   "cell_type": "code",
   "execution_count": 15,
   "metadata": {},
   "outputs": [
    {
     "data": {
      "image/png": "[encoded data removed]",
      "text/plain": [
       "<Figure size 432x288 with 1 Axes>"
      ]
     },
     "metadata": {},
     "output_type": "display_data"
    }
   ],
   "source": [
    "bins = np.linspace(-6,6,31)\n",
    "plt.hist(X0_val_D, bins = bins, alpha = 0.5, label = r'$\\mu=0$, $\\sigma=1$')\n",
    "plt.hist(X0_val_D, bins = bins, label = r'$\\mu=0$, $\\sigma=1$ NN wgt.',\n",
    "         weights=weights, histtype='step', color='k')\n",
    "plt.hist(X0_val_D, bins = bins, label = r'$\\mu=0$, $\\sigma=1$ analytical wgt.',\n",
    "         weights=analytical_weights, histtype='step', linestyle = '--',color='k')\n",
    "plt.hist(X1_val_D, bins = bins, alpha = 0.5, label = r'$\\mu={}$, $\\sigma={}$'.format(mu1, sigma1))\n",
    "plt.legend()\n",
    "plt.title(\"Detector Level: Reweighting\")\n",
    "plt.savefig(\"Detector Level: Reweighting E.g. 2.png\")\n",
    "plt.show()"
   ]
  },
  {
   "cell_type": "markdown",
   "metadata": {},
   "source": [
    "# Saving Model"
   ]
  },
  {
   "cell_type": "code",
   "execution_count": 16,
   "metadata": {},
   "outputs": [
    {
     "data": {
      "text/plain": [
       "'\\nmodel_json = dctr_model.to_json()\\nwith open(\"2d_gaussian_dctr_model.json\", \"w\") as json_file:\\n    json_file.write(model_json)\\n# serialize weights to HDF5\\ndctr_model.save_weights(\"2d_gaussian_dctr_model.h5\")\\nprint(\"Saved model to disk\")\\n'"
      ]
     },
     "execution_count": 16,
     "metadata": {},
     "output_type": "execute_result"
    }
   ],
   "source": [
    "'''\n",
    "model_json = dctr_model.to_json()\n",
    "with open(\"2d_gaussian_dctr_model.json\", \"w\") as json_file:\n",
    "    json_file.write(model_json)\n",
    "# serialize weights to HDF5\n",
    "dctr_model.save_weights(\"2d_gaussian_dctr_model.h5\")\n",
    "print(\"Saved model to disk\")\n",
    "'''"
   ]
  },
  {
   "cell_type": "markdown",
   "metadata": {},
   "source": [
    "# Alternative Fit"
   ]
  },
  {
   "cell_type": "markdown",
   "metadata": {},
   "source": [
    "# Setup the dataset\n",
    "\n",
    "We'll show the new setup with a simple Gaussian example.  Let's start by setting up the dataset."
   ]
  },
  {
   "cell_type": "markdown",
   "metadata": {},
   "source": [
    "To apply detector effects, each event $x_{T,i}$in the sample is smeared by shifting by $Z_{i}$ from $Z = \\mathcal{N}(0,\\epsilon)$,where $\\epsilon$ represents the smearing. Thus: $x_{D,i} = x_{T,i} + Z_{i}$"
   ]
  },
  {
   "cell_type": "code",
   "execution_count": 17,
   "metadata": {},
   "outputs": [],
   "source": [
    "N = 10**6\n",
    "#param = (mu, sigma)\n",
    "theta0_param = (0,1) #this is the simulation ... N.B. this notation is reversed from above!\n",
    "theta1_param = (1,1.5) #this is the data (the target)\n",
    "\n",
    "epsilon =theta0_param[1]/2 #Smearing width\n",
    "\n",
    "theta0_T = np.random.normal(theta0_param[0],theta0_param[1],N)\n",
    "theta0_D = np.array([(x + np.random.normal(0, epsilon)) for x in theta0_T]) #Detector smearing\n",
    "theta0 = np.stack([theta0_T, theta0_D], axis = 1)\n",
    "\n",
    "theta1_T = np.random.normal(theta1_param[0],theta1_param[1],N)\n",
    "theta1_D = np.array([(x + np.random.normal(0, epsilon)) for x in theta1_T]) #Detector smearing\n",
    "theta1 = np.stack([theta1_T, theta0_D], axis = 1)"
   ]
  },
  {
   "cell_type": "code",
   "execution_count": 18,
   "metadata": {},
   "outputs": [
    {
     "data": {
      "image/png": "[encoded data removed]",
      "text/plain": [
       "<Figure size 432x288 with 2 Axes>"
      ]
     },
     "metadata": {},
     "output_type": "display_data"
    }
   ],
   "source": [
    "bins = np.linspace(-6,6,31)\n",
    "\n",
    "fig, axs = plt.subplots(1, 2, sharey= True,  constrained_layout=True)\n",
    "fig.suptitle('2D Gaussian Fit (Detector Effects)')\n",
    "\n",
    "axs[0].set_title(\"Simulation\\n($\\mu$ = {:.2f}, $\\sigma$ = {:.2f})\".format(theta0_param[0], theta0_param[1]))\n",
    "axs[0].hist(theta0_T, bins = bins, alpha = 0.5, label = 'Truth')\n",
    "axs[0].hist(theta0_D, bins = bins, alpha = 0.5, label = 'Detector')\n",
    "axs[0].legend()\n",
    "\n",
    "axs[1].set_title(\"Data\\n($\\mu$ = {:.2f}, $\\sigma$ = {:.2f})\".format(theta1_param[0], theta1_param[1]))\n",
    "axs[1].hist(theta1_T, bins = bins, alpha = 0.5, label = 'Truth')\n",
    "axs[1].hist(theta1_D, bins = bins, alpha = 0.5, label = 'Detector')\n",
    "axs[1].legend()\n",
    "\n",
    "#fig.savefig(\"2D Gaussian: Data ($\\mu$ = {:.2f}, $\\sigma$ = {:.2f}) w detector effects.png\".format(theta1_param[0], theta1_param[1]))\n",
    "fig.show()"
   ]
  },
  {
   "cell_type": "code",
   "execution_count": 19,
   "metadata": {},
   "outputs": [],
   "source": [
    "#'Erasing' Truth level for data, we can't actually observe this\n",
    "theta1 = np.stack([np.zeros_like(theta0_D), theta0_D], axis = 1)"
   ]
  },
  {
   "cell_type": "code",
   "execution_count": 20,
   "metadata": {},
   "outputs": [],
   "source": [
    "labels0 = np.zeros(len(theta0))\n",
    "labels1 = np.ones(len(theta1))\n",
    "\n",
    "xvals = np.concatenate([theta0_D,theta1_D])\n",
    "y_true = np.concatenate([labels0,labels1]) \n",
    "# 'hiding' truth level for simulation in model output (used in reweighting)\n",
    "truth_level = np.concatenate([theta0_T, theta1_T])\n",
    "yvals = np.stack([y_true, truth_level], axis = 1)\n",
    "\n",
    "X_train, X_test, y_train, y_test = train_test_split(xvals, yvals, test_size=0.5)"
   ]
  },
  {
   "cell_type": "markdown",
   "metadata": {},
   "source": [
    "# Fitting Model\n",
    "\n",
    "We'll start by showing that for fixed $\\theta$, the maximum loss occurs when $\\theta=\\theta_1$."
   ]
  },
  {
   "cell_type": "markdown",
   "metadata": {},
   "source": [
    "# Loading Model"
   ]
  },
  {
   "cell_type": "code",
   "execution_count": 21,
   "metadata": {},
   "outputs": [
    {
     "data": {
      "text/plain": [
       "'\\njson_file = open(\\'2d_gaussian_dctr_model.json\\', \\'r\\')\\nloaded_model_json = json_file.read()\\njson_file.close()\\ndctr_model = keras.models.model_from_json(loaded_model_json)\\n# load weights into new model\\ndctr_model.load_weights(\"2d_gaussian_dctr_model.h5\")\\nprint(\"Loaded model from disk\")\\n'"
      ]
     },
     "execution_count": 21,
     "metadata": {},
     "output_type": "execute_result"
    }
   ],
   "source": [
    "# load json and create model\n",
    "'''\n",
    "json_file = open('2d_gaussian_dctr_model.json', 'r')\n",
    "loaded_model_json = json_file.read()\n",
    "json_file.close()\n",
    "dctr_model = keras.models.model_from_json(loaded_model_json)\n",
    "# load weights into new model\n",
    "dctr_model.load_weights(\"2d_gaussian_dctr_model.h5\")\n",
    "print(\"Loaded model from disk\")\n",
    "'''\n"
   ]
  },
  {
   "cell_type": "code",
   "execution_count": 22,
   "metadata": {},
   "outputs": [],
   "source": [
    "# Change to True for analytical_reweight\n",
    "\n",
    "reweight_analytically = False"
   ]
  },
  {
   "cell_type": "markdown",
   "metadata": {},
   "source": [
    "# Cross Section for $\\mu$"
   ]
  },
  {
   "cell_type": "code",
   "execution_count": 23,
   "metadata": {},
   "outputs": [
    {
     "name": "stdout",
     "output_type": "stream",
     "text": [
      "_________________________________________________________________\n",
      "Layer (type)                 Output Shape              Param #   \n",
      "=================================================================\n",
      "input_2 (InputLayer)         (None, 1)                 0         \n",
      "_________________________________________________________________\n",
      "dense_5 (Dense)              (None, 128)               256       \n",
      "_________________________________________________________________\n",
      "dense_6 (Dense)              (None, 128)               16512     \n",
      "_________________________________________________________________\n",
      "dense_7 (Dense)              (None, 1)                 129       \n",
      "=================================================================\n",
      "Total params: 16,897\n",
      "Trainable params: 16,897\n",
      "Non-trainable params: 0\n",
      "_________________________________________________________________\n"
     ]
    }
   ],
   "source": [
    "myinputs = Input(shape=(1,), dtype = tf.float32)\n",
    "x = Dense(128, activation='relu')(myinputs)\n",
    "x2 = Dense(128, activation='relu')(x)\n",
    "predictions = Dense(1, activation='sigmoid')(x2)\n",
    "          \n",
    "model = Model(inputs=myinputs, outputs=predictions)\n",
    "model.summary()\n",
    "batch_size = 500\n",
    "\n",
    "def my_loss_wrapper(val=0):\n",
    "    \n",
    "    def my_loss(y_true,y_pred):\n",
    "        y_true = tf.gather(y_true, np.arange(batch_size)) \n",
    "        y_labels = tf.gather(y_true, [0], axis = 1) #actual y_true for loss\n",
    "        x_T = tf.gather(y_true, [1], axis = 1) # sim truth for reweighting\n",
    "\n",
    "        theta_prime = [val, theta1_param[1]] #fixed theta_sigma = sigma_truth\n",
    "    \n",
    "        #creating tensor with same length as inputs, with theta_prime in every entry\n",
    "        concat_input_and_params = K.ones(shape = (x_T.shape[0], 2))*theta_prime\n",
    "        #combining and reshaping into correct format:\n",
    "        data = K.concatenate((x_T, concat_input_and_params), axis=-1)\n",
    "        \n",
    "        if reweight_analytically == False: #NN reweight\n",
    "            w = reweight(data)\n",
    "        else: # analytical reweight\n",
    "            w = analytical_reweight(events = x_T, \n",
    "                                    mu1 = theta_prime[0], \n",
    "                                    sigma1 = theta_prime[1]) \n",
    "        \n",
    "        # Mean Squared Loss\n",
    "        t_loss = y_labels*(y_labels - y_pred)**2+(w)*(1.-y_labels)*(y_labels - y_pred)**2\n",
    "        # Categorical Cross-Entropy Loss\n",
    "        '''\n",
    "        #Clip the prediction value to prevent NaN's and Inf's\n",
    "        epsilon = K.epsilon()\n",
    "        y_pred = K.clip(y_pred, epsilon, 1. - epsilon)\n",
    "        \n",
    "        t_loss = -((y_labels)*K.log(y_pred) +w*(1-y_labels)*K.log(1-y_labels))\n",
    "        '''\n",
    "        return K.mean(t_loss)\n",
    "    return my_loss"
   ]
  },
  {
   "cell_type": "code",
   "execution_count": 24,
   "metadata": {
    "scrolled": true
   },
   "outputs": [
    {
     "name": "stdout",
     "output_type": "stream",
     "text": [
      "testing theta = : -2.0\n",
      "Train on 1000000 samples, validate on 1000000 samples\n",
      "Epoch 1/1\n",
      "1000000/1000000 [==============================] - 9s 9us/step - loss: 0.1202 - acc: 0.2885 - val_loss: 0.1197 - val_acc: 0.2873\n",
      "testing theta = : -1.75\n",
      "Train on 1000000 samples, validate on 1000000 samples\n",
      "Epoch 1/1\n",
      "1000000/1000000 [==============================] - 9s 9us/step - loss: 0.1313 - acc: 0.2925 - val_loss: 0.1314 - val_acc: 0.2915\n",
      "testing theta = : -1.5\n",
      "Train on 1000000 samples, validate on 1000000 samples\n",
      "Epoch 1/1\n",
      "1000000/1000000 [==============================] - 10s 10us/step - loss: 0.1436 - acc: 0.2974 - val_loss: 0.1438 - val_acc: 0.2974\n",
      "testing theta = : -1.25\n",
      "Train on 1000000 samples, validate on 1000000 samples\n",
      "Epoch 1/1\n",
      "1000000/1000000 [==============================] - 10s 10us/step - loss: 0.1571 - acc: 0.3024 - val_loss: 0.1574 - val_acc: 0.3001\n",
      "testing theta = : -1.0\n",
      "Train on 1000000 samples, validate on 1000000 samples\n",
      "Epoch 1/1\n",
      "1000000/1000000 [==============================] - 10s 10us/step - loss: 0.1712 - acc: 0.3068 - val_loss: 0.1717 - val_acc: 0.3058\n",
      "testing theta = : -0.75\n",
      "Train on 1000000 samples, validate on 1000000 samples\n",
      "Epoch 1/1\n",
      "1000000/1000000 [==============================] - 10s 10us/step - loss: 0.1852 - acc: 0.3120 - val_loss: 0.1856 - val_acc: 0.3121\n",
      "testing theta = : -0.5\n",
      "Train on 1000000 samples, validate on 1000000 samples\n",
      "Epoch 1/1\n",
      "1000000/1000000 [==============================] - 10s 10us/step - loss: 0.1985 - acc: 0.3161 - val_loss: 0.1991 - val_acc: 0.3147\n",
      "testing theta = : -0.25\n",
      "Train on 1000000 samples, validate on 1000000 samples\n",
      "Epoch 1/1\n",
      "1000000/1000000 [==============================] - 10s 10us/step - loss: 0.2109 - acc: 0.3193 - val_loss: 0.2115 - val_acc: 0.3182\n",
      "testing theta = : 0.0\n",
      "Train on 1000000 samples, validate on 1000000 samples\n",
      "Epoch 1/1\n",
      "1000000/1000000 [==============================] - 10s 10us/step - loss: 0.2224 - acc: 0.3229 - val_loss: 0.2231 - val_acc: 0.3204\n",
      "testing theta = : 0.25\n",
      "Train on 1000000 samples, validate on 1000000 samples\n",
      "Epoch 1/1\n",
      "1000000/1000000 [==============================] - 10s 10us/step - loss: 0.2329 - acc: 0.3265 - val_loss: 0.2338 - val_acc: 0.3270\n",
      "testing theta = : 0.5\n",
      "Train on 1000000 samples, validate on 1000000 samples\n",
      "Epoch 1/1\n",
      "1000000/1000000 [==============================] - 10s 10us/step - loss: 0.2412 - acc: 0.3285 - val_loss: 0.2422 - val_acc: 0.3280\n",
      "testing theta = : 0.75\n",
      "Train on 1000000 samples, validate on 1000000 samples\n",
      "Epoch 1/1\n",
      "1000000/1000000 [==============================] - 10s 10us/step - loss: 0.2466 - acc: 0.3262 - val_loss: 0.2476 - val_acc: 0.3253\n",
      "testing theta = : 1.0\n",
      "Train on 1000000 samples, validate on 1000000 samples\n",
      "Epoch 1/1\n",
      "1000000/1000000 [==============================] - 10s 10us/step - loss: 0.2492 - acc: 0.2320 - val_loss: 0.2499 - val_acc: 0.1992\n",
      "testing theta = : 1.25\n",
      "Train on 1000000 samples, validate on 1000000 samples\n",
      "Epoch 1/1\n",
      "1000000/1000000 [==============================] - 11s 11us/step - loss: 0.2486 - acc: 0.1788 - val_loss: 0.2521 - val_acc: 0.1888\n",
      "testing theta = : 1.5\n",
      "Train on 1000000 samples, validate on 1000000 samples\n",
      "Epoch 1/1\n",
      "1000000/1000000 [==============================] - 11s 11us/step - loss: 0.2452 - acc: 0.1759 - val_loss: 0.2451 - val_acc: 0.1743\n",
      "testing theta = : 1.75\n",
      "Train on 1000000 samples, validate on 1000000 samples\n",
      "Epoch 1/1\n",
      "1000000/1000000 [==============================] - 11s 11us/step - loss: 0.2396 - acc: 0.1752 - val_loss: 0.2379 - val_acc: 0.1745\n",
      "testing theta = : 2.0\n",
      "Train on 1000000 samples, validate on 1000000 samples\n",
      "Epoch 1/1\n",
      "1000000/1000000 [==============================] - 11s 11us/step - loss: 0.2342 - acc: 0.1770 - val_loss: 0.2326 - val_acc: 0.1777\n",
      "[[0.11973976935073734], [0.13135701275244355], [0.14384729933738707], [0.1573577340990305], [0.17165312653779982], [0.18560999826341867], [0.19906366877257825], [0.21154412376135587], [0.22313376691192388], [0.23379481949657202], [0.24218190915882587], [0.24762156157940626], [0.24990103362500668], [0.2521355759948492], [0.24505601485818623], [0.2378891645371914], [0.23259414198994638]]\n"
     ]
    }
   ],
   "source": [
    "thetas = np.linspace(-2,2,17)\n",
    "lvals = []\n",
    "\n",
    "\n",
    "for theta in thetas:\n",
    "    print(\"testing theta = :\", theta)\n",
    "    model.compile(optimizer='adam', loss=my_loss_wrapper(theta),metrics=['accuracy'])\n",
    "    model.fit(np.array(X_train), y_train, epochs=1, batch_size=500,validation_data=(np.array(X_test), y_test),verbose=1)\n",
    "    lvals+=[model.history.history['val_loss']]\n",
    "    print\n",
    "    pass\n",
    "print(lvals)"
   ]
  },
  {
   "cell_type": "code",
   "execution_count": 25,
   "metadata": {
    "scrolled": false
   },
   "outputs": [
    {
     "data": {
      "image/png": "[encoded data removed]",
      "text/plain": [
       "<Figure size 432x288 with 1 Axes>"
      ]
     },
     "metadata": {},
     "output_type": "display_data"
    }
   ],
   "source": [
    "plt.plot(thetas,lvals)\n",
    "plt.title(\"$\\mu$ Cross Section\\nFixed $\\sigma = \\sigma_{Truth}$\")\n",
    "plt.xlabel(r'$\\theta_{\\mu}$')\n",
    "plt.ylabel('Loss')\n",
    "plt.vlines(theta1_param[0], ymin = np.min(lvals), ymax = np.max(lvals), label = 'Truth')\n",
    "plt.legend()\n",
    "#plt.savefig(\"GaussianAltFit-2D-DetectorEffects-\\mu cross section.png\")\n",
    "plt.show()"
   ]
  },
  {
   "cell_type": "markdown",
   "metadata": {},
   "source": [
    "# Cross Section for $\\sigma$"
   ]
  },
  {
   "cell_type": "code",
   "execution_count": 26,
   "metadata": {},
   "outputs": [
    {
     "name": "stdout",
     "output_type": "stream",
     "text": [
      "_________________________________________________________________\n",
      "Layer (type)                 Output Shape              Param #   \n",
      "=================================================================\n",
      "input_3 (InputLayer)         (None, 1)                 0         \n",
      "_________________________________________________________________\n",
      "dense_8 (Dense)              (None, 128)               256       \n",
      "_________________________________________________________________\n",
      "dense_9 (Dense)              (None, 128)               16512     \n",
      "_________________________________________________________________\n",
      "dense_10 (Dense)             (None, 1)                 129       \n",
      "=================================================================\n",
      "Total params: 16,897\n",
      "Trainable params: 16,897\n",
      "Non-trainable params: 0\n",
      "_________________________________________________________________\n"
     ]
    }
   ],
   "source": [
    "myinputs = Input(shape=(1,), dtype = tf.float32)\n",
    "x = Dense(128, activation='relu')(myinputs)\n",
    "x2 = Dense(128, activation='relu')(x)\n",
    "predictions = Dense(1, activation='sigmoid')(x2)\n",
    "          \n",
    "model = Model(inputs=myinputs, outputs=predictions)\n",
    "model.summary()\n",
    "\n",
    "\n",
    "def my_loss_wrapper(val=0):\n",
    "    \n",
    "    def my_loss(y_true,y_pred):\n",
    "        y_true = tf.gather(y_true, np.arange(batch_size)) \n",
    "        y_labels = tf.gather(y_true, [0], axis = 1) #actual y_true for loss\n",
    "        x_T = tf.gather(y_true, [1], axis = 1) # sim truth for reweighting\n",
    "\n",
    "        theta_prime = [theta1_param[0], val] #fixed theta_mu = mu_truth\n",
    "    \n",
    "        #creating tensor with same length as inputs, with theta_prime in every entry\n",
    "        concat_input_and_params = K.ones(shape = (x_T.shape[0], 2))*theta_prime\n",
    "        #combining and reshaping into correct format:\n",
    "        data = K.concatenate((x_T, concat_input_and_params), axis=-1)\n",
    "        \n",
    "        if reweight_analytically == False: #NN reweight\n",
    "            w = reweight(data)\n",
    "        else: # analytical reweight\n",
    "            w = analytical_reweight(events = x_T, \n",
    "                                    mu1 = theta_prime[0], \n",
    "                                    sigma1 = theta_prime[1]) \n",
    "        \n",
    "        # Mean Squared Loss\n",
    "        t_loss = y_labels*(y_labels - y_pred)**2+(w)*(1.-y_labels)*(y_labels - y_pred)**2\n",
    "        \n",
    "        # Categorical Cross-Entropy Loss\n",
    "        '''\n",
    "        #Clip the prediction value to prevent NaN's and Inf's\n",
    "        epsilon = K.epsilon()\n",
    "        y_pred = K.clip(y_pred, epsilon, 1. - epsilon)\n",
    "        \n",
    "        t_loss = -((y_true)*K.log(y_pred) +w*(1-y_true)*K.log(1-y_pred))\n",
    "        '''\n",
    "        return K.mean(t_loss)\n",
    "    return my_loss"
   ]
  },
  {
   "cell_type": "code",
   "execution_count": 27,
   "metadata": {
    "scrolled": false
   },
   "outputs": [
    {
     "name": "stdout",
     "output_type": "stream",
     "text": [
      "testing theta = : 0.5\n",
      "Train on 1000000 samples, validate on 1000000 samples\n",
      "Epoch 1/1\n",
      "1000000/1000000 [==============================] - 11s 11us/step - loss: 0.2032 - acc: 0.2491 - val_loss: 0.2030 - val_acc: 0.2505\n",
      "testing theta = : 0.6\n",
      "Train on 1000000 samples, validate on 1000000 samples\n",
      "Epoch 1/1\n",
      "1000000/1000000 [==============================] - 11s 11us/step - loss: 0.2106 - acc: 0.2488 - val_loss: 0.2112 - val_acc: 0.2441\n",
      "testing theta = : 0.7\n",
      "Train on 1000000 samples, validate on 1000000 samples\n",
      "Epoch 1/1\n",
      "1000000/1000000 [==============================] - 11s 11us/step - loss: 0.2180 - acc: 0.2493 - val_loss: 0.2185 - val_acc: 0.2487\n",
      "testing theta = : 0.8\n",
      "Train on 1000000 samples, validate on 1000000 samples\n",
      "Epoch 1/1\n",
      "1000000/1000000 [==============================] - 11s 11us/step - loss: 0.2254 - acc: 0.2498 - val_loss: 0.2268 - val_acc: 0.2549\n",
      "testing theta = : 0.9\n",
      "Train on 1000000 samples, validate on 1000000 samples\n",
      "Epoch 1/1\n",
      "1000000/1000000 [==============================] - 11s 11us/step - loss: 0.2331 - acc: 0.2493 - val_loss: 0.2338 - val_acc: 0.2526\n",
      "testing theta = : 1.0\n",
      "Train on 1000000 samples, validate on 1000000 samples\n",
      "Epoch 1/1\n",
      "1000000/1000000 [==============================] - 12s 12us/step - loss: 0.2390 - acc: 0.2484 - val_loss: 0.2397 - val_acc: 0.2461\n",
      "testing theta = : 1.1\n",
      "Train on 1000000 samples, validate on 1000000 samples\n",
      "Epoch 1/1\n",
      "1000000/1000000 [==============================] - 12s 12us/step - loss: 0.2433 - acc: 0.2457 - val_loss: 0.2440 - val_acc: 0.2471\n",
      "testing theta = : 1.2000000000000002\n",
      "Train on 1000000 samples, validate on 1000000 samples\n",
      "Epoch 1/1\n",
      "1000000/1000000 [==============================] - 12s 12us/step - loss: 0.2462 - acc: 0.2432 - val_loss: 0.2472 - val_acc: 0.2399\n",
      "testing theta = : 1.3\n",
      "Train on 1000000 samples, validate on 1000000 samples\n",
      "Epoch 1/1\n",
      "1000000/1000000 [==============================] - 12s 12us/step - loss: 0.2482 - acc: 0.2375 - val_loss: 0.2489 - val_acc: 0.2360\n",
      "testing theta = : 1.4\n",
      "Train on 1000000 samples, validate on 1000000 samples\n",
      "Epoch 1/1\n",
      "1000000/1000000 [==============================] - 12s 12us/step - loss: 0.2492 - acc: 0.2272 - val_loss: 0.2499 - val_acc: 0.2359\n",
      "testing theta = : 1.5\n",
      "Train on 1000000 samples, validate on 1000000 samples\n",
      "Epoch 1/1\n",
      "1000000/1000000 [==============================] - 12s 12us/step - loss: 0.2493 - acc: 0.2097 - val_loss: 0.2499 - val_acc: 0.2016\n",
      "testing theta = : 1.6\n",
      "Train on 1000000 samples, validate on 1000000 samples\n",
      "Epoch 1/1\n",
      "1000000/1000000 [==============================] - 13s 13us/step - loss: 0.2490 - acc: 0.2268 - val_loss: 0.2494 - val_acc: 0.2252\n",
      "testing theta = : 1.7000000000000002\n",
      "Train on 1000000 samples, validate on 1000000 samples\n",
      "Epoch 1/1\n",
      "1000000/1000000 [==============================] - 13s 13us/step - loss: 0.2474 - acc: 0.2401 - val_loss: 0.2511 - val_acc: 0.2513\n",
      "testing theta = : 1.8\n",
      "Train on 1000000 samples, validate on 1000000 samples\n",
      "Epoch 1/1\n",
      "1000000/1000000 [==============================] - 13s 13us/step - loss: 0.2457 - acc: 0.2386 - val_loss: 0.2459 - val_acc: 0.2101\n",
      "testing theta = : 1.9000000000000001\n",
      "Train on 1000000 samples, validate on 1000000 samples\n",
      "Epoch 1/1\n",
      "1000000/1000000 [==============================] - 13s 13us/step - loss: 0.2436 - acc: 0.2348 - val_loss: 0.2449 - val_acc: 0.2414\n",
      "testing theta = : 2.0\n",
      "Train on 1000000 samples, validate on 1000000 samples\n",
      "Epoch 1/1\n",
      "1000000/1000000 [==============================] - 13s 13us/step - loss: 0.2408 - acc: 0.2375 - val_loss: 0.2414 - val_acc: 0.2369\n",
      "[[0.20300394464284183], [0.2112099213376641], [0.21846006736904383], [0.22679806868731975], [0.23376734536886215], [0.2397139755859971], [0.24400863686203958], [0.24722128009051084], [0.2489161434546113], [0.2498950977176428], [0.24987065716832876], [0.24942838018387556], [0.2510656860843301], [0.24589800500869752], [0.24494263692200183], [0.24143289372324944]]\n"
     ]
    }
   ],
   "source": [
    "thetas = np.linspace(0.5,2,16)\n",
    "lvals = []\n",
    "\n",
    "\n",
    "for theta in thetas:\n",
    "    print(\"testing theta = :\", theta)\n",
    "    model.compile(optimizer='adam', loss=my_loss_wrapper(theta),metrics=['accuracy'])\n",
    "    model.fit(np.array(X_train), y_train, epochs=1, batch_size=500,validation_data=(np.array(X_test), y_test),verbose=1)\n",
    "    lvals+=[model.history.history['val_loss']]\n",
    "    print\n",
    "    pass\n",
    "print(lvals)"
   ]
  },
  {
   "cell_type": "code",
   "execution_count": 28,
   "metadata": {
    "scrolled": false
   },
   "outputs": [
    {
     "data": {
      "image/png": "[encoded data removed]",
      "text/plain": [
       "<Figure size 432x288 with 1 Axes>"
      ]
     },
     "metadata": {},
     "output_type": "display_data"
    }
   ],
   "source": [
    "plt.plot(thetas,lvals)\n",
    "plt.title(\"$\\sigma$ Cross Section\\nFixed $\\mu = \\mu{Truth}$\")\n",
    "plt.xlabel(r'$\\theta_{\\sigma}$')\n",
    "plt.ylabel('Loss')\n",
    "plt.vlines(theta1_param[1], ymin = np.min(lvals), ymax = np.max(lvals), label = 'Truth')\n",
    "plt.legend()\n",
    "#plt.savefig(\"GaussianAltFit-2D-DetectorEffects-\\sigma cross section.png\")\n",
    "plt.show()"
   ]
  },
  {
   "cell_type": "markdown",
   "metadata": {},
   "source": [
    "# Creating Model"
   ]
  },
  {
   "cell_type": "markdown",
   "metadata": {},
   "source": [
    "Now, let's do the $\\theta$ and $g$ optimization together with a minimax setup."
   ]
  },
  {
   "cell_type": "markdown",
   "metadata": {},
   "source": [
    "# Building and Training Fitting Model"
   ]
  },
  {
   "cell_type": "code",
   "execution_count": 29,
   "metadata": {},
   "outputs": [],
   "source": [
    "print_weights = LambdaCallback(on_epoch_end=lambda batch,\n",
    "                               logs: print(\". theta fit = \",model_fit.layers[-1].get_weights()[-1]))\n",
    "theta_fit_init = [0, 1]\n",
    "fit_vals = [theta_fit_init]\n",
    "append_fit_value = LambdaCallback(on_epoch_end=lambda batch, logs: \n",
    "                                               fit_vals.append(model_fit.layers[-1].get_weights()[0]))\n",
    "\n",
    "callbacks = [print_weights, append_fit_value]"
   ]
  },
  {
   "cell_type": "code",
   "execution_count": 30,
   "metadata": {
    "scrolled": true
   },
   "outputs": [
    {
     "name": "stdout",
     "output_type": "stream",
     "text": [
      "_________________________________________________________________\n",
      "Layer (type)                 Output Shape              Param #   \n",
      "=================================================================\n",
      "input_4 (InputLayer)         (None, 1)                 0         \n",
      "_________________________________________________________________\n",
      "dense_11 (Dense)             (None, 128)               256       \n",
      "_________________________________________________________________\n",
      "dense_12 (Dense)             (None, 128)               16512     \n",
      "_________________________________________________________________\n",
      "dense_13 (Dense)             (None, 1)                 129       \n",
      "_________________________________________________________________\n",
      "lambda_1 (Lambda)            (None, 1)                 2         \n",
      "=================================================================\n",
      "Total params: 16,899\n",
      "Trainable params: 16,899\n",
      "Non-trainable params: 0\n",
      "_________________________________________________________________\n",
      "Epoch:  0\n",
      "Training g\n",
      "Train on 1000000 samples, validate on 1000000 samples\n",
      "Epoch 1/1\n",
      "1000000/1000000 [==============================] - 9s 9us/step - loss: 0.2201 - acc: 0.3186 - val_loss: 0.2130 - val_acc: 0.3281\n",
      ". theta fit =  [0. 1.]\n",
      "Training theta\n",
      "Train on 1000000 samples, validate on 1000000 samples\n",
      "Epoch 1/1\n",
      "1000000/1000000 [==============================] - 10s 10us/step - loss: -0.2165 - acc: 0.3289 - val_loss: -0.2199 - val_acc: 0.3281\n",
      ". theta fit =  [0.08391732 1.0780411 ]\n",
      "Epoch:  1\n",
      "Training g\n",
      "Train on 1000000 samples, validate on 1000000 samples\n",
      "Epoch 1/1\n",
      "1000000/1000000 [==============================] - 10s 10us/step - loss: 0.2187 - acc: 0.3292 - val_loss: 0.2193 - val_acc: 0.3285\n",
      ". theta fit =  [0.08391732 1.0780411 ]\n",
      "Training theta\n",
      "Train on 1000000 samples, validate on 1000000 samples\n",
      "Epoch 1/1\n",
      "1000000/1000000 [==============================] - 10s 10us/step - loss: -0.2229 - acc: 0.3292 - val_loss: -0.2265 - val_acc: 0.3285\n",
      ". theta fit =  [0.18045898 1.1628909 ]\n",
      "Epoch:  2\n",
      "Training g\n",
      "Train on 1000000 samples, validate on 1000000 samples\n",
      "Epoch 1/1\n",
      "1000000/1000000 [==============================] - 10s 10us/step - loss: 0.2248 - acc: 0.3290 - val_loss: 0.2255 - val_acc: 0.3283\n",
      ". theta fit =  [0.18045898 1.1628909 ]\n",
      "Training theta\n",
      "Train on 1000000 samples, validate on 1000000 samples\n",
      "Epoch 1/1\n",
      "1000000/1000000 [==============================] - 10s 10us/step - loss: -0.2285 - acc: 0.3290 - val_loss: -0.2319 - val_acc: 0.3283\n",
      ". theta fit =  [0.27826908 1.2411218 ]\n",
      "Epoch:  3\n",
      "Training g\n",
      "Train on 1000000 samples, validate on 1000000 samples\n",
      "Epoch 1/1\n",
      "1000000/1000000 [==============================] - 10s 10us/step - loss: 0.2302 - acc: 0.3286 - val_loss: 0.2310 - val_acc: 0.3280\n",
      ". theta fit =  [0.27826908 1.2411218 ]\n",
      "Training theta\n",
      "Train on 1000000 samples, validate on 1000000 samples\n",
      "Epoch 1/1\n",
      "1000000/1000000 [==============================] - 10s 10us/step - loss: -0.2329 - acc: 0.3287 - val_loss: -0.2357 - val_acc: 0.3280\n",
      ". theta fit =  [0.36710364 1.2959117 ]\n",
      "Epoch:  4\n",
      "Training g\n",
      "Train on 1000000 samples, validate on 1000000 samples\n",
      "Epoch 1/1\n",
      "1000000/1000000 [==============================] - 10s 10us/step - loss: 0.2343 - acc: 0.3285 - val_loss: 0.2352 - val_acc: 0.3281\n",
      ". theta fit =  [0.36710364 1.2959117 ]\n",
      "Training theta\n",
      "Train on 1000000 samples, validate on 1000000 samples\n",
      "Epoch 1/1\n",
      "1000000/1000000 [==============================] - 10s 10us/step - loss: -0.2366 - acc: 0.3288 - val_loss: -0.2391 - val_acc: 0.3281\n",
      ". theta fit =  [0.45092008 1.3388231 ]\n",
      "Epoch:  5\n",
      "Training g\n",
      "Train on 1000000 samples, validate on 1000000 samples\n",
      "Epoch 1/1\n",
      "1000000/1000000 [==============================] - 10s 10us/step - loss: 0.2376 - acc: 0.3281 - val_loss: 0.2385 - val_acc: 0.3280\n",
      ". theta fit =  [0.45092008 1.3388231 ]\n",
      "Training theta\n",
      "Train on 1000000 samples, validate on 1000000 samples\n",
      "Epoch 1/1\n",
      "1000000/1000000 [==============================] - 10s 10us/step - loss: -0.2394 - acc: 0.3287 - val_loss: -0.2416 - val_acc: 0.3280\n",
      ". theta fit =  [0.5276527 1.3739   ]\n",
      "Epoch:  6\n",
      "Training g\n",
      "Train on 1000000 samples, validate on 1000000 samples\n",
      "Epoch 1/1\n",
      "1000000/1000000 [==============================] - 10s 10us/step - loss: 0.2403 - acc: 0.3280 - val_loss: 0.2413 - val_acc: 0.3283\n",
      ". theta fit =  [0.5276527 1.3739   ]\n",
      "Training theta\n",
      "Train on 1000000 samples, validate on 1000000 samples\n",
      "Epoch 1/1\n",
      "1000000/1000000 [==============================] - 11s 11us/step - loss: -0.2418 - acc: 0.3290 - val_loss: -0.2439 - val_acc: 0.3283\n",
      ". theta fit =  [0.59618944 1.3992256 ]\n",
      "Epoch:  7\n",
      "Training g\n",
      "Train on 1000000 samples, validate on 1000000 samples\n",
      "Epoch 1/1\n",
      "1000000/1000000 [==============================] - 11s 11us/step - loss: 0.2425 - acc: 0.3275 - val_loss: 0.2434 - val_acc: 0.3272\n",
      ". theta fit =  [0.59618944 1.3992256 ]\n",
      "Training theta\n",
      "Train on 1000000 samples, validate on 1000000 samples\n",
      "Epoch 1/1\n",
      "1000000/1000000 [==============================] - 11s 11us/step - loss: -0.2437 - acc: 0.3280 - val_loss: -0.2455 - val_acc: 0.3272\n",
      ". theta fit =  [0.6628993 1.418971 ]\n",
      "Epoch:  8\n",
      "Training g\n",
      "Train on 1000000 samples, validate on 1000000 samples\n",
      "Epoch 1/1\n",
      "1000000/1000000 [==============================] - 11s 11us/step - loss: 0.2444 - acc: 0.3268 - val_loss: 0.2454 - val_acc: 0.3193\n",
      ". theta fit =  [0.6628993 1.418971 ]\n",
      "Training theta\n",
      "Train on 1000000 samples, validate on 1000000 samples\n",
      "Epoch 1/1\n",
      "1000000/1000000 [==============================] - 11s 11us/step - loss: -0.2451 - acc: 0.3203 - val_loss: -0.2464 - val_acc: 0.3193\n",
      ". theta fit =  [0.7073243 1.4305024]\n",
      "Epoch:  9\n",
      "Training g\n",
      "Train on 1000000 samples, validate on 1000000 samples\n",
      "Epoch 1/1\n",
      "1000000/1000000 [==============================] - 11s 11us/step - loss: 0.2454 - acc: 0.3263 - val_loss: 0.2466 - val_acc: 0.3283\n",
      ". theta fit =  [0.7073243 1.4305024]\n",
      "Training theta\n",
      "Train on 1000000 samples, validate on 1000000 samples\n",
      "Epoch 1/1\n",
      "1000000/1000000 [==============================] - 11s 11us/step - loss: -0.2465 - acc: 0.3291 - val_loss: -0.2480 - val_acc: 0.3283\n",
      ". theta fit =  [0.76179874 1.4398136 ]\n",
      "Epoch:  10\n",
      "Training g\n",
      "Train on 1000000 samples, validate on 1000000 samples\n",
      "Epoch 1/1\n",
      "1000000/1000000 [==============================] - 11s 11us/step - loss: 0.2466 - acc: 0.3230 - val_loss: 0.2473 - val_acc: 0.3272\n",
      ". theta fit =  [0.76179874 1.4398136 ]\n",
      "Training theta\n",
      "Train on 1000000 samples, validate on 1000000 samples\n",
      "Epoch 1/1\n",
      "1000000/1000000 [==============================] - 11s 11us/step - loss: -0.2467 - acc: 0.3280 - val_loss: -0.2479 - val_acc: 0.3272\n",
      ". theta fit =  [0.7986011 1.443494 ]\n",
      "Epoch:  11\n",
      "Training g\n",
      "Train on 1000000 samples, validate on 1000000 samples\n",
      "Epoch 1/1\n",
      "1000000/1000000 [==============================] - 11s 11us/step - loss: 0.2472 - acc: 0.3204 - val_loss: 0.2480 - val_acc: 0.3280\n",
      ". theta fit =  [0.7986011 1.443494 ]\n",
      "Training theta\n",
      "Train on 1000000 samples, validate on 1000000 samples\n",
      "Epoch 1/1\n",
      "1000000/1000000 [==============================] - 12s 12us/step - loss: -0.2474 - acc: 0.3287 - val_loss: -0.2486 - val_acc: 0.3280\n",
      ". theta fit =  [0.837848  1.4339436]\n",
      "Epoch:  12\n",
      "Training g\n",
      "Train on 1000000 samples, validate on 1000000 samples\n",
      "Epoch 1/1\n",
      "1000000/1000000 [==============================] - 12s 12us/step - loss: 0.2477 - acc: 0.3154 - val_loss: 0.2486 - val_acc: 0.3284\n",
      ". theta fit =  [0.837848  1.4339436]\n",
      "Training theta\n",
      "Train on 1000000 samples, validate on 1000000 samples\n",
      "Epoch 1/1\n",
      "1000000/1000000 [==============================] - 12s 12us/step - loss: -0.2480 - acc: 0.3291 - val_loss: -0.2492 - val_acc: 0.3284\n",
      ". theta fit =  [0.87345064 1.435717  ]\n",
      "Epoch:  13\n",
      "Training g\n",
      "Train on 1000000 samples, validate on 1000000 samples\n",
      "Epoch 1/1\n",
      "1000000/1000000 [==============================] - 12s 12us/step - loss: 0.2481 - acc: 0.3117 - val_loss: 0.2488 - val_acc: 0.3175\n",
      ". theta fit =  [0.87345064 1.435717  ]\n",
      "Training theta\n",
      "Train on 1000000 samples, validate on 1000000 samples\n",
      "Epoch 1/1\n",
      "1000000/1000000 [==============================] - 12s 12us/step - loss: -0.2481 - acc: 0.3185 - val_loss: -0.2492 - val_acc: 0.3175\n",
      ". theta fit =  [0.9030489 1.4389926]\n",
      "Epoch:  14\n",
      "Training g\n",
      "Train on 1000000 samples, validate on 1000000 samples\n",
      "Epoch 1/1\n"
     ]
    },
    {
     "name": "stdout",
     "output_type": "stream",
     "text": [
      "1000000/1000000 [==============================] - 12s 12us/step - loss: 0.2485 - acc: 0.2977 - val_loss: 0.2491 - val_acc: 0.2822\n",
      ". theta fit =  [0.9030489 1.4389926]\n",
      "Training theta\n",
      "Train on 1000000 samples, validate on 1000000 samples\n",
      "Epoch 1/1\n",
      "1000000/1000000 [==============================] - 12s 12us/step - loss: -0.2484 - acc: 0.2828 - val_loss: -0.2494 - val_acc: 0.2822\n",
      ". theta fit =  [0.92563826 1.4385523 ]\n",
      "Epoch:  15\n",
      "Training g\n",
      "Train on 1000000 samples, validate on 1000000 samples\n",
      "Epoch 1/1\n",
      "1000000/1000000 [==============================] - 12s 12us/step - loss: 0.2487 - acc: 0.2891 - val_loss: 0.2494 - val_acc: 0.3139\n",
      ". theta fit =  [0.92563826 1.4385523 ]\n",
      "Training theta\n",
      "Train on 1000000 samples, validate on 1000000 samples\n",
      "Epoch 1/1\n",
      "1000000/1000000 [==============================] - 12s 12us/step - loss: -0.2486 - acc: 0.3151 - val_loss: -0.2497 - val_acc: 0.3139\n",
      ". theta fit =  [0.9483864 1.4330671]\n",
      "Epoch:  16\n",
      "Training g\n",
      "Train on 1000000 samples, validate on 1000000 samples\n",
      "Epoch 1/1\n",
      "1000000/1000000 [==============================] - 12s 12us/step - loss: 0.2489 - acc: 0.2612 - val_loss: 0.2498 - val_acc: 0.2815\n",
      ". theta fit =  [0.9483864 1.4330671]\n",
      "Training theta\n",
      "Train on 1000000 samples, validate on 1000000 samples\n",
      "Epoch 1/1\n",
      "1000000/1000000 [==============================] - 12s 12us/step - loss: -0.2489 - acc: 0.2820 - val_loss: -0.2500 - val_acc: 0.2815\n",
      ". theta fit =  [0.97316515 1.4319298 ]\n",
      "Epoch:  17\n",
      "Training g\n",
      "Train on 1000000 samples, validate on 1000000 samples\n",
      "Epoch 1/1\n",
      "1000000/1000000 [==============================] - 12s 12us/step - loss: 0.2490 - acc: 0.2466 - val_loss: 0.2497 - val_acc: 0.2375\n",
      ". theta fit =  [0.97316515 1.4319298 ]\n",
      "Training theta\n",
      "Train on 1000000 samples, validate on 1000000 samples\n",
      "Epoch 1/1\n",
      "1000000/1000000 [==============================] - 12s 12us/step - loss: -0.2489 - acc: 0.2376 - val_loss: -0.2498 - val_acc: 0.2375\n",
      ". theta fit =  [0.9882708 1.4274226]\n",
      "Epoch:  18\n",
      "Training g\n",
      "Train on 1000000 samples, validate on 1000000 samples\n",
      "Epoch 1/1\n",
      "1000000/1000000 [==============================] - 12s 12us/step - loss: 0.2492 - acc: 0.2330 - val_loss: 0.2498 - val_acc: 0.2259\n",
      ". theta fit =  [0.9882708 1.4274226]\n",
      "Training theta\n",
      "Train on 1000000 samples, validate on 1000000 samples\n",
      "Epoch 1/1\n",
      "1000000/1000000 [==============================] - 12s 12us/step - loss: -0.2490 - acc: 0.2258 - val_loss: -0.2499 - val_acc: 0.2259\n",
      ". theta fit =  [1.0018616 1.4235445]\n",
      "Epoch:  19\n",
      "Training g\n",
      "Train on 1000000 samples, validate on 1000000 samples\n",
      "Epoch 1/1\n",
      "1000000/1000000 [==============================] - 12s 12us/step - loss: 0.2491 - acc: 0.2242 - val_loss: 0.2500 - val_acc: 0.2154\n",
      ". theta fit =  [1.0018616 1.4235445]\n",
      "Training theta\n",
      "Train on 1000000 samples, validate on 1000000 samples\n",
      "Epoch 1/1\n",
      "1000000/1000000 [==============================] - 13s 13us/step - loss: -0.2492 - acc: 0.2153 - val_loss: -0.2500 - val_acc: 0.2154\n",
      ". theta fit =  [1.0070708 1.4219843]\n",
      "Epoch:  20\n",
      "Training g\n",
      "Train on 1000000 samples, validate on 1000000 samples\n",
      "Epoch 1/1\n",
      "1000000/1000000 [==============================] - 13s 13us/step - loss: 0.2492 - acc: 0.2190 - val_loss: 0.2501 - val_acc: 0.2099\n",
      ". theta fit =  [1.0070708 1.4219843]\n",
      "Training theta\n",
      "Train on 1000000 samples, validate on 1000000 samples\n",
      "Epoch 1/1\n",
      "1000000/1000000 [==============================] - 13s 13us/step - loss: -0.2493 - acc: 0.2096 - val_loss: -0.2501 - val_acc: 0.2099\n",
      ". theta fit =  [1.0029701 1.4118245]\n",
      "Epoch:  21\n",
      "Training g\n",
      "Train on 1000000 samples, validate on 1000000 samples\n",
      "Epoch 1/1\n",
      "1000000/1000000 [==============================] - 13s 13us/step - loss: 0.2492 - acc: 0.2210 - val_loss: 0.2499 - val_acc: 0.2257\n",
      ". theta fit =  [1.0029701 1.4118245]\n",
      "Training theta\n",
      "Train on 1000000 samples, validate on 1000000 samples\n",
      "Epoch 1/1\n",
      "1000000/1000000 [==============================] - 13s 13us/step - loss: -0.2490 - acc: 0.2256 - val_loss: -0.2500 - val_acc: 0.2257\n",
      ". theta fit =  [1.0161136 1.4115186]\n",
      "Epoch:  22\n",
      "Training g\n",
      "Train on 1000000 samples, validate on 1000000 samples\n",
      "Epoch 1/1\n",
      "1000000/1000000 [==============================] - 13s 13us/step - loss: 0.2492 - acc: 0.2208 - val_loss: 0.2500 - val_acc: 0.2215\n",
      ". theta fit =  [1.0161136 1.4115186]\n",
      "Training theta\n",
      "Train on 1000000 samples, validate on 1000000 samples\n",
      "Epoch 1/1\n",
      "1000000/1000000 [==============================] - 13s 13us/step - loss: -0.2491 - acc: 0.2214 - val_loss: -0.2500 - val_acc: 0.2215\n",
      ". theta fit =  [1.0258795 1.4113789]\n",
      "Epoch:  23\n",
      "Training g\n",
      "Train on 1000000 samples, validate on 1000000 samples\n",
      "Epoch 1/1\n",
      "1000000/1000000 [==============================] - 14s 14us/step - loss: 0.2492 - acc: 0.2109 - val_loss: 0.2502 - val_acc: 0.2205\n",
      ". theta fit =  [1.0258795 1.4113789]\n",
      "Training theta\n",
      "Train on 1000000 samples, validate on 1000000 samples\n",
      "Epoch 1/1\n",
      "1000000/1000000 [==============================] - 14s 14us/step - loss: -0.2493 - acc: 0.2205 - val_loss: -0.2503 - val_acc: 0.2205\n",
      ". theta fit =  [1.0425835 1.4086474]\n",
      "Epoch:  24\n",
      "Training g\n",
      "Train on 1000000 samples, validate on 1000000 samples\n",
      "Epoch 1/1\n",
      "1000000/1000000 [==============================] - 14s 14us/step - loss: 0.2494 - acc: 0.2049 - val_loss: 0.2502 - val_acc: 0.2108\n",
      ". theta fit =  [1.0425835 1.4086474]\n",
      "Training theta\n",
      "Train on 1000000 samples, validate on 1000000 samples\n",
      "Epoch 1/1\n",
      "1000000/1000000 [==============================] - 14s 14us/step - loss: -0.2493 - acc: 0.2105 - val_loss: -0.2503 - val_acc: 0.2108\n",
      ". theta fit =  [1.0544491 1.4064044]\n",
      "Epoch:  25\n",
      "Training g\n",
      "Train on 1000000 samples, validate on 1000000 samples\n",
      "Epoch 1/1\n",
      "1000000/1000000 [==============================] - 14s 14us/step - loss: 0.2493 - acc: 0.2044 - val_loss: 0.2500 - val_acc: 0.2094\n",
      ". theta fit =  [1.0544491 1.4064044]\n",
      "Training theta\n",
      "Train on 1000000 samples, validate on 1000000 samples\n",
      "Epoch 1/1\n",
      "1000000/1000000 [==============================] - 14s 14us/step - loss: -0.2491 - acc: 0.2092 - val_loss: -0.2500 - val_acc: 0.2094\n",
      ". theta fit =  [1.0506647 1.4017845]\n",
      "Epoch:  26\n",
      "Training g\n",
      "Train on 1000000 samples, validate on 1000000 samples\n",
      "Epoch 1/1\n",
      "1000000/1000000 [==============================] - 14s 14us/step - loss: 0.2493 - acc: 0.2034 - val_loss: 0.2500 - val_acc: 0.2053\n",
      ". theta fit =  [1.0506647 1.4017845]\n",
      "Training theta\n",
      "Train on 1000000 samples, validate on 1000000 samples\n",
      "Epoch 1/1\n",
      "1000000/1000000 [==============================] - 14s 14us/step - loss: -0.2491 - acc: 0.2050 - val_loss: -0.2500 - val_acc: 0.2053\n",
      ". theta fit =  [1.0546209 1.4016787]\n",
      "Epoch:  27\n",
      "Training g\n",
      "Train on 1000000 samples, validate on 1000000 samples\n",
      "Epoch 1/1\n",
      "1000000/1000000 [==============================] - 14s 14us/step - loss: 0.2493 - acc: 0.2038 - val_loss: 0.2501 - val_acc: 0.2069\n",
      ". theta fit =  [1.0546209 1.4016787]\n",
      "Training theta\n",
      "Train on 1000000 samples, validate on 1000000 samples\n",
      "Epoch 1/1\n",
      "1000000/1000000 [==============================] - 14s 14us/step - loss: -0.2492 - acc: 0.2065 - val_loss: -0.2501 - val_acc: 0.2069\n",
      ". theta fit =  [1.055858  1.3964318]\n",
      "Epoch:  28\n",
      "Training g\n",
      "Train on 1000000 samples, validate on 1000000 samples\n",
      "Epoch 1/1\n",
      "1000000/1000000 [==============================] - 14s 14us/step - loss: 0.2493 - acc: 0.2078 - val_loss: 0.2500 - val_acc: 0.2083\n",
      ". theta fit =  [1.055858  1.3964318]\n",
      "Training theta\n",
      "Train on 1000000 samples, validate on 1000000 samples\n",
      "Epoch 1/1\n",
      "1000000/1000000 [==============================] - 14s 14us/step - loss: -0.2491 - acc: 0.2081 - val_loss: -0.2500 - val_acc: 0.2083\n",
      ". theta fit =  [1.0585229 1.3974912]\n",
      "Epoch:  29\n",
      "Training g\n",
      "Train on 1000000 samples, validate on 1000000 samples\n",
      "Epoch 1/1\n",
      "1000000/1000000 [==============================] - 14s 14us/step - loss: 0.2493 - acc: 0.2069 - val_loss: 0.2501 - val_acc: 0.2084\n",
      ". theta fit =  [1.0585229 1.3974912]\n",
      "Training theta\n",
      "Train on 1000000 samples, validate on 1000000 samples\n",
      "Epoch 1/1\n",
      "1000000/1000000 [==============================] - 15s 15us/step - loss: -0.2491 - acc: 0.2082 - val_loss: -0.2500 - val_acc: 0.2084\n",
      ". theta fit =  [1.057687  1.3899791]\n",
      "Epoch:  30\n",
      "Training g\n",
      "Train on 1000000 samples, validate on 1000000 samples\n",
      "Epoch 1/1\n",
      "1000000/1000000 [==============================] - 15s 15us/step - loss: 0.2493 - acc: 0.2057 - val_loss: 0.2502 - val_acc: 0.2187\n",
      ". theta fit =  [1.057687  1.3899791]\n",
      "Training theta\n"
     ]
    },
    {
     "name": "stdout",
     "output_type": "stream",
     "text": [
      "Train on 1000000 samples, validate on 1000000 samples\n",
      "Epoch 1/1\n",
      "1000000/1000000 [==============================] - 15s 15us/step - loss: -0.2493 - acc: 0.2187 - val_loss: -0.2503 - val_acc: 0.2187\n",
      ". theta fit =  [1.0671408 1.3944391]\n",
      "Epoch:  31\n",
      "Training g\n",
      "Train on 1000000 samples, validate on 1000000 samples\n",
      "Epoch 1/1\n",
      "1000000/1000000 [==============================] - 15s 15us/step - loss: 0.2493 - acc: 0.2071 - val_loss: 0.2502 - val_acc: 0.2090\n",
      ". theta fit =  [1.0671408 1.3944391]\n",
      "Training theta\n",
      "Train on 1000000 samples, validate on 1000000 samples\n",
      "Epoch 1/1\n",
      "1000000/1000000 [==============================] - 15s 15us/step - loss: -0.2492 - acc: 0.2086 - val_loss: -0.2502 - val_acc: 0.2090\n",
      ". theta fit =  [1.074985  1.3914303]\n",
      "Epoch:  32\n",
      "Training g\n",
      "Train on 1000000 samples, validate on 1000000 samples\n",
      "Epoch 1/1\n",
      "1000000/1000000 [==============================] - 15s 15us/step - loss: 0.2493 - acc: 0.2032 - val_loss: 0.2503 - val_acc: 0.2131\n",
      ". theta fit =  [1.074985  1.3914303]\n",
      "Training theta\n",
      "Train on 1000000 samples, validate on 1000000 samples\n",
      "Epoch 1/1\n",
      "1000000/1000000 [==============================] - 15s 15us/step - loss: -0.2493 - acc: 0.2129 - val_loss: -0.2504 - val_acc: 0.2131\n",
      ". theta fit =  [1.0823504 1.3949966]\n",
      "Epoch:  33\n",
      "Training g\n",
      "Train on 1000000 samples, validate on 1000000 samples\n",
      "Epoch 1/1\n",
      "1000000/1000000 [==============================] - 15s 15us/step - loss: 0.2494 - acc: 0.1995 - val_loss: 0.2501 - val_acc: 0.2038\n",
      ". theta fit =  [1.0823504 1.3949966]\n",
      "Training theta\n",
      "Train on 1000000 samples, validate on 1000000 samples\n",
      "Epoch 1/1\n",
      "1000000/1000000 [==============================] - 15s 15us/step - loss: -0.2492 - acc: 0.2035 - val_loss: -0.2501 - val_acc: 0.2038\n",
      ". theta fit =  [1.0824983 1.3985139]\n",
      "Epoch:  34\n",
      "Training g\n",
      "Train on 1000000 samples, validate on 1000000 samples\n",
      "Epoch 1/1\n",
      "1000000/1000000 [==============================] - 15s 15us/step - loss: 0.2493 - acc: 0.2012 - val_loss: 0.2501 - val_acc: 0.2003\n",
      ". theta fit =  [1.0824983 1.3985139]\n",
      "Training theta\n",
      "Train on 1000000 samples, validate on 1000000 samples\n",
      "Epoch 1/1\n",
      "1000000/1000000 [==============================] - 15s 15us/step - loss: -0.2492 - acc: 0.2001 - val_loss: -0.2501 - val_acc: 0.2003\n",
      ". theta fit =  [1.0833569 1.3959506]\n",
      "Epoch:  35\n",
      "Training g\n",
      "Train on 1000000 samples, validate on 1000000 samples\n",
      "Epoch 1/1\n",
      "1000000/1000000 [==============================] - 16s 16us/step - loss: 0.2494 - acc: 0.2037 - val_loss: 0.2500 - val_acc: 0.1958\n",
      ". theta fit =  [1.0833569 1.3959506]\n",
      "Training theta\n",
      "Train on 1000000 samples, validate on 1000000 samples\n",
      "Epoch 1/1\n",
      "1000000/1000000 [==============================] - 16s 16us/step - loss: -0.2492 - acc: 0.1953 - val_loss: -0.2500 - val_acc: 0.1958\n",
      ". theta fit =  [1.0805482 1.3983681]\n",
      "Epoch:  36\n",
      "Training g\n",
      "Train on 1000000 samples, validate on 1000000 samples\n",
      "Epoch 1/1\n",
      "1000000/1000000 [==============================] - 16s 16us/step - loss: 0.2494 - acc: 0.1953 - val_loss: 0.2501 - val_acc: 0.2022\n",
      ". theta fit =  [1.0805482 1.3983681]\n",
      "Training theta\n",
      "Train on 1000000 samples, validate on 1000000 samples\n",
      "Epoch 1/1\n",
      "1000000/1000000 [==============================] - 16s 16us/step - loss: -0.2492 - acc: 0.2017 - val_loss: -0.2502 - val_acc: 0.2022\n",
      ". theta fit =  [1.0831085 1.3990842]\n",
      "Epoch:  37\n",
      "Training g\n",
      "Train on 1000000 samples, validate on 1000000 samples\n",
      "Epoch 1/1\n",
      "1000000/1000000 [==============================] - 16s 16us/step - loss: 0.2493 - acc: 0.1973 - val_loss: 0.2501 - val_acc: 0.1893\n",
      ". theta fit =  [1.0831085 1.3990842]\n",
      "Training theta\n",
      "Train on 1000000 samples, validate on 1000000 samples\n",
      "Epoch 1/1\n",
      "1000000/1000000 [==============================] - 15s 15us/step - loss: -0.2492 - acc: 0.1889 - val_loss: -0.2501 - val_acc: 0.1893\n",
      ". theta fit =  [1.074494  1.3890328]\n",
      "Epoch:  38\n",
      "Training g\n",
      "Train on 1000000 samples, validate on 1000000 samples\n",
      "Epoch 1/1\n",
      "1000000/1000000 [==============================] - 16s 16us/step - loss: 0.2493 - acc: 0.1983 - val_loss: 0.2501 - val_acc: 0.2078\n",
      ". theta fit =  [1.074494  1.3890328]\n",
      "Training theta\n",
      "Train on 1000000 samples, validate on 1000000 samples\n",
      "Epoch 1/1\n",
      "1000000/1000000 [==============================] - 16s 16us/step - loss: -0.2492 - acc: 0.2075 - val_loss: -0.2502 - val_acc: 0.2078\n",
      ". theta fit =  [1.0811169 1.3838729]\n",
      "Epoch:  39\n",
      "Training g\n",
      "Train on 1000000 samples, validate on 1000000 samples\n",
      "Epoch 1/1\n",
      "1000000/1000000 [==============================] - 16s 16us/step - loss: 0.2493 - acc: 0.2060 - val_loss: 0.2500 - val_acc: 0.2014\n",
      ". theta fit =  [1.0811169 1.3838729]\n",
      "Training theta\n",
      "Train on 1000000 samples, validate on 1000000 samples\n",
      "Epoch 1/1\n",
      "1000000/1000000 [==============================] - 16s 16us/step - loss: -0.2492 - acc: 0.2011 - val_loss: -0.2500 - val_acc: 0.2014\n",
      ". theta fit =  [1.0761733 1.3845087]\n",
      "Epoch:  40\n",
      "Training g\n",
      "Train on 1000000 samples, validate on 1000000 samples\n",
      "Epoch 1/1\n",
      "1000000/1000000 [==============================] - 16s 16us/step - loss: 0.2493 - acc: 0.2034 - val_loss: 0.2500 - val_acc: 0.2076\n",
      ". theta fit =  [1.0761733 1.3845087]\n",
      "Training theta\n",
      "Train on 1000000 samples, validate on 1000000 samples\n",
      "Epoch 1/1\n",
      "1000000/1000000 [==============================] - 17s 17us/step - loss: -0.2491 - acc: 0.2073 - val_loss: -0.2501 - val_acc: 0.2076\n",
      ". theta fit =  [1.0805475 1.388133 ]\n",
      "Epoch:  41\n",
      "Training g\n",
      "Train on 1000000 samples, validate on 1000000 samples\n",
      "Epoch 1/1\n",
      "1000000/1000000 [==============================] - 17s 17us/step - loss: 0.2494 - acc: 0.2015 - val_loss: 0.2501 - val_acc: 0.2076\n",
      ". theta fit =  [1.0805475 1.388133 ]\n",
      "Training theta\n",
      "Train on 1000000 samples, validate on 1000000 samples\n",
      "Epoch 1/1\n",
      "1000000/1000000 [==============================] - 17s 17us/step - loss: -0.2491 - acc: 0.2074 - val_loss: -0.2501 - val_acc: 0.2076\n",
      ". theta fit =  [1.0825298 1.388888 ]\n",
      "Epoch:  42\n",
      "Training g\n",
      "Train on 1000000 samples, validate on 1000000 samples\n",
      "Epoch 1/1\n",
      "1000000/1000000 [==============================] - 16s 16us/step - loss: 0.2494 - acc: 0.2027 - val_loss: 0.2500 - val_acc: 0.2027\n",
      ". theta fit =  [1.0825298 1.388888 ]\n",
      "Training theta\n",
      "Train on 1000000 samples, validate on 1000000 samples\n",
      "Epoch 1/1\n",
      "1000000/1000000 [==============================] - 16s 16us/step - loss: -0.2491 - acc: 0.2024 - val_loss: -0.2500 - val_acc: 0.2027\n",
      ". theta fit =  [1.0787468 1.3832593]\n",
      "Epoch:  43\n",
      "Training g\n",
      "Train on 1000000 samples, validate on 1000000 samples\n",
      "Epoch 1/1\n",
      "1000000/1000000 [==============================] - 16s 16us/step - loss: 0.2492 - acc: 0.2065 - val_loss: 0.2503 - val_acc: 0.1964\n",
      ". theta fit =  [1.0787468 1.3832593]\n",
      "Training theta\n",
      "Train on 1000000 samples, validate on 1000000 samples\n",
      "Epoch 1/1\n",
      "1000000/1000000 [==============================] - 17s 17us/step - loss: -0.2496 - acc: 0.1961 - val_loss: -0.2504 - val_acc: 0.1964\n",
      ". theta fit =  [1.0668403 1.3805056]\n",
      "Epoch:  44\n",
      "Training g\n",
      "Train on 1000000 samples, validate on 1000000 samples\n",
      "Epoch 1/1\n",
      "1000000/1000000 [==============================] - 17s 17us/step - loss: 0.2493 - acc: 0.2065 - val_loss: 0.2500 - val_acc: 0.2034\n",
      ". theta fit =  [1.0668403 1.3805056]\n",
      "Training theta\n",
      "Train on 1000000 samples, validate on 1000000 samples\n",
      "Epoch 1/1\n",
      "1000000/1000000 [==============================] - 17s 17us/step - loss: -0.2491 - acc: 0.2032 - val_loss: -0.2500 - val_acc: 0.2034\n",
      ". theta fit =  [1.0641123 1.3794631]\n",
      "Epoch:  45\n",
      "Training g\n",
      "Train on 1000000 samples, validate on 1000000 samples\n",
      "Epoch 1/1\n",
      "1000000/1000000 [==============================] - 17s 17us/step - loss: 0.2492 - acc: 0.2103 - val_loss: 0.2499 - val_acc: 0.2081\n",
      ". theta fit =  [1.0641123 1.3794631]\n",
      "Training theta\n",
      "Train on 1000000 samples, validate on 1000000 samples\n",
      "Epoch 1/1\n",
      "1000000/1000000 [==============================] - 17s 17us/step - loss: -0.2491 - acc: 0.2079 - val_loss: -0.2500 - val_acc: 0.2081\n",
      ". theta fit =  [1.065871  1.3825043]\n",
      "Epoch:  46\n",
      "Training g\n",
      "Train on 1000000 samples, validate on 1000000 samples\n",
      "Epoch 1/1\n",
      "1000000/1000000 [==============================] - 17s 17us/step - loss: 0.2492 - acc: 0.2084 - val_loss: 0.2500 - val_acc: 0.2110\n",
      ". theta fit =  [1.065871  1.3825043]\n",
      "Training theta\n",
      "Train on 1000000 samples, validate on 1000000 samples\n",
      "Epoch 1/1\n"
     ]
    },
    {
     "name": "stdout",
     "output_type": "stream",
     "text": [
      "1000000/1000000 [==============================] - 17s 17us/step - loss: -0.2491 - acc: 0.2108 - val_loss: -0.2500 - val_acc: 0.2110\n",
      ". theta fit =  [1.070528  1.3829602]\n",
      "Epoch:  47\n",
      "Training g\n",
      "Train on 1000000 samples, validate on 1000000 samples\n",
      "Epoch 1/1\n",
      "1000000/1000000 [==============================] - 17s 17us/step - loss: 0.2492 - acc: 0.2032 - val_loss: 0.2500 - val_acc: 0.1968\n",
      ". theta fit =  [1.070528  1.3829602]\n",
      "Training theta\n",
      "Train on 1000000 samples, validate on 1000000 samples\n",
      "Epoch 1/1\n",
      "1000000/1000000 [==============================] - 17s 17us/step - loss: -0.2491 - acc: 0.1963 - val_loss: -0.2500 - val_acc: 0.1968\n",
      ". theta fit =  [1.0707669 1.3811616]\n",
      "Epoch:  48\n",
      "Training g\n",
      "Train on 1000000 samples, validate on 1000000 samples\n",
      "Epoch 1/1\n",
      "1000000/1000000 [==============================] - 17s 17us/step - loss: 0.2494 - acc: 0.2046 - val_loss: 0.2500 - val_acc: 0.2026\n",
      ". theta fit =  [1.0707669 1.3811616]\n",
      "Training theta\n",
      "Train on 1000000 samples, validate on 1000000 samples\n",
      "Epoch 1/1\n",
      "1000000/1000000 [==============================] - 17s 17us/step - loss: -0.2491 - acc: 0.2023 - val_loss: -0.2500 - val_acc: 0.2026\n",
      ". theta fit =  [1.0733443 1.3838984]\n",
      "Epoch:  49\n",
      "Training g\n",
      "Train on 1000000 samples, validate on 1000000 samples\n",
      "Epoch 1/1\n",
      "1000000/1000000 [==============================] - 18s 18us/step - loss: 0.2493 - acc: 0.2040 - val_loss: 0.2501 - val_acc: 0.2086\n",
      ". theta fit =  [1.0733443 1.3838984]\n",
      "Training theta\n",
      "Train on 1000000 samples, validate on 1000000 samples\n",
      "Epoch 1/1\n",
      "1000000/1000000 [==============================] - 18s 18us/step - loss: -0.2491 - acc: 0.2083 - val_loss: -0.2501 - val_acc: 0.2086\n",
      ". theta fit =  [1.0782269 1.3829865]\n"
     ]
    }
   ],
   "source": [
    "myinputs_fit = Input(shape=(1,))\n",
    "x_fit = Dense(128, activation='relu')(myinputs_fit)\n",
    "x2_fit = Dense(128, activation='relu')(x_fit)\n",
    "predictions_fit = Dense(1, activation='sigmoid')(x2_fit)\n",
    "identity = Lambda(lambda x: x + 0)(predictions_fit)\n",
    "\n",
    "model_fit = Model(inputs=myinputs_fit, outputs=identity)\n",
    "model_fit.layers[np.size(model_fit.layers)-1].add_weight(name=\"thetaX\",shape=(2,),\n",
    "                                                         initializer = keras.initializers.Constant(value = theta_fit_init),\n",
    "                                                         trainable=True)\n",
    "model_fit.summary()\n",
    "\n",
    "train_theta = False\n",
    "\n",
    "batch_size = 1000\n",
    "lr = 5e-5 #smaller learning rate yields better precision\n",
    "epochs = 50 #but requires more epochs to train\n",
    "optimizer = keras.optimizers.Adam(lr=lr)\n",
    "\n",
    "def my_loss_wrapper_fit(mysign = 1):\n",
    "    theta = 0. #starting value\n",
    "    #Getting theta_prime:\n",
    "    if train_theta == False:\n",
    "        theta_prime = model_fit.layers[-1].get_weights()[0] #when not training theta, fetch as np array \n",
    "    else:\n",
    "        theta_prime = model_fit.trainable_weights[-1] #when trainingn theta, fetch as tf.Variable\n",
    "    \n",
    "    def my_loss(y_true,y_pred):\n",
    "        y_true = tf.gather(y_true, np.arange(batch_size)) \n",
    "        y_labels = tf.gather(y_true, [0], axis = 1) #actual y_true for loss\n",
    "        x_T = tf.gather(y_true, [1], axis = 1) # sim truth for reweighting\n",
    "        \n",
    "        #creating tensor with same length as inputs, with theta_prime in every entry\n",
    "        concat_input_and_params = K.ones(shape = (x_T.shape[0], 2), dtype=tf.float32)*theta_prime\n",
    "        data = K.concatenate((x_T, concat_input_and_params), axis=-1)\n",
    "        if reweight_analytically == False: #NN reweight\n",
    "            w = reweight(data)\n",
    "        else: # analytical reweight\n",
    "            w = analytical_reweight(events = x_T, \n",
    "                                    mu1 = theta_prime[0], \n",
    "                                    sigma1 = theta_prime[1]) \n",
    "        \n",
    "        # Mean Squared Loss\n",
    "        t_loss = mysign*(y_labels*(y_labels - y_pred)**2+(w)*(1.-y_labels)*(y_labels - y_pred)**2)\n",
    "        # Categorical Cross-Entropy Loss\n",
    "        \n",
    "        #Clip the prediction value to prevent NaN's and Inf's\n",
    "        \"\"\"epsilon = K.epsilon()\n",
    "        y_pred = K.clip(y_pred, epsilon, 1. - epsilon)\n",
    "        \n",
    "        t_loss = -mysign*((y_true)*K.log(y_pred) +w*(1-y_true)*K.log(1-y_pred))\"\"\"\n",
    "        \n",
    "        return K.mean(t_loss)\n",
    "    return my_loss\n",
    "    \n",
    "for k in range(epochs):    \n",
    "    print(\"Epoch: \",k )\n",
    "    for i in range(len(model_fit.layers)-1):\n",
    "        train_theta = False\n",
    "        model_fit.layers[i].trainable = True\n",
    "        pass\n",
    "    \n",
    "    train_theta = False\n",
    "    model_fit.layers[-1].trainable = False\n",
    "    #model.summary()    \n",
    "    \n",
    "    model_fit.compile(optimizer=optimizer, loss=my_loss_wrapper_fit(1),metrics=['accuracy'])\n",
    "    print(\"Training g\")\n",
    "    model_fit.fit(np.array(X_train), y_train, epochs=1, batch_size=batch_size,validation_data=(np.array(X_test), y_test),verbose=1,callbacks=callbacks)\n",
    "\n",
    "    #Now, fix g and train \\theta.\n",
    "\n",
    "    for i in range(len(model_fit.layers)-1):\n",
    "        model_fit.layers[i].trainable = False\n",
    "        pass    \n",
    "    train_theta = True\n",
    "    model_fit.layers[-1].trainable = True\n",
    "    model_fit.compile(optimizer=optimizer, loss=my_loss_wrapper_fit(-1),metrics=['accuracy'])\n",
    "    #model.summary()\n",
    "    print(\"Training theta\")\n",
    "    model_fit.fit(np.array(X_train), y_train, epochs=1, batch_size=batch_size,validation_data=(np.array(X_test), y_test),verbose=1,callbacks=callbacks)    \n",
    "    pass\n",
    "    "
   ]
  },
  {
   "cell_type": "code",
   "execution_count": 31,
   "metadata": {},
   "outputs": [
    {
     "data": {
      "image/png": "[encoded data removed]",
      "text/plain": [
       "<Figure size 432x288 with 2 Axes>"
      ]
     },
     "metadata": {},
     "output_type": "display_data"
    }
   ],
   "source": [
    "fit_vals = np.array(fit_vals)\n",
    "fig, axs = plt.subplots(2, sharex= True,  constrained_layout=True)\n",
    "fig.suptitle(\"GaussianAltFit-2D-Detector Effects :\\n N = {:.0e}, learning rate = {:.0e}, Epochs = {:.0f}\".format(N, lr, len(fit_vals)))\n",
    "axs[0].plot(fit_vals[:,0], label='Model $\\mu$ Fit')\n",
    "axs[0].hlines(theta1_param[0], 0, len(fit_vals), label = '$\\mu_{Truth}$')\n",
    "axs[0].set_ylabel(r'$\\mu$')\n",
    "axs[0].legend(loc='lower right')\n",
    "\n",
    "axs[1].plot(fit_vals[:,1], label='Model $\\sigma$ Fit', color ='orange')\n",
    "axs[1].hlines(theta1_param[1], 0, len(fit_vals), label = '$\\sigma_{Truth}$')\n",
    "axs[1].set_ylabel(r'$\\sigma$')\n",
    "axs[1].legend(loc='lower right')\n",
    "plt.xlabel(\"Epochs\")\n",
    "#fig.savefig(\"GaussianAltFit-2D-Detector Effects: = {:.0e}, learning rate = {:.0e}, Epochs = {:.0f}.png\".format(N, lr, len(fit_vals)))\n",
    "plt.show()\n"
   ]
  },
  {
   "cell_type": "code",
   "execution_count": 32,
   "metadata": {},
   "outputs": [
    {
     "name": "stdout",
     "output_type": "stream",
     "text": [
      "1000000/1000000 [==============================] - 3s 3us/step\n",
      "[-0.25108271074295047, 0.2495940002501011]\n",
      "^ ['loss', 'acc']\n"
     ]
    }
   ],
   "source": [
    "correct_weights = np.array([[theta1_param[0], theta1_param[1]]])\n",
    "\n",
    "model_fit.layers[-1].set_weights(correct_weights)\n",
    "print(model_fit.evaluate(x=X_train, y=y_test, batch_size = 1000))\n",
    "print(\"^\", model_fit.metrics_names)"
   ]
  },
  {
   "cell_type": "code",
   "execution_count": null,
   "metadata": {},
   "outputs": [],
   "source": []
  }
 ],
 "metadata": {
  "kernelspec": {
   "display_name": "Python 3",
   "language": "python",
   "name": "python3"
  },
  "language_info": {
   "codemirror_mode": {
    "name": "ipython",
    "version": 2
   },
   "file_extension": ".py",
   "mimetype": "text/x-python",
   "name": "python",
   "nbconvert_exporter": "python",
   "pygments_lexer": "ipython2",
   "version": "2.7.12"
  }
 },
 "nbformat": 4,
 "nbformat_minor": 2
}
