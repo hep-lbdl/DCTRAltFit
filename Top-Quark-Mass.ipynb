{
 "cells": [
  {
   "cell_type": "code",
   "execution_count": 1,
   "metadata": {
    "ExecuteTime": {
     "end_time": "2020-10-19T02:21:24.834326Z",
     "start_time": "2020-10-19T02:21:24.829935Z"
    }
   },
   "outputs": [],
   "source": [
    "import os\n",
    "os.environ[\"CUDA_DEVICE_ORDER\"] = \"PCI_BUS_ID\"\n",
    "os.environ[\"CUDA_VISIBLE_DEVICES\"] = \"1\""
   ]
  },
  {
   "cell_type": "code",
   "execution_count": 2,
   "metadata": {
    "ExecuteTime": {
     "end_time": "2020-10-19T02:21:26.386600Z",
     "start_time": "2020-10-19T02:21:24.837577Z"
    }
   },
   "outputs": [
    {
     "name": "stderr",
     "output_type": "stream",
     "text": [
      "\n",
      "Bad key \"text.kerning_factor\" on line 4 in\n",
      "/home/asuresh/programs/anaconda3/envs/DCTR/lib/python3.7/site-packages/matplotlib/mpl-data/stylelib/_classic_test_patch.mplstyle.\n",
      "You probably need to get an updated matplotlibrc file from\n",
      "http://github.com/matplotlib/matplotlib/blob/master/matplotlibrc.template\n",
      "or from the matplotlib source distribution\n",
      "Using TensorFlow backend.\n"
     ]
    }
   ],
   "source": [
    "from __future__ import absolute_import, division, print_function\n",
    "\n",
    "import numpy as np\n",
    "from matplotlib import pyplot as plt\n",
    "from matplotlib.patches import Patch\n",
    "import scipy as sp\n",
    "from scipy.optimize import minimize, Bounds\n",
    "\n",
    "from sklearn.model_selection import train_test_split\n",
    "from sklearn.metrics import roc_auc_score\n",
    "\n",
    "import tensorflow as tf\n",
    "import keras\n",
    "import keras.backend as K\n",
    "from keras.layers import Dense, Input\n",
    "from keras.models import Model\n",
    "from keras.utils import to_categorical\n",
    "from keras.callbacks import EarlyStopping"
   ]
  },
  {
   "cell_type": "code",
   "execution_count": 3,
   "metadata": {
    "ExecuteTime": {
     "end_time": "2020-10-19T02:21:26.392498Z",
     "start_time": "2020-10-19T02:21:26.388717Z"
    }
   },
   "outputs": [],
   "source": [
    "# Global plot settings\n",
    "from matplotlib import rc\n",
    "import matplotlib.font_manager\n",
    "\n",
    "rc('font', family='serif')\n",
    "rc('text', usetex=True)\n",
    "rc('font', size=22)\n",
    "rc('xtick', labelsize=15)\n",
    "rc('ytick', labelsize=15)\n",
    "rc('legend', fontsize=15)"
   ]
  },
  {
   "cell_type": "code",
   "execution_count": 4,
   "metadata": {
    "ExecuteTime": {
     "end_time": "2020-10-19T02:21:26.405039Z",
     "start_time": "2020-10-19T02:21:26.394034Z"
    }
   },
   "outputs": [
    {
     "name": "stdout",
     "output_type": "stream",
     "text": [
      "1.15.0\n",
      "2.2.4\n"
     ]
    }
   ],
   "source": [
    "# Check Versions\n",
    "print(tf.__version__)  # 1.15.0\n",
    "print(keras.__version__)  # 2.2.4"
   ]
  },
  {
   "cell_type": "markdown",
   "metadata": {},
   "source": [
    "# The SRGN fitting algorithm\n",
    "\n",
    "The DCTR paper ([arXiv:1907.08209](https://arxiv.org/abs/1907.08209)) shows how a continuously parameterized NN used for reweighting:\n",
    "\n",
    "$f(x,\\theta)=\\text{argmax}_{f'}(\\sum_{i\\in\\bf{\\theta}_0}\\log f'(x_i,\\theta)+\\sum_{i\\in\\bf{\\theta}}\\log (1-f'(x_i,\\theta)))$\n",
    "\n",
    "can also be used for fitting:\n",
    "\n",
    "$\\theta^*=\\text{argmax}_{\\theta'}(\\sum_{i\\in\\bf{\\theta}_0}\\log f(x_i,\\theta')+\\sum_{i\\in\\bf{\\theta}}\\log (1-f(x_i,\\theta')))$\n",
    "\n",
    "This works well when the reweighting and fitting happen on the same 'level'.  However, if the reweighting happens at generator-level (before detector simulation) while the fit happens in simulation (after the effects of the detector), this procedure will not work.  It works only if the reweighting and fitting both happen at simulation-level or both happen at generator-level.  This notebook illustrates the alternative SRGN procedure from [arXiv:2010.03569](https://arxiv.org/abs/2010.03569):\n",
    "\n",
    "Let $x$ and $y$ denote the generator- and simulation-level events respectively. Suppose that $g$ is a neural network defined as follows:\n",
    "\n",
    "$g_{\\theta'}(y)=\\text{argmax}_{g}\\sum_{y_i\\in\\boldsymbol{\\theta_?}}\\log(g_{\\theta'}(y_i))+\n",
    "    \\sum_{(x_i,y_i)\\in\\boldsymbol{\\theta_0}}w_{\\theta_0}(x_i,\\theta')\\log(1-g_{\\theta'}(y_i))$\n",
    "\n",
    "where $w_{\\theta_0}(x,\\theta') = f(x,\\theta')/(1-f(x,\\theta'))$ is a reweighting function learned at generator level (and $\\theta_0$ denotes the nominal value of the parameter).  \n",
    "\n",
    "Then, \n",
    "\n",
    "$\\theta_{\\text{SRGN}}^*\\equiv\\text{argmin}_{\\theta'}\\left[\\Pr(g_{\\theta_?}(y)>g_{\\theta'}(y))\\right]$\n",
    "\n",
    "where the quantity in $[\\cdot]$ is typically called the area under the receiver operating characteristic curve or AUC. We calculate the AUC between $g$’s predictions on events from the unknown sample and  $g$’s predictions on reweighted events from the synthetic sample; effectively, if we reweight events from the synthetic sample $\\boldsymbol{\\theta_0}$ to events from $\\boldsymbol{\\theta’}$, then we calculate the AUC between $g$’s predictions on  $\\boldsymbol{\\theta_?} $and $g$’s predictions on $\\boldsymbol{\\theta’}$.\n",
    "\n",
    "\n",
    "The intuition of the above equation is that the classifier $g$ is trying to distinguish events from the unknown sample $\\boldsymbol{\\theta_?}$ and events from $\\boldsymbol{\\theta'}$ and we try to find a $\\theta'$ that makes $g$'s task maximally hard.  If $g$ can't tell apart the two samples (i.e. the AUC is minimized), then the reweighting has worked! Asympotitically, the SRGN method learns the same result as the one in the body of the DCTR paper: $\\theta^*=\\theta_?$."
   ]
  },
  {
   "cell_type": "markdown",
   "metadata": {},
   "source": [
    "# Top Quark Mass Extraction\n",
    "In this notebook, we apply the SRGN fitting algorithm to fitting the mass of the top quark (denoted $M_t$). \n",
    "\n",
    "Four observables are formed for performing the top quark mass extraction.  First, the $b$-jet closest to the muon is labeled $b_1$.  Of the remaining $b$-tagged jets, the highest $p_T$ one is labeled $b_2$.  The highest two $p_T$ non $b$-tagged jets are labeled $j_1$ and $j_2$.  The four observables are given by: $m_{b_1\\mu\\nu}, m_{b_2j_1j_2}, m_{b_2\\mu\\nu}$, and $m_{b_1j_1j_2}$, where the four-momentum of the detector-level neutrino is determined by solving the quadratic equation for the $W$ boson mass. We denote: ${\\mathcal{O}}_4 = \\{m_{b_1\\mu\\nu}, m_{b_2\\mu\\nu}, m_{b_2j_1j_2}, m_{b_1j_1j_2}\\}$."
   ]
  },
  {
   "cell_type": "code",
   "execution_count": 5,
   "metadata": {
    "ExecuteTime": {
     "end_time": "2020-10-19T02:21:26.411941Z",
     "start_time": "2020-10-19T02:21:26.407713Z"
    }
   },
   "outputs": [],
   "source": [
    "data_dir = '/data1/users/asuresh/DCTRFitting/TopQuarkFitting/'"
   ]
  },
  {
   "cell_type": "markdown",
   "metadata": {},
   "source": [
    "### Utilities"
   ]
  },
  {
   "cell_type": "code",
   "execution_count": 6,
   "metadata": {
    "ExecuteTime": {
     "end_time": "2020-10-19T02:21:26.419598Z",
     "start_time": "2020-10-19T02:21:26.414081Z"
    }
   },
   "outputs": [],
   "source": [
    "def preprocess_data(X):\n",
    "    return X / 1000."
   ]
  },
  {
   "cell_type": "markdown",
   "metadata": {},
   "source": [
    "## Training a DCTR Model\n",
    "First, we need to train a DCTR model parameterized by $M_t$ to provide us with a reweighting function to be used during fitting."
   ]
  },
  {
   "cell_type": "markdown",
   "metadata": {},
   "source": [
    "### Load training & validation data"
   ]
  },
  {
   "cell_type": "code",
   "execution_count": 7,
   "metadata": {
    "ExecuteTime": {
     "end_time": "2020-10-19T02:21:27.997818Z",
     "start_time": "2020-10-19T02:21:26.421399Z"
    }
   },
   "outputs": [],
   "source": [
    "dataset = np.load(data_dir + 'DCTR_Mt_train.npz')\n",
    "\n",
    "X = dataset['X']\n",
    "Y = dataset['Y']\n",
    "\n",
    "X = preprocess_data(X)\n",
    "Y = to_categorical(Y)\n",
    "\n",
    "X_train, X_val, Y_train, Y_val = train_test_split(X, Y, test_size=0.2)"
   ]
  },
  {
   "cell_type": "markdown",
   "metadata": {},
   "source": [
    "### Build Model"
   ]
  },
  {
   "cell_type": "code",
   "execution_count": 8,
   "metadata": {
    "ExecuteTime": {
     "end_time": "2020-10-19T02:21:28.078894Z",
     "start_time": "2020-10-19T02:21:27.999288Z"
    }
   },
   "outputs": [
    {
     "name": "stdout",
     "output_type": "stream",
     "text": [
      "WARNING:tensorflow:From /home/asuresh/programs/anaconda3/envs/DCTR/lib/python3.7/site-packages/keras/backend/tensorflow_backend.py:74: The name tf.get_default_graph is deprecated. Please use tf.compat.v1.get_default_graph instead.\n",
      "\n",
      "WARNING:tensorflow:From /home/asuresh/programs/anaconda3/envs/DCTR/lib/python3.7/site-packages/keras/backend/tensorflow_backend.py:517: The name tf.placeholder is deprecated. Please use tf.compat.v1.placeholder instead.\n",
      "\n",
      "WARNING:tensorflow:From /home/asuresh/programs/anaconda3/envs/DCTR/lib/python3.7/site-packages/keras/backend/tensorflow_backend.py:4138: The name tf.random_uniform is deprecated. Please use tf.random.uniform instead.\n",
      "\n",
      "WARNING:tensorflow:From /home/asuresh/programs/anaconda3/envs/DCTR/lib/python3.7/site-packages/keras/optimizers.py:790: The name tf.train.Optimizer is deprecated. Please use tf.compat.v1.train.Optimizer instead.\n",
      "\n",
      "WARNING:tensorflow:From /home/asuresh/programs/anaconda3/envs/DCTR/lib/python3.7/site-packages/keras/backend/tensorflow_backend.py:3295: The name tf.log is deprecated. Please use tf.math.log instead.\n",
      "\n"
     ]
    }
   ],
   "source": [
    "inputs = Input((5, ))\n",
    "hidden_layer_1 = Dense(50, activation='relu')(inputs)\n",
    "hidden_layer_2 = Dense(50, activation='relu')(hidden_layer_1)\n",
    "hidden_layer_3 = Dense(50, activation='relu')(hidden_layer_2)\n",
    "\n",
    "outputs = Dense(2, activation='softmax')(hidden_layer_3)\n",
    "\n",
    "dctr = Model(inputs=inputs, outputs=outputs)\n",
    "dctr.compile(loss='categorical_crossentropy',\n",
    "             optimizer='Adam',\n",
    "             metrics=['accuracy'])"
   ]
  },
  {
   "cell_type": "markdown",
   "metadata": {},
   "source": [
    "### Train Model"
   ]
  },
  {
   "cell_type": "code",
   "execution_count": 9,
   "metadata": {
    "ExecuteTime": {
     "end_time": "2020-10-19T03:04:03.784291Z",
     "start_time": "2020-10-19T02:21:28.081573Z"
    }
   },
   "outputs": [
    {
     "name": "stdout",
     "output_type": "stream",
     "text": [
      "WARNING:tensorflow:From /home/asuresh/programs/anaconda3/envs/DCTR/lib/python3.7/site-packages/tensorflow_core/python/ops/math_grad.py:1424: where (from tensorflow.python.ops.array_ops) is deprecated and will be removed in a future version.\n",
      "Instructions for updating:\n",
      "Use tf.where in 2.0, which has the same broadcast rule as np.where\n",
      "WARNING:tensorflow:From /home/asuresh/programs/anaconda3/envs/DCTR/lib/python3.7/site-packages/keras/backend/tensorflow_backend.py:986: The name tf.assign_add is deprecated. Please use tf.compat.v1.assign_add instead.\n",
      "\n",
      "WARNING:tensorflow:From /home/asuresh/programs/anaconda3/envs/DCTR/lib/python3.7/site-packages/keras/backend/tensorflow_backend.py:973: The name tf.assign is deprecated. Please use tf.compat.v1.assign instead.\n",
      "\n",
      "WARNING:tensorflow:From /home/asuresh/programs/anaconda3/envs/DCTR/lib/python3.7/site-packages/keras/backend/tensorflow_backend.py:2741: The name tf.Session is deprecated. Please use tf.compat.v1.Session instead.\n",
      "\n",
      "Train on 5548419 samples, validate on 1387105 samples\n",
      "Epoch 1/200\n",
      "WARNING:tensorflow:From /home/asuresh/programs/anaconda3/envs/DCTR/lib/python3.7/site-packages/keras/backend/tensorflow_backend.py:174: The name tf.get_default_session is deprecated. Please use tf.compat.v1.get_default_session instead.\n",
      "\n",
      "WARNING:tensorflow:From /home/asuresh/programs/anaconda3/envs/DCTR/lib/python3.7/site-packages/keras/backend/tensorflow_backend.py:181: The name tf.ConfigProto is deprecated. Please use tf.compat.v1.ConfigProto instead.\n",
      "\n",
      "WARNING:tensorflow:From /home/asuresh/programs/anaconda3/envs/DCTR/lib/python3.7/site-packages/keras/backend/tensorflow_backend.py:190: The name tf.global_variables is deprecated. Please use tf.compat.v1.global_variables instead.\n",
      "\n",
      "WARNING:tensorflow:From /home/asuresh/programs/anaconda3/envs/DCTR/lib/python3.7/site-packages/keras/backend/tensorflow_backend.py:199: The name tf.is_variable_initialized is deprecated. Please use tf.compat.v1.is_variable_initialized instead.\n",
      "\n",
      "WARNING:tensorflow:From /home/asuresh/programs/anaconda3/envs/DCTR/lib/python3.7/site-packages/keras/backend/tensorflow_backend.py:206: The name tf.variables_initializer is deprecated. Please use tf.compat.v1.variables_initializer instead.\n",
      "\n",
      "5548419/5548419 [==============================] - 32s 6us/step - loss: 0.5109 - acc: 0.7925 - val_loss: 0.5115 - val_acc: 0.7924\n",
      "Epoch 2/200\n",
      "5548419/5548419 [==============================] - 31s 6us/step - loss: 0.5103 - acc: 0.7925 - val_loss: 0.5103 - val_acc: 0.7924\n",
      "Epoch 3/200\n",
      "5548419/5548419 [==============================] - 31s 6us/step - loss: 0.5100 - acc: 0.7925 - val_loss: 0.5098 - val_acc: 0.7924\n",
      "Epoch 4/200\n",
      "5548419/5548419 [==============================] - 31s 6us/step - loss: 0.5096 - acc: 0.7925 - val_loss: 0.5094 - val_acc: 0.7924\n",
      "Epoch 5/200\n",
      "5548419/5548419 [==============================] - 31s 6us/step - loss: 0.5091 - acc: 0.7925 - val_loss: 0.5088 - val_acc: 0.7924\n",
      "Epoch 6/200\n",
      "5548419/5548419 [==============================] - 31s 6us/step - loss: 0.5088 - acc: 0.7925 - val_loss: 0.5087 - val_acc: 0.7924\n",
      "Epoch 7/200\n",
      "5548419/5548419 [==============================] - 31s 6us/step - loss: 0.5085 - acc: 0.7925 - val_loss: 0.5082 - val_acc: 0.7924\n",
      "Epoch 8/200\n",
      "5548419/5548419 [==============================] - 31s 6us/step - loss: 0.5081 - acc: 0.7925 - val_loss: 0.5079 - val_acc: 0.7924\n",
      "Epoch 9/200\n",
      "5548419/5548419 [==============================] - 31s 6us/step - loss: 0.5079 - acc: 0.7925 - val_loss: 0.5082 - val_acc: 0.7924\n",
      "Epoch 10/200\n",
      "5548419/5548419 [==============================] - 31s 6us/step - loss: 0.5077 - acc: 0.7925 - val_loss: 0.5080 - val_acc: 0.7924\n",
      "Epoch 11/200\n",
      "5548419/5548419 [==============================] - 31s 6us/step - loss: 0.5075 - acc: 0.7925 - val_loss: 0.5084 - val_acc: 0.7924\n",
      "Epoch 12/200\n",
      "5548419/5548419 [==============================] - 31s 6us/step - loss: 0.5074 - acc: 0.7925 - val_loss: 0.5071 - val_acc: 0.7924\n",
      "Epoch 13/200\n",
      "5548419/5548419 [==============================] - 31s 6us/step - loss: 0.5071 - acc: 0.7925 - val_loss: 0.5066 - val_acc: 0.7924\n",
      "Epoch 14/200\n",
      "5548419/5548419 [==============================] - 31s 6us/step - loss: 0.5070 - acc: 0.7925 - val_loss: 0.5096 - val_acc: 0.7924\n",
      "Epoch 15/200\n",
      "5548419/5548419 [==============================] - 31s 6us/step - loss: 0.5070 - acc: 0.7925 - val_loss: 0.5066 - val_acc: 0.7924\n",
      "Epoch 16/200\n",
      "5548419/5548419 [==============================] - 31s 6us/step - loss: 0.5068 - acc: 0.7925 - val_loss: 0.5067 - val_acc: 0.7924\n",
      "Epoch 17/200\n",
      "5548419/5548419 [==============================] - 31s 6us/step - loss: 0.5067 - acc: 0.7925 - val_loss: 0.5062 - val_acc: 0.7924\n",
      "Epoch 18/200\n",
      "5548419/5548419 [==============================] - 31s 6us/step - loss: 0.5067 - acc: 0.7925 - val_loss: 0.5066 - val_acc: 0.7924\n",
      "Epoch 19/200\n",
      "5548419/5548419 [==============================] - 31s 6us/step - loss: 0.5066 - acc: 0.7925 - val_loss: 0.5064 - val_acc: 0.7924\n",
      "Epoch 20/200\n",
      "5548419/5548419 [==============================] - 31s 6us/step - loss: 0.5065 - acc: 0.7925 - val_loss: 0.5068 - val_acc: 0.7924\n",
      "Epoch 21/200\n",
      "5548419/5548419 [==============================] - 31s 6us/step - loss: 0.5065 - acc: 0.7925 - val_loss: 0.5060 - val_acc: 0.7924\n",
      "Epoch 22/200\n",
      "5548419/5548419 [==============================] - 31s 6us/step - loss: 0.5064 - acc: 0.7925 - val_loss: 0.5075 - val_acc: 0.7924\n",
      "Epoch 23/200\n",
      "5548419/5548419 [==============================] - 31s 6us/step - loss: 0.5064 - acc: 0.7925 - val_loss: 0.5063 - val_acc: 0.7924\n",
      "Epoch 24/200\n",
      "5548419/5548419 [==============================] - 31s 6us/step - loss: 0.5063 - acc: 0.7925 - val_loss: 0.5089 - val_acc: 0.7924\n",
      "Epoch 25/200\n",
      "5548419/5548419 [==============================] - 31s 6us/step - loss: 0.5063 - acc: 0.7925 - val_loss: 0.5066 - val_acc: 0.7924\n",
      "Epoch 26/200\n",
      "5548419/5548419 [==============================] - 31s 6us/step - loss: 0.5063 - acc: 0.7925 - val_loss: 0.5070 - val_acc: 0.7924\n",
      "Epoch 27/200\n",
      "5548419/5548419 [==============================] - 31s 6us/step - loss: 0.5063 - acc: 0.7925 - val_loss: 0.5060 - val_acc: 0.7924\n",
      "Epoch 28/200\n",
      "5548419/5548419 [==============================] - 31s 6us/step - loss: 0.5062 - acc: 0.7925 - val_loss: 0.5064 - val_acc: 0.7924\n",
      "Epoch 29/200\n",
      "5548419/5548419 [==============================] - 31s 6us/step - loss: 0.5062 - acc: 0.7925 - val_loss: 0.5064 - val_acc: 0.7924\n",
      "Epoch 30/200\n",
      "5548419/5548419 [==============================] - 31s 6us/step - loss: 0.5061 - acc: 0.7925 - val_loss: 0.5063 - val_acc: 0.7924\n",
      "Epoch 31/200\n",
      "5548419/5548419 [==============================] - 31s 6us/step - loss: 0.5061 - acc: 0.7925 - val_loss: 0.5073 - val_acc: 0.7924\n",
      "Epoch 32/200\n",
      "5548419/5548419 [==============================] - 31s 6us/step - loss: 0.5061 - acc: 0.7925 - val_loss: 0.5059 - val_acc: 0.7924\n",
      "Epoch 33/200\n",
      "5548419/5548419 [==============================] - 31s 6us/step - loss: 0.5061 - acc: 0.7925 - val_loss: 0.5069 - val_acc: 0.7924\n",
      "Epoch 34/200\n",
      "5548419/5548419 [==============================] - 31s 6us/step - loss: 0.5060 - acc: 0.7925 - val_loss: 0.5066 - val_acc: 0.7924\n",
      "Epoch 35/200\n",
      "5548419/5548419 [==============================] - 31s 6us/step - loss: 0.5060 - acc: 0.7925 - val_loss: 0.5062 - val_acc: 0.7924\n",
      "Epoch 36/200\n",
      "5548419/5548419 [==============================] - 31s 6us/step - loss: 0.5060 - acc: 0.7925 - val_loss: 0.5063 - val_acc: 0.7924\n",
      "Epoch 37/200\n",
      "5548419/5548419 [==============================] - 31s 6us/step - loss: 0.5060 - acc: 0.7925 - val_loss: 0.5060 - val_acc: 0.7924\n",
      "Epoch 38/200\n",
      "5548419/5548419 [==============================] - 31s 6us/step - loss: 0.5060 - acc: 0.7925 - val_loss: 0.5058 - val_acc: 0.7924\n",
      "Epoch 39/200\n",
      "5548419/5548419 [==============================] - 31s 6us/step - loss: 0.5060 - acc: 0.7925 - val_loss: 0.5059 - val_acc: 0.7924\n",
      "Epoch 40/200\n",
      "5548419/5548419 [==============================] - 31s 6us/step - loss: 0.5059 - acc: 0.7925 - val_loss: 0.5059 - val_acc: 0.7924\n",
      "Epoch 41/200\n",
      "5548419/5548419 [==============================] - 31s 6us/step - loss: 0.5060 - acc: 0.7925 - val_loss: 0.5068 - val_acc: 0.7924\n",
      "Epoch 42/200\n",
      "5548419/5548419 [==============================] - 31s 6us/step - loss: 0.5059 - acc: 0.7925 - val_loss: 0.5061 - val_acc: 0.7924\n",
      "Epoch 43/200\n",
      "5548419/5548419 [==============================] - 31s 6us/step - loss: 0.5059 - acc: 0.7925 - val_loss: 0.5055 - val_acc: 0.7924\n",
      "Epoch 44/200\n",
      "5548419/5548419 [==============================] - 31s 6us/step - loss: 0.5059 - acc: 0.7925 - val_loss: 0.5057 - val_acc: 0.7924\n",
      "Epoch 45/200\n",
      "5548419/5548419 [==============================] - 31s 6us/step - loss: 0.5058 - acc: 0.7925 - val_loss: 0.5064 - val_acc: 0.7924\n",
      "Epoch 46/200\n",
      "5548419/5548419 [==============================] - 31s 6us/step - loss: 0.5058 - acc: 0.7925 - val_loss: 0.5056 - val_acc: 0.7924\n",
      "Epoch 47/200\n",
      "5548419/5548419 [==============================] - 31s 6us/step - loss: 0.5058 - acc: 0.7925 - val_loss: 0.5056 - val_acc: 0.7924\n",
      "Epoch 48/200\n",
      "5548419/5548419 [==============================] - 31s 6us/step - loss: 0.5059 - acc: 0.7925 - val_loss: 0.5061 - val_acc: 0.7924\n",
      "Epoch 49/200\n",
      "5548419/5548419 [==============================] - 31s 6us/step - loss: 0.5058 - acc: 0.7925 - val_loss: 0.5064 - val_acc: 0.7924\n",
      "Epoch 50/200\n",
      "5548419/5548419 [==============================] - 31s 6us/step - loss: 0.5058 - acc: 0.7925 - val_loss: 0.5054 - val_acc: 0.7924\n",
      "Epoch 51/200\n",
      "5548419/5548419 [==============================] - 31s 6us/step - loss: 0.5058 - acc: 0.7925 - val_loss: 0.5065 - val_acc: 0.7924\n",
      "Epoch 52/200\n",
      "5548419/5548419 [==============================] - 31s 6us/step - loss: 0.5057 - acc: 0.7925 - val_loss: 0.5057 - val_acc: 0.7924\n",
      "Epoch 53/200\n",
      "5548419/5548419 [==============================] - 31s 6us/step - loss: 0.5057 - acc: 0.7925 - val_loss: 0.5059 - val_acc: 0.7924\n",
      "Epoch 54/200\n",
      "5548419/5548419 [==============================] - 31s 6us/step - loss: 0.5057 - acc: 0.7925 - val_loss: 0.5064 - val_acc: 0.7924\n",
      "Epoch 55/200\n",
      "5548419/5548419 [==============================] - 31s 6us/step - loss: 0.5057 - acc: 0.7925 - val_loss: 0.5057 - val_acc: 0.7924\n",
      "Epoch 56/200\n",
      "5548419/5548419 [==============================] - 31s 6us/step - loss: 0.5057 - acc: 0.7925 - val_loss: 0.5059 - val_acc: 0.7924\n",
      "Epoch 57/200\n",
      "5548419/5548419 [==============================] - 31s 6us/step - loss: 0.5057 - acc: 0.7925 - val_loss: 0.5057 - val_acc: 0.7924\n",
      "Epoch 58/200\n",
      "5548419/5548419 [==============================] - 31s 6us/step - loss: 0.5056 - acc: 0.7925 - val_loss: 0.5055 - val_acc: 0.7924\n",
      "Epoch 59/200\n",
      "5548419/5548419 [==============================] - 31s 6us/step - loss: 0.5057 - acc: 0.7925 - val_loss: 0.5057 - val_acc: 0.7924\n",
      "Epoch 60/200\n",
      "5548419/5548419 [==============================] - 31s 6us/step - loss: 0.5057 - acc: 0.7925 - val_loss: 0.5059 - val_acc: 0.7924\n",
      "Epoch 61/200\n",
      "5548419/5548419 [==============================] - 31s 6us/step - loss: 0.5056 - acc: 0.7925 - val_loss: 0.5055 - val_acc: 0.7924\n",
      "Epoch 62/200\n",
      "5548419/5548419 [==============================] - 31s 6us/step - loss: 0.5056 - acc: 0.7925 - val_loss: 0.5058 - val_acc: 0.7924\n",
      "Epoch 63/200\n",
      "5548419/5548419 [==============================] - 31s 6us/step - loss: 0.5056 - acc: 0.7925 - val_loss: 0.5054 - val_acc: 0.7924\n",
      "Epoch 64/200\n",
      "5548419/5548419 [==============================] - 31s 6us/step - loss: 0.5056 - acc: 0.7925 - val_loss: 0.5060 - val_acc: 0.7924\n",
      "Epoch 65/200\n",
      "5548419/5548419 [==============================] - 31s 6us/step - loss: 0.5056 - acc: 0.7925 - val_loss: 0.5057 - val_acc: 0.7924\n",
      "Epoch 66/200\n",
      "5548419/5548419 [==============================] - 31s 6us/step - loss: 0.5056 - acc: 0.7925 - val_loss: 0.5055 - val_acc: 0.7924\n",
      "Epoch 67/200\n",
      "5548419/5548419 [==============================] - 31s 6us/step - loss: 0.5056 - acc: 0.7925 - val_loss: 0.5054 - val_acc: 0.7924\n",
      "Epoch 68/200\n",
      "5548419/5548419 [==============================] - 31s 6us/step - loss: 0.5056 - acc: 0.7925 - val_loss: 0.5057 - val_acc: 0.7924\n",
      "Epoch 69/200\n",
      "5548419/5548419 [==============================] - 31s 6us/step - loss: 0.5055 - acc: 0.7925 - val_loss: 0.5057 - val_acc: 0.7924\n",
      "Epoch 70/200\n",
      "5548419/5548419 [==============================] - 31s 6us/step - loss: 0.5055 - acc: 0.7925 - val_loss: 0.5055 - val_acc: 0.7924\n",
      "Epoch 71/200\n",
      "5548419/5548419 [==============================] - 31s 6us/step - loss: 0.5055 - acc: 0.7925 - val_loss: 0.5059 - val_acc: 0.7924\n",
      "Epoch 72/200\n",
      "5548419/5548419 [==============================] - 31s 6us/step - loss: 0.5055 - acc: 0.7925 - val_loss: 0.5060 - val_acc: 0.7924\n",
      "Epoch 73/200\n",
      "5548419/5548419 [==============================] - 31s 6us/step - loss: 0.5055 - acc: 0.7925 - val_loss: 0.5058 - val_acc: 0.7924\n",
      "Epoch 74/200\n",
      "5548419/5548419 [==============================] - 31s 6us/step - loss: 0.5055 - acc: 0.7925 - val_loss: 0.5069 - val_acc: 0.7924\n",
      "Epoch 75/200\n",
      "5548419/5548419 [==============================] - 31s 6us/step - loss: 0.5055 - acc: 0.7925 - val_loss: 0.5054 - val_acc: 0.7924\n",
      "Epoch 76/200\n",
      "5548419/5548419 [==============================] - 31s 6us/step - loss: 0.5055 - acc: 0.7925 - val_loss: 0.5058 - val_acc: 0.7924\n",
      "Epoch 77/200\n",
      "5548419/5548419 [==============================] - 31s 6us/step - loss: 0.5055 - acc: 0.7925 - val_loss: 0.5062 - val_acc: 0.7924\n",
      "Epoch 78/200\n",
      "5548419/5548419 [==============================] - 31s 6us/step - loss: 0.5055 - acc: 0.7925 - val_loss: 0.5054 - val_acc: 0.7924\n",
      "Epoch 79/200\n",
      "5548419/5548419 [==============================] - 31s 6us/step - loss: 0.5054 - acc: 0.7925 - val_loss: 0.5054 - val_acc: 0.7924\n",
      "Epoch 80/200\n",
      "5548419/5548419 [==============================] - 31s 6us/step - loss: 0.5055 - acc: 0.7925 - val_loss: 0.5055 - val_acc: 0.7924\n",
      "Epoch 81/200\n",
      "5548419/5548419 [==============================] - 31s 6us/step - loss: 0.5055 - acc: 0.7925 - val_loss: 0.5056 - val_acc: 0.7924\n",
      "Epoch 82/200\n",
      "5548419/5548419 [==============================] - 31s 6us/step - loss: 0.5054 - acc: 0.7925 - val_loss: 0.5056 - val_acc: 0.7924\n",
      "Epoch 83/200\n",
      "5548419/5548419 [==============================] - 31s 6us/step - loss: 0.5055 - acc: 0.7925 - val_loss: 0.5057 - val_acc: 0.7924\n",
      "Restoring model weights from the end of the best epoch\n",
      "Epoch 00083: early stopping\n"
     ]
    },
    {
     "data": {
      "text/plain": [
       "<keras.callbacks.History at 0x7f4d3e85f4d0>"
      ]
     },
     "execution_count": 9,
     "metadata": {},
     "output_type": "execute_result"
    }
   ],
   "source": [
    "earlystopping = EarlyStopping(patience=20,\n",
    "                              verbose=1,\n",
    "                              restore_best_weights=True)\n",
    "\n",
    "dctr.fit(X_train,\n",
    "         Y_train,\n",
    "         epochs=200,\n",
    "         batch_size=1000,\n",
    "         validation_data=(X_val, Y_val),\n",
    "         verbose=1,\n",
    "         callbacks=[earlystopping])"
   ]
  },
  {
   "cell_type": "markdown",
   "metadata": {},
   "source": [
    "### Defining reweighting function\n",
    "\n",
    "$w_{\\theta_0}(x_{G,i},\\theta)=\\frac{f(x_{G,i},\\theta)}{1-f(x_{G,i},\\theta)}$, where $f$  is a fully trained DCTR model.\n",
    "\n",
    "Takes generator-level event $x_{G,i}$ from the synthetic sample $\\boldsymbol{\\theta_0}$ and weights it to an event from $\\boldsymbol{\\theta}$."
   ]
  },
  {
   "cell_type": "code",
   "execution_count": 10,
   "metadata": {
    "ExecuteTime": {
     "end_time": "2020-10-19T03:04:03.790876Z",
     "start_time": "2020-10-19T03:04:03.786455Z"
    }
   },
   "outputs": [],
   "source": [
    "def reweight(events, param):\n",
    "    theta_prime = param / 1000\n",
    "\n",
    "    # creating array with same length as inputs, with theta_prime in every entry\n",
    "    concat_input_and_params = np.ones(shape=(events.shape[0], 1)) * theta_prime\n",
    "    # combining and reshaping into correct format:\n",
    "    model_inputs = np.concatenate((events, concat_input_and_params), axis=-1)\n",
    "\n",
    "    f = dctr.predict(model_inputs, batch_size=1000)\n",
    "\n",
    "    weights = (f[:, 1]) / (f[:, 0])\n",
    "    return weights"
   ]
  },
  {
   "cell_type": "markdown",
   "metadata": {},
   "source": [
    "## Validate DCTR for $M_t=175\\text{ GeV}$"
   ]
  },
  {
   "cell_type": "code",
   "execution_count": 11,
   "metadata": {
    "ExecuteTime": {
     "end_time": "2020-10-19T03:04:03.802057Z",
     "start_time": "2020-10-19T03:04:03.792525Z"
    }
   },
   "outputs": [],
   "source": [
    "# Define default plot styles\n",
    "plot_style_0 = {\n",
    "    'histtype': 'step',\n",
    "    'color': 'black',\n",
    "    'linewidth': 2,\n",
    "    'linestyle': '--',\n",
    "    'density': True\n",
    "}\n",
    "plot_style_1 = {'alpha': 0.5, 'density': True}\n",
    "\n",
    "label_0 = r'$M_t=172.5$'\n",
    "\n",
    "label_1 = r'$M_t=175.0$'\n",
    "\n",
    "pythia_text = r'\\textsc{Pythia 8 + Delphes 3}' + '\\n' + r'$pp \\to t\\bar{t}$' + '\\n' + r\"anti-$k_{\\mathrm{T}}$, $R=0.4$\"\n",
    "\n",
    "\n",
    "def make_legend(ax, loc='best'):\n",
    "    leg = ax.legend(frameon=False, loc=loc)\n",
    "    leg.set_title(pythia_text, prop={'size': 14})\n",
    "    leg._legend_box.align = \"left\""
   ]
  },
  {
   "cell_type": "code",
   "execution_count": 12,
   "metadata": {
    "ExecuteTime": {
     "end_time": "2020-10-19T03:04:04.210159Z",
     "start_time": "2020-10-19T03:04:03.803948Z"
    }
   },
   "outputs": [],
   "source": [
    "test_dataset_0 = np.load(data_dir + 'SRGN_Mt_default.npz')\n",
    "test_dataset_1 = np.load(data_dir + 'SRGN_Mt_unknown.npz')\n",
    "\n",
    "X0_test_G = preprocess_data(test_dataset_0['generator'])\n",
    "X0_test_S = preprocess_data(test_dataset_0['simulation'])\n",
    "X1_test_G = preprocess_data(test_dataset_1['generator'])\n",
    "X1_test_S = preprocess_data(test_dataset_1['simulation'])"
   ]
  },
  {
   "cell_type": "code",
   "execution_count": 13,
   "metadata": {
    "ExecuteTime": {
     "end_time": "2020-10-19T03:04:06.674640Z",
     "start_time": "2020-10-19T03:04:04.211915Z"
    }
   },
   "outputs": [],
   "source": [
    "weights = reweight(X0_test_G, 175.)"
   ]
  },
  {
   "cell_type": "code",
   "execution_count": 14,
   "metadata": {
    "ExecuteTime": {
     "end_time": "2020-10-19T03:04:17.525376Z",
     "start_time": "2020-10-19T03:04:06.676819Z"
    }
   },
   "outputs": [
    {
     "data": {
      "image/png": "[encoded data removed]",
      "text/plain": [
       "<Figure size 1296x1440 with 12 Axes>"
      ]
     },
     "metadata": {
      "needs_background": "light"
     },
     "output_type": "display_data"
    }
   ],
   "source": [
    "fig, ax = plt.subplots(4, 3, figsize=(18, 20), constrained_layout=True)\n",
    "\n",
    "bins = np.linspace(80, 400, 31)\n",
    "ax[0, 0].hist(1000 * X0_test_G[:, 0], bins=bins, label=label_0, **plot_style_1)\n",
    "ax[0, 0].hist(1000 * X0_test_G[:, 0],\n",
    "              weights=weights,\n",
    "              bins=bins,\n",
    "              label=label_0 + ' wgt.',\n",
    "              **plot_style_0)\n",
    "ax[0, 0].hist(1000 * X1_test_G[:, 0], bins=bins, label=label_1, **plot_style_1)\n",
    "ax[0, 0].set_xlabel(r'$m_{b_1\\mu\\nu, G}$')\n",
    "ax[0, 0].set_ylabel('Jets per bin (normalized)')\n",
    "make_legend(ax[0, 0])\n",
    "\n",
    "bins = np.linspace(80, 400, 31)\n",
    "ax[1, 0].hist(1000 * X0_test_G[:, 1], bins=bins, label=label_0, **plot_style_1)\n",
    "ax[1, 0].hist(1000 * X0_test_G[:, 1],\n",
    "              weights=weights,\n",
    "              bins=bins,\n",
    "              label=label_0 + ' wgt.',\n",
    "              **plot_style_0)\n",
    "ax[1, 0].hist(1000 * X1_test_G[:, 1], bins=bins, label=label_1, **plot_style_1)\n",
    "ax[1, 0].set_xlabel(r'$m_{b_2jj, G}$')\n",
    "ax[1, 0].set_ylabel('Jets per bin (normalized)')\n",
    "make_legend(ax[1, 0])\n",
    "\n",
    "bins = np.linspace(80, 500, 31)\n",
    "ax[2, 0].hist(1000 * X0_test_G[:, 2], bins=bins, label=label_0, **plot_style_1)\n",
    "ax[2, 0].hist(1000 * X0_test_G[:, 2],\n",
    "              weights=weights,\n",
    "              bins=bins,\n",
    "              label=label_0 + ' wgt.',\n",
    "              **plot_style_0)\n",
    "ax[2, 0].hist(1000 * X1_test_G[:, 2], bins=bins, label=label_1, **plot_style_1)\n",
    "ax[2, 0].set_xlabel(r'$m_{b_2\\mu\\nu, G}$')\n",
    "ax[2, 0].set_ylabel('Jets per bin (normalized)')\n",
    "make_legend(ax[2, 0])\n",
    "\n",
    "bins = np.linspace(80, 500, 31)\n",
    "ax[3, 0].hist(1000 * X0_test_G[:, 3], bins=bins, label=label_0, **plot_style_1)\n",
    "ax[3, 0].hist(1000 * X0_test_G[:, 3],\n",
    "              weights=weights,\n",
    "              bins=bins,\n",
    "              label=label_0 + ' wgt.',\n",
    "              **plot_style_0)\n",
    "ax[3, 0].hist(1000 * X1_test_G[:, 3], bins=bins, label=label_1, **plot_style_1)\n",
    "ax[3, 0].set_xlabel(r'$m_{b_1jj, G}$')\n",
    "ax[3, 0].set_ylabel('Jets per bin (normalized)')\n",
    "make_legend(ax[3, 0])\n",
    "\n",
    "bins = np.linspace(80, 400, 31)\n",
    "ax[0, 1].hist(1000 * X0_test_G[:, 0],\n",
    "              bins=bins,\n",
    "              label='Generator',\n",
    "              **plot_style_1)\n",
    "\n",
    "ax[0, 1].hist(1000 * X0_test_S[:, 0],\n",
    "              bins=bins,\n",
    "              label='Simulation',\n",
    "              **plot_style_1)\n",
    "ax[0, 1].set_xlabel(r'$m_{b_1\\mu\\nu}$')\n",
    "ax[0, 1].set_ylabel('Jets per bin (normalized)')\n",
    "make_legend(ax[0, 1])\n",
    "\n",
    "bins = np.linspace(80, 400, 31)\n",
    "ax[1, 1].hist(1000 * X0_test_G[:, 1],\n",
    "              bins=bins,\n",
    "              label='Generator',\n",
    "              **plot_style_1)\n",
    "\n",
    "ax[1, 1].hist(1000 * X0_test_S[:, 1],\n",
    "              bins=bins,\n",
    "              label='Simulation',\n",
    "              **plot_style_1)\n",
    "ax[1, 1].set_xlabel(r'$m_{b_2jj}$')\n",
    "ax[1, 1].set_ylabel('Jets per bin (normalized)')\n",
    "make_legend(ax[1, 1])\n",
    "\n",
    "bins = np.linspace(80, 500, 31)\n",
    "ax[2, 1].hist(1000 * X0_test_G[:, 2],\n",
    "              bins=bins,\n",
    "              label='Generator',\n",
    "              **plot_style_1)\n",
    "\n",
    "ax[2, 1].hist(1000 * X0_test_S[:, 2],\n",
    "              bins=bins,\n",
    "              label='Simulation',\n",
    "              **plot_style_1)\n",
    "ax[2, 1].set_xlabel(r'$m_{b_2\\mu\\nu}$')\n",
    "ax[2, 1].set_ylabel('Jets per bin (normalized)')\n",
    "make_legend(ax[2, 1])\n",
    "\n",
    "bins = np.linspace(80, 500, 31)\n",
    "ax[3, 1].hist(1000 * X0_test_G[:, 3],\n",
    "              bins=bins,\n",
    "              label='Generator',\n",
    "              **plot_style_1)\n",
    "\n",
    "ax[3, 1].hist(1000 * X0_test_S[:, 3],\n",
    "              bins=bins,\n",
    "              label='Simulation',\n",
    "              **plot_style_1)\n",
    "ax[3, 1].set_xlabel(r'$m_{b_1jj}$')\n",
    "ax[3, 1].set_ylabel('Jets per bin (normalized)')\n",
    "make_legend(ax[3, 1])\n",
    "\n",
    "bins = np.linspace(80, 400, 31)\n",
    "ax[0, 2].hist(1000 * X0_test_S[:, 0], bins=bins, label=label_0, **plot_style_1)\n",
    "ax[0, 2].hist(1000 * X0_test_S[:, 0],\n",
    "              weights=weights,\n",
    "              bins=bins,\n",
    "              label=label_0 + ' wgt.',\n",
    "              **plot_style_0)\n",
    "ax[0, 2].hist(1000 * X1_test_S[:, 0], bins=bins, label=label_1, **plot_style_1)\n",
    "ax[0, 2].set_xlabel(r'$m_{b_1\\mu\\nu, S}$')\n",
    "ax[0, 2].set_ylabel('Jets per bin (normalized)')\n",
    "make_legend(ax[0, 2])\n",
    "\n",
    "bins = np.linspace(80, 400, 31)\n",
    "ax[1, 2].hist(1000 * X0_test_S[:, 1], bins=bins, label=label_0, **plot_style_1)\n",
    "ax[1, 2].hist(1000 * X0_test_S[:, 1],\n",
    "              weights=weights,\n",
    "              bins=bins,\n",
    "              label=label_0 + ' wgt.',\n",
    "              **plot_style_0)\n",
    "ax[1, 2].hist(1000 * X1_test_S[:, 1], bins=bins, label=label_1, **plot_style_1)\n",
    "ax[1, 2].set_xlabel(r'$m_{b_2jj, S}$')\n",
    "ax[1, 2].set_ylabel('Jets per bin (normalized)')\n",
    "make_legend(ax[1, 2])\n",
    "\n",
    "bins = np.linspace(80, 500, 31)\n",
    "ax[2, 2].hist(1000 * X0_test_S[:, 2], bins=bins, label=label_0, **plot_style_1)\n",
    "ax[2, 2].hist(1000 * X0_test_S[:, 2],\n",
    "              weights=weights,\n",
    "              bins=bins,\n",
    "              label=label_0 + ' wgt.',\n",
    "              **plot_style_0)\n",
    "ax[2, 2].hist(1000 * X1_test_S[:, 2], bins=bins, label=label_1, **plot_style_1)\n",
    "ax[2, 2].set_xlabel(r'$m_{b_2\\mu\\nu, S}$')\n",
    "ax[2, 2].set_ylabel('Jets per bin (normalized)')\n",
    "make_legend(ax[2, 2])\n",
    "\n",
    "bins = np.linspace(80, 500, 31)\n",
    "ax[3, 2].hist(\n",
    "    1000 * X0_test_S[:, 3],\n",
    "    bins=bins,\n",
    "    label=label_0,\n",
    "    **plot_style_1,\n",
    ")\n",
    "ax[3, 2].hist(1000 * X0_test_S[:, 3],\n",
    "              weights=weights,\n",
    "              bins=bins,\n",
    "              label=label_0 + ' wgt.',\n",
    "              **plot_style_0)\n",
    "ax[3, 2].hist(1000 * X1_test_S[:, 3], bins=bins, label=label_1, **plot_style_1)\n",
    "ax[3, 2].set_xlabel(r'$m_{b_1jj, S}$')\n",
    "ax[3, 2].set_ylabel('Jets per bin (normalized)')\n",
    "make_legend(ax[3, 2])\n",
    "\n",
    "fig.show()"
   ]
  },
  {
   "cell_type": "markdown",
   "metadata": {},
   "source": [
    "# Fitting"
   ]
  },
  {
   "cell_type": "markdown",
   "metadata": {},
   "source": [
    "## Setup the dataset"
   ]
  },
  {
   "cell_type": "markdown",
   "metadata": {},
   "source": [
    "$\\boldsymbol{\\theta_0}$ denotes the synthetic sample used for reweighting, and we are trying to fit the parameter $\\theta$ (in this case $M_t$) to the 'data' sample $\\boldsymbol{\\theta_?}$ (`theta_unknown`)."
   ]
  },
  {
   "cell_type": "code",
   "execution_count": 15,
   "metadata": {
    "ExecuteTime": {
     "end_time": "2020-10-19T03:04:17.536625Z",
     "start_time": "2020-10-19T03:04:17.527130Z"
    }
   },
   "outputs": [],
   "source": [
    "theta0_G = X0_test_G\n",
    "theta0_S = X0_test_S\n",
    "theta_unknown_G = X1_test_G\n",
    "theta_unknown_S = X1_test_S\n",
    "\n",
    "labels0 = np.zeros_like(theta0_G[:, 0])\n",
    "labels_unknown = np.ones_like(theta_unknown_G[:, 0])"
   ]
  },
  {
   "cell_type": "code",
   "execution_count": 16,
   "metadata": {
    "ExecuteTime": {
     "end_time": "2020-10-19T03:04:17.591828Z",
     "start_time": "2020-10-19T03:04:17.538105Z"
    }
   },
   "outputs": [],
   "source": [
    "xvals_G = np.concatenate((theta0_G, theta_unknown_G), axis=0)\n",
    "xvals_S = np.concatenate((theta0_S, theta_unknown_S), axis=0)\n",
    "\n",
    "yvals = np.concatenate((labels0, labels_unknown), axis=0)"
   ]
  },
  {
   "cell_type": "code",
   "execution_count": 17,
   "metadata": {
    "ExecuteTime": {
     "end_time": "2020-10-19T03:04:17.983699Z",
     "start_time": "2020-10-19T03:04:17.593418Z"
    }
   },
   "outputs": [],
   "source": [
    "X_train_G, X_test_G, X_train_S, X_test_S, Y_train, Y_test = train_test_split(\n",
    "    xvals_G, xvals_S, yvals, test_size=0.5)"
   ]
  },
  {
   "cell_type": "markdown",
   "metadata": {},
   "source": [
    "## Fitting Model: Scan (with Four Observables)\n",
    "\n",
    "We will show for fixed $\\theta$, the AUC is minimized when $\\theta=\\theta_?$."
   ]
  },
  {
   "cell_type": "markdown",
   "metadata": {},
   "source": [
    "### Creating Model"
   ]
  },
  {
   "cell_type": "code",
   "execution_count": 18,
   "metadata": {
    "ExecuteTime": {
     "end_time": "2020-10-19T03:04:18.118897Z",
     "start_time": "2020-10-19T03:04:17.985249Z"
    }
   },
   "outputs": [
    {
     "name": "stdout",
     "output_type": "stream",
     "text": [
      "_________________________________________________________________\n",
      "Layer (type)                 Output Shape              Param #   \n",
      "=================================================================\n",
      "input_2 (InputLayer)         (None, 4)                 0         \n",
      "_________________________________________________________________\n",
      "dense_5 (Dense)              (None, 128)               640       \n",
      "_________________________________________________________________\n",
      "dense_6 (Dense)              (None, 128)               16512     \n",
      "_________________________________________________________________\n",
      "dense_7 (Dense)              (None, 1)                 129       \n",
      "=================================================================\n",
      "Total params: 17,281\n",
      "Trainable params: 17,281\n",
      "Non-trainable params: 0\n",
      "_________________________________________________________________\n"
     ]
    }
   ],
   "source": [
    "myinputs = Input(shape=(4, ), dtype=tf.float32)\n",
    "x = Dense(128, activation='relu')(myinputs)\n",
    "x2 = Dense(128, activation='relu')(x)\n",
    "predictions = Dense(1, activation='sigmoid')(x2)\n",
    "\n",
    "model = Model(inputs=myinputs, outputs=predictions)\n",
    "model.summary()\n",
    "\n",
    "batch_size = 1000\n",
    "earlystopping = EarlyStopping(patience=20, restore_best_weights=True)\n",
    "\n",
    "# scanning range for theta\n",
    "thetas = np.linspace(170., 180., 9)\n",
    "\n",
    "weights_initialize = model.get_weights()"
   ]
  },
  {
   "cell_type": "markdown",
   "metadata": {},
   "source": [
    "We will train this model with a weighted binary cross-entropy loss function:\n",
    "\n",
    "$\\text{loss}(g_{\\theta'}(x))=-\\sum_{x_i\\in\\boldsymbol{\\theta_?}}\\log(g_{\\theta'}(x_i))-\n",
    "    \\sum_{x_i\\in\\boldsymbol{\\theta_0}}w_{\\theta_0}(x_{G,i},\\theta')\\log(1-g_{\\theta'}(x_i))$\n",
    "    \n",
    "where $x_i=x_{G,i}$ when fitting on generator-level and $x_i=x_{S,i}$ when fitting on simulation-level. Note that reweighting always occurs on generator-level, as we always know the generator-level events for the synthetic sample (but not necessarily for the data)."
   ]
  },
  {
   "cell_type": "markdown",
   "metadata": {},
   "source": [
    "### Generator-level Scan\n",
    "\n",
    "Here, we actually know the generator-level events for both the synthetic sample and data."
   ]
  },
  {
   "cell_type": "code",
   "execution_count": 19,
   "metadata": {
    "ExecuteTime": {
     "end_time": "2020-10-19T03:04:18.125568Z",
     "start_time": "2020-10-19T03:04:18.120398Z"
    }
   },
   "outputs": [],
   "source": [
    "def run_classifier_G(theta):\n",
    "\n",
    "    weights_train = np.ones(len(X_train_G))\n",
    "    weights_test = np.ones(len(X_test_G))\n",
    "\n",
    "    # calculate weights for events in theta_0, but leave ones for events in theta_?\n",
    "    weights_train[Y_train == 0] = reweight(X_train_G[Y_train == 0], theta)\n",
    "    weights_test[Y_test == 0] = reweight(X_test_G[Y_test == 0], theta)\n",
    "    \n",
    "    # reinitialize model weights\n",
    "    model.set_weights(weights_initialize)\n",
    "\n",
    "    model.compile(optimizer='adam',\n",
    "                  loss='binary_crossentropy',\n",
    "                  metrics=['accuracy'])\n",
    "\n",
    "    # fit model on weighted binary cross-entropy\n",
    "    history = model.fit(X_train_G,\n",
    "                        Y_train,\n",
    "                        sample_weight=weights_train,\n",
    "                        epochs=200,\n",
    "                        batch_size=batch_size,\n",
    "                        validation_data=(X_test_G, Y_test, weights_test),\n",
    "                        verbose=0,\n",
    "                        callbacks=[earlystopping])\n",
    "\n",
    "    # after training, calculate AUC between unknown sample and reweighted synthetic sample\n",
    "    auc = roc_auc_score(np.concatenate((Y_train, Y_test)),\n",
    "                        model.predict(np.concatenate((X_train_G, X_test_G)),\n",
    "                                      batch_size=batch_size),\n",
    "                        sample_weight=np.concatenate(\n",
    "                            (weights_train, weights_test)))\n",
    "\n",
    "    return auc"
   ]
  },
  {
   "cell_type": "code",
   "execution_count": 20,
   "metadata": {
    "ExecuteTime": {
     "end_time": "2020-10-19T04:56:56.871906Z",
     "start_time": "2020-10-19T03:04:18.126981Z"
    }
   },
   "outputs": [
    {
     "name": "stdout",
     "output_type": "stream",
     "text": [
      "Testing theta = 170.00\n",
      "AUC: 0.575\n",
      "\n",
      "\n",
      "Testing theta = 171.25\n",
      "AUC: 0.569\n",
      "\n",
      "\n",
      "Testing theta = 172.50\n",
      "AUC: 0.554\n",
      "\n",
      "\n",
      "Testing theta = 173.75\n",
      "AUC: 0.528\n",
      "\n",
      "\n",
      "Testing theta = 175.00\n",
      "AUC: 0.506\n",
      "\n",
      "\n",
      "Testing theta = 176.25\n",
      "AUC: 0.525\n",
      "\n",
      "\n",
      "Testing theta = 177.50\n",
      "AUC: 0.543\n",
      "\n",
      "\n",
      "Testing theta = 178.75\n",
      "AUC: 0.560\n",
      "\n",
      "\n",
      "Testing theta = 180.00\n",
      "AUC: 0.576\n",
      "\n",
      "\n"
     ]
    }
   ],
   "source": [
    "AUC_G = []\n",
    "\n",
    "for theta in thetas:\n",
    "    print(\"Testing theta = {:.2f}\".format(theta))\n",
    "\n",
    "    auc = run_classifier_G(theta)\n",
    "    AUC_G += [auc]\n",
    "\n",
    "    print(\"AUC: {:.3f}\".format(auc))\n",
    "    print(\"\\n\")\n",
    "    pass"
   ]
  },
  {
   "cell_type": "markdown",
   "metadata": {},
   "source": [
    "### Simulation-level Scan\n",
    "Here, we only know the generator-level events for the synthetic sample and the simulation-level events for both samples. Thus, we reweight on the generator-level events, but classify between the simulation-level events."
   ]
  },
  {
   "cell_type": "code",
   "execution_count": 21,
   "metadata": {
    "ExecuteTime": {
     "end_time": "2020-10-19T04:56:56.879151Z",
     "start_time": "2020-10-19T04:56:56.873625Z"
    }
   },
   "outputs": [],
   "source": [
    "def run_classifier_S(theta):\n",
    "\n",
    "    weights_train = np.ones(len(X_train_G))\n",
    "    weights_test = np.ones(len(X_test_G))\n",
    "\n",
    "    # calculate weights for events in theta_0, but leave ones for events in theta_?\n",
    "    weights_train[Y_train == 0] = reweight(X_train_G[Y_train == 0], theta)\n",
    "    weights_test[Y_test == 0] = reweight(X_test_G[Y_test == 0], theta)\n",
    "\n",
    "    # reinitialize model weights\n",
    "    model.set_weights(weights_initialize)\n",
    "\n",
    "    model.compile(optimizer='adam',\n",
    "                  loss='binary_crossentropy',\n",
    "                  metrics=['accuracy'])\n",
    "\n",
    "    # fit model on weighted binary cross-entropy\n",
    "    history = model.fit(X_train_S,\n",
    "                        Y_train,\n",
    "                        sample_weight=weights_train,\n",
    "                        epochs=200,\n",
    "                        batch_size=batch_size,\n",
    "                        validation_data=(X_test_S, Y_test, weights_test),\n",
    "                        verbose=0,\n",
    "                        callbacks=[earlystopping])\n",
    "\n",
    "    # after training, calculate AUC between unknown sample and reweighted synthetic sample\n",
    "    auc = roc_auc_score(np.concatenate((Y_train, Y_test)),\n",
    "                        model.predict(np.concatenate((X_train_S, X_test_S)),\n",
    "                                      batch_size=batch_size),\n",
    "                        sample_weight=np.concatenate(\n",
    "                            (weights_train, weights_test)))\n",
    "\n",
    "    return auc"
   ]
  },
  {
   "cell_type": "code",
   "execution_count": 22,
   "metadata": {
    "ExecuteTime": {
     "end_time": "2020-10-19T06:36:40.293492Z",
     "start_time": "2020-10-19T04:56:56.880648Z"
    }
   },
   "outputs": [
    {
     "name": "stdout",
     "output_type": "stream",
     "text": [
      "Testing theta = 170.00\n",
      "AUC: 0.529\n",
      "\n",
      "\n",
      "Testing theta = 171.25\n",
      "AUC: 0.525\n",
      "\n",
      "\n",
      "Testing theta = 172.50\n",
      "AUC: 0.518\n",
      "\n",
      "\n",
      "Testing theta = 173.75\n",
      "AUC: 0.509\n",
      "\n",
      "\n",
      "Testing theta = 175.00\n",
      "AUC: 0.506\n",
      "\n",
      "\n",
      "Testing theta = 176.25\n",
      "AUC: 0.509\n",
      "\n",
      "\n",
      "Testing theta = 177.50\n",
      "AUC: 0.515\n",
      "\n",
      "\n",
      "Testing theta = 178.75\n",
      "AUC: 0.520\n",
      "\n",
      "\n",
      "Testing theta = 180.00\n",
      "AUC: 0.527\n",
      "\n",
      "\n"
     ]
    }
   ],
   "source": [
    "AUC_S = []\n",
    "\n",
    "for theta in thetas:\n",
    "    print(\"Testing theta = {:.2f}\".format(theta))\n",
    "\n",
    "    auc = run_classifier_S(theta)\n",
    "    AUC_S += [auc]\n",
    "\n",
    "    print(\"AUC: {:.3f}\".format(auc))\n",
    "    print(\"\\n\")\n",
    "    pass"
   ]
  },
  {
   "cell_type": "markdown",
   "metadata": {},
   "source": [
    "### Scan results"
   ]
  },
  {
   "cell_type": "code",
   "execution_count": 23,
   "metadata": {
    "ExecuteTime": {
     "end_time": "2020-10-19T06:36:40.458049Z",
     "start_time": "2020-10-19T06:36:40.294905Z"
    }
   },
   "outputs": [
    {
     "data": {
      "image/png": "[encoded data removed]",
      "text/plain": [
       "<Figure size 432x360 with 1 Axes>"
      ]
     },
     "metadata": {
      "needs_background": "light"
     },
     "output_type": "display_data"
    }
   ],
   "source": [
    "plt.figure(figsize=(6, 5))\n",
    "plt.plot(thetas, AUC_G, label='Generator-level')\n",
    "plt.plot(thetas, AUC_S, label='Simulation-level')\n",
    "plt.xlabel(r\"$M_t$ [GeV]\")\n",
    "plt.ylabel('AUC')\n",
    "plt.legend(frameon=False)\n",
    "plt.show()"
   ]
  },
  {
   "cell_type": "markdown",
   "metadata": {},
   "source": [
    "## Comparison to Fitting on $m_{b_1\\mu\\nu}$ only\n",
    "\n",
    "Let's compare fitting on all four observables to fitting only on the reconstructed leptonic mass.  "
   ]
  },
  {
   "cell_type": "code",
   "execution_count": 24,
   "metadata": {
    "ExecuteTime": {
     "end_time": "2020-10-19T06:36:40.464380Z",
     "start_time": "2020-10-19T06:36:40.459367Z"
    }
   },
   "outputs": [
    {
     "name": "stdout",
     "output_type": "stream",
     "text": [
      "WARNING:tensorflow:From /home/asuresh/programs/anaconda3/envs/DCTR/lib/python3.7/site-packages/keras/backend/tensorflow_backend.py:95: The name tf.reset_default_graph is deprecated. Please use tf.compat.v1.reset_default_graph instead.\n",
      "\n",
      "WARNING:tensorflow:From /home/asuresh/programs/anaconda3/envs/DCTR/lib/python3.7/site-packages/keras/backend/tensorflow_backend.py:98: The name tf.placeholder_with_default is deprecated. Please use tf.compat.v1.placeholder_with_default instead.\n",
      "\n"
     ]
    }
   ],
   "source": [
    "K.clear_session()"
   ]
  },
  {
   "cell_type": "markdown",
   "metadata": {},
   "source": [
    "### Training a DCTR Model\n",
    "First, we need to train a DCTR model parameterized by $M_t$ that only receives $m_{b_1\\mu\\nu}$ as an input to provide us with a reweighting function to be used during fitting."
   ]
  },
  {
   "cell_type": "markdown",
   "metadata": {
    "ExecuteTime": {
     "end_time": "2020-09-30T18:56:22.230538Z",
     "start_time": "2020-09-30T18:56:22.214191Z"
    }
   },
   "source": [
    "#### Generate training & validation data"
   ]
  },
  {
   "cell_type": "code",
   "execution_count": 25,
   "metadata": {
    "ExecuteTime": {
     "end_time": "2020-10-19T06:36:41.933978Z",
     "start_time": "2020-10-19T06:36:40.465716Z"
    }
   },
   "outputs": [],
   "source": [
    "X = dataset['X']\n",
    "Y = dataset['Y']\n",
    "\n",
    "# only include m_{b1,mu,nu} and its paired M_t\n",
    "X = preprocess_data(X[:, 0:5:4])\n",
    "Y = to_categorical(Y)\n",
    "\n",
    "X_train, X_val, Y_train, Y_val = train_test_split(X, Y, test_size=0.2)"
   ]
  },
  {
   "cell_type": "markdown",
   "metadata": {},
   "source": [
    "#### Build Model"
   ]
  },
  {
   "cell_type": "code",
   "execution_count": 26,
   "metadata": {
    "ExecuteTime": {
     "end_time": "2020-10-19T06:36:42.003122Z",
     "start_time": "2020-10-19T06:36:41.935333Z"
    }
   },
   "outputs": [],
   "source": [
    "inputs = Input((2, ))\n",
    "hidden_layer_1 = Dense(50, activation='relu')(inputs)\n",
    "hidden_layer_2 = Dense(50, activation='relu')(hidden_layer_1)\n",
    "hidden_layer_3 = Dense(50, activation='relu')(hidden_layer_2)\n",
    "\n",
    "outputs = Dense(2, activation='softmax')(hidden_layer_3)\n",
    "\n",
    "dctr = Model(inputs=inputs, outputs=outputs)\n",
    "dctr.compile(loss='categorical_crossentropy',\n",
    "             optimizer='Adam',\n",
    "             metrics=['accuracy'])"
   ]
  },
  {
   "cell_type": "markdown",
   "metadata": {},
   "source": [
    "#### Train Model"
   ]
  },
  {
   "cell_type": "code",
   "execution_count": 27,
   "metadata": {
    "ExecuteTime": {
     "end_time": "2020-10-19T07:33:16.822924Z",
     "start_time": "2020-10-19T06:36:42.005675Z"
    }
   },
   "outputs": [
    {
     "name": "stdout",
     "output_type": "stream",
     "text": [
      "Train on 5548419 samples, validate on 1387105 samples\n",
      "Epoch 1/200\n",
      "5548419/5548419 [==============================] - 32s 6us/step - loss: 0.5111 - acc: 0.7925 - val_loss: 0.5110 - val_acc: 0.7920\n",
      "Epoch 2/200\n",
      "5548419/5548419 [==============================] - 31s 6us/step - loss: 0.5101 - acc: 0.7926 - val_loss: 0.5108 - val_acc: 0.7920\n",
      "Epoch 3/200\n",
      "5548419/5548419 [==============================] - 31s 6us/step - loss: 0.5096 - acc: 0.7926 - val_loss: 0.5102 - val_acc: 0.7920\n",
      "Epoch 4/200\n",
      "5548419/5548419 [==============================] - 31s 6us/step - loss: 0.5089 - acc: 0.7926 - val_loss: 0.5090 - val_acc: 0.7920\n",
      "Epoch 5/200\n",
      "5548419/5548419 [==============================] - 31s 6us/step - loss: 0.5084 - acc: 0.7926 - val_loss: 0.5101 - val_acc: 0.7920\n",
      "Epoch 6/200\n",
      "5548419/5548419 [==============================] - 31s 6us/step - loss: 0.5081 - acc: 0.7926 - val_loss: 0.5090 - val_acc: 0.7920\n",
      "Epoch 7/200\n",
      "5548419/5548419 [==============================] - 31s 6us/step - loss: 0.5081 - acc: 0.7926 - val_loss: 0.5086 - val_acc: 0.7920\n",
      "Epoch 8/200\n",
      "5548419/5548419 [==============================] - 31s 6us/step - loss: 0.5080 - acc: 0.7926 - val_loss: 0.5084 - val_acc: 0.7920\n",
      "Epoch 9/200\n",
      "5548419/5548419 [==============================] - 31s 6us/step - loss: 0.5079 - acc: 0.7926 - val_loss: 0.5085 - val_acc: 0.7920\n",
      "Epoch 10/200\n",
      "5548419/5548419 [==============================] - 31s 6us/step - loss: 0.5078 - acc: 0.7926 - val_loss: 0.5082 - val_acc: 0.7920\n",
      "Epoch 11/200\n",
      "5548419/5548419 [==============================] - 31s 6us/step - loss: 0.5077 - acc: 0.7926 - val_loss: 0.5086 - val_acc: 0.7920\n",
      "Epoch 12/200\n",
      "5548419/5548419 [==============================] - 31s 6us/step - loss: 0.5077 - acc: 0.7926 - val_loss: 0.5080 - val_acc: 0.7920\n",
      "Epoch 13/200\n",
      "5548419/5548419 [==============================] - 31s 6us/step - loss: 0.5077 - acc: 0.7926 - val_loss: 0.5080 - val_acc: 0.7920\n",
      "Epoch 14/200\n",
      "5548419/5548419 [==============================] - 31s 6us/step - loss: 0.5076 - acc: 0.7926 - val_loss: 0.5086 - val_acc: 0.7920\n",
      "Epoch 15/200\n",
      "5548419/5548419 [==============================] - 31s 6us/step - loss: 0.5076 - acc: 0.7926 - val_loss: 0.5082 - val_acc: 0.7920\n",
      "Epoch 16/200\n",
      "5548419/5548419 [==============================] - 31s 6us/step - loss: 0.5076 - acc: 0.7926 - val_loss: 0.5084 - val_acc: 0.7920\n",
      "Epoch 17/200\n",
      "5548419/5548419 [==============================] - 31s 6us/step - loss: 0.5075 - acc: 0.7926 - val_loss: 0.5083 - val_acc: 0.7920\n",
      "Epoch 18/200\n",
      "5548419/5548419 [==============================] - 31s 6us/step - loss: 0.5075 - acc: 0.7926 - val_loss: 0.5085 - val_acc: 0.7920\n",
      "Epoch 19/200\n",
      "5548419/5548419 [==============================] - 31s 6us/step - loss: 0.5075 - acc: 0.7926 - val_loss: 0.5082 - val_acc: 0.7920\n",
      "Epoch 20/200\n",
      "5548419/5548419 [==============================] - 31s 6us/step - loss: 0.5074 - acc: 0.7926 - val_loss: 0.5079 - val_acc: 0.7920\n",
      "Epoch 21/200\n",
      "5548419/5548419 [==============================] - 31s 6us/step - loss: 0.5074 - acc: 0.7926 - val_loss: 0.5083 - val_acc: 0.7920\n",
      "Epoch 22/200\n",
      "5548419/5548419 [==============================] - 31s 6us/step - loss: 0.5074 - acc: 0.7926 - val_loss: 0.5086 - val_acc: 0.7920\n",
      "Epoch 23/200\n",
      "5548419/5548419 [==============================] - 31s 6us/step - loss: 0.5074 - acc: 0.7926 - val_loss: 0.5088 - val_acc: 0.7920\n",
      "Epoch 24/200\n",
      "5548419/5548419 [==============================] - 31s 6us/step - loss: 0.5073 - acc: 0.7926 - val_loss: 0.5080 - val_acc: 0.7920\n",
      "Epoch 25/200\n",
      "5548419/5548419 [==============================] - 31s 6us/step - loss: 0.5073 - acc: 0.7926 - val_loss: 0.5078 - val_acc: 0.7920\n",
      "Epoch 26/200\n",
      "5548419/5548419 [==============================] - 31s 6us/step - loss: 0.5073 - acc: 0.7926 - val_loss: 0.5082 - val_acc: 0.7920\n",
      "Epoch 27/200\n",
      "5548419/5548419 [==============================] - 31s 6us/step - loss: 0.5073 - acc: 0.7926 - val_loss: 0.5081 - val_acc: 0.7920\n",
      "Epoch 28/200\n",
      "5548419/5548419 [==============================] - 31s 6us/step - loss: 0.5073 - acc: 0.7926 - val_loss: 0.5081 - val_acc: 0.7920\n",
      "Epoch 29/200\n",
      "5548419/5548419 [==============================] - 31s 6us/step - loss: 0.5073 - acc: 0.7926 - val_loss: 0.5086 - val_acc: 0.7920\n",
      "Epoch 30/200\n",
      "5548419/5548419 [==============================] - 31s 6us/step - loss: 0.5073 - acc: 0.7926 - val_loss: 0.5085 - val_acc: 0.7920\n",
      "Epoch 31/200\n",
      "5548419/5548419 [==============================] - 31s 6us/step - loss: 0.5073 - acc: 0.7926 - val_loss: 0.5081 - val_acc: 0.7920\n",
      "Epoch 32/200\n",
      "5548419/5548419 [==============================] - 31s 6us/step - loss: 0.5073 - acc: 0.7926 - val_loss: 0.5080 - val_acc: 0.7920\n",
      "Epoch 33/200\n",
      "5548419/5548419 [==============================] - 31s 6us/step - loss: 0.5072 - acc: 0.7926 - val_loss: 0.5085 - val_acc: 0.7920\n",
      "Epoch 34/200\n",
      "5548419/5548419 [==============================] - 31s 6us/step - loss: 0.5073 - acc: 0.7926 - val_loss: 0.5080 - val_acc: 0.7920\n",
      "Epoch 35/200\n",
      "5548419/5548419 [==============================] - 31s 6us/step - loss: 0.5072 - acc: 0.7926 - val_loss: 0.5081 - val_acc: 0.7920\n",
      "Epoch 36/200\n",
      "5548419/5548419 [==============================] - 31s 6us/step - loss: 0.5072 - acc: 0.7926 - val_loss: 0.5078 - val_acc: 0.7920\n",
      "Epoch 37/200\n",
      "5548419/5548419 [==============================] - 31s 6us/step - loss: 0.5072 - acc: 0.7926 - val_loss: 0.5078 - val_acc: 0.7920\n",
      "Epoch 38/200\n",
      "5548419/5548419 [==============================] - 31s 6us/step - loss: 0.5072 - acc: 0.7926 - val_loss: 0.5077 - val_acc: 0.7920\n",
      "Epoch 39/200\n",
      "5548419/5548419 [==============================] - 31s 6us/step - loss: 0.5072 - acc: 0.7926 - val_loss: 0.5092 - val_acc: 0.7920\n",
      "Epoch 40/200\n",
      "5548419/5548419 [==============================] - 31s 6us/step - loss: 0.5072 - acc: 0.7926 - val_loss: 0.5084 - val_acc: 0.7920\n",
      "Epoch 41/200\n",
      "5548419/5548419 [==============================] - 31s 6us/step - loss: 0.5072 - acc: 0.7926 - val_loss: 0.5081 - val_acc: 0.7920\n",
      "Epoch 42/200\n",
      "5548419/5548419 [==============================] - 31s 6us/step - loss: 0.5072 - acc: 0.7926 - val_loss: 0.5082 - val_acc: 0.7920\n",
      "Epoch 43/200\n",
      "5548419/5548419 [==============================] - 31s 6us/step - loss: 0.5072 - acc: 0.7926 - val_loss: 0.5080 - val_acc: 0.7920\n",
      "Epoch 44/200\n",
      "5548419/5548419 [==============================] - 31s 6us/step - loss: 0.5072 - acc: 0.7926 - val_loss: 0.5078 - val_acc: 0.7920\n",
      "Epoch 45/200\n",
      "5548419/5548419 [==============================] - 31s 6us/step - loss: 0.5072 - acc: 0.7926 - val_loss: 0.5077 - val_acc: 0.7920\n",
      "Epoch 46/200\n",
      "5548419/5548419 [==============================] - 31s 6us/step - loss: 0.5072 - acc: 0.7926 - val_loss: 0.5078 - val_acc: 0.7920\n",
      "Epoch 47/200\n",
      "5548419/5548419 [==============================] - 31s 6us/step - loss: 0.5072 - acc: 0.7926 - val_loss: 0.5078 - val_acc: 0.7920\n",
      "Epoch 48/200\n",
      "5548419/5548419 [==============================] - 31s 6us/step - loss: 0.5072 - acc: 0.7926 - val_loss: 0.5081 - val_acc: 0.7920\n",
      "Epoch 49/200\n",
      "5548419/5548419 [==============================] - 31s 6us/step - loss: 0.5072 - acc: 0.7926 - val_loss: 0.5078 - val_acc: 0.7920\n",
      "Epoch 50/200\n",
      "5548419/5548419 [==============================] - 31s 6us/step - loss: 0.5072 - acc: 0.7926 - val_loss: 0.5078 - val_acc: 0.7920\n",
      "Epoch 51/200\n",
      "5548419/5548419 [==============================] - 31s 6us/step - loss: 0.5071 - acc: 0.7926 - val_loss: 0.5078 - val_acc: 0.7920\n",
      "Epoch 52/200\n",
      "5548419/5548419 [==============================] - 31s 6us/step - loss: 0.5072 - acc: 0.7926 - val_loss: 0.5080 - val_acc: 0.7920\n",
      "Epoch 53/200\n",
      "5548419/5548419 [==============================] - 31s 6us/step - loss: 0.5071 - acc: 0.7926 - val_loss: 0.5078 - val_acc: 0.7920\n",
      "Epoch 54/200\n",
      "5548419/5548419 [==============================] - 43s 8us/step - loss: 0.5072 - acc: 0.7926 - val_loss: 0.5081 - val_acc: 0.7920\n",
      "Epoch 55/200\n",
      "5548419/5548419 [==============================] - 32s 6us/step - loss: 0.5072 - acc: 0.7926 - val_loss: 0.5080 - val_acc: 0.7920\n",
      "Epoch 56/200\n",
      "5548419/5548419 [==============================] - 31s 6us/step - loss: 0.5071 - acc: 0.7926 - val_loss: 0.5083 - val_acc: 0.7920\n",
      "Epoch 57/200\n",
      "5548419/5548419 [==============================] - 31s 6us/step - loss: 0.5071 - acc: 0.7926 - val_loss: 0.5078 - val_acc: 0.7920\n",
      "Epoch 58/200\n",
      "5548419/5548419 [==============================] - 31s 6us/step - loss: 0.5071 - acc: 0.7926 - val_loss: 0.5078 - val_acc: 0.7920\n",
      "Epoch 59/200\n",
      "5548419/5548419 [==============================] - 31s 6us/step - loss: 0.5071 - acc: 0.7926 - val_loss: 0.5077 - val_acc: 0.7920\n",
      "Epoch 60/200\n",
      "5548419/5548419 [==============================] - 31s 6us/step - loss: 0.5071 - acc: 0.7926 - val_loss: 0.5080 - val_acc: 0.7920\n",
      "Epoch 61/200\n",
      "5548419/5548419 [==============================] - 31s 6us/step - loss: 0.5071 - acc: 0.7926 - val_loss: 0.5088 - val_acc: 0.7920\n",
      "Epoch 62/200\n",
      "5548419/5548419 [==============================] - 31s 6us/step - loss: 0.5071 - acc: 0.7926 - val_loss: 0.5077 - val_acc: 0.7920\n",
      "Epoch 63/200\n",
      "5548419/5548419 [==============================] - 31s 6us/step - loss: 0.5071 - acc: 0.7926 - val_loss: 0.5079 - val_acc: 0.7920\n",
      "Epoch 64/200\n",
      "5548419/5548419 [==============================] - 31s 6us/step - loss: 0.5071 - acc: 0.7926 - val_loss: 0.5077 - val_acc: 0.7920\n",
      "Epoch 65/200\n",
      "5548419/5548419 [==============================] - 31s 6us/step - loss: 0.5071 - acc: 0.7926 - val_loss: 0.5084 - val_acc: 0.7920\n",
      "Epoch 66/200\n",
      "5548419/5548419 [==============================] - 31s 6us/step - loss: 0.5071 - acc: 0.7926 - val_loss: 0.5078 - val_acc: 0.7920\n",
      "Epoch 67/200\n",
      "5548419/5548419 [==============================] - 31s 6us/step - loss: 0.5071 - acc: 0.7926 - val_loss: 0.5081 - val_acc: 0.7920\n",
      "Epoch 68/200\n",
      "5548419/5548419 [==============================] - 31s 6us/step - loss: 0.5071 - acc: 0.7926 - val_loss: 0.5079 - val_acc: 0.7920\n",
      "Epoch 69/200\n",
      "5548419/5548419 [==============================] - 31s 6us/step - loss: 0.5071 - acc: 0.7926 - val_loss: 0.5078 - val_acc: 0.7920\n",
      "Epoch 70/200\n",
      "5548419/5548419 [==============================] - 31s 6us/step - loss: 0.5071 - acc: 0.7926 - val_loss: 0.5079 - val_acc: 0.7920\n",
      "Epoch 71/200\n",
      "5548419/5548419 [==============================] - 31s 6us/step - loss: 0.5071 - acc: 0.7926 - val_loss: 0.5077 - val_acc: 0.7920\n",
      "Epoch 72/200\n",
      "5548419/5548419 [==============================] - 31s 6us/step - loss: 0.5071 - acc: 0.7926 - val_loss: 0.5078 - val_acc: 0.7920\n",
      "Epoch 73/200\n",
      "5548419/5548419 [==============================] - 31s 6us/step - loss: 0.5071 - acc: 0.7926 - val_loss: 0.5079 - val_acc: 0.7920\n",
      "Epoch 74/200\n",
      "5548419/5548419 [==============================] - 31s 6us/step - loss: 0.5071 - acc: 0.7926 - val_loss: 0.5077 - val_acc: 0.7920\n",
      "Epoch 75/200\n",
      "5548419/5548419 [==============================] - 31s 6us/step - loss: 0.5071 - acc: 0.7926 - val_loss: 0.5082 - val_acc: 0.7920\n",
      "Epoch 76/200\n",
      "5548419/5548419 [==============================] - 31s 6us/step - loss: 0.5071 - acc: 0.7926 - val_loss: 0.5079 - val_acc: 0.7920\n",
      "Epoch 77/200\n",
      "5548419/5548419 [==============================] - 31s 6us/step - loss: 0.5071 - acc: 0.7926 - val_loss: 0.5080 - val_acc: 0.7920\n",
      "Epoch 78/200\n",
      "5548419/5548419 [==============================] - 31s 6us/step - loss: 0.5071 - acc: 0.7926 - val_loss: 0.5077 - val_acc: 0.7920\n",
      "Epoch 79/200\n",
      "5548419/5548419 [==============================] - 31s 6us/step - loss: 0.5071 - acc: 0.7926 - val_loss: 0.5079 - val_acc: 0.7920\n",
      "Epoch 80/200\n",
      "5548419/5548419 [==============================] - 31s 6us/step - loss: 0.5071 - acc: 0.7926 - val_loss: 0.5077 - val_acc: 0.7920\n",
      "Epoch 81/200\n",
      "5548419/5548419 [==============================] - 31s 6us/step - loss: 0.5071 - acc: 0.7926 - val_loss: 0.5077 - val_acc: 0.7920\n",
      "Epoch 82/200\n",
      "5548419/5548419 [==============================] - 31s 6us/step - loss: 0.5071 - acc: 0.7926 - val_loss: 0.5077 - val_acc: 0.7920\n",
      "Epoch 83/200\n",
      "5548419/5548419 [==============================] - 31s 6us/step - loss: 0.5071 - acc: 0.7926 - val_loss: 0.5080 - val_acc: 0.7920\n",
      "Epoch 84/200\n",
      "5548419/5548419 [==============================] - 31s 6us/step - loss: 0.5071 - acc: 0.7926 - val_loss: 0.5078 - val_acc: 0.7920\n",
      "Epoch 85/200\n",
      "5548419/5548419 [==============================] - 31s 6us/step - loss: 0.5070 - acc: 0.7926 - val_loss: 0.5079 - val_acc: 0.7920\n",
      "Epoch 86/200\n",
      "5548419/5548419 [==============================] - 31s 6us/step - loss: 0.5070 - acc: 0.7926 - val_loss: 0.5078 - val_acc: 0.7920\n",
      "Epoch 87/200\n",
      "5548419/5548419 [==============================] - 31s 6us/step - loss: 0.5071 - acc: 0.7926 - val_loss: 0.5079 - val_acc: 0.7920\n",
      "Epoch 88/200\n",
      "5548419/5548419 [==============================] - 31s 6us/step - loss: 0.5070 - acc: 0.7926 - val_loss: 0.5077 - val_acc: 0.7920\n",
      "Epoch 89/200\n",
      "5548419/5548419 [==============================] - 31s 6us/step - loss: 0.5071 - acc: 0.7926 - val_loss: 0.5076 - val_acc: 0.7920\n",
      "Epoch 90/200\n",
      "5548419/5548419 [==============================] - 31s 6us/step - loss: 0.5070 - acc: 0.7926 - val_loss: 0.5077 - val_acc: 0.7920\n",
      "Epoch 91/200\n",
      "5548419/5548419 [==============================] - 31s 6us/step - loss: 0.5070 - acc: 0.7926 - val_loss: 0.5080 - val_acc: 0.7920\n",
      "Epoch 92/200\n",
      "5548419/5548419 [==============================] - 31s 6us/step - loss: 0.5070 - acc: 0.7926 - val_loss: 0.5079 - val_acc: 0.7920\n",
      "Epoch 93/200\n",
      "5548419/5548419 [==============================] - 31s 6us/step - loss: 0.5071 - acc: 0.7926 - val_loss: 0.5076 - val_acc: 0.7920\n",
      "Epoch 94/200\n",
      "5548419/5548419 [==============================] - 31s 6us/step - loss: 0.5071 - acc: 0.7926 - val_loss: 0.5083 - val_acc: 0.7920\n",
      "Epoch 95/200\n",
      "5548419/5548419 [==============================] - 31s 6us/step - loss: 0.5070 - acc: 0.7926 - val_loss: 0.5079 - val_acc: 0.7920\n",
      "Epoch 96/200\n",
      "5548419/5548419 [==============================] - 31s 6us/step - loss: 0.5070 - acc: 0.7926 - val_loss: 0.5084 - val_acc: 0.7920\n",
      "Epoch 97/200\n",
      "5548419/5548419 [==============================] - 31s 6us/step - loss: 0.5070 - acc: 0.7926 - val_loss: 0.5080 - val_acc: 0.7920\n",
      "Epoch 98/200\n",
      "5548419/5548419 [==============================] - 31s 6us/step - loss: 0.5070 - acc: 0.7926 - val_loss: 0.5084 - val_acc: 0.7920\n",
      "Epoch 99/200\n",
      "5548419/5548419 [==============================] - 31s 6us/step - loss: 0.5070 - acc: 0.7926 - val_loss: 0.5080 - val_acc: 0.7920\n",
      "Epoch 100/200\n",
      "5548419/5548419 [==============================] - 31s 6us/step - loss: 0.5070 - acc: 0.7926 - val_loss: 0.5077 - val_acc: 0.7920\n",
      "Epoch 101/200\n",
      "5548419/5548419 [==============================] - 31s 6us/step - loss: 0.5070 - acc: 0.7926 - val_loss: 0.5083 - val_acc: 0.7920\n",
      "Epoch 102/200\n",
      "5548419/5548419 [==============================] - 31s 6us/step - loss: 0.5070 - acc: 0.7926 - val_loss: 0.5079 - val_acc: 0.7920\n",
      "Epoch 103/200\n",
      "5548419/5548419 [==============================] - 31s 6us/step - loss: 0.5070 - acc: 0.7926 - val_loss: 0.5083 - val_acc: 0.7920\n",
      "Epoch 104/200\n",
      "5548419/5548419 [==============================] - 31s 6us/step - loss: 0.5070 - acc: 0.7926 - val_loss: 0.5082 - val_acc: 0.7920\n",
      "Epoch 105/200\n",
      "5548419/5548419 [==============================] - 31s 6us/step - loss: 0.5070 - acc: 0.7926 - val_loss: 0.5081 - val_acc: 0.7920\n",
      "Epoch 106/200\n",
      "5548419/5548419 [==============================] - 31s 6us/step - loss: 0.5070 - acc: 0.7926 - val_loss: 0.5091 - val_acc: 0.7920\n",
      "Epoch 107/200\n",
      "5548419/5548419 [==============================] - 31s 6us/step - loss: 0.5070 - acc: 0.7926 - val_loss: 0.5087 - val_acc: 0.7920\n",
      "Epoch 108/200\n",
      "5548419/5548419 [==============================] - 31s 6us/step - loss: 0.5070 - acc: 0.7926 - val_loss: 0.5089 - val_acc: 0.7920\n",
      "Epoch 109/200\n",
      "5548419/5548419 [==============================] - 31s 6us/step - loss: 0.5070 - acc: 0.7926 - val_loss: 0.5078 - val_acc: 0.7920\n",
      "Restoring model weights from the end of the best epoch\n",
      "Epoch 00109: early stopping\n"
     ]
    },
    {
     "data": {
      "text/plain": [
       "<keras.callbacks.History at 0x7f4d3d6be550>"
      ]
     },
     "execution_count": 27,
     "metadata": {},
     "output_type": "execute_result"
    }
   ],
   "source": [
    "earlystopping = EarlyStopping(patience=20,\n",
    "                              verbose=1,\n",
    "                              restore_best_weights=True)\n",
    "\n",
    "dctr.fit(X_train,\n",
    "         Y_train,\n",
    "         epochs=200,\n",
    "         batch_size=1000,\n",
    "         validation_data=(X_val, Y_val),\n",
    "         verbose=1,\n",
    "         callbacks=[earlystopping])"
   ]
  },
  {
   "cell_type": "markdown",
   "metadata": {},
   "source": [
    "### Fitting"
   ]
  },
  {
   "cell_type": "markdown",
   "metadata": {},
   "source": [
    "#### Setup the Dataset"
   ]
  },
  {
   "cell_type": "code",
   "execution_count": 28,
   "metadata": {
    "ExecuteTime": {
     "end_time": "2020-10-19T07:33:16.831890Z",
     "start_time": "2020-10-19T07:33:16.825066Z"
    }
   },
   "outputs": [],
   "source": [
    "theta0_G = X0_test_G[:, 0:1]\n",
    "theta0_S = X0_test_S[:, 0:1]\n",
    "theta_unknown_G = X1_test_G[:, 0:1]\n",
    "theta_unknown_S = X1_test_S[:, 0:1]\n",
    "\n",
    "labels0 = np.zeros_like(theta0_G[:, 0])\n",
    "labels_unknown = np.ones_like(theta_unknown_G[:, 0])"
   ]
  },
  {
   "cell_type": "code",
   "execution_count": 29,
   "metadata": {
    "ExecuteTime": {
     "end_time": "2020-10-19T07:33:16.870986Z",
     "start_time": "2020-10-19T07:33:16.833763Z"
    }
   },
   "outputs": [],
   "source": [
    "xvals_G = np.concatenate((theta0_G, theta_unknown_G), axis=0)\n",
    "xvals_S = np.concatenate((theta0_S, theta_unknown_S), axis=0)\n",
    "\n",
    "yvals = np.concatenate((labels0, labels_unknown), axis=0)"
   ]
  },
  {
   "cell_type": "code",
   "execution_count": 30,
   "metadata": {
    "ExecuteTime": {
     "end_time": "2020-10-19T07:33:17.066856Z",
     "start_time": "2020-10-19T07:33:16.872914Z"
    }
   },
   "outputs": [],
   "source": [
    "X_train_G, X_test_G, X_train_S, X_test_S, Y_train, Y_test = train_test_split(\n",
    "    xvals_G, xvals_S, yvals, test_size=0.5)"
   ]
  },
  {
   "cell_type": "markdown",
   "metadata": {},
   "source": [
    "#### Fitting Model: Scan (with $m_{b_1\\mu\\nu}$ only)"
   ]
  },
  {
   "cell_type": "code",
   "execution_count": 31,
   "metadata": {
    "ExecuteTime": {
     "end_time": "2020-10-19T07:33:17.241517Z",
     "start_time": "2020-10-19T07:33:17.068804Z"
    }
   },
   "outputs": [
    {
     "name": "stdout",
     "output_type": "stream",
     "text": [
      "_________________________________________________________________\n",
      "Layer (type)                 Output Shape              Param #   \n",
      "=================================================================\n",
      "input_2 (InputLayer)         (None, 1)                 0         \n",
      "_________________________________________________________________\n",
      "dense_5 (Dense)              (None, 128)               256       \n",
      "_________________________________________________________________\n",
      "dense_6 (Dense)              (None, 128)               16512     \n",
      "_________________________________________________________________\n",
      "dense_7 (Dense)              (None, 1)                 129       \n",
      "=================================================================\n",
      "Total params: 16,897\n",
      "Trainable params: 16,897\n",
      "Non-trainable params: 0\n",
      "_________________________________________________________________\n"
     ]
    }
   ],
   "source": [
    "myinputs = Input(shape=(1, ), dtype=tf.float32)\n",
    "x = Dense(128, activation='relu')(myinputs)\n",
    "x2 = Dense(128, activation='relu')(x)\n",
    "predictions = Dense(1, activation='sigmoid')(x2)\n",
    "\n",
    "model = Model(inputs=myinputs, outputs=predictions)\n",
    "model.summary()\n",
    "\n",
    "batch_size = 1000\n",
    "earlystopping = EarlyStopping(patience=20, restore_best_weights=True)\n",
    "\n",
    "weights_initialize = model.get_weights()"
   ]
  },
  {
   "cell_type": "markdown",
   "metadata": {},
   "source": [
    "Again, we will train this model with a weighted binary cross-entropy loss function:\n",
    "\n",
    "$\\text{loss}(g_{\\theta'}(x))=-\\sum_{x_i\\in\\boldsymbol{\\theta_?}}\\log(g_{\\theta'}(x_i))-\n",
    "    \\sum_{x_i\\in\\boldsymbol{\\theta_0}}w_{\\theta_0}(x_{G,i},\\theta')\\log(1-g_{\\theta'}(x_i))$"
   ]
  },
  {
   "cell_type": "markdown",
   "metadata": {},
   "source": [
    "##### Generator-level Scan\n",
    "\n",
    "Here, we actually know the generator-level events for both the synthetic sample and data."
   ]
  },
  {
   "cell_type": "code",
   "execution_count": 32,
   "metadata": {
    "ExecuteTime": {
     "end_time": "2020-10-19T10:02:58.733018Z",
     "start_time": "2020-10-19T07:33:17.243418Z"
    }
   },
   "outputs": [
    {
     "name": "stdout",
     "output_type": "stream",
     "text": [
      "Testing theta = 170.00\n",
      "AUC: 0.568\n",
      "\n",
      "\n",
      "Testing theta = 171.25\n",
      "AUC: 0.558\n",
      "\n",
      "\n",
      "Testing theta = 172.50\n",
      "AUC: 0.542\n",
      "\n",
      "\n",
      "Testing theta = 173.75\n",
      "AUC: 0.522\n",
      "\n",
      "\n",
      "Testing theta = 175.00\n",
      "AUC: 0.506\n",
      "\n",
      "\n",
      "Testing theta = 176.25\n",
      "AUC: 0.518\n",
      "\n",
      "\n",
      "Testing theta = 177.50\n",
      "AUC: 0.539\n",
      "\n",
      "\n",
      "Testing theta = 178.75\n",
      "AUC: 0.553\n",
      "\n",
      "\n",
      "Testing theta = 180.00\n",
      "AUC: 0.565\n",
      "\n",
      "\n"
     ]
    }
   ],
   "source": [
    "AUC_m_b1_mu_nu_G = []\n",
    "\n",
    "for theta in thetas:\n",
    "    print(\"Testing theta = {:.2f}\".format(theta))\n",
    "\n",
    "    auc = run_classifier_G(theta)\n",
    "    AUC_m_b1_mu_nu_G += [auc]\n",
    "\n",
    "    print(\"AUC: {:.3f}\".format(auc))\n",
    "    print(\"\\n\")\n",
    "    pass"
   ]
  },
  {
   "cell_type": "markdown",
   "metadata": {},
   "source": [
    "##### Simulation-level Scan\n",
    "Here, we only know the generator-level events for the synthetic sample and the simulation-level events for both samples. Thus, we reweight on the generator-level events, but classify between the simulation-level events."
   ]
  },
  {
   "cell_type": "code",
   "execution_count": 33,
   "metadata": {
    "ExecuteTime": {
     "end_time": "2020-10-19T15:11:55.897532Z",
     "start_time": "2020-10-19T10:02:58.737518Z"
    }
   },
   "outputs": [
    {
     "name": "stdout",
     "output_type": "stream",
     "text": [
      "Testing theta = 170.00\n",
      "AUC: 0.521\n",
      "\n",
      "\n",
      "Testing theta = 171.25\n",
      "AUC: 0.517\n",
      "\n",
      "\n",
      "Testing theta = 172.50\n",
      "AUC: 0.512\n",
      "\n",
      "\n",
      "Testing theta = 173.75\n",
      "AUC: 0.507\n",
      "\n",
      "\n",
      "Testing theta = 175.00\n",
      "AUC: 0.503\n",
      "\n",
      "\n",
      "Testing theta = 176.25\n",
      "AUC: 0.505\n",
      "\n",
      "\n",
      "Testing theta = 177.50\n",
      "AUC: 0.511\n",
      "\n",
      "\n",
      "Testing theta = 178.75\n",
      "AUC: 0.515\n",
      "\n",
      "\n",
      "Testing theta = 180.00\n",
      "AUC: 0.520\n",
      "\n",
      "\n"
     ]
    }
   ],
   "source": [
    "AUC_m_b1_mu_nu_S = []\n",
    "\n",
    "for theta in thetas:\n",
    "    print(\"Testing theta = {:.2f}\".format(theta))\n",
    "\n",
    "    auc = run_classifier_S(theta)\n",
    "    AUC_m_b1_mu_nu_S += [auc]\n",
    "\n",
    "    print(\"AUC: {:.3f}\".format(auc))\n",
    "    print(\"\\n\")\n",
    "    pass"
   ]
  },
  {
   "cell_type": "markdown",
   "metadata": {},
   "source": [
    "### Scan Results"
   ]
  },
  {
   "cell_type": "code",
   "execution_count": 34,
   "metadata": {
    "ExecuteTime": {
     "end_time": "2020-10-19T15:11:59.222208Z",
     "start_time": "2020-10-19T15:11:55.900049Z"
    },
    "scrolled": false
   },
   "outputs": [
    {
     "data": {
      "image/png": "[encoded data removed]",
      "text/plain": [
       "<Figure size 864x360 with 2 Axes>"
      ]
     },
     "metadata": {
      "needs_background": "light"
     },
     "output_type": "display_data"
    }
   ],
   "source": [
    "fig, ax = plt.subplots(1, 2, figsize=(12, 5), constrained_layout=True)\n",
    "\n",
    "ax[0].plot(thetas, AUC_G - min(AUC_G), label='$\\mathcal{O}_4$')\n",
    "\n",
    "ax[0].plot(thetas,\n",
    "           AUC_m_b1_mu_nu_G - min(AUC_m_b1_mu_nu_G),\n",
    "           label=r'$m_{b_1\\mu\\nu}$')\n",
    "\n",
    "ax[0].set_xlabel(r\"$M_t$ [GeV]\")\n",
    "ax[0].set_ylabel(r\"$\\textnormal{AUC} - \\min{(\\textnormal{AUC})}$\")\n",
    "legend = ax[0].legend(title=r'Generator-level', frameon=False)\n",
    "plt.setp(legend.get_title(), multialignment='center')\n",
    "\n",
    "ax[1].plot(thetas, AUC_S - min(AUC_S), label='$\\mathcal{O}_4$')\n",
    "\n",
    "ax[1].plot(thetas,\n",
    "           AUC_m_b1_mu_nu_S - min(AUC_m_b1_mu_nu_S),\n",
    "           label=r'$m_{b_1\\mu\\nu}$')\n",
    "\n",
    "ax[1].set_xlabel(r\"$M_t$ [GeV]\")\n",
    "ax[1].set_ylabel(r\"$\\textnormal{AUC} - \\min{(\\textnormal{AUC})}$\")\n",
    "legend = ax[1].legend(title=r'Simulation-level', frameon=False)\n",
    "plt.setp(legend.get_title(), multialignment='center')\n",
    "fig.show()"
   ]
  },
  {
   "cell_type": "markdown",
   "metadata": {},
   "source": [
    "Even when scanning only on $m_{b_1\\mu\\nu}$, a one dimensional feature, we've shown for fixed $\\theta$, the AUC is minimized at $\\theta=\\theta_?$ for both generator- and simulation-level. However, the rise in the AUC function away from the minimum is steeper when scanning with all four observables than when scanning with only with the reconstructed hadronic mass, as expected given the increase in statistical power offered by all four observables. For both fits, also note the rise in the AUC function away from the minimum is steeper at generator-level than simulation-level, as expected given the loss of statistical power from detector smearing"
   ]
  }
 ],
 "metadata": {
  "kernelspec": {
   "display_name": "Python 3",
   "language": "python",
   "name": "python3"
  },
  "language_info": {
   "codemirror_mode": {
    "name": "ipython",
    "version": 3
   },
   "file_extension": ".py",
   "mimetype": "text/x-python",
   "name": "python",
   "nbconvert_exporter": "python",
   "pygments_lexer": "ipython3",
   "version": "3.5.2"
  },
  "toc": {
   "base_numbering": 1,
   "nav_menu": {},
   "number_sections": false,
   "sideBar": true,
   "skip_h1_title": false,
   "title_cell": "Table of Contents",
   "title_sidebar": "Contents",
   "toc_cell": false,
   "toc_position": {},
   "toc_section_display": true,
   "toc_window_display": false
  },
  "varInspector": {
   "cols": {
    "lenName": 16,
    "lenType": 16,
    "lenVar": 40
   },
   "kernels_config": {
    "python": {
     "delete_cmd_postfix": "",
     "delete_cmd_prefix": "del ",
     "library": "var_list.py",
     "varRefreshCmd": "print(var_dic_list())"
    },
    "r": {
     "delete_cmd_postfix": ") ",
     "delete_cmd_prefix": "rm(",
     "library": "var_list.r",
     "varRefreshCmd": "cat(var_dic_list()) "
    }
   },
   "types_to_exclude": [
    "module",
    "function",
    "builtin_function_or_method",
    "instance",
    "_Feature"
   ],
   "window_display": false
  }
 },
 "nbformat": 4,
 "nbformat_minor": 4
}
