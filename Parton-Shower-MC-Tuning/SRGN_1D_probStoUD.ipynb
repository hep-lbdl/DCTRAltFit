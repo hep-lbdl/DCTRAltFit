{
 "cells": [
  {
   "cell_type": "code",
   "execution_count": 1,
   "metadata": {
    "ExecuteTime": {
     "end_time": "2020-10-05T06:57:17.321299Z",
     "start_time": "2020-10-05T06:57:17.314329Z"
    }
   },
   "outputs": [],
   "source": [
    "import os\n",
    "os.environ[\"CUDA_DEVICE_ORDER\"] = \"PCI_BUS_ID\"\n",
    "os.environ[\"CUDA_VISIBLE_DEVICES\"] = \"3\""
   ]
  },
  {
   "cell_type": "code",
   "execution_count": 2,
   "metadata": {
    "ExecuteTime": {
     "end_time": "2020-10-05T06:57:21.508502Z",
     "start_time": "2020-10-05T06:57:17.324486Z"
    }
   },
   "outputs": [
    {
     "name": "stderr",
     "output_type": "stream",
     "text": [
      "Using TensorFlow backend.\n"
     ]
    }
   ],
   "source": [
    "from __future__ import absolute_import, division, print_function\n",
    "\n",
    "import numpy as np\n",
    "from matplotlib import pyplot as plt\n",
    "\n",
    "import tensorflow as tf\n",
    "import keras as keras\n",
    "import keras.backend as K\n",
    "from keras.callbacks import EarlyStopping\n",
    "from keras.layers import Input, Dense\n",
    "from keras.models import Model\n",
    "from sklearn.metrics import roc_auc_score\n",
    "\n",
    "import energyflow as ef\n",
    "from energyflow.archs import PFN\n",
    "from energyflow.utils import data_split, remap_pids, to_categorical"
   ]
  },
  {
   "cell_type": "code",
   "execution_count": 3,
   "metadata": {
    "ExecuteTime": {
     "end_time": "2020-10-05T06:57:21.525045Z",
     "start_time": "2020-10-05T06:57:21.514097Z"
    }
   },
   "outputs": [],
   "source": [
    "# Global plot settings\n",
    "from matplotlib import rc\n",
    "import matplotlib.font_manager\n",
    "\n",
    "rc('font', family='serif')\n",
    "rc('text', usetex=True)\n",
    "rc('font', size=22)\n",
    "rc('xtick', labelsize=15)\n",
    "rc('ytick', labelsize=15)\n",
    "rc('legend', fontsize=15)"
   ]
  },
  {
   "cell_type": "code",
   "execution_count": 4,
   "metadata": {
    "ExecuteTime": {
     "end_time": "2020-10-05T06:57:21.536120Z",
     "start_time": "2020-10-05T06:57:21.529316Z"
    }
   },
   "outputs": [
    {
     "name": "stdout",
     "output_type": "stream",
     "text": [
      "2.2.4\n",
      "1.15.0\n"
     ]
    }
   ],
   "source": [
    "print(keras.__version__)  # 2.2.4\n",
    "print(tf.__version__)  # 1.15.0"
   ]
  },
  {
   "cell_type": "markdown",
   "metadata": {},
   "source": [
    "# The SRGN fitting algorithm\n",
    "\n",
    "The DCTR paper (https://arxiv.org/abs/1907.08209) shows how a continuously parameterized NN used for reweighting:\n",
    "\n",
    "$f(x,\\theta)=\\text{argmax}_{f'}(\\sum_{i\\in\\bf{\\theta}_0}\\log f'(x_i,\\theta)+\\sum_{i\\in\\bf{\\theta}}\\log (1-f'(x_i,\\theta)))$\n",
    "\n",
    "can also be used for fitting:\n",
    "\n",
    "$\\theta^*=\\text{argmax}_{\\theta'}(\\sum_{i\\in\\bf{\\theta}_0}\\log f(x_i,\\theta')+\\sum_{i\\in\\bf{\\theta}}\\log (1-f(x_i,\\theta')))$\n",
    "\n",
    "This works well when the reweighting and fitting happen on the same 'level'.  However, if the reweighting happens at generator-level (before detector simulation) while the fit happens in simulation (after the effects of the detector), this procedure will not work.  It works only if the reweighting and fitting both happen at simulation-level or both happen at generator-level.  This notebook illustrates the alternative SRGN procedure from (*insert link here*):\n",
    "\n",
    "Let $x$ and $y$ denote the generator- and simulation-level events respectively. Suppose that $g$ is a neural network defined as follows:\n",
    "\n",
    "$g_{\\theta'}(y)=\\text{argmax}_{g}\\sum_{y_i\\in\\boldsymbol{\\theta_?}}\\log(g_{\\theta'}(y_i))+\n",
    "    \\sum_{(x_i,y_i)\\in\\boldsymbol{\\theta_0}}w(x_i,\\theta',\\theta_0)\\log(1-g_{\\theta'}(y_i))$\n",
    "\n",
    "where $w(x,\\theta',\\theta_0) = f(x,\\theta')/(1-f(x,\\theta'))$ is a reweighting function learned at generator level (and $\\theta_0$ denotes the nominal value of the parameter).  \n",
    "\n",
    "Then, \n",
    "\n",
    "$\\theta_{\\text{SRGN}}^*\\equiv\\text{argmin}_{\\theta'}\\left[\\Pr(g_{\\theta_?}(y)>g_{\\theta'}(y))\\right]$\n",
    "\n",
    "where the quantity in $[\\cdot]$ is typically called the area under the receiver operating characteristic curve or AUC. We calculate the AUC between $g$’s predictions on events from the unknown sample and  $g$’s predictions on reweighted events from the synthetic sample; effectively, if we reweight events from the synthetic sample $\\boldsymbol{\\theta_0}$ to events from $\\boldsymbol{\\theta’}$, then we calculate the AUC between $g$’s predictions on  $\\boldsymbol{\\theta_?} $and $g$’s predictions on $\\boldsymbol{\\theta’}$.\n",
    "\n",
    "\n",
    "The intuition of the above equation is that the classifier $g$ is trying to distinguish events from the unknown sample $\\boldsymbol{\\theta_?}$ and events from $\\boldsymbol{\\theta'}$ and we try to find a $\\theta'$ that makes $g$'s task maximally hard.  If $g$ can't tell apart the two samples (i.e. the AUC is minimized), then the reweighting has worked! Asympotitically, the SRGN method learns the same result as the one in the body of the DCTR paper: $\\theta^*=\\theta_?$."
   ]
  },
  {
   "cell_type": "markdown",
   "metadata": {},
   "source": [
    "# Parton Shower Monte Carlo Tuning: probStoUD"
   ]
  },
  {
   "cell_type": "markdown",
   "metadata": {},
   "source": [
    "In this notebook, we apply the SRGN fitting algorithm to the parton shower example from the original DCTR paper. Specifically, we attempt to tune the Monte Carlo parameter StringFlav:probStoUD (denoted probStoUD)."
   ]
  },
  {
   "cell_type": "code",
   "execution_count": 5,
   "metadata": {
    "ExecuteTime": {
     "end_time": "2020-10-05T06:57:21.545503Z",
     "start_time": "2020-10-05T06:57:21.541073Z"
    }
   },
   "outputs": [],
   "source": [
    "# Path to downloaded data from Zenodo\n",
    "data_dir = '/data0/users/aandreassen/zenodo/'"
   ]
  },
  {
   "cell_type": "markdown",
   "metadata": {},
   "source": [
    "### Utilities"
   ]
  },
  {
   "cell_type": "code",
   "execution_count": 6,
   "metadata": {
    "ExecuteTime": {
     "end_time": "2020-10-05T06:57:21.566220Z",
     "start_time": "2020-10-05T06:57:21.549085Z"
    }
   },
   "outputs": [],
   "source": [
    "# normalize pT and center (y, phi)\n",
    "def normalize(x):\n",
    "    mask = x[:, 0] > 0\n",
    "    yphi_avg = np.average(x[mask, 1:3], weights=x[mask, 0], axis=0)\n",
    "    x[mask, 1:3] -= yphi_avg\n",
    "    x[mask, 0] /= x[:, 0].sum()"
   ]
  },
  {
   "cell_type": "code",
   "execution_count": 7,
   "metadata": {
    "ExecuteTime": {
     "end_time": "2020-10-05T06:57:21.576098Z",
     "start_time": "2020-10-05T06:57:21.569900Z"
    }
   },
   "outputs": [],
   "source": [
    "def preprocess_data(X):\n",
    "    for x in X:\n",
    "        normalize(x)\n",
    "\n",
    "    # Remap PIDs to unique values in range [0,1]\n",
    "    remap_pids(X, pid_i=3)\n",
    "    return X"
   ]
  },
  {
   "cell_type": "markdown",
   "metadata": {},
   "source": [
    "## Training a DCTR Model\n",
    "First, we need to train a DCTR model parameterized by probStoUD to provide us with a reweighting function to be used during fitting."
   ]
  },
  {
   "cell_type": "markdown",
   "metadata": {},
   "source": [
    "### Load training & validation data"
   ]
  },
  {
   "cell_type": "code",
   "execution_count": 8,
   "metadata": {
    "ExecuteTime": {
     "end_time": "2020-10-05T07:03:53.817790Z",
     "start_time": "2020-10-05T06:57:21.581121Z"
    }
   },
   "outputs": [],
   "source": [
    "# Load training data\n",
    "dataset = np.load(data_dir + '1D_probStoUD_train.npz')\n",
    "\n",
    "X = dataset['X']\n",
    "Y = dataset['Y']\n",
    "\n",
    "X = preprocess_data(X)\n",
    "Y = to_categorical(Y, num_classes=2)\n",
    "\n",
    "X_train, X_val, Y_train, Y_val = data_split(X, Y, test=0.1, shuffle=True)"
   ]
  },
  {
   "cell_type": "markdown",
   "metadata": {},
   "source": [
    "### Build Model"
   ]
  },
  {
   "cell_type": "code",
   "execution_count": 9,
   "metadata": {
    "ExecuteTime": {
     "end_time": "2020-10-05T07:03:54.147260Z",
     "start_time": "2020-10-05T07:03:53.822948Z"
    },
    "scrolled": true
   },
   "outputs": [
    {
     "name": "stdout",
     "output_type": "stream",
     "text": [
      "WARNING:tensorflow:From /home/asuresh/.local/lib/python3.5/site-packages/keras/backend/tensorflow_backend.py:517: The name tf.placeholder is deprecated. Please use tf.compat.v1.placeholder instead.\n",
      "\n",
      "WARNING:tensorflow:From /home/asuresh/.local/lib/python3.5/site-packages/keras/backend/tensorflow_backend.py:74: The name tf.get_default_graph is deprecated. Please use tf.compat.v1.get_default_graph instead.\n",
      "\n",
      "WARNING:tensorflow:From /home/asuresh/.local/lib/python3.5/site-packages/keras/backend/tensorflow_backend.py:4138: The name tf.random_uniform is deprecated. Please use tf.random.uniform instead.\n",
      "\n",
      "WARNING:tensorflow:From /home/asuresh/.local/lib/python3.5/site-packages/keras/optimizers.py:790: The name tf.train.Optimizer is deprecated. Please use tf.compat.v1.train.Optimizer instead.\n",
      "\n",
      "WARNING:tensorflow:From /home/asuresh/.local/lib/python3.5/site-packages/keras/backend/tensorflow_backend.py:3295: The name tf.log is deprecated. Please use tf.math.log instead.\n",
      "\n"
     ]
    }
   ],
   "source": [
    "# network architecture parameters\n",
    "Phi_sizes = (100, 100, 128)\n",
    "F_sizes = (100, 100, 100)\n",
    "\n",
    "dctr = PFN(input_dim=7, Phi_sizes=Phi_sizes, F_sizes=F_sizes, summary=False)"
   ]
  },
  {
   "cell_type": "markdown",
   "metadata": {},
   "source": [
    "### Train Model"
   ]
  },
  {
   "cell_type": "code",
   "execution_count": 10,
   "metadata": {
    "ExecuteTime": {
     "end_time": "2020-10-05T07:57:16.641535Z",
     "start_time": "2020-10-05T07:03:54.151330Z"
    }
   },
   "outputs": [
    {
     "name": "stdout",
     "output_type": "stream",
     "text": [
      "WARNING:tensorflow:From /home/asuresh/.local/lib/python3.5/site-packages/tensorflow_core/python/ops/math_grad.py:1424: where (from tensorflow.python.ops.array_ops) is deprecated and will be removed in a future version.\n",
      "Instructions for updating:\n",
      "Use tf.where in 2.0, which has the same broadcast rule as np.where\n",
      "WARNING:tensorflow:From /home/asuresh/.local/lib/python3.5/site-packages/keras/backend/tensorflow_backend.py:986: The name tf.assign_add is deprecated. Please use tf.compat.v1.assign_add instead.\n",
      "\n",
      "WARNING:tensorflow:From /home/asuresh/.local/lib/python3.5/site-packages/keras/backend/tensorflow_backend.py:973: The name tf.assign is deprecated. Please use tf.compat.v1.assign instead.\n",
      "\n",
      "WARNING:tensorflow:From /home/asuresh/.local/lib/python3.5/site-packages/keras/backend/tensorflow_backend.py:2741: The name tf.Session is deprecated. Please use tf.compat.v1.Session instead.\n",
      "\n",
      "Train on 1620000 samples, validate on 180000 samples\n",
      "Epoch 1/100\n",
      "WARNING:tensorflow:From /home/asuresh/.local/lib/python3.5/site-packages/keras/backend/tensorflow_backend.py:174: The name tf.get_default_session is deprecated. Please use tf.compat.v1.get_default_session instead.\n",
      "\n",
      "WARNING:tensorflow:From /home/asuresh/.local/lib/python3.5/site-packages/keras/backend/tensorflow_backend.py:181: The name tf.ConfigProto is deprecated. Please use tf.compat.v1.ConfigProto instead.\n",
      "\n",
      "WARNING:tensorflow:From /home/asuresh/.local/lib/python3.5/site-packages/keras/backend/tensorflow_backend.py:190: The name tf.global_variables is deprecated. Please use tf.compat.v1.global_variables instead.\n",
      "\n",
      "WARNING:tensorflow:From /home/asuresh/.local/lib/python3.5/site-packages/keras/backend/tensorflow_backend.py:199: The name tf.is_variable_initialized is deprecated. Please use tf.compat.v1.is_variable_initialized instead.\n",
      "\n",
      "WARNING:tensorflow:From /home/asuresh/.local/lib/python3.5/site-packages/keras/backend/tensorflow_backend.py:206: The name tf.variables_initializer is deprecated. Please use tf.compat.v1.variables_initializer instead.\n",
      "\n",
      "1620000/1620000 [==============================] - 150s 93us/step - loss: 0.7005 - acc: 0.5066 - val_loss: 0.6930 - val_acc: 0.5107\n",
      "Epoch 2/100\n",
      "1620000/1620000 [==============================] - 151s 93us/step - loss: 0.6924 - acc: 0.5141 - val_loss: 0.6910 - val_acc: 0.5211\n",
      "Epoch 3/100\n",
      "1620000/1620000 [==============================] - 149s 92us/step - loss: 0.6911 - acc: 0.5211 - val_loss: 0.6902 - val_acc: 0.5264\n",
      "Epoch 4/100\n",
      "1620000/1620000 [==============================] - 151s 93us/step - loss: 0.6905 - acc: 0.5247 - val_loss: 0.6902 - val_acc: 0.5292\n",
      "Epoch 5/100\n",
      "1620000/1620000 [==============================] - 156s 96us/step - loss: 0.6902 - acc: 0.5265 - val_loss: 0.6897 - val_acc: 0.5296\n",
      "Epoch 6/100\n",
      "1620000/1620000 [==============================] - 150s 92us/step - loss: 0.6900 - acc: 0.5278 - val_loss: 0.6896 - val_acc: 0.5295\n",
      "Epoch 7/100\n",
      "1620000/1620000 [==============================] - 150s 93us/step - loss: 0.6898 - acc: 0.5286 - val_loss: 0.6900 - val_acc: 0.5291\n",
      "Epoch 8/100\n",
      "1620000/1620000 [==============================] - 144s 89us/step - loss: 0.6898 - acc: 0.5289 - val_loss: 0.6896 - val_acc: 0.5302\n",
      "Epoch 9/100\n",
      "1620000/1620000 [==============================] - 151s 93us/step - loss: 0.6897 - acc: 0.5295 - val_loss: 0.6894 - val_acc: 0.5311\n",
      "Epoch 10/100\n",
      "1620000/1620000 [==============================] - 149s 92us/step - loss: 0.6896 - acc: 0.5297 - val_loss: 0.6893 - val_acc: 0.5323\n",
      "Epoch 11/100\n",
      "1620000/1620000 [==============================] - 159s 98us/step - loss: 0.6896 - acc: 0.5301 - val_loss: 0.6893 - val_acc: 0.5312\n",
      "Epoch 12/100\n",
      "1620000/1620000 [==============================] - 151s 93us/step - loss: 0.6895 - acc: 0.5305 - val_loss: 0.6894 - val_acc: 0.5308\n",
      "Epoch 13/100\n",
      "1620000/1620000 [==============================] - 153s 95us/step - loss: 0.6895 - acc: 0.5304 - val_loss: 0.6894 - val_acc: 0.5311\n",
      "Epoch 14/100\n",
      "1620000/1620000 [==============================] - 149s 92us/step - loss: 0.6895 - acc: 0.5304 - val_loss: 0.6893 - val_acc: 0.5315\n",
      "Epoch 15/100\n",
      "1620000/1620000 [==============================] - 151s 93us/step - loss: 0.6894 - acc: 0.5308 - val_loss: 0.6893 - val_acc: 0.5321\n",
      "Epoch 16/100\n",
      "1620000/1620000 [==============================] - 144s 89us/step - loss: 0.6894 - acc: 0.5309 - val_loss: 0.6893 - val_acc: 0.5316\n",
      "Epoch 17/100\n",
      "1620000/1620000 [==============================] - 100s 62us/step - loss: 0.6894 - acc: 0.5312 - val_loss: 0.6894 - val_acc: 0.5315\n",
      "Epoch 18/100\n",
      "1620000/1620000 [==============================] - 101s 62us/step - loss: 0.6893 - acc: 0.5309 - val_loss: 0.6894 - val_acc: 0.5314\n",
      "Epoch 19/100\n",
      "1620000/1620000 [==============================] - 100s 62us/step - loss: 0.6893 - acc: 0.5316 - val_loss: 0.6895 - val_acc: 0.5317\n",
      "Epoch 20/100\n",
      "1620000/1620000 [==============================] - 99s 61us/step - loss: 0.6893 - acc: 0.5316 - val_loss: 0.6895 - val_acc: 0.5317\n",
      "Epoch 21/100\n",
      "1620000/1620000 [==============================] - 98s 61us/step - loss: 0.6893 - acc: 0.5316 - val_loss: 0.6894 - val_acc: 0.5316\n",
      "Epoch 22/100\n",
      "1620000/1620000 [==============================] - 98s 60us/step - loss: 0.6893 - acc: 0.5315 - val_loss: 0.6894 - val_acc: 0.5312\n",
      "Epoch 23/100\n",
      "1620000/1620000 [==============================] - 98s 61us/step - loss: 0.6892 - acc: 0.5318 - val_loss: 0.6894 - val_acc: 0.5321\n",
      "Epoch 24/100\n",
      "1620000/1620000 [==============================] - 98s 61us/step - loss: 0.6892 - acc: 0.5319 - val_loss: 0.6893 - val_acc: 0.5329\n",
      "Restoring model weights from the end of the best epoch\n",
      "Epoch 00024: early stopping\n"
     ]
    },
    {
     "data": {
      "text/plain": [
       "<keras.callbacks.History at 0x7ff1f5197400>"
      ]
     },
     "execution_count": 10,
     "metadata": {},
     "output_type": "execute_result"
    }
   ],
   "source": [
    "# Train model\n",
    "earlystopping = keras.callbacks.EarlyStopping(patience=10,\n",
    "                                              verbose=1,\n",
    "                                              restore_best_weights=True)\n",
    "\n",
    "dctr.fit(X_train,\n",
    "         Y_train,\n",
    "         epochs=100,\n",
    "         batch_size=1000,\n",
    "         validation_data=(X_val, Y_val),\n",
    "         verbose=1,\n",
    "         callbacks=[earlystopping])"
   ]
  },
  {
   "cell_type": "markdown",
   "metadata": {},
   "source": [
    "### Defining reweighting function\n",
    "\n",
    "$w(x_i,\\theta)=((f(x_i,\\theta)/(1-f(x_i,\\theta)))$\n",
    "\n",
    "Takes generator-level event from the synthetic sample $\\boldsymbol{\\theta_0}$ and weights it to an event from $\\boldsymbol{\\theta}$."
   ]
  },
  {
   "cell_type": "code",
   "execution_count": 11,
   "metadata": {
    "ExecuteTime": {
     "end_time": "2020-10-05T07:57:16.654141Z",
     "start_time": "2020-10-05T07:57:16.644985Z"
    }
   },
   "outputs": [],
   "source": [
    "def reweight(events, param):  #from NN (DCTR)\n",
    "    theta_prime = [0.1365, 0.68, param]\n",
    "\n",
    "    # zip theta_prime to each input particle (but not to the padded rows)\n",
    "    # check if pT != 0 --> zip theta_prime\n",
    "    concat_input_and_params = np.where(\n",
    "        np.abs(events[..., 0]) > 0, np.ones_like(events[..., 0]),\n",
    "        np.zeros_like(events[..., 0]))\n",
    "\n",
    "    concat_input_and_params = theta_prime * np.stack([\n",
    "        concat_input_and_params, concat_input_and_params,\n",
    "        concat_input_and_params\n",
    "    ],\n",
    "                                                     axis=-1)\n",
    "\n",
    "    model_inputs = np.concatenate([events, concat_input_and_params], -1)\n",
    "\n",
    "    f = dctr.model.predict(model_inputs, batch_size=100000)\n",
    "    weights = (f[:, 1]) / (f[:, 0])\n",
    "\n",
    "    return weights"
   ]
  },
  {
   "cell_type": "markdown",
   "metadata": {},
   "source": [
    "## Validate DCTR for $\\text{probStoUD}=0.275$"
   ]
  },
  {
   "cell_type": "code",
   "execution_count": 12,
   "metadata": {
    "ExecuteTime": {
     "end_time": "2020-10-05T07:57:16.668130Z",
     "start_time": "2020-10-05T07:57:16.656775Z"
    }
   },
   "outputs": [],
   "source": [
    "# Define default plot styles\n",
    "plot_style_0 = {\n",
    "    'histtype': 'step',\n",
    "    'color': 'black',\n",
    "    'linewidth': 2,\n",
    "    'linestyle': '--',\n",
    "    'density': True\n",
    "}\n",
    "plot_style_1 = {'alpha': 0.5, 'density': True}\n",
    "\n",
    "# Define labels for legends\n",
    "label_0 = r'probStoUD=0.217'\n",
    "\n",
    "label_1 = r'probStoUD=0.275'\n",
    "\n",
    "pythia_text = r'\\textsc{Pythia 8}' + '\\n' + r'$e^+e^- \\to Z \\to $ dijets' + '\\n' + r\"anti-$k_{\\mathrm{T}}$, $R=0.8$\"\n",
    "\n",
    "\n",
    "def make_legend(ax):\n",
    "    leg = ax.legend(frameon=False)\n",
    "    leg.set_title(pythia_text, prop={'size': 14})\n",
    "    leg._legend_box.align = \"left\"\n",
    "    plt.tight_layout()"
   ]
  },
  {
   "cell_type": "code",
   "execution_count": 13,
   "metadata": {
    "ExecuteTime": {
     "end_time": "2020-10-05T08:03:07.531758Z",
     "start_time": "2020-10-05T07:57:16.670502Z"
    }
   },
   "outputs": [],
   "source": [
    "test_dataset_0 = np.load(data_dir + 'test1D_default.npz')\n",
    "test_dataset_1 = np.load(data_dir + 'test1D_probStoUD.npz')\n",
    "\n",
    "X0_test = preprocess_data(test_dataset_0['jet'][:, :, :4])\n",
    "X1_test = preprocess_data(test_dataset_1['jet'][:, :, :4])"
   ]
  },
  {
   "cell_type": "code",
   "execution_count": 14,
   "metadata": {
    "ExecuteTime": {
     "end_time": "2020-10-05T08:03:31.128840Z",
     "start_time": "2020-10-05T08:03:07.534677Z"
    }
   },
   "outputs": [],
   "source": [
    "weights = reweight(X0_test, 0.275)"
   ]
  },
  {
   "cell_type": "code",
   "execution_count": 15,
   "metadata": {
    "ExecuteTime": {
     "end_time": "2020-10-05T08:03:40.971450Z",
     "start_time": "2020-10-05T08:03:31.131278Z"
    }
   },
   "outputs": [
    {
     "name": "stderr",
     "output_type": "stream",
     "text": [
      "/home/asuresh/.local/lib/python3.5/site-packages/matplotlib/figure.py:2144: UserWarning: This figure was using constrained_layout==True, but that is incompatible with subplots_adjust and or tight_layout: setting constrained_layout==False. \n",
      "  warnings.warn(\"This figure was using constrained_layout==True, \"\n",
      "/home/asuresh/.local/lib/python3.5/site-packages/ipykernel_launcher.py:81: RuntimeWarning: divide by zero encountered in log\n",
      "/home/asuresh/.local/lib/python3.5/site-packages/ipykernel_launcher.py:85: RuntimeWarning: divide by zero encountered in log\n",
      "/home/asuresh/.local/lib/python3.5/site-packages/ipykernel_launcher.py:90: RuntimeWarning: divide by zero encountered in log\n",
      "/home/asuresh/.local/lib/python3.5/site-packages/ipykernel_launcher.py:100: RuntimeWarning: divide by zero encountered in log\n",
      "/home/asuresh/.local/lib/python3.5/site-packages/ipykernel_launcher.py:104: RuntimeWarning: divide by zero encountered in log\n",
      "/home/asuresh/.local/lib/python3.5/site-packages/ipykernel_launcher.py:109: RuntimeWarning: divide by zero encountered in log\n"
     ]
    },
    {
     "data": {
      "image/png": "[encoded data removed]",
      "text/plain": [
       "<Figure size 1296x720 with 6 Axes>"
      ]
     },
     "metadata": {
      "needs_background": "light"
     },
     "output_type": "display_data"
    }
   ],
   "source": [
    "fig, ax = plt.subplots(2, 3, figsize=(18, 10), constrained_layout=True)\n",
    "\n",
    "bins = np.linspace(0, 50, 26)\n",
    "ax[0, 0].hist(test_dataset_0['multiplicity'],\n",
    "              bins=bins,\n",
    "              label=label_0,\n",
    "              **plot_style_1)\n",
    "ax[0, 0].hist(test_dataset_0['multiplicity'],\n",
    "              bins=bins,\n",
    "              label=label_0 + '\\nwgt.',\n",
    "              weights=weights,\n",
    "              **plot_style_0)\n",
    "ax[0, 0].hist(test_dataset_1['multiplicity'],\n",
    "              bins=bins,\n",
    "              label=label_1,\n",
    "              **plot_style_1)\n",
    "\n",
    "ax[0, 0].set_xlabel('Multiplicity')\n",
    "ax[0, 0].set_ylabel('Jets per bin (normalized)')\n",
    "ax[0, 0].set_xlim([0, 50])\n",
    "make_legend(ax[0, 0])\n",
    "\n",
    "bins = np.linspace(0, 10, 11)\n",
    "ax[1, 0].hist(test_dataset_0['number_of_kaons'],\n",
    "              bins=bins,\n",
    "              label=label_0,\n",
    "              **plot_style_1)\n",
    "ax[1, 0].hist(test_dataset_0['number_of_kaons'],\n",
    "              bins=bins,\n",
    "              label=label_0 + '\\nwgt.',\n",
    "              weights=weights,\n",
    "              **plot_style_0)\n",
    "ax[1, 0].hist(test_dataset_1['number_of_kaons'],\n",
    "              bins=bins,\n",
    "              label=label_1,\n",
    "              **plot_style_1)\n",
    "\n",
    "ax[1, 0].set_xlabel('Number of kaons')\n",
    "ax[1, 0].set_ylabel('Jets per bin (normalized)')\n",
    "make_legend(ax[1, 0])\n",
    "\n",
    "bins = np.linspace(0, 1, 31)\n",
    "ax[0, 1].hist(test_dataset_0['tau21'],\n",
    "              bins=bins,\n",
    "              label=label_0,\n",
    "              **plot_style_1)\n",
    "ax[0, 1].hist(test_dataset_0['tau21'],\n",
    "              bins=bins,\n",
    "              label=label_0 + '\\nwgt.',\n",
    "              weights=weights,\n",
    "              **plot_style_0)\n",
    "ax[0, 1].hist(test_dataset_1['tau21'],\n",
    "              bins=bins,\n",
    "              label=label_1,\n",
    "              **plot_style_1)\n",
    "\n",
    "ax[0, 1].set_xlabel('tau21')\n",
    "ax[0, 1].set_ylabel('Jets per bin (normalized)')\n",
    "make_legend(ax[0, 1])\n",
    "\n",
    "bins = np.linspace(0, 1, 31)\n",
    "ax[1, 1].hist(test_dataset_0['tau32'],\n",
    "              bins=bins,\n",
    "              label=label_0,\n",
    "              **plot_style_1)\n",
    "ax[1, 1].hist(test_dataset_0['tau32'],\n",
    "              bins=bins,\n",
    "              label=label_0 + '\\nwgt.',\n",
    "              weights=weights,\n",
    "              **plot_style_0)\n",
    "ax[1, 1].hist(test_dataset_1['tau32'],\n",
    "              bins=bins,\n",
    "              label=label_1,\n",
    "              **plot_style_1)\n",
    "\n",
    "ax[1, 1].set_xlabel('tau32')\n",
    "ax[1, 1].set_ylabel('Jets per bin (normalized)')\n",
    "make_legend(ax[1, 1])\n",
    "\n",
    "bins = np.linspace(-20, 5, 36)\n",
    "ax[0, 2].hist(np.log(test_dataset_0['ECF_N3_B4']),\n",
    "              bins=bins,\n",
    "              label=label_0,\n",
    "              **plot_style_1)\n",
    "ax[0, 2].hist(np.log(test_dataset_0['ECF_N3_B4']),\n",
    "              bins=bins,\n",
    "              label=label_0 + '\\nwgt.',\n",
    "              weights=weights,\n",
    "              **plot_style_0)\n",
    "ax[0, 2].hist(np.log(test_dataset_1['ECF_N3_B4']),\n",
    "              bins=bins,\n",
    "              label=label_1,\n",
    "              **plot_style_1)\n",
    "\n",
    "ax[0, 2].set_xlabel('log ECF(N=3, beta=4)')\n",
    "ax[0, 2].set_ylabel('Jets per bin (normalized)')\n",
    "make_legend(ax[0, 2])\n",
    "\n",
    "bins = np.linspace(-35, 5, 31)\n",
    "ax[1, 2].hist(np.log(test_dataset_0['ECF_N4_B4']),\n",
    "              bins=bins,\n",
    "              label=label_0,\n",
    "              **plot_style_1)\n",
    "ax[1, 2].hist(np.log(test_dataset_0['ECF_N4_B4']),\n",
    "              bins=bins,\n",
    "              label=label_0 + '\\nwgt.',\n",
    "              weights=weights,\n",
    "              **plot_style_0)\n",
    "ax[1, 2].hist(np.log(test_dataset_1['ECF_N4_B4']),\n",
    "              bins=bins,\n",
    "              label=label_1,\n",
    "              **plot_style_1)\n",
    "\n",
    "ax[1, 2].set_xlabel('log ECF(N=4, beta=4)')\n",
    "ax[1, 2].set_ylabel('Jets per bin (normalized)')\n",
    "make_legend(ax[1, 2])"
   ]
  },
  {
   "cell_type": "markdown",
   "metadata": {},
   "source": [
    "# Fitting"
   ]
  },
  {
   "cell_type": "markdown",
   "metadata": {},
   "source": [
    "## Setup the dataset"
   ]
  },
  {
   "cell_type": "markdown",
   "metadata": {},
   "source": [
    "$\\boldsymbol{\\theta_0}$ denotes the synthetic sample used for reweighting, and we are trying to fit the parameter $\\theta$ (in this case $\\text{probStoUD}$) to the 'data' sample $\\boldsymbol{\\theta_?}$ ('theta_unknown')."
   ]
  },
  {
   "cell_type": "code",
   "execution_count": 16,
   "metadata": {
    "ExecuteTime": {
     "end_time": "2020-10-05T08:03:40.983045Z",
     "start_time": "2020-10-05T08:03:40.973746Z"
    }
   },
   "outputs": [],
   "source": [
    "theta0 = X0_test  # probStoUD=0.217\n",
    "theta_unknown = X1_test  # probStoUD=0.275\n",
    "\n",
    "labels0 = np.zeros_like(theta0[:, 0, 0])\n",
    "labels_unknown = np.ones_like(theta_unknown[:, 0, 0])"
   ]
  },
  {
   "cell_type": "code",
   "execution_count": 17,
   "metadata": {
    "ExecuteTime": {
     "end_time": "2020-10-05T08:03:42.480110Z",
     "start_time": "2020-10-05T08:03:40.985693Z"
    }
   },
   "outputs": [],
   "source": [
    "xvals = np.concatenate((theta0, theta_unknown), axis=0)\n",
    "\n",
    "yvals = np.concatenate((labels0, labels_unknown), axis=0)"
   ]
  },
  {
   "cell_type": "code",
   "execution_count": 18,
   "metadata": {
    "ExecuteTime": {
     "end_time": "2020-10-05T08:03:43.585859Z",
     "start_time": "2020-10-05T08:03:42.483234Z"
    }
   },
   "outputs": [],
   "source": [
    "X_train, X_test, Y_train, Y_test = data_split(xvals,\n",
    "                                              yvals,\n",
    "                                              test=0.5,\n",
    "                                              shuffle=True)"
   ]
  },
  {
   "cell_type": "markdown",
   "metadata": {},
   "source": [
    "## Fitting Model: Scan\n",
    "\n",
    "We will show for fixed $\\theta$, the AUC is minimized when $\\theta=\\theta_?$."
   ]
  },
  {
   "cell_type": "markdown",
   "metadata": {},
   "source": [
    "### Creating Model"
   ]
  },
  {
   "cell_type": "code",
   "execution_count": 19,
   "metadata": {
    "ExecuteTime": {
     "end_time": "2020-10-05T08:03:43.826166Z",
     "start_time": "2020-10-05T08:03:43.588911Z"
    }
   },
   "outputs": [
    {
     "name": "stdout",
     "output_type": "stream",
     "text": [
      "__________________________________________________________________________________________________\n",
      "Layer (type)                    Output Shape         Param #     Connected to                     \n",
      "==================================================================================================\n",
      "input (InputLayer)              (None, None, 4)      0                                            \n",
      "__________________________________________________________________________________________________\n",
      "tdist_0 (TimeDistributed)       (None, None, 100)    500         input[0][0]                      \n",
      "__________________________________________________________________________________________________\n",
      "activation_8 (Activation)       (None, None, 100)    0           tdist_0[0][0]                    \n",
      "__________________________________________________________________________________________________\n",
      "tdist_1 (TimeDistributed)       (None, None, 100)    10100       activation_8[0][0]               \n",
      "__________________________________________________________________________________________________\n",
      "activation_9 (Activation)       (None, None, 100)    0           tdist_1[0][0]                    \n",
      "__________________________________________________________________________________________________\n",
      "tdist_2 (TimeDistributed)       (None, None, 128)    12928       activation_9[0][0]               \n",
      "__________________________________________________________________________________________________\n",
      "mask (Lambda)                   (None, None)         0           input[0][0]                      \n",
      "__________________________________________________________________________________________________\n",
      "activation_10 (Activation)      (None, None, 128)    0           tdist_2[0][0]                    \n",
      "__________________________________________________________________________________________________\n",
      "sum (Dot)                       (None, 128)          0           mask[0][0]                       \n",
      "                                                                 activation_10[0][0]              \n",
      "__________________________________________________________________________________________________\n",
      "dense_0 (Dense)                 (None, 100)          12900       sum[0][0]                        \n",
      "__________________________________________________________________________________________________\n",
      "activation_11 (Activation)      (None, 100)          0           dense_0[0][0]                    \n",
      "__________________________________________________________________________________________________\n",
      "dense_1 (Dense)                 (None, 100)          10100       activation_11[0][0]              \n",
      "__________________________________________________________________________________________________\n",
      "activation_12 (Activation)      (None, 100)          0           dense_1[0][0]                    \n",
      "__________________________________________________________________________________________________\n",
      "dense_2 (Dense)                 (None, 100)          10100       activation_12[0][0]              \n",
      "__________________________________________________________________________________________________\n",
      "activation_13 (Activation)      (None, 100)          0           dense_2[0][0]                    \n",
      "__________________________________________________________________________________________________\n",
      "output (Dense)                  (None, 1)            101         activation_13[0][0]              \n",
      "__________________________________________________________________________________________________\n",
      "activation_14 (Activation)      (None, 1)            0           output[0][0]                     \n",
      "==================================================================================================\n",
      "Total params: 56,729\n",
      "Trainable params: 56,729\n",
      "Non-trainable params: 0\n",
      "__________________________________________________________________________________________________\n"
     ]
    }
   ],
   "source": [
    "model = PFN(input_dim=4,\n",
    "            Phi_sizes=Phi_sizes,\n",
    "            F_sizes=F_sizes,\n",
    "            output_dim=1,\n",
    "            output_act='sigmoid',\n",
    "            summary=True)\n",
    "\n",
    "batch_size = 1000\n",
    "earlystopping = EarlyStopping(patience=5, restore_best_weights=True)\n",
    "\n",
    "# scanning range for theta\n",
    "thetas = np.linspace(0.10, 0.30, 9)"
   ]
  },
  {
   "cell_type": "markdown",
   "metadata": {},
   "source": [
    "We will train this model with a weighted binary cross-entropy loss function:\n",
    "\n",
    "$\\text{loss}(g_{\\theta'}(x))=-\\sum_{x_i\\in\\boldsymbol{\\theta_?}}\\log(g_{\\theta'}(x_i))-\n",
    "    \\sum_{x_i\\in\\boldsymbol{\\theta_0}}w(x_{i},\\theta',\\theta_0)\\log(1-g_{\\theta'}(x_i))$"
   ]
  },
  {
   "cell_type": "markdown",
   "metadata": {},
   "source": [
    "### Scan with the Full Phase Space"
   ]
  },
  {
   "cell_type": "code",
   "execution_count": 20,
   "metadata": {
    "ExecuteTime": {
     "end_time": "2020-10-05T08:03:43.843872Z",
     "start_time": "2020-10-05T08:03:43.829096Z"
    }
   },
   "outputs": [],
   "source": [
    "def run_classifier(theta):\n",
    "\n",
    "    weights_train = np.ones(len(X_train))\n",
    "    weights_test = np.ones(len(X_test))\n",
    "\n",
    "    # calculate weights for events in theta_0, but leave ones for events in theta_?\n",
    "    weights_train[Y_train == 0] = reweight(events=X_train[Y_train == 0],\n",
    "                                           param=theta)\n",
    "    weights_test[Y_test == 0] = reweight(events=X_test[Y_test == 0],\n",
    "                                         param=theta)\n",
    "\n",
    "    model.model.compile(optimizer='adam',\n",
    "                        loss='binary_crossentropy',\n",
    "                        metrics=['accuracy'])\n",
    "\n",
    "    # fit model on weighted binary cross-entropy\n",
    "    history = model.fit(X_train,\n",
    "                        Y_train,\n",
    "                        epochs=100,\n",
    "                        batch_size=batch_size,\n",
    "                        validation_data=(X_test, Y_test, weights_test),\n",
    "                        sample_weight=weights_train,\n",
    "                        verbose=0,\n",
    "                        callbacks=[earlystopping])\n",
    "\n",
    "    # after training, calculate AUC between unknown sample and reweighted synthetic sample\n",
    "    auc = roc_auc_score(np.concatenate((Y_train, Y_test)),\n",
    "                        model.predict(np.concatenate((X_train, X_test)),\n",
    "                                      batch_size=100000),\n",
    "                        sample_weight=np.concatenate(\n",
    "                            (weights_train, weights_test)))\n",
    "\n",
    "    return auc"
   ]
  },
  {
   "cell_type": "code",
   "execution_count": 21,
   "metadata": {
    "ExecuteTime": {
     "end_time": "2020-10-05T09:47:12.581536Z",
     "start_time": "2020-10-05T08:03:43.846294Z"
    },
    "scrolled": true
   },
   "outputs": [
    {
     "name": "stdout",
     "output_type": "stream",
     "text": [
      "Testing theta = 0.100\n",
      "AUC: 0.63\n",
      "\n",
      "\n",
      "Testing theta = 0.125\n",
      "AUC: 0.61\n",
      "\n",
      "\n",
      "Testing theta = 0.150\n",
      "AUC: 0.60\n",
      "\n",
      "\n",
      "Testing theta = 0.175\n",
      "AUC: 0.58\n",
      "\n",
      "\n",
      "Testing theta = 0.200\n",
      "AUC: 0.56\n",
      "\n",
      "\n",
      "Testing theta = 0.225\n",
      "AUC: 0.54\n",
      "\n",
      "\n",
      "Testing theta = 0.250\n",
      "AUC: 0.52\n",
      "\n",
      "\n",
      "Testing theta = 0.275\n",
      "AUC: 0.51\n",
      "\n",
      "\n",
      "Testing theta = 0.300\n",
      "AUC: 0.52\n",
      "\n",
      "\n"
     ]
    }
   ],
   "source": [
    "AUC = []\n",
    "\n",
    "for theta in thetas:\n",
    "    print(\"Testing theta = {:.3f}\".format(theta))\n",
    "\n",
    "    auc = run_classifier(theta)\n",
    "    AUC += [auc]\n",
    "\n",
    "    print(\"AUC: {:.2f}\".format(auc))\n",
    "    print(\"\\n\")\n",
    "    pass"
   ]
  },
  {
   "cell_type": "code",
   "execution_count": 22,
   "metadata": {
    "ExecuteTime": {
     "end_time": "2020-10-05T09:47:12.833856Z",
     "start_time": "2020-10-05T09:47:12.584696Z"
    },
    "scrolled": true
   },
   "outputs": [
    {
     "data": {
      "image/png": "[encoded data removed]",
      "text/plain": [
       "<Figure size 432x360 with 1 Axes>"
      ]
     },
     "metadata": {
      "needs_background": "light"
     },
     "output_type": "display_data"
    }
   ],
   "source": [
    "plt.figure(figsize=(6, 5))\n",
    "plt.plot(thetas, AUC)\n",
    "plt.xlabel(r'probStoUD')\n",
    "plt.ylabel('AUC')\n",
    "plt.show()"
   ]
  },
  {
   "cell_type": "markdown",
   "metadata": {},
   "source": [
    "We've shown for fixed $\\theta$, the AUC is minimized $\\theta=\\theta_?$ when scanning with the full phase space."
   ]
  },
  {
   "cell_type": "markdown",
   "metadata": {},
   "source": [
    "## Comparison to Fitting on $N_{\\text{Strange Had.}}$ only\n",
    "\n",
    "Let's compare fitting on the entire phase space to fitting only on the number of strange hadrons.  "
   ]
  },
  {
   "cell_type": "code",
   "execution_count": 23,
   "metadata": {
    "ExecuteTime": {
     "end_time": "2020-10-05T09:47:12.843738Z",
     "start_time": "2020-10-05T09:47:12.835743Z"
    }
   },
   "outputs": [
    {
     "name": "stdout",
     "output_type": "stream",
     "text": [
      "WARNING:tensorflow:From /home/asuresh/.local/lib/python3.5/site-packages/keras/backend/tensorflow_backend.py:95: The name tf.reset_default_graph is deprecated. Please use tf.compat.v1.reset_default_graph instead.\n",
      "\n",
      "WARNING:tensorflow:From /home/asuresh/.local/lib/python3.5/site-packages/keras/backend/tensorflow_backend.py:98: The name tf.placeholder_with_default is deprecated. Please use tf.compat.v1.placeholder_with_default instead.\n",
      "\n"
     ]
    }
   ],
   "source": [
    "K.clear_session()"
   ]
  },
  {
   "cell_type": "markdown",
   "metadata": {},
   "source": [
    "### Training a DCTR Model\n",
    "First, we need to train a DCTR model parameterized by $\\text{probStoUD}$ that only receives $N_{\\text{Strange Had.}}$ as an input to provide us with a reweighting function to be used during fitting."
   ]
  },
  {
   "cell_type": "markdown",
   "metadata": {
    "ExecuteTime": {
     "end_time": "2020-09-30T18:56:22.230538Z",
     "start_time": "2020-09-30T18:56:22.214191Z"
    }
   },
   "source": [
    "#### Generate training & validation data"
   ]
  },
  {
   "cell_type": "code",
   "execution_count": 24,
   "metadata": {
    "ExecuteTime": {
     "end_time": "2020-10-05T09:58:24.898347Z",
     "start_time": "2020-10-05T09:47:12.845834Z"
    }
   },
   "outputs": [],
   "source": [
    "X = dataset['X']\n",
    "\n",
    "Y = dataset['Y']\n",
    "Y = to_categorical(Y, num_classes=2)\n",
    "\n",
    "# strange hadrons particle IDs\n",
    "strange_PIDs = np.array([130, 310, 311, 321, 3122, 3222, 3212, 3112])\n",
    "\n",
    "# add anti-particles\n",
    "strange_PIDs = np.concatenate([strange_PIDs,-strange_PIDs])\n",
    "\n",
    "X_strange_had = []\n",
    "\n",
    "for event in X:\n",
    "    probStoUD = event[0][6]\n",
    "    PIDs = event[:, 3]\n",
    "    number_strange_hadrons = 0\n",
    "    for PID in PIDs:\n",
    "        number_strange_hadrons += PID in strange_PIDs\n",
    "    X_strange_had.append([number_strange_hadrons, probStoUD])\n",
    "    \n",
    "X_strange_had = np.array(X_strange_had)"
   ]
  },
  {
   "cell_type": "code",
   "execution_count": 25,
   "metadata": {
    "ExecuteTime": {
     "end_time": "2020-10-05T09:58:25.191298Z",
     "start_time": "2020-10-05T09:58:24.900484Z"
    }
   },
   "outputs": [],
   "source": [
    "X_train, X_val, Y_train, Y_val = data_split(X_strange_had, \n",
    "                                            Y, \n",
    "                                            test=0.2, \n",
    "                                            shuffle=True)"
   ]
  },
  {
   "cell_type": "markdown",
   "metadata": {},
   "source": [
    "#### Build Model"
   ]
  },
  {
   "cell_type": "code",
   "execution_count": 26,
   "metadata": {
    "ExecuteTime": {
     "end_time": "2020-10-05T09:58:25.297324Z",
     "start_time": "2020-10-05T09:58:25.193766Z"
    }
   },
   "outputs": [],
   "source": [
    "inputs = Input((2, ))\n",
    "hidden_layer_1 = Dense(50, activation='relu')(inputs)\n",
    "hidden_layer_2 = Dense(50, activation='relu')(hidden_layer_1)\n",
    "hidden_layer_3 = Dense(50, activation='relu')(hidden_layer_2)\n",
    "\n",
    "outputs = Dense(2, activation='softmax')(hidden_layer_3)\n",
    "\n",
    "dctr = Model(inputs=inputs, outputs=outputs)\n",
    "dctr.compile(loss='categorical_crossentropy', optimizer='Adam')"
   ]
  },
  {
   "cell_type": "markdown",
   "metadata": {},
   "source": [
    "#### Train Model"
   ]
  },
  {
   "cell_type": "code",
   "execution_count": 27,
   "metadata": {
    "ExecuteTime": {
     "end_time": "2020-10-05T09:59:34.778951Z",
     "start_time": "2020-10-05T09:58:25.302282Z"
    }
   },
   "outputs": [
    {
     "name": "stdout",
     "output_type": "stream",
     "text": [
      "Train on 1440000 samples, validate on 360000 samples\n",
      "Epoch 1/200\n",
      "1440000/1440000 [==============================] - 3s 2us/step - loss: 0.6916 - val_loss: 0.6908\n",
      "Epoch 2/200\n",
      "1440000/1440000 [==============================] - 2s 2us/step - loss: 0.6903 - val_loss: 0.6904\n",
      "Epoch 3/200\n",
      "1440000/1440000 [==============================] - 2s 2us/step - loss: 0.6900 - val_loss: 0.6903\n",
      "Epoch 4/200\n",
      "1440000/1440000 [==============================] - 2s 2us/step - loss: 0.6898 - val_loss: 0.6898\n",
      "Epoch 5/200\n",
      "1440000/1440000 [==============================] - 2s 2us/step - loss: 0.6897 - val_loss: 0.6898\n",
      "Epoch 6/200\n",
      "1440000/1440000 [==============================] - 2s 2us/step - loss: 0.6897 - val_loss: 0.6898\n",
      "Epoch 7/200\n",
      "1440000/1440000 [==============================] - 2s 2us/step - loss: 0.6897 - val_loss: 0.6898\n",
      "Epoch 8/200\n",
      "1440000/1440000 [==============================] - 2s 2us/step - loss: 0.6896 - val_loss: 0.6898\n",
      "Epoch 9/200\n",
      "1440000/1440000 [==============================] - 2s 2us/step - loss: 0.6896 - val_loss: 0.6898\n",
      "Epoch 10/200\n",
      "1440000/1440000 [==============================] - 2s 2us/step - loss: 0.6896 - val_loss: 0.6897\n",
      "Epoch 11/200\n",
      "1440000/1440000 [==============================] - 2s 2us/step - loss: 0.6896 - val_loss: 0.6897\n",
      "Epoch 12/200\n",
      "1440000/1440000 [==============================] - 2s 2us/step - loss: 0.6896 - val_loss: 0.6897\n",
      "Epoch 13/200\n",
      "1440000/1440000 [==============================] - 2s 2us/step - loss: 0.6896 - val_loss: 0.6898\n",
      "Epoch 14/200\n",
      "1440000/1440000 [==============================] - 2s 2us/step - loss: 0.6896 - val_loss: 0.6898\n",
      "Epoch 15/200\n",
      "1440000/1440000 [==============================] - 2s 2us/step - loss: 0.6896 - val_loss: 0.6897\n",
      "Epoch 16/200\n",
      "1440000/1440000 [==============================] - 2s 2us/step - loss: 0.6897 - val_loss: 0.6897\n",
      "Epoch 17/200\n",
      "1440000/1440000 [==============================] - 2s 2us/step - loss: 0.6896 - val_loss: 0.6897\n",
      "Epoch 18/200\n",
      "1440000/1440000 [==============================] - 2s 2us/step - loss: 0.6896 - val_loss: 0.6897\n",
      "Epoch 19/200\n",
      "1440000/1440000 [==============================] - 2s 2us/step - loss: 0.6896 - val_loss: 0.6898\n",
      "Epoch 20/200\n",
      "1440000/1440000 [==============================] - 2s 2us/step - loss: 0.6896 - val_loss: 0.6898\n",
      "Epoch 21/200\n",
      "1440000/1440000 [==============================] - 2s 2us/step - loss: 0.6896 - val_loss: 0.6897\n",
      "Epoch 22/200\n",
      "1440000/1440000 [==============================] - 2s 2us/step - loss: 0.6896 - val_loss: 0.6898\n",
      "Epoch 23/200\n",
      "1440000/1440000 [==============================] - 2s 2us/step - loss: 0.6896 - val_loss: 0.6898\n",
      "Epoch 24/200\n",
      "1440000/1440000 [==============================] - 2s 2us/step - loss: 0.6896 - val_loss: 0.6897\n",
      "Epoch 25/200\n",
      "1440000/1440000 [==============================] - 2s 2us/step - loss: 0.6896 - val_loss: 0.6900\n",
      "Epoch 26/200\n",
      "1440000/1440000 [==============================] - 2s 2us/step - loss: 0.6896 - val_loss: 0.6898\n",
      "Epoch 27/200\n",
      "1440000/1440000 [==============================] - 2s 2us/step - loss: 0.6896 - val_loss: 0.6899\n",
      "Epoch 28/200\n",
      "1440000/1440000 [==============================] - 2s 2us/step - loss: 0.6896 - val_loss: 0.6898\n",
      "Restoring model weights from the end of the best epoch\n",
      "Epoch 00028: early stopping\n"
     ]
    },
    {
     "data": {
      "text/plain": [
       "<keras.callbacks.History at 0x7ff0b434b780>"
      ]
     },
     "execution_count": 27,
     "metadata": {},
     "output_type": "execute_result"
    }
   ],
   "source": [
    "earlystopping = EarlyStopping(patience=10,\n",
    "                              restore_best_weights=True,\n",
    "                              verbose=1)\n",
    "dctr.fit(X_train,\n",
    "         Y_train,\n",
    "         epochs=200,\n",
    "         batch_size=10000,\n",
    "         validation_data=(X_val, Y_val),\n",
    "         verbose=1,\n",
    "         callbacks=[earlystopping])"
   ]
  },
  {
   "cell_type": "markdown",
   "metadata": {},
   "source": [
    "#### Defining reweighting function\n",
    "\n",
    "$w(x_i,\\theta)=((f(x_i,\\theta)/(1-f(x_i,\\theta)))$\n",
    "\n",
    "Takes generator-level event from the synthetic sample $\\boldsymbol{\\theta_0}$ and weights it to an event from $\\boldsymbol{\\theta}$."
   ]
  },
  {
   "cell_type": "code",
   "execution_count": 28,
   "metadata": {
    "ExecuteTime": {
     "end_time": "2020-10-05T09:59:34.786822Z",
     "start_time": "2020-10-05T09:59:34.781553Z"
    }
   },
   "outputs": [],
   "source": [
    "def reweight(events, param):\n",
    "    concat_input_and_params = np.ones(shape=events.shape) * param\n",
    "    model_inputs = np.concatenate((events, concat_input_and_params), axis=-1)\n",
    "\n",
    "    f = dctr.predict(model_inputs, batch_size=10000)\n",
    "    weights = (f[:, 1]) / (f[:, 0])\n",
    "\n",
    "    return weights"
   ]
  },
  {
   "cell_type": "markdown",
   "metadata": {},
   "source": [
    "### Fitting"
   ]
  },
  {
   "cell_type": "markdown",
   "metadata": {},
   "source": [
    "#### Setup the Dataset"
   ]
  },
  {
   "cell_type": "code",
   "execution_count": 29,
   "metadata": {
    "ExecuteTime": {
     "end_time": "2020-10-05T10:10:47.850779Z",
     "start_time": "2020-10-05T09:59:34.788833Z"
    }
   },
   "outputs": [],
   "source": [
    "theta0_jet = test_dataset_0['jet']\n",
    "theta0 = []\n",
    "for event in theta0_jet:\n",
    "    PIDs = event[:, 3]\n",
    "    number_strange_hadrons = 0\n",
    "    for PID in PIDs:\n",
    "        number_strange_hadrons += PID in strange_PIDs\n",
    "    theta0 += [number_strange_hadrons]\n",
    "theta0 = np.array(theta0)\n",
    "\n",
    "theta_unknown_jet = test_dataset_1['jet']\n",
    "theta_unknown = []\n",
    "for event in theta_unknown_jet:\n",
    "    PIDs = event[:, 3]\n",
    "    number_strange_hadrons = 0\n",
    "    for PID in PIDs:\n",
    "        number_strange_hadrons += PID in strange_PIDs\n",
    "    theta_unknown += [number_strange_hadrons]\n",
    "theta_unknown = np.array(theta_unknown)\n",
    "\n",
    "labels0 = np.zeros(len(theta0))\n",
    "labels_unknown = np.ones(len(theta_unknown))\n",
    "\n",
    "xvals = np.concatenate([theta0, theta_unknown])\n",
    "yvals = np.concatenate([labels0, labels_unknown])\n",
    "\n",
    "X_train, X_test, y_train, y_test = data_split(xvals,\n",
    "                                              yvals,\n",
    "                                              test=0.5,\n",
    "                                              shuffle=True)"
   ]
  },
  {
   "cell_type": "markdown",
   "metadata": {},
   "source": [
    "#### Fitting Model: Scan"
   ]
  },
  {
   "cell_type": "markdown",
   "metadata": {},
   "source": [
    "##### Creating Model"
   ]
  },
  {
   "cell_type": "code",
   "execution_count": 30,
   "metadata": {
    "ExecuteTime": {
     "end_time": "2020-10-05T10:10:47.921492Z",
     "start_time": "2020-10-05T10:10:47.853267Z"
    }
   },
   "outputs": [
    {
     "name": "stdout",
     "output_type": "stream",
     "text": [
      "_________________________________________________________________\n",
      "Layer (type)                 Output Shape              Param #   \n",
      "=================================================================\n",
      "input_2 (InputLayer)         (None, 1)                 0         \n",
      "_________________________________________________________________\n",
      "dense_5 (Dense)              (None, 128)               256       \n",
      "_________________________________________________________________\n",
      "dense_6 (Dense)              (None, 128)               16512     \n",
      "_________________________________________________________________\n",
      "dense_7 (Dense)              (None, 1)                 129       \n",
      "=================================================================\n",
      "Total params: 16,897\n",
      "Trainable params: 16,897\n",
      "Non-trainable params: 0\n",
      "_________________________________________________________________\n"
     ]
    }
   ],
   "source": [
    "myinputs = Input(shape=(1, ), dtype=tf.float32)\n",
    "x = Dense(128, activation='relu')(myinputs)\n",
    "x2 = Dense(128, activation='relu')(x)\n",
    "predictions = Dense(1, activation='sigmoid')(x2)\n",
    "\n",
    "model = Model(inputs=myinputs, outputs=predictions)\n",
    "model.summary()\n",
    "\n",
    "batch_size = 1000\n",
    "earlystopping = EarlyStopping(patience=10, restore_best_weights=True)"
   ]
  },
  {
   "cell_type": "markdown",
   "metadata": {},
   "source": [
    "##### Scan with $N_{\\text{Strange Had.}}$ only"
   ]
  },
  {
   "cell_type": "markdown",
   "metadata": {},
   "source": [
    "Again, we will train this model with a weighted binary cross-entropy loss function:\n",
    "\n",
    "$\\text{loss}(g_{\\theta'}(x))=-\\sum_{x_i\\in\\boldsymbol{\\theta_?}}\\log(g_{\\theta'}(x_i))-\n",
    "    \\sum_{x_i\\in\\boldsymbol{\\theta_0}}w(x_{i},\\theta',\\theta_0)\\log(1-g_{\\theta'}(x_i))$"
   ]
  },
  {
   "cell_type": "code",
   "execution_count": 31,
   "metadata": {
    "ExecuteTime": {
     "end_time": "2020-10-05T10:10:47.935117Z",
     "start_time": "2020-10-05T10:10:47.923690Z"
    }
   },
   "outputs": [],
   "source": [
    "def run_classifier(theta):\n",
    "\n",
    "    weights_train = np.ones(len(X_train))\n",
    "    weights_test = np.ones(len(X_test))\n",
    "\n",
    "    # calculate weights for events in theta_0, but leave ones for events in theta_?\n",
    "    weights_train[y_train == 0] = reweight(\n",
    "        np.expand_dims(X_train[y_train == 0], axis=-1), theta)\n",
    "    weights_test[y_test == 0] = reweight(\n",
    "        np.expand_dims(X_test[y_test == 0], axis=-1), theta)\n",
    "\n",
    "    model.compile(optimizer='adam',\n",
    "                  loss='binary_crossentropy',\n",
    "                  metrics=['accuracy'])\n",
    "    # fit model on weighted binary cross-entropy\n",
    "    history = model.fit(X_train,\n",
    "                        y_train,\n",
    "                        sample_weight=weights_train,\n",
    "                        epochs=1000,\n",
    "                        batch_size=batch_size,\n",
    "                        validation_data=(X_test, y_test, weights_test),\n",
    "                        verbose=0,\n",
    "                        callbacks=[earlystopping])\n",
    "\n",
    "    # after training, calculate AUC between unknown sample and reweighted synthetic sample\n",
    "    auc = roc_auc_score(np.concatenate((y_train, y_test)),\n",
    "                        model.predict(np.concatenate((X_train, X_test)),\n",
    "                                      batch_size=10000),\n",
    "                        sample_weight=np.concatenate(\n",
    "                            (weights_train, weights_test)))\n",
    "\n",
    "    return auc"
   ]
  },
  {
   "cell_type": "code",
   "execution_count": 32,
   "metadata": {
    "ExecuteTime": {
     "end_time": "2020-10-05T10:25:52.823570Z",
     "start_time": "2020-10-05T10:10:47.938392Z"
    },
    "scrolled": true
   },
   "outputs": [
    {
     "name": "stdout",
     "output_type": "stream",
     "text": [
      "Testing theta = 0.100\n",
      "AUC: 0.62\n",
      "\n",
      "\n",
      "Testing theta = 0.125\n",
      "AUC: 0.61\n",
      "\n",
      "\n",
      "Testing theta = 0.150\n",
      "AUC: 0.58\n",
      "\n",
      "\n",
      "Testing theta = 0.175\n",
      "AUC: 0.56\n",
      "\n",
      "\n",
      "Testing theta = 0.200\n",
      "AUC: 0.55\n",
      "\n",
      "\n",
      "Testing theta = 0.225\n",
      "AUC: 0.53\n",
      "\n",
      "\n",
      "Testing theta = 0.250\n",
      "AUC: 0.51\n",
      "\n",
      "\n",
      "Testing theta = 0.275\n",
      "AUC: 0.50\n",
      "\n",
      "\n",
      "Testing theta = 0.300\n",
      "AUC: 0.51\n",
      "\n",
      "\n"
     ]
    }
   ],
   "source": [
    "AUC_strange_had = []\n",
    "\n",
    "for theta in thetas:\n",
    "    print(\"Testing theta = {:.3f}\".format(theta))\n",
    "\n",
    "    auc = run_classifier(theta)\n",
    "    AUC_strange_had += [auc]\n",
    "\n",
    "    print(\"AUC: {:.2f}\".format(auc))\n",
    "    print(\"\\n\")\n",
    "    pass"
   ]
  },
  {
   "cell_type": "markdown",
   "metadata": {},
   "source": [
    "##### Scan Results"
   ]
  },
  {
   "cell_type": "code",
   "execution_count": 33,
   "metadata": {
    "ExecuteTime": {
     "end_time": "2020-10-05T10:25:53.158514Z",
     "start_time": "2020-10-05T10:25:52.825873Z"
    }
   },
   "outputs": [
    {
     "data": {
      "image/png": "[encoded data removed]",
      "text/plain": [
       "<Figure size 432x360 with 1 Axes>"
      ]
     },
     "metadata": {
      "needs_background": "light"
     },
     "output_type": "display_data"
    }
   ],
   "source": [
    "plt.figure(figsize=(6, 5))\n",
    "plt.plot(thetas, (AUC - min(AUC)), label=\"Fit on Full Phase Space\")\n",
    "plt.plot(thetas, (AUC_strange_had - min(AUC_strange_had)), label=r\"Fit on $N_{\\textnormal{Strange Had.}}$\")\n",
    "plt.xlabel(r'probStoUD')\n",
    "plt.ylabel(r'$\\textnormal{AUC} - \\min{\\textnormal{(AUC)}}$')\n",
    "plt.legend(frameon=False)\n",
    "plt.show()"
   ]
  },
  {
   "cell_type": "markdown",
   "metadata": {},
   "source": [
    "Even when scanning only on the number of strange hadrons, a simple one dimensional feature, we've shown for fixed $\\theta$, the AUC is minimized $\\theta=\\theta_?$. Note that the rise in the AUC function away from the minimum is comparable between scanning with the full phase space and scanning with only with the number of strange hadrons; this is expected, since probStoUD primarily affects the number of strange particles in the event while leaving the rest of the phase space untouched, the full phase space does not offer much more information than the number of strange hadrons."
   ]
  }
 ],
 "metadata": {
  "kernelspec": {
   "display_name": "Python 3",
   "language": "python",
   "name": "python3"
  },
  "language_info": {
   "codemirror_mode": {
    "name": "ipython",
    "version": 3
   },
   "file_extension": ".py",
   "mimetype": "text/x-python",
   "name": "python",
   "nbconvert_exporter": "python",
   "pygments_lexer": "ipython3",
   "version": "3.5.2"
  },
  "notify_time": "0",
  "toc": {
   "base_numbering": 1,
   "nav_menu": {},
   "number_sections": false,
   "sideBar": true,
   "skip_h1_title": false,
   "title_cell": "Table of Contents",
   "title_sidebar": "Contents",
   "toc_cell": false,
   "toc_position": {
    "height": "calc(100% - 180px)",
    "left": "10px",
    "top": "150px",
    "width": "285px"
   },
   "toc_section_display": true,
   "toc_window_display": false
  },
  "varInspector": {
   "cols": {
    "lenName": 16,
    "lenType": 16,
    "lenVar": 40
   },
   "kernels_config": {
    "python": {
     "delete_cmd_postfix": "",
     "delete_cmd_prefix": "del ",
     "library": "var_list.py",
     "varRefreshCmd": "print(var_dic_list())"
    },
    "r": {
     "delete_cmd_postfix": ") ",
     "delete_cmd_prefix": "rm(",
     "library": "var_list.r",
     "varRefreshCmd": "cat(var_dic_list()) "
    }
   },
   "types_to_exclude": [
    "module",
    "function",
    "builtin_function_or_method",
    "instance",
    "_Feature"
   ],
   "window_display": false
  }
 },
 "nbformat": 4,
 "nbformat_minor": 2
}
