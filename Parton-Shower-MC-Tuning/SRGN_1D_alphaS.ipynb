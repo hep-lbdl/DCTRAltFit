{
 "cells": [
  {
   "cell_type": "code",
   "execution_count": 1,
   "metadata": {
    "ExecuteTime": {
     "end_time": "2020-10-05T03:52:50.193507Z",
     "start_time": "2020-10-05T03:52:50.187156Z"
    }
   },
   "outputs": [],
   "source": [
    "import os\n",
    "os.environ[\"CUDA_DEVICE_ORDER\"] = \"PCI_BUS_ID\"\n",
    "os.environ[\"CUDA_VISIBLE_DEVICES\"] = \"3\""
   ]
  },
  {
   "cell_type": "code",
   "execution_count": 2,
   "metadata": {
    "ExecuteTime": {
     "end_time": "2020-10-05T03:52:55.042173Z",
     "start_time": "2020-10-05T03:52:50.197182Z"
    }
   },
   "outputs": [
    {
     "name": "stderr",
     "output_type": "stream",
     "text": [
      "Using TensorFlow backend.\n"
     ]
    }
   ],
   "source": [
    "from __future__ import absolute_import, division, print_function\n",
    "\n",
    "import numpy as np\n",
    "from matplotlib import pyplot as plt\n",
    "\n",
    "import tensorflow as tf\n",
    "import keras as keras\n",
    "import keras.backend as K\n",
    "from keras.callbacks import EarlyStopping\n",
    "from keras.layers import Input, Dense\n",
    "from keras.models import Model\n",
    "from sklearn.metrics import roc_auc_score\n",
    "\n",
    "import energyflow as ef\n",
    "from energyflow.archs import PFN\n",
    "from energyflow.utils import data_split, remap_pids, to_categorical"
   ]
  },
  {
   "cell_type": "code",
   "execution_count": 3,
   "metadata": {
    "ExecuteTime": {
     "end_time": "2020-10-05T03:52:55.056266Z",
     "start_time": "2020-10-05T03:52:55.047863Z"
    }
   },
   "outputs": [],
   "source": [
    "# Global plot settings\n",
    "from matplotlib import rc\n",
    "import matplotlib.font_manager\n",
    "\n",
    "rc('font', family='serif')\n",
    "rc('text', usetex=True)\n",
    "rc('font', size=22)\n",
    "rc('xtick', labelsize=15)\n",
    "rc('ytick', labelsize=15)\n",
    "rc('legend', fontsize=15)"
   ]
  },
  {
   "cell_type": "code",
   "execution_count": 4,
   "metadata": {
    "ExecuteTime": {
     "end_time": "2020-10-05T03:52:55.074041Z",
     "start_time": "2020-10-05T03:52:55.059872Z"
    }
   },
   "outputs": [
    {
     "name": "stdout",
     "output_type": "stream",
     "text": [
      "2.2.4\n",
      "1.15.0\n"
     ]
    }
   ],
   "source": [
    "print(keras.__version__)  # 2.2.4\n",
    "print(tf.__version__)  # 1.15.0"
   ]
  },
  {
   "cell_type": "markdown",
   "metadata": {},
   "source": [
    "# The SRGN fitting algorithm\n",
    "\n",
    "The DCTR paper ([arXiv:1907.08209](https://arxiv.org/abs/1907.08209)) shows how a continuously parameterized NN used for reweighting:\n",
    "\n",
    "$f(x,\\theta)=\\text{argmax}_{f'}(\\sum_{i\\in\\bf{\\theta}_0}\\log f'(x_i,\\theta)+\\sum_{i\\in\\bf{\\theta}}\\log (1-f'(x_i,\\theta)))$\n",
    "\n",
    "can also be used for fitting:\n",
    "\n",
    "$\\theta^*=\\text{argmax}_{\\theta'}(\\sum_{i\\in\\bf{\\theta}_0}\\log f(x_i,\\theta')+\\sum_{i\\in\\bf{\\theta}}\\log (1-f(x_i,\\theta')))$\n",
    "\n",
    "This works well when the reweighting and fitting happen on the same 'level'.  However, if the reweighting happens at generator-level (before detector simulation) while the fit happens in simulation (after the effects of the detector), this procedure will not work.  It works only if the reweighting and fitting both happen at simulation-level or both happen at generator-level.  This notebook illustrates the alternative SRGN procedure from [arXiv:2010.03569](https://arxiv.org/abs/2010.03569):\n",
    "\n",
    "Let $x$ and $y$ denote the generator- and simulation-level events respectively. Suppose that $g$ is a neural network defined as follows:\n",
    "\n",
    "$g_{\\theta'}(y)=\\text{argmax}_{g}\\sum_{y_i\\in\\boldsymbol{\\theta_?}}\\log(g_{\\theta'}(y_i))+\n",
    "    \\sum_{(x_i,y_i)\\in\\boldsymbol{\\theta_0}}w_{\\theta_0}(x_i,\\theta')\\log(1-g_{\\theta'}(y_i))$\n",
    "\n",
    "where $w_{\\theta_0}(x,\\theta') = f(x,\\theta')/(1-f(x,\\theta'))$ is a reweighting function learned at generator level (and $\\theta_0$ denotes the nominal value of the parameter).  \n",
    "\n",
    "Then, \n",
    "\n",
    "$\\theta_{\\text{SRGN}}^*\\equiv\\text{argmin}_{\\theta'}\\left[\\Pr(g_{\\theta_?}(y)>g_{\\theta'}(y))\\right]$\n",
    "\n",
    "where the quantity in $[\\cdot]$ is typically called the area under the receiver operating characteristic curve or AUC. We calculate the AUC between $g$’s predictions on events from the unknown sample and  $g$’s predictions on reweighted events from the synthetic sample; effectively, if we reweight events from the synthetic sample $\\boldsymbol{\\theta_0}$ to events from $\\boldsymbol{\\theta’}$, then we calculate the AUC between $g$’s predictions on  $\\boldsymbol{\\theta_?} $and $g$’s predictions on $\\boldsymbol{\\theta’}$.\n",
    "\n",
    "\n",
    "The intuition of the above equation is that the classifier $g$ is trying to distinguish events from the unknown sample $\\boldsymbol{\\theta_?}$ and events from $\\boldsymbol{\\theta'}$ and we try to find a $\\theta'$ that makes $g$'s task maximally hard.  If $g$ can't tell apart the two samples (i.e. the AUC is minimized), then the reweighting has worked! Asympotitically, the SRGN method learns the same result as the one in the body of the DCTR paper: $\\theta^*=\\theta_?$."
   ]
  },
  {
   "cell_type": "markdown",
   "metadata": {},
   "source": [
    "# Parton Shower Monte Carlo Tuning: $\\alpha_s$"
   ]
  },
  {
   "cell_type": "markdown",
   "metadata": {},
   "source": [
    "In this notebook, we apply the SRGN fitting algorithm to the parton shower example from the original DCTR paper. Specifically, we attempt to tune the Monte Carlo parameter $\\texttt{TimeShower:alphaSvalue}$ (denoted $\\alpha_S$)."
   ]
  },
  {
   "cell_type": "code",
   "execution_count": 5,
   "metadata": {
    "ExecuteTime": {
     "end_time": "2020-10-05T03:52:55.082666Z",
     "start_time": "2020-10-05T03:52:55.078042Z"
    }
   },
   "outputs": [],
   "source": [
    "# Path to downloaded data from Zenodo\n",
    "data_dir = '/data0/users/aandreassen/zenodo/'"
   ]
  },
  {
   "cell_type": "markdown",
   "metadata": {},
   "source": [
    "### Utilities"
   ]
  },
  {
   "cell_type": "code",
   "execution_count": 6,
   "metadata": {
    "ExecuteTime": {
     "end_time": "2020-10-05T03:52:55.095424Z",
     "start_time": "2020-10-05T03:52:55.086431Z"
    }
   },
   "outputs": [],
   "source": [
    "# normalize pT and center (y, phi)\n",
    "def normalize(x):\n",
    "    mask = x[:, 0] > 0\n",
    "    yphi_avg = np.average(x[mask, 1:3], weights=x[mask, 0], axis=0)\n",
    "    x[mask, 1:3] -= yphi_avg\n",
    "    x[mask, 0] /= x[:, 0].sum()"
   ]
  },
  {
   "cell_type": "code",
   "execution_count": 7,
   "metadata": {
    "ExecuteTime": {
     "end_time": "2020-10-05T03:52:55.105732Z",
     "start_time": "2020-10-05T03:52:55.097472Z"
    }
   },
   "outputs": [],
   "source": [
    "def preprocess_data(X):\n",
    "    for x in X:\n",
    "        normalize(x)\n",
    "\n",
    "    # Remap PIDs to unique values in range [0,1]\n",
    "    remap_pids(X, pid_i=3)\n",
    "    return X"
   ]
  },
  {
   "cell_type": "markdown",
   "metadata": {},
   "source": [
    "## Training a DCTR Model\n",
    "First, we need to train a DCTR model parameterized by $\\alpha_S$ to provide us with a reweighting function to be used during fitting."
   ]
  },
  {
   "cell_type": "markdown",
   "metadata": {},
   "source": [
    "### Load training & validation data"
   ]
  },
  {
   "cell_type": "code",
   "execution_count": 8,
   "metadata": {
    "ExecuteTime": {
     "end_time": "2020-10-05T03:59:20.986479Z",
     "start_time": "2020-10-05T03:52:55.111755Z"
    }
   },
   "outputs": [],
   "source": [
    "# Load training data\n",
    "dataset = np.load(data_dir + '1D_alphaS_train.npz')\n",
    "\n",
    "X = dataset['X']\n",
    "Y = dataset['Y']\n",
    "\n",
    "X = preprocess_data(X)\n",
    "Y = to_categorical(Y, num_classes=2)\n",
    "\n",
    "X_train, X_val, Y_train, Y_val = data_split(X, Y, test=0.1, shuffle=True)"
   ]
  },
  {
   "cell_type": "markdown",
   "metadata": {},
   "source": [
    "### Build Model"
   ]
  },
  {
   "cell_type": "code",
   "execution_count": 9,
   "metadata": {
    "ExecuteTime": {
     "end_time": "2020-10-05T03:59:21.328773Z",
     "start_time": "2020-10-05T03:59:20.991731Z"
    },
    "scrolled": true
   },
   "outputs": [
    {
     "name": "stdout",
     "output_type": "stream",
     "text": [
      "WARNING:tensorflow:From /home/asuresh/.local/lib/python3.5/site-packages/keras/backend/tensorflow_backend.py:517: The name tf.placeholder is deprecated. Please use tf.compat.v1.placeholder instead.\n",
      "\n",
      "WARNING:tensorflow:From /home/asuresh/.local/lib/python3.5/site-packages/keras/backend/tensorflow_backend.py:74: The name tf.get_default_graph is deprecated. Please use tf.compat.v1.get_default_graph instead.\n",
      "\n",
      "WARNING:tensorflow:From /home/asuresh/.local/lib/python3.5/site-packages/keras/backend/tensorflow_backend.py:4138: The name tf.random_uniform is deprecated. Please use tf.random.uniform instead.\n",
      "\n",
      "WARNING:tensorflow:From /home/asuresh/.local/lib/python3.5/site-packages/keras/optimizers.py:790: The name tf.train.Optimizer is deprecated. Please use tf.compat.v1.train.Optimizer instead.\n",
      "\n",
      "WARNING:tensorflow:From /home/asuresh/.local/lib/python3.5/site-packages/keras/backend/tensorflow_backend.py:3295: The name tf.log is deprecated. Please use tf.math.log instead.\n",
      "\n"
     ]
    }
   ],
   "source": [
    "# network architecture parameters\n",
    "Phi_sizes = (100, 100, 128)\n",
    "F_sizes = (100, 100, 100)\n",
    "\n",
    "dctr = PFN(input_dim=7, Phi_sizes=Phi_sizes, F_sizes=F_sizes, summary=False)"
   ]
  },
  {
   "cell_type": "markdown",
   "metadata": {},
   "source": [
    "### Train Model"
   ]
  },
  {
   "cell_type": "code",
   "execution_count": 10,
   "metadata": {
    "ExecuteTime": {
     "end_time": "2020-10-05T05:34:00.505884Z",
     "start_time": "2020-10-05T03:59:21.332663Z"
    }
   },
   "outputs": [
    {
     "name": "stdout",
     "output_type": "stream",
     "text": [
      "WARNING:tensorflow:From /home/asuresh/.local/lib/python3.5/site-packages/tensorflow_core/python/ops/math_grad.py:1424: where (from tensorflow.python.ops.array_ops) is deprecated and will be removed in a future version.\n",
      "Instructions for updating:\n",
      "Use tf.where in 2.0, which has the same broadcast rule as np.where\n",
      "WARNING:tensorflow:From /home/asuresh/.local/lib/python3.5/site-packages/keras/backend/tensorflow_backend.py:986: The name tf.assign_add is deprecated. Please use tf.compat.v1.assign_add instead.\n",
      "\n",
      "WARNING:tensorflow:From /home/asuresh/.local/lib/python3.5/site-packages/keras/backend/tensorflow_backend.py:973: The name tf.assign is deprecated. Please use tf.compat.v1.assign instead.\n",
      "\n",
      "WARNING:tensorflow:From /home/asuresh/.local/lib/python3.5/site-packages/keras/backend/tensorflow_backend.py:2741: The name tf.Session is deprecated. Please use tf.compat.v1.Session instead.\n",
      "\n",
      "Train on 1620000 samples, validate on 180000 samples\n",
      "Epoch 1/100\n",
      "WARNING:tensorflow:From /home/asuresh/.local/lib/python3.5/site-packages/keras/backend/tensorflow_backend.py:174: The name tf.get_default_session is deprecated. Please use tf.compat.v1.get_default_session instead.\n",
      "\n",
      "WARNING:tensorflow:From /home/asuresh/.local/lib/python3.5/site-packages/keras/backend/tensorflow_backend.py:181: The name tf.ConfigProto is deprecated. Please use tf.compat.v1.ConfigProto instead.\n",
      "\n",
      "WARNING:tensorflow:From /home/asuresh/.local/lib/python3.5/site-packages/keras/backend/tensorflow_backend.py:190: The name tf.global_variables is deprecated. Please use tf.compat.v1.global_variables instead.\n",
      "\n",
      "WARNING:tensorflow:From /home/asuresh/.local/lib/python3.5/site-packages/keras/backend/tensorflow_backend.py:199: The name tf.is_variable_initialized is deprecated. Please use tf.compat.v1.is_variable_initialized instead.\n",
      "\n",
      "WARNING:tensorflow:From /home/asuresh/.local/lib/python3.5/site-packages/keras/backend/tensorflow_backend.py:206: The name tf.variables_initializer is deprecated. Please use tf.compat.v1.variables_initializer instead.\n",
      "\n",
      "1620000/1620000 [==============================] - 151s 93us/step - loss: 0.6924 - acc: 0.5405 - val_loss: 0.6826 - val_acc: 0.5528\n",
      "Epoch 2/100\n",
      "1620000/1620000 [==============================] - 155s 96us/step - loss: 0.6819 - acc: 0.5552 - val_loss: 0.6814 - val_acc: 0.5564\n",
      "Epoch 3/100\n",
      "1620000/1620000 [==============================] - 149s 92us/step - loss: 0.6808 - acc: 0.5578 - val_loss: 0.6823 - val_acc: 0.5530\n",
      "Epoch 4/100\n",
      "1620000/1620000 [==============================] - 144s 89us/step - loss: 0.6801 - acc: 0.5589 - val_loss: 0.6797 - val_acc: 0.5581\n",
      "Epoch 5/100\n",
      "1620000/1620000 [==============================] - 149s 92us/step - loss: 0.6797 - acc: 0.5600 - val_loss: 0.6792 - val_acc: 0.5596\n",
      "Epoch 6/100\n",
      "1620000/1620000 [==============================] - 148s 91us/step - loss: 0.6791 - acc: 0.5610 - val_loss: 0.6791 - val_acc: 0.5602\n",
      "Epoch 7/100\n",
      "1620000/1620000 [==============================] - 157s 97us/step - loss: 0.6787 - acc: 0.5619 - val_loss: 0.6799 - val_acc: 0.5566\n",
      "Epoch 8/100\n",
      "1620000/1620000 [==============================] - 147s 91us/step - loss: 0.6783 - acc: 0.5628 - val_loss: 0.6796 - val_acc: 0.5586\n",
      "Epoch 9/100\n",
      "1620000/1620000 [==============================] - 146s 90us/step - loss: 0.6781 - acc: 0.5629 - val_loss: 0.6787 - val_acc: 0.5605\n",
      "Epoch 10/100\n",
      "1620000/1620000 [==============================] - 150s 92us/step - loss: 0.6779 - acc: 0.5635 - val_loss: 0.6795 - val_acc: 0.5593\n",
      "Epoch 11/100\n",
      "1620000/1620000 [==============================] - 146s 90us/step - loss: 0.6777 - acc: 0.5638 - val_loss: 0.6786 - val_acc: 0.5607\n",
      "Epoch 12/100\n",
      "1620000/1620000 [==============================] - 148s 91us/step - loss: 0.6776 - acc: 0.5640 - val_loss: 0.6784 - val_acc: 0.5607\n",
      "Epoch 13/100\n",
      "1620000/1620000 [==============================] - 157s 97us/step - loss: 0.6774 - acc: 0.5645 - val_loss: 0.6786 - val_acc: 0.5612\n",
      "Epoch 14/100\n",
      "1620000/1620000 [==============================] - 150s 93us/step - loss: 0.6773 - acc: 0.5648 - val_loss: 0.6782 - val_acc: 0.5607\n",
      "Epoch 15/100\n",
      "1620000/1620000 [==============================] - 148s 91us/step - loss: 0.6772 - acc: 0.5653 - val_loss: 0.6785 - val_acc: 0.5607\n",
      "Epoch 16/100\n",
      "1620000/1620000 [==============================] - 146s 90us/step - loss: 0.6770 - acc: 0.5655 - val_loss: 0.6781 - val_acc: 0.5607\n",
      "Epoch 17/100\n",
      "1620000/1620000 [==============================] - 150s 92us/step - loss: 0.6770 - acc: 0.5652 - val_loss: 0.6781 - val_acc: 0.5612\n",
      "Epoch 18/100\n",
      "1620000/1620000 [==============================] - 146s 90us/step - loss: 0.6769 - acc: 0.5659 - val_loss: 0.6784 - val_acc: 0.5606\n",
      "Epoch 19/100\n",
      "1620000/1620000 [==============================] - 158s 98us/step - loss: 0.6768 - acc: 0.5662 - val_loss: 0.6784 - val_acc: 0.5600\n",
      "Epoch 20/100\n",
      "1620000/1620000 [==============================] - 146s 90us/step - loss: 0.6768 - acc: 0.5661 - val_loss: 0.6781 - val_acc: 0.5600\n",
      "Epoch 21/100\n",
      "1620000/1620000 [==============================] - 148s 92us/step - loss: 0.6766 - acc: 0.5663 - val_loss: 0.6780 - val_acc: 0.5607\n",
      "Epoch 22/100\n",
      "1620000/1620000 [==============================] - 148s 91us/step - loss: 0.6765 - acc: 0.5663 - val_loss: 0.6786 - val_acc: 0.5603\n",
      "Epoch 23/100\n",
      "1620000/1620000 [==============================] - 143s 88us/step - loss: 0.6765 - acc: 0.5666 - val_loss: 0.6780 - val_acc: 0.5607\n",
      "Epoch 24/100\n",
      "1620000/1620000 [==============================] - 161s 99us/step - loss: 0.6765 - acc: 0.5670 - val_loss: 0.6786 - val_acc: 0.5610\n",
      "Epoch 25/100\n",
      "1620000/1620000 [==============================] - 146s 90us/step - loss: 0.6763 - acc: 0.5671 - val_loss: 0.6779 - val_acc: 0.5616\n",
      "Epoch 26/100\n",
      "1620000/1620000 [==============================] - 149s 92us/step - loss: 0.6762 - acc: 0.5674 - val_loss: 0.6778 - val_acc: 0.5623\n",
      "Epoch 27/100\n",
      "1620000/1620000 [==============================] - 146s 90us/step - loss: 0.6762 - acc: 0.5671 - val_loss: 0.6780 - val_acc: 0.5617\n",
      "Epoch 28/100\n",
      "1620000/1620000 [==============================] - 147s 91us/step - loss: 0.6761 - acc: 0.5672 - val_loss: 0.6778 - val_acc: 0.5612\n",
      "Epoch 29/100\n",
      "1620000/1620000 [==============================] - 149s 92us/step - loss: 0.6760 - acc: 0.5678 - val_loss: 0.6778 - val_acc: 0.5620\n",
      "Epoch 30/100\n",
      "1620000/1620000 [==============================] - 156s 96us/step - loss: 0.6760 - acc: 0.5677 - val_loss: 0.6781 - val_acc: 0.5617\n",
      "Epoch 31/100\n",
      "1620000/1620000 [==============================] - 149s 92us/step - loss: 0.6759 - acc: 0.5680 - val_loss: 0.6783 - val_acc: 0.5607\n",
      "Epoch 32/100\n",
      "1620000/1620000 [==============================] - 145s 89us/step - loss: 0.6758 - acc: 0.5682 - val_loss: 0.6781 - val_acc: 0.5624\n",
      "Epoch 33/100\n",
      "1620000/1620000 [==============================] - 150s 92us/step - loss: 0.6757 - acc: 0.5684 - val_loss: 0.6788 - val_acc: 0.5610\n",
      "Epoch 34/100\n",
      "1620000/1620000 [==============================] - 147s 91us/step - loss: 0.6757 - acc: 0.5682 - val_loss: 0.6783 - val_acc: 0.5600\n",
      "Epoch 35/100\n",
      "1620000/1620000 [==============================] - 149s 92us/step - loss: 0.6756 - acc: 0.5688 - val_loss: 0.6778 - val_acc: 0.5622\n",
      "Epoch 36/100\n",
      "1620000/1620000 [==============================] - 156s 96us/step - loss: 0.6755 - acc: 0.5688 - val_loss: 0.6782 - val_acc: 0.5609\n",
      "Epoch 37/100\n",
      "1620000/1620000 [==============================] - 148s 91us/step - loss: 0.6755 - acc: 0.5687 - val_loss: 0.6784 - val_acc: 0.5605\n",
      "Epoch 38/100\n",
      "1620000/1620000 [==============================] - 148s 92us/step - loss: 0.6753 - acc: 0.5688 - val_loss: 0.6781 - val_acc: 0.5623\n",
      "Restoring model weights from the end of the best epoch\n",
      "Epoch 00038: early stopping\n"
     ]
    },
    {
     "data": {
      "text/plain": [
       "<keras.callbacks.History at 0x7f309a637b00>"
      ]
     },
     "execution_count": 10,
     "metadata": {},
     "output_type": "execute_result"
    }
   ],
   "source": [
    "# Train model\n",
    "earlystopping = keras.callbacks.EarlyStopping(patience=10,\n",
    "                                              verbose=1,\n",
    "                                              restore_best_weights=True)\n",
    "\n",
    "dctr.fit(X_train,\n",
    "         Y_train,\n",
    "         epochs=200,\n",
    "         batch_size=1000,\n",
    "         validation_data=(X_val, Y_val),\n",
    "         verbose=1,\n",
    "         callbacks=[earlystopping])"
   ]
  },
  {
   "cell_type": "markdown",
   "metadata": {},
   "source": [
    "### Defining reweighting function\n",
    "\n",
    "$w_{\\theta_0}(x_i,\\theta)=\\frac{f(x_i,\\theta)}{1-f(x_i,\\theta)}$, where $f$  is a fully trained DCTR model.\n",
    "\n",
    "Takes generator-level event $x_i$ from the synthetic sample $\\boldsymbol{\\theta_0}$ and weights it to an event from $\\boldsymbol{\\theta}$."
   ]
  },
  {
   "cell_type": "code",
   "execution_count": 11,
   "metadata": {
    "ExecuteTime": {
     "end_time": "2020-10-05T05:34:00.525558Z",
     "start_time": "2020-10-05T05:34:00.509238Z"
    }
   },
   "outputs": [],
   "source": [
    "def reweight(events, param):  #from NN (DCTR)\n",
    "    theta_prime = [param, 0.68, 0.217]\n",
    "\n",
    "    # zip theta_prime to each input particle (but not to the padded rows)\n",
    "    # check if pT != 0 --> zip theta_prime\n",
    "    concat_input_and_params = np.where(\n",
    "        np.abs(events[..., 0]) > 0, np.ones_like(events[..., 0]),\n",
    "        np.zeros_like(events[..., 0]))\n",
    "\n",
    "    concat_input_and_params = theta_prime * np.stack([\n",
    "        concat_input_and_params, concat_input_and_params,\n",
    "        concat_input_and_params\n",
    "    ],\n",
    "                                                     axis=-1)\n",
    "\n",
    "    model_inputs = np.concatenate([events, concat_input_and_params], -1)\n",
    "\n",
    "    f = dctr.model.predict(model_inputs, batch_size=100000)\n",
    "    weights = (f[:, 1]) / (f[:, 0])\n",
    "\n",
    "    return weights"
   ]
  },
  {
   "cell_type": "markdown",
   "metadata": {},
   "source": [
    "## Validate DCTR for $\\alpha_S=0.160$"
   ]
  },
  {
   "cell_type": "code",
   "execution_count": 12,
   "metadata": {
    "ExecuteTime": {
     "end_time": "2020-10-05T05:34:00.535698Z",
     "start_time": "2020-10-05T05:34:00.527541Z"
    }
   },
   "outputs": [],
   "source": [
    "# Define default plot styles\n",
    "plot_style_0 = {\n",
    "    'histtype': 'step',\n",
    "    'color': 'black',\n",
    "    'linewidth': 2,\n",
    "    'linestyle': '--',\n",
    "    'density': True\n",
    "}\n",
    "plot_style_1 = {'alpha': 0.5, 'density': True}\n",
    "\n",
    "# Define labels for legends\n",
    "label_0 = r'$\\alpha_s=0.1365$'\n",
    "\n",
    "label_1 = r'$\\alpha_s = 0.16$'\n",
    "\n",
    "pythia_text = r'\\textsc{Pythia 8}' + '\\n' + r'$e^+e^- \\to Z \\to $ dijets' + '\\n' + r\"anti-$k_{\\mathrm{T}}$, $R=0.8$\"\n",
    "\n",
    "\n",
    "def make_legend(ax):\n",
    "    leg = ax.legend(frameon=False)\n",
    "    leg.set_title(pythia_text, prop={'size': 14})\n",
    "    leg._legend_box.align = \"left\"\n",
    "    plt.tight_layout()"
   ]
  },
  {
   "cell_type": "code",
   "execution_count": 13,
   "metadata": {
    "ExecuteTime": {
     "end_time": "2020-10-05T05:40:20.503113Z",
     "start_time": "2020-10-05T05:34:00.539066Z"
    }
   },
   "outputs": [],
   "source": [
    "test_dataset_0 = np.load(data_dir + 'test1D_default.npz')\n",
    "test_dataset_1 = np.load(data_dir + 'test1D_alphaS.npz')\n",
    "\n",
    "X0_test = preprocess_data(test_dataset_0['jet'][:, :, :4])\n",
    "X1_test = preprocess_data(test_dataset_1['jet'][:, :, :4])"
   ]
  },
  {
   "cell_type": "code",
   "execution_count": 14,
   "metadata": {
    "ExecuteTime": {
     "end_time": "2020-10-05T05:40:50.223876Z",
     "start_time": "2020-10-05T05:40:20.504705Z"
    }
   },
   "outputs": [],
   "source": [
    "weights = reweight(X0_test, 0.160)"
   ]
  },
  {
   "cell_type": "code",
   "execution_count": 15,
   "metadata": {
    "ExecuteTime": {
     "end_time": "2020-10-05T05:41:02.643011Z",
     "start_time": "2020-10-05T05:40:50.227128Z"
    }
   },
   "outputs": [
    {
     "name": "stderr",
     "output_type": "stream",
     "text": [
      "/home/asuresh/.local/lib/python3.5/site-packages/matplotlib/figure.py:2144: UserWarning: This figure was using constrained_layout==True, but that is incompatible with subplots_adjust and or tight_layout: setting constrained_layout==False. \n",
      "  warnings.warn(\"This figure was using constrained_layout==True, \"\n",
      "/home/asuresh/.local/lib/python3.5/site-packages/ipykernel_launcher.py:81: RuntimeWarning: divide by zero encountered in log\n",
      "/home/asuresh/.local/lib/python3.5/site-packages/ipykernel_launcher.py:85: RuntimeWarning: divide by zero encountered in log\n",
      "/home/asuresh/.local/lib/python3.5/site-packages/ipykernel_launcher.py:90: RuntimeWarning: divide by zero encountered in log\n",
      "/home/asuresh/.local/lib/python3.5/site-packages/ipykernel_launcher.py:100: RuntimeWarning: divide by zero encountered in log\n",
      "/home/asuresh/.local/lib/python3.5/site-packages/ipykernel_launcher.py:104: RuntimeWarning: divide by zero encountered in log\n",
      "/home/asuresh/.local/lib/python3.5/site-packages/ipykernel_launcher.py:109: RuntimeWarning: divide by zero encountered in log\n"
     ]
    },
    {
     "data": {
      "image/png": "[encoded data removed]",
      "text/plain": [
       "<Figure size 1296x720 with 6 Axes>"
      ]
     },
     "metadata": {
      "needs_background": "light"
     },
     "output_type": "display_data"
    }
   ],
   "source": [
    "fig, ax = plt.subplots(2, 3, figsize=(18, 10), constrained_layout=True)\n",
    "\n",
    "bins = np.linspace(0, 50, 26)\n",
    "ax[0, 0].hist(test_dataset_0['multiplicity'],\n",
    "              bins=bins,\n",
    "              label=label_0,\n",
    "              **plot_style_1)\n",
    "ax[0, 0].hist(test_dataset_0['multiplicity'],\n",
    "              bins=bins,\n",
    "              label=label_0 + ' wgt.',\n",
    "              weights=weights,\n",
    "              **plot_style_0)\n",
    "ax[0, 0].hist(test_dataset_1['multiplicity'],\n",
    "              bins=bins,\n",
    "              label=label_1,\n",
    "              **plot_style_1)\n",
    "\n",
    "ax[0, 0].set_xlabel('Multiplicity')\n",
    "ax[0, 0].set_ylabel('Jets per bin (normalized)')\n",
    "ax[0, 0].set_xlim([0, 50])\n",
    "make_legend(ax[0, 0])\n",
    "\n",
    "bins = np.linspace(0, 10, 11)\n",
    "ax[1, 0].hist(test_dataset_0['number_of_kaons'],\n",
    "              bins=bins,\n",
    "              label=label_0,\n",
    "              **plot_style_1)\n",
    "ax[1, 0].hist(test_dataset_0['number_of_kaons'],\n",
    "              bins=bins,\n",
    "              label=label_0 + ' wgt.',\n",
    "              weights=weights,\n",
    "              **plot_style_0)\n",
    "ax[1, 0].hist(test_dataset_1['number_of_kaons'],\n",
    "              bins=bins,\n",
    "              label=label_1,\n",
    "              **plot_style_1)\n",
    "\n",
    "ax[1, 0].set_xlabel('Number of kaons')\n",
    "ax[1, 0].set_ylabel('Jets per bin (normalized)')\n",
    "make_legend(ax[1, 0])\n",
    "\n",
    "bins = np.linspace(0, 1, 31)\n",
    "ax[0, 1].hist(test_dataset_0['tau21'],\n",
    "              bins=bins,\n",
    "              label=label_0,\n",
    "              **plot_style_1)\n",
    "ax[0, 1].hist(test_dataset_0['tau21'],\n",
    "              bins=bins,\n",
    "              label=label_0 + ' wgt.',\n",
    "              weights=weights,\n",
    "              **plot_style_0)\n",
    "ax[0, 1].hist(test_dataset_1['tau21'],\n",
    "              bins=bins,\n",
    "              label=label_1,\n",
    "              **plot_style_1)\n",
    "\n",
    "ax[0, 1].set_xlabel('tau21')\n",
    "ax[0, 1].set_ylabel('Jets per bin (normalized)')\n",
    "make_legend(ax[0, 1])\n",
    "\n",
    "bins = np.linspace(0, 1, 31)\n",
    "ax[1, 1].hist(test_dataset_0['tau32'],\n",
    "              bins=bins,\n",
    "              label=label_0,\n",
    "              **plot_style_1)\n",
    "ax[1, 1].hist(test_dataset_0['tau32'],\n",
    "              bins=bins,\n",
    "              label=label_0 + ' wgt.',\n",
    "              weights=weights,\n",
    "              **plot_style_0)\n",
    "ax[1, 1].hist(test_dataset_1['tau32'],\n",
    "              bins=bins,\n",
    "              label=label_1,\n",
    "              **plot_style_1)\n",
    "\n",
    "ax[1, 1].set_xlabel('tau32')\n",
    "ax[1, 1].set_ylabel('Jets per bin (normalized)')\n",
    "make_legend(ax[1, 1])\n",
    "\n",
    "bins = np.linspace(-20, 5, 36)\n",
    "ax[0, 2].hist(np.log(test_dataset_0['ECF_N3_B4']),\n",
    "              bins=bins,\n",
    "              label=label_0,\n",
    "              **plot_style_1)\n",
    "ax[0, 2].hist(np.log(test_dataset_0['ECF_N3_B4']),\n",
    "              bins=bins,\n",
    "              label=label_0 + ' wgt.',\n",
    "              weights=weights,\n",
    "              **plot_style_0)\n",
    "ax[0, 2].hist(np.log(test_dataset_1['ECF_N3_B4']),\n",
    "              bins=bins,\n",
    "              label=label_1,\n",
    "              **plot_style_1)\n",
    "\n",
    "ax[0, 2].set_xlabel('log ECF(N=3, beta=4)')\n",
    "ax[0, 2].set_ylabel('Jets per bin (normalized)')\n",
    "make_legend(ax[0, 2])\n",
    "\n",
    "bins = np.linspace(-35, 5, 31)\n",
    "ax[1, 2].hist(np.log(test_dataset_0['ECF_N4_B4']),\n",
    "              bins=bins,\n",
    "              label=label_0,\n",
    "              **plot_style_1)\n",
    "ax[1, 2].hist(np.log(test_dataset_0['ECF_N4_B4']),\n",
    "              bins=bins,\n",
    "              label=label_0 + ' wgt.',\n",
    "              weights=weights,\n",
    "              **plot_style_0)\n",
    "ax[1, 2].hist(np.log(test_dataset_1['ECF_N4_B4']),\n",
    "              bins=bins,\n",
    "              label=label_1,\n",
    "              **plot_style_1)\n",
    "\n",
    "ax[1, 2].set_xlabel('log ECF(N=4, beta=4)')\n",
    "ax[1, 2].set_ylabel('Jets per bin (normalized)')\n",
    "make_legend(ax[1, 2])"
   ]
  },
  {
   "cell_type": "markdown",
   "metadata": {},
   "source": [
    "# Fitting"
   ]
  },
  {
   "cell_type": "markdown",
   "metadata": {},
   "source": [
    "## Setup the dataset"
   ]
  },
  {
   "cell_type": "markdown",
   "metadata": {},
   "source": [
    "$\\boldsymbol{\\theta_0}$ denotes the synthetic sample used for reweighting, and we are trying to fit the parameter $\\theta$ (in this case $\\alpha_S$) to the 'data' sample $\\boldsymbol{\\theta_?}$ (`theta_unknown`)."
   ]
  },
  {
   "cell_type": "code",
   "execution_count": 16,
   "metadata": {
    "ExecuteTime": {
     "end_time": "2020-10-05T05:41:02.659690Z",
     "start_time": "2020-10-05T05:41:02.645014Z"
    }
   },
   "outputs": [],
   "source": [
    "theta0 = X0_test  # alphaS=0.1365\n",
    "theta_unknown = X1_test  # alphaS=0.160\n",
    "\n",
    "labels0 = np.zeros_like(theta0[:, 0, 0])\n",
    "labels_unknown = np.ones_like(theta_unknown[:, 0, 0])"
   ]
  },
  {
   "cell_type": "code",
   "execution_count": 17,
   "metadata": {
    "ExecuteTime": {
     "end_time": "2020-10-05T05:41:04.566418Z",
     "start_time": "2020-10-05T05:41:02.661851Z"
    }
   },
   "outputs": [],
   "source": [
    "xvals = np.concatenate((theta0, theta_unknown), axis=0)\n",
    "\n",
    "yvals = np.concatenate((labels0, labels_unknown), axis=0)"
   ]
  },
  {
   "cell_type": "code",
   "execution_count": 18,
   "metadata": {
    "ExecuteTime": {
     "end_time": "2020-10-05T05:41:06.213387Z",
     "start_time": "2020-10-05T05:41:04.569554Z"
    }
   },
   "outputs": [],
   "source": [
    "X_train, X_test, Y_train, Y_test = data_split(xvals,\n",
    "                                              yvals,\n",
    "                                              test=0.5,\n",
    "                                              shuffle=True)"
   ]
  },
  {
   "cell_type": "markdown",
   "metadata": {},
   "source": [
    "## Fitting Model: Scan\n",
    "\n",
    "We will show for fixed $\\theta$, the AUC is minimized when $\\theta=\\theta_?$."
   ]
  },
  {
   "cell_type": "markdown",
   "metadata": {},
   "source": [
    "### Creating Model"
   ]
  },
  {
   "cell_type": "code",
   "execution_count": 19,
   "metadata": {
    "ExecuteTime": {
     "end_time": "2020-10-05T05:41:06.554831Z",
     "start_time": "2020-10-05T05:41:06.217504Z"
    }
   },
   "outputs": [
    {
     "name": "stdout",
     "output_type": "stream",
     "text": [
      "__________________________________________________________________________________________________\n",
      "Layer (type)                    Output Shape         Param #     Connected to                     \n",
      "==================================================================================================\n",
      "input (InputLayer)              (None, None, 4)      0                                            \n",
      "__________________________________________________________________________________________________\n",
      "tdist_0 (TimeDistributed)       (None, None, 100)    500         input[0][0]                      \n",
      "__________________________________________________________________________________________________\n",
      "activation_8 (Activation)       (None, None, 100)    0           tdist_0[0][0]                    \n",
      "__________________________________________________________________________________________________\n",
      "tdist_1 (TimeDistributed)       (None, None, 100)    10100       activation_8[0][0]               \n",
      "__________________________________________________________________________________________________\n",
      "activation_9 (Activation)       (None, None, 100)    0           tdist_1[0][0]                    \n",
      "__________________________________________________________________________________________________\n",
      "tdist_2 (TimeDistributed)       (None, None, 128)    12928       activation_9[0][0]               \n",
      "__________________________________________________________________________________________________\n",
      "mask (Lambda)                   (None, None)         0           input[0][0]                      \n",
      "__________________________________________________________________________________________________\n",
      "activation_10 (Activation)      (None, None, 128)    0           tdist_2[0][0]                    \n",
      "__________________________________________________________________________________________________\n",
      "sum (Dot)                       (None, 128)          0           mask[0][0]                       \n",
      "                                                                 activation_10[0][0]              \n",
      "__________________________________________________________________________________________________\n",
      "dense_0 (Dense)                 (None, 100)          12900       sum[0][0]                        \n",
      "__________________________________________________________________________________________________\n",
      "activation_11 (Activation)      (None, 100)          0           dense_0[0][0]                    \n",
      "__________________________________________________________________________________________________\n",
      "dense_1 (Dense)                 (None, 100)          10100       activation_11[0][0]              \n",
      "__________________________________________________________________________________________________\n",
      "activation_12 (Activation)      (None, 100)          0           dense_1[0][0]                    \n",
      "__________________________________________________________________________________________________\n",
      "dense_2 (Dense)                 (None, 100)          10100       activation_12[0][0]              \n",
      "__________________________________________________________________________________________________\n",
      "activation_13 (Activation)      (None, 100)          0           dense_2[0][0]                    \n",
      "__________________________________________________________________________________________________\n",
      "output (Dense)                  (None, 1)            101         activation_13[0][0]              \n",
      "__________________________________________________________________________________________________\n",
      "activation_14 (Activation)      (None, 1)            0           output[0][0]                     \n",
      "==================================================================================================\n",
      "Total params: 56,729\n",
      "Trainable params: 56,729\n",
      "Non-trainable params: 0\n",
      "__________________________________________________________________________________________________\n"
     ]
    }
   ],
   "source": [
    "model = PFN(input_dim=4,\n",
    "            Phi_sizes=Phi_sizes,\n",
    "            F_sizes=F_sizes,\n",
    "            output_dim=1,\n",
    "            output_act='sigmoid',\n",
    "            summary=True)\n",
    "\n",
    "batch_size = 1000\n",
    "earlystopping = EarlyStopping(patience=5, restore_best_weights=True)\n",
    "\n",
    "# scanning range for theta\n",
    "thetas = np.linspace(0.10, 0.18, 9)"
   ]
  },
  {
   "cell_type": "markdown",
   "metadata": {},
   "source": [
    "We will train this model with a weighted binary cross-entropy loss function:\n",
    "\n",
    "$\\text{loss}(g_{\\theta'}(x))=-\\sum_{x_i\\in\\boldsymbol{\\theta_?}}\\log(g_{\\theta'}(x_i))-\n",
    "    \\sum_{x_i\\in\\boldsymbol{\\theta_0}}w_{\\theta_0}(x_{i},\\theta')\\log(1-g_{\\theta'}(x_i))$"
   ]
  },
  {
   "cell_type": "markdown",
   "metadata": {},
   "source": [
    "### Scan with the Full Phase Space"
   ]
  },
  {
   "cell_type": "code",
   "execution_count": 20,
   "metadata": {
    "ExecuteTime": {
     "end_time": "2020-10-05T05:41:06.573792Z",
     "start_time": "2020-10-05T05:41:06.558156Z"
    }
   },
   "outputs": [],
   "source": [
    "def run_classifier(theta):\n",
    "\n",
    "    weights_train = np.ones(len(X_train))\n",
    "    weights_test = np.ones(len(X_test))\n",
    "\n",
    "    # calculate weights for events in theta_0, but leave ones for events in theta_?\n",
    "    weights_train[Y_train == 0] = reweight(events=X_train[Y_train == 0],\n",
    "                                           param=theta)\n",
    "    weights_test[Y_test == 0] = reweight(events=X_test[Y_test == 0],\n",
    "                                         param=theta)\n",
    "\n",
    "    model.model.compile(optimizer='adam',\n",
    "                        loss='binary_crossentropy',\n",
    "                        metrics=['accuracy'])\n",
    "\n",
    "    # fit model on weighted binary cross-entropy\n",
    "    history = model.fit(X_train,\n",
    "                        Y_train,\n",
    "                        epochs=200,\n",
    "                        batch_size=batch_size,\n",
    "                        validation_data=(X_test, Y_test, weights_test),\n",
    "                        sample_weight=weights_train,\n",
    "                        verbose=0,\n",
    "                        callbacks=[earlystopping])\n",
    "\n",
    "    # after training, calculate AUC between unknown sample and reweighted synthetic sample\n",
    "    auc = roc_auc_score(np.concatenate((Y_train, Y_test)),\n",
    "                        model.predict(np.concatenate((X_train, X_test)),\n",
    "                                      batch_size=100000),\n",
    "                        sample_weight=np.concatenate(\n",
    "                            (weights_train, weights_test)))\n",
    "\n",
    "    return auc"
   ]
  },
  {
   "cell_type": "code",
   "execution_count": 21,
   "metadata": {
    "ExecuteTime": {
     "end_time": "2020-10-05T07:43:42.522078Z",
     "start_time": "2020-10-05T05:41:06.578072Z"
    },
    "scrolled": true
   },
   "outputs": [
    {
     "name": "stdout",
     "output_type": "stream",
     "text": [
      "Testing theta = 0.10\n",
      "AUC: 0.73\n",
      "\n",
      "\n",
      "Testing theta = 0.11\n",
      "AUC: 0.71\n",
      "\n",
      "\n",
      "Testing theta = 0.12\n",
      "AUC: 0.68\n",
      "\n",
      "\n",
      "Testing theta = 0.13\n",
      "AUC: 0.65\n",
      "\n",
      "\n",
      "Testing theta = 0.14\n",
      "AUC: 0.60\n",
      "\n",
      "\n",
      "Testing theta = 0.15\n",
      "AUC: 0.56\n",
      "\n",
      "\n",
      "Testing theta = 0.16\n",
      "AUC: 0.52\n",
      "\n",
      "\n",
      "Testing theta = 0.17\n",
      "AUC: 0.54\n",
      "\n",
      "\n",
      "Testing theta = 0.18\n",
      "AUC: 0.57\n",
      "\n",
      "\n"
     ]
    }
   ],
   "source": [
    "AUC = []\n",
    "\n",
    "for theta in thetas:\n",
    "    print(\"Testing theta = {:.2f}\".format(theta))\n",
    "\n",
    "    auc = run_classifier(theta)\n",
    "    AUC += [auc]\n",
    "\n",
    "    print(\"AUC: {:.2f}\".format(auc))\n",
    "    print(\"\\n\")\n",
    "    pass"
   ]
  },
  {
   "cell_type": "code",
   "execution_count": 22,
   "metadata": {
    "ExecuteTime": {
     "end_time": "2020-10-05T07:43:42.870332Z",
     "start_time": "2020-10-05T07:43:42.526267Z"
    },
    "scrolled": true
   },
   "outputs": [
    {
     "data": {
      "image/png": "[encoded data removed]",
      "text/plain": [
       "<Figure size 432x360 with 1 Axes>"
      ]
     },
     "metadata": {
      "needs_background": "light"
     },
     "output_type": "display_data"
    }
   ],
   "source": [
    "plt.figure(figsize=(6, 5))\n",
    "plt.plot(thetas, AUC)\n",
    "plt.xlabel(r'$\\alpha_S$')\n",
    "plt.ylabel('AUC')\n",
    "plt.show()"
   ]
  },
  {
   "cell_type": "markdown",
   "metadata": {},
   "source": [
    "We've shown for fixed $\\theta$, the AUC is minimized $\\theta=\\theta_?$ when scanning with the full phase space."
   ]
  },
  {
   "cell_type": "markdown",
   "metadata": {},
   "source": [
    "## Comparison to Fitting on Multiplicity only\n",
    "\n",
    "Let's compare fitting on the entire phase space to fitting only on multiplicity.  "
   ]
  },
  {
   "cell_type": "code",
   "execution_count": 23,
   "metadata": {
    "ExecuteTime": {
     "end_time": "2020-10-05T07:43:42.892894Z",
     "start_time": "2020-10-05T07:43:42.882559Z"
    }
   },
   "outputs": [
    {
     "name": "stdout",
     "output_type": "stream",
     "text": [
      "WARNING:tensorflow:From /home/asuresh/.local/lib/python3.5/site-packages/keras/backend/tensorflow_backend.py:95: The name tf.reset_default_graph is deprecated. Please use tf.compat.v1.reset_default_graph instead.\n",
      "\n",
      "WARNING:tensorflow:From /home/asuresh/.local/lib/python3.5/site-packages/keras/backend/tensorflow_backend.py:98: The name tf.placeholder_with_default is deprecated. Please use tf.compat.v1.placeholder_with_default instead.\n",
      "\n"
     ]
    }
   ],
   "source": [
    "K.clear_session()"
   ]
  },
  {
   "cell_type": "markdown",
   "metadata": {},
   "source": [
    "### Training a DCTR Model\n",
    "First, we need to train a DCTR model parameterized by $\\alpha_S$ that only receives multiplicity as an input to provide us with a reweighting function to be used during fitting."
   ]
  },
  {
   "cell_type": "markdown",
   "metadata": {
    "ExecuteTime": {
     "end_time": "2020-09-30T18:56:22.230538Z",
     "start_time": "2020-09-30T18:56:22.214191Z"
    }
   },
   "source": [
    "#### Generate training & validation data"
   ]
  },
  {
   "cell_type": "code",
   "execution_count": 24,
   "metadata": {
    "ExecuteTime": {
     "end_time": "2020-10-05T07:44:23.263722Z",
     "start_time": "2020-10-05T07:43:42.895329Z"
    }
   },
   "outputs": [],
   "source": [
    "X_mult = []\n",
    "\n",
    "for jet in X:\n",
    "    pTs = jet[:, 0]\n",
    "    alphaS = jet[0][4]\n",
    "    multiplicity = np.sum(pTs != 0)\n",
    "    X_mult.append([multiplicity, alphaS])\n",
    "\n",
    "X_mult = np.array(X_mult)"
   ]
  },
  {
   "cell_type": "code",
   "execution_count": 25,
   "metadata": {
    "ExecuteTime": {
     "end_time": "2020-10-05T07:44:23.860147Z",
     "start_time": "2020-10-05T07:44:23.267515Z"
    }
   },
   "outputs": [],
   "source": [
    "X_train, X_val, Y_train, Y_val = data_split(X_mult, Y, test=0.2, shuffle=True)"
   ]
  },
  {
   "cell_type": "markdown",
   "metadata": {},
   "source": [
    "#### Build Model"
   ]
  },
  {
   "cell_type": "code",
   "execution_count": 26,
   "metadata": {
    "ExecuteTime": {
     "end_time": "2020-10-05T07:44:24.035498Z",
     "start_time": "2020-10-05T07:44:23.862974Z"
    }
   },
   "outputs": [],
   "source": [
    "inputs = Input((2, ))\n",
    "hidden_layer_1 = Dense(50, activation='relu')(inputs)\n",
    "hidden_layer_2 = Dense(50, activation='relu')(hidden_layer_1)\n",
    "hidden_layer_3 = Dense(50, activation='relu')(hidden_layer_2)\n",
    "\n",
    "outputs = Dense(2, activation='softmax')(hidden_layer_3)\n",
    "\n",
    "dctr = Model(inputs=inputs, outputs=outputs)\n",
    "dctr.compile(loss='categorical_crossentropy', optimizer='Adam')"
   ]
  },
  {
   "cell_type": "markdown",
   "metadata": {},
   "source": [
    "#### Train Model"
   ]
  },
  {
   "cell_type": "code",
   "execution_count": 27,
   "metadata": {
    "ExecuteTime": {
     "end_time": "2020-10-05T07:48:20.609508Z",
     "start_time": "2020-10-05T07:44:24.037174Z"
    }
   },
   "outputs": [
    {
     "name": "stdout",
     "output_type": "stream",
     "text": [
      "Train on 1440000 samples, validate on 360000 samples\n",
      "Epoch 1/200\n",
      "1440000/1440000 [==============================] - 4s 3us/step - loss: 0.7047 - val_loss: 0.6927\n",
      "Epoch 2/200\n",
      "1440000/1440000 [==============================] - 4s 2us/step - loss: 0.6925 - val_loss: 0.6925\n",
      "Epoch 3/200\n",
      "1440000/1440000 [==============================] - 4s 2us/step - loss: 0.6925 - val_loss: 0.6926\n",
      "Epoch 4/200\n",
      "1440000/1440000 [==============================] - 4s 2us/step - loss: 0.6924 - val_loss: 0.6924\n",
      "Epoch 5/200\n",
      "1440000/1440000 [==============================] - 4s 2us/step - loss: 0.6922 - val_loss: 0.6921\n",
      "Epoch 6/200\n",
      "1440000/1440000 [==============================] - 4s 2us/step - loss: 0.6921 - val_loss: 0.6920\n",
      "Epoch 7/200\n",
      "1440000/1440000 [==============================] - 4s 2us/step - loss: 0.6918 - val_loss: 0.6914\n",
      "Epoch 8/200\n",
      "1440000/1440000 [==============================] - 3s 2us/step - loss: 0.6911 - val_loss: 0.6903\n",
      "Epoch 9/200\n",
      "1440000/1440000 [==============================] - 4s 2us/step - loss: 0.6903 - val_loss: 0.6896\n",
      "Epoch 10/200\n",
      "1440000/1440000 [==============================] - 4s 2us/step - loss: 0.6893 - val_loss: 0.6889\n",
      "Epoch 11/200\n",
      "1440000/1440000 [==============================] - 4s 2us/step - loss: 0.6890 - val_loss: 0.6894\n",
      "Epoch 12/200\n",
      "1440000/1440000 [==============================] - 4s 2us/step - loss: 0.6887 - val_loss: 0.6888\n",
      "Epoch 13/200\n",
      "1440000/1440000 [==============================] - 3s 2us/step - loss: 0.6885 - val_loss: 0.6881\n",
      "Epoch 14/200\n",
      "1440000/1440000 [==============================] - 4s 2us/step - loss: 0.6884 - val_loss: 0.6889\n",
      "Epoch 15/200\n",
      "1440000/1440000 [==============================] - 3s 2us/step - loss: 0.6884 - val_loss: 0.6882\n",
      "Epoch 16/200\n",
      "1440000/1440000 [==============================] - 4s 2us/step - loss: 0.6880 - val_loss: 0.6876\n",
      "Epoch 17/200\n",
      "1440000/1440000 [==============================] - 4s 2us/step - loss: 0.6878 - val_loss: 0.6874\n",
      "Epoch 18/200\n",
      "1440000/1440000 [==============================] - 4s 2us/step - loss: 0.6875 - val_loss: 0.6883\n",
      "Epoch 19/200\n",
      "1440000/1440000 [==============================] - 3s 2us/step - loss: 0.6874 - val_loss: 0.6870\n",
      "Epoch 20/200\n",
      "1440000/1440000 [==============================] - 4s 2us/step - loss: 0.6871 - val_loss: 0.6869\n",
      "Epoch 21/200\n",
      "1440000/1440000 [==============================] - 3s 2us/step - loss: 0.6866 - val_loss: 0.6859\n",
      "Epoch 22/200\n",
      "1440000/1440000 [==============================] - 3s 2us/step - loss: 0.6864 - val_loss: 0.6859\n",
      "Epoch 23/200\n",
      "1440000/1440000 [==============================] - 3s 2us/step - loss: 0.6861 - val_loss: 0.6854\n",
      "Epoch 24/200\n",
      "1440000/1440000 [==============================] - 3s 2us/step - loss: 0.6859 - val_loss: 0.6853\n",
      "Epoch 25/200\n",
      "1440000/1440000 [==============================] - 4s 2us/step - loss: 0.6857 - val_loss: 0.6868\n",
      "Epoch 26/200\n",
      "1440000/1440000 [==============================] - 3s 2us/step - loss: 0.6858 - val_loss: 0.6856\n",
      "Epoch 27/200\n",
      "1440000/1440000 [==============================] - 3s 2us/step - loss: 0.6856 - val_loss: 0.6851\n",
      "Epoch 28/200\n",
      "1440000/1440000 [==============================] - 4s 2us/step - loss: 0.6857 - val_loss: 0.6865\n",
      "Epoch 29/200\n",
      "1440000/1440000 [==============================] - 3s 2us/step - loss: 0.6853 - val_loss: 0.6863\n",
      "Epoch 30/200\n",
      "1440000/1440000 [==============================] - 4s 2us/step - loss: 0.6851 - val_loss: 0.6851\n",
      "Epoch 31/200\n",
      "1440000/1440000 [==============================] - 4s 2us/step - loss: 0.6852 - val_loss: 0.6850\n",
      "Epoch 32/200\n",
      "1440000/1440000 [==============================] - 4s 2us/step - loss: 0.6850 - val_loss: 0.6844\n",
      "Epoch 33/200\n",
      "1440000/1440000 [==============================] - 3s 2us/step - loss: 0.6849 - val_loss: 0.6850\n",
      "Epoch 34/200\n",
      "1440000/1440000 [==============================] - 3s 2us/step - loss: 0.6850 - val_loss: 0.6843\n",
      "Epoch 35/200\n",
      "1440000/1440000 [==============================] - 3s 2us/step - loss: 0.6848 - val_loss: 0.6848\n",
      "Epoch 36/200\n",
      "1440000/1440000 [==============================] - 4s 2us/step - loss: 0.6849 - val_loss: 0.6844\n",
      "Epoch 37/200\n",
      "1440000/1440000 [==============================] - 4s 2us/step - loss: 0.6847 - val_loss: 0.6856\n",
      "Epoch 38/200\n",
      "1440000/1440000 [==============================] - 4s 2us/step - loss: 0.6849 - val_loss: 0.6857\n",
      "Epoch 39/200\n",
      "1440000/1440000 [==============================] - 4s 2us/step - loss: 0.6846 - val_loss: 0.6841\n",
      "Epoch 40/200\n",
      "1440000/1440000 [==============================] - 4s 2us/step - loss: 0.6845 - val_loss: 0.6842\n",
      "Epoch 41/200\n",
      "1440000/1440000 [==============================] - 3s 2us/step - loss: 0.6848 - val_loss: 0.6854\n",
      "Epoch 42/200\n",
      "1440000/1440000 [==============================] - 4s 2us/step - loss: 0.6850 - val_loss: 0.6842\n",
      "Epoch 43/200\n",
      "1440000/1440000 [==============================] - 4s 2us/step - loss: 0.6847 - val_loss: 0.6844\n",
      "Epoch 44/200\n",
      "1440000/1440000 [==============================] - 4s 2us/step - loss: 0.6848 - val_loss: 0.6865\n",
      "Epoch 45/200\n",
      "1440000/1440000 [==============================] - 4s 3us/step - loss: 0.6845 - val_loss: 0.6853\n",
      "Epoch 46/200\n",
      "1440000/1440000 [==============================] - 4s 2us/step - loss: 0.6847 - val_loss: 0.6841\n",
      "Epoch 47/200\n",
      "1440000/1440000 [==============================] - 4s 3us/step - loss: 0.6845 - val_loss: 0.6850\n",
      "Epoch 48/200\n",
      "1440000/1440000 [==============================] - 4s 3us/step - loss: 0.6846 - val_loss: 0.6847\n",
      "Epoch 49/200\n",
      "1440000/1440000 [==============================] - 4s 3us/step - loss: 0.6847 - val_loss: 0.6841\n",
      "Epoch 50/200\n",
      "1440000/1440000 [==============================] - 4s 2us/step - loss: 0.6847 - val_loss: 0.6845\n",
      "Epoch 51/200\n",
      "1440000/1440000 [==============================] - 3s 2us/step - loss: 0.6845 - val_loss: 0.6841\n",
      "Epoch 52/200\n",
      "1440000/1440000 [==============================] - 3s 2us/step - loss: 0.6846 - val_loss: 0.6843\n",
      "Epoch 53/200\n",
      "1440000/1440000 [==============================] - 3s 2us/step - loss: 0.6845 - val_loss: 0.6842\n",
      "Epoch 54/200\n",
      "1440000/1440000 [==============================] - 4s 2us/step - loss: 0.6843 - val_loss: 0.6840\n",
      "Epoch 55/200\n",
      "1440000/1440000 [==============================] - 4s 2us/step - loss: 0.6844 - val_loss: 0.6847\n",
      "Epoch 56/200\n",
      "1440000/1440000 [==============================] - 3s 2us/step - loss: 0.6845 - val_loss: 0.6841\n",
      "Epoch 57/200\n",
      "1440000/1440000 [==============================] - 4s 2us/step - loss: 0.6844 - val_loss: 0.6839\n",
      "Epoch 58/200\n",
      "1440000/1440000 [==============================] - 4s 2us/step - loss: 0.6844 - val_loss: 0.6842\n",
      "Epoch 59/200\n",
      "1440000/1440000 [==============================] - 4s 2us/step - loss: 0.6843 - val_loss: 0.6841\n",
      "Epoch 60/200\n",
      "1440000/1440000 [==============================] - 4s 2us/step - loss: 0.6845 - val_loss: 0.6844\n",
      "Epoch 61/200\n",
      "1440000/1440000 [==============================] - 4s 2us/step - loss: 0.6844 - val_loss: 0.6845\n",
      "Epoch 62/200\n",
      "1440000/1440000 [==============================] - 3s 2us/step - loss: 0.6843 - val_loss: 0.6841\n",
      "Epoch 63/200\n",
      "1440000/1440000 [==============================] - 4s 2us/step - loss: 0.6843 - val_loss: 0.6847\n",
      "Epoch 64/200\n",
      "1440000/1440000 [==============================] - 4s 2us/step - loss: 0.6843 - val_loss: 0.6840\n",
      "Epoch 65/200\n",
      "1440000/1440000 [==============================] - 3s 2us/step - loss: 0.6846 - val_loss: 0.6844\n",
      "Epoch 66/200\n",
      "1440000/1440000 [==============================] - 4s 2us/step - loss: 0.6843 - val_loss: 0.6840\n",
      "Epoch 67/200\n",
      "1440000/1440000 [==============================] - 3s 2us/step - loss: 0.6843 - val_loss: 0.6839\n",
      "Restoring model weights from the end of the best epoch\n",
      "Epoch 00067: early stopping\n"
     ]
    },
    {
     "data": {
      "text/plain": [
       "<keras.callbacks.History at 0x7f31cef48dd8>"
      ]
     },
     "execution_count": 27,
     "metadata": {},
     "output_type": "execute_result"
    }
   ],
   "source": [
    "earlystopping = EarlyStopping(patience=10,\n",
    "                              restore_best_weights=True,\n",
    "                              verbose=1)\n",
    "dctr.fit(X_train,\n",
    "         Y_train,\n",
    "         epochs=200,\n",
    "         batch_size=10000,\n",
    "         validation_data=(X_val, Y_val),\n",
    "         verbose=1,\n",
    "         callbacks=[earlystopping])"
   ]
  },
  {
   "cell_type": "markdown",
   "metadata": {},
   "source": [
    "#### Defining reweighting function\n",
    "\n",
    "$w_{\\theta_0}(x_i,\\theta)=\\frac{f(x_i,\\theta)}{1-f(x_i,\\theta)}$, where $f$  is a fully trained DCTR model.\n",
    "\n",
    "Takes generator-level event $x_i$ from the synthetic sample $\\boldsymbol{\\theta_0}$ and weights it to an event from $\\boldsymbol{\\theta}$."
   ]
  },
  {
   "cell_type": "code",
   "execution_count": 28,
   "metadata": {
    "ExecuteTime": {
     "end_time": "2020-10-05T07:48:20.623007Z",
     "start_time": "2020-10-05T07:48:20.612805Z"
    }
   },
   "outputs": [],
   "source": [
    "def reweight(events, param):\n",
    "    concat_input_and_params = np.ones(shape=events.shape) * param\n",
    "    model_inputs = np.concatenate((events, concat_input_and_params), axis=-1)\n",
    "\n",
    "    f = dctr.predict(model_inputs, batch_size=10000)\n",
    "    weights = (f[:, 1]) / (f[:, 0])\n",
    "\n",
    "    return weights"
   ]
  },
  {
   "cell_type": "markdown",
   "metadata": {},
   "source": [
    "### Fitting"
   ]
  },
  {
   "cell_type": "markdown",
   "metadata": {},
   "source": [
    "#### Setup the Dataset"
   ]
  },
  {
   "cell_type": "code",
   "execution_count": 29,
   "metadata": {
    "ExecuteTime": {
     "end_time": "2020-10-05T07:48:20.956004Z",
     "start_time": "2020-10-05T07:48:20.624829Z"
    }
   },
   "outputs": [],
   "source": [
    "theta0 = test_dataset_0['multiplicity']\n",
    "theta_unknown = test_dataset_1['multiplicity']\n",
    "\n",
    "labels0 = np.zeros(len(theta0))\n",
    "labels_unknown = np.ones(len(theta_unknown))\n",
    "\n",
    "xvals = np.concatenate([theta0, theta_unknown])\n",
    "yvals = np.concatenate([labels0, labels_unknown])\n",
    "\n",
    "X_train, X_test, y_train, y_test = data_split(xvals,\n",
    "                                              yvals,\n",
    "                                              test=0.5,\n",
    "                                              shuffle=True)"
   ]
  },
  {
   "cell_type": "markdown",
   "metadata": {},
   "source": [
    "#### Fitting Model: Scan"
   ]
  },
  {
   "cell_type": "markdown",
   "metadata": {},
   "source": [
    "##### Creating Model"
   ]
  },
  {
   "cell_type": "code",
   "execution_count": 30,
   "metadata": {
    "ExecuteTime": {
     "end_time": "2020-10-05T07:48:21.054666Z",
     "start_time": "2020-10-05T07:48:20.958469Z"
    }
   },
   "outputs": [
    {
     "name": "stdout",
     "output_type": "stream",
     "text": [
      "_________________________________________________________________\n",
      "Layer (type)                 Output Shape              Param #   \n",
      "=================================================================\n",
      "input_2 (InputLayer)         (None, 1)                 0         \n",
      "_________________________________________________________________\n",
      "dense_5 (Dense)              (None, 128)               256       \n",
      "_________________________________________________________________\n",
      "dense_6 (Dense)              (None, 128)               16512     \n",
      "_________________________________________________________________\n",
      "dense_7 (Dense)              (None, 1)                 129       \n",
      "=================================================================\n",
      "Total params: 16,897\n",
      "Trainable params: 16,897\n",
      "Non-trainable params: 0\n",
      "_________________________________________________________________\n"
     ]
    }
   ],
   "source": [
    "myinputs = Input(shape=(1, ), dtype=tf.float32)\n",
    "x = Dense(128, activation='relu')(myinputs)\n",
    "x2 = Dense(128, activation='relu')(x)\n",
    "predictions = Dense(1, activation='sigmoid')(x2)\n",
    "\n",
    "model = Model(inputs=myinputs, outputs=predictions)\n",
    "model.summary()\n",
    "\n",
    "batch_size = 1000\n",
    "earlystopping = EarlyStopping(patience=10, restore_best_weights=True)"
   ]
  },
  {
   "cell_type": "markdown",
   "metadata": {},
   "source": [
    "##### Scan with Multiplicity only"
   ]
  },
  {
   "cell_type": "markdown",
   "metadata": {},
   "source": [
    "Again, we will train this model with a weighted binary cross-entropy loss function:\n",
    "\n",
    "$\\text{loss}(g_{\\theta'}(x))=-\\sum_{x_i\\in\\boldsymbol{\\theta_?}}\\log(g_{\\theta'}(x_i))-\n",
    "    \\sum_{x_i\\in\\boldsymbol{\\theta_0}}w_{\\theta_0}(x_{i},\\theta')\\log(1-g_{\\theta'}(x_i))$"
   ]
  },
  {
   "cell_type": "code",
   "execution_count": 31,
   "metadata": {
    "ExecuteTime": {
     "end_time": "2020-10-05T07:48:21.071827Z",
     "start_time": "2020-10-05T07:48:21.057615Z"
    }
   },
   "outputs": [],
   "source": [
    "def run_classifier(theta):\n",
    "\n",
    "    weights_train = np.ones(len(X_train))\n",
    "    weights_test = np.ones(len(X_test))\n",
    "\n",
    "    # calculate weights for events in theta_0, but leave ones for events in theta_?\n",
    "    weights_train[y_train == 0] = reweight(\n",
    "        np.expand_dims(X_train[y_train == 0], axis=-1), theta)\n",
    "    weights_test[y_test == 0] = reweight(\n",
    "        np.expand_dims(X_test[y_test == 0], axis=-1), theta)\n",
    "\n",
    "    model.compile(optimizer='adam',\n",
    "                  loss='binary_crossentropy',\n",
    "                  metrics=['accuracy'])\n",
    "    # fit model on weighted binary cross-entropy\n",
    "    history = model.fit(X_train,\n",
    "                        y_train,\n",
    "                        sample_weight=weights_train,\n",
    "                        epochs=200,\n",
    "                        batch_size=batch_size,\n",
    "                        validation_data=(X_test, y_test, weights_test),\n",
    "                        verbose=0,\n",
    "                        callbacks=[earlystopping])\n",
    "\n",
    "    # after training, calculate AUC between unknown sample and reweighted synthetic sample\n",
    "    auc = roc_auc_score(np.concatenate((y_train, y_test)),\n",
    "                        model.predict(np.concatenate((X_train, X_test)),\n",
    "                                      batch_size=10000),\n",
    "                        sample_weight=np.concatenate(\n",
    "                            (weights_train, weights_test)))\n",
    "\n",
    "    return auc"
   ]
  },
  {
   "cell_type": "code",
   "execution_count": 32,
   "metadata": {
    "ExecuteTime": {
     "end_time": "2020-10-05T08:12:33.191132Z",
     "start_time": "2020-10-05T07:48:21.075443Z"
    },
    "scrolled": true
   },
   "outputs": [
    {
     "name": "stdout",
     "output_type": "stream",
     "text": [
      "Testing theta = 0.10\n",
      "AUC: 0.68\n",
      "\n",
      "\n",
      "Testing theta = 0.11\n",
      "AUC: 0.66\n",
      "\n",
      "\n",
      "Testing theta = 0.12\n",
      "AUC: 0.64\n",
      "\n",
      "\n",
      "Testing theta = 0.13\n",
      "AUC: 0.61\n",
      "\n",
      "\n",
      "Testing theta = 0.14\n",
      "AUC: 0.57\n",
      "\n",
      "\n",
      "Testing theta = 0.15\n",
      "AUC: 0.54\n",
      "\n",
      "\n",
      "Testing theta = 0.16\n",
      "AUC: 0.51\n",
      "\n",
      "\n",
      "Testing theta = 0.17\n",
      "AUC: 0.53\n",
      "\n",
      "\n",
      "Testing theta = 0.18\n",
      "AUC: 0.55\n",
      "\n",
      "\n"
     ]
    }
   ],
   "source": [
    "AUC_mult = []\n",
    "\n",
    "for theta in thetas:\n",
    "    print(\"Testing theta = {:.2f}\".format(theta))\n",
    "\n",
    "    auc = run_classifier(theta)\n",
    "    AUC_mult += [auc]\n",
    "\n",
    "    print(\"AUC: {:.2f}\".format(auc))\n",
    "    print(\"\\n\")\n",
    "    pass"
   ]
  },
  {
   "cell_type": "markdown",
   "metadata": {},
   "source": [
    "##### Scan Results"
   ]
  },
  {
   "cell_type": "code",
   "execution_count": 33,
   "metadata": {
    "ExecuteTime": {
     "end_time": "2020-10-05T08:12:33.609148Z",
     "start_time": "2020-10-05T08:12:33.193626Z"
    },
    "scrolled": true
   },
   "outputs": [
    {
     "data": {
      "image/png": "[encoded data removed]",
      "text/plain": [
       "<Figure size 432x360 with 1 Axes>"
      ]
     },
     "metadata": {
      "needs_background": "light"
     },
     "output_type": "display_data"
    }
   ],
   "source": [
    "plt.figure(figsize=(6, 5))\n",
    "plt.plot(thetas, (AUC - min(AUC)), label=\"Fit on Full Phase Space\")\n",
    "plt.plot(thetas, (AUC_mult - min(AUC_mult)), label=\"Fit on Multiplicity\")\n",
    "plt.xlabel(r'$\\alpha_S$')\n",
    "plt.ylabel(r'$\\textnormal{AUC} - \\min{\\textnormal{(AUC)}}$')\n",
    "plt.legend(frameon=False)\n",
    "plt.show()"
   ]
  },
  {
   "cell_type": "markdown",
   "metadata": {},
   "source": [
    "Even when scanning only on multiplicity, a simple one dimensional feature, we've shown for fixed $\\theta$, the AUC is minimized $\\theta=\\theta_?$. Note that the rise in the AUC function away from the minimum is steeper when scanning with the full phase space compared to when scanning with only multiplicity, as expected given the increase in statistical power offered by the full phase space."
   ]
  }
 ],
 "metadata": {
  "kernelspec": {
   "display_name": "Python 3",
   "language": "python",
   "name": "python3"
  },
  "language_info": {
   "codemirror_mode": {
    "name": "ipython",
    "version": 3
   },
   "file_extension": ".py",
   "mimetype": "text/x-python",
   "name": "python",
   "nbconvert_exporter": "python",
   "pygments_lexer": "ipython3",
   "version": "3.5.2"
  },
  "notify_time": "0",
  "toc": {
   "base_numbering": 1,
   "nav_menu": {},
   "number_sections": false,
   "sideBar": true,
   "skip_h1_title": false,
   "title_cell": "Table of Contents",
   "title_sidebar": "Contents",
   "toc_cell": false,
   "toc_position": {
    "height": "calc(100% - 180px)",
    "left": "10px",
    "top": "150px",
    "width": "285px"
   },
   "toc_section_display": true,
   "toc_window_display": false
  },
  "varInspector": {
   "cols": {
    "lenName": 16,
    "lenType": 16,
    "lenVar": 40
   },
   "kernels_config": {
    "python": {
     "delete_cmd_postfix": "",
     "delete_cmd_prefix": "del ",
     "library": "var_list.py",
     "varRefreshCmd": "print(var_dic_list())"
    },
    "r": {
     "delete_cmd_postfix": ") ",
     "delete_cmd_prefix": "rm(",
     "library": "var_list.r",
     "varRefreshCmd": "cat(var_dic_list()) "
    }
   },
   "types_to_exclude": [
    "module",
    "function",
    "builtin_function_or_method",
    "instance",
    "_Feature"
   ],
   "window_display": false
  }
 },
 "nbformat": 4,
 "nbformat_minor": 2
}
